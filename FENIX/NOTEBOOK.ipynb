{
 "cells": [
  {
   "cell_type": "code",
   "execution_count": 3,
   "id": "2d7ba37d",
   "metadata": {},
   "outputs": [
    {
     "name": "stdout",
     "output_type": "stream",
     "text": [
      "AUDIOUSDT - Return [%]: -10.17% - # Trades: 14 - Profit Factor: 0.0996444702559628 - Win Rate [%]: 35.714285714285715\n"
     ]
    }
   ],
   "source": [
    "###################################### ESTRATEGIA BB\n",
    "###################################################################################################################\n",
    "import modulos as md\n",
    "import numpy as np\n",
    "import constantes as cons\n",
    "import os\n",
    "import sys\n",
    "\n",
    "lista_filtrada = []\n",
    "#lista=md.lista_de_monedas ()\n",
    "#lista=md.filtradodemonedas ()\n",
    "lista=['LINKUSDT',\n",
    " 'LTCUSDT',\n",
    " 'BCHUSDT',\n",
    " 'WLDUSDT',\n",
    " 'IDUSDT',\n",
    " 'HBARUSDT',\n",
    " 'API3USDT',\n",
    " 'BNBUSDT',\n",
    " 'C98USDT',\n",
    " '1000SHIBUSDT',\n",
    " 'STXUSDT',\n",
    " 'LPTUSDT',\n",
    " 'XLMUSDT',\n",
    " 'CRVUSDT',\n",
    " 'MKRUSDT',\n",
    " 'ALGOUSDT',\n",
    " 'HIGHUSDT',\n",
    " 'COMPUSDT',\n",
    " 'DOGEUSDT',\n",
    " 'XRPUSDT',\n",
    " 'OPUSDT',\n",
    " 'ARBUSDT',\n",
    " 'AUDIOUSDT',\n",
    " '1000PEPEUSDT',\n",
    " 'MATICUSDT',\n",
    " 'APEUSDT',\n",
    " 'SOLUSDT',\n",
    " 'TOMOUSDT',\n",
    " 'EOSUSDT',\n",
    " 'ADAUSDT',\n",
    " 'SUIUSDT',\n",
    " 'YGGUSDT',\n",
    " 'DODOXUSDT']\n",
    "\n",
    "#lista=['AUDIOUSDT']\n",
    "\n",
    "for symbol in lista:    \n",
    "    try:\n",
    "        data,porcentajeentrada = md.estrategia_santa(symbol,tp_flag = True)\n",
    "        #data = md.estrategia_triangulos(symbol, tp_flag = True, print_lines_flag = True)\n",
    "        #######################################################################\n",
    "        #resultado = md.backtesting(data, plot_flag = True)\n",
    "        resultado = md.backtestingsanta(data, plot_flag = False)\n",
    "        if resultado['Return [%]'] >= 0:# and resultado['# Trades']!=0 :\n",
    "            #if ((resultado['Profit Factor'] > 2 or np.isnan(resultado['Profit Factor'])) and (resultado['Return [%]']/resultado['# Trades']) >=0.33):            \n",
    "                lista_filtrada.append(symbol)\n",
    "        print(f\"{symbol} - Return [%]: {md.truncate(resultado['Return [%]'],2)}% - # Trades: {resultado['# Trades']} - Profit Factor: {resultado['Profit Factor']} - Win Rate [%]: {resultado['Win Rate [%]']}\")\n",
    "    except Exception as falla:\n",
    "        _, _, exc_tb = sys.exc_info()\n",
    "        fname = os.path.split(exc_tb.tb_frame.f_code.co_filename)[1]\n",
    "        print(\"\\nError: \"+str(falla)+\" - line: \"+str(exc_tb.tb_lineno)+\" - file: \"+str(fname)+\"\\n\")\n",
    "for symbol in lista_filtrada:\n",
    "    md.printandlog(cons.nombrelog,symbol,pal=1)\n",
    "#md.dibuja_patrones_triangulos (data,998)    \n"
   ]
  },
  {
   "cell_type": "code",
   "execution_count": null,
   "id": "777d2e3e",
   "metadata": {},
   "outputs": [],
   "source": [
    "data,porcentajeentrada = md.estrategia_santa(symbol,tp_flag = True)\n",
    "        #data = md.estrategia_triangulos(symbol, tp_flag = True, print_lines_flag = True)\n",
    "        #######################################################################\n",
    "        #resultado = md.backtesting(data, plot_flag = True)\n",
    "        resultado = md.backtestingsanta(data, plot_flag = False)\n",
    "        if resultado['Return [%]'] >= 0:# and resultado['# Trades']!=0 :\n",
    "            #if ((resultado['Profit Factor'] > 2 or np.isnan(resultado['Profit Factor'])) and (resultado['Return [%]']/resultado['# Trades']) >=0.33):            \n",
    "                lista_filtrada.append(symbol)\n",
    "        print(f\"{symbol} - Return [%]: {md.truncate(resultado['Return [%]'],2)}% - # Trades: {resultado['# Trades']} - Profit Factor: {resultado['Profit Factor']} - Win Rate [%]: {resultado['Win Rate [%]']}\")\n",
    "    except Exception as falla:\n",
    "        _, _, exc_tb = sys.exc_info()\n",
    "        fname = os.path.split(exc_tb.tb_frame.f_code.co_filename)[1]\n",
    "        print(\"\\nError: \"+str(falla)+\" - line: \"+str(exc_tb.tb_lineno)+\" - file: \"+str(fname)+\"\\n\")\n",
    "for symbol in lista_filtrada:\n",
    "    md.printandlog(cons.nombrelog,symbol,pal=1)\n",
    "#md.dibuja_patrones_triangulos (data,998)    \n"
   ]
  },
  {
   "cell_type": "code",
   "execution_count": 2,
   "id": "f7421743",
   "metadata": {},
   "outputs": [
    {
     "ename": "UnboundLocalError",
     "evalue": "local variable 'data' referenced before assignment",
     "output_type": "error",
     "traceback": [
      "\u001b[1;31m---------------------------------------------------------------------------\u001b[0m",
      "\u001b[1;31mUnboundLocalError\u001b[0m                         Traceback (most recent call last)",
      "Cell \u001b[1;32mIn[2], line 1\u001b[0m\n\u001b[1;32m----> 1\u001b[0m data,porcentajeentrada \u001b[39m=\u001b[39m md\u001b[39m.\u001b[39;49mestrategia_santa(symbol,tp_flag \u001b[39m=\u001b[39;49m \u001b[39mTrue\u001b[39;49;00m)\n",
      "File \u001b[1;32mc:\\LUCHO\\personal\\repopersonal\\luchocrypto\\FENIX\\modulos.py:573\u001b[0m, in \u001b[0;36mestrategia_santa\u001b[1;34m(symbol, tp_flag)\u001b[0m\n\u001b[0;32m    571\u001b[0m porc_bajo \u001b[39m=\u001b[39m \u001b[39m5\u001b[39m\n\u001b[0;32m    572\u001b[0m \u001b[39m## variacion de btc aprox\u001b[39;00m\n\u001b[1;32m--> 573\u001b[0m data \u001b[39m=\u001b[39m obtiene_historial(symbol,timeframe)\n\u001b[0;32m    574\u001b[0m \u001b[39m#btc_data = obtiene_historial(\"BTCUSDT\",timeframe)\u001b[39;00m\n\u001b[0;32m    575\u001b[0m \u001b[39m#data['variacion_btc'] = ((btc_data['High'].rolling(ventana).max()/btc_data['Low'].rolling(ventana).min())-1)*100 # aprox\u001b[39;00m\n\u001b[0;32m    576\u001b[0m \u001b[39m#variacion de symbol\u001b[39;00m\n\u001b[0;32m    577\u001b[0m data[\u001b[39m'\u001b[39m\u001b[39mmaximo\u001b[39m\u001b[39m'\u001b[39m] \u001b[39m=\u001b[39m data[\u001b[39m'\u001b[39m\u001b[39mHigh\u001b[39m\u001b[39m'\u001b[39m]\u001b[39m.\u001b[39mrolling(ventana)\u001b[39m.\u001b[39mmax()\n",
      "File \u001b[1;32mc:\\LUCHO\\personal\\repopersonal\\luchocrypto\\FENIX\\modulos.py:248\u001b[0m, in \u001b[0;36mobtiene_historial\u001b[1;34m(symbol, timeframe)\u001b[0m\n\u001b[0;32m    246\u001b[0m         \u001b[39mprint\u001b[39m(\u001b[39mf\u001b[39m\u001b[39m\"\u001b[39m\u001b[39mError leyendo historial \u001b[39m\u001b[39m{\u001b[39;00msymbol\u001b[39m}\u001b[39;00m\u001b[39m. Intento otra vez. Falla \u001b[39m\u001b[39m{\u001b[39;00mfalla\u001b[39m}\u001b[39;00m\u001b[39m \u001b[39m\u001b[39m\\n\u001b[39;00m\u001b[39m\"\u001b[39m)\n\u001b[0;32m    247\u001b[0m         \u001b[39mpass\u001b[39;00m  \n\u001b[1;32m--> 248\u001b[0m \u001b[39mreturn\u001b[39;00m data\n",
      "\u001b[1;31mUnboundLocalError\u001b[0m: local variable 'data' referenced before assignment"
     ]
    }
   ],
   "source": [
    "data,porcentajeentrada = md.estrategia_santa(symbol,tp_flag = True)"
   ]
  },
  {
   "cell_type": "code",
   "execution_count": null,
   "id": "ebc2902d",
   "metadata": {},
   "outputs": [],
   "source": [
    "md.dibuja_patrones_triangulos (data,998) "
   ]
  }
 ],
 "metadata": {
  "kernelspec": {
   "display_name": "Python 3 (ipykernel)",
   "language": "python",
   "name": "python3"
  },
  "language_info": {
   "codemirror_mode": {
    "name": "ipython",
    "version": 3
   },
   "file_extension": ".py",
   "mimetype": "text/x-python",
   "name": "python",
   "nbconvert_exporter": "python",
   "pygments_lexer": "ipython3",
   "version": "3.10.11"
  }
 },
 "nbformat": 4,
 "nbformat_minor": 5
}
