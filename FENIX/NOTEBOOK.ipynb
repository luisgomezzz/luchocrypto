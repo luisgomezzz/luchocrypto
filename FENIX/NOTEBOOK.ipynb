{
 "cells": [
  {
   "cell_type": "code",
   "execution_count": 1,
   "id": "b29811c3",
   "metadata": {
    "scrolled": false
   },
   "outputs": [
    {
     "name": "stderr",
     "output_type": "stream",
     "text": [
      "C:\\Users\\Luis Gomez Freites\\AppData\\Local\\Packages\\PythonSoftwareFoundation.Python.3.10_qbz5n2kfra8p0\\LocalCache\\local-packages\\Python310\\site-packages\\tqdm\\auto.py:22: TqdmWarning: IProgress not found. Please update jupyter and ipywidgets. See https://ipywidgets.readthedocs.io/en/stable/user_install.html\n",
      "  from .autonotebook import tqdm as notebook_tqdm\n"
     ]
    },
    {
     "data": {
      "text/plain": [
       "Start                     2023-06-09 01:00:00\n",
       "End                       2023-06-29 20:30:00\n",
       "Duration                     20 days 19:30:00\n",
       "Exposure Time [%]                        30.3\n",
       "Equity Final [$]                  1198.074367\n",
       "Equity Peak [$]                   1207.074367\n",
       "Return [%]                          19.807437\n",
       "Buy & Hold Return [%]               -28.86143\n",
       "Return (Ann.) [%]                 2212.718534\n",
       "Volatility (Ann.) [%]             1477.442059\n",
       "Sharpe Ratio                         1.497669\n",
       "Sortino Ratio                      291.918612\n",
       "Calmar Ratio                       352.829293\n",
       "Max. Drawdown [%]                   -6.271357\n",
       "Avg. Drawdown [%]                   -1.322539\n",
       "Max. Drawdown Duration       12 days 13:30:00\n",
       "Avg. Drawdown Duration        1 days 00:38:00\n",
       "# Trades                                    3\n",
       "Win Rate [%]                        66.666667\n",
       "Best Trade [%]                      15.805785\n",
       "Worst Trade [%]                     -2.013806\n",
       "Avg. Trade [%]                       6.501417\n",
       "Max. Trade Duration           3 days 06:30:00\n",
       "Avg. Trade Duration           2 days 02:00:00\n",
       "Profit Factor                       11.054689\n",
       "Expectancy [%]                       6.749397\n",
       "SQN                                  1.334512\n",
       "_strategy                               Fenix\n",
       "_equity_curve                             ...\n",
       "_trades                      Size  EntryBa...\n",
       "dtype: object"
      ]
     },
     "execution_count": 1,
     "metadata": {},
     "output_type": "execute_result"
    }
   ],
   "source": [
    "import modulos as md\n",
    "\n",
    "symbol='COMBOUSDT'\n",
    "data = md.obtiene_historial(symbol)\n",
    "data = md.estrategia_bb(data)\n",
    "resultado = md.backtesting(data)\n",
    "resultado\n",
    "\n",
    "\n",
    "\n",
    "\n"
   ]
  },
  {
   "cell_type": "code",
   "execution_count": null,
   "id": "ccb7eaee",
   "metadata": {},
   "outputs": [],
   "source": []
  }
 ],
 "metadata": {
  "kernelspec": {
   "display_name": "Python 3 (ipykernel)",
   "language": "python",
   "name": "python3"
  },
  "language_info": {
   "codemirror_mode": {
    "name": "ipython",
    "version": 3
   },
   "file_extension": ".py",
   "mimetype": "text/x-python",
   "name": "python",
   "nbconvert_exporter": "python",
   "pygments_lexer": "ipython3",
   "version": "3.10.11"
  }
 },
 "nbformat": 4,
 "nbformat_minor": 5
}
