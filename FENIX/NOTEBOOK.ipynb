{
 "cells": [
  {
   "cell_type": "code",
   "execution_count": 1,
   "id": "2d7ba37d",
   "metadata": {},
   "outputs": [
    {
     "name": "stdout",
     "output_type": "stream",
     "text": [
      "FLMUSDT - Return [%]: 0.0% - # Trades: 5 - Profit Factor: 1.0283259805082867 - Win Rate [%]: 40.0\n",
      "DODOXUSDT - Return [%]: 0.27% - # Trades: 4 - Profit Factor: nan - Win Rate [%]: 100.0\n",
      "XRPUSDT - Return [%]: 0.85% - # Trades: 4 - Profit Factor: 15.191760702647423 - Win Rate [%]: 75.0\n",
      "MATICUSDT - Return [%]: 0.41% - # Trades: 4 - Profit Factor: 2.7874678987074537 - Win Rate [%]: 50.0\n",
      "SUIUSDT - Return [%]: -0.11% - # Trades: 6 - Profit Factor: 0.8465648622896143 - Win Rate [%]: 33.33333333333333\n",
      "BELUSDT - Return [%]: 0.76% - # Trades: 6 - Profit Factor: 2.071395612305849 - Win Rate [%]: 66.66666666666666\n",
      "TRBUSDT - Return [%]: 0.0% - # Trades: 0 - Profit Factor: nan - Win Rate [%]: nan\n",
      "PEOPLEUSDT - Return [%]: 0.0% - # Trades: 4 - Profit Factor: 0.5158073131525235 - Win Rate [%]: 25.0\n",
      "ETHUSDT - Return [%]: 0.0% - # Trades: 0 - Profit Factor: nan - Win Rate [%]: nan\n",
      "NMRUSDT - Return [%]: 0.0% - # Trades: 0 - Profit Factor: nan - Win Rate [%]: nan\n",
      "BNBUSDT - Return [%]: 0.0% - # Trades: 0 - Profit Factor: nan - Win Rate [%]: nan\n",
      "PERPUSDT - Return [%]: 1.4% - # Trades: 6 - Profit Factor: 4.356358153441139 - Win Rate [%]: 83.33333333333334\n",
      "LINKUSDT - Return [%]: 0.0% - # Trades: 0 - Profit Factor: nan - Win Rate [%]: nan\n",
      "BCHUSDT - Return [%]: 0.0% - # Trades: 0 - Profit Factor: nan - Win Rate [%]: nan\n",
      "DOGEUSDT - Return [%]: 0.09% - # Trades: 4 - Profit Factor: 5.447392847855407 - Win Rate [%]: 75.0\n",
      "1000PEPEUSDT - Return [%]: 0.0% - # Trades: 9 - Profit Factor: 1.018652180769027 - Win Rate [%]: 55.55555555555556\n",
      "SOLUSDT - Return [%]: 0.0% - # Trades: 0 - Profit Factor: nan - Win Rate [%]: nan\n",
      "LTCUSDT - Return [%]: 0.0% - # Trades: 0 - Profit Factor: nan - Win Rate [%]: nan\n",
      "ENJUSDT - Return [%]: 0.26% - # Trades: 7 - Profit Factor: 1.8185132433147972 - Win Rate [%]: 57.14285714285714\n",
      "SNXUSDT - Return [%]: 0.0% - # Trades: 0 - Profit Factor: nan - Win Rate [%]: nan\n",
      "BLZUSDT - Return [%]: -0.05% - # Trades: 6 - Profit Factor: 0.8140829902103438 - Win Rate [%]: 50.0\n",
      "CYBERUSDT - Return [%]: 0.0% - # Trades: 0 - Profit Factor: nan - Win Rate [%]: nan\n",
      "CFXUSDT - Return [%]: 0.05% - # Trades: 8 - Profit Factor: 1.2700188501156855 - Win Rate [%]: 50.0\n",
      "BTCUSDT - Return [%]: 0.0% - # Trades: 0 - Profit Factor: nan - Win Rate [%]: nan\n",
      "LPTUSDT - Return [%]: 0.0% - # Trades: 0 - Profit Factor: nan - Win Rate [%]: nan\n",
      "WLDUSDT - Return [%]: 0.0% - # Trades: 0 - Profit Factor: nan - Win Rate [%]: nan\n",
      "\n",
      "Oporunidad UNFIUSDT - variacion 25.4% - flecha:  ↑ - lineas: 9.776 y 10.49\n",
      "UNFIUSDT - Return [%]: 0.0% - # Trades: 0 - Profit Factor: nan - Win Rate [%]: nan\n"
     ]
    }
   ],
   "source": [
    "import modulos as md\n",
    "import numpy as np\n",
    "import constantes as cons\n",
    "import os\n",
    "import sys\n",
    "lista_filtrada = []\n",
    "\n",
    "#lista=md.lista_de_monedas()\n",
    "#lista=md.filtradodemonedas ()\n",
    "lista=['FLMUSDT', 'DODOXUSDT', 'XRPUSDT', 'MATICUSDT', 'SUIUSDT', 'BELUSDT', 'TRBUSDT', 'PEOPLEUSDT', 'ETHUSDT', 'NMRUSDT', 'BNBUSDT', 'PERPUSDT', 'LINKUSDT', 'BCHUSDT', 'DOGEUSDT', '1000PEPEUSDT', 'SOLUSDT', 'LTCUSDT', 'ENJUSDT', 'SNXUSDT', 'BLZUSDT', 'CYBERUSDT', 'CFXUSDT', 'BTCUSDT', 'LPTUSDT', 'WLDUSDT', 'UNFIUSDT']\n",
    "#lista=['PERPUSDT']\n",
    "\n",
    "if len(lista)>1:\n",
    "    imprimo=False\n",
    "    debug=False\n",
    "else:\n",
    "    imprimo= True\n",
    "    debug=True\n",
    "for symbol in lista:    \n",
    "    try:\n",
    "        #data,porcentajeentrada = md.estrategia_santa(symbol,tp_flag = True)\n",
    "        #data,porcentajeentrada = md.estrategia_trampa(symbol,tp_flag = True)\n",
    "        data,porcentajeentrada = md.estrategia_atrapes(symbol,tp_flag = True, debug=debug)\n",
    "        #data,porcentajeentrada = md.estrategia_oro('XAU',tp_flag = True)\n",
    "        #######################################################################\n",
    "        resultado = md.backtesting(data, plot_flag = imprimo,porcentajeentrada=porcentajeentrada)\n",
    "        #resultado = md.backtestingsanta(data, plot_flag = imprimo, debug = True)\n",
    "        ########################################################################\n",
    "        #if resultado['Return [%]'] < 0: # para santa3 mazmorra\n",
    "        #if data.disparo.iloc[-1]!=0: # imprime las monedas que estan en posible haz martillo\n",
    "        #        print(symbol)\n",
    "        if resultado['Return [%]'] > 0:\n",
    "            #if ((resultado['Profit Factor'] > 2 or np.isnan(resultado['Profit Factor'])) and (resultado['Return [%]']/resultado['# Trades']) >=0.33):            \n",
    "                lista_filtrada.append(symbol)\n",
    "        print(f\"{symbol} - Return [%]: {md.truncate(resultado['Return [%]'],2)}% - # Trades: {resultado['# Trades']} - Profit Factor: {resultado['Profit Factor']} - Win Rate [%]: {resultado['Win Rate [%]']}\")\n",
    "    except Exception as falla:\n",
    "        _, _, exc_tb = sys.exc_info()\n",
    "        fname = os.path.split(exc_tb.tb_frame.f_code.co_filename)[1]\n",
    "        print(\"\\nError: \"+str(falla)+\" - line: \"+str(exc_tb.tb_lineno)+\" - file: \"+str(fname)+\"\\n\")\n",
    "        pass\n",
    "for symbol in lista_filtrada:\n",
    "    md.printandlog(cons.nombrelog,symbol,pal=1)\n",
    "#md.dibuja_patrones_triangulos (data,998)    \n"
   ]
  }
 ],
 "metadata": {
  "kernelspec": {
   "display_name": "Python 3 (ipykernel)",
   "language": "python",
   "name": "python3"
  },
  "language_info": {
   "codemirror_mode": {
    "name": "ipython",
    "version": 3
   },
   "file_extension": ".py",
   "mimetype": "text/x-python",
   "name": "python",
   "nbconvert_exporter": "python",
   "pygments_lexer": "ipython3",
   "version": "3.10.11"
  }
 },
 "nbformat": 4,
 "nbformat_minor": 5
}
