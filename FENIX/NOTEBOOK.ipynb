{
 "cells": [
  {
   "cell_type": "code",
   "execution_count": 3,
   "id": "cd995f0a",
   "metadata": {},
   "outputs": [
    {
     "name": "stdout",
     "output_type": "stream",
     "text": [
      "EOSUSDT - retorno: 8.76% - trades: 5 - Profit Factor: 6.8 - Win Rate [%]: 60.0\n",
      "ONTUSDT - retorno: 2.21% - trades: 6 - Profit Factor: 7.92 - Win Rate [%]: 66.66\n",
      "BATUSDT - retorno: 0.94% - trades: 5 - Profit Factor: 3.81 - Win Rate [%]: 60.0\n",
      "VETUSDT - retorno: 0.17% - trades: 3 - Profit Factor: 8.9 - Win Rate [%]: 66.66\n",
      "THETAUSDT - retorno: 9.68% - trades: 5 - Profit Factor: 31.14 - Win Rate [%]: 80.0\n",
      "ZRXUSDT - retorno: 0.42% - trades: 8 - Profit Factor: 1.48 - Win Rate [%]: 62.5\n",
      "OMGUSDT - retorno: 10.03% - trades: 7 - Profit Factor: 7.64 - Win Rate [%]: 57.14\n",
      "SXPUSDT - retorno: 4.38% - trades: 13 - Profit Factor: 2.23 - Win Rate [%]: 53.84\n"
     ]
    },
    {
     "name": "stderr",
     "output_type": "stream",
     "text": [
      "c:\\LUCHO\\personal\\repopersonal\\luchocrypto\\FENIX\\modulos.py:313: UserWarning: Some prices are larger than initial cash value. Note that fractional trading is not supported. If you want to trade Bitcoin, increase initial cash, or trade μBTC or satoshis instead (GH-134).\n",
      "  bt = Backtest(data, Fenix, cash=1000)\n",
      "c:\\LUCHO\\personal\\repopersonal\\luchocrypto\\FENIX\\modulos.py:313: UserWarning: Some prices are larger than initial cash value. Note that fractional trading is not supported. If you want to trade Bitcoin, increase initial cash, or trade μBTC or satoshis instead (GH-134).\n",
      "  bt = Backtest(data, Fenix, cash=1000)\n"
     ]
    },
    {
     "name": "stdout",
     "output_type": "stream",
     "text": [
      "SUSHIUSDT - retorno: 5.57% - trades: 4 - Profit Factor: 16.86 - Win Rate [%]: 75.0\n",
      "ICXUSDT - retorno: 1.38% - trades: 9 - Profit Factor: 3.04 - Win Rate [%]: 55.55\n",
      "BLZUSDT - retorno: 0.49% - trades: 9 - Profit Factor: 4.39 - Win Rate [%]: 66.66\n",
      "ENJUSDT - retorno: 3.01% - trades: 6 - Profit Factor: 8.02 - Win Rate [%]: 66.66\n",
      "MATICUSDT - retorno: 0.45% - trades: 3 - Profit Factor: 1.27 - Win Rate [%]: 66.66\n",
      "OCEANUSDT - retorno: 2.17% - trades: 13 - Profit Factor: 2.15 - Win Rate [%]: 53.84\n",
      "SKLUSDT - retorno: 0.18% - trades: 5 - Profit Factor: 5.9 - Win Rate [%]: 80.0\n",
      "1INCHUSDT - retorno: 1.34% - trades: 4 - Profit Factor: 4.7 - Win Rate [%]: 75.0\n",
      "CHZUSDT - retorno: 0.33% - trades: 3 - Profit Factor: 5.01 - Win Rate [%]: 66.66\n",
      "SANDUSDT - retorno: 5.05% - trades: 6 - Profit Factor: 10.01 - Win Rate [%]: 83.33\n",
      "ANKRUSDT - retorno: 0.08% - trades: 7 - Profit Factor: 2.05 - Win Rate [%]: 57.14\n",
      "REEFUSDT - retorno: 0.01% - trades: 4 - Profit Factor: 6.43 - Win Rate [%]: 75.0\n",
      "RVNUSDT - retorno: 0.2% - trades: 5 - Profit Factor: 13.02 - Win Rate [%]: 80.0\n",
      "MANAUSDT - retorno: 2.79% - trades: 5 - Profit Factor: 4.24 - Win Rate [%]: 60.0\n",
      "ALICEUSDT - retorno: 3.98% - trades: 4 - Profit Factor: 4.09 - Win Rate [%]: 75.0\n",
      "DENTUSDT - retorno: 0.0% - trades: 4 - Profit Factor: 35.82 - Win Rate [%]: 75.0\n",
      "PEOPLEUSDT - retorno: 0.09% - trades: 5 - Profit Factor: 6.25 - Win Rate [%]: 60.0\n",
      "ROSEUSDT - retorno: 0.44% - trades: 3 - Profit Factor: 9.23 - Win Rate [%]: 66.66\n",
      "DUSKUSDT - retorno: 0.74% - trades: 4 - Profit Factor: 11.91 - Win Rate [%]: 75.0\n",
      "API3USDT - retorno: 4.56% - trades: 3 - Profit Factor: 49.11 - Win Rate [%]: 66.66\n",
      "DARUSDT - retorno: 1.29% - trades: 5 - Profit Factor: 18.25 - Win Rate [%]: 60.0\n",
      "SPELLUSDT - retorno: 0.0% - trades: 5 - Profit Factor: 4.35 - Win Rate [%]: 60.0\n",
      "MAGICUSDT - retorno: 2.82% - trades: 5 - Profit Factor: 1.69 - Win Rate [%]: 60.0\n",
      "TUSDT - retorno: 0.25% - trades: 5 - Profit Factor: 45.27 - Win Rate [%]: 80.0\n",
      "AGIXUSDT - retorno: 4.67% - trades: 8 - Profit Factor: 9.32 - Win Rate [%]: 62.5\n",
      "STXUSDT - retorno: 3.4% - trades: 3 - Profit Factor: 10.0 - Win Rate [%]: 66.66\n",
      "ACHUSDT - retorno: 0.1% - trades: 4 - Profit Factor: 9.02 - Win Rate [%]: 75.0\n",
      "TRUUSDT - retorno: 0.44% - trades: 4 - Profit Factor: 792.11 - Win Rate [%]: 75.0\n",
      "RDNTUSDT - retorno: 1.19% - trades: 5 - Profit Factor: 130.03 - Win Rate [%]: 80.0\n",
      "SUIUSDT - retorno: 2.89% - trades: 4 - Profit Factor: 4.49 - Win Rate [%]: 75.0\n",
      "COMBOUSDT - retorno: 8.85% - trades: 7 - Profit Factor: 7.49 - Win Rate [%]: 57.14\n"
     ]
    }
   ],
   "source": [
    "###################################### FILTRADO DE MONEDAS PARA ESTRATEGIA SANTAAAAAA\n",
    "###################################################################################################################\n",
    "import modulos as md\n",
    "import numpy as np\n",
    "lista=['STORJUSDT']\n",
    "lista=md.lista_de_monedas()\n",
    "for symbol in lista:\n",
    "    try:\n",
    "        data = md.estrategia_santa(symbol, tp_flag = False)\n",
    "        resultado = md.backtesting(data, plot_flag = False)\n",
    "        #if resultado['Profit Factor']>1 or resultado[6] >= 1:\n",
    "        if resultado['Win Rate [%]']>50:\n",
    "            print(f\"{symbol} - retorno: {md.truncate(resultado[6],2)}% - trades: {resultado[17]} - Profit Factor: {md.truncate(resultado['Profit Factor'],2)} - Win Rate [%]: {md.truncate(resultado['Win Rate [%]'],2)}\")\n",
    "    except Exception as falla:\n",
    "        pass\n"
   ]
  },
  {
   "cell_type": "code",
   "execution_count": 1,
   "id": "2d7ba37d",
   "metadata": {},
   "outputs": [
    {
     "name": "stderr",
     "output_type": "stream",
     "text": [
      "C:\\Users\\Luis Gomez Freites\\AppData\\Local\\Packages\\PythonSoftwareFoundation.Python.3.10_qbz5n2kfra8p0\\LocalCache\\local-packages\\Python310\\site-packages\\tqdm\\auto.py:22: TqdmWarning: IProgress not found. Please update jupyter and ipywidgets. See https://ipywidgets.readthedocs.io/en/stable/user_install.html\n",
      "  from .autonotebook import tqdm as notebook_tqdm\n"
     ]
    },
    {
     "name": "stdout",
     "output_type": "stream",
     "text": [
      "XRPUSDT - Return [%]: 0.33% - # Trades: 8 - Profit Factor: 1.24\n",
      "EOSUSDT - Return [%]: -2.26% - # Trades: 10 - Profit Factor: 0.75\n",
      "TRXUSDT - Return [%]: 0.12% - # Trades: 5 - Profit Factor: 2.2\n",
      "XLMUSDT - Return [%]: 0.49% - # Trades: 5 - Profit Factor: 2.67\n",
      "ADAUSDT - Return [%]: -1.15% - # Trades: 10 - Profit Factor: 0.42\n",
      "XTZUSDT - Return [%]: -3.51% - # Trades: 7 - Profit Factor: 0.28\n",
      "ONTUSDT - Return [%]: -1.02% - # Trades: 6 - Profit Factor: 0.24\n",
      "IOTAUSDT - Return [%]: 0.4% - # Trades: 10 - Profit Factor: 1.46\n",
      "BATUSDT - Return [%]: 2.52% - # Trades: 6 - Profit Factor: 7.92\n",
      "VETUSDT - Return [%]: 0.02% - # Trades: 8 - Profit Factor: 1.24\n",
      "IOSTUSDT - Return [%]: -0.01% - # Trades: 8 - Profit Factor: 0.7\n",
      "THETAUSDT - Return [%]: 3.99% - # Trades: 6 - Profit Factor: 2.48\n",
      "ALGOUSDT - Return [%]: -0.36% - # Trades: 5 - Profit Factor: 0.36\n",
      "ZILUSDT - Return [%]: 0.0% - # Trades: 6 - Profit Factor: 0.93\n",
      "KNCUSDT - Return [%]: -2.32% - # Trades: 9 - Profit Factor: 0.48\n",
      "ZRXUSDT - Return [%]: 0.39% - # Trades: 8 - Profit Factor: 1.3\n",
      "OMGUSDT - Return [%]: -0.21% - # Trades: 6 - Profit Factor: 0.93\n",
      "DOGEUSDT - Return [%]: 0.16% - # Trades: 10 - Profit Factor: 1.5\n",
      "SXPUSDT - Return [%]: -3.63% - # Trades: 10 - Profit Factor: 0.29\n",
      "KAVAUSDT - Return [%]: -6.74% - # Trades: 7 - Profit Factor: 0.12\n"
     ]
    },
    {
     "name": "stderr",
     "output_type": "stream",
     "text": [
      "c:\\LUCHO\\personal\\repopersonal\\luchocrypto\\FENIX\\modulos.py:313: UserWarning: Some prices are larger than initial cash value. Note that fractional trading is not supported. If you want to trade Bitcoin, increase initial cash, or trade μBTC or satoshis instead (GH-134).\n",
      "  bt = Backtest(data, Fenix, cash=1000)\n",
      "c:\\LUCHO\\personal\\repopersonal\\luchocrypto\\FENIX\\modulos.py:313: UserWarning: Some prices are larger than initial cash value. Note that fractional trading is not supported. If you want to trade Bitcoin, increase initial cash, or trade μBTC or satoshis instead (GH-134).\n",
      "  bt = Backtest(data, Fenix, cash=1000)\n"
     ]
    },
    {
     "name": "stdout",
     "output_type": "stream",
     "text": [
      "CRVUSDT - Return [%]: -7.12% - # Trades: 14 - Profit Factor: 0.28\n",
      "RUNEUSDT - Return [%]: -1.86% - # Trades: 2 - Profit Factor: 0.0\n",
      "SUSHIUSDT - Return [%]: 2.42% - # Trades: 9 - Profit Factor: 1.38\n",
      "SRMUSDT - Return [%]: -2.84% - # Trades: 4 - Profit Factor: 0.01\n",
      "ICXUSDT - Return [%]: -1.32% - # Trades: 6 - Profit Factor: 0.13\n",
      "STORJUSDT - Return [%]: -5.22% - # Trades: 6 - Profit Factor: 0.16\n",
      "BLZUSDT - Return [%]: -0.23% - # Trades: 6 - Profit Factor: 0.36\n",
      "FTMUSDT - Return [%]: -1.96% - # Trades: 10 - Profit Factor: 0.43\n",
      "ENJUSDT - Return [%]: 3.77% - # Trades: 9 - Profit Factor: 4.04\n",
      "FLMUSDT - Return [%]: 0.28% - # Trades: 13 - Profit Factor: 1.37\n",
      "TOMOUSDT - Return [%]: -1.93% - # Trades: 1 - Profit Factor: 0.0\n",
      "RENUSDT - Return [%]: 0.23% - # Trades: 7 - Profit Factor: 1.66\n",
      "RSRUSDT - Return [%]: 0.02% - # Trades: 6 - Profit Factor: 5.06\n",
      "LRCUSDT - Return [%]: -0.95% - # Trades: 11 - Profit Factor: 0.55\n",
      "MATICUSDT - Return [%]: -2.15% - # Trades: 12 - Profit Factor: 0.63\n"
     ]
    },
    {
     "name": "stderr",
     "output_type": "stream",
     "text": [
      "C:\\Users\\Luis Gomez Freites\\AppData\\Local\\Packages\\PythonSoftwareFoundation.Python.3.10_qbz5n2kfra8p0\\LocalCache\\local-packages\\Python310\\site-packages\\backtesting\\_stats.py:122: RuntimeWarning: divide by zero encountered in double_scalars\n",
      "  s.loc['Sortino Ratio'] = np.clip((annualized_return - risk_free_rate) / (np.sqrt(np.mean(day_returns.clip(-np.inf, 0)**2)) * np.sqrt(annual_trading_days)), 0, np.inf)  # noqa: E501\n"
     ]
    },
    {
     "name": "stdout",
     "output_type": "stream",
     "text": [
      "OCEANUSDT - Return [%]: 2.92% - # Trades: 5 - Profit Factor: 6.91\n",
      "CVCUSDT - Return [%]: -0.27% - # Trades: 9 - Profit Factor: 0.49\n",
      "BELUSDT - Return [%]: 4.09% - # Trades: 10 - Profit Factor: 1.83\n",
      "CTKUSDT - Return [%]: 0.75% - # Trades: 10 - Profit Factor: 1.22\n",
      "ALPHAUSDT - Return [%]: 0.26% - # Trades: 8 - Profit Factor: 1.38\n",
      "SKLUSDT - Return [%]: 0.14% - # Trades: 10 - Profit Factor: 1.71\n",
      "GRTUSDT - Return [%]: 0.81% - # Trades: 8 - Profit Factor: 2.34\n",
      "1INCHUSDT - Return [%]: 3.93% - # Trades: 9 - Profit Factor: 3.19\n",
      "CHZUSDT - Return [%]: -0.16% - # Trades: 5 - Profit Factor: 0.53\n",
      "SANDUSDT - Return [%]: 1.15% - # Trades: 11 - Profit Factor: 1.37\n",
      "ANKRUSDT - Return [%]: -0.07% - # Trades: 6 - Profit Factor: 0.44\n",
      "BTSUSDT - Return [%]: -0.04% - # Trades: 6 - Profit Factor: 0.87\n",
      "LITUSDT - Return [%]: 1.08% - # Trades: 10 - Profit Factor: 1.21\n",
      "REEFUSDT - Return [%]: 0.0% - # Trades: 10 - Profit Factor: 0.54\n",
      "RVNUSDT - Return [%]: -0.07% - # Trades: 4 - Profit Factor: 0.0\n",
      "SFPUSDT - Return [%]: 0.42% - # Trades: 5 - Profit Factor: 1.36\n",
      "XEMUSDT - Return [%]: 0.11% - # Trades: 11 - Profit Factor: 1.58\n",
      "COTIUSDT - Return [%]: 0.58% - # Trades: 9 - Profit Factor: 3.63\n",
      "CHRUSDT - Return [%]: -0.15% - # Trades: 9 - Profit Factor: 0.85\n",
      "MANAUSDT - Return [%]: -3.3% - # Trades: 11 - Profit Factor: 0.16\n",
      "ALICEUSDT - Return [%]: -1.68% - # Trades: 2 - Profit Factor: 0.0\n",
      "HBARUSDT - Return [%]: -0.03% - # Trades: 10 - Profit Factor: 0.88\n",
      "ONEUSDT - Return [%]: -0.11% - # Trades: 12 - Profit Factor: 0.32\n",
      "LINAUSDT - Return [%]: 0.03% - # Trades: 13 - Profit Factor: 1.16\n",
      "DENTUSDT - Return [%]: 0.0% - # Trades: 8 - Profit Factor: 0.59\n",
      "CELRUSDT - Return [%]: 0.16% - # Trades: 8 - Profit Factor: 3.04\n",
      "HOTUSDT - Return [%]: 0.0% - # Trades: 9 - Profit Factor: 1.02\n",
      "OGNUSDT - Return [%]: -0.38% - # Trades: 13 - Profit Factor: 0.59\n",
      "NKNUSDT - Return [%]: -1.24% - # Trades: 9 - Profit Factor: 0.0\n",
      "SCUSDT - Return [%]: -0.01% - # Trades: 7 - Profit Factor: 0.4\n",
      "DGBUSDT - Return [%]: -0.06% - # Trades: 7 - Profit Factor: 0.0\n",
      "BAKEUSDT - Return [%]: -0.58% - # Trades: 7 - Profit Factor: 0.37\n",
      "GTCUSDT - Return [%]: -1.35% - # Trades: 1 - Profit Factor: 0.0\n",
      "IOTXUSDT - Return [%]: 0.03% - # Trades: 6 - Profit Factor: 1.43\n",
      "AUDIOUSDT - Return [%]: -0.44% - # Trades: 6 - Profit Factor: 0.43\n",
      "C98USDT - Return [%]: 0.18% - # Trades: 9 - Profit Factor: 1.17\n",
      "ATAUSDT - Return [%]: 0.51% - # Trades: 10 - Profit Factor: 1.91\n",
      "GALAUSDT - Return [%]: -0.12% - # Trades: 8 - Profit Factor: 0.45\n",
      "CELOUSDT - Return [%]: -0.3% - # Trades: 5 - Profit Factor: 1.08\n",
      "KLAYUSDT - Return [%]: -0.22% - # Trades: 5 - Profit Factor: 0.46\n",
      "ARPAUSDT - Return [%]: 0.38% - # Trades: 7 - Profit Factor: 3.67\n",
      "CTSIUSDT - Return [%]: 0.03% - # Trades: 10 - Profit Factor: 1.06\n",
      "PEOPLEUSDT - Return [%]: -0.01% - # Trades: 8 - Profit Factor: 0.89\n",
      "ROSEUSDT - Return [%]: 0.28% - # Trades: 11 - Profit Factor: 1.81\n",
      "DUSKUSDT - Return [%]: 0.03% - # Trades: 7 - Profit Factor: 1.06\n",
      "FLOWUSDT - Return [%]: -1.61% - # Trades: 9 - Profit Factor: 0.73\n",
      "IMXUSDT - Return [%]: 2.25% - # Trades: 8 - Profit Factor: 1.58\n",
      "API3USDT - Return [%]: -1.28% - # Trades: 1 - Profit Factor: 0.0\n",
      "GMTUSDT - Return [%]: -0.49% - # Trades: 10 - Profit Factor: 0.73\n",
      "WOOUSDT - Return [%]: 0.0% - # Trades: 8 - Profit Factor: 0.99\n",
      "JASMYUSDT - Return [%]: -0.02% - # Trades: 10 - Profit Factor: 0.44\n",
      "DARUSDT - Return [%]: -0.42% - # Trades: 9 - Profit Factor: 0.57\n",
      "STGUSDT - Return [%]: -4.63% - # Trades: 7 - Profit Factor: 0.0\n",
      "SPELLUSDT - Return [%]: 0.0% - # Trades: 11 - Profit Factor: 1.01\n",
      "FETUSDT - Return [%]: -1.5% - # Trades: 14 - Profit Factor: 0.61\n",
      "TUSDT - Return [%]: -0.02% - # Trades: 6 - Profit Factor: 0.7\n",
      "MINAUSDT - Return [%]: 1.62% - # Trades: 9 - Profit Factor: 1.37\n",
      "AGIXUSDT - Return [%]: -1.23% - # Trades: 12 - Profit Factor: 0.62\n",
      "PHBUSDT - Return [%]: -5.12% - # Trades: 8 - Profit Factor: 0.22\n",
      "CFXUSDT - Return [%]: 0.77% - # Trades: 11 - Profit Factor: 1.28\n",
      "STXUSDT - Return [%]: 2.14% - # Trades: 8 - Profit Factor: 1.43\n",
      "BNXUSDT - Return [%]: 1.41% - # Trades: 9 - Profit Factor: 1.72\n",
      "ACHUSDT - Return [%]: -0.32% - # Trades: 14 - Profit Factor: 0.06\n",
      "CKBUSDT - Return [%]: 0.01% - # Trades: 10 - Profit Factor: 1.46\n",
      "PERPUSDT - Return [%]: -0.74% - # Trades: 9 - Profit Factor: 0.79\n",
      "TRUUSDT - Return [%]: 0.21% - # Trades: 7 - Profit Factor: 1.88\n",
      "LQTYUSDT - Return [%]: -3.17% - # Trades: 7 - Profit Factor: 0.57\n",
      "USDCUSDT - Return [%]: 0.11% - # Trades: 8 - Profit Factor: 8.33\n",
      "IDUSDT - Return [%]: -2.63% - # Trades: 11 - Profit Factor: 0.37\n",
      "JOEUSDT - Return [%]: 3.88% - # Trades: 8 - Profit Factor: 3.14\n",
      "TLMUSDT - Return [%]: 0.13% - # Trades: 7 - Profit Factor: 5.72\n",
      "AMBUSDT - Return [%]: 0.06% - # Trades: 8 - Profit Factor: 2.33\n",
      "LEVERUSDT - Return [%]: 0.0% - # Trades: 12 - Profit Factor: 0.99\n",
      "RDNTUSDT - Return [%]: 2.32% - # Trades: 7 - Profit Factor: 2.98\n",
      "HFTUSDT - Return [%]: -0.29% - # Trades: 10 - Profit Factor: 0.91\n",
      "EDUUSDT - Return [%]: -1.74% - # Trades: 14 - Profit Factor: 0.88\n",
      "IDEXUSDT - Return [%]: -0.21% - # Trades: 6 - Profit Factor: 0.4\n",
      "SUIUSDT - Return [%]: 7.11% - # Trades: 9 - Profit Factor: 2.92\n",
      "KEYUSDT - Return [%]: -0.04% - # Trades: 6 - Profit Factor: 0.0\n",
      "COMBOUSDT - Return [%]: 5.66% - # Trades: 10 - Profit Factor: 1.93\n",
      "MAVUSDT - Return [%]: -3.84% - # Trades: 7 - Profit Factor: 0.44\n",
      "MDTUSDT - Return [%]: -0.49% - # Trades: 9 - Profit Factor: 0.47\n",
      "XVGUSDT - Return [%]: 0.26% - # Trades: 4 - Profit Factor: 7.89\n"
     ]
    }
   ],
   "source": [
    "###################################### FILTRADO DE MONEDAS PARA ESTRATEGIA BB\n",
    "###################################################################################################################\n",
    "\n",
    "import modulos as md\n",
    "import numpy as np\n",
    "#lista=['SRMUSDT']\n",
    "lista=md.lista_de_monedas()\n",
    "for symbol in lista:\n",
    "    try:\n",
    "        data = md.estrategia_bb(symbol, tp_flag = True)\n",
    "        resultado = md.backtesting(data, plot_flag = False)\n",
    "        #if resultado['Profit Factor'] > 1 and resultado[6]/resultado[17] >=0.3:\n",
    "        print(f\"{symbol} - Return [%]: {md.truncate(resultado['Return [%]'],2)}% - # Trades: {resultado['# Trades']} - Profit Factor: {md.truncate(resultado['Profit Factor'],2)}\")\n",
    "    except Exception as falla:\n",
    "        pass"
   ]
  }
 ],
 "metadata": {
  "kernelspec": {
   "display_name": "Python 3 (ipykernel)",
   "language": "python",
   "name": "python3"
  },
  "language_info": {
   "codemirror_mode": {
    "name": "ipython",
    "version": 3
   },
   "file_extension": ".py",
   "mimetype": "text/x-python",
   "name": "python",
   "nbconvert_exporter": "python",
   "pygments_lexer": "ipython3",
   "version": "3.10.11"
  }
 },
 "nbformat": 4,
 "nbformat_minor": 5
}
