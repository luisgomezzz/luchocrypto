{
 "cells": [
  {
   "cell_type": "code",
   "execution_count": 6,
   "id": "644b19e1",
   "metadata": {},
   "outputs": [
    {
     "name": "stdout",
     "output_type": "stream",
     "text": [
      "['EURJPY=X']\n",
      "EURJPY=X - Return [%]: 0.0% - # Trades: 0 - Profit Factor: nan - Win Rate [%]: nan\n",
      "posible entrada symbol: EURJPY=X\n",
      "\n",
      "Timeframe 1h - porcentajes_sumados 0.0 - trades 0 - win_rate_buenos 0 - win_rate_malos 0 - Ganancia por trade: 0.0%\n"
     ]
    }
   ],
   "source": [
    "import modulos as md\n",
    "import numpy as np\n",
    "import os\n",
    "import sys\n",
    "import constantes as cons\n",
    "np.seterr(divide='ignore')\n",
    "lista_filtrada = []\n",
    "#lista=md.filtradodemonedas ()\n",
    "#lista = ['BTCUSDT', 'ETHUSDT', 'XRPUSDT', 'LINKUSDT', 'BNBUSDT', 'ATOMUSDT', 'SOLUSDT', 'GALAUSDT', 'GMTUSDT', 'WLDUSDT', 'MEMEUSDT']\n",
    "lista = ['USDCHF=X','GBPUSD=X','EURUSD=X','USDCAD=X','AUDUSD=X','EURGBP=X','EURAUD=X','EURCHF=X','EURJPY=X','GBPCHF=X','CADJPY=X','GBPJPY=X','AUDNZD=X','AUDCAD=X','AUDCHF=X','AUDJPY=X','EURCAD=X','CADCHF=X','NZDJPY=X','NZDUSD=X','CADUSD=X','USDJPY=X','^GSPC','GC=F']\n",
    "lista = ['EURJPY=X']\n",
    "\n",
    "timeframe = '1h'\n",
    "if len(lista) > 1:\n",
    "    imprimo = False\n",
    "    debug = False\n",
    "else:\n",
    "    imprimo = True\n",
    "    debug = True\n",
    "print(lista)\n",
    "porcentajes_sumados = 0\n",
    "win_rate_buenos = 0\n",
    "win_rate_malos = 0\n",
    "trades = 0\n",
    "balance = md.balancetotal()\n",
    "for symbol in lista:    \n",
    "    try:\n",
    "        data = md.estrategia_smart(symbol, debug = False, refinado = False, fuente = 2, timeframe = timeframe, balance = balance, largo = 1)\n",
    "        #data = md.estrategia_alex(symbol, debug = False, refinado = False, fuente = 2, timeframe = timeframe, balance = balance, largo = 6)\n",
    "        resultado = md.backtesting_smart(data, plot_flag=imprimo, symbol=symbol)\n",
    "        if resultado['Win Rate [%]'] >= 50:\n",
    "            lista_filtrada.append(symbol)\n",
    "        print(f\"{symbol} - Return [%]: {md.truncate(resultado['Return [%]'],2)}% - # Trades: {resultado['# Trades']} - Profit Factor: {resultado['Profit Factor']} - Win Rate [%]: {resultado['Win Rate [%]']}\")\n",
    "        porcentajes_sumados=porcentajes_sumados+resultado['Return [%]']\n",
    "        trades = trades + resultado['# Trades']\n",
    "        if not np.isnan(resultado['Win Rate [%]']):\n",
    "            if resultado['Win Rate [%]'] >= 50:\n",
    "                win_rate_buenos = win_rate_buenos+1\n",
    "            else:\n",
    "                win_rate_malos = win_rate_malos+1\n",
    "        # para smart\n",
    "        if ((data.Close.iloc[-1] < (data.decisional_alcista_high.iloc[-2] + (data.atr.iloc[-1]*3)))\n",
    "            or \n",
    "            (data.Close.iloc[-1] > (data.decisional_bajista_low.iloc[-2] - (data.atr.iloc[-1]*3)))\n",
    "            ):\n",
    "            print(f\"posible entrada symbol: {symbol}\")\n",
    "        # para alex\n",
    "        #if (    data.cruce_bos_killzone.iloc[-1] != -2\n",
    "        #    or  data.cruce_bos_killzone.iloc[-2] != -2  \n",
    "        #    or  data.cruce_bos_killzone.iloc[-3] != -2\n",
    "        #    or  data.cruce_bos_killzone.iloc[-4] != -2\n",
    "        #    or  data.cruce_bos_killzone.iloc[-5] != -2\n",
    "        #    ):\n",
    "        #    print(f\"posible entrada symbol: {symbol}\")\n",
    "    except Exception as falla:\n",
    "        _, _, exc_tb = sys.exc_info()\n",
    "        fname = os.path.split(exc_tb.tb_frame.f_code.co_filename)[1]\n",
    "        print(\"\\nError: \"+str(falla)+\" - line: \"+str(exc_tb.tb_lineno)+\" - file: \"+str(fname)+\"\\n\")\n",
    "        pass\n",
    "for symbol in lista_filtrada:\n",
    "    md.printandlog(cons.nombrelog,symbol,pal=1)\n",
    "print(f\"\\nTimeframe {timeframe} - porcentajes_sumados {md.truncate(porcentajes_sumados,2)} - trades {trades} - win_rate_buenos {win_rate_buenos} - win_rate_malos {win_rate_malos} - Ganancia por trade: {md.truncate((porcentajes_sumados/trades if trades !=0 else porcentajes_sumados),2)}%\")\n"
   ]
  }
 ],
 "metadata": {
  "kernelspec": {
   "display_name": "Python 3 (ipykernel)",
   "language": "python",
   "name": "python3"
  },
  "language_info": {
   "codemirror_mode": {
    "name": "ipython",
    "version": 3
   },
   "file_extension": ".py",
   "mimetype": "text/x-python",
   "name": "python",
   "nbconvert_exporter": "python",
   "pygments_lexer": "ipython3",
   "version": "3.10.11"
  }
 },
 "nbformat": 4,
 "nbformat_minor": 5
}
