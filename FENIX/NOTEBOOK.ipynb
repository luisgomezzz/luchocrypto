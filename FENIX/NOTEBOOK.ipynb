{
 "cells": [
  {
   "cell_type": "code",
   "execution_count": 5,
   "id": "6cd9c678",
   "metadata": {},
   "outputs": [],
   "source": [
    "import modulos as md\n",
    "\n",
    "#lista=md.filtradodemonedas()\n",
    "\n",
    "lista = ['BCHUSDT', 'XRPUSDT', 'EOSUSDT', 'LTCUSDT', 'TRXUSDT', 'ETCUSDT', 'LINKUSDT', 'XLMUSDT', 'ADAUSDT', 'BNBUSDT', 'ATOMUSDT', 'ALGOUSDT', \n",
    "         'KNCUSDT', 'COMPUSDT', 'DOGEUSDT', 'KAVAUSDT', 'WAVESUSDT', 'MKRUSDT', 'SNXUSDT', 'DOTUSDT', 'CRVUSDT', 'SOLUSDT', 'STORJUSDT', 'UNIUSDT', \n",
    "         'AVAXUSDT', 'FTMUSDT', 'TOMOUSDT', 'NEARUSDT', 'AAVEUSDT', 'FILUSDT', 'MATICUSDT', 'AXSUSDT', 'SANDUSDT', 'XEMUSDT', 'MANAUSDT', 'LINAUSDT', \n",
    "         'MTLUSDT', '1000SHIBUSDT', 'MASKUSDT', 'DYDXUSDT', '1000XECUSDT', 'GALAUSDT', 'FLOWUSDT', 'GMTUSDT', 'APEUSDT', 'OPUSDT', 'INJUSDT', 'LDOUSDT', \n",
    "         'APTUSDT', 'FETUSDT', 'RNDRUSDT', 'AGIXUSDT', 'PHBUSDT', 'CFXUSDT', 'STXUSDT', 'LQTYUSDT', 'ARBUSDT', 'SUIUSDT', '1000PEPEUSDT', 'XVGUSDT']\n"
   ]
  },
  {
   "cell_type": "code",
   "execution_count": 1,
   "id": "2d7ba37d",
   "metadata": {},
   "outputs": [
    {
     "name": "stderr",
     "output_type": "stream",
     "text": [
      "C:\\Users\\Luis Gomez Freites\\AppData\\Local\\Packages\\PythonSoftwareFoundation.Python.3.10_qbz5n2kfra8p0\\LocalCache\\local-packages\\Python310\\site-packages\\tqdm\\auto.py:22: TqdmWarning: IProgress not found. Please update jupyter and ipywidgets. See https://ipywidgets.readthedocs.io/en/stable/user_install.html\n",
      "  from .autonotebook import tqdm as notebook_tqdm\n"
     ]
    },
    {
     "name": "stdout",
     "output_type": "stream",
     "text": [
      "XRPUSDT - Return [%]: 18.39% - # Trades: 16 - Profit Factor: 2.63\n",
      "EOSUSDT - Return [%]: 5.36% - # Trades: 16 - Profit Factor: 1.66\n",
      "XLMUSDT - Return [%]: 0.54% - # Trades: 16 - Profit Factor: 1.36\n",
      "ADAUSDT - Return [%]: 3.61% - # Trades: 17 - Profit Factor: 2.3\n",
      "KAVAUSDT - Return [%]: 4.03% - # Trades: 18 - Profit Factor: 1.44\n",
      "CRVUSDT - Return [%]: 4.02% - # Trades: 16 - Profit Factor: 1.64\n",
      "CFXUSDT - Return [%]: 2.19% - # Trades: 14 - Profit Factor: 3.07\n",
      "LQTYUSDT - Return [%]: 5.73% - # Trades: 7 - Profit Factor: 6.57\n",
      "SUIUSDT - Return [%]: 1.7% - # Trades: 17 - Profit Factor: 1.19\n",
      "THETAUSDT - Return [%]: 7.01% - # Trades: 18 - Profit Factor: 2.01\n"
     ]
    },
    {
     "name": "stderr",
     "output_type": "stream",
     "text": [
      "C:\\Users\\Luis Gomez Freites\\AppData\\Local\\Packages\\PythonSoftwareFoundation.Python.3.10_qbz5n2kfra8p0\\LocalCache\\local-packages\\Python310\\site-packages\\backtesting\\_stats.py:122: RuntimeWarning: divide by zero encountered in double_scalars\n",
      "  s.loc['Sortino Ratio'] = np.clip((annualized_return - risk_free_rate) / (np.sqrt(np.mean(day_returns.clip(-np.inf, 0)**2)) * np.sqrt(annual_trading_days)), 0, np.inf)  # noqa: E501\n"
     ]
    },
    {
     "name": "stdout",
     "output_type": "stream",
     "text": [
      "SUSHIUSDT - Return [%]: 10.72% - # Trades: 17 - Profit Factor: 5.81\n",
      "LITUSDT - Return [%]: 4.86% - # Trades: 18 - Profit Factor: 1.76\n",
      "EDUUSDT - Return [%]: 5.55% - # Trades: 17 - Profit Factor: 1.87\n"
     ]
    }
   ],
   "source": [
    "###################################### ESTRATEGIA BB\n",
    "###################################################################################################################\n",
    "import modulos as md\n",
    "lista=['XRPUSDT',\n",
    "'EOSUSDT',\n",
    "'XLMUSDT',\n",
    "'ADAUSDT',\n",
    "'KAVAUSDT',\n",
    "'CRVUSDT',\n",
    "'CFXUSDT',\n",
    "'LQTYUSDT',\n",
    "'SUIUSDT',\n",
    "'THETAUSDT',\n",
    "'SUSHIUSDT',\n",
    "'LITUSDT',\n",
    "'EDUUSDT'\n",
    "]\n",
    "\n",
    "#lista=md.lista_de_monedas ()\n",
    "\n",
    "for symbol in lista:\n",
    "    try:\n",
    "        data = md.sigo_variacion_bitcoin(symbol,timeframe='15m',porc=0.8,ventana=2,tp_flag=True)\n",
    "        #data = md.estrategia_bb(symbol,tp_flag=True)\n",
    "        resultado = md.backtesting(data, plot_flag = False)\n",
    "        #if resultado['Profit Factor'] > 1 and resultado[6]/resultado[17] >=0.3:\n",
    "        print(f\"{symbol} - Return [%]: {md.truncate(resultado['Return [%]'],2)}% - # Trades: {resultado['# Trades']} - Profit Factor: {md.truncate(resultado['Profit Factor'],2)}\")\n",
    "    except Exception as falla:\n",
    "        pass"
   ]
  }
 ],
 "metadata": {
  "kernelspec": {
   "display_name": "Python 3 (ipykernel)",
   "language": "python",
   "name": "python3"
  },
  "language_info": {
   "codemirror_mode": {
    "name": "ipython",
    "version": 3
   },
   "file_extension": ".py",
   "mimetype": "text/x-python",
   "name": "python",
   "nbconvert_exporter": "python",
   "pygments_lexer": "ipython3",
   "version": "3.10.11"
  }
 },
 "nbformat": 4,
 "nbformat_minor": 5
}
