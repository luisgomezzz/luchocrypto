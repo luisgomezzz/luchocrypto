{
 "cells": [
  {
   "cell_type": "code",
   "execution_count": 3,
   "id": "cd995f0a",
   "metadata": {},
   "outputs": [
    {
     "name": "stdout",
     "output_type": "stream",
     "text": [
      "XTZUSDT - retorno: 8.3% - trades: 6 - Profit Factor: 4.560913284691423\n",
      "THETAUSDT - retorno: 10.32% - trades: 9 - Profit Factor: 3.0201951473682738\n"
     ]
    },
    {
     "name": "stderr",
     "output_type": "stream",
     "text": [
      "c:\\LUCHO\\personal\\repopersonal\\luchocrypto\\FENIX\\modulos.py:309: UserWarning: Some prices are larger than initial cash value. Note that fractional trading is not supported. If you want to trade Bitcoin, increase initial cash, or trade μBTC or satoshis instead (GH-134).\n",
      "  bt = Backtest(data, Fenix, cash=1000)\n"
     ]
    },
    {
     "name": "stdout",
     "output_type": "stream",
     "text": [
      "\n",
      "Error: APIError(code=-1121): Invalid symbol. - line: 236 - file: modulos.py - par: DEFIUSDT\n",
      "\n"
     ]
    },
    {
     "name": "stderr",
     "output_type": "stream",
     "text": [
      "c:\\LUCHO\\personal\\repopersonal\\luchocrypto\\FENIX\\modulos.py:309: UserWarning: Some prices are larger than initial cash value. Note that fractional trading is not supported. If you want to trade Bitcoin, increase initial cash, or trade μBTC or satoshis instead (GH-134).\n",
      "  bt = Backtest(data, Fenix, cash=1000)\n"
     ]
    },
    {
     "name": "stdout",
     "output_type": "stream",
     "text": [
      "RUNEUSDT - retorno: 4.21% - trades: 6 - Profit Factor: 2.339074837698986\n",
      "SUSHIUSDT - retorno: 4.9% - trades: 7 - Profit Factor: 2.3841488908072237\n",
      "STORJUSDT - retorno: 11.73% - trades: 4 - Profit Factor: 4.464605687022612\n",
      "FTMUSDT - retorno: 6.54% - trades: 6 - Profit Factor: 8.290975124914114\n",
      "ENJUSDT - retorno: 7.04% - trades: 4 - Profit Factor: 16.260075340674234\n",
      "CTKUSDT - retorno: 5.9% - trades: 6 - Profit Factor: 3.9619467853013064\n",
      "SFPUSDT - retorno: 2.74% - trades: 5 - Profit Factor: 2.789768129077861\n",
      "ALICEUSDT - retorno: 5.21% - trades: 9 - Profit Factor: 2.0191168208000745\n",
      "\n",
      "Error: APIError(code=-1121): Invalid symbol. - line: 236 - file: modulos.py - par: 1000SHIBUSDT\n",
      "\n",
      "\n",
      "Error: APIError(code=-1121): Invalid symbol. - line: 236 - file: modulos.py - par: BTCDOMUSDT\n",
      "\n",
      "\n",
      "Error: APIError(code=-1121): Invalid symbol. - line: 236 - file: modulos.py - par: 1000XECUSDT\n",
      "\n",
      "CELOUSDT - retorno: 4.58% - trades: 8 - Profit Factor: 2.433685160695554\n",
      "\n",
      "Error: APIError(code=-1121): Invalid symbol. - line: 236 - file: modulos.py - par: FOOTBALLUSDT\n",
      "\n",
      "\n",
      "Error: APIError(code=-1121): Invalid symbol. - line: 236 - file: modulos.py - par: 1000LUNCUSDT\n",
      "\n",
      "\n",
      "Error: APIError(code=-1121): Invalid symbol. - line: 236 - file: modulos.py - par: LUNA2USDT\n",
      "\n",
      "\n",
      "Error: APIError(code=-1121): Invalid symbol. - line: 236 - file: modulos.py - par: BLUEBIRDUSDT\n",
      "\n",
      "MINAUSDT - retorno: 9.55% - trades: 6 - Profit Factor: 8.826172718145072\n",
      "BNXUSDT - retorno: 4.33% - trades: 7 - Profit Factor: 3.0936762924377406\n",
      "LQTYUSDT - retorno: 8.79% - trades: 8 - Profit Factor: 2.2839799460364416\n",
      "\n",
      "Error: APIError(code=-1121): Invalid symbol. - line: 236 - file: modulos.py - par: BLURUSDT\n",
      "\n",
      "SUIUSDT - retorno: 6.68% - trades: 7 - Profit Factor: 3.25634144772971\n",
      "\n",
      "Error: APIError(code=-1121): Invalid symbol. - line: 236 - file: modulos.py - par: 1000PEPEUSDT\n",
      "\n",
      "\n",
      "Error: APIError(code=-1121): Invalid symbol. - line: 236 - file: modulos.py - par: 1000FLOKIUSDT\n",
      "\n",
      "COMBOUSDT - retorno: 21.1% - trades: 3 - Profit Factor: 20.232245537819896\n",
      "MAVUSDT - retorno: 2.09% - trades: 2 - Profit Factor: 4.245734004873687\n"
     ]
    },
    {
     "name": "stderr",
     "output_type": "stream",
     "text": [
      "C:\\Users\\Luis Gomez Freites\\AppData\\Local\\Packages\\PythonSoftwareFoundation.Python.3.10_qbz5n2kfra8p0\\LocalCache\\local-packages\\Python310\\site-packages\\backtesting\\_stats.py:122: RuntimeWarning: divide by zero encountered in double_scalars\n",
      "  s.loc['Sortino Ratio'] = np.clip((annualized_return - risk_free_rate) / (np.sqrt(np.mean(day_returns.clip(-np.inf, 0)**2)) * np.sqrt(annual_trading_days)), 0, np.inf)  # noqa: E501\n"
     ]
    }
   ],
   "source": [
    "import modulos as md\n",
    "lista=['CELOUSDT']\n",
    "\n",
    "lista=md.lista_de_monedas()\n",
    "\n",
    "for symbol in lista:\n",
    "    try:\n",
    "        data = md.estrategia_bb(symbol,tp_flag = False)\n",
    "        resultado = md.backtesting(data,plot_flag=False)\n",
    "        if resultado['Profit Factor']>1 and resultado[6]/resultado[17] >=0.5:\n",
    "            print(f\"{symbol} - retorno: {md.truncate(resultado[6],2)}% - trades: {resultado[17]} - Profit Factor: {resultado['Profit Factor']}\")\n",
    "    except Exception as falla:\n",
    "        pass  \n",
    "\n"
   ]
  }
 ],
 "metadata": {
  "kernelspec": {
   "display_name": "Python 3 (ipykernel)",
   "language": "python",
   "name": "python3"
  },
  "language_info": {
   "codemirror_mode": {
    "name": "ipython",
    "version": 3
   },
   "file_extension": ".py",
   "mimetype": "text/x-python",
   "name": "python",
   "nbconvert_exporter": "python",
   "pygments_lexer": "ipython3",
   "version": "3.10.11"
  }
 },
 "nbformat": 4,
 "nbformat_minor": 5
}
