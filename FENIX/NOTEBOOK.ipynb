{
 "cells": [
  {
   "cell_type": "code",
   "execution_count": null,
   "id": "2d7ba37d",
   "metadata": {},
   "outputs": [],
   "source": [
    "import modulos as md\n",
    "import numpy as np\n",
    "import constantes as cons\n",
    "import os\n",
    "import sys\n",
    "lista_filtrada = []\n",
    "\n",
    "#lista=md.lista_de_monedas()\n",
    "#lista=md.filtradodemonedas ()\n",
    "#lista=['LPTUSDT', 'ADAUSDT', 'BCHUSDT', 'DOGEUSDT', 'BLZUSDT', 'CFXUSDT', 'DYDXUSDT', '1000PEPEUSDT', 'XRPUSDT', 'BAKEUSDT', 'BTCUSDT', '1000SHIBUSDT', 'WLDUSDT', 'ARBUSDT', 'TOMOUSDT', 'OPUSDT', 'SOLUSDT', 'APEUSDT', 'UNFIUSDT', 'ETHUSDT', 'RUNEUSDT', 'SUIUSDT', 'MATICUSDT', 'LTCUSDT', 'SFPUSDT', 'BNBUSDT', 'LINKUSDT']\n",
    "lista=['BLZUSDT']\n",
    "\n",
    "if len(lista)>1:\n",
    "    imprimo=False\n",
    "    debug=False\n",
    "else:\n",
    "    imprimo= True\n",
    "    debug=True\n",
    "for symbol in lista:    \n",
    "    try:\n",
    "        #data,porcentajeentrada = md.estrategia_santa(symbol,tp_flag = True)\n",
    "        #data,porcentajeentrada = md.estrategia_trampa(symbol,tp_flag = True)\n",
    "        data,porcentajeentrada = md.estrategia_atrapes(symbol,tp_flag = False, debug=debug)\n",
    "        #data,porcentajeentrada = md.estrategia_oro('XAU',tp_flag = True)\n",
    "        #######################################################################\n",
    "        resultado = md.backtesting(data, plot_flag = imprimo)\n",
    "        #resultado = md.backtestingsanta(data, plot_flag = imprimo, debug = True)\n",
    "        ########################################################################\n",
    "        #if resultado['Return [%]'] < 0: # para santa3 mazmorra\n",
    "        #if data.disparo.iloc[-1]!=0: # imprime las monedas que estan en posible haz martillo\n",
    "        #        print(symbol)\n",
    "        if resultado['Return [%]'] > 0:\n",
    "            #if ((resultado['Profit Factor'] > 2 or np.isnan(resultado['Profit Factor'])) and (resultado['Return [%]']/resultado['# Trades']) >=0.33):            \n",
    "                lista_filtrada.append(symbol)\n",
    "        print(f\"{symbol} - Return [%]: {md.truncate(resultado['Return [%]'],2)}% - # Trades: {resultado['# Trades']} - Profit Factor: {resultado['Profit Factor']} - Win Rate [%]: {resultado['Win Rate [%]']}\")\n",
    "    except Exception as falla:\n",
    "        _, _, exc_tb = sys.exc_info()\n",
    "        fname = os.path.split(exc_tb.tb_frame.f_code.co_filename)[1]\n",
    "        print(\"\\nError: \"+str(falla)+\" - line: \"+str(exc_tb.tb_lineno)+\" - file: \"+str(fname)+\"\\n\")\n",
    "        pass\n",
    "for symbol in lista_filtrada:\n",
    "    md.printandlog(cons.nombrelog,symbol,pal=1)\n",
    "#md.dibuja_patrones_triangulos (data,998)    \n"
   ]
  },
  {
   "cell_type": "code",
   "execution_count": null,
   "id": "80a8eb66",
   "metadata": {},
   "outputs": [],
   "source": [
    "import modulos as md\n",
    "data,porcentajeentrada = md.estrategia_oro('XAU',tp_flag = False)\n",
    "resultado = md.backtesting(data, plot_flag = True,porcentajeentrada=porcentajeentrada)"
   ]
  }
 ],
 "metadata": {
  "kernelspec": {
   "display_name": "Python 3 (ipykernel)",
   "language": "python",
   "name": "python3"
  },
  "language_info": {
   "codemirror_mode": {
    "name": "ipython",
    "version": 3
   },
   "file_extension": ".py",
   "mimetype": "text/x-python",
   "name": "python",
   "nbconvert_exporter": "python",
   "pygments_lexer": "ipython3",
   "version": "3.10.11"
  }
 },
 "nbformat": 4,
 "nbformat_minor": 5
}
