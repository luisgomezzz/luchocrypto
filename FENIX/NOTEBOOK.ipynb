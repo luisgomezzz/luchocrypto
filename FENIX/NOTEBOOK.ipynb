{
 "cells": [
  {
   "cell_type": "code",
   "execution_count": 1,
   "id": "2d7ba37d",
   "metadata": {},
   "outputs": [
    {
     "name": "stdout",
     "output_type": "stream",
     "text": [
      "FLMUSDT - Return [%]: 0.08% - # Trades: 4 - Profit Factor: 3.395241382276425 - Win Rate [%]: 25.0\n",
      "DODOXUSDT - Return [%]: -0.24% - # Trades: 5 - Profit Factor: 0.13449342864165695 - Win Rate [%]: 40.0\n",
      "XRPUSDT - Return [%]: 0.15% - # Trades: 4 - Profit Factor: 3.4859377590922014 - Win Rate [%]: 75.0\n",
      "MATICUSDT - Return [%]: -0.14% - # Trades: 4 - Profit Factor: 0.467962705510432 - Win Rate [%]: 25.0\n",
      "SUIUSDT - Return [%]: 0.12% - # Trades: 6 - Profit Factor: 1.3321187087522823 - Win Rate [%]: 33.33333333333333\n",
      "BELUSDT - Return [%]: 0.33% - # Trades: 6 - Profit Factor: 1.237487948663451 - Win Rate [%]: 33.33333333333333\n",
      "TRBUSDT - Return [%]: 0.0% - # Trades: 0 - Profit Factor: nan - Win Rate [%]: nan\n",
      "PEOPLEUSDT - Return [%]: 0.0% - # Trades: 4 - Profit Factor: 0.3011103714074663 - Win Rate [%]: 25.0\n",
      "ETHUSDT - Return [%]: 0.0% - # Trades: 0 - Profit Factor: nan - Win Rate [%]: nan\n",
      "NMRUSDT - Return [%]: 0.0% - # Trades: 0 - Profit Factor: nan - Win Rate [%]: nan\n",
      "BNBUSDT - Return [%]: 0.0% - # Trades: 0 - Profit Factor: nan - Win Rate [%]: nan\n",
      "PERPUSDT - Return [%]: -4.85% - # Trades: 6 - Profit Factor: 0.13124743763351707 - Win Rate [%]: 50.0\n",
      "LINKUSDT - Return [%]: 0.0% - # Trades: 0 - Profit Factor: nan - Win Rate [%]: nan\n",
      "BCHUSDT - Return [%]: 0.0% - # Trades: 0 - Profit Factor: nan - Win Rate [%]: nan\n",
      "DOGEUSDT - Return [%]: 0.0% - # Trades: 4 - Profit Factor: 0.8002326675280608 - Win Rate [%]: 50.0\n",
      "1000PEPEUSDT - Return [%]: 0.0% - # Trades: 9 - Profit Factor: 1.2403771828167862 - Win Rate [%]: 44.44444444444444\n",
      "SOLUSDT - Return [%]: 0.0% - # Trades: 0 - Profit Factor: nan - Win Rate [%]: nan\n",
      "LTCUSDT - Return [%]: 0.0% - # Trades: 0 - Profit Factor: nan - Win Rate [%]: nan\n",
      "ENJUSDT - Return [%]: 0.5% - # Trades: 7 - Profit Factor: 2.654738516154431 - Win Rate [%]: 57.14285714285714\n",
      "SNXUSDT - Return [%]: 0.0% - # Trades: 0 - Profit Factor: nan - Win Rate [%]: nan\n",
      "BLZUSDT - Return [%]: -0.73% - # Trades: 7 - Profit Factor: 0.0 - Win Rate [%]: 0.0\n",
      "CYBERUSDT - Return [%]: 0.0% - # Trades: 0 - Profit Factor: nan - Win Rate [%]: nan\n",
      "CFXUSDT - Return [%]: 0.47% - # Trades: 8 - Profit Factor: 3.069472891432254 - Win Rate [%]: 37.5\n",
      "BTCUSDT - Return [%]: 0.0% - # Trades: 0 - Profit Factor: nan - Win Rate [%]: nan\n",
      "LPTUSDT - Return [%]: 0.0% - # Trades: 0 - Profit Factor: nan - Win Rate [%]: nan\n",
      "WLDUSDT - Return [%]: 0.0% - # Trades: 0 - Profit Factor: nan - Win Rate [%]: nan\n",
      "\n",
      "Oporunidad UNFIUSDT - variacion 25.88% - flecha:  ↑ - lineas: 9.776 y 10.49\n",
      "UNFIUSDT - Return [%]: 0.0% - # Trades: 0 - Profit Factor: nan - Win Rate [%]: nan\n"
     ]
    }
   ],
   "source": [
    "import modulos as md\n",
    "import numpy as np\n",
    "import constantes as cons\n",
    "import os\n",
    "import sys\n",
    "lista_filtrada = []\n",
    "\n",
    "#lista=md.lista_de_monedas()\n",
    "#lista=md.filtradodemonedas ()\n",
    "lista=['FLMUSDT', 'DODOXUSDT', 'XRPUSDT', 'MATICUSDT', 'SUIUSDT', 'BELUSDT', 'TRBUSDT', 'PEOPLEUSDT', 'ETHUSDT', 'NMRUSDT', 'BNBUSDT', 'PERPUSDT', 'LINKUSDT', 'BCHUSDT', 'DOGEUSDT', '1000PEPEUSDT', 'SOLUSDT', 'LTCUSDT', 'ENJUSDT', 'SNXUSDT', 'BLZUSDT', 'CYBERUSDT', 'CFXUSDT', 'BTCUSDT', 'LPTUSDT', 'WLDUSDT', 'UNFIUSDT']\n",
    "#lista=['LPTUSDT']\n",
    "\n",
    "if len(lista)>1:\n",
    "    imprimo=False\n",
    "    debug=False\n",
    "else:\n",
    "    imprimo= True\n",
    "    debug=True\n",
    "for symbol in lista:    \n",
    "    try:\n",
    "        #data,porcentajeentrada = md.estrategia_santa(symbol,tp_flag = True)\n",
    "        #data,porcentajeentrada = md.estrategia_trampa(symbol,tp_flag = True)\n",
    "        data,porcentajeentrada = md.estrategia_atrapes(symbol,tp_flag = False, debug=debug)\n",
    "        #data,porcentajeentrada = md.estrategia_oro('XAU',tp_flag = True)\n",
    "        #######################################################################\n",
    "        resultado = md.backtesting(data, plot_flag = imprimo,porcentajeentrada=porcentajeentrada)\n",
    "        #resultado = md.backtestingsanta(data, plot_flag = imprimo, debug = True)\n",
    "        ########################################################################\n",
    "        #if resultado['Return [%]'] < 0: # para santa3 mazmorra\n",
    "        #if data.disparo.iloc[-1]!=0: # imprime las monedas que estan en posible haz martillo\n",
    "        #        print(symbol)\n",
    "        if resultado['Return [%]'] > 0:\n",
    "            #if ((resultado['Profit Factor'] > 2 or np.isnan(resultado['Profit Factor'])) and (resultado['Return [%]']/resultado['# Trades']) >=0.33):            \n",
    "                lista_filtrada.append(symbol)\n",
    "        print(f\"{symbol} - Return [%]: {md.truncate(resultado['Return [%]'],2)}% - # Trades: {resultado['# Trades']} - Profit Factor: {resultado['Profit Factor']} - Win Rate [%]: {resultado['Win Rate [%]']}\")\n",
    "    except Exception as falla:\n",
    "        _, _, exc_tb = sys.exc_info()\n",
    "        fname = os.path.split(exc_tb.tb_frame.f_code.co_filename)[1]\n",
    "        print(\"\\nError: \"+str(falla)+\" - line: \"+str(exc_tb.tb_lineno)+\" - file: \"+str(fname)+\"\\n\")\n",
    "        pass\n",
    "for symbol in lista_filtrada:\n",
    "    md.printandlog(cons.nombrelog,symbol,pal=1)\n",
    "#md.dibuja_patrones_triangulos (data,998)    \n"
   ]
  }
 ],
 "metadata": {
  "kernelspec": {
   "display_name": "Python 3 (ipykernel)",
   "language": "python",
   "name": "python3"
  },
  "language_info": {
   "codemirror_mode": {
    "name": "ipython",
    "version": 3
   },
   "file_extension": ".py",
   "mimetype": "text/x-python",
   "name": "python",
   "nbconvert_exporter": "python",
   "pygments_lexer": "ipython3",
   "version": "3.10.11"
  }
 },
 "nbformat": 4,
 "nbformat_minor": 5
}
