{
 "cells": [
  {
   "cell_type": "code",
   "execution_count": 1,
   "id": "2d7ba37d",
   "metadata": {},
   "outputs": [
    {
     "name": "stderr",
     "output_type": "stream",
     "text": [
      "C:\\Users\\Luis Gomez Freites\\AppData\\Local\\Packages\\PythonSoftwareFoundation.Python.3.10_qbz5n2kfra8p0\\LocalCache\\local-packages\\Python310\\site-packages\\tqdm\\auto.py:22: TqdmWarning: IProgress not found. Please update jupyter and ipywidgets. See https://ipywidgets.readthedocs.io/en/stable/user_install.html\n",
      "  from .autonotebook import tqdm as notebook_tqdm\n",
      "BokehDeprecationWarning: Passing lists of formats for DatetimeTickFormatter scales was deprecated in Bokeh 3.0. Configure a single string format for each scale\n",
      "C:\\Users\\Luis Gomez Freites\\AppData\\Local\\Packages\\PythonSoftwareFoundation.Python.3.10_qbz5n2kfra8p0\\LocalCache\\local-packages\\Python310\\site-packages\\backtesting\\_plotting.py:250: UserWarning: DatetimeFormatter scales now only accept a single format. Using the first provided: '%d %b'\n",
      "  formatter=DatetimeTickFormatter(days=['%d %b', '%a %d'],\n",
      "BokehDeprecationWarning: Passing lists of formats for DatetimeTickFormatter scales was deprecated in Bokeh 3.0. Configure a single string format for each scale\n",
      "C:\\Users\\Luis Gomez Freites\\AppData\\Local\\Packages\\PythonSoftwareFoundation.Python.3.10_qbz5n2kfra8p0\\LocalCache\\local-packages\\Python310\\site-packages\\backtesting\\_plotting.py:250: UserWarning: DatetimeFormatter scales now only accept a single format. Using the first provided: '%m/%Y'\n",
      "  formatter=DatetimeTickFormatter(days=['%d %b', '%a %d'],\n"
     ]
    },
    {
     "name": "stdout",
     "output_type": "stream",
     "text": [
      "YGGUSDT - Return [%]: 0.39% - # Trades: 3 - Profit Factor: nan - Win Rate [%]: 100.0\n"
     ]
    }
   ],
   "source": [
    "import modulos as md\n",
    "import numpy as np\n",
    "import constantes as cons\n",
    "import os\n",
    "import sys\n",
    "lista_filtrada = []\n",
    "\n",
    "#lista=md.lista_de_monedas()\n",
    "#lista=md.filtradodemonedas ()\n",
    "#lista=['BELUSDT','RENUSDT','KNCUSDT','CVCUSDT','GTCUSDT','LQTYUSDT','STGUSDT','BAKEUSDT','AUDIOUSDT','MAVUSDT','BNTUSDT','LPTUSDT','LEVERUSDT','XRPUSDT']\n",
    "lista=['YGGUSDT']\n",
    "\n",
    "if len(lista)>1:\n",
    "    imprimo=False\n",
    "    debug=False\n",
    "else:\n",
    "    imprimo= True\n",
    "    debug=True\n",
    "for symbol in lista:    \n",
    "    try:\n",
    "        data,porcentajeentrada = md.estrategia_santa(symbol,tp_flag = True)\n",
    "        #data = md.estrategia_triangulos(symbol, tp_flag = False, print_lines_flag = imprimo)\n",
    "        #data,porcentajeentrada = md.estrategia_adrian(symbol,tp_flag = False)\n",
    "        #data,porcentajeentrada = md.estrategia_trampa(symbol,tp_flag = True)\n",
    "        #data,porcentajeentrada = md.estrategia_atrapes(symbol,tp_flag = True, debug=debug)\n",
    "        #######################################################################\n",
    "        #resultado = md.backtesting(data, plot_flag = imprimo)\n",
    "        resultado = md.backtestingsanta(data, plot_flag = imprimo, debug = True)\n",
    "        if resultado['Return [%]'] < 0: # para santa3 mazmorra\n",
    "        #if resultado['Return [%]'] > 0:\n",
    "            #if ((resultado['Profit Factor'] > 2 or np.isnan(resultado['Profit Factor'])) and (resultado['Return [%]']/resultado['# Trades']) >=0.33):            \n",
    "                lista_filtrada.append(symbol)\n",
    "        print(f\"{symbol} - Return [%]: {md.truncate(resultado['Return [%]'],2)}% - # Trades: {resultado['# Trades']} - Profit Factor: {resultado['Profit Factor']} - Win Rate [%]: {resultado['Win Rate [%]']}\")\n",
    "    except Exception as falla:\n",
    "        _, _, exc_tb = sys.exc_info()\n",
    "        fname = os.path.split(exc_tb.tb_frame.f_code.co_filename)[1]\n",
    "        print(\"\\nError: \"+str(falla)+\" - line: \"+str(exc_tb.tb_lineno)+\" - file: \"+str(fname)+\"\\n\")\n",
    "for symbol in lista_filtrada:\n",
    "    md.printandlog(cons.nombrelog,symbol,pal=1)\n",
    "#md.dibuja_patrones_triangulos (data,998)    \n"
   ]
  },
  {
   "cell_type": "code",
   "execution_count": 1,
   "id": "22820fb4",
   "metadata": {},
   "outputs": [
    {
     "name": "stdout",
     "output_type": "stream",
     "text": [
      "Archivo con datos de CoinMarketCap gruadado crypto_latests.csv\n"
     ]
    }
   ],
   "source": [
    "import requests\n",
    "import pandas as pd\n",
    "import json\n",
    "API_KEY = '4c9c0645-49c7-48c3-9a42-e7a2f94d448f'\n",
    "url = 'https://pro-api.coinmarketcap.com/v1/cryptocurrency/listings/latest'\n",
    "HEADERS = {'Accepts': 'application/json',\n",
    "           'X-CMC_PRO_API_KEY': API_KEY}\n",
    "PARAMS = {'convert': 'USD',\n",
    "          'limit': 1500}\n",
    "resp = requests.get(url, headers=HEADERS, params=PARAMS)\n",
    "def get_data(resp):\n",
    "    data = json.loads(resp.content)['data']\n",
    "    rows = list()\n",
    "    for item in data:\n",
    "        rows.append([\n",
    "                item['cmc_rank'],\n",
    "                item['id'],\n",
    "                item['name'],\n",
    "                item['symbol'],\n",
    "                item['slug'], \n",
    "                item['quote']['USD']['market_cap'],\n",
    "                item['quote']['USD']['volume_24h'],\n",
    "                item['date_added']])\n",
    "    df = pd.DataFrame(rows, columns=['cmc_rank','id','name','symbol','slug','market_cap','volume_24h','date_added'])\n",
    "    df.index.name = 'id'\n",
    "    return(df)\n",
    "if resp.status_code == 200:\n",
    "    df = get_data(resp)\n",
    "    if not df.empty:\n",
    "        df.to_csv('crypto_latests.csv')\n",
    "        print(\"Archivo con datos de CoinMarketCap gruadado crypto_latests.csv\")\n",
    "        df2 = pd.read_csv('crypto_latests.csv', index_col=0)\n",
    "    else:\n",
    "        print(\"df de CoinMarketCap vacío. No se actualizó crypto_latests.csv\")\n",
    "else:\n",
    "    print(resp.status_code)"
   ]
  },
  {
   "cell_type": "code",
   "execution_count": null,
   "id": "56ab2a87",
   "metadata": {},
   "outputs": [],
   "source": [
    "import modulos as md\n",
    "from numerize import numerize\n",
    "import pandas as pd\n",
    "\n",
    "df2 = pd.read_csv('crypto_latests.csv', index_col=0)\n",
    "symbol='CYBERUSDT'\n",
    "for index, row in df2.iterrows():\n",
    "    if row['symbol'] == (symbol[0:symbol.find('USDT')]).upper():       \n",
    "        print(f\"Symbol: {symbol} - Ranking: {row.cmc_rank} - Market cap: {numerize.numerize(row.market_cap)} - Vol24h: {numerize.numerize(row.volume_24h)} - date_added: {row.date_added}\")\n",
    "\n",
    "vo=md.volumeOf24h(symbol)\n",
    "print(f\"Vol24h: {numerize.numerize(vo)}\")   \n",
    "   "
   ]
  }
 ],
 "metadata": {
  "kernelspec": {
   "display_name": "Python 3 (ipykernel)",
   "language": "python",
   "name": "python3"
  },
  "language_info": {
   "codemirror_mode": {
    "name": "ipython",
    "version": 3
   },
   "file_extension": ".py",
   "mimetype": "text/x-python",
   "name": "python",
   "nbconvert_exporter": "python",
   "pygments_lexer": "ipython3",
   "version": "3.10.11"
  }
 },
 "nbformat": 4,
 "nbformat_minor": 5
}
