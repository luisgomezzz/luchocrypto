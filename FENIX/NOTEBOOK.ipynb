{
 "cells": [
  {
   "cell_type": "code",
   "execution_count": null,
   "id": "2d7ba37d",
   "metadata": {},
   "outputs": [],
   "source": [
    "###################################### ESTRATEGIA BB\n",
    "###################################################################################################################\n",
    "import modulos as md\n",
    "import numpy as np\n",
    "import constantes as cons\n",
    "\n",
    "lista=[\n",
    "'KNCUSDT',\n",
    "'ARKMUSDT',\n",
    "'BELUSDT',\n",
    "'AGLDUSDT',\n",
    "'STXUSDT',\n",
    "'FTMUSDT',\n",
    "'XRPUSDT',\n",
    "'SRMUSDT',\n",
    "'SUSHIUSDT',\n",
    "'SXPUSDT',\n",
    "'ALICEUSDT',\n",
    "'PENDLEUSDT',\n",
    "'MATICUSDT',\n",
    "'EOSUSDT',\n",
    "'CRVUSDT',\n",
    "'OMGUSDT',\n",
    "'EDUUSDT'\n",
    "]\n",
    "lista_filtrada = []\n",
    "\n",
    "lista=md.lista_de_monedas ()\n",
    "#lista=['SUSHIUSDT']\n",
    "\n",
    "for symbol in lista:    \n",
    "    try:\n",
    "        #data = md.estrategia_santa(symbol,tp_flag = True)\n",
    "        data = md.estrategia_triangulos(symbol, tp_flag = True, print_lines_flag = False)\n",
    "        #######################################################################\n",
    "        resultado = md.backtesting(data, plot_flag = False)\n",
    "        if ((resultado['Profit Factor'] > 2 or np.isnan(resultado['Profit Factor'])) and (resultado['Return [%]']/resultado['# Trades']) >=0.33):\n",
    "            lista_filtrada.append(symbol)\n",
    "            print(f\"{symbol} - Return [%]: {md.truncate(resultado['Return [%]'],2)}% - # Trades: {resultado['# Trades']} - Profit Factor: {resultado['Profit Factor']} - Win Rate [%]: {resultado['Win Rate [%]']}\")\n",
    "    except Exception as falla:\n",
    "        pass\n",
    "for symbol in lista_filtrada:\n",
    "    md.printandlog(cons.nombrelog,symbol,pal=1)\n",
    "#md.dibuja_patrones_triangulos (data,998)    \n"
   ]
  },
  {
   "cell_type": "code",
   "execution_count": null,
   "id": "ebc2902d",
   "metadata": {},
   "outputs": [],
   "source": [
    "md.dibuja_patrones_triangulos (data,990) "
   ]
  }
 ],
 "metadata": {
  "kernelspec": {
   "display_name": "Python 3 (ipykernel)",
   "language": "python",
   "name": "python3"
  },
  "language_info": {
   "codemirror_mode": {
    "name": "ipython",
    "version": 3
   },
   "file_extension": ".py",
   "mimetype": "text/x-python",
   "name": "python",
   "nbconvert_exporter": "python",
   "pygments_lexer": "ipython3",
   "version": "3.10.11"
  }
 },
 "nbformat": 4,
 "nbformat_minor": 5
}
