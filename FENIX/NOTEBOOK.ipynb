{
 "cells": [
  {
   "cell_type": "code",
   "execution_count": null,
   "id": "2d7ba37d",
   "metadata": {},
   "outputs": [],
   "source": [
    "import modulos as md\n",
    "import numpy as np\n",
    "import constantes as cons\n",
    "import os\n",
    "import sys\n",
    "lista_filtrada = []\n",
    "\n",
    "lista=md.lista_de_monedas()\n",
    "#lista=md.filtradodemonedas ()\n",
    "#lista=['SPELLUSDT', 'AXSUSDT', 'ETHUSDT', 'BNBUSDT', 'OGNUSDT', 'CYBERUSDT', '1000PEPEUSDT', 'COMPUSDT', 'ADAUSDT', 'BCHUSDT', 'RUNEUSDT', 'MATICUSDT', 'BLZUSDT', 'HBARUSDT', 'TRBUSDT', 'WLDUSDT', 'MTLUSDT', 'BTCUSDT', 'XRPUSDT', 'OPUSDT', 'PERPUSDT', 'ARBUSDT', 'STMXUSDT', 'CFXUSDT', 'SOLUSDT', 'DOGEUSDT', 'APEUSDT', 'UNFIUSDT', 'LTCUSDT', 'STORJUSDT', 'CRVUSDT']\n",
    "#lista=['STMXUSDT']\n",
    "\n",
    "if len(lista)>1:\n",
    "    imprimo=False\n",
    "    debug=False\n",
    "else:\n",
    "    imprimo= True\n",
    "    debug=True\n",
    "for symbol in lista:    \n",
    "    try:\n",
    "        #data,porcentajeentrada = md.estrategia_santa(symbol,tp_flag = True)\n",
    "        #data,porcentajeentrada = md.estrategia_trampa(symbol,tp_flag = True)\n",
    "        data = md.estrategia_haz(symbol, debug=debug)\n",
    "        #data,porcentajeentrada = md.estrategia_oro('XAU',tp_flag = True)\n",
    "        #######################################################################\n",
    "        resultado = md.backtesting(data, plot_flag = imprimo)\n",
    "        #resultado = md.backtestingsanta(data, plot_flag = imprimo, debug = True)\n",
    "        ########################################################################\n",
    "        #if resultado['Return [%]'] < 0: # para santa3 mazmorra\n",
    "        #if data.disparo.iloc[-1]!=0: # imprime las monedas que estan en posible haz martillo\n",
    "        #        print(symbol)\n",
    "        if resultado['Return [%]'] > 0:\n",
    "            #if ((resultado['Profit Factor'] > 2 or np.isnan(resultado['Profit Factor'])) and (resultado['Return [%]']/resultado['# Trades']) >=0.33):            \n",
    "                lista_filtrada.append(symbol)\n",
    "        print(f\"{symbol} - Return [%]: {md.truncate(resultado['Return [%]'],2)}% - # Trades: {resultado['# Trades']} - Profit Factor: {resultado['Profit Factor']} - Win Rate [%]: {resultado['Win Rate [%]']}\")\n",
    "    except Exception as falla:\n",
    "        _, _, exc_tb = sys.exc_info()\n",
    "        fname = os.path.split(exc_tb.tb_frame.f_code.co_filename)[1]\n",
    "        print(\"\\nError: \"+str(falla)+\" - line: \"+str(exc_tb.tb_lineno)+\" - file: \"+str(fname)+\"\\n\")\n",
    "        pass\n",
    "for symbol in lista_filtrada:\n",
    "    md.printandlog(cons.nombrelog,symbol,pal=1)\n",
    "#md.dibuja_patrones_triangulos (data,998)    \n"
   ]
  },
  {
   "cell_type": "code",
   "execution_count": 1,
   "id": "644b19e1",
   "metadata": {},
   "outputs": [
    {
     "name": "stdout",
     "output_type": "stream",
     "text": [
      "BTCUSDT - Return [%]: -2.78% - # Trades: 5 - Profit Factor: 0.0 - Win Rate [%]: 0.0\n",
      "ETHUSDT - Return [%]: 1.34% - # Trades: 7 - Profit Factor: 1.3489797449025367 - Win Rate [%]: 42.857142857142854\n",
      "BCHUSDT - Return [%]: 5.69% - # Trades: 7 - Profit Factor: 1.9806762170216674 - Win Rate [%]: 57.14285714285714\n",
      "XRPUSDT - Return [%]: -0.53% - # Trades: 9 - Profit Factor: 0.9032014654397048 - Win Rate [%]: 22.22222222222222\n",
      "LTCUSDT - Return [%]: -2.7% - # Trades: 5 - Profit Factor: 0.3195873820419188 - Win Rate [%]: 20.0\n",
      "LINKUSDT - Return [%]: 0.0% - # Trades: 0 - Profit Factor: nan - Win Rate [%]: nan\n",
      "ADAUSDT - Return [%]: 5.65% - # Trades: 3 - Profit Factor: nan - Win Rate [%]: 100.0\n",
      "BNBUSDT - Return [%]: 0.43% - # Trades: 11 - Profit Factor: 1.1255607580214448 - Win Rate [%]: 36.36363636363637\n",
      "ZRXUSDT - Return [%]: 7.75% - # Trades: 7 - Profit Factor: 3.445729668744915 - Win Rate [%]: 57.14285714285714\n",
      "DOGEUSDT - Return [%]: -1.04% - # Trades: 2 - Profit Factor: 0.0 - Win Rate [%]: 0.0\n",
      "MKRUSDT - Return [%]: 0.0% - # Trades: 0 - Profit Factor: nan - Win Rate [%]: nan\n",
      "DOTUSDT - Return [%]: -1.22% - # Trades: 5 - Profit Factor: 0.6805002410992717 - Win Rate [%]: 40.0\n",
      "TRBUSDT - Return [%]: 4.82% - # Trades: 3 - Profit Factor: 3.027986648408485 - Win Rate [%]: 66.66666666666666\n"
     ]
    },
    {
     "ename": "KeyboardInterrupt",
     "evalue": "",
     "output_type": "error",
     "traceback": [
      "\u001b[1;31m---------------------------------------------------------------------------\u001b[0m",
      "\u001b[1;31mKeyboardInterrupt\u001b[0m                         Traceback (most recent call last)",
      "\u001b[1;32mc:\\LUCHO\\personal\\repopersonal\\luchocrypto\\FENIX\\NOTEBOOK.ipynb Cell 2\u001b[0m line \u001b[0;36m2\n\u001b[0;32m     <a href='vscode-notebook-cell:/c%3A/LUCHO/personal/repopersonal/luchocrypto/FENIX/NOTEBOOK.ipynb#W1sZmlsZQ%3D%3D?line=16'>17</a>\u001b[0m \u001b[39mfor\u001b[39;00m symbol \u001b[39min\u001b[39;00m lista:    \n\u001b[0;32m     <a href='vscode-notebook-cell:/c%3A/LUCHO/personal/repopersonal/luchocrypto/FENIX/NOTEBOOK.ipynb#W1sZmlsZQ%3D%3D?line=17'>18</a>\u001b[0m     \u001b[39mtry\u001b[39;00m:\n\u001b[0;32m     <a href='vscode-notebook-cell:/c%3A/LUCHO/personal/repopersonal/luchocrypto/FENIX/NOTEBOOK.ipynb#W1sZmlsZQ%3D%3D?line=18'>19</a>\u001b[0m         \u001b[39m#print(symbol)\u001b[39;00m\n\u001b[1;32m---> <a href='vscode-notebook-cell:/c%3A/LUCHO/personal/repopersonal/luchocrypto/FENIX/NOTEBOOK.ipynb#W1sZmlsZQ%3D%3D?line=19'>20</a>\u001b[0m         data \u001b[39m=\u001b[39m md\u001b[39m.\u001b[39;49mestrategia_royal(symbol, debug \u001b[39m=\u001b[39;49m \u001b[39mFalse\u001b[39;49;00m, refinado \u001b[39m=\u001b[39;49m \u001b[39mFalse\u001b[39;49;00m, file_source \u001b[39m=\u001b[39;49m \u001b[39mFalse\u001b[39;49;00m, timeframe \u001b[39m=\u001b[39;49m \u001b[39m'\u001b[39;49m\u001b[39m1h\u001b[39;49m\u001b[39m'\u001b[39;49m)\n\u001b[0;32m     <a href='vscode-notebook-cell:/c%3A/LUCHO/personal/repopersonal/luchocrypto/FENIX/NOTEBOOK.ipynb#W1sZmlsZQ%3D%3D?line=20'>21</a>\u001b[0m         resultado\u001b[39m=\u001b[39mmd\u001b[39m.\u001b[39mbacktesting_royal(data, plot_flag\u001b[39m=\u001b[39mimprimo)\n\u001b[0;32m     <a href='vscode-notebook-cell:/c%3A/LUCHO/personal/repopersonal/luchocrypto/FENIX/NOTEBOOK.ipynb#W1sZmlsZQ%3D%3D?line=21'>22</a>\u001b[0m         \u001b[39mif\u001b[39;00m \u001b[39mnot\u001b[39;00m np\u001b[39m.\u001b[39misnan(data\u001b[39m.\u001b[39mdecisional_bajista_high\u001b[39m.\u001b[39miloc[\u001b[39m-\u001b[39m\u001b[39m2\u001b[39m]) \u001b[39mor\u001b[39;00m \u001b[39mnot\u001b[39;00m np\u001b[39m.\u001b[39misnan(data\u001b[39m.\u001b[39mdecisional_alcista_high\u001b[39m.\u001b[39miloc[\u001b[39m-\u001b[39m\u001b[39m2\u001b[39m]):\n",
      "File \u001b[1;32mc:\\LUCHO\\personal\\repopersonal\\luchocrypto\\FENIX\\modulos.py:1587\u001b[0m, in \u001b[0;36mestrategia_royal\u001b[1;34m(symbol, debug, refinado, file_source, timeframe)\u001b[0m\n\u001b[0;32m   1585\u001b[0m \u001b[39mdef\u001b[39;00m \u001b[39mestrategia_royal\u001b[39m(symbol,debug \u001b[39m=\u001b[39m \u001b[39mFalse\u001b[39;00m, refinado \u001b[39m=\u001b[39m \u001b[39mTrue\u001b[39;00m, file_source\u001b[39m=\u001b[39m\u001b[39mFalse\u001b[39;00m,timeframe \u001b[39m=\u001b[39m \u001b[39m'\u001b[39m\u001b[39m1h\u001b[39m\u001b[39m'\u001b[39m):\n\u001b[0;32m   1586\u001b[0m     \u001b[39mtry\u001b[39;00m:                \n\u001b[1;32m-> 1587\u001b[0m         data \u001b[39m=\u001b[39m smart_money(symbol,refinado,file_source,timeframe)          \n\u001b[0;32m   1588\u001b[0m         data[\u001b[39m'\u001b[39m\u001b[39msignal\u001b[39m\u001b[39m'\u001b[39m] \u001b[39m=\u001b[39m np\u001b[39m.\u001b[39mwhere((data\u001b[39m.\u001b[39mtendencia \u001b[39m==\u001b[39m \u001b[39m1\u001b[39m)\n\u001b[0;32m   1589\u001b[0m                                   \u001b[39m&\u001b[39m(data\u001b[39m.\u001b[39mLow \u001b[39m>\u001b[39m data\u001b[39m.\u001b[39mdecisional_alcista_low)\n\u001b[0;32m   1590\u001b[0m                                   \u001b[39m&\u001b[39m(data\u001b[39m.\u001b[39mLow \u001b[39m<\u001b[39m\u001b[39m=\u001b[39m data\u001b[39m.\u001b[39mdecisional_alcista_high)\n\u001b[1;32m   (...)\u001b[0m\n\u001b[0;32m   1599\u001b[0m                                 )\n\u001b[0;32m   1600\u001b[0m                                 )\n\u001b[0;32m   1601\u001b[0m         data[\u001b[39m'\u001b[39m\u001b[39mtake_profit\u001b[39m\u001b[39m'\u001b[39m] \u001b[39m=\u001b[39m   np\u001b[39m.\u001b[39mwhere(\n\u001b[0;32m   1602\u001b[0m                                 data\u001b[39m.\u001b[39msignal \u001b[39m==\u001b[39m \u001b[39m-\u001b[39m\u001b[39m1\u001b[39m,\n\u001b[0;32m   1603\u001b[0m                                 data\u001b[39m.\u001b[39mClose\u001b[39m-\u001b[39mdata\u001b[39m.\u001b[39matr\u001b[39m*\u001b[39m\u001b[39m3\u001b[39m,\n\u001b[1;32m   (...)\u001b[0m\n\u001b[0;32m   1608\u001b[0m                                 )\n\u001b[0;32m   1609\u001b[0m                                 )\n",
      "File \u001b[1;32mc:\\LUCHO\\personal\\repopersonal\\luchocrypto\\FENIX\\modulos.py:1521\u001b[0m, in \u001b[0;36msmart_money\u001b[1;34m(symbol, refinado, file_source, timeframe)\u001b[0m\n\u001b[0;32m   1519\u001b[0m \u001b[39mif\u001b[39;00m np\u001b[39m.\u001b[39misnan(df[\u001b[39m'\u001b[39m\u001b[39mdecisional_alcista_high\u001b[39m\u001b[39m'\u001b[39m]\u001b[39m.\u001b[39miloc[i]):\u001b[39m# and df.Low.iloc[i] > df.alcista_extremo_high.iloc[i]:    \u001b[39;00m\n\u001b[0;32m   1520\u001b[0m     df\u001b[39m.\u001b[39mat[i, \u001b[39m'\u001b[39m\u001b[39mdecisional_alcista_high\u001b[39m\u001b[39m'\u001b[39m] \u001b[39m=\u001b[39m high_guardado\n\u001b[1;32m-> 1521\u001b[0m     df\u001b[39m.\u001b[39;49mat[i, \u001b[39m'\u001b[39;49m\u001b[39mdecisional_alcista_low\u001b[39;49m\u001b[39m'\u001b[39;49m] \u001b[39m=\u001b[39m low_guardado\n\u001b[0;32m   1522\u001b[0m \u001b[39melse\u001b[39;00m:\n\u001b[0;32m   1523\u001b[0m     high_guardado \u001b[39m=\u001b[39m df[\u001b[39m'\u001b[39m\u001b[39mdecisional_alcista_high\u001b[39m\u001b[39m'\u001b[39m]\u001b[39m.\u001b[39miloc[i]\n",
      "File \u001b[1;32m~\\AppData\\Local\\Packages\\PythonSoftwareFoundation.Python.3.10_qbz5n2kfra8p0\\LocalCache\\local-packages\\Python310\\site-packages\\pandas\\core\\indexing.py:2442\u001b[0m, in \u001b[0;36m_AtIndexer.__setitem__\u001b[1;34m(self, key, value)\u001b[0m\n\u001b[0;32m   2439\u001b[0m     \u001b[39mself\u001b[39m\u001b[39m.\u001b[39mobj\u001b[39m.\u001b[39mloc[key] \u001b[39m=\u001b[39m value\n\u001b[0;32m   2440\u001b[0m     \u001b[39mreturn\u001b[39;00m\n\u001b[1;32m-> 2442\u001b[0m \u001b[39mreturn\u001b[39;00m \u001b[39msuper\u001b[39;49m()\u001b[39m.\u001b[39;49m\u001b[39m__setitem__\u001b[39;49m(key, value)\n",
      "File \u001b[1;32m~\\AppData\\Local\\Packages\\PythonSoftwareFoundation.Python.3.10_qbz5n2kfra8p0\\LocalCache\\local-packages\\Python310\\site-packages\\pandas\\core\\indexing.py:2397\u001b[0m, in \u001b[0;36m_ScalarAccessIndexer.__setitem__\u001b[1;34m(self, key, value)\u001b[0m\n\u001b[0;32m   2394\u001b[0m \u001b[39mif\u001b[39;00m \u001b[39mlen\u001b[39m(key) \u001b[39m!=\u001b[39m \u001b[39mself\u001b[39m\u001b[39m.\u001b[39mndim:\n\u001b[0;32m   2395\u001b[0m     \u001b[39mraise\u001b[39;00m \u001b[39mValueError\u001b[39;00m(\u001b[39m\"\u001b[39m\u001b[39mNot enough indexers for scalar access (setting)!\u001b[39m\u001b[39m\"\u001b[39m)\n\u001b[1;32m-> 2397\u001b[0m \u001b[39mself\u001b[39;49m\u001b[39m.\u001b[39;49mobj\u001b[39m.\u001b[39;49m_set_value(\u001b[39m*\u001b[39;49mkey, value\u001b[39m=\u001b[39;49mvalue, takeable\u001b[39m=\u001b[39;49m\u001b[39mself\u001b[39;49m\u001b[39m.\u001b[39;49m_takeable)\n",
      "File \u001b[1;32m~\\AppData\\Local\\Packages\\PythonSoftwareFoundation.Python.3.10_qbz5n2kfra8p0\\LocalCache\\local-packages\\Python310\\site-packages\\pandas\\core\\frame.py:4209\u001b[0m, in \u001b[0;36mDataFrame._set_value\u001b[1;34m(self, index, col, value, takeable)\u001b[0m\n\u001b[0;32m   4207\u001b[0m         icol \u001b[39m=\u001b[39m \u001b[39mself\u001b[39m\u001b[39m.\u001b[39mcolumns\u001b[39m.\u001b[39mget_loc(col)\n\u001b[0;32m   4208\u001b[0m         iindex \u001b[39m=\u001b[39m \u001b[39mself\u001b[39m\u001b[39m.\u001b[39mindex\u001b[39m.\u001b[39mget_loc(index)\n\u001b[1;32m-> 4209\u001b[0m     \u001b[39mself\u001b[39;49m\u001b[39m.\u001b[39;49m_mgr\u001b[39m.\u001b[39;49mcolumn_setitem(icol, iindex, value)\n\u001b[0;32m   4210\u001b[0m     \u001b[39mself\u001b[39m\u001b[39m.\u001b[39m_clear_item_cache()\n\u001b[0;32m   4212\u001b[0m \u001b[39mexcept\u001b[39;00m (\u001b[39mKeyError\u001b[39;00m, \u001b[39mTypeError\u001b[39;00m, \u001b[39mValueError\u001b[39;00m):\n\u001b[0;32m   4213\u001b[0m     \u001b[39m# get_loc might raise a KeyError for missing labels (falling back\u001b[39;00m\n\u001b[0;32m   4214\u001b[0m     \u001b[39m#  to (i)loc will do expansion of the index)\u001b[39;00m\n\u001b[0;32m   4215\u001b[0m     \u001b[39m# column_setitem will do validation that may raise TypeError or ValueError\u001b[39;00m\n\u001b[0;32m   4216\u001b[0m     \u001b[39m# set using a non-recursive method & reset the cache\u001b[39;00m\n",
      "File \u001b[1;32m~\\AppData\\Local\\Packages\\PythonSoftwareFoundation.Python.3.10_qbz5n2kfra8p0\\LocalCache\\local-packages\\Python310\\site-packages\\pandas\\core\\internals\\managers.py:1369\u001b[0m, in \u001b[0;36mBlockManager.column_setitem\u001b[1;34m(self, loc, idx, value)\u001b[0m\n\u001b[0;32m   1366\u001b[0m     \u001b[39mself\u001b[39m\u001b[39m.\u001b[39m_clear_reference_block(blkno)\n\u001b[0;32m   1368\u001b[0m col_mgr \u001b[39m=\u001b[39m \u001b[39mself\u001b[39m\u001b[39m.\u001b[39miget(loc)\n\u001b[1;32m-> 1369\u001b[0m new_mgr \u001b[39m=\u001b[39m col_mgr\u001b[39m.\u001b[39;49msetitem((idx,), value)\n\u001b[0;32m   1370\u001b[0m \u001b[39mself\u001b[39m\u001b[39m.\u001b[39miset(loc, new_mgr\u001b[39m.\u001b[39m_block\u001b[39m.\u001b[39mvalues, inplace\u001b[39m=\u001b[39m\u001b[39mTrue\u001b[39;00m)\n",
      "File \u001b[1;32m~\\AppData\\Local\\Packages\\PythonSoftwareFoundation.Python.3.10_qbz5n2kfra8p0\\LocalCache\\local-packages\\Python310\\site-packages\\pandas\\core\\internals\\managers.py:388\u001b[0m, in \u001b[0;36mBaseBlockManager.setitem\u001b[1;34m(self, indexer, value)\u001b[0m\n\u001b[0;32m    383\u001b[0m \u001b[39mif\u001b[39;00m _using_copy_on_write() \u001b[39mand\u001b[39;00m \u001b[39mnot\u001b[39;00m \u001b[39mself\u001b[39m\u001b[39m.\u001b[39m_has_no_reference(\u001b[39m0\u001b[39m):\n\u001b[0;32m    384\u001b[0m     \u001b[39m# if being referenced -> perform Copy-on-Write and clear the reference\u001b[39;00m\n\u001b[0;32m    385\u001b[0m     \u001b[39m# this method is only called if there is a single block -> hardcoded 0\u001b[39;00m\n\u001b[0;32m    386\u001b[0m     \u001b[39mself\u001b[39m \u001b[39m=\u001b[39m \u001b[39mself\u001b[39m\u001b[39m.\u001b[39mcopy()\n\u001b[1;32m--> 388\u001b[0m \u001b[39mreturn\u001b[39;00m \u001b[39mself\u001b[39;49m\u001b[39m.\u001b[39;49mapply(\u001b[39m\"\u001b[39;49m\u001b[39msetitem\u001b[39;49m\u001b[39m\"\u001b[39;49m, indexer\u001b[39m=\u001b[39;49mindexer, value\u001b[39m=\u001b[39;49mvalue)\n",
      "File \u001b[1;32m~\\AppData\\Local\\Packages\\PythonSoftwareFoundation.Python.3.10_qbz5n2kfra8p0\\LocalCache\\local-packages\\Python310\\site-packages\\pandas\\core\\internals\\managers.py:347\u001b[0m, in \u001b[0;36mBaseBlockManager.apply\u001b[1;34m(self, f, align_keys, ignore_failures, **kwargs)\u001b[0m\n\u001b[0;32m    345\u001b[0m         applied \u001b[39m=\u001b[39m b\u001b[39m.\u001b[39mapply(f, \u001b[39m*\u001b[39m\u001b[39m*\u001b[39mkwargs)\n\u001b[0;32m    346\u001b[0m     \u001b[39melse\u001b[39;00m:\n\u001b[1;32m--> 347\u001b[0m         applied \u001b[39m=\u001b[39m \u001b[39mgetattr\u001b[39m(b, f)(\u001b[39m*\u001b[39m\u001b[39m*\u001b[39mkwargs)\n\u001b[0;32m    348\u001b[0m \u001b[39mexcept\u001b[39;00m (\u001b[39mTypeError\u001b[39;00m, \u001b[39mNotImplementedError\u001b[39;00m):\n\u001b[0;32m    349\u001b[0m     \u001b[39mif\u001b[39;00m \u001b[39mnot\u001b[39;00m ignore_failures:\n",
      "File \u001b[1;32m~\\AppData\\Local\\Packages\\PythonSoftwareFoundation.Python.3.10_qbz5n2kfra8p0\\LocalCache\\local-packages\\Python310\\site-packages\\pandas\\core\\internals\\blocks.py:971\u001b[0m, in \u001b[0;36mBlock.setitem\u001b[1;34m(self, indexer, value)\u001b[0m\n\u001b[0;32m    969\u001b[0m value \u001b[39m=\u001b[39m extract_array(value, extract_numpy\u001b[39m=\u001b[39m\u001b[39mTrue\u001b[39;00m)\n\u001b[0;32m    970\u001b[0m \u001b[39mtry\u001b[39;00m:\n\u001b[1;32m--> 971\u001b[0m     casted \u001b[39m=\u001b[39m np_can_hold_element(values\u001b[39m.\u001b[39;49mdtype, value)\n\u001b[0;32m    972\u001b[0m \u001b[39mexcept\u001b[39;00m LossySetitemError:\n\u001b[0;32m    973\u001b[0m     \u001b[39m# current dtype cannot store value, coerce to common dtype\u001b[39;00m\n\u001b[0;32m    974\u001b[0m     nb \u001b[39m=\u001b[39m \u001b[39mself\u001b[39m\u001b[39m.\u001b[39mcoerce_to_target_dtype(value)\n",
      "\u001b[1;31mKeyboardInterrupt\u001b[0m: "
     ]
    }
   ],
   "source": [
    "import modulos as md\n",
    "import numpy as np\n",
    "import os\n",
    "import sys\n",
    "import constantes as cons\n",
    "#lista=md.filtradodemonedas ()\n",
    "lista_filtrada = []\n",
    "lista=['BTCUSDT', 'ETHUSDT', 'BCHUSDT', 'XRPUSDT', 'LTCUSDT', 'LINKUSDT', 'ADAUSDT', 'BNBUSDT', 'ZRXUSDT', 'DOGEUSDT', 'MKRUSDT', 'DOTUSDT', 'TRBUSDT', 'RUNEUSDT', 'SOLUSDT', 'STORJUSDT', 'AVAXUSDT', 'ENJUSDT', 'FILUSDT', 'MATICUSDT', 'COTIUSDT', '1000SHIBUSDT', 'BAKEUSDT', 'DYDXUSDT', 'GALAUSDT', 'APEUSDT', 'OPUSDT', 'LQTYUSDT', 'ARBUSDT', 'LEVERUSDT', '1000PEPEUSDT', 'WLDUSDT', 'BNTUSDT', 'ARKUSDT']\n",
    "#lista=['ETHUSDT']\n",
    "\n",
    "if len(lista)>1:\n",
    "    imprimo=False\n",
    "    debug=False\n",
    "else:\n",
    "    imprimo= True\n",
    "    debug=True\n",
    "for symbol in lista:    \n",
    "    try:\n",
    "        #print(symbol)\n",
    "        data = md.estrategia_royal(symbol, debug = False, refinado = False, file_source = False, timeframe = '1h')\n",
    "        resultado=md.backtesting_royal(data, plot_flag=imprimo)\n",
    "        if not np.isnan(data.decisional_bajista_high.iloc[-2]) or not np.isnan(data.decisional_alcista_high.iloc[-2]):\n",
    "            lista_filtrada.append(symbol)\n",
    "        print(f\"{symbol} - Return [%]: {md.truncate(resultado['Return [%]'],2)}% - # Trades: {resultado['# Trades']} - Profit Factor: {resultado['Profit Factor']} - Win Rate [%]: {resultado['Win Rate [%]']}\")\n",
    "    except Exception as falla:\n",
    "        _, _, exc_tb = sys.exc_info()\n",
    "        fname = os.path.split(exc_tb.tb_frame.f_code.co_filename)[1]\n",
    "        print(\"\\nError: \"+str(falla)+\" - line: \"+str(exc_tb.tb_lineno)+\" - file: \"+str(fname)+\"\\n\")\n",
    "        pass\n",
    "for symbol in lista_filtrada:\n",
    "    md.printandlog(cons.nombrelog,symbol,pal=1)\n",
    "#(data.loc[data['Open Time'] == '2023-10-03 03:00:00'])    \n"
   ]
  }
 ],
 "metadata": {
  "kernelspec": {
   "display_name": "Python 3 (ipykernel)",
   "language": "python",
   "name": "python3"
  },
  "language_info": {
   "codemirror_mode": {
    "name": "ipython",
    "version": 3
   },
   "file_extension": ".py",
   "mimetype": "text/x-python",
   "name": "python",
   "nbconvert_exporter": "python",
   "pygments_lexer": "ipython3",
   "version": "3.10.11"
  }
 },
 "nbformat": 4,
 "nbformat_minor": 5
}
