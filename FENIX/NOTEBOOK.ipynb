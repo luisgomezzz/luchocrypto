{
 "cells": [
  {
   "cell_type": "code",
   "execution_count": 3,
   "id": "2d7ba37d",
   "metadata": {},
   "outputs": [
    {
     "name": "stdout",
     "output_type": "stream",
     "text": [
      "EOSUSDT - Return [%]: 0.99% - # Trades: 2 - Profit Factor: 392.0329380755799 - Win Rate [%]: 50.0\n"
     ]
    }
   ],
   "source": [
    "###################################### ESTRATEGIA BB\n",
    "###################################################################################################################\n",
    "import modulos as md\n",
    "import numpy as np\n",
    "import constantes as cons\n",
    "\n",
    "lista=['XTZUSDT',\n",
    "'KNCUSDT',\n",
    "'SRMUSDT',\n",
    "'FLOWUSDT',\n",
    "'STGUSDT',\n",
    "'MAVUSDT',\n",
    "'SUIUSDT',\n",
    "'XLMUSDT',\n",
    "'XRPUSDT',\n",
    "'1INCHUSDT',\n",
    "'EDUUSDT',\n",
    "'RAYUSDT'\n",
    "]\n",
    "lista_filtrada = []\n",
    "\n",
    "lista=md.lista_de_monedas ()\n",
    "#lista=['XTZUSDT']\n",
    "\n",
    "for symbol in lista:    \n",
    "    try:\n",
    "        data = md.estrategia_santa(symbol,tp_flag = True)\n",
    "        #data = md.estrategia_triangulos(symbol, tp_flag = True, print_lines_flag = False)\n",
    "        #######################################################################\n",
    "        resultado = md.backtesting(data, plot_flag = False)\n",
    "        if ((resultado['Profit Factor'] > 2 or np.isnan(resultado['Profit Factor'])) and (resultado['Return [%]']/resultado['# Trades']) >=0.33):\n",
    "            lista_filtrada.append(symbol)\n",
    "            print(f\"{symbol} - Return [%]: {md.truncate(resultado['Return [%]'],2)}% - # Trades: {resultado['# Trades']} - Profit Factor: {resultado['Profit Factor']} - Win Rate [%]: {resultado['Win Rate [%]']}\")\n",
    "    except Exception as falla:\n",
    "        pass\n",
    "for symbol in lista_filtrada:\n",
    "    md.printandlog(cons.nombrelog,symbol,pal=1)\n",
    "#md.dibuja_patrones_triangulos (data,147)    \n"
   ]
  },
  {
   "cell_type": "code",
   "execution_count": 2,
   "id": "ebc2902d",
   "metadata": {},
   "outputs": [
    {
     "name": "stdout",
     "output_type": "stream",
     "text": [
      "0.9869275424396535 -0.987829161147262\n"
     ]
    },
    {
     "data": {
      "application/vnd.plotly.v1+json": {
       "config": {
        "plotlyServerURL": "https://plot.ly"
       },
       "data": [
        {
         "close": [
          0.834,
          0.833,
          0.833,
          0.833,
          0.836,
          0.835,
          0.836,
          0.836,
          0.837,
          0.837,
          0.837,
          0.837,
          0.838,
          0.837,
          0.836,
          0.837,
          0.837,
          0.838,
          0.837,
          0.838,
          0.839,
          0.838,
          0.839,
          0.837,
          0.838,
          0.837,
          0.836,
          0.836,
          0.838,
          0.837,
          0.837,
          0.836,
          0.835,
          0.835,
          0.837,
          0.838,
          0.837,
          0.839,
          0.838,
          0.838,
          0.839,
          0.838,
          0.838,
          0.839,
          0.838,
          0.839,
          0.84,
          0.841,
          0.843,
          0.841,
          0.841,
          0.841,
          0.839,
          0.837,
          0.836,
          0.839,
          0.839,
          0.84,
          0.84,
          0.842,
          0.843,
          0.843,
          0.842,
          0.839,
          0.839,
          0.84,
          0.841,
          0.84,
          0.84,
          0.838,
          0.839,
          0.839
         ],
         "high": [
          0.834,
          0.834,
          0.833,
          0.833,
          0.836,
          0.836,
          0.837,
          0.837,
          0.838,
          0.838,
          0.838,
          0.838,
          0.839,
          0.838,
          0.837,
          0.837,
          0.839,
          0.838,
          0.838,
          0.839,
          0.84,
          0.839,
          0.84,
          0.839,
          0.838,
          0.838,
          0.838,
          0.837,
          0.839,
          0.838,
          0.838,
          0.837,
          0.836,
          0.836,
          0.837,
          0.838,
          0.838,
          0.839,
          0.84,
          0.839,
          0.839,
          0.839,
          0.839,
          0.839,
          0.84,
          0.839,
          0.841,
          0.841,
          0.843,
          0.842,
          0.842,
          0.842,
          0.84,
          0.84,
          0.838,
          0.839,
          0.839,
          0.841,
          0.841,
          0.842,
          0.843,
          0.844,
          0.843,
          0.841,
          0.841,
          0.841,
          0.841,
          0.841,
          0.84,
          0.839,
          0.84,
          0.839
         ],
         "low": [
          0.833,
          0.833,
          0.832,
          0.832,
          0.833,
          0.834,
          0.835,
          0.835,
          0.836,
          0.837,
          0.836,
          0.836,
          0.837,
          0.837,
          0.836,
          0.836,
          0.837,
          0.837,
          0.836,
          0.837,
          0.838,
          0.838,
          0.838,
          0.837,
          0.837,
          0.836,
          0.835,
          0.836,
          0.837,
          0.837,
          0.837,
          0.836,
          0.835,
          0.834,
          0.835,
          0.837,
          0.836,
          0.836,
          0.838,
          0.838,
          0.837,
          0.838,
          0.837,
          0.838,
          0.838,
          0.838,
          0.839,
          0.84,
          0.84,
          0.84,
          0.841,
          0.841,
          0.839,
          0.837,
          0.836,
          0.837,
          0.839,
          0.839,
          0.84,
          0.84,
          0.841,
          0.842,
          0.842,
          0.839,
          0.839,
          0.839,
          0.84,
          0.839,
          0.839,
          0.838,
          0.838,
          0.838
         ],
         "open": [
          0.833,
          0.834,
          0.833,
          0.832,
          0.833,
          0.836,
          0.835,
          0.837,
          0.836,
          0.838,
          0.837,
          0.837,
          0.837,
          0.838,
          0.837,
          0.836,
          0.837,
          0.838,
          0.837,
          0.837,
          0.839,
          0.839,
          0.839,
          0.839,
          0.838,
          0.837,
          0.837,
          0.836,
          0.837,
          0.838,
          0.838,
          0.837,
          0.835,
          0.835,
          0.835,
          0.837,
          0.837,
          0.837,
          0.839,
          0.839,
          0.837,
          0.838,
          0.838,
          0.839,
          0.84,
          0.838,
          0.839,
          0.84,
          0.84,
          0.842,
          0.841,
          0.842,
          0.84,
          0.84,
          0.838,
          0.837,
          0.839,
          0.84,
          0.84,
          0.84,
          0.841,
          0.843,
          0.843,
          0.841,
          0.839,
          0.839,
          0.84,
          0.841,
          0.84,
          0.839,
          0.838,
          0.838
         ],
         "type": "candlestick",
         "x": [
          928,
          929,
          930,
          931,
          932,
          933,
          934,
          935,
          936,
          937,
          938,
          939,
          940,
          941,
          942,
          943,
          944,
          945,
          946,
          947,
          948,
          949,
          950,
          951,
          952,
          953,
          954,
          955,
          956,
          957,
          958,
          959,
          960,
          961,
          962,
          963,
          964,
          965,
          966,
          967,
          968,
          969,
          970,
          971,
          972,
          973,
          974,
          975,
          976,
          977,
          978,
          979,
          980,
          981,
          982,
          983,
          984,
          985,
          986,
          987,
          988,
          989,
          990,
          991,
          992,
          993,
          994,
          995,
          996,
          997,
          998,
          999
         ]
        },
        {
         "marker": {
          "color": "MediumPurple",
          "size": 4
         },
         "mode": "markers",
         "name": "pivot",
         "type": "scatter",
         "x": [
          928,
          929,
          930,
          931,
          932,
          933,
          934,
          935,
          936,
          937,
          938,
          939,
          940,
          941,
          942,
          943,
          944,
          945,
          946,
          947,
          948,
          949,
          950,
          951,
          952,
          953,
          954,
          955,
          956,
          957,
          958,
          959,
          960,
          961,
          962,
          963,
          964,
          965,
          966,
          967,
          968,
          969,
          970,
          971,
          972,
          973,
          974,
          975,
          976,
          977,
          978,
          979,
          980,
          981,
          982,
          983,
          984,
          985,
          986,
          987,
          988,
          989,
          990,
          991,
          992,
          993,
          994,
          995,
          996,
          997,
          998,
          999
         ],
         "y": [
          0.835,
          null,
          null,
          0.831,
          null,
          null,
          null,
          null,
          0.839,
          null,
          null,
          0.835,
          0.84,
          null,
          0.835,
          0.835,
          0.84,
          null,
          0.835,
          null,
          0.841,
          null,
          0.841,
          null,
          null,
          null,
          0.834,
          null,
          0.84,
          null,
          null,
          null,
          null,
          0.833,
          null,
          null,
          null,
          null,
          0.841,
          null,
          null,
          null,
          0.836,
          null,
          null,
          null,
          null,
          null,
          0.844,
          null,
          null,
          null,
          null,
          null,
          0.835,
          null,
          null,
          null,
          null,
          null,
          null,
          0.845,
          null,
          0.838,
          0.838,
          0.838,
          0.842,
          0.842,
          null,
          null,
          null,
          null
         ]
        },
        {
         "mode": "lines",
         "name": "min slope",
         "type": "scatter",
         "x": [
          982,
          991,
          992,
          993,
          1008
         ],
         "y": [
          0.8360584415584416,
          0.8386883116883116,
          0.8389805194805194,
          0.8392727272727272,
          0.8436558441558442
         ]
        },
        {
         "mode": "lines",
         "name": "max slope",
         "type": "scatter",
         "x": [
          989,
          994,
          995,
          1010
         ],
         "y": [
          0.8439516129032258,
          0.8412903225806452,
          0.840758064516129,
          0.8327741935483871
         ]
        }
       ],
       "layout": {
        "template": {
         "data": {
          "bar": [
           {
            "error_x": {
             "color": "#2a3f5f"
            },
            "error_y": {
             "color": "#2a3f5f"
            },
            "marker": {
             "line": {
              "color": "#E5ECF6",
              "width": 0.5
             },
             "pattern": {
              "fillmode": "overlay",
              "size": 10,
              "solidity": 0.2
             }
            },
            "type": "bar"
           }
          ],
          "barpolar": [
           {
            "marker": {
             "line": {
              "color": "#E5ECF6",
              "width": 0.5
             },
             "pattern": {
              "fillmode": "overlay",
              "size": 10,
              "solidity": 0.2
             }
            },
            "type": "barpolar"
           }
          ],
          "carpet": [
           {
            "aaxis": {
             "endlinecolor": "#2a3f5f",
             "gridcolor": "white",
             "linecolor": "white",
             "minorgridcolor": "white",
             "startlinecolor": "#2a3f5f"
            },
            "baxis": {
             "endlinecolor": "#2a3f5f",
             "gridcolor": "white",
             "linecolor": "white",
             "minorgridcolor": "white",
             "startlinecolor": "#2a3f5f"
            },
            "type": "carpet"
           }
          ],
          "choropleth": [
           {
            "colorbar": {
             "outlinewidth": 0,
             "ticks": ""
            },
            "type": "choropleth"
           }
          ],
          "contour": [
           {
            "colorbar": {
             "outlinewidth": 0,
             "ticks": ""
            },
            "colorscale": [
             [
              0,
              "#0d0887"
             ],
             [
              0.1111111111111111,
              "#46039f"
             ],
             [
              0.2222222222222222,
              "#7201a8"
             ],
             [
              0.3333333333333333,
              "#9c179e"
             ],
             [
              0.4444444444444444,
              "#bd3786"
             ],
             [
              0.5555555555555556,
              "#d8576b"
             ],
             [
              0.6666666666666666,
              "#ed7953"
             ],
             [
              0.7777777777777778,
              "#fb9f3a"
             ],
             [
              0.8888888888888888,
              "#fdca26"
             ],
             [
              1,
              "#f0f921"
             ]
            ],
            "type": "contour"
           }
          ],
          "contourcarpet": [
           {
            "colorbar": {
             "outlinewidth": 0,
             "ticks": ""
            },
            "type": "contourcarpet"
           }
          ],
          "heatmap": [
           {
            "colorbar": {
             "outlinewidth": 0,
             "ticks": ""
            },
            "colorscale": [
             [
              0,
              "#0d0887"
             ],
             [
              0.1111111111111111,
              "#46039f"
             ],
             [
              0.2222222222222222,
              "#7201a8"
             ],
             [
              0.3333333333333333,
              "#9c179e"
             ],
             [
              0.4444444444444444,
              "#bd3786"
             ],
             [
              0.5555555555555556,
              "#d8576b"
             ],
             [
              0.6666666666666666,
              "#ed7953"
             ],
             [
              0.7777777777777778,
              "#fb9f3a"
             ],
             [
              0.8888888888888888,
              "#fdca26"
             ],
             [
              1,
              "#f0f921"
             ]
            ],
            "type": "heatmap"
           }
          ],
          "heatmapgl": [
           {
            "colorbar": {
             "outlinewidth": 0,
             "ticks": ""
            },
            "colorscale": [
             [
              0,
              "#0d0887"
             ],
             [
              0.1111111111111111,
              "#46039f"
             ],
             [
              0.2222222222222222,
              "#7201a8"
             ],
             [
              0.3333333333333333,
              "#9c179e"
             ],
             [
              0.4444444444444444,
              "#bd3786"
             ],
             [
              0.5555555555555556,
              "#d8576b"
             ],
             [
              0.6666666666666666,
              "#ed7953"
             ],
             [
              0.7777777777777778,
              "#fb9f3a"
             ],
             [
              0.8888888888888888,
              "#fdca26"
             ],
             [
              1,
              "#f0f921"
             ]
            ],
            "type": "heatmapgl"
           }
          ],
          "histogram": [
           {
            "marker": {
             "pattern": {
              "fillmode": "overlay",
              "size": 10,
              "solidity": 0.2
             }
            },
            "type": "histogram"
           }
          ],
          "histogram2d": [
           {
            "colorbar": {
             "outlinewidth": 0,
             "ticks": ""
            },
            "colorscale": [
             [
              0,
              "#0d0887"
             ],
             [
              0.1111111111111111,
              "#46039f"
             ],
             [
              0.2222222222222222,
              "#7201a8"
             ],
             [
              0.3333333333333333,
              "#9c179e"
             ],
             [
              0.4444444444444444,
              "#bd3786"
             ],
             [
              0.5555555555555556,
              "#d8576b"
             ],
             [
              0.6666666666666666,
              "#ed7953"
             ],
             [
              0.7777777777777778,
              "#fb9f3a"
             ],
             [
              0.8888888888888888,
              "#fdca26"
             ],
             [
              1,
              "#f0f921"
             ]
            ],
            "type": "histogram2d"
           }
          ],
          "histogram2dcontour": [
           {
            "colorbar": {
             "outlinewidth": 0,
             "ticks": ""
            },
            "colorscale": [
             [
              0,
              "#0d0887"
             ],
             [
              0.1111111111111111,
              "#46039f"
             ],
             [
              0.2222222222222222,
              "#7201a8"
             ],
             [
              0.3333333333333333,
              "#9c179e"
             ],
             [
              0.4444444444444444,
              "#bd3786"
             ],
             [
              0.5555555555555556,
              "#d8576b"
             ],
             [
              0.6666666666666666,
              "#ed7953"
             ],
             [
              0.7777777777777778,
              "#fb9f3a"
             ],
             [
              0.8888888888888888,
              "#fdca26"
             ],
             [
              1,
              "#f0f921"
             ]
            ],
            "type": "histogram2dcontour"
           }
          ],
          "mesh3d": [
           {
            "colorbar": {
             "outlinewidth": 0,
             "ticks": ""
            },
            "type": "mesh3d"
           }
          ],
          "parcoords": [
           {
            "line": {
             "colorbar": {
              "outlinewidth": 0,
              "ticks": ""
             }
            },
            "type": "parcoords"
           }
          ],
          "pie": [
           {
            "automargin": true,
            "type": "pie"
           }
          ],
          "scatter": [
           {
            "fillpattern": {
             "fillmode": "overlay",
             "size": 10,
             "solidity": 0.2
            },
            "type": "scatter"
           }
          ],
          "scatter3d": [
           {
            "line": {
             "colorbar": {
              "outlinewidth": 0,
              "ticks": ""
             }
            },
            "marker": {
             "colorbar": {
              "outlinewidth": 0,
              "ticks": ""
             }
            },
            "type": "scatter3d"
           }
          ],
          "scattercarpet": [
           {
            "marker": {
             "colorbar": {
              "outlinewidth": 0,
              "ticks": ""
             }
            },
            "type": "scattercarpet"
           }
          ],
          "scattergeo": [
           {
            "marker": {
             "colorbar": {
              "outlinewidth": 0,
              "ticks": ""
             }
            },
            "type": "scattergeo"
           }
          ],
          "scattergl": [
           {
            "marker": {
             "colorbar": {
              "outlinewidth": 0,
              "ticks": ""
             }
            },
            "type": "scattergl"
           }
          ],
          "scattermapbox": [
           {
            "marker": {
             "colorbar": {
              "outlinewidth": 0,
              "ticks": ""
             }
            },
            "type": "scattermapbox"
           }
          ],
          "scatterpolar": [
           {
            "marker": {
             "colorbar": {
              "outlinewidth": 0,
              "ticks": ""
             }
            },
            "type": "scatterpolar"
           }
          ],
          "scatterpolargl": [
           {
            "marker": {
             "colorbar": {
              "outlinewidth": 0,
              "ticks": ""
             }
            },
            "type": "scatterpolargl"
           }
          ],
          "scatterternary": [
           {
            "marker": {
             "colorbar": {
              "outlinewidth": 0,
              "ticks": ""
             }
            },
            "type": "scatterternary"
           }
          ],
          "surface": [
           {
            "colorbar": {
             "outlinewidth": 0,
             "ticks": ""
            },
            "colorscale": [
             [
              0,
              "#0d0887"
             ],
             [
              0.1111111111111111,
              "#46039f"
             ],
             [
              0.2222222222222222,
              "#7201a8"
             ],
             [
              0.3333333333333333,
              "#9c179e"
             ],
             [
              0.4444444444444444,
              "#bd3786"
             ],
             [
              0.5555555555555556,
              "#d8576b"
             ],
             [
              0.6666666666666666,
              "#ed7953"
             ],
             [
              0.7777777777777778,
              "#fb9f3a"
             ],
             [
              0.8888888888888888,
              "#fdca26"
             ],
             [
              1,
              "#f0f921"
             ]
            ],
            "type": "surface"
           }
          ],
          "table": [
           {
            "cells": {
             "fill": {
              "color": "#EBF0F8"
             },
             "line": {
              "color": "white"
             }
            },
            "header": {
             "fill": {
              "color": "#C8D4E3"
             },
             "line": {
              "color": "white"
             }
            },
            "type": "table"
           }
          ]
         },
         "layout": {
          "annotationdefaults": {
           "arrowcolor": "#2a3f5f",
           "arrowhead": 0,
           "arrowwidth": 1
          },
          "autotypenumbers": "strict",
          "coloraxis": {
           "colorbar": {
            "outlinewidth": 0,
            "ticks": ""
           }
          },
          "colorscale": {
           "diverging": [
            [
             0,
             "#8e0152"
            ],
            [
             0.1,
             "#c51b7d"
            ],
            [
             0.2,
             "#de77ae"
            ],
            [
             0.3,
             "#f1b6da"
            ],
            [
             0.4,
             "#fde0ef"
            ],
            [
             0.5,
             "#f7f7f7"
            ],
            [
             0.6,
             "#e6f5d0"
            ],
            [
             0.7,
             "#b8e186"
            ],
            [
             0.8,
             "#7fbc41"
            ],
            [
             0.9,
             "#4d9221"
            ],
            [
             1,
             "#276419"
            ]
           ],
           "sequential": [
            [
             0,
             "#0d0887"
            ],
            [
             0.1111111111111111,
             "#46039f"
            ],
            [
             0.2222222222222222,
             "#7201a8"
            ],
            [
             0.3333333333333333,
             "#9c179e"
            ],
            [
             0.4444444444444444,
             "#bd3786"
            ],
            [
             0.5555555555555556,
             "#d8576b"
            ],
            [
             0.6666666666666666,
             "#ed7953"
            ],
            [
             0.7777777777777778,
             "#fb9f3a"
            ],
            [
             0.8888888888888888,
             "#fdca26"
            ],
            [
             1,
             "#f0f921"
            ]
           ],
           "sequentialminus": [
            [
             0,
             "#0d0887"
            ],
            [
             0.1111111111111111,
             "#46039f"
            ],
            [
             0.2222222222222222,
             "#7201a8"
            ],
            [
             0.3333333333333333,
             "#9c179e"
            ],
            [
             0.4444444444444444,
             "#bd3786"
            ],
            [
             0.5555555555555556,
             "#d8576b"
            ],
            [
             0.6666666666666666,
             "#ed7953"
            ],
            [
             0.7777777777777778,
             "#fb9f3a"
            ],
            [
             0.8888888888888888,
             "#fdca26"
            ],
            [
             1,
             "#f0f921"
            ]
           ]
          },
          "colorway": [
           "#636efa",
           "#EF553B",
           "#00cc96",
           "#ab63fa",
           "#FFA15A",
           "#19d3f3",
           "#FF6692",
           "#B6E880",
           "#FF97FF",
           "#FECB52"
          ],
          "font": {
           "color": "#2a3f5f"
          },
          "geo": {
           "bgcolor": "white",
           "lakecolor": "white",
           "landcolor": "#E5ECF6",
           "showlakes": true,
           "showland": true,
           "subunitcolor": "white"
          },
          "hoverlabel": {
           "align": "left"
          },
          "hovermode": "closest",
          "mapbox": {
           "style": "light"
          },
          "paper_bgcolor": "white",
          "plot_bgcolor": "#E5ECF6",
          "polar": {
           "angularaxis": {
            "gridcolor": "white",
            "linecolor": "white",
            "ticks": ""
           },
           "bgcolor": "#E5ECF6",
           "radialaxis": {
            "gridcolor": "white",
            "linecolor": "white",
            "ticks": ""
           }
          },
          "scene": {
           "xaxis": {
            "backgroundcolor": "#E5ECF6",
            "gridcolor": "white",
            "gridwidth": 2,
            "linecolor": "white",
            "showbackground": true,
            "ticks": "",
            "zerolinecolor": "white"
           },
           "yaxis": {
            "backgroundcolor": "#E5ECF6",
            "gridcolor": "white",
            "gridwidth": 2,
            "linecolor": "white",
            "showbackground": true,
            "ticks": "",
            "zerolinecolor": "white"
           },
           "zaxis": {
            "backgroundcolor": "#E5ECF6",
            "gridcolor": "white",
            "gridwidth": 2,
            "linecolor": "white",
            "showbackground": true,
            "ticks": "",
            "zerolinecolor": "white"
           }
          },
          "shapedefaults": {
           "line": {
            "color": "#2a3f5f"
           }
          },
          "ternary": {
           "aaxis": {
            "gridcolor": "white",
            "linecolor": "white",
            "ticks": ""
           },
           "baxis": {
            "gridcolor": "white",
            "linecolor": "white",
            "ticks": ""
           },
           "bgcolor": "#E5ECF6",
           "caxis": {
            "gridcolor": "white",
            "linecolor": "white",
            "ticks": ""
           }
          },
          "title": {
           "x": 0.05
          },
          "xaxis": {
           "automargin": true,
           "gridcolor": "white",
           "linecolor": "white",
           "ticks": "",
           "title": {
            "standoff": 15
           },
           "zerolinecolor": "white",
           "zerolinewidth": 2
          },
          "yaxis": {
           "automargin": true,
           "gridcolor": "white",
           "linecolor": "white",
           "ticks": "",
           "title": {
            "standoff": 15
           },
           "zerolinecolor": "white",
           "zerolinewidth": 2
          }
         }
        },
        "xaxis": {
         "rangeslider": {
          "visible": false
         }
        }
       }
      }
     },
     "metadata": {},
     "output_type": "display_data"
    },
    {
     "name": "stdout",
     "output_type": "stream",
     "text": [
      "linea superior. X: [ 989.  994.  995. 1010.] - y: [0.84395161 0.84129032 0.84075806 0.83277419]\n",
      "linea inferior. X: [ 982.  991.  992.  993. 1008.] - y: [0.83605844 0.83868831 0.83898052 0.83927273 0.84365584]\n"
     ]
    }
   ],
   "source": [
    "md.dibuja_patrones_triangulos (data,998) "
   ]
  }
 ],
 "metadata": {
  "kernelspec": {
   "display_name": "Python 3 (ipykernel)",
   "language": "python",
   "name": "python3"
  },
  "language_info": {
   "codemirror_mode": {
    "name": "ipython",
    "version": 3
   },
   "file_extension": ".py",
   "mimetype": "text/x-python",
   "name": "python",
   "nbconvert_exporter": "python",
   "pygments_lexer": "ipython3",
   "version": "3.10.11"
  }
 },
 "nbformat": 4,
 "nbformat_minor": 5
}
