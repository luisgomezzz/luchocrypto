{
 "cells": [
  {
   "cell_type": "code",
   "execution_count": 1,
   "id": "644b19e1",
   "metadata": {},
   "outputs": [
    {
     "name": "stdout",
     "output_type": "stream",
     "text": [
      "['BTCUSDT', 'ETHUSDT', 'BCHUSDT', 'XRPUSDT', 'LTCUSDT', 'LINKUSDT', 'ADAUSDT', 'BNBUSDT', 'ZRXUSDT', 'DOGEUSDT', 'MKRUSDT', 'DOTUSDT', 'TRBUSDT', 'RUNEUSDT', 'SOLUSDT', 'STORJUSDT', 'AVAXUSDT', 'ENJUSDT', 'FILUSDT', 'MATICUSDT', 'COTIUSDT', '1000SHIBUSDT', 'BAKEUSDT', 'DYDXUSDT', 'GALAUSDT', 'APEUSDT', 'OPUSDT', 'LQTYUSDT', 'ARBUSDT', 'LEVERUSDT', '1000PEPEUSDT', 'WLDUSDT', 'BNTUSDT', 'ARKUSDT']\n",
      "BTCUSDT - Return [%]: 3.31% - # Trades: 4 - Profit Factor: 3.590485253648365 - Win Rate [%]: 50.0\n",
      "ETHUSDT - Return [%]: -1.98% - # Trades: 4 - Profit Factor: 0.0 - Win Rate [%]: 0.0\n",
      "BCHUSDT - Return [%]: -3.67% - # Trades: 10 - Profit Factor: 0.5399681515731845 - Win Rate [%]: 10.0\n",
      "XRPUSDT - Return [%]: -2.57% - # Trades: 10 - Profit Factor: 0.7052759577088721 - Win Rate [%]: 10.0\n",
      "LTCUSDT - Return [%]: -3.07% - # Trades: 4 - Profit Factor: 0.0 - Win Rate [%]: 0.0\n",
      "LINKUSDT - Return [%]: 6.1% - # Trades: 2 - Profit Factor: 9.022169869966215 - Win Rate [%]: 50.0\n",
      "ADAUSDT - Return [%]: 1.08% - # Trades: 4 - Profit Factor: 1.542241810545871 - Win Rate [%]: 25.0\n",
      "BNBUSDT - Return [%]: 1.04% - # Trades: 2 - Profit Factor: 2.7241315043984113 - Win Rate [%]: 50.0\n",
      "ZRXUSDT - Return [%]: 13.93% - # Trades: 11 - Profit Factor: 1.8970046261000078 - Win Rate [%]: 27.27272727272727\n",
      "DOGEUSDT - Return [%]: -0.13% - # Trades: 7 - Profit Factor: 0.9778992137265548 - Win Rate [%]: 28.57142857142857\n",
      "MKRUSDT - Return [%]: -3.07% - # Trades: 4 - Profit Factor: 0.0 - Win Rate [%]: 0.0\n",
      "DOTUSDT - Return [%]: -0.58% - # Trades: 5 - Profit Factor: 0.8559368745782092 - Win Rate [%]: 20.0\n",
      "TRBUSDT - Return [%]: 5.78% - # Trades: 2 - Profit Factor: 3.240767733587341 - Win Rate [%]: 50.0\n",
      "RUNEUSDT - Return [%]: -3.77% - # Trades: 5 - Profit Factor: 0.4076844348046728 - Win Rate [%]: 20.0\n",
      "SOLUSDT - Return [%]: -0.27% - # Trades: 2 - Profit Factor: 0.7146390062748036 - Win Rate [%]: 50.0\n",
      "STORJUSDT - Return [%]: 10.15% - # Trades: 12 - Profit Factor: 2.153044505315104 - Win Rate [%]: 16.666666666666664\n",
      "AVAXUSDT - Return [%]: -0.57% - # Trades: 2 - Profit Factor: 0.780747512684594 - Win Rate [%]: 50.0\n",
      "ENJUSDT - Return [%]: -4.78% - # Trades: 6 - Profit Factor: 0.19690946565797154 - Win Rate [%]: 16.666666666666664\n",
      "FILUSDT - Return [%]: -1.99% - # Trades: 3 - Profit Factor: 0.0 - Win Rate [%]: 0.0\n",
      "MATICUSDT - Return [%]: 10.87% - # Trades: 5 - Profit Factor: 4.086604088872301 - Win Rate [%]: 40.0\n",
      "COTIUSDT - Return [%]: 9.09% - # Trades: 3 - Profit Factor: 19.47390636617071 - Win Rate [%]: 66.66666666666666\n",
      "1000SHIBUSDT - Return [%]: -2.86% - # Trades: 4 - Profit Factor: 0.0 - Win Rate [%]: 0.0\n",
      "BAKEUSDT - Return [%]: 15.64% - # Trades: 7 - Profit Factor: 3.4484452005379262 - Win Rate [%]: 28.57142857142857\n",
      "DYDXUSDT - Return [%]: 0.68% - # Trades: 7 - Profit Factor: 1.1564344860802547 - Win Rate [%]: 14.285714285714285\n",
      "GALAUSDT - Return [%]: -6.25% - # Trades: 5 - Profit Factor: 0.0 - Win Rate [%]: 0.0\n",
      "APEUSDT - Return [%]: 9.36% - # Trades: 5 - Profit Factor: 5.680640306014721 - Win Rate [%]: 20.0\n",
      "OPUSDT - Return [%]: 4.58% - # Trades: 10 - Profit Factor: 1.5478143337789412 - Win Rate [%]: 20.0\n",
      "LQTYUSDT - Return [%]: 36.82% - # Trades: 6 - Profit Factor: 6.5800231099236575 - Win Rate [%]: 50.0\n",
      "ARBUSDT - Return [%]: 0.24% - # Trades: 7 - Profit Factor: 1.3560811864706783 - Win Rate [%]: 28.57142857142857\n",
      "LEVERUSDT - Return [%]: 2.51% - # Trades: 2 - Profit Factor: 2.4605263157894757 - Win Rate [%]: 50.0\n",
      "1000PEPEUSDT - Return [%]: 9.5% - # Trades: 2 - Profit Factor: 2.414400648186697 - Win Rate [%]: 50.0\n",
      "WLDUSDT - Return [%]: 2.88% - # Trades: 2 - Profit Factor: 7.3520960319146385 - Win Rate [%]: 50.0\n",
      "BNTUSDT - Return [%]: 2.22% - # Trades: 4 - Profit Factor: 1.596998313430204 - Win Rate [%]: 50.0\n",
      "ARKUSDT - Return [%]: 0.84% - # Trades: 5 - Profit Factor: 3.1716983424488996 - Win Rate [%]: 20.0\n"
     ]
    }
   ],
   "source": [
    "import modulos as md\n",
    "import numpy as np\n",
    "import os\n",
    "import sys\n",
    "import constantes as cons\n",
    "lista_filtrada = []\n",
    "#lista=md.filtradodemonedas ()\n",
    "lista = ['BTCUSDT','ETHUSDT','BCHUSDT','XRPUSDT','LTCUSDT','LINKUSDT','ADAUSDT','BNBUSDT','ZRXUSDT','DOGEUSDT','MKRUSDT','DOTUSDT','TRBUSDT','RUNEUSDT','SOLUSDT','STORJUSDT','AVAXUSDT','ENJUSDT','FILUSDT','MATICUSDT','COTIUSDT','1000SHIBUSDT','BAKEUSDT','DYDXUSDT','GALAUSDT','APEUSDT','OPUSDT','LQTYUSDT','ARBUSDT','LEVERUSDT','1000PEPEUSDT','WLDUSDT','BNTUSDT','ARKUSDT']\n",
    "#lista = ['ETHUSDT','LTCUSDT','ADAUSDT','DOTUSDT','FILUSDT','COTIUSDT'] #ELEGIDOS\n",
    "#lista = ['LQTYUSDT']\n",
    "\n",
    "if len(lista)>1:\n",
    "    imprimo=False\n",
    "    debug=False\n",
    "else:\n",
    "    imprimo= True\n",
    "    debug=True\n",
    "print(lista)\n",
    "for symbol in lista:    \n",
    "    try:\n",
    "        #print(symbol)\n",
    "        data = md.estrategia_royal(symbol, debug = False, refinado = False, file_source = False, timeframe = '1h')\n",
    "        resultado=md.backtesting_royal(data, plot_flag=imprimo, symbol=symbol)\n",
    "        if resultado['Win Rate [%]'] >= 50:\n",
    "            lista_filtrada.append(symbol)\n",
    "        print(f\"{symbol} - Return [%]: {md.truncate(resultado['Return [%]'],2)}% - # Trades: {resultado['# Trades']} - Profit Factor: {resultado['Profit Factor']} - Win Rate [%]: {resultado['Win Rate [%]']}\")\n",
    "    except Exception as falla:\n",
    "        _, _, exc_tb = sys.exc_info()\n",
    "        fname = os.path.split(exc_tb.tb_frame.f_code.co_filename)[1]\n",
    "        print(\"\\nError: \"+str(falla)+\" - line: \"+str(exc_tb.tb_lineno)+\" - file: \"+str(fname)+\"\\n\")\n",
    "        pass\n",
    "for symbol in lista_filtrada:\n",
    "    md.printandlog(cons.nombrelog,symbol,pal=1)\n",
    "#(data.loc[data['Open Time'] == '2023-10-03 03:00:00'])\n"
   ]
  }
 ],
 "metadata": {
  "kernelspec": {
   "display_name": "Python 3 (ipykernel)",
   "language": "python",
   "name": "python3"
  },
  "language_info": {
   "codemirror_mode": {
    "name": "ipython",
    "version": 3
   },
   "file_extension": ".py",
   "mimetype": "text/x-python",
   "name": "python",
   "nbconvert_exporter": "python",
   "pygments_lexer": "ipython3",
   "version": "3.10.11"
  }
 },
 "nbformat": 4,
 "nbformat_minor": 5
}
