{
 "cells": [
  {
   "cell_type": "code",
   "execution_count": 1,
   "id": "644b19e1",
   "metadata": {},
   "outputs": [
    {
     "name": "stdout",
     "output_type": "stream",
     "text": [
      "['BTCUSDT', 'ETHUSDT', 'BCHUSDT', 'XRPUSDT', 'EOSUSDT', 'LTCUSDT', 'ETCUSDT', 'LINKUSDT', 'ADAUSDT', 'BNBUSDT', 'ATOMUSDT', 'KNCUSDT', 'DOGEUSDT', 'WAVESUSDT', 'MKRUSDT', 'DOTUSDT', 'CRVUSDT', 'TRBUSDT', 'RUNEUSDT', 'SOLUSDT', 'STORJUSDT', 'BLZUSDT', 'UNIUSDT', 'AVAXUSDT', 'FTMUSDT', 'TOMOUSDT', 'NEARUSDT', 'AAVEUSDT', 'FILUSDT', 'MATICUSDT', 'UNFIUSDT', 'LINAUSDT', '1000SHIBUSDT', 'MASKUSDT', 'DYDXUSDT', 'GALAUSDT', 'APEUSDT', 'OPUSDT', 'INJUSDT', 'LDOUSDT', 'APTUSDT', 'FETUSDT', 'MINAUSDT', 'CFXUSDT', 'STXUSDT', 'ARBUSDT', 'BLURUSDT', 'SUIUSDT', '1000PEPEUSDT', 'WLDUSDT', 'AGLDUSDT', 'YGGUSDT', 'CYBERUSDT', 'STRAXUSDT', 'LOOMUSDT', 'BIGTIMEUSDT', 'ORBSUSDT', 'POLYXUSDT']\n"
     ]
    },
    {
     "name": "stderr",
     "output_type": "stream",
     "text": [
      "C:\\Users\\Luis Gomez Freites\\AppData\\Local\\Packages\\PythonSoftwareFoundation.Python.3.10_qbz5n2kfra8p0\\LocalCache\\local-packages\\Python310\\site-packages\\backtesting\\_stats.py:122: RuntimeWarning: divide by zero encountered in double_scalars\n",
      "  s.loc['Sortino Ratio'] = np.clip((annualized_return - risk_free_rate) / (np.sqrt(np.mean(day_returns.clip(-np.inf, 0)**2)) * np.sqrt(annual_trading_days)), 0, np.inf)  # noqa: E501\n"
     ]
    },
    {
     "name": "stdout",
     "output_type": "stream",
     "text": [
      "BTCUSDT - Return [%]: 7.53% - # Trades: 1 - Profit Factor: nan - Win Rate [%]: 100.0\n",
      "ETHUSDT - Return [%]: -0.44% - # Trades: 1 - Profit Factor: 0.0 - Win Rate [%]: 0.0\n",
      "BCHUSDT - Return [%]: 1.22% - # Trades: 4 - Profit Factor: 1.0816032945891985 - Win Rate [%]: 25.0\n",
      "XRPUSDT - Return [%]: -6.21% - # Trades: 5 - Profit Factor: 0.0 - Win Rate [%]: 0.0\n",
      "EOSUSDT - Return [%]: -3.33% - # Trades: 3 - Profit Factor: 0.0 - Win Rate [%]: 0.0\n",
      "LTCUSDT - Return [%]: -2.36% - # Trades: 3 - Profit Factor: 0.0 - Win Rate [%]: 0.0\n",
      "ETCUSDT - Return [%]: -0.79% - # Trades: 2 - Profit Factor: 0.13267408797355906 - Win Rate [%]: 50.0\n",
      "LINKUSDT - Return [%]: 13.65% - # Trades: 3 - Profit Factor: 25.796158822937844 - Win Rate [%]: 66.66666666666666\n"
     ]
    },
    {
     "name": "stderr",
     "output_type": "stream",
     "text": [
      "C:\\Users\\Luis Gomez Freites\\AppData\\Local\\Packages\\PythonSoftwareFoundation.Python.3.10_qbz5n2kfra8p0\\LocalCache\\local-packages\\Python310\\site-packages\\backtesting\\_stats.py:122: RuntimeWarning: divide by zero encountered in double_scalars\n",
      "  s.loc['Sortino Ratio'] = np.clip((annualized_return - risk_free_rate) / (np.sqrt(np.mean(day_returns.clip(-np.inf, 0)**2)) * np.sqrt(annual_trading_days)), 0, np.inf)  # noqa: E501\n"
     ]
    },
    {
     "name": "stdout",
     "output_type": "stream",
     "text": [
      "ADAUSDT - Return [%]: 0.44% - # Trades: 1 - Profit Factor: nan - Win Rate [%]: 100.0\n",
      "BNBUSDT - Return [%]: 2.66% - # Trades: 3 - Profit Factor: 3.695995203935893 - Win Rate [%]: 33.33333333333333\n",
      "ATOMUSDT - Return [%]: -2.29% - # Trades: 3 - Profit Factor: 0.20353024522652946 - Win Rate [%]: 33.33333333333333\n",
      "KNCUSDT - Return [%]: 9.25% - # Trades: 6 - Profit Factor: 3.8404727088211885 - Win Rate [%]: 33.33333333333333\n",
      "DOGEUSDT - Return [%]: 11.18% - # Trades: 2 - Profit Factor: nan - Win Rate [%]: 100.0\n",
      "WAVESUSDT - Return [%]: -0.98% - # Trades: 2 - Profit Factor: 0.0 - Win Rate [%]: 0.0\n",
      "MKRUSDT - Return [%]: 3.98% - # Trades: 4 - Profit Factor: 2.459502707439588 - Win Rate [%]: 25.0\n",
      "DOTUSDT - Return [%]: 2.23% - # Trades: 2 - Profit Factor: 2.9780250791974554 - Win Rate [%]: 50.0\n",
      "CRVUSDT - Return [%]: -4.0% - # Trades: 3 - Profit Factor: 0.0 - Win Rate [%]: 0.0\n",
      "TRBUSDT - Return [%]: 5.78% - # Trades: 2 - Profit Factor: 3.240767733587341 - Win Rate [%]: 50.0\n",
      "RUNEUSDT - Return [%]: 9.6% - # Trades: 5 - Profit Factor: 2.8891345587677826 - Win Rate [%]: 40.0\n",
      "SOLUSDT - Return [%]: 16.58% - # Trades: 2 - Profit Factor: 18.9614422456816 - Win Rate [%]: 50.0\n",
      "STORJUSDT - Return [%]: 8.77% - # Trades: 7 - Profit Factor: 2.8696027497166754 - Win Rate [%]: 28.57142857142857\n",
      "BLZUSDT - Return [%]: 0.0% - # Trades: 0 - Profit Factor: nan - Win Rate [%]: nan\n",
      "UNIUSDT - Return [%]: -1.79% - # Trades: 2 - Profit Factor: 0.0 - Win Rate [%]: 0.0\n",
      "AVAXUSDT - Return [%]: 4.9% - # Trades: 2 - Profit Factor: 3.101888766611805 - Win Rate [%]: 50.0\n",
      "FTMUSDT - Return [%]: 3.11% - # Trades: 6 - Profit Factor: 1.4348566500807816 - Win Rate [%]: 16.666666666666664\n",
      "TOMOUSDT - Return [%]: -1.07% - # Trades: 1 - Profit Factor: 0.0 - Win Rate [%]: 0.0\n",
      "NEARUSDT - Return [%]: 0.09% - # Trades: 3 - Profit Factor: 1.357355666112691 - Win Rate [%]: 33.33333333333333\n",
      "AAVEUSDT - Return [%]: 10.29% - # Trades: 7 - Profit Factor: 2.9302139815880417 - Win Rate [%]: 28.57142857142857\n",
      "FILUSDT - Return [%]: -1.12% - # Trades: 1 - Profit Factor: 0.0 - Win Rate [%]: 0.0\n",
      "MATICUSDT - Return [%]: 7.52% - # Trades: 3 - Profit Factor: 5.564961584749518 - Win Rate [%]: 66.66666666666666\n",
      "UNFIUSDT - Return [%]: -1.42% - # Trades: 2 - Profit Factor: 0.0 - Win Rate [%]: 0.0\n",
      "LINAUSDT - Return [%]: -1.85% - # Trades: 3 - Profit Factor: 0.0 - Win Rate [%]: 0.0\n",
      "1000SHIBUSDT - Return [%]: 2.47% - # Trades: 6 - Profit Factor: 1.9584260985065802 - Win Rate [%]: 33.33333333333333\n",
      "MASKUSDT - Return [%]: -1.06% - # Trades: 1 - Profit Factor: 0.0 - Win Rate [%]: 0.0\n",
      "DYDXUSDT - Return [%]: -3.42% - # Trades: 3 - Profit Factor: 0.0 - Win Rate [%]: 0.0\n",
      "GALAUSDT - Return [%]: 0.86% - # Trades: 3 - Profit Factor: 0.6082164046902677 - Win Rate [%]: 33.33333333333333\n",
      "APEUSDT - Return [%]: -1.45% - # Trades: 1 - Profit Factor: 0.0 - Win Rate [%]: 0.0\n",
      "OPUSDT - Return [%]: 12.95% - # Trades: 5 - Profit Factor: 3.4599382086081882 - Win Rate [%]: 40.0\n",
      "INJUSDT - Return [%]: 5.84% - # Trades: 1 - Profit Factor: nan - Win Rate [%]: 100.0\n",
      "LDOUSDT - Return [%]: 7.38% - # Trades: 3 - Profit Factor: 5.253355965064925 - Win Rate [%]: 33.33333333333333\n",
      "APTUSDT - Return [%]: 0.0% - # Trades: 0 - Profit Factor: nan - Win Rate [%]: nan\n",
      "FETUSDT - Return [%]: -1.6% - # Trades: 1 - Profit Factor: 0.0 - Win Rate [%]: 0.0\n",
      "MINAUSDT - Return [%]: -1.75% - # Trades: 2 - Profit Factor: 0.0 - Win Rate [%]: 0.0\n",
      "CFXUSDT - Return [%]: -0.93% - # Trades: 1 - Profit Factor: 0.0 - Win Rate [%]: 0.0\n",
      "STXUSDT - Return [%]: 15.9% - # Trades: 4 - Profit Factor: 4.543123422887896 - Win Rate [%]: 50.0\n",
      "ARBUSDT - Return [%]: 9.9% - # Trades: 5 - Profit Factor: 4.371491182790874 - Win Rate [%]: 40.0\n",
      "BLURUSDT - Return [%]: -0.98% - # Trades: 3 - Profit Factor: 1.257019024665181 - Win Rate [%]: 33.33333333333333\n",
      "SUIUSDT - Return [%]: -4.25% - # Trades: 5 - Profit Factor: 0.0 - Win Rate [%]: 0.0\n",
      "1000PEPEUSDT - Return [%]: 9.5% - # Trades: 2 - Profit Factor: 2.414400648186697 - Win Rate [%]: 50.0\n",
      "WLDUSDT - Return [%]: -2.12% - # Trades: 2 - Profit Factor: 0.0 - Win Rate [%]: 0.0\n",
      "AGLDUSDT - Return [%]: 1.84% - # Trades: 3 - Profit Factor: 6.935748941425463 - Win Rate [%]: 33.33333333333333\n",
      "YGGUSDT - Return [%]: -6.83% - # Trades: 4 - Profit Factor: 0.0 - Win Rate [%]: 0.0\n",
      "CYBERUSDT - Return [%]: -4.39% - # Trades: 3 - Profit Factor: 0.0 - Win Rate [%]: 0.0\n",
      "STRAXUSDT - Return [%]: 13.75% - # Trades: 2 - Profit Factor: 4.181266553784963 - Win Rate [%]: 50.0\n",
      "LOOMUSDT - Return [%]: 0.0% - # Trades: 0 - Profit Factor: nan - Win Rate [%]: nan\n",
      "BIGTIMEUSDT - Return [%]: 0.0% - # Trades: 0 - Profit Factor: nan - Win Rate [%]: nan\n",
      "ORBSUSDT - Return [%]: 0.0% - # Trades: 0 - Profit Factor: nan - Win Rate [%]: nan\n",
      "POLYXUSDT - Return [%]: 0.0% - # Trades: 0 - Profit Factor: nan - Win Rate [%]: nan\n",
      "porcentajes_sumados 142.76 - trades 154 - win_rate_buenos 14 - win_rate_malos 44\n"
     ]
    }
   ],
   "source": [
    "import modulos as md\n",
    "import numpy as np\n",
    "import os\n",
    "import sys\n",
    "import constantes as cons\n",
    "lista_filtrada = []\n",
    "#lista=md.filtradodemonedas ()\n",
    "lista = ['BTCUSDT', 'ETHUSDT', 'BCHUSDT', 'XRPUSDT', 'EOSUSDT', 'LTCUSDT', 'ETCUSDT', 'LINKUSDT', 'ADAUSDT', 'BNBUSDT', 'ATOMUSDT', 'KNCUSDT', 'DOGEUSDT', 'WAVESUSDT', 'MKRUSDT', 'DOTUSDT', 'CRVUSDT', 'TRBUSDT', 'RUNEUSDT', 'SOLUSDT', 'STORJUSDT', 'BLZUSDT', 'UNIUSDT', 'AVAXUSDT', 'FTMUSDT', 'TOMOUSDT', 'NEARUSDT', 'AAVEUSDT', 'FILUSDT', 'MATICUSDT', 'UNFIUSDT', 'LINAUSDT', '1000SHIBUSDT', 'MASKUSDT', 'DYDXUSDT', 'GALAUSDT', 'APEUSDT', 'OPUSDT', 'INJUSDT', 'LDOUSDT', 'APTUSDT', 'FETUSDT', 'MINAUSDT', 'CFXUSDT', 'STXUSDT', 'ARBUSDT', 'BLURUSDT', 'SUIUSDT', '1000PEPEUSDT', 'WLDUSDT', 'AGLDUSDT', 'YGGUSDT', 'CYBERUSDT', 'STRAXUSDT', 'LOOMUSDT', 'BIGTIMEUSDT', 'ORBSUSDT', 'POLYXUSDT']\n",
    "#lista = ['BTCUSDT','LINKUSDT','BNBUSDT','DOGEUSDT','TRBUSDT','SOLUSDT','AVAXUSDT','1000SHIBUSDT','1000PEPEUSDT','WLDUSDT','BONDUSDT'] #ELEGIDOS\n",
    "#lista = ['XRPUSDT']\n",
    "\n",
    "if len(lista)>1:\n",
    "    imprimo=False\n",
    "    debug=False\n",
    "else:\n",
    "    imprimo= True\n",
    "    debug=True\n",
    "print(lista)\n",
    "porcentajes_sumados=0\n",
    "win_rate_buenos = 0\n",
    "win_rate_malos = 0\n",
    "trades = 0\n",
    "for symbol in lista:    \n",
    "    try:\n",
    "        #print(symbol)\n",
    "        data = md.estrategia_smart(symbol, debug = False, refinado = False, file_source = False, timeframe = '1h')\n",
    "        resultado=md.backtesting_smart(data, plot_flag=imprimo, symbol=symbol)\n",
    "        if resultado['Win Rate [%]'] >= 50:\n",
    "            lista_filtrada.append(symbol)\n",
    "        print(f\"{symbol} - Return [%]: {md.truncate(resultado['Return [%]'],2)}% - # Trades: {resultado['# Trades']} - Profit Factor: {resultado['Profit Factor']} - Win Rate [%]: {resultado['Win Rate [%]']}\")\n",
    "        porcentajes_sumados=porcentajes_sumados+resultado['Return [%]']\n",
    "        trades = trades + resultado['# Trades']\n",
    "        if resultado['Win Rate [%]'] >= 50:\n",
    "            win_rate_buenos = win_rate_buenos+1\n",
    "        else:\n",
    "            win_rate_malos = win_rate_malos+1\n",
    "    except Exception as falla:\n",
    "        _, _, exc_tb = sys.exc_info()\n",
    "        fname = os.path.split(exc_tb.tb_frame.f_code.co_filename)[1]\n",
    "        print(\"\\nError: \"+str(falla)+\" - line: \"+str(exc_tb.tb_lineno)+\" - file: \"+str(fname)+\"\\n\")\n",
    "        pass\n",
    "for symbol in lista_filtrada:\n",
    "    md.printandlog(cons.nombrelog,symbol,pal=1)\n",
    "print(f\"porcentajes_sumados {md.truncate(porcentajes_sumados,2)} - trades {trades} - win_rate_buenos {win_rate_buenos} - win_rate_malos {win_rate_malos}\")\n",
    "#(data.loc[data['Open Time'] == '2023-10-03 03:00:00'])\n"
   ]
  }
 ],
 "metadata": {
  "kernelspec": {
   "display_name": "Python 3 (ipykernel)",
   "language": "python",
   "name": "python3"
  },
  "language_info": {
   "codemirror_mode": {
    "name": "ipython",
    "version": 3
   },
   "file_extension": ".py",
   "mimetype": "text/x-python",
   "name": "python",
   "nbconvert_exporter": "python",
   "pygments_lexer": "ipython3",
   "version": "3.10.11"
  }
 },
 "nbformat": 4,
 "nbformat_minor": 5
}
