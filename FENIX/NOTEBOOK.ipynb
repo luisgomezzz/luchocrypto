{
 "cells": [
  {
   "cell_type": "code",
   "execution_count": 1,
   "id": "b29811c3",
   "metadata": {
    "scrolled": false
   },
   "outputs": [
    {
     "name": "stderr",
     "output_type": "stream",
     "text": [
      "C:\\Users\\Luis Gomez Freites\\AppData\\Local\\Packages\\PythonSoftwareFoundation.Python.3.10_qbz5n2kfra8p0\\LocalCache\\local-packages\\Python310\\site-packages\\tqdm\\auto.py:22: TqdmWarning: IProgress not found. Please update jupyter and ipywidgets. See https://ipywidgets.readthedocs.io/en/stable/user_install.html\n",
      "  from .autonotebook import tqdm as notebook_tqdm\n"
     ]
    },
    {
     "name": "stdout",
     "output_type": "stream",
     "text": [
      "XTZUSDT - retorno: 2.082075155603809% - trades: 7\n",
      "THETAUSDT - retorno: 9.93422027356278% - trades: 7\n",
      "KNCUSDT - retorno: 1.9523540005935955% - trades: 6\n",
      "Falla leyendo...\n"
     ]
    },
    {
     "name": "stderr",
     "output_type": "stream",
     "text": [
      "c:\\LUCHO\\personal\\repopersonal\\luchocrypto\\FENIX\\modulos.py:315: UserWarning: Some prices are larger than initial cash value. Note that fractional trading is not supported. If you want to trade Bitcoin, increase initial cash, or trade μBTC or satoshis instead (GH-134).\n",
      "  bt = Backtest(data, Fenix, cash=1000)\n"
     ]
    },
    {
     "name": "stdout",
     "output_type": "stream",
     "text": [
      "RUNEUSDT - retorno: 4.634105968858239% - trades: 10\n",
      "SUSHIUSDT - retorno: 2.180062061229387% - trades: 8\n",
      "SRMUSDT - retorno: 2.2568776933694266% - trades: 5\n",
      "FTMUSDT - retorno: 4.038513440781822% - trades: 6\n",
      "CTKUSDT - retorno: 3.131333620218788% - trades: 5\n",
      "ALICEUSDT - retorno: 5.680925316078538% - trades: 12\n",
      "Falla leyendo...\n",
      "Falla leyendo...\n",
      "Falla leyendo...\n",
      "CELOUSDT - retorno: 5.518396676120642% - trades: 6\n",
      "Falla leyendo...\n",
      "Falla leyendo...\n",
      "Falla leyendo...\n",
      "Falla leyendo...\n",
      "MINAUSDT - retorno: 2.905529547985657% - trades: 4\n",
      "BNXUSDT - retorno: 3.213837885315411% - trades: 6\n",
      "LQTYUSDT - retorno: 10.966686373808784% - trades: 7\n",
      "Falla leyendo...\n",
      "SUIUSDT - retorno: 4.930600687655351% - trades: 5\n",
      "Falla leyendo...\n",
      "Falla leyendo...\n",
      "COMBOUSDT - retorno: 19.807436690861095% - trades: 3\n",
      "Falla leyendo...\n"
     ]
    }
   ],
   "source": [
    "import modulos as md\n",
    "\n",
    "symbol='COMBOUSDT'\n",
    "\n",
    "lista=md.lista_de_monedas()\n",
    "for symbol in lista:\n",
    "    try:\n",
    "        data = md.obtiene_historial(symbol)\n",
    "        data = md.estrategia_bb(data)\n",
    "        resultado = md.backtesting(data)\n",
    "        if resultado[6]>1.5:\n",
    "            print(f\"{symbol} - retorno: {resultado[6]}% - trades: {resultado[17]}\")\n",
    "    except:\n",
    "        pass\n"
   ]
  },
  {
   "cell_type": "code",
   "execution_count": null,
   "id": "5cedeb00",
   "metadata": {},
   "outputs": [],
   "source": []
  }
 ],
 "metadata": {
  "kernelspec": {
   "display_name": "Python 3 (ipykernel)",
   "language": "python",
   "name": "python3"
  },
  "language_info": {
   "codemirror_mode": {
    "name": "ipython",
    "version": 3
   },
   "file_extension": ".py",
   "mimetype": "text/x-python",
   "name": "python",
   "nbconvert_exporter": "python",
   "pygments_lexer": "ipython3",
   "version": "3.10.11"
  }
 },
 "nbformat": 4,
 "nbformat_minor": 5
}
