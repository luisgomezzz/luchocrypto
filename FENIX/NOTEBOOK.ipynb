{
 "cells": [
  {
   "cell_type": "code",
   "execution_count": 2,
   "id": "cd995f0a",
   "metadata": {},
   "outputs": [
    {
     "name": "stderr",
     "output_type": "stream",
     "text": [
      "BokehDeprecationWarning: Passing lists of formats for DatetimeTickFormatter scales was deprecated in Bokeh 3.0. Configure a single string format for each scale\n",
      "C:\\Users\\Luis Gomez Freites\\AppData\\Local\\Packages\\PythonSoftwareFoundation.Python.3.10_qbz5n2kfra8p0\\LocalCache\\local-packages\\Python310\\site-packages\\backtesting\\_plotting.py:250: UserWarning: DatetimeFormatter scales now only accept a single format. Using the first provided: '%d %b'\n",
      "  formatter=DatetimeTickFormatter(days=['%d %b', '%a %d'],\n",
      "BokehDeprecationWarning: Passing lists of formats for DatetimeTickFormatter scales was deprecated in Bokeh 3.0. Configure a single string format for each scale\n",
      "C:\\Users\\Luis Gomez Freites\\AppData\\Local\\Packages\\PythonSoftwareFoundation.Python.3.10_qbz5n2kfra8p0\\LocalCache\\local-packages\\Python310\\site-packages\\backtesting\\_plotting.py:250: UserWarning: DatetimeFormatter scales now only accept a single format. Using the first provided: '%m/%Y'\n",
      "  formatter=DatetimeTickFormatter(days=['%d %b', '%a %d'],\n"
     ]
    },
    {
     "name": "stdout",
     "output_type": "stream",
     "text": [
      "MAVUSDT - retorno: 2.0% - trades: 2 - Profit Factor: 4.105250159124188\n"
     ]
    }
   ],
   "source": [
    "import modulos as md\n",
    "lista=['MAVUSDT']\n",
    "\n",
    "lista=md.lista_de_monedas()\n",
    "\n",
    "for symbol in lista:\n",
    "    try:\n",
    "        data = md.obtiene_historial(symbol,'30m')\n",
    "        data = md.estrategia_bb(data,tp_flag = True)\n",
    "        resultado = md.backtesting(data,plot_flag=True)\n",
    "        if resultado[6]>1.5:\n",
    "            print(f\"{symbol} - retorno: {md.truncate(resultado[6],2)}% - trades: {resultado[17]} - Profit Factor: {resultado['Profit Factor']}\")\n",
    "    except Exception as falla:\n",
    "        pass  \n",
    "\n"
   ]
  },
  {
   "cell_type": "code",
   "execution_count": 3,
   "id": "5d6d8a73",
   "metadata": {},
   "outputs": [
    {
     "data": {
      "text/plain": [
       "Start                     2023-06-28 08:00:00\n",
       "End                       2023-07-07 00:00:00\n",
       "Duration                      8 days 16:00:00\n",
       "Exposure Time [%]                    9.832134\n",
       "Equity Final [$]                  1020.097424\n",
       "Equity Peak [$]                   1023.997424\n",
       "Return [%]                           2.009742\n",
       "Buy & Hold Return [%]              -30.038421\n",
       "Return (Ann.) [%]                  106.737975\n",
       "Volatility (Ann.) [%]               38.223151\n",
       "Sharpe Ratio                         2.792495\n",
       "Sortino Ratio                       18.073189\n",
       "Calmar Ratio                         44.12537\n",
       "Max. Drawdown [%]                   -2.418971\n",
       "Avg. Drawdown [%]                   -2.088394\n",
       "Max. Drawdown Duration        3 days 16:00:00\n",
       "Avg. Drawdown Duration        2 days 01:00:00\n",
       "# Trades                                    2\n",
       "Win Rate [%]                             50.0\n",
       "Best Trade [%]                       6.153486\n",
       "Worst Trade [%]                     -1.498931\n",
       "Avg. Trade [%]                       2.255718\n",
       "Max. Trade Duration           0 days 16:30:00\n",
       "Avg. Trade Duration           0 days 09:45:00\n",
       "Profit Factor                         4.10525\n",
       "Expectancy [%]                       2.327278\n",
       "SQN                                  0.618333\n",
       "_strategy                               Fenix\n",
       "_equity_curve                             ...\n",
       "_trades                      Size  EntryBa...\n",
       "dtype: object"
      ]
     },
     "execution_count": 3,
     "metadata": {},
     "output_type": "execute_result"
    }
   ],
   "source": [
    "resultado"
   ]
  }
 ],
 "metadata": {
  "kernelspec": {
   "display_name": "Python 3 (ipykernel)",
   "language": "python",
   "name": "python3"
  },
  "language_info": {
   "codemirror_mode": {
    "name": "ipython",
    "version": 3
   },
   "file_extension": ".py",
   "mimetype": "text/x-python",
   "name": "python",
   "nbconvert_exporter": "python",
   "pygments_lexer": "ipython3",
   "version": "3.10.11"
  }
 },
 "nbformat": 4,
 "nbformat_minor": 5
}
