{
 "cells": [
  {
   "cell_type": "code",
   "execution_count": null,
   "id": "6cd9c678",
   "metadata": {},
   "outputs": [],
   "source": [
    "import modulos as md\n",
    "\n",
    "#lista=md.filtradodemonedas()\n",
    "\n",
    "lista = ['BCHUSDT', 'XRPUSDT', 'EOSUSDT', 'LTCUSDT', 'TRXUSDT', 'ETCUSDT', 'LINKUSDT', 'XLMUSDT', 'ADAUSDT', 'BNBUSDT', 'ATOMUSDT', 'ALGOUSDT', \n",
    "         'KNCUSDT', 'COMPUSDT', 'DOGEUSDT', 'KAVAUSDT', 'WAVESUSDT', 'MKRUSDT', 'SNXUSDT', 'DOTUSDT', 'CRVUSDT', 'SOLUSDT', 'STORJUSDT', 'UNIUSDT', \n",
    "         'AVAXUSDT', 'FTMUSDT', 'TOMOUSDT', 'NEARUSDT', 'AAVEUSDT', 'FILUSDT', 'MATICUSDT', 'AXSUSDT', 'SANDUSDT', 'XEMUSDT', 'MANAUSDT', 'LINAUSDT', \n",
    "         'MTLUSDT', '1000SHIBUSDT', 'MASKUSDT', 'DYDXUSDT', '1000XECUSDT', 'GALAUSDT', 'FLOWUSDT', 'GMTUSDT', 'APEUSDT', 'OPUSDT', 'INJUSDT', 'LDOUSDT', \n",
    "         'APTUSDT', 'FETUSDT', 'RNDRUSDT', 'AGIXUSDT', 'PHBUSDT', 'CFXUSDT', 'STXUSDT', 'LQTYUSDT', 'ARBUSDT', 'SUIUSDT', '1000PEPEUSDT', 'XVGUSDT']\n",
    "\n",
    "#lista=['SKLUSDT']"
   ]
  },
  {
   "cell_type": "code",
   "execution_count": null,
   "id": "cd995f0a",
   "metadata": {},
   "outputs": [],
   "source": [
    "###################################### FILTRADO DE MONEDAS PARA ESTRATEGIA SANTAAAAAA\n",
    "###################################################################################################################\n",
    "for symbol in lista:\n",
    "    try:\n",
    "        data = md.estrategia_santa(symbol, tp_flag = True)\n",
    "        resultado = md.backtesting(data, plot_flag = False)\n",
    "        #if (resultado['Profit Factor']>1 or resultado['Return [%]'] >0) and resultado['Win Rate [%]']>50:\n",
    "        print(f\"{symbol} - Return [%]: {md.truncate(resultado['Return [%]'],2)}% - # Trades: {resultado['# Trades']} - Profit Factor: {md.truncate(resultado['Profit Factor'],2)} - Win Rate [%]: {md.truncate(resultado['Win Rate [%]'],2)}\")\n",
    "    except Exception as falla:\n",
    "        pass"
   ]
  },
  {
   "cell_type": "code",
   "execution_count": null,
   "id": "2d7ba37d",
   "metadata": {},
   "outputs": [],
   "source": [
    "###################################### FILTRADO DE MONEDAS PARA ESTRATEGIA BB\n",
    "###################################################################################################################\n",
    "for symbol in lista:\n",
    "    try:\n",
    "        data = md.estrategia_bb(symbol, tp_flag = True)\n",
    "        resultado = md.backtesting(data, plot_flag = False)\n",
    "        #if resultado['Profit Factor'] > 1 and resultado[6]/resultado[17] >=0.3:\n",
    "        print(f\"{symbol} - Return [%]: {md.truncate(resultado['Return [%]'],2)}% - # Trades: {resultado['# Trades']} - Profit Factor: {md.truncate(resultado['Profit Factor'],2)}\")\n",
    "    except Exception as falla:\n",
    "        pass"
   ]
  },
  {
   "cell_type": "code",
   "execution_count": 1,
   "id": "80e196e6",
   "metadata": {},
   "outputs": [
    {
     "name": "stderr",
     "output_type": "stream",
     "text": [
      "C:\\Users\\Luis Gomez Freites\\AppData\\Local\\Packages\\PythonSoftwareFoundation.Python.3.10_qbz5n2kfra8p0\\LocalCache\\local-packages\\Python310\\site-packages\\tqdm\\auto.py:22: TqdmWarning: IProgress not found. Please update jupyter and ipywidgets. See https://ipywidgets.readthedocs.io/en/stable/user_install.html\n",
      "  from .autonotebook import tqdm as notebook_tqdm\n"
     ]
    },
    {
     "name": "stdout",
     "output_type": "stream",
     "text": [
      "XRPUSDT - Return [%]: 9.42% - # Trades: 13 - Profit Factor: 2.26\n",
      "EOSUSDT - Return [%]: 5.96% - # Trades: 13 - Profit Factor: 2.57\n",
      "TRXUSDT - Return [%]: 0.14% - # Trades: 14 - Profit Factor: 1.68\n",
      "XLMUSDT - Return [%]: 4.23% - # Trades: 12 - Profit Factor: 4.92\n",
      "ADAUSDT - Return [%]: 1.02% - # Trades: 13 - Profit Factor: 1.43\n",
      "ALGOUSDT - Return [%]: 0.86% - # Trades: 12 - Profit Factor: 2.35\n",
      "KNCUSDT - Return [%]: -1.69% - # Trades: 14 - Profit Factor: 0.7\n",
      "DOGEUSDT - Return [%]: 0.48% - # Trades: 12 - Profit Factor: 3.15\n",
      "KAVAUSDT - Return [%]: 3.98% - # Trades: 10 - Profit Factor: 2.61\n"
     ]
    },
    {
     "name": "stderr",
     "output_type": "stream",
     "text": [
      "c:\\LUCHO\\personal\\repopersonal\\luchocrypto\\FENIX\\modulos.py:462: UserWarning: Some prices are larger than initial cash value. Note that fractional trading is not supported. If you want to trade Bitcoin, increase initial cash, or trade μBTC or satoshis instead (GH-134).\n",
      "  bt = Backtest(data, Fenix, cash=1000)\n"
     ]
    },
    {
     "name": "stdout",
     "output_type": "stream",
     "text": [
      "CRVUSDT - Return [%]: 3.43% - # Trades: 12 - Profit Factor: 1.58\n",
      "STORJUSDT - Return [%]: 7.12% - # Trades: 11 - Profit Factor: 4.18\n",
      "FTMUSDT - Return [%]: 1.83% - # Trades: 12 - Profit Factor: 2.21\n",
      "TOMOUSDT - Return [%]: -2.02% - # Trades: 1 - Profit Factor: 0.0\n",
      "MATICUSDT - Return [%]: 5.4% - # Trades: 13 - Profit Factor: 2.01\n",
      "SANDUSDT - Return [%]: 2.68% - # Trades: 12 - Profit Factor: 1.94\n",
      "XEMUSDT - Return [%]: 0.28% - # Trades: 10 - Profit Factor: 4.24\n",
      "MANAUSDT - Return [%]: 3.29% - # Trades: 12 - Profit Factor: 2.67\n",
      "LINAUSDT - Return [%]: 0.04% - # Trades: 12 - Profit Factor: 1.6\n",
      "GALAUSDT - Return [%]: 0.08% - # Trades: 13 - Profit Factor: 1.5\n",
      "FLOWUSDT - Return [%]: -1.88% - # Trades: 13 - Profit Factor: 0.72\n",
      "GMTUSDT - Return [%]: 2.32% - # Trades: 11 - Profit Factor: 3.5\n",
      "FETUSDT - Return [%]: -0.29% - # Trades: 12 - Profit Factor: 0.77\n",
      "AGIXUSDT - Return [%]: -0.11% - # Trades: 12 - Profit Factor: 0.94\n",
      "PHBUSDT - Return [%]: 3.59% - # Trades: 12 - Profit Factor: 1.65\n",
      "CFXUSDT - Return [%]: 0.92% - # Trades: 12 - Profit Factor: 1.85\n",
      "STXUSDT - Return [%]: 3.14% - # Trades: 12 - Profit Factor: 1.68\n",
      "LQTYUSDT - Return [%]: 1.88% - # Trades: 6 - Profit Factor: 1.48\n",
      "SUIUSDT - Return [%]: 8.4% - # Trades: 12 - Profit Factor: 4.22\n",
      "XVGUSDT - Return [%]: 0.02% - # Trades: 12 - Profit Factor: 1.2\n"
     ]
    }
   ],
   "source": [
    "###################################### variacion btc\n",
    "###################################################################################################################\n",
    "for symbol in lista:\n",
    "    try:\n",
    "        data = md.sigo_variacion_bitcoin(symbol,timeframe='15m',porc=0.8,ventana=2,tp_flag=False)\n",
    "        resultado = md.backtesting(data, plot_flag = False)\n",
    "        #if resultado['Profit Factor'] > 1 and resultado[6]/resultado[17] >=0.3:\n",
    "        print(f\"{symbol} - Return [%]: {md.truncate(resultado['Return [%]'],2)}% - # Trades: {resultado['# Trades']} - Profit Factor: {md.truncate(resultado['Profit Factor'],2)}\")\n",
    "    except Exception as falla:\n",
    "        pass"
   ]
  }
 ],
 "metadata": {
  "kernelspec": {
   "display_name": "Python 3 (ipykernel)",
   "language": "python",
   "name": "python3"
  },
  "language_info": {
   "codemirror_mode": {
    "name": "ipython",
    "version": 3
   },
   "file_extension": ".py",
   "mimetype": "text/x-python",
   "name": "python",
   "nbconvert_exporter": "python",
   "pygments_lexer": "ipython3",
   "version": "3.10.11"
  }
 },
 "nbformat": 4,
 "nbformat_minor": 5
}
