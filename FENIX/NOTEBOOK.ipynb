{
 "cells": [
  {
   "cell_type": "code",
   "execution_count": 9,
   "id": "644b19e1",
   "metadata": {},
   "outputs": [
    {
     "name": "stdout",
     "output_type": "stream",
     "text": [
      "['STRAXUSDT']\n"
     ]
    },
    {
     "name": "stderr",
     "output_type": "stream",
     "text": [
      "BokehDeprecationWarning: Passing lists of formats for DatetimeTickFormatter scales was deprecated in Bokeh 3.0. Configure a single string format for each scale\n",
      "C:\\Users\\Luis Gomez Freites\\AppData\\Local\\Packages\\PythonSoftwareFoundation.Python.3.10_qbz5n2kfra8p0\\LocalCache\\local-packages\\Python310\\site-packages\\backtesting\\_plotting.py:250: UserWarning: DatetimeFormatter scales now only accept a single format. Using the first provided: '%d %b'\n",
      "  formatter=DatetimeTickFormatter(days=['%d %b', '%a %d'],\n",
      "BokehDeprecationWarning: Passing lists of formats for DatetimeTickFormatter scales was deprecated in Bokeh 3.0. Configure a single string format for each scale\n",
      "C:\\Users\\Luis Gomez Freites\\AppData\\Local\\Packages\\PythonSoftwareFoundation.Python.3.10_qbz5n2kfra8p0\\LocalCache\\local-packages\\Python310\\site-packages\\backtesting\\_plotting.py:250: UserWarning: DatetimeFormatter scales now only accept a single format. Using the first provided: '%m/%Y'\n",
      "  formatter=DatetimeTickFormatter(days=['%d %b', '%a %d'],\n"
     ]
    },
    {
     "name": "stdout",
     "output_type": "stream",
     "text": [
      "STRAXUSDT - Return [%]: 0.0% - # Trades: 0 - Profit Factor: nan - Win Rate [%]: nan\n"
     ]
    }
   ],
   "source": [
    "import modulos as md\n",
    "import numpy as np\n",
    "import os\n",
    "import sys\n",
    "import constantes as cons\n",
    "lista_filtrada = []\n",
    "#lista=md.filtradodemonedas ()\n",
    "#lista = ['BTCUSDT', 'ETHUSDT', 'BCHUSDT', 'XRPUSDT', 'EOSUSDT', 'LTCUSDT', 'ETCUSDT', 'LINKUSDT', 'ADAUSDT', 'BNBUSDT', 'ATOMUSDT', 'DOGEUSDT', 'MKRUSDT', 'DOTUSDT', 'CRVUSDT', 'TRBUSDT', 'RUNEUSDT', 'SOLUSDT', 'AVAXUSDT', 'FTMUSDT', 'AAVEUSDT', 'FILUSDT', 'MATICUSDT', '1000SHIBUSDT', 'DYDXUSDT', 'GALAUSDT', 'PEOPLEUSDT', 'APEUSDT', 'OPUSDT', 'INJUSDT', 'APTUSDT', 'STXUSDT', 'ARBUSDT', 'SUIUSDT', '1000PEPEUSDT', '1000FLOKIUSDT', 'WLDUSDT', 'AGLDUSDT', 'LOOMUSDT', 'BIGTIMEUSDT', 'BONDUSDT', 'ORBSUSDT', 'RIFUSDT']\n",
    "lista = ['BTCUSDT','LINKUSDT','BNBUSDT','DOGEUSDT','TRBUSDT','SOLUSDT','AVAXUSDT','1000SHIBUSDT','1000PEPEUSDT','WLDUSDT','BONDUSDT'] #ELEGIDOS\n",
    "lista = ['STRAXUSDT']\n",
    "\n",
    "if len(lista)>1:\n",
    "    imprimo=True\n",
    "    debug=False\n",
    "else:\n",
    "    imprimo= True\n",
    "    debug=True\n",
    "print(lista)\n",
    "for symbol in lista:    \n",
    "    try:\n",
    "        #print(symbol)\n",
    "        data = md.estrategia_royal(symbol, debug = False, refinado = False, file_source = False, timeframe = '1h')\n",
    "        resultado=md.backtesting_royal(data, plot_flag=imprimo, symbol=symbol)\n",
    "        if resultado['Win Rate [%]'] >= 50:\n",
    "            lista_filtrada.append(symbol)\n",
    "        print(f\"{symbol} - Return [%]: {md.truncate(resultado['Return [%]'],2)}% - # Trades: {resultado['# Trades']} - Profit Factor: {resultado['Profit Factor']} - Win Rate [%]: {resultado['Win Rate [%]']}\")\n",
    "    except Exception as falla:\n",
    "        _, _, exc_tb = sys.exc_info()\n",
    "        fname = os.path.split(exc_tb.tb_frame.f_code.co_filename)[1]\n",
    "        print(\"\\nError: \"+str(falla)+\" - line: \"+str(exc_tb.tb_lineno)+\" - file: \"+str(fname)+\"\\n\")\n",
    "        pass\n",
    "for symbol in lista_filtrada:\n",
    "    md.printandlog(cons.nombrelog,symbol,pal=1)\n",
    "#(data.loc[data['Open Time'] == '2023-10-03 03:00:00'])\n"
   ]
  }
 ],
 "metadata": {
  "kernelspec": {
   "display_name": "Python 3 (ipykernel)",
   "language": "python",
   "name": "python3"
  },
  "language_info": {
   "codemirror_mode": {
    "name": "ipython",
    "version": 3
   },
   "file_extension": ".py",
   "mimetype": "text/x-python",
   "name": "python",
   "nbconvert_exporter": "python",
   "pygments_lexer": "ipython3",
   "version": "3.10.11"
  }
 },
 "nbformat": 4,
 "nbformat_minor": 5
}
