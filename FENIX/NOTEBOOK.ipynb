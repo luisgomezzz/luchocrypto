{
 "cells": [
  {
   "cell_type": "code",
   "execution_count": 3,
   "id": "cd995f0a",
   "metadata": {},
   "outputs": [
    {
     "name": "stdout",
     "output_type": "stream",
     "text": [
      "EOSUSDT - retorno: 8.76% - trades: 5 - Profit Factor: 6.8 - Win Rate [%]: 60.0\n",
      "ONTUSDT - retorno: 2.21% - trades: 6 - Profit Factor: 7.92 - Win Rate [%]: 66.66\n",
      "BATUSDT - retorno: 0.94% - trades: 5 - Profit Factor: 3.81 - Win Rate [%]: 60.0\n",
      "VETUSDT - retorno: 0.17% - trades: 3 - Profit Factor: 8.9 - Win Rate [%]: 66.66\n",
      "THETAUSDT - retorno: 9.68% - trades: 5 - Profit Factor: 31.14 - Win Rate [%]: 80.0\n",
      "ZRXUSDT - retorno: 0.42% - trades: 8 - Profit Factor: 1.48 - Win Rate [%]: 62.5\n",
      "OMGUSDT - retorno: 10.03% - trades: 7 - Profit Factor: 7.64 - Win Rate [%]: 57.14\n",
      "SXPUSDT - retorno: 4.38% - trades: 13 - Profit Factor: 2.23 - Win Rate [%]: 53.84\n"
     ]
    },
    {
     "name": "stderr",
     "output_type": "stream",
     "text": [
      "c:\\LUCHO\\personal\\repopersonal\\luchocrypto\\FENIX\\modulos.py:313: UserWarning: Some prices are larger than initial cash value. Note that fractional trading is not supported. If you want to trade Bitcoin, increase initial cash, or trade μBTC or satoshis instead (GH-134).\n",
      "  bt = Backtest(data, Fenix, cash=1000)\n",
      "c:\\LUCHO\\personal\\repopersonal\\luchocrypto\\FENIX\\modulos.py:313: UserWarning: Some prices are larger than initial cash value. Note that fractional trading is not supported. If you want to trade Bitcoin, increase initial cash, or trade μBTC or satoshis instead (GH-134).\n",
      "  bt = Backtest(data, Fenix, cash=1000)\n"
     ]
    },
    {
     "name": "stdout",
     "output_type": "stream",
     "text": [
      "SUSHIUSDT - retorno: 5.57% - trades: 4 - Profit Factor: 16.86 - Win Rate [%]: 75.0\n",
      "ICXUSDT - retorno: 1.38% - trades: 9 - Profit Factor: 3.04 - Win Rate [%]: 55.55\n",
      "BLZUSDT - retorno: 0.49% - trades: 9 - Profit Factor: 4.39 - Win Rate [%]: 66.66\n",
      "ENJUSDT - retorno: 3.01% - trades: 6 - Profit Factor: 8.02 - Win Rate [%]: 66.66\n",
      "MATICUSDT - retorno: 0.45% - trades: 3 - Profit Factor: 1.27 - Win Rate [%]: 66.66\n",
      "OCEANUSDT - retorno: 2.17% - trades: 13 - Profit Factor: 2.15 - Win Rate [%]: 53.84\n",
      "SKLUSDT - retorno: 0.18% - trades: 5 - Profit Factor: 5.9 - Win Rate [%]: 80.0\n",
      "1INCHUSDT - retorno: 1.34% - trades: 4 - Profit Factor: 4.7 - Win Rate [%]: 75.0\n",
      "CHZUSDT - retorno: 0.33% - trades: 3 - Profit Factor: 5.01 - Win Rate [%]: 66.66\n",
      "SANDUSDT - retorno: 5.05% - trades: 6 - Profit Factor: 10.01 - Win Rate [%]: 83.33\n",
      "ANKRUSDT - retorno: 0.08% - trades: 7 - Profit Factor: 2.05 - Win Rate [%]: 57.14\n",
      "REEFUSDT - retorno: 0.01% - trades: 4 - Profit Factor: 6.43 - Win Rate [%]: 75.0\n",
      "RVNUSDT - retorno: 0.2% - trades: 5 - Profit Factor: 13.02 - Win Rate [%]: 80.0\n",
      "MANAUSDT - retorno: 2.79% - trades: 5 - Profit Factor: 4.24 - Win Rate [%]: 60.0\n",
      "ALICEUSDT - retorno: 3.98% - trades: 4 - Profit Factor: 4.09 - Win Rate [%]: 75.0\n",
      "DENTUSDT - retorno: 0.0% - trades: 4 - Profit Factor: 35.82 - Win Rate [%]: 75.0\n",
      "PEOPLEUSDT - retorno: 0.09% - trades: 5 - Profit Factor: 6.25 - Win Rate [%]: 60.0\n",
      "ROSEUSDT - retorno: 0.44% - trades: 3 - Profit Factor: 9.23 - Win Rate [%]: 66.66\n",
      "DUSKUSDT - retorno: 0.74% - trades: 4 - Profit Factor: 11.91 - Win Rate [%]: 75.0\n",
      "API3USDT - retorno: 4.56% - trades: 3 - Profit Factor: 49.11 - Win Rate [%]: 66.66\n",
      "DARUSDT - retorno: 1.29% - trades: 5 - Profit Factor: 18.25 - Win Rate [%]: 60.0\n",
      "SPELLUSDT - retorno: 0.0% - trades: 5 - Profit Factor: 4.35 - Win Rate [%]: 60.0\n",
      "MAGICUSDT - retorno: 2.82% - trades: 5 - Profit Factor: 1.69 - Win Rate [%]: 60.0\n",
      "TUSDT - retorno: 0.25% - trades: 5 - Profit Factor: 45.27 - Win Rate [%]: 80.0\n",
      "AGIXUSDT - retorno: 4.67% - trades: 8 - Profit Factor: 9.32 - Win Rate [%]: 62.5\n",
      "STXUSDT - retorno: 3.4% - trades: 3 - Profit Factor: 10.0 - Win Rate [%]: 66.66\n",
      "ACHUSDT - retorno: 0.1% - trades: 4 - Profit Factor: 9.02 - Win Rate [%]: 75.0\n",
      "TRUUSDT - retorno: 0.44% - trades: 4 - Profit Factor: 792.11 - Win Rate [%]: 75.0\n",
      "RDNTUSDT - retorno: 1.19% - trades: 5 - Profit Factor: 130.03 - Win Rate [%]: 80.0\n",
      "SUIUSDT - retorno: 2.89% - trades: 4 - Profit Factor: 4.49 - Win Rate [%]: 75.0\n",
      "COMBOUSDT - retorno: 8.85% - trades: 7 - Profit Factor: 7.49 - Win Rate [%]: 57.14\n"
     ]
    }
   ],
   "source": [
    "###################################### FILTRADO DE MONEDAS PARA ESTRATEGIA SANTAAAAAA\n",
    "###################################################################################################################\n",
    "import modulos as md\n",
    "import numpy as np\n",
    "lista=['STORJUSDT']\n",
    "lista=md.lista_de_monedas()\n",
    "for symbol in lista:\n",
    "    try:\n",
    "        data = md.estrategia_santa(symbol, tp_flag = False)\n",
    "        resultado = md.backtesting(data, plot_flag = False)\n",
    "        #if resultado['Profit Factor']>1 or resultado[6] >= 1:\n",
    "        if resultado['Win Rate [%]']>50:\n",
    "            print(f\"{symbol} - retorno: {md.truncate(resultado[6],2)}% - trades: {resultado[17]} - Profit Factor: {md.truncate(resultado['Profit Factor'],2)} - Win Rate [%]: {md.truncate(resultado['Win Rate [%]'],2)}\")\n",
    "    except Exception as falla:\n",
    "        pass\n"
   ]
  },
  {
   "cell_type": "code",
   "execution_count": 2,
   "id": "c0b98d8c",
   "metadata": {},
   "outputs": [
    {
     "ename": "ValueError",
     "evalue": "Short orders require: TP (None) < LIMIT (4.181) < SL (4.124957316383408)",
     "output_type": "error",
     "traceback": [
      "\u001b[1;31m---------------------------------------------------------------------------\u001b[0m",
      "\u001b[1;31mValueError\u001b[0m                                Traceback (most recent call last)",
      "Cell \u001b[1;32mIn[2], line 2\u001b[0m\n\u001b[0;32m      1\u001b[0m data \u001b[39m=\u001b[39m md\u001b[39m.\u001b[39mestrategia_santa(symbol, tp_flag \u001b[39m=\u001b[39m \u001b[39mFalse\u001b[39;00m)\n\u001b[1;32m----> 2\u001b[0m resultado \u001b[39m=\u001b[39m md\u001b[39m.\u001b[39;49mbacktesting(data, plot_flag \u001b[39m=\u001b[39;49m \u001b[39mFalse\u001b[39;49;00m)\n\u001b[0;32m      3\u001b[0m \u001b[39mimport\u001b[39;00m \u001b[39mpandas_ta\u001b[39;00m \u001b[39mas\u001b[39;00m \u001b[39mpta\u001b[39;00m\n\u001b[0;32m      4\u001b[0m data \u001b[39m=\u001b[39m (pta\u001b[39m.\u001b[39mmacd(data\u001b[39m.\u001b[39mClose))\n",
      "File \u001b[1;32mc:\\LUCHO\\personal\\repopersonal\\luchocrypto\\FENIX\\modulos.py:314\u001b[0m, in \u001b[0;36mbacktesting\u001b[1;34m(data, plot_flag)\u001b[0m\n\u001b[0;32m    312\u001b[0m                 \u001b[39mself\u001b[39m\u001b[39m.\u001b[39msell(size\u001b[39m=\u001b[39m\u001b[39m1000\u001b[39m,sl\u001b[39m=\u001b[39m\u001b[39mself\u001b[39m\u001b[39m.\u001b[39mdata\u001b[39m.\u001b[39mstop_loss[\u001b[39m-\u001b[39m\u001b[39m1\u001b[39m],tp\u001b[39m=\u001b[39mtp_value)\n\u001b[0;32m    313\u001b[0m bt \u001b[39m=\u001b[39m Backtest(data, Fenix, cash\u001b[39m=\u001b[39m\u001b[39m1000\u001b[39m)\n\u001b[1;32m--> 314\u001b[0m output \u001b[39m=\u001b[39m bt\u001b[39m.\u001b[39;49mrun()\n\u001b[0;32m    315\u001b[0m \u001b[39mif\u001b[39;00m plot_flag:\n\u001b[0;32m    316\u001b[0m     bt\u001b[39m.\u001b[39mplot()\n",
      "File \u001b[1;32m~\\AppData\\Local\\Packages\\PythonSoftwareFoundation.Python.3.10_qbz5n2kfra8p0\\LocalCache\\local-packages\\Python310\\site-packages\\backtesting\\backtesting.py:1170\u001b[0m, in \u001b[0;36mBacktest.run\u001b[1;34m(self, **kwargs)\u001b[0m\n\u001b[0;32m   1167\u001b[0m         \u001b[39mbreak\u001b[39;00m\n\u001b[0;32m   1169\u001b[0m     \u001b[39m# Next tick, a moment before bar close\u001b[39;00m\n\u001b[1;32m-> 1170\u001b[0m     strategy\u001b[39m.\u001b[39;49mnext()\n\u001b[0;32m   1171\u001b[0m \u001b[39melse\u001b[39;00m:\n\u001b[0;32m   1172\u001b[0m     \u001b[39m# Close any remaining open trades so they produce some stats\u001b[39;00m\n\u001b[0;32m   1173\u001b[0m     \u001b[39mfor\u001b[39;00m trade \u001b[39min\u001b[39;00m broker\u001b[39m.\u001b[39mtrades:\n",
      "File \u001b[1;32mc:\\LUCHO\\personal\\repopersonal\\luchocrypto\\FENIX\\modulos.py:312\u001b[0m, in \u001b[0;36mbacktesting.<locals>.Fenix.next\u001b[1;34m(self)\u001b[0m\n\u001b[0;32m    310\u001b[0m     \u001b[39mself\u001b[39m\u001b[39m.\u001b[39mbuy(size\u001b[39m=\u001b[39m\u001b[39m1000\u001b[39m,sl\u001b[39m=\u001b[39m\u001b[39mself\u001b[39m\u001b[39m.\u001b[39mdata\u001b[39m.\u001b[39mstop_loss[\u001b[39m-\u001b[39m\u001b[39m1\u001b[39m],tp\u001b[39m=\u001b[39mtp_value)\n\u001b[0;32m    311\u001b[0m \u001b[39melif\u001b[39;00m \u001b[39mself\u001b[39m\u001b[39m.\u001b[39mdata\u001b[39m.\u001b[39msignal[\u001b[39m-\u001b[39m\u001b[39m1\u001b[39m]\u001b[39m==\u001b[39m\u001b[39m-\u001b[39m\u001b[39m1\u001b[39m:\n\u001b[1;32m--> 312\u001b[0m     \u001b[39mself\u001b[39;49m\u001b[39m.\u001b[39;49msell(size\u001b[39m=\u001b[39;49m\u001b[39m1000\u001b[39;49m,sl\u001b[39m=\u001b[39;49m\u001b[39mself\u001b[39;49m\u001b[39m.\u001b[39;49mdata\u001b[39m.\u001b[39;49mstop_loss[\u001b[39m-\u001b[39;49m\u001b[39m1\u001b[39;49m],tp\u001b[39m=\u001b[39;49mtp_value)\n",
      "File \u001b[1;32m~\\AppData\\Local\\Packages\\PythonSoftwareFoundation.Python.3.10_qbz5n2kfra8p0\\LocalCache\\local-packages\\Python310\\site-packages\\backtesting\\backtesting.py:225\u001b[0m, in \u001b[0;36mStrategy.sell\u001b[1;34m(self, size, limit, stop, sl, tp)\u001b[0m\n\u001b[0;32m    218\u001b[0m \u001b[39m\"\"\"\u001b[39;00m\n\u001b[0;32m    219\u001b[0m \u001b[39mPlace a new short order. For explanation of parameters, see `Order` and its properties.\u001b[39;00m\n\u001b[0;32m    220\u001b[0m \n\u001b[0;32m    221\u001b[0m \u001b[39mSee also `Strategy.buy()`.\u001b[39;00m\n\u001b[0;32m    222\u001b[0m \u001b[39m\"\"\"\u001b[39;00m\n\u001b[0;32m    223\u001b[0m \u001b[39massert\u001b[39;00m \u001b[39m0\u001b[39m \u001b[39m<\u001b[39m size \u001b[39m<\u001b[39m \u001b[39m1\u001b[39m \u001b[39mor\u001b[39;00m \u001b[39mround\u001b[39m(size) \u001b[39m==\u001b[39m size, \\\n\u001b[0;32m    224\u001b[0m     \u001b[39m\"\u001b[39m\u001b[39msize must be a positive fraction of equity, or a positive whole number of units\u001b[39m\u001b[39m\"\u001b[39m\n\u001b[1;32m--> 225\u001b[0m \u001b[39mreturn\u001b[39;00m \u001b[39mself\u001b[39;49m\u001b[39m.\u001b[39;49m_broker\u001b[39m.\u001b[39;49mnew_order(\u001b[39m-\u001b[39;49msize, limit, stop, sl, tp)\n",
      "File \u001b[1;32m~\\AppData\\Local\\Packages\\PythonSoftwareFoundation.Python.3.10_qbz5n2kfra8p0\\LocalCache\\local-packages\\Python310\\site-packages\\backtesting\\backtesting.py:718\u001b[0m, in \u001b[0;36m_Broker.new_order\u001b[1;34m(self, size, limit, stop, sl, tp, trade)\u001b[0m\n\u001b[0;32m    716\u001b[0m \u001b[39melse\u001b[39;00m:\n\u001b[0;32m    717\u001b[0m     \u001b[39mif\u001b[39;00m \u001b[39mnot\u001b[39;00m (tp \u001b[39mor\u001b[39;00m \u001b[39m-\u001b[39mnp\u001b[39m.\u001b[39minf) \u001b[39m<\u001b[39m (limit \u001b[39mor\u001b[39;00m stop \u001b[39mor\u001b[39;00m adjusted_price) \u001b[39m<\u001b[39m (sl \u001b[39mor\u001b[39;00m np\u001b[39m.\u001b[39minf):\n\u001b[1;32m--> 718\u001b[0m         \u001b[39mraise\u001b[39;00m \u001b[39mValueError\u001b[39;00m(\n\u001b[0;32m    719\u001b[0m             \u001b[39m\"\u001b[39m\u001b[39mShort orders require: \u001b[39m\u001b[39m\"\u001b[39m\n\u001b[0;32m    720\u001b[0m             \u001b[39mf\u001b[39m\u001b[39m\"\u001b[39m\u001b[39mTP (\u001b[39m\u001b[39m{\u001b[39;00mtp\u001b[39m}\u001b[39;00m\u001b[39m) < LIMIT (\u001b[39m\u001b[39m{\u001b[39;00mlimit \u001b[39mor\u001b[39;00m stop \u001b[39mor\u001b[39;00m adjusted_price\u001b[39m}\u001b[39;00m\u001b[39m) < SL (\u001b[39m\u001b[39m{\u001b[39;00msl\u001b[39m}\u001b[39;00m\u001b[39m)\u001b[39m\u001b[39m\"\u001b[39m)\n\u001b[0;32m    722\u001b[0m order \u001b[39m=\u001b[39m Order(\u001b[39mself\u001b[39m, size, limit, stop, sl, tp, trade)\n\u001b[0;32m    723\u001b[0m \u001b[39m# Put the new order in the order queue,\u001b[39;00m\n\u001b[0;32m    724\u001b[0m \u001b[39m# inserting SL/TP/trade-closing orders in-front\u001b[39;00m\n",
      "\u001b[1;31mValueError\u001b[0m: Short orders require: TP (None) < LIMIT (4.181) < SL (4.124957316383408)"
     ]
    }
   ],
   "source": [
    "data = md.estrategia_santa(symbol, tp_flag = False)\n",
    "resultado = md.backtesting(data, plot_flag = False)\n",
    "import pandas_ta as pta\n",
    "data = (pta.macd(data.Close))\n",
    "resultado\n"
   ]
  },
  {
   "cell_type": "code",
   "execution_count": 1,
   "id": "2d7ba37d",
   "metadata": {},
   "outputs": [
    {
     "name": "stderr",
     "output_type": "stream",
     "text": [
      "C:\\Users\\Luis Gomez Freites\\AppData\\Local\\Packages\\PythonSoftwareFoundation.Python.3.10_qbz5n2kfra8p0\\LocalCache\\local-packages\\Python310\\site-packages\\tqdm\\auto.py:22: TqdmWarning: IProgress not found. Please update jupyter and ipywidgets. See https://ipywidgets.readthedocs.io/en/stable/user_install.html\n",
      "  from .autonotebook import tqdm as notebook_tqdm\n"
     ]
    },
    {
     "name": "stdout",
     "output_type": "stream",
     "text": [
      "BATUSDT - retorno: 2.28% - trades: 7 - Profit Factor: 4.08\n"
     ]
    },
    {
     "name": "stderr",
     "output_type": "stream",
     "text": [
      "c:\\LUCHO\\personal\\repopersonal\\luchocrypto\\FENIX\\modulos.py:313: UserWarning: Some prices are larger than initial cash value. Note that fractional trading is not supported. If you want to trade Bitcoin, increase initial cash, or trade μBTC or satoshis instead (GH-134).\n",
      "  bt = Backtest(data, Fenix, cash=1000)\n",
      "c:\\LUCHO\\personal\\repopersonal\\luchocrypto\\FENIX\\modulos.py:313: UserWarning: Some prices are larger than initial cash value. Note that fractional trading is not supported. If you want to trade Bitcoin, increase initial cash, or trade μBTC or satoshis instead (GH-134).\n",
      "  bt = Backtest(data, Fenix, cash=1000)\n"
     ]
    },
    {
     "name": "stdout",
     "output_type": "stream",
     "text": [
      "RUNEUSDT - retorno: 4.84% - trades: 6 - Profit Factor: 2.86\n",
      "SRMUSDT - retorno: 2.68% - trades: 5 - Profit Factor: 1.9\n",
      "FTMUSDT - retorno: 4.89% - trades: 8 - Profit Factor: 3.6\n",
      "ENJUSDT - retorno: 3.57% - trades: 7 - Profit Factor: 5.46\n",
      "OCEANUSDT - retorno: 4.5% - trades: 11 - Profit Factor: 2.91\n",
      "BELUSDT - retorno: 4.65% - trades: 6 - Profit Factor: 2.74\n",
      "CTKUSDT - retorno: 5.21% - trades: 9 - Profit Factor: 3.09\n",
      "MINAUSDT - retorno: 8.56% - trades: 11 - Profit Factor: 4.12\n",
      "PHBUSDT - retorno: 3.14% - trades: 8 - Profit Factor: 1.61\n",
      "SUIUSDT - retorno: 4.35% - trades: 11 - Profit Factor: 1.64\n",
      "COMBOUSDT - retorno: 5.01% - trades: 8 - Profit Factor: 1.96\n"
     ]
    }
   ],
   "source": [
    "###################################### FILTRADO DE MONEDAS PARA ESTRATEGIA BB\n",
    "###################################################################################################################\n",
    "\n",
    "import modulos as md\n",
    "import numpy as np\n",
    "lista=['XTZUSDT']\n",
    "lista=md.lista_de_monedas()\n",
    "for symbol in lista:\n",
    "    try:\n",
    "        data = md.estrategia_bb(symbol, tp_flag = True)\n",
    "        resultado = md.backtesting(data, plot_flag = False)\n",
    "        if resultado['Profit Factor'] > 1 and resultado[6]/resultado[17] >=0.3:\n",
    "            print(f\"{symbol} - retorno: {md.truncate(resultado[6],2)}% - trades: {resultado[17]} - Profit Factor: {md.truncate(resultado['Profit Factor'],2)}\")\n",
    "    except Exception as falla:\n",
    "        pass"
   ]
  }
 ],
 "metadata": {
  "kernelspec": {
   "display_name": "Python 3 (ipykernel)",
   "language": "python",
   "name": "python3"
  },
  "language_info": {
   "codemirror_mode": {
    "name": "ipython",
    "version": 3
   },
   "file_extension": ".py",
   "mimetype": "text/x-python",
   "name": "python",
   "nbconvert_exporter": "python",
   "pygments_lexer": "ipython3",
   "version": "3.10.11"
  }
 },
 "nbformat": 4,
 "nbformat_minor": 5
}
