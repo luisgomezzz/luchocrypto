{
 "cells": [
  {
   "cell_type": "code",
   "execution_count": null,
   "id": "6cd9c678",
   "metadata": {},
   "outputs": [],
   "source": [
    "import modulos as md\n",
    "\n",
    "#lista=md.filtradodemonedas()\n",
    "\n",
    "lista = ['BCHUSDT', 'XRPUSDT', 'EOSUSDT', 'LTCUSDT', 'TRXUSDT', 'ETCUSDT', 'LINKUSDT', 'XLMUSDT', 'ADAUSDT', 'BNBUSDT', 'ATOMUSDT', 'ALGOUSDT', \n",
    "         'KNCUSDT', 'COMPUSDT', 'DOGEUSDT', 'KAVAUSDT', 'WAVESUSDT', 'MKRUSDT', 'SNXUSDT', 'DOTUSDT', 'CRVUSDT', 'SOLUSDT', 'STORJUSDT', 'UNIUSDT', \n",
    "         'AVAXUSDT', 'FTMUSDT', 'TOMOUSDT', 'NEARUSDT', 'AAVEUSDT', 'FILUSDT', 'MATICUSDT', 'AXSUSDT', 'SANDUSDT', 'XEMUSDT', 'MANAUSDT', 'LINAUSDT', \n",
    "         'MTLUSDT', '1000SHIBUSDT', 'MASKUSDT', 'DYDXUSDT', '1000XECUSDT', 'GALAUSDT', 'FLOWUSDT', 'GMTUSDT', 'APEUSDT', 'OPUSDT', 'INJUSDT', 'LDOUSDT', \n",
    "         'APTUSDT', 'FETUSDT', 'RNDRUSDT', 'AGIXUSDT', 'PHBUSDT', 'CFXUSDT', 'STXUSDT', 'LQTYUSDT', 'ARBUSDT', 'SUIUSDT', '1000PEPEUSDT', 'XVGUSDT']\n"
   ]
  },
  {
   "cell_type": "code",
   "execution_count": 1,
   "id": "2d7ba37d",
   "metadata": {},
   "outputs": [
    {
     "name": "stderr",
     "output_type": "stream",
     "text": [
      "C:\\Users\\Luis Gomez Freites\\AppData\\Local\\Packages\\PythonSoftwareFoundation.Python.3.10_qbz5n2kfra8p0\\LocalCache\\local-packages\\Python310\\site-packages\\tqdm\\auto.py:22: TqdmWarning: IProgress not found. Please update jupyter and ipywidgets. See https://ipywidgets.readthedocs.io/en/stable/user_install.html\n",
      "  from .autonotebook import tqdm as notebook_tqdm\n"
     ]
    },
    {
     "name": "stdout",
     "output_type": "stream",
     "text": [
      "OMGUSDT - Return [%]: 10.38% - # Trades: 6 - Profit Factor: 6.55\n",
      "SXPUSDT - Return [%]: 2.45% - # Trades: 5 - Profit Factor: 3.68\n"
     ]
    },
    {
     "name": "stderr",
     "output_type": "stream",
     "text": [
      "c:\\LUCHO\\personal\\repopersonal\\luchocrypto\\FENIX\\modulos.py:462: UserWarning: Some prices are larger than initial cash value. Note that fractional trading is not supported. If you want to trade Bitcoin, increase initial cash, or trade μBTC or satoshis instead (GH-134).\n",
      "  bt = Backtest(data, Fenix, cash=1000)\n"
     ]
    },
    {
     "name": "stdout",
     "output_type": "stream",
     "text": [
      "\n",
      "Error: local variable 'data' referenced before assignment - line: 521 - file: modulos.py - par: DEFIUSDT\n",
      "\n"
     ]
    },
    {
     "name": "stderr",
     "output_type": "stream",
     "text": [
      "c:\\LUCHO\\personal\\repopersonal\\luchocrypto\\FENIX\\modulos.py:462: UserWarning: Some prices are larger than initial cash value. Note that fractional trading is not supported. If you want to trade Bitcoin, increase initial cash, or trade μBTC or satoshis instead (GH-134).\n",
      "  bt = Backtest(data, Fenix, cash=1000)\n"
     ]
    },
    {
     "name": "stdout",
     "output_type": "stream",
     "text": [
      "CRVUSDT - Return [%]: 10.36% - # Trades: 5 - Profit Factor: 10.17\n",
      "RUNEUSDT - Return [%]: 5.78% - # Trades: 4 - Profit Factor: 3.95\n",
      "FTMUSDT - Return [%]: 2.27% - # Trades: 5 - Profit Factor: 2.42\n",
      "\n",
      "Error: local variable 'data' referenced before assignment - line: 521 - file: modulos.py - par: 1000SHIBUSDT\n",
      "\n",
      "\n",
      "Error: local variable 'data' referenced before assignment - line: 521 - file: modulos.py - par: BTCDOMUSDT\n",
      "\n",
      "\n",
      "Error: local variable 'data' referenced before assignment - line: 521 - file: modulos.py - par: 1000XECUSDT\n",
      "\n",
      "IMXUSDT - Return [%]: 9.74% - # Trades: 7 - Profit Factor: 6.88\n",
      "STGUSDT - Return [%]: 5.74% - # Trades: 4 - Profit Factor: 4.44\n",
      "\n",
      "Error: local variable 'data' referenced before assignment - line: 521 - file: modulos.py - par: FOOTBALLUSDT\n",
      "\n",
      "\n",
      "Error: local variable 'data' referenced before assignment - line: 521 - file: modulos.py - par: 1000LUNCUSDT\n",
      "\n",
      "\n",
      "Error: local variable 'data' referenced before assignment - line: 521 - file: modulos.py - par: LUNA2USDT\n",
      "\n",
      "\n",
      "Error: local variable 'data' referenced before assignment - line: 521 - file: modulos.py - par: BLUEBIRDUSDT\n",
      "\n",
      "MINAUSDT - Return [%]: 4.89% - # Trades: 7 - Profit Factor: 2.45\n",
      "PERPUSDT - Return [%]: 6.62% - # Trades: 7 - Profit Factor: 4.08\n",
      "IDUSDT - Return [%]: 5.54% - # Trades: 6 - Profit Factor: 18.37\n",
      "RDNTUSDT - Return [%]: 3.58% - # Trades: 6 - Profit Factor: 3.72\n",
      "HFTUSDT - Return [%]: 3.11% - # Trades: 7 - Profit Factor: 2.25\n",
      "\n",
      "Error: local variable 'data' referenced before assignment - line: 521 - file: modulos.py - par: BLURUSDT\n",
      "\n",
      "EDUUSDT - Return [%]: 6.98% - # Trades: 5 - Profit Factor: 4.09\n",
      "\n",
      "Error: local variable 'data' referenced before assignment - line: 521 - file: modulos.py - par: 1000PEPEUSDT\n",
      "\n",
      "\n",
      "Error: local variable 'data' referenced before assignment - line: 521 - file: modulos.py - par: 1000FLOKIUSDT\n",
      "\n",
      "COMBOUSDT - Return [%]: 11.57% - # Trades: 6 - Profit Factor: 3.93\n"
     ]
    }
   ],
   "source": [
    "###################################### ESTRATEGIA BB\n",
    "###################################################################################################################\n",
    "import modulos as md\n",
    "lista=['OMGUSDT',\n",
    "'SXPUSDT',\n",
    "'CRVUSDT',\n",
    "'RUNEUSDT',\n",
    "'FTMUSDT',\n",
    "'IMXUSDT',\n",
    "'STGUSDT',\n",
    "'MINAUSDT',\n",
    "'PERPUSDT',\n",
    "'IDUSDT',\n",
    "'RDNTUSDT',\n",
    "'HFTUSDT',\n",
    "'EDUUSDT',\n",
    "'COMBOUSDT'\n",
    "]\n",
    "\n",
    "#lista=md.lista_de_monedas ()\n",
    "\n",
    "for symbol in lista:\n",
    "    try:\n",
    "        data = md.sigo_variacion_bitcoin(symbol)\n",
    "        #data = md.estrategia_bb(symbol,tp_flag=True)\n",
    "        resultado = md.backtesting(data, plot_flag = False)\n",
    "        if (resultado['Profit Factor'] > 1 \n",
    "            and resultado['Return [%]']/resultado['# Trades'] >=0.3 \n",
    "            and resultado['Win Rate [%]']>50):\n",
    "            print(f\"{symbol} - Return [%]: {md.truncate(resultado['Return [%]'],2)}% - # Trades: {resultado['# Trades']} - Profit Factor: {md.truncate(resultado['Profit Factor'],2)}\")\n",
    "    except Exception as falla:\n",
    "        pass"
   ]
  }
 ],
 "metadata": {
  "kernelspec": {
   "display_name": "Python 3 (ipykernel)",
   "language": "python",
   "name": "python3"
  },
  "language_info": {
   "codemirror_mode": {
    "name": "ipython",
    "version": 3
   },
   "file_extension": ".py",
   "mimetype": "text/x-python",
   "name": "python",
   "nbconvert_exporter": "python",
   "pygments_lexer": "ipython3",
   "version": "3.10.11"
  }
 },
 "nbformat": 4,
 "nbformat_minor": 5
}
