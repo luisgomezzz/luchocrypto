{
 "cells": [
  {
   "cell_type": "code",
   "execution_count": 2,
   "id": "b29811c3",
   "metadata": {
    "scrolled": false
   },
   "outputs": [
    {
     "name": "stdout",
     "output_type": "stream",
     "text": [
      "Start                     2023-06-05 00:30:00\n",
      "End                       2023-06-25 20:00:00\n",
      "Duration                     20 days 19:30:00\n",
      "Exposure Time [%]                         3.3\n",
      "Equity Final [$]                   998.624828\n",
      "Equity Peak [$]                   1005.313956\n",
      "Return [%]                          -0.137517\n",
      "Buy & Hold Return [%]               -8.573342\n",
      "Return (Ann.) [%]                   -2.363448\n",
      "Volatility (Ann.) [%]                3.239174\n",
      "Sharpe Ratio                              0.0\n",
      "Sortino Ratio                             0.0\n",
      "Calmar Ratio                              0.0\n",
      "Max. Drawdown [%]                   -0.665377\n",
      "Avg. Drawdown [%]                   -0.260633\n",
      "Max. Drawdown Duration        3 days 15:30:00\n",
      "Avg. Drawdown Duration        1 days 00:23:00\n",
      "# Trades                                    8\n",
      "Win Rate [%]                             62.5\n",
      "Best Trade [%]                       0.901826\n",
      "Worst Trade [%]                     -1.233314\n",
      "Avg. Trade [%]                      -0.033417\n",
      "Max. Trade Duration           0 days 04:00:00\n",
      "Avg. Trade Duration           0 days 01:34:00\n",
      "Profit Factor                        0.927553\n",
      "Expectancy [%]                      -0.029762\n",
      "SQN                                 -0.207635\n",
      "_strategy                               Fenix\n",
      "_equity_curve                             ...\n",
      "_trades                      Size  EntryBa...\n",
      "dtype: object\n"
     ]
    }
   ],
   "source": [
    "import modulos as md\n",
    "\n",
    "#lista=md.lista_de_monedas ()\n",
    "\n",
    "symbol='STORJUSDT'\n",
    "data = md.obtiene_historial(symbol)\n",
    "data = md.estrategia(data)\n",
    "print(md.backtesting(data))\n",
    "\n",
    "\n"
   ]
  },
  {
   "cell_type": "code",
   "execution_count": null,
   "id": "40e64dd7",
   "metadata": {},
   "outputs": [],
   "source": []
  }
 ],
 "metadata": {
  "kernelspec": {
   "display_name": "Python 3 (ipykernel)",
   "language": "python",
   "name": "python3"
  },
  "language_info": {
   "codemirror_mode": {
    "name": "ipython",
    "version": 3
   },
   "file_extension": ".py",
   "mimetype": "text/x-python",
   "name": "python",
   "nbconvert_exporter": "python",
   "pygments_lexer": "ipython3",
   "version": "3.10.11"
  }
 },
 "nbformat": 4,
 "nbformat_minor": 5
}
