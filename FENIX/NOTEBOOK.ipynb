{
 "cells": [
  {
   "cell_type": "code",
   "execution_count": 8,
   "id": "2d7ba37d",
   "metadata": {},
   "outputs": [
    {
     "name": "stderr",
     "output_type": "stream",
     "text": [
      "BokehDeprecationWarning: Passing lists of formats for DatetimeTickFormatter scales was deprecated in Bokeh 3.0. Configure a single string format for each scale\n",
      "C:\\Users\\Luis Gomez Freites\\AppData\\Local\\Packages\\PythonSoftwareFoundation.Python.3.10_qbz5n2kfra8p0\\LocalCache\\local-packages\\Python310\\site-packages\\backtesting\\_plotting.py:250: UserWarning: DatetimeFormatter scales now only accept a single format. Using the first provided: '%d %b'\n",
      "  formatter=DatetimeTickFormatter(days=['%d %b', '%a %d'],\n",
      "BokehDeprecationWarning: Passing lists of formats for DatetimeTickFormatter scales was deprecated in Bokeh 3.0. Configure a single string format for each scale\n",
      "C:\\Users\\Luis Gomez Freites\\AppData\\Local\\Packages\\PythonSoftwareFoundation.Python.3.10_qbz5n2kfra8p0\\LocalCache\\local-packages\\Python310\\site-packages\\backtesting\\_plotting.py:250: UserWarning: DatetimeFormatter scales now only accept a single format. Using the first provided: '%m/%Y'\n",
      "  formatter=DatetimeTickFormatter(days=['%d %b', '%a %d'],\n"
     ]
    },
    {
     "name": "stdout",
     "output_type": "stream",
     "text": [
      "1INCHUSDT - Return [%]: -0.75% - # Trades: 6 - Profit Factor: 0.69 - Win Rate [%]: 16.666666666666664\n"
     ]
    }
   ],
   "source": [
    "###################################### ESTRATEGIA BB\n",
    "###################################################################################################################\n",
    "import modulos as md\n",
    "import numpy as np\n",
    "lista=['XRPUSDT',\t\n",
    "'XTZUSDT',\t\n",
    "'OMGUSDT',\t\n",
    "'CRVUSDT',\t\n",
    "'1INCHUSDT',\n",
    "'MANAUSDT',\n",
    "'FLOWUSDT',\n",
    "'MAGICUSDT',\n",
    "'MINAUSDT',\n",
    "'PHBUSDT',\t\n",
    "'PERPUSDT',\n",
    "'IDUSDT',\t\n",
    "'JOEUSDT',\t\n",
    "'HFTUSDT',\t\n",
    "'EDUUSDT',\t\n",
    "'SUIUSDT',\t\n",
    "'COMBOUSDT',\n",
    "'MAVUSDT'\t]\n",
    "\n",
    "#lista=md.lista_de_monedas ()\n",
    "#lista=['1INCHUSDT']\n",
    "\n",
    "for symbol in lista:    \n",
    "    try:\n",
    "        #data = md.sigo_variacion_bitcoin(symbol)\n",
    "        #data = md.estrategia_bb(symbol)\n",
    "        data = md.estrategia_santa(symbol,tp_flag=True)\n",
    "        resultado = md.backtesting(data, plot_flag = True)\n",
    "        #if (\n",
    "        #    (resultado['Profit Factor'] > 2 or np.isnan(resultado['Profit Factor']))\n",
    "        #    and (resultado['Return [%]']/resultado['# Trades']) >=0.33 \n",
    "        #    ):\n",
    "        print(f\"{symbol} - Return [%]: {md.truncate(resultado['Return [%]'],2)}% - # Trades: {resultado['# Trades']} - Profit Factor: {md.truncate(resultado['Profit Factor'],2)} - Win Rate [%]: {resultado['Win Rate [%]']}\")\n",
    "    except Exception as falla:\n",
    "        pass"
   ]
  },
  {
   "cell_type": "code",
   "execution_count": 5,
   "id": "57ddbf10",
   "metadata": {},
   "outputs": [
    {
     "data": {
      "text/plain": [
       "Start                     2023-07-10 14:30:00\n",
       "End                       2023-07-21 00:15:00\n",
       "Duration                     10 days 09:45:00\n",
       "Exposure Time [%]                         0.0\n",
       "Equity Final [$]                       1000.0\n",
       "Equity Peak [$]                        1000.0\n",
       "Return [%]                                0.0\n",
       "Buy & Hold Return [%]                6.136762\n",
       "Return (Ann.) [%]                         0.0\n",
       "Volatility (Ann.) [%]                     0.0\n",
       "Sharpe Ratio                              NaN\n",
       "Sortino Ratio                             NaN\n",
       "Calmar Ratio                              NaN\n",
       "Max. Drawdown [%]                        -0.0\n",
       "Avg. Drawdown [%]                         NaN\n",
       "Max. Drawdown Duration                    NaN\n",
       "Avg. Drawdown Duration                    NaN\n",
       "# Trades                                    0\n",
       "Win Rate [%]                              NaN\n",
       "Best Trade [%]                            NaN\n",
       "Worst Trade [%]                           NaN\n",
       "Avg. Trade [%]                            NaN\n",
       "Max. Trade Duration                       NaN\n",
       "Avg. Trade Duration                       NaN\n",
       "Profit Factor                             NaN\n",
       "Expectancy [%]                            NaN\n",
       "SQN                                       NaN\n",
       "_strategy                               Fenix\n",
       "_equity_curve                             ...\n",
       "_trades                   Empty DataFrame\n",
       "...\n",
       "dtype: object"
      ]
     },
     "execution_count": 5,
     "metadata": {},
     "output_type": "execute_result"
    }
   ],
   "source": [
    "data = md.estrategia_santa('HFTUSDT',tp_flag=True)\n",
    "resultado = md.backtesting(data, plot_flag = False)\n",
    "resultado"
   ]
  }
 ],
 "metadata": {
  "kernelspec": {
   "display_name": "Python 3 (ipykernel)",
   "language": "python",
   "name": "python3"
  },
  "language_info": {
   "codemirror_mode": {
    "name": "ipython",
    "version": 3
   },
   "file_extension": ".py",
   "mimetype": "text/x-python",
   "name": "python",
   "nbconvert_exporter": "python",
   "pygments_lexer": "ipython3",
   "version": "3.10.11"
  }
 },
 "nbformat": 4,
 "nbformat_minor": 5
}
