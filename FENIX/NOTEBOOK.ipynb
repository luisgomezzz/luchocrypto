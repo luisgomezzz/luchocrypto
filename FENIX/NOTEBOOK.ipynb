{
 "cells": [
  {
   "cell_type": "code",
   "execution_count": 1,
   "id": "b29811c3",
   "metadata": {
    "scrolled": false
   },
   "outputs": [
    {
     "name": "stderr",
     "output_type": "stream",
     "text": [
      "C:\\Users\\Luis Gomez Freites\\AppData\\Local\\Packages\\PythonSoftwareFoundation.Python.3.10_qbz5n2kfra8p0\\LocalCache\\local-packages\\Python310\\site-packages\\tqdm\\auto.py:22: TqdmWarning: IProgress not found. Please update jupyter and ipywidgets. See https://ipywidgets.readthedocs.io/en/stable/user_install.html\n",
      "  from .autonotebook import tqdm as notebook_tqdm\n"
     ]
    },
    {
     "name": "stdout",
     "output_type": "stream",
     "text": [
      "Falla leyendo...\n"
     ]
    },
    {
     "name": "stderr",
     "output_type": "stream",
     "text": [
      "c:\\LUCHO\\personal\\repopersonal\\luchocrypto\\FENIX\\modulos.py:273: UserWarning: Some prices are larger than initial cash value. Note that fractional trading is not supported. If you want to trade Bitcoin, increase initial cash, or trade μBTC or satoshis instead (GH-134).\n",
      "  bt = Backtest(data, Fenix, cash=balance, commission=.002, exclusive_orders=True)\n"
     ]
    },
    {
     "name": "stdout",
     "output_type": "stream",
     "text": [
      "MANAUSDT - 16.12380642135247\n",
      "Falla leyendo...\n",
      "Falla leyendo...\n",
      "Falla leyendo...\n",
      "Falla leyendo...\n",
      "Falla leyendo...\n",
      "Falla leyendo...\n",
      "Falla leyendo...\n",
      "MAGICUSDT - 18.510655204441036\n",
      "STXUSDT - 34.84600199364013\n",
      "LQTYUSDT - 64.2593370660395\n",
      "JOEUSDT - 28.1417007134487\n",
      "Falla leyendo...\n",
      "SUIUSDT - 39.510001317208435\n",
      "Falla leyendo...\n",
      "Falla leyendo...\n"
     ]
    }
   ],
   "source": [
    "import modulos as md\n",
    "\n",
    "lista=md.lista_de_monedas ()\n",
    "\n",
    "for symbol in lista:\n",
    "    try:\n",
    "        data = md.obtiene_historial(symbol)\n",
    "        data = md.estrategia(data)\n",
    "        md.backtesting(data,symbol)\n",
    "    except:\n",
    "        pass\n"
   ]
  },
  {
   "cell_type": "code",
   "execution_count": null,
   "id": "276c2a18",
   "metadata": {},
   "outputs": [],
   "source": []
  }
 ],
 "metadata": {
  "kernelspec": {
   "display_name": "Python 3 (ipykernel)",
   "language": "python",
   "name": "python3"
  },
  "language_info": {
   "codemirror_mode": {
    "name": "ipython",
    "version": 3
   },
   "file_extension": ".py",
   "mimetype": "text/x-python",
   "name": "python",
   "nbconvert_exporter": "python",
   "pygments_lexer": "ipython3",
   "version": "3.10.11"
  }
 },
 "nbformat": 4,
 "nbformat_minor": 5
}
