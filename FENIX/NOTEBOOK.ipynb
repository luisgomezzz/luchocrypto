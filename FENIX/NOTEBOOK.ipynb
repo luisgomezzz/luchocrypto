{
 "cells": [
  {
   "cell_type": "code",
   "execution_count": 4,
   "id": "2d7ba37d",
   "metadata": {},
   "outputs": [
    {
     "name": "stderr",
     "output_type": "stream",
     "text": [
      "c:\\LUCHO\\personal\\repopersonal\\luchocrypto\\FENIX\\modulos.py:856: UserWarning: Some prices are larger than initial cash value. Note that fractional trading is not supported. If you want to trade Bitcoin, increase initial cash, or trade μBTC or satoshis instead (GH-134).\n",
      "  bt = Backtest(data, Fenix, cash=balance)\n",
      "BokehDeprecationWarning: Passing lists of formats for DatetimeTickFormatter scales was deprecated in Bokeh 3.0. Configure a single string format for each scale\n",
      "C:\\Users\\Luis Gomez Freites\\AppData\\Local\\Packages\\PythonSoftwareFoundation.Python.3.10_qbz5n2kfra8p0\\LocalCache\\local-packages\\Python310\\site-packages\\backtesting\\_plotting.py:250: UserWarning: DatetimeFormatter scales now only accept a single format. Using the first provided: '%d %b'\n",
      "  formatter=DatetimeTickFormatter(days=['%d %b', '%a %d'],\n",
      "BokehDeprecationWarning: Passing lists of formats for DatetimeTickFormatter scales was deprecated in Bokeh 3.0. Configure a single string format for each scale\n",
      "C:\\Users\\Luis Gomez Freites\\AppData\\Local\\Packages\\PythonSoftwareFoundation.Python.3.10_qbz5n2kfra8p0\\LocalCache\\local-packages\\Python310\\site-packages\\backtesting\\_plotting.py:250: UserWarning: DatetimeFormatter scales now only accept a single format. Using the first provided: '%m/%Y'\n",
      "  formatter=DatetimeTickFormatter(days=['%d %b', '%a %d'],\n"
     ]
    },
    {
     "name": "stdout",
     "output_type": "stream",
     "text": [
      "BTCUSDT - Return [%]: 0.0% - # Trades: 0 - Profit Factor: nan - Win Rate [%]: nan\n"
     ]
    }
   ],
   "source": [
    "import modulos as md\n",
    "import numpy as np\n",
    "import constantes as cons\n",
    "import os\n",
    "import sys\n",
    "lista_filtrada = []\n",
    "\n",
    "#lista=md.lista_de_monedas()\n",
    "lista=md.filtradodemonedas ()\n",
    "#lista=['LINKUSDT', 'LTCUSDT', 'BCHUSDT', 'WLDUSDT', 'IDUSDT', 'HBARUSDT', 'API3USDT', 'BNBUSDT', 'C98USDT', '1000SHIBUSDT', 'STXUSDT', 'LPTUSDT', 'XLMUSDT', 'CRVUSDT', 'MKRUSDT', 'ALGOUSDT', 'HIGHUSDT', 'COMPUSDT', 'DOGEUSDT', 'XRPUSDT', 'OPUSDT', 'ARBUSDT', 'AUDIOUSDT', '1000PEPEUSDT', 'MATICUSDT', 'APEUSDT', 'SOLUSDT', 'TOMOUSDT', 'EOSUSDT', 'ADAUSDT', 'SUIUSDT', 'YGGUSDT', 'DODOXUSDT']\n",
    "lista=['BTCUSDT']\n",
    "\n",
    "if len(lista)>1:\n",
    "    imprimo=False\n",
    "else:\n",
    "    imprimo= True\n",
    "for symbol in lista:    \n",
    "    try:\n",
    "        data,porcentajeentrada = md.estrategia_santa(symbol,tp_flag = True)\n",
    "        #data = md.estrategia_triangulos(symbol, tp_flag = False, print_lines_flag = imprimo)\n",
    "        #data,porcentajeentrada = md.estrategia_adrian(symbol,tp_flag = False)\n",
    "        #######################################################################\n",
    "        #resultado = md.backtesting(data, plot_flag = imprimo)\n",
    "        resultado = md.backtestingsanta(data, plot_flag = imprimo, debug = True)\n",
    "        if resultado['Return [%]'] < 0: # para santa3 mazmorra\n",
    "        #if resultado['Return [%]'] > 0:\n",
    "            #if ((resultado['Profit Factor'] > 2 or np.isnan(resultado['Profit Factor'])) and (resultado['Return [%]']/resultado['# Trades']) >=0.33):            \n",
    "                lista_filtrada.append(symbol)\n",
    "        print(f\"{symbol} - Return [%]: {md.truncate(resultado['Return [%]'],2)}% - # Trades: {resultado['# Trades']} - Profit Factor: {resultado['Profit Factor']} - Win Rate [%]: {resultado['Win Rate [%]']}\")\n",
    "    except Exception as falla:\n",
    "        _, _, exc_tb = sys.exc_info()\n",
    "        fname = os.path.split(exc_tb.tb_frame.f_code.co_filename)[1]\n",
    "        print(\"\\nError: \"+str(falla)+\" - line: \"+str(exc_tb.tb_lineno)+\" - file: \"+str(fname)+\"\\n\")\n",
    "for symbol in lista_filtrada:\n",
    "    md.printandlog(cons.nombrelog,symbol,pal=1)\n",
    "#md.dibuja_patrones_triangulos (data,998)    \n"
   ]
  },
  {
   "cell_type": "code",
   "execution_count": 1,
   "id": "d5c53298",
   "metadata": {},
   "outputs": [
    {
     "name": "stderr",
     "output_type": "stream",
     "text": [
      "C:\\Users\\Luis Gomez Freites\\AppData\\Local\\Packages\\PythonSoftwareFoundation.Python.3.10_qbz5n2kfra8p0\\LocalCache\\local-packages\\Python310\\site-packages\\tqdm\\auto.py:22: TqdmWarning: IProgress not found. Please update jupyter and ipywidgets. See https://ipywidgets.readthedocs.io/en/stable/user_install.html\n",
      "  from .autonotebook import tqdm as notebook_tqdm\n"
     ]
    }
   ],
   "source": [
    "import modulos as md\n",
    "lista=md.lista_de_monedas()"
   ]
  },
  {
   "cell_type": "code",
   "execution_count": 3,
   "id": "cbe85104",
   "metadata": {},
   "outputs": [
    {
     "name": "stdout",
     "output_type": "stream",
     "text": [
      "['XEMUSDT', 'LTCUSDT', 'SUIUSDT', 'DODOXUSDT', 'MKRUSDT', 'QNTUSDT', 'BANDUSDT', 'TOMOUSDT', 'ARBUSDT', 'XLMUSDT', 'BLZUSDT', 'CRVUSDT', 'AUDIOUSDT', 'STMXUSDT', 'PENDLEUSDT', 'FXSUSDT', 'ANTUSDT', 'MTLUSDT', 'HOTUSDT', 'CVXUSDT', 'MAVUSDT', 'MAGICUSDT', 'GRTUSDT', 'NEARUSDT', 'RADUSDT', 'ARKMUSDT', 'AGLDUSDT', 'ONEUSDT', 'THETAUSDT', 'DENTUSDT', 'XTZUSDT', 'STORJUSDT', 'OGNUSDT', 'QTUMUSDT', 'OCEANUSDT', 'DOTUSDT', 'LPTUSDT', 'ROSEUSDT', 'WOOUSDT', 'SKLUSDT', 'DYDXUSDT', 'IDEXUSDT', 'SXPUSDT', 'JASMYUSDT', 'RDNTUSDT', 'FTTUSDT', 'MATICUSDT', 'KEYUSDT', 'ETCUSDT', 'LUNA2USDT', 'BATUSDT', 'HNTUSDT', 'RUNEUSDT', 'OMGUSDT', 'EGLDUSDT', 'NMRUSDT', 'RVNUSDT', '1000PEPEUSDT', 'TRBUSDT', 'UNFIUSDT', 'DARUSDT', 'XVSUSDT', 'CTKUSDT', 'BNBUSDT', 'MANAUSDT', 'DEFIUSDT', 'ENJUSDT', 'FLMUSDT', 'DGBUSDT', 'ZENUSDT', 'ICXUSDT', 'SUSHIUSDT', 'IMXUSDT', 'CFXUSDT', 'VETUSDT', '1000SHIBUSDT', 'HOOKUSDT', 'CHZUSDT', 'REEFUSDT', 'KNCUSDT', 'GMTUSDT', '1000FLOKIUSDT', 'RSRUSDT', 'BTSUSDT', 'BNTUSDT', 'IOSTUSDT', 'APEUSDT', 'DOGEUSDT', 'ENSUSDT', 'CTSIUSDT', 'TRXUSDT', 'USDCUSDT', 'DASHUSDT', 'STXUSDT', 'DUSKUSDT', '1INCHUSDT', 'PEOPLEUSDT', 'HBARUSDT', 'UMAUSDT', 'JOEUSDT', 'BLURUSDT', 'AVAXUSDT', 'SRMUSDT', 'IOTXUSDT', 'ADAUSDT', 'RENUSDT', 'BNXUSDT', 'YFIUSDT', 'ANKRUSDT', 'ARUSDT', 'HIGHUSDT', 'RNDRUSDT', 'PERPUSDT', 'SNXUSDT', 'LEVERUSDT', 'GTCUSDT', 'AGIXUSDT', 'FTMUSDT', 'GALUSDT', 'GALAUSDT', 'API3USDT', 'COCOSUSDT', 'BTCSTUSDT', 'ALICEUSDT', 'CELOUSDT', 'ATAUSDT', 'CKBUSDT', 'XVGUSDT', 'KSMUSDT', 'STGUSDT', 'COMPUSDT', 'ALGOUSDT', 'ICPUSDT', 'BCHUSDT', 'GMXUSDT', 'LINAUSDT', 'YGGUSDT', 'EDUUSDT', 'AXSUSDT', 'UNIUSDT', 'MASKUSDT', 'BTCDOMUSDT', 'C98USDT', 'FOOTBALLUSDT', 'CVCUSDT', 'OXTUSDT', 'OPUSDT', 'BLUEBIRDUSDT', 'COTIUSDT', 'SFPUSDT', 'SCUSDT', 'TRUUSDT', 'TLMUSDT', 'SOLUSDT', 'FILUSDT', 'MINAUSDT', 'EOSUSDT', 'LDOUSDT', 'XMRUSDT', 'LQTYUSDT', 'ATOMUSDT', 'ONTUSDT', 'XRPUSDT', 'BALUSDT', 'AMBUSDT', 'WAVESUSDT', 'SSVUSDT', 'MDTUSDT', 'BELUSDT', 'ZRXUSDT', 'COMBOUSDT', 'TUSDT', 'KAVAUSDT', 'HFTUSDT', 'CHRUSDT', 'CELRUSDT', 'SPELLUSDT', 'FETUSDT', 'IOTAUSDT', 'RAYUSDT', 'LITUSDT', 'NEOUSDT', 'PHBUSDT', 'WLDUSDT', 'ZECUSDT', 'LINKUSDT', 'NKNUSDT', 'INJUSDT', 'KLAYUSDT', 'AAVEUSDT', '1000XECUSDT', 'ARPAUSDT', 'BAKEUSDT', 'ZILUSDT', 'ALPHAUSDT', 'SANDUSDT', 'APTUSDT', '1000LUNCUSDT', 'RLCUSDT', 'LRCUSDT', 'IDUSDT', 'ACHUSDT', 'FLOWUSDT', 'ASTRUSDT']\n"
     ]
    }
   ],
   "source": [
    "print(lista)"
   ]
  }
 ],
 "metadata": {
  "kernelspec": {
   "display_name": "Python 3 (ipykernel)",
   "language": "python",
   "name": "python3"
  },
  "language_info": {
   "codemirror_mode": {
    "name": "ipython",
    "version": 3
   },
   "file_extension": ".py",
   "mimetype": "text/x-python",
   "name": "python",
   "nbconvert_exporter": "python",
   "pygments_lexer": "ipython3",
   "version": "3.10.11"
  }
 },
 "nbformat": 4,
 "nbformat_minor": 5
}
