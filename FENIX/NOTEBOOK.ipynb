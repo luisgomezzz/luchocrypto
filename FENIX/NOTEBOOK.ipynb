{
 "cells": [
  {
   "cell_type": "code",
   "execution_count": 4,
   "id": "2d7ba37d",
   "metadata": {},
   "outputs": [
    {
     "name": "stdout",
     "output_type": "stream",
     "text": [
      "GRTUSDT - Return [%]: 0.12% - # Trades: 2 - Profit Factor: 1.8400714285714403 - Win Rate [%]: 50.0\n",
      "CKBUSDT - Return [%]: -0.01% - # Trades: 5 - Profit Factor: 0.42449967104064656 - Win Rate [%]: 20.0\n",
      "SKLUSDT - Return [%]: -0.12% - # Trades: 3 - Profit Factor: 0.0 - Win Rate [%]: 0.0\n",
      "\n",
      "ICXUSDT - CHG 24h: 2.96% ↓ - lineas: 0.1666 y 0.1634 - martillo: 1\n",
      "ICXUSDT - Return [%]: -0.34% - # Trades: 2 - Profit Factor: 0.0 - Win Rate [%]: 0.0\n",
      "EOSUSDT - Return [%]: 0.0% - # Trades: 0 - Profit Factor: nan - Win Rate [%]: nan\n",
      "IOTXUSDT - Return [%]: 0.15% - # Trades: 10 - Profit Factor: 2.089809611237776 - Win Rate [%]: 70.0\n",
      "KSMUSDT - Return [%]: 0.0% - # Trades: 0 - Profit Factor: nan - Win Rate [%]: nan\n",
      "BANDUSDT - Return [%]: 0.0% - # Trades: 0 - Profit Factor: nan - Win Rate [%]: nan\n",
      "MDTUSDT - Return [%]: 0.4% - # Trades: 5 - Profit Factor: 3.5139538037575746 - Win Rate [%]: 80.0\n",
      "API3USDT - Return [%]: 0.0% - # Trades: 0 - Profit Factor: nan - Win Rate [%]: nan\n",
      "ZILUSDT - Return [%]: 0.04% - # Trades: 1 - Profit Factor: nan - Win Rate [%]: 100.0\n",
      "STXUSDT - Return [%]: 0.0% - # Trades: 0 - Profit Factor: nan - Win Rate [%]: nan\n",
      "CHZUSDT - Return [%]: -0.04% - # Trades: 1 - Profit Factor: 0.0 - Win Rate [%]: 0.0\n",
      "APEUSDT - Return [%]: 0.0% - # Trades: 0 - Profit Factor: nan - Win Rate [%]: nan\n",
      "ANTUSDT - Return [%]: 0.0% - # Trades: 0 - Profit Factor: nan - Win Rate [%]: nan\n",
      "AVAXUSDT - Return [%]: 0.0% - # Trades: 0 - Profit Factor: nan - Win Rate [%]: nan\n",
      "XEMUSDT - Return [%]: 0.02% - # Trades: 2 - Profit Factor: 1.4880000000000027 - Win Rate [%]: 50.0\n",
      "ARBUSDT - Return [%]: 0.0% - # Trades: 0 - Profit Factor: nan - Win Rate [%]: nan\n",
      "LEVERUSDT - Return [%]: 0.0% - # Trades: 7 - Profit Factor: 0.5978106924086533 - Win Rate [%]: 42.857142857142854\n",
      "OPUSDT - Return [%]: 0.0% - # Trades: 0 - Profit Factor: nan - Win Rate [%]: nan\n",
      "LRCUSDT - Return [%]: 0.06% - # Trades: 2 - Profit Factor: 1.1276484139641914 - Win Rate [%]: 50.0\n",
      "THETAUSDT - Return [%]: 0.0% - # Trades: 0 - Profit Factor: nan - Win Rate [%]: nan\n",
      "ENSUSDT - Return [%]: 0.0% - # Trades: 0 - Profit Factor: nan - Win Rate [%]: nan\n",
      "FLMUSDT - Return [%]: -0.61% - # Trades: 4 - Profit Factor: 0.4760767583575995 - Win Rate [%]: 50.0\n",
      "ALGOUSDT - Return [%]: -0.29% - # Trades: 4 - Profit Factor: 0.0 - Win Rate [%]: 0.0\n",
      "RLCUSDT - Return [%]: 0.0% - # Trades: 0 - Profit Factor: nan - Win Rate [%]: nan\n",
      "OCEANUSDT - Return [%]: 0.0% - # Trades: 0 - Profit Factor: nan - Win Rate [%]: nan\n",
      "KEYUSDT - Return [%]: 0.0% - # Trades: 2 - Profit Factor: 1.0443056478404968 - Win Rate [%]: 50.0\n",
      "STGUSDT - Return [%]: 0.0% - # Trades: 0 - Profit Factor: nan - Win Rate [%]: nan\n",
      "BNTUSDT - Return [%]: 0.0% - # Trades: 0 - Profit Factor: nan - Win Rate [%]: nan\n",
      "IDUSDT - Return [%]: 0.0% - # Trades: 0 - Profit Factor: nan - Win Rate [%]: nan\n",
      "SUSHIUSDT - Return [%]: 0.0% - # Trades: 0 - Profit Factor: nan - Win Rate [%]: nan\n",
      "BALUSDT - Return [%]: 0.0% - # Trades: 0 - Profit Factor: nan - Win Rate [%]: nan\n",
      "MANAUSDT - Return [%]: 0.0% - # Trades: 0 - Profit Factor: nan - Win Rate [%]: nan\n",
      "REEFUSDT - Return [%]: 0.0% - # Trades: 9 - Profit Factor: 1.514452311963528 - Win Rate [%]: 55.55555555555556\n",
      "TRXUSDT - Return [%]: -0.09% - # Trades: 1 - Profit Factor: 0.0 - Win Rate [%]: 0.0\n",
      "ARKMUSDT - Return [%]: 0.0% - # Trades: 0 - Profit Factor: nan - Win Rate [%]: nan\n",
      "RVNUSDT - Return [%]: 0.05% - # Trades: 1 - Profit Factor: nan - Win Rate [%]: 100.0\n",
      "STMXUSDT - Return [%]: 0.0% - # Trades: 3 - Profit Factor: 0.6371329157967894 - Win Rate [%]: 33.33333333333333\n",
      "JOEUSDT - Return [%]: 0.0% - # Trades: 0 - Profit Factor: nan - Win Rate [%]: nan\n",
      "XVSUSDT - Return [%]: 0.0% - # Trades: 0 - Profit Factor: nan - Win Rate [%]: nan\n",
      "FETUSDT - Return [%]: 0.0% - # Trades: 0 - Profit Factor: nan - Win Rate [%]: nan\n",
      "ADAUSDT - Return [%]: 0.0% - # Trades: 0 - Profit Factor: nan - Win Rate [%]: nan\n",
      "OGNUSDT - Return [%]: -0.83% - # Trades: 6 - Profit Factor: 0.35359320044122733 - Win Rate [%]: 33.33333333333333\n",
      "\n",
      "NKNUSDT - CHG 24h: 10.83% ↑ - lineas: 0.09558 y 0.0933 - martillo: 1\n",
      "NKNUSDT - Return [%]: 0.2% - # Trades: 4 - Profit Factor: 1.561740529831111 - Win Rate [%]: 50.0\n",
      "JASMYUSDT - Return [%]: 0.02% - # Trades: 6 - Profit Factor: 2.0768537589730274 - Win Rate [%]: 66.66666666666666\n",
      "PHBUSDT - Return [%]: 0.0% - # Trades: 0 - Profit Factor: nan - Win Rate [%]: nan\n",
      "\n",
      "YFIUSDT - CHG 24h: 3.18% ↓ - lineas: 5417.0 y 5327.0 - martillo: 1\n"
     ]
    },
    {
     "name": "stderr",
     "output_type": "stream",
     "text": [
      "c:\\LUCHO\\personal\\repopersonal\\luchocrypto\\FENIX\\modulos.py:474: UserWarning: Some prices are larger than initial cash value. Note that fractional trading is not supported. If you want to trade Bitcoin, increase initial cash, or trade μBTC or satoshis instead (GH-134).\n",
      "  bt = Backtest(data, Fenix, cash=balance)\n"
     ]
    },
    {
     "name": "stdout",
     "output_type": "stream",
     "text": [
      "YFIUSDT - Return [%]: 0.0% - # Trades: 0 - Profit Factor: nan - Win Rate [%]: nan\n"
     ]
    },
    {
     "name": "stderr",
     "output_type": "stream",
     "text": [
      "c:\\LUCHO\\personal\\repopersonal\\luchocrypto\\FENIX\\modulos.py:474: UserWarning: Some prices are larger than initial cash value. Note that fractional trading is not supported. If you want to trade Bitcoin, increase initial cash, or trade μBTC or satoshis instead (GH-134).\n",
      "  bt = Backtest(data, Fenix, cash=balance)\n"
     ]
    },
    {
     "name": "stdout",
     "output_type": "stream",
     "text": [
      "MKRUSDT - Return [%]: 0.0% - # Trades: 0 - Profit Factor: nan - Win Rate [%]: nan\n",
      "DODOXUSDT - Return [%]: 0.49% - # Trades: 6 - Profit Factor: 1.7172476597661726 - Win Rate [%]: 66.66666666666666\n",
      "GMXUSDT - Return [%]: 0.0% - # Trades: 0 - Profit Factor: nan - Win Rate [%]: nan\n",
      "CELRUSDT - Return [%]: 0.01% - # Trades: 2 - Profit Factor: 2.023323036187101 - Win Rate [%]: 50.0\n",
      "GALAUSDT - Return [%]: -0.08% - # Trades: 4 - Profit Factor: 0.3410434686863352 - Win Rate [%]: 25.0\n",
      "FLOWUSDT - Return [%]: 0.0% - # Trades: 0 - Profit Factor: nan - Win Rate [%]: nan\n",
      "\n",
      "MINAUSDT - CHG 24h: 4.36% ↓ - lineas: 0.3789 y 0.3705 - martillo: 0\n",
      "\n",
      "CRUZANDO!!! MINAUSDT - CHG 24h: 4.36% ↓ - lineas: 0.3789 y 0.3705 - martillo: 0\n",
      "MINAUSDT - Return [%]: 0.0% - # Trades: 0 - Profit Factor: nan - Win Rate [%]: nan\n",
      "SPELLUSDT - Return [%]: 0.0% - # Trades: 5 - Profit Factor: 0.3138747265313158 - Win Rate [%]: 20.0\n",
      "COMBOUSDT - Return [%]: 0.0% - # Trades: 0 - Profit Factor: nan - Win Rate [%]: nan\n",
      "XTZUSDT - Return [%]: 0.0% - # Trades: 0 - Profit Factor: nan - Win Rate [%]: nan\n",
      "HIGHUSDT - Return [%]: 0.0% - # Trades: 0 - Profit Factor: nan - Win Rate [%]: nan\n",
      "XRPUSDT - Return [%]: 0.0% - # Trades: 0 - Profit Factor: nan - Win Rate [%]: nan\n",
      "KAVAUSDT - Return [%]: 0.0% - # Trades: 0 - Profit Factor: nan - Win Rate [%]: nan\n",
      "\n",
      "RDNTUSDT - CHG 24h: 4.9% ↓ - lineas: 0.2259 y 0.2192 - martillo: 1\n",
      "RDNTUSDT - Return [%]: 0.0% - # Trades: 0 - Profit Factor: nan - Win Rate [%]: nan\n",
      "MATICUSDT - Return [%]: 0.0% - # Trades: 0 - Profit Factor: nan - Win Rate [%]: nan\n",
      "RENUSDT - Return [%]: -0.24% - # Trades: 5 - Profit Factor: 0.358291174673487 - Win Rate [%]: 20.0\n",
      "EDUUSDT - Return [%]: 0.0% - # Trades: 0 - Profit Factor: nan - Win Rate [%]: nan\n",
      "BLUEBIRDUSDT - Return [%]: 0.0% - # Trades: 0 - Profit Factor: nan - Win Rate [%]: nan\n",
      "SUIUSDT - Return [%]: 0.0% - # Trades: 0 - Profit Factor: nan - Win Rate [%]: nan\n",
      "BELUSDT - Return [%]: 0.0% - # Trades: 0 - Profit Factor: nan - Win Rate [%]: nan\n",
      "GALUSDT - Return [%]: 0.0% - # Trades: 0 - Profit Factor: nan - Win Rate [%]: nan\n",
      "\n",
      "TRBUSDT - CHG 24h: 43.66% ↑ - lineas: 20.93 y 21.799 - martillo: -1\n",
      "TRBUSDT - Return [%]: 0.0% - # Trades: 0 - Profit Factor: nan - Win Rate [%]: nan\n",
      "ALPHAUSDT - Return [%]: -0.24% - # Trades: 2 - Profit Factor: 0.0 - Win Rate [%]: 0.0\n",
      "PEOPLEUSDT - Return [%]: -0.02% - # Trades: 3 - Profit Factor: 0.575977499999999 - Win Rate [%]: 33.33333333333333\n",
      "USDCUSDT - Return [%]: 0.0% - # Trades: 0 - Profit Factor: nan - Win Rate [%]: nan\n",
      "OXTUSDT - Return [%]: 0.18% - # Trades: 1 - Profit Factor: nan - Win Rate [%]: 100.0\n",
      "MAGICUSDT - Return [%]: 0.0% - # Trades: 0 - Profit Factor: nan - Win Rate [%]: nan\n",
      "SXPUSDT - Return [%]: 0.0% - # Trades: 0 - Profit Factor: nan - Win Rate [%]: nan\n",
      "UMAUSDT - Return [%]: 0.0% - # Trades: 0 - Profit Factor: nan - Win Rate [%]: nan\n",
      "IDEXUSDT - Return [%]: 0.0% - # Trades: 9 - Profit Factor: 0.9737278432923232 - Win Rate [%]: 44.44444444444444\n",
      "KNCUSDT - Return [%]: 0.0% - # Trades: 0 - Profit Factor: nan - Win Rate [%]: nan\n",
      "CRVUSDT - Return [%]: 0.0% - # Trades: 0 - Profit Factor: nan - Win Rate [%]: nan\n"
     ]
    },
    {
     "name": "stderr",
     "output_type": "stream",
     "text": [
      "c:\\LUCHO\\personal\\repopersonal\\luchocrypto\\FENIX\\modulos.py:474: UserWarning: Some prices are larger than initial cash value. Note that fractional trading is not supported. If you want to trade Bitcoin, increase initial cash, or trade μBTC or satoshis instead (GH-134).\n",
      "  bt = Backtest(data, Fenix, cash=balance)\n"
     ]
    },
    {
     "name": "stdout",
     "output_type": "stream",
     "text": [
      "BTCDOMUSDT - Return [%]: 0.0% - # Trades: 0 - Profit Factor: nan - Win Rate [%]: nan\n",
      "TLMUSDT - Return [%]: -0.1% - # Trades: 2 - Profit Factor: 0.0 - Win Rate [%]: 0.0\n",
      "DOTUSDT - Return [%]: 0.0% - # Trades: 0 - Profit Factor: nan - Win Rate [%]: nan\n"
     ]
    },
    {
     "name": "stderr",
     "output_type": "stream",
     "text": [
      "c:\\LUCHO\\personal\\repopersonal\\luchocrypto\\FENIX\\modulos.py:474: UserWarning: Some prices are larger than initial cash value. Note that fractional trading is not supported. If you want to trade Bitcoin, increase initial cash, or trade μBTC or satoshis instead (GH-134).\n",
      "  bt = Backtest(data, Fenix, cash=balance)\n"
     ]
    },
    {
     "name": "stdout",
     "output_type": "stream",
     "text": [
      "ETHUSDT - Return [%]: 0.0% - # Trades: 0 - Profit Factor: nan - Win Rate [%]: nan\n",
      "ATAUSDT - Return [%]: -0.62% - # Trades: 12 - Profit Factor: 0.6229216188509512 - Win Rate [%]: 33.33333333333333\n",
      "ZECUSDT - Return [%]: 0.0% - # Trades: 0 - Profit Factor: nan - Win Rate [%]: nan\n",
      "RNDRUSDT - Return [%]: 0.0% - # Trades: 0 - Profit Factor: nan - Win Rate [%]: nan\n",
      "GTCUSDT - Return [%]: 0.0% - # Trades: 0 - Profit Factor: nan - Win Rate [%]: nan\n",
      "PENDLEUSDT - Return [%]: 0.0% - # Trades: 0 - Profit Factor: nan - Win Rate [%]: nan\n",
      "NMRUSDT - Return [%]: 0.0% - # Trades: 0 - Profit Factor: nan - Win Rate [%]: nan\n",
      "GMTUSDT - Return [%]: 0.02% - # Trades: 3 - Profit Factor: 1.050812204918618 - Win Rate [%]: 33.33333333333333\n",
      "COMPUSDT - Return [%]: 0.0% - # Trades: 0 - Profit Factor: nan - Win Rate [%]: nan\n"
     ]
    },
    {
     "name": "stderr",
     "output_type": "stream",
     "text": [
      "c:\\LUCHO\\personal\\repopersonal\\luchocrypto\\FENIX\\modulos.py:474: UserWarning: Some prices are larger than initial cash value. Note that fractional trading is not supported. If you want to trade Bitcoin, increase initial cash, or trade μBTC or satoshis instead (GH-134).\n",
      "  bt = Backtest(data, Fenix, cash=balance)\n"
     ]
    },
    {
     "name": "stdout",
     "output_type": "stream",
     "text": [
      "BNBUSDT - Return [%]: 0.0% - # Trades: 0 - Profit Factor: nan - Win Rate [%]: nan\n",
      "ARPAUSDT - Return [%]: -0.46% - # Trades: 6 - Profit Factor: 0.2245913746335963 - Win Rate [%]: 16.666666666666664\n",
      "\n",
      "WAVESUSDT - CHG 24h: 3.33% ↓ - lineas: 1.5055 y 1.478 - martillo: 1\n",
      "WAVESUSDT - Return [%]: 0.0% - # Trades: 0 - Profit Factor: nan - Win Rate [%]: nan\n",
      "ARUSDT - Return [%]: 0.0% - # Trades: 0 - Profit Factor: nan - Win Rate [%]: nan\n"
     ]
    },
    {
     "name": "stderr",
     "output_type": "stream",
     "text": [
      "c:\\LUCHO\\personal\\repopersonal\\luchocrypto\\FENIX\\modulos.py:474: UserWarning: Some prices are larger than initial cash value. Note that fractional trading is not supported. If you want to trade Bitcoin, increase initial cash, or trade μBTC or satoshis instead (GH-134).\n",
      "  bt = Backtest(data, Fenix, cash=balance)\n"
     ]
    },
    {
     "name": "stdout",
     "output_type": "stream",
     "text": [
      "FOOTBALLUSDT - Return [%]: 0.0% - # Trades: 0 - Profit Factor: nan - Win Rate [%]: nan\n",
      "PERPUSDT - Return [%]: 0.0% - # Trades: 0 - Profit Factor: nan - Win Rate [%]: nan\n",
      "HFTUSDT - Return [%]: 0.0% - # Trades: 0 - Profit Factor: nan - Win Rate [%]: nan\n",
      "LINKUSDT - Return [%]: 0.0% - # Trades: 0 - Profit Factor: nan - Win Rate [%]: nan\n",
      "HOTUSDT - Return [%]: 0.0% - # Trades: 0 - Profit Factor: nan - Win Rate [%]: nan\n",
      "MAVUSDT - Return [%]: 0.0% - # Trades: 0 - Profit Factor: nan - Win Rate [%]: nan\n",
      "AGLDUSDT - Return [%]: 0.0% - # Trades: 0 - Profit Factor: nan - Win Rate [%]: nan\n",
      "ATOMUSDT - Return [%]: 0.0% - # Trades: 0 - Profit Factor: nan - Win Rate [%]: nan\n",
      "VETUSDT - Return [%]: 0.04% - # Trades: 1 - Profit Factor: nan - Win Rate [%]: 100.0\n",
      "HBARUSDT - Return [%]: -0.14% - # Trades: 2 - Profit Factor: 0.0 - Win Rate [%]: 0.0\n",
      "ALICEUSDT - Return [%]: 0.0% - # Trades: 0 - Profit Factor: nan - Win Rate [%]: nan\n",
      "SANDUSDT - Return [%]: 0.0% - # Trades: 0 - Profit Factor: nan - Win Rate [%]: nan\n",
      "\n",
      "DYDXUSDT - CHG 24h: 6.66% ↓ - lineas: 2.003 y 1.961 - martillo: 1\n",
      "DYDXUSDT - Return [%]: 0.0% - # Trades: 0 - Profit Factor: nan - Win Rate [%]: nan\n",
      "\n",
      "ICPUSDT - CHG 24h: 3.65% ↓ - lineas: 3.337 y 3.264 - martillo: 1\n",
      "ICPUSDT - Return [%]: 0.0% - # Trades: 0 - Profit Factor: nan - Win Rate [%]: nan\n",
      "SSVUSDT - Return [%]: 0.0% - # Trades: 0 - Profit Factor: nan - Win Rate [%]: nan\n",
      "DENTUSDT - Return [%]: 0.0% - # Trades: 2 - Profit Factor: 1.2160000000000437 - Win Rate [%]: 50.0\n",
      "AMBUSDT - Return [%]: -0.04% - # Trades: 6 - Profit Factor: 0.5347942810866196 - Win Rate [%]: 33.33333333333333\n",
      "DASHUSDT - Return [%]: 0.0% - # Trades: 0 - Profit Factor: nan - Win Rate [%]: nan\n",
      "LITUSDT - Return [%]: 0.0% - # Trades: 0 - Profit Factor: nan - Win Rate [%]: nan\n",
      "LDOUSDT - Return [%]: 0.0% - # Trades: 0 - Profit Factor: nan - Win Rate [%]: nan\n"
     ]
    },
    {
     "name": "stderr",
     "output_type": "stream",
     "text": [
      "c:\\LUCHO\\personal\\repopersonal\\luchocrypto\\FENIX\\modulos.py:474: UserWarning: Some prices are larger than initial cash value. Note that fractional trading is not supported. If you want to trade Bitcoin, increase initial cash, or trade μBTC or satoshis instead (GH-134).\n",
      "  bt = Backtest(data, Fenix, cash=balance)\n"
     ]
    },
    {
     "name": "stdout",
     "output_type": "stream",
     "text": [
      "XMRUSDT - Return [%]: 0.0% - # Trades: 0 - Profit Factor: nan - Win Rate [%]: nan\n"
     ]
    },
    {
     "name": "stderr",
     "output_type": "stream",
     "text": [
      "c:\\LUCHO\\personal\\repopersonal\\luchocrypto\\FENIX\\modulos.py:474: UserWarning: Some prices are larger than initial cash value. Note that fractional trading is not supported. If you want to trade Bitcoin, increase initial cash, or trade μBTC or satoshis instead (GH-134).\n",
      "  bt = Backtest(data, Fenix, cash=balance)\n"
     ]
    },
    {
     "name": "stdout",
     "output_type": "stream",
     "text": [
      "BCHUSDT - Return [%]: 0.0% - # Trades: 0 - Profit Factor: nan - Win Rate [%]: nan\n",
      "DOGEUSDT - Return [%]: 0.32% - # Trades: 3 - Profit Factor: 5.894285776011657 - Win Rate [%]: 66.66666666666666\n",
      "1000PEPEUSDT - Return [%]: 0.0% - # Trades: 8 - Profit Factor: 0.42545144934308654 - Win Rate [%]: 25.0\n",
      "TOMOUSDT - Return [%]: 0.0% - # Trades: 0 - Profit Factor: nan - Win Rate [%]: nan\n",
      "CTKUSDT - Return [%]: 0.0% - # Trades: 0 - Profit Factor: nan - Win Rate [%]: nan\n",
      "CELOUSDT - Return [%]: 0.0% - # Trades: 0 - Profit Factor: nan - Win Rate [%]: nan\n",
      "TUSDT - Return [%]: -0.04% - # Trades: 2 - Profit Factor: 0.0 - Win Rate [%]: 0.0\n",
      "SOLUSDT - Return [%]: 0.0% - # Trades: 0 - Profit Factor: nan - Win Rate [%]: nan\n",
      "AGIXUSDT - Return [%]: 1.27% - # Trades: 4 - Profit Factor: 3.324237530585294 - Win Rate [%]: 75.0\n",
      "XLMUSDT - Return [%]: 0.74% - # Trades: 2 - Profit Factor: nan - Win Rate [%]: 100.0\n",
      "HOOKUSDT - Return [%]: 0.0% - # Trades: 0 - Profit Factor: nan - Win Rate [%]: nan\n",
      "ONTUSDT - Return [%]: -0.65% - # Trades: 6 - Profit Factor: 0.5883209288013705 - Win Rate [%]: 33.33333333333333\n",
      "MASKUSDT - Return [%]: 0.0% - # Trades: 0 - Profit Factor: nan - Win Rate [%]: nan\n",
      "RSRUSDT - Return [%]: 0.0% - # Trades: 7 - Profit Factor: 0.936313212773952 - Win Rate [%]: 42.857142857142854\n",
      "\n",
      "LTCUSDT - CHG 24h: 4.66% ↓ - lineas: 63.05 y 61.45 - martillo: 1\n",
      "LTCUSDT - Return [%]: 0.0% - # Trades: 0 - Profit Factor: nan - Win Rate [%]: nan\n",
      "IOTAUSDT - Return [%]: -0.23% - # Trades: 3 - Profit Factor: 0.6818838727797966 - Win Rate [%]: 33.33333333333333\n",
      "SFPUSDT - Return [%]: 0.0% - # Trades: 0 - Profit Factor: nan - Win Rate [%]: nan\n",
      "LUNA2USDT - Return [%]: 0.0% - # Trades: 0 - Profit Factor: nan - Win Rate [%]: nan\n",
      "WOOUSDT - Return [%]: 0.01% - # Trades: 4 - Profit Factor: 1.0233458942329177 - Win Rate [%]: 25.0\n",
      "APTUSDT - Return [%]: 0.0% - # Trades: 0 - Profit Factor: nan - Win Rate [%]: nan\n",
      "\n",
      "INJUSDT - CHG 24h: 4.15% ↓ - lineas: 6.859 y 6.763 - martillo: 1\n",
      "INJUSDT - Return [%]: 0.0% - # Trades: 0 - Profit Factor: nan - Win Rate [%]: nan\n",
      "BLURUSDT - Return [%]: 0.62% - # Trades: 1 - Profit Factor: nan - Win Rate [%]: 100.0\n",
      "ENJUSDT - Return [%]: 0.0% - # Trades: 0 - Profit Factor: nan - Win Rate [%]: nan\n",
      "EGLDUSDT - Return [%]: 0.0% - # Trades: 0 - Profit Factor: nan - Win Rate [%]: nan\n",
      "SNXUSDT - Return [%]: 0.0% - # Trades: 0 - Profit Factor: nan - Win Rate [%]: nan\n",
      "FXSUSDT - Return [%]: 0.0% - # Trades: 0 - Profit Factor: nan - Win Rate [%]: nan\n",
      "CHRUSDT - Return [%]: -0.38% - # Trades: 5 - Profit Factor: 0.4623471355738213 - Win Rate [%]: 20.0\n",
      "IOSTUSDT - Return [%]: -0.01% - # Trades: 1 - Profit Factor: 0.0 - Win Rate [%]: 0.0\n",
      "OMGUSDT - Return [%]: 0.0% - # Trades: 0 - Profit Factor: nan - Win Rate [%]: nan\n",
      "MTLUSDT - Return [%]: 0.0% - # Trades: 0 - Profit Factor: nan - Win Rate [%]: nan\n"
     ]
    },
    {
     "name": "stderr",
     "output_type": "stream",
     "text": [
      "c:\\LUCHO\\personal\\repopersonal\\luchocrypto\\FENIX\\modulos.py:474: UserWarning: Some prices are larger than initial cash value. Note that fractional trading is not supported. If you want to trade Bitcoin, increase initial cash, or trade μBTC or satoshis instead (GH-134).\n",
      "  bt = Backtest(data, Fenix, cash=balance)\n"
     ]
    },
    {
     "name": "stdout",
     "output_type": "stream",
     "text": [
      "QNTUSDT - Return [%]: 0.0% - # Trades: 0 - Profit Factor: nan - Win Rate [%]: nan\n",
      "1INCHUSDT - Return [%]: 0.0% - # Trades: 0 - Profit Factor: nan - Win Rate [%]: nan\n",
      "\n",
      "TRUUSDT - CHG 24h: 7.59% ↑ - lineas: 0.03197 y 0.03257 - martillo: -1\n",
      "TRUUSDT - Return [%]: 0.11% - # Trades: 3 - Profit Factor: 2.8535261520475452 - Win Rate [%]: 66.66666666666666\n",
      "CTSIUSDT - Return [%]: -0.47% - # Trades: 3 - Profit Factor: 0.4487010194624736 - Win Rate [%]: 33.33333333333333\n"
     ]
    },
    {
     "name": "stderr",
     "output_type": "stream",
     "text": [
      "c:\\LUCHO\\personal\\repopersonal\\luchocrypto\\FENIX\\modulos.py:474: UserWarning: Some prices are larger than initial cash value. Note that fractional trading is not supported. If you want to trade Bitcoin, increase initial cash, or trade μBTC or satoshis instead (GH-134).\n",
      "  bt = Backtest(data, Fenix, cash=balance)\n"
     ]
    },
    {
     "name": "stdout",
     "output_type": "stream",
     "text": [
      "DEFIUSDT - Return [%]: 0.0% - # Trades: 0 - Profit Factor: nan - Win Rate [%]: nan\n",
      "KLAYUSDT - Return [%]: -0.2% - # Trades: 1 - Profit Factor: 0.0 - Win Rate [%]: 0.0\n",
      "1000SHIBUSDT - Return [%]: -0.02% - # Trades: 3 - Profit Factor: 0.0 - Win Rate [%]: 0.0\n",
      "NEARUSDT - Return [%]: 0.0% - # Trades: 0 - Profit Factor: nan - Win Rate [%]: nan\n",
      "AXSUSDT - Return [%]: 0.0% - # Trades: 0 - Profit Factor: nan - Win Rate [%]: nan\n",
      "BLZUSDT - Return [%]: -0.79% - # Trades: 7 - Profit Factor: 0.6001137068551813 - Win Rate [%]: 42.857142857142854\n",
      "CYBERUSDT - Return [%]: 0.0% - # Trades: 0 - Profit Factor: nan - Win Rate [%]: nan\n",
      "ASTRUSDT - Return [%]: 0.35% - # Trades: 2 - Profit Factor: nan - Win Rate [%]: 100.0\n",
      "LINAUSDT - Return [%]: 0.02% - # Trades: 2 - Profit Factor: 2.435429832860265 - Win Rate [%]: 50.0\n",
      "\n",
      "BAKEUSDT - CHG 24h: 9.08% ↓ - lineas: 0.1047 y 0.1021 - martillo: 1\n",
      "BAKEUSDT - Return [%]: -0.16% - # Trades: 5 - Profit Factor: 0.7867786782082669 - Win Rate [%]: 40.0\n",
      "ZRXUSDT - Return [%]: 0.94% - # Trades: 2 - Profit Factor: nan - Win Rate [%]: 100.0\n",
      "CFXUSDT - Return [%]: -1.03% - # Trades: 8 - Profit Factor: 0.4067945671581602 - Win Rate [%]: 25.0\n",
      "AAVEUSDT - Return [%]: 0.0% - # Trades: 0 - Profit Factor: nan - Win Rate [%]: nan\n"
     ]
    },
    {
     "name": "stderr",
     "output_type": "stream",
     "text": [
      "c:\\LUCHO\\personal\\repopersonal\\luchocrypto\\FENIX\\modulos.py:474: UserWarning: Some prices are larger than initial cash value. Note that fractional trading is not supported. If you want to trade Bitcoin, increase initial cash, or trade μBTC or satoshis instead (GH-134).\n",
      "  bt = Backtest(data, Fenix, cash=balance)\n"
     ]
    },
    {
     "name": "stdout",
     "output_type": "stream",
     "text": [
      "BTCUSDT - Return [%]: 0.0% - # Trades: 0 - Profit Factor: nan - Win Rate [%]: nan\n",
      "DARUSDT - Return [%]: -0.55% - # Trades: 4 - Profit Factor: 0.0 - Win Rate [%]: 0.0\n",
      "1000LUNCUSDT - Return [%]: -0.53% - # Trades: 5 - Profit Factor: 0.24088667943337957 - Win Rate [%]: 20.0\n",
      "BATUSDT - Return [%]: -0.14% - # Trades: 2 - Profit Factor: 0.7547046973270305 - Win Rate [%]: 50.0\n",
      "LPTUSDT - Return [%]: 0.0% - # Trades: 0 - Profit Factor: nan - Win Rate [%]: nan\n",
      "LQTYUSDT - Return [%]: 0.0% - # Trades: 0 - Profit Factor: nan - Win Rate [%]: nan\n",
      "RUNEUSDT - Return [%]: 0.0% - # Trades: 0 - Profit Factor: nan - Win Rate [%]: nan\n",
      "1000XECUSDT - Return [%]: -0.01% - # Trades: 1 - Profit Factor: 0.0 - Win Rate [%]: 0.0\n",
      "FTMUSDT - Return [%]: 0.0% - # Trades: 0 - Profit Factor: nan - Win Rate [%]: nan\n",
      "AUDIOUSDT - Return [%]: 0.96% - # Trades: 5 - Profit Factor: 3.4256216748768655 - Win Rate [%]: 60.0\n",
      "ACHUSDT - Return [%]: 0.0% - # Trades: 5 - Profit Factor: 0.9409054837499561 - Win Rate [%]: 40.0\n",
      "WLDUSDT - Return [%]: 0.0% - # Trades: 0 - Profit Factor: nan - Win Rate [%]: nan\n",
      "ANKRUSDT - Return [%]: 0.01% - # Trades: 5 - Profit Factor: 1.1755982096443258 - Win Rate [%]: 40.0\n",
      "BNXUSDT - Return [%]: 1.21% - # Trades: 2 - Profit Factor: nan - Win Rate [%]: 100.0\n",
      "ETCUSDT - Return [%]: 0.0% - # Trades: 0 - Profit Factor: nan - Win Rate [%]: nan\n",
      "RADUSDT - Return [%]: 0.0% - # Trades: 0 - Profit Factor: nan - Win Rate [%]: nan\n",
      "SEIUSDT - Return [%]: 0.3% - # Trades: 3 - Profit Factor: 1.7528402331189363 - Win Rate [%]: 66.66666666666666\n",
      "\n",
      "STORJUSDT - CHG 24h: 16.42% ↑ - lineas: 0.2555 y 0.2445 - martillo: 1\n",
      "STORJUSDT - Return [%]: 0.0% - # Trades: 0 - Profit Factor: nan - Win Rate [%]: nan\n",
      "C98USDT - Return [%]: 0.58% - # Trades: 8 - Profit Factor: 1.573092856206451 - Win Rate [%]: 50.0\n",
      "DUSKUSDT - Return [%]: 0.11% - # Trades: 2 - Profit Factor: 1.3869041769041792 - Win Rate [%]: 50.0\n",
      "FILUSDT - Return [%]: 0.0% - # Trades: 0 - Profit Factor: nan - Win Rate [%]: nan\n",
      "COTIUSDT - Return [%]: 0.2% - # Trades: 4 - Profit Factor: 4.158229948488104 - Win Rate [%]: 75.0\n",
      "CVXUSDT - Return [%]: 0.0% - # Trades: 0 - Profit Factor: nan - Win Rate [%]: nan\n",
      "ONEUSDT - Return [%]: 0.0% - # Trades: 0 - Profit Factor: nan - Win Rate [%]: nan\n",
      "\n",
      "YGGUSDT - CHG 24h: 5.77% ↓ - lineas: 0.2196 y 0.2123 - martillo: 1\n",
      "YGGUSDT - Return [%]: 0.0% - # Trades: 0 - Profit Factor: nan - Win Rate [%]: nan\n",
      "ROSEUSDT - Return [%]: 0.11% - # Trades: 5 - Profit Factor: 1.822662009585121 - Win Rate [%]: 40.0\n",
      "IMXUSDT - Return [%]: 0.0% - # Trades: 0 - Profit Factor: nan - Win Rate [%]: nan\n",
      "QTUMUSDT - Return [%]: 0.0% - # Trades: 0 - Profit Factor: nan - Win Rate [%]: nan\n",
      "XVGUSDT - Return [%]: 0.02% - # Trades: 5 - Profit Factor: 3.56836471434056 - Win Rate [%]: 60.0\n",
      "1000FLOKIUSDT - Return [%]: 0.02% - # Trades: 2 - Profit Factor: 2.2906821386604066 - Win Rate [%]: 50.0\n",
      "NEOUSDT - Return [%]: 0.0% - # Trades: 0 - Profit Factor: nan - Win Rate [%]: nan\n",
      "UNFIUSDT - Return [%]: 0.0% - # Trades: 0 - Profit Factor: nan - Win Rate [%]: nan\n",
      "DGBUSDT - Return [%]: -0.02% - # Trades: 3 - Profit Factor: 0.0 - Win Rate [%]: 0.0\n",
      "ZENUSDT - Return [%]: 0.0% - # Trades: 0 - Profit Factor: nan - Win Rate [%]: nan\n",
      "UNIUSDT - Return [%]: 0.0% - # Trades: 0 - Profit Factor: nan - Win Rate [%]: nan\n"
     ]
    }
   ],
   "source": [
    "import modulos as md\n",
    "import numpy as np\n",
    "import constantes as cons\n",
    "import os\n",
    "import sys\n",
    "lista_filtrada = []\n",
    "\n",
    "lista=md.lista_de_monedas()\n",
    "#lista=md.filtradodemonedas ()\n",
    "#lista=['CFXUSDT', 'BLZUSDT', 'APEUSDT', 'LTCUSDT', 'LINKUSDT', 'WLDUSDT', 'BNBUSDT', 'FLMUSDT', 'SEIUSDT', '1000PEPEUSDT', 'CYBERUSDT', 'SUIUSDT', 'ETHUSDT', 'RUNEUSDT', 'BCHUSDT', 'MATICUSDT', 'TRBUSDT', 'ENJUSDT', 'UNFIUSDT', 'OPUSDT', 'DOGEUSDT', 'PERPUSDT', 'TOMOUSDT', 'BTCUSDT', 'SNXUSDT', 'XRPUSDT', 'SOLUSDT']\n",
    "#lista=['EDUUSDT']\n",
    "\n",
    "if len(lista)>1:\n",
    "    imprimo=False\n",
    "    debug=False\n",
    "else:\n",
    "    imprimo= True\n",
    "    debug=True\n",
    "for symbol in lista:    \n",
    "    try:\n",
    "        #data,porcentajeentrada = md.estrategia_santa(symbol,tp_flag = True)\n",
    "        #data,porcentajeentrada = md.estrategia_trampa(symbol,tp_flag = True)\n",
    "        data,porcentajeentrada = md.estrategia_atrapes(symbol, debug=debug)\n",
    "        #data,porcentajeentrada = md.estrategia_oro('XAU',tp_flag = True)\n",
    "        #######################################################################\n",
    "        resultado = md.backtesting(data, plot_flag = imprimo,porcentajeentrada=porcentajeentrada)\n",
    "        #resultado = md.backtestingsanta(data, plot_flag = imprimo, debug = True)\n",
    "        ########################################################################\n",
    "        #if resultado['Return [%]'] < 0: # para santa3 mazmorra\n",
    "        #if data.disparo.iloc[-1]!=0: # imprime las monedas que estan en posible haz martillo\n",
    "        #        print(symbol)\n",
    "        if resultado['Return [%]'] > 0:\n",
    "            #if ((resultado['Profit Factor'] > 2 or np.isnan(resultado['Profit Factor'])) and (resultado['Return [%]']/resultado['# Trades']) >=0.33):            \n",
    "                lista_filtrada.append(symbol)\n",
    "        print(f\"{symbol} - Return [%]: {md.truncate(resultado['Return [%]'],2)}% - # Trades: {resultado['# Trades']} - Profit Factor: {resultado['Profit Factor']} - Win Rate [%]: {resultado['Win Rate [%]']}\")\n",
    "    except Exception as falla:\n",
    "        _, _, exc_tb = sys.exc_info()\n",
    "        fname = os.path.split(exc_tb.tb_frame.f_code.co_filename)[1]\n",
    "        print(\"\\nError: \"+str(falla)+\" - line: \"+str(exc_tb.tb_lineno)+\" - file: \"+str(fname)+\"\\n\")\n",
    "        pass\n",
    "for symbol in lista_filtrada:\n",
    "    md.printandlog(cons.nombrelog,symbol,pal=1)\n",
    "#md.dibuja_patrones_triangulos (data,998)    \n"
   ]
  }
 ],
 "metadata": {
  "kernelspec": {
   "display_name": "Python 3 (ipykernel)",
   "language": "python",
   "name": "python3"
  },
  "language_info": {
   "codemirror_mode": {
    "name": "ipython",
    "version": 3
   },
   "file_extension": ".py",
   "mimetype": "text/x-python",
   "name": "python",
   "nbconvert_exporter": "python",
   "pygments_lexer": "ipython3",
   "version": "3.10.11"
  }
 },
 "nbformat": 4,
 "nbformat_minor": 5
}
