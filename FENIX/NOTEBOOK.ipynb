{
 "cells": [
  {
   "cell_type": "code",
   "execution_count": 1,
   "id": "2d7ba37d",
   "metadata": {},
   "outputs": [
    {
     "name": "stderr",
     "output_type": "stream",
     "text": [
      "C:\\Users\\Luis Gomez Freites\\AppData\\Local\\Packages\\PythonSoftwareFoundation.Python.3.10_qbz5n2kfra8p0\\LocalCache\\local-packages\\Python310\\site-packages\\tqdm\\auto.py:22: TqdmWarning: IProgress not found. Please update jupyter and ipywidgets. See https://ipywidgets.readthedocs.io/en/stable/user_install.html\n",
      "  from .autonotebook import tqdm as notebook_tqdm\n",
      "BokehDeprecationWarning: Passing lists of formats for DatetimeTickFormatter scales was deprecated in Bokeh 3.0. Configure a single string format for each scale\n",
      "C:\\Users\\Luis Gomez Freites\\AppData\\Local\\Packages\\PythonSoftwareFoundation.Python.3.10_qbz5n2kfra8p0\\LocalCache\\local-packages\\Python310\\site-packages\\backtesting\\_plotting.py:250: UserWarning: DatetimeFormatter scales now only accept a single format. Using the first provided: '%d %b'\n",
      "  formatter=DatetimeTickFormatter(days=['%d %b', '%a %d'],\n",
      "BokehDeprecationWarning: Passing lists of formats for DatetimeTickFormatter scales was deprecated in Bokeh 3.0. Configure a single string format for each scale\n",
      "C:\\Users\\Luis Gomez Freites\\AppData\\Local\\Packages\\PythonSoftwareFoundation.Python.3.10_qbz5n2kfra8p0\\LocalCache\\local-packages\\Python310\\site-packages\\backtesting\\_plotting.py:250: UserWarning: DatetimeFormatter scales now only accept a single format. Using the first provided: '%m/%Y'\n",
      "  formatter=DatetimeTickFormatter(days=['%d %b', '%a %d'],\n"
     ]
    },
    {
     "name": "stdout",
     "output_type": "stream",
     "text": [
      "COMPUSDT - Return [%]: -13.02% - # Trades: 4 - Profit Factor: 0.0 - Win Rate [%]: 0.0\n"
     ]
    }
   ],
   "source": [
    "###################################### ESTRATEGIA BB\n",
    "###################################################################################################################\n",
    "import modulos as md\n",
    "import numpy as np\n",
    "import constantes as cons\n",
    "\n",
    "lista=['GTCUSDT',\n",
    " 'API3USDT',\n",
    " 'LTCUSDT',\n",
    " '1000SHIBUSDT',\n",
    " 'MKRUSDT',\n",
    " 'MATICUSDT',\n",
    " 'HIGHUSDT',\n",
    " '1000PEPEUSDT',\n",
    " 'STMXUSDT',\n",
    " 'APEUSDT',\n",
    " 'TOMOUSDT',\n",
    " 'BNBUSDT',\n",
    " 'SUIUSDT',\n",
    " 'CRVUSDT',\n",
    " 'LINKUSDT',\n",
    " 'GALAUSDT',\n",
    " 'WLDUSDT',\n",
    " 'HBARUSDT',\n",
    " 'SOLUSDT',\n",
    " 'XLMUSDT',\n",
    " 'OPUSDT',\n",
    " 'XRPUSDT',\n",
    " 'COMPUSDT',\n",
    " 'BCHUSDT',\n",
    " 'DOGEUSDT',\n",
    " 'YGGUSDT']\n",
    "lista_filtrada = []\n",
    "\n",
    "#lista=md.lista_de_monedas ()\n",
    "lista=['COMPUSDT']\n",
    "\n",
    "for symbol in lista:    \n",
    "    try:\n",
    "        data,porcentajeentrada = md.estrategia_santa(symbol,tp_flag = True)\n",
    "        #data = md.estrategia_triangulos(symbol, tp_flag = True, print_lines_flag = True)\n",
    "        #######################################################################\n",
    "        resultado = md.backtestingsanta(data, plot_flag = True)\n",
    "        if ((resultado['Profit Factor'] > 2 or np.isnan(resultado['Profit Factor'])) and (resultado['Return [%]']/resultado['# Trades']) >=0.33):\n",
    "            lista_filtrada.append(symbol)\n",
    "        print(f\"{symbol} - Return [%]: {md.truncate(resultado['Return [%]'],2)}% - # Trades: {resultado['# Trades']} - Profit Factor: {resultado['Profit Factor']} - Win Rate [%]: {resultado['Win Rate [%]']}\")\n",
    "    except Exception as falla:\n",
    "        pass\n",
    "for symbol in lista_filtrada:\n",
    "    md.printandlog(cons.nombrelog,symbol,pal=1)\n",
    "#md.dibuja_patrones_triangulos (data,998)    \n"
   ]
  },
  {
   "cell_type": "code",
   "execution_count": 6,
   "id": "ebc2902d",
   "metadata": {},
   "outputs": [
    {
     "name": "stdout",
     "output_type": "stream",
     "text": [
      "1.0 -0.9958705948858225\n"
     ]
    },
    {
     "data": {
      "application/vnd.plotly.v1+json": {
       "config": {
        "plotlyServerURL": "https://plot.ly"
       },
       "data": [
        {
         "close": [
          0.5913,
          0.592,
          0.5909,
          0.5914,
          0.5897,
          0.5899,
          0.591,
          0.5903,
          0.5899,
          0.5886,
          0.5889,
          0.5885,
          0.5878,
          0.5876,
          0.5882,
          0.589,
          0.5906,
          0.5889,
          0.5892,
          0.5896,
          0.5902,
          0.5909,
          0.5906,
          0.5914,
          0.5908,
          0.5882,
          0.5894,
          0.5884,
          0.5896,
          0.5892,
          0.5913,
          0.5916,
          0.5912,
          0.5915,
          0.5919,
          0.592,
          0.5921,
          0.5907,
          0.5909,
          0.5902,
          0.5901,
          0.5895,
          0.5874,
          0.5865,
          0.5847,
          0.5852,
          0.585,
          0.5845,
          0.584,
          0.5836,
          0.585,
          0.5817,
          0.5814,
          0.5858,
          0.5851,
          0.584,
          0.5834,
          0.5835,
          0.5832,
          0.5829,
          0.5815,
          0.5837,
          0.583,
          0.585,
          0.5848,
          0.5814,
          0.5809,
          0.5813,
          0.5801,
          0.5809,
          0.5791,
          0.5778,
          0.5775,
          0.579,
          0.5787,
          0.5806,
          0.5797,
          0.58,
          0.5802,
          0.5792,
          0.5795,
          0.5782,
          0.578,
          0.5757,
          0.5756,
          0.5754,
          0.5777,
          0.5784,
          0.5786,
          0.5777,
          0.5782,
          0.578,
          0.5768,
          0.5769,
          0.5761,
          0.577,
          0.5757,
          0.5752,
          0.5755,
          0.5769,
          0.576,
          0.5761,
          0.5767,
          0.5764,
          0.5761,
          0.5763,
          0.577,
          0.5767,
          0.5768,
          0.5779,
          0.5763,
          0.5766,
          0.5762,
          0.5753,
          0.5756,
          0.5749,
          0.5742,
          0.5749,
          0.5744,
          0.573,
          0.5741,
          0.5753,
          0.5761,
          0.574,
          0.576,
          0.5742,
          0.5741,
          0.5752,
          0.5755,
          0.5764,
          0.5755,
          0.5746,
          0.575,
          0.5749,
          0.5758,
          0.575,
          0.5751,
          0.5758,
          0.5761,
          0.5762
         ],
         "high": [
          0.5915,
          0.592,
          0.5928,
          0.5915,
          0.5913,
          0.5904,
          0.5912,
          0.5914,
          0.5905,
          0.59,
          0.5891,
          0.5889,
          0.5884,
          0.5877,
          0.5887,
          0.5895,
          0.5909,
          0.5904,
          0.5895,
          0.5923,
          0.5911,
          0.5916,
          0.5911,
          0.5927,
          0.5931,
          0.5907,
          0.5895,
          0.5902,
          0.5905,
          0.5899,
          0.5914,
          0.5917,
          0.5925,
          0.5916,
          0.5919,
          0.5922,
          0.5922,
          0.5921,
          0.5914,
          0.5908,
          0.5906,
          0.59,
          0.5895,
          0.5884,
          0.5868,
          0.5859,
          0.587,
          0.5853,
          0.5849,
          0.5847,
          0.5851,
          0.5856,
          0.5816,
          0.5863,
          0.5865,
          0.5858,
          0.5851,
          0.5843,
          0.5843,
          0.5832,
          0.5828,
          0.5838,
          0.5837,
          0.5851,
          0.5851,
          0.5849,
          0.5817,
          0.5813,
          0.5819,
          0.581,
          0.5814,
          0.5798,
          0.5783,
          0.5794,
          0.5802,
          0.5806,
          0.5805,
          0.5802,
          0.5806,
          0.58,
          0.58,
          0.5795,
          0.5782,
          0.5779,
          0.5761,
          0.5756,
          0.5778,
          0.5787,
          0.5787,
          0.5786,
          0.5783,
          0.5785,
          0.5782,
          0.5773,
          0.5768,
          0.5772,
          0.5772,
          0.5759,
          0.5761,
          0.5769,
          0.5772,
          0.5765,
          0.5767,
          0.5772,
          0.5764,
          0.5763,
          0.577,
          0.577,
          0.5769,
          0.5784,
          0.5778,
          0.5767,
          0.5767,
          0.5764,
          0.5758,
          0.5756,
          0.575,
          0.5749,
          0.575,
          0.5747,
          0.5756,
          0.5754,
          0.5763,
          0.5762,
          0.5764,
          0.5762,
          0.5742,
          0.5757,
          0.5758,
          0.5765,
          0.5766,
          0.5755,
          0.5758,
          0.5758,
          0.576,
          0.576,
          0.5759,
          0.5761,
          0.5764,
          0.5762
         ],
         "low": [
          0.5907,
          0.5903,
          0.5909,
          0.5906,
          0.5895,
          0.5888,
          0.5898,
          0.5903,
          0.5893,
          0.5883,
          0.5883,
          0.5872,
          0.5874,
          0.5868,
          0.5873,
          0.5883,
          0.5888,
          0.5874,
          0.5886,
          0.5862,
          0.5891,
          0.5901,
          0.5899,
          0.5905,
          0.5904,
          0.5871,
          0.5878,
          0.5884,
          0.5878,
          0.5891,
          0.5884,
          0.5903,
          0.5909,
          0.5897,
          0.5904,
          0.5909,
          0.5914,
          0.5907,
          0.5903,
          0.5899,
          0.5898,
          0.5885,
          0.5867,
          0.5854,
          0.5817,
          0.5841,
          0.5846,
          0.5845,
          0.5834,
          0.5835,
          0.5835,
          0.58,
          0.5764,
          0.5809,
          0.5846,
          0.584,
          0.5832,
          0.5833,
          0.5832,
          0.5825,
          0.5813,
          0.5815,
          0.5819,
          0.5828,
          0.5839,
          0.5814,
          0.5798,
          0.58,
          0.5799,
          0.5796,
          0.5787,
          0.5772,
          0.5762,
          0.5772,
          0.5785,
          0.5784,
          0.5795,
          0.5795,
          0.5797,
          0.579,
          0.5788,
          0.5779,
          0.5773,
          0.5756,
          0.5746,
          0.5746,
          0.5754,
          0.5776,
          0.5781,
          0.5766,
          0.577,
          0.5777,
          0.5766,
          0.5766,
          0.576,
          0.5759,
          0.5756,
          0.5749,
          0.5749,
          0.5756,
          0.5759,
          0.5754,
          0.5763,
          0.5764,
          0.5758,
          0.5758,
          0.5759,
          0.5766,
          0.5759,
          0.5768,
          0.5762,
          0.5761,
          0.576,
          0.5752,
          0.5749,
          0.5747,
          0.5741,
          0.5742,
          0.5734,
          0.5726,
          0.5728,
          0.5739,
          0.5751,
          0.5734,
          0.5742,
          0.5738,
          0.5731,
          0.5735,
          0.5749,
          0.5755,
          0.5755,
          0.5738,
          0.575,
          0.5749,
          0.5749,
          0.5747,
          0.5749,
          0.5748,
          0.5759,
          0.5753
         ],
         "open": [
          0.5914,
          0.5911,
          0.5922,
          0.5908,
          0.5913,
          0.5897,
          0.5899,
          0.5911,
          0.5903,
          0.5899,
          0.5886,
          0.5889,
          0.5883,
          0.5876,
          0.5873,
          0.5883,
          0.5888,
          0.5904,
          0.589,
          0.5893,
          0.5895,
          0.5904,
          0.5908,
          0.5907,
          0.5916,
          0.5907,
          0.5883,
          0.5897,
          0.5886,
          0.5899,
          0.5892,
          0.5913,
          0.5918,
          0.5911,
          0.5915,
          0.592,
          0.592,
          0.592,
          0.5907,
          0.5907,
          0.5902,
          0.5896,
          0.5895,
          0.5873,
          0.5861,
          0.5846,
          0.5855,
          0.585,
          0.5848,
          0.584,
          0.5837,
          0.5849,
          0.5811,
          0.5813,
          0.586,
          0.5851,
          0.5841,
          0.5834,
          0.5835,
          0.5831,
          0.5828,
          0.5815,
          0.5835,
          0.5829,
          0.585,
          0.5848,
          0.5814,
          0.5809,
          0.5811,
          0.5799,
          0.5809,
          0.5789,
          0.5778,
          0.5772,
          0.5791,
          0.5786,
          0.5805,
          0.5796,
          0.5801,
          0.58,
          0.5793,
          0.5795,
          0.5782,
          0.5779,
          0.5757,
          0.5755,
          0.5754,
          0.5778,
          0.5786,
          0.5786,
          0.5775,
          0.5781,
          0.578,
          0.5767,
          0.5768,
          0.576,
          0.577,
          0.5756,
          0.5752,
          0.5757,
          0.577,
          0.576,
          0.5763,
          0.5764,
          0.5764,
          0.576,
          0.5764,
          0.5768,
          0.5761,
          0.5768,
          0.5778,
          0.5763,
          0.5765,
          0.576,
          0.5753,
          0.5756,
          0.5749,
          0.5742,
          0.5749,
          0.5744,
          0.5729,
          0.5742,
          0.5754,
          0.5762,
          0.5742,
          0.576,
          0.5742,
          0.5738,
          0.5753,
          0.5755,
          0.5764,
          0.5755,
          0.575,
          0.575,
          0.5749,
          0.5758,
          0.575,
          0.5753,
          0.576,
          0.5761
         ],
         "type": "candlestick",
         "x": [
          656,
          657,
          658,
          659,
          660,
          661,
          662,
          663,
          664,
          665,
          666,
          667,
          668,
          669,
          670,
          671,
          672,
          673,
          674,
          675,
          676,
          677,
          678,
          679,
          680,
          681,
          682,
          683,
          684,
          685,
          686,
          687,
          688,
          689,
          690,
          691,
          692,
          693,
          694,
          695,
          696,
          697,
          698,
          699,
          700,
          701,
          702,
          703,
          704,
          705,
          706,
          707,
          708,
          709,
          710,
          711,
          712,
          713,
          714,
          715,
          716,
          717,
          718,
          719,
          720,
          721,
          722,
          723,
          724,
          725,
          726,
          727,
          728,
          729,
          730,
          731,
          732,
          733,
          734,
          735,
          736,
          737,
          738,
          739,
          740,
          741,
          742,
          743,
          744,
          745,
          746,
          747,
          748,
          749,
          750,
          751,
          752,
          753,
          754,
          755,
          756,
          757,
          758,
          759,
          760,
          761,
          762,
          763,
          764,
          765,
          766,
          767,
          768,
          769,
          770,
          771,
          772,
          773,
          774,
          775,
          776,
          777,
          778,
          779,
          780,
          781,
          782,
          783,
          784,
          785,
          786,
          787,
          788,
          789,
          790,
          791,
          792,
          793,
          794,
          795
         ]
        },
        {
         "marker": {
          "color": "MediumPurple",
          "size": 4
         },
         "mode": "markers",
         "name": "pivot",
         "type": "scatter",
         "x": [
          656,
          657,
          658,
          659,
          660,
          661,
          662,
          663,
          664,
          665,
          666,
          667,
          668,
          669,
          670,
          671,
          672,
          673,
          674,
          675,
          676,
          677,
          678,
          679,
          680,
          681,
          682,
          683,
          684,
          685,
          686,
          687,
          688,
          689,
          690,
          691,
          692,
          693,
          694,
          695,
          696,
          697,
          698,
          699,
          700,
          701,
          702,
          703,
          704,
          705,
          706,
          707,
          708,
          709,
          710,
          711,
          712,
          713,
          714,
          715,
          716,
          717,
          718,
          719,
          720,
          721,
          722,
          723,
          724,
          725,
          726,
          727,
          728,
          729,
          730,
          731,
          732,
          733,
          734,
          735,
          736,
          737,
          738,
          739,
          740,
          741,
          742,
          743,
          744,
          745,
          746,
          747,
          748,
          749,
          750,
          751,
          752,
          753,
          754,
          755,
          756,
          757,
          758,
          759,
          760,
          761,
          762,
          763,
          764,
          765,
          766,
          767,
          768,
          769,
          770,
          771,
          772,
          773,
          774,
          775,
          776,
          777,
          778,
          779,
          780,
          781,
          782,
          783,
          784,
          785,
          786,
          787,
          788,
          789,
          790,
          791,
          792,
          793,
          794,
          795
         ],
         "y": [
          null,
          null,
          0.5938,
          null,
          null,
          0.5878,
          null,
          0.5924,
          null,
          null,
          null,
          null,
          null,
          0.5858,
          null,
          null,
          null,
          null,
          null,
          null,
          null,
          null,
          null,
          null,
          0.5941,
          0.5861,
          null,
          null,
          null,
          null,
          null,
          null,
          0.5935,
          null,
          null,
          null,
          0.5932,
          null,
          null,
          null,
          null,
          null,
          null,
          null,
          0.5807,
          null,
          null,
          null,
          null,
          null,
          null,
          null,
          0.5754,
          null,
          0.5875,
          null,
          null,
          null,
          null,
          null,
          0.5803,
          null,
          null,
          0.5861,
          0.5861,
          null,
          null,
          null,
          null,
          null,
          null,
          null,
          0.5752,
          null,
          null,
          0.5816,
          null,
          null,
          0.5816,
          null,
          null,
          null,
          null,
          null,
          0.5736,
          0.5736,
          null,
          0.5797,
          0.5797,
          null,
          null,
          null,
          null,
          null,
          null,
          null,
          null,
          0.5739,
          0.5739,
          null,
          0.5782,
          null,
          null,
          0.5782,
          null,
          0.5748,
          null,
          null,
          null,
          0.5794,
          null,
          null,
          null,
          null,
          null,
          null,
          null,
          null,
          null,
          0.5716,
          null,
          null,
          null,
          null,
          0.5774,
          null,
          0.5721,
          null,
          null,
          null,
          0.5776,
          0.5728,
          null,
          null,
          null,
          0.5737,
          null,
          null,
          null,
          null
         ]
        },
        {
         "mode": "lines",
         "name": "min slope",
         "type": "scatter",
         "x": [
          708,
          716,
          731
         ],
         "y": [
          0.5764,
          0.5813000000000001,
          0.5904875
         ]
        },
        {
         "mode": "lines",
         "name": "max slope",
         "type": "scatter",
         "x": [
          710,
          719,
          720,
          735
         ],
         "y": [
          0.5864923076923078,
          0.5851769230769232,
          0.5850307692307692,
          0.5828384615384614
         ]
        }
       ],
       "layout": {
        "template": {
         "data": {
          "bar": [
           {
            "error_x": {
             "color": "#2a3f5f"
            },
            "error_y": {
             "color": "#2a3f5f"
            },
            "marker": {
             "line": {
              "color": "#E5ECF6",
              "width": 0.5
             },
             "pattern": {
              "fillmode": "overlay",
              "size": 10,
              "solidity": 0.2
             }
            },
            "type": "bar"
           }
          ],
          "barpolar": [
           {
            "marker": {
             "line": {
              "color": "#E5ECF6",
              "width": 0.5
             },
             "pattern": {
              "fillmode": "overlay",
              "size": 10,
              "solidity": 0.2
             }
            },
            "type": "barpolar"
           }
          ],
          "carpet": [
           {
            "aaxis": {
             "endlinecolor": "#2a3f5f",
             "gridcolor": "white",
             "linecolor": "white",
             "minorgridcolor": "white",
             "startlinecolor": "#2a3f5f"
            },
            "baxis": {
             "endlinecolor": "#2a3f5f",
             "gridcolor": "white",
             "linecolor": "white",
             "minorgridcolor": "white",
             "startlinecolor": "#2a3f5f"
            },
            "type": "carpet"
           }
          ],
          "choropleth": [
           {
            "colorbar": {
             "outlinewidth": 0,
             "ticks": ""
            },
            "type": "choropleth"
           }
          ],
          "contour": [
           {
            "colorbar": {
             "outlinewidth": 0,
             "ticks": ""
            },
            "colorscale": [
             [
              0,
              "#0d0887"
             ],
             [
              0.1111111111111111,
              "#46039f"
             ],
             [
              0.2222222222222222,
              "#7201a8"
             ],
             [
              0.3333333333333333,
              "#9c179e"
             ],
             [
              0.4444444444444444,
              "#bd3786"
             ],
             [
              0.5555555555555556,
              "#d8576b"
             ],
             [
              0.6666666666666666,
              "#ed7953"
             ],
             [
              0.7777777777777778,
              "#fb9f3a"
             ],
             [
              0.8888888888888888,
              "#fdca26"
             ],
             [
              1,
              "#f0f921"
             ]
            ],
            "type": "contour"
           }
          ],
          "contourcarpet": [
           {
            "colorbar": {
             "outlinewidth": 0,
             "ticks": ""
            },
            "type": "contourcarpet"
           }
          ],
          "heatmap": [
           {
            "colorbar": {
             "outlinewidth": 0,
             "ticks": ""
            },
            "colorscale": [
             [
              0,
              "#0d0887"
             ],
             [
              0.1111111111111111,
              "#46039f"
             ],
             [
              0.2222222222222222,
              "#7201a8"
             ],
             [
              0.3333333333333333,
              "#9c179e"
             ],
             [
              0.4444444444444444,
              "#bd3786"
             ],
             [
              0.5555555555555556,
              "#d8576b"
             ],
             [
              0.6666666666666666,
              "#ed7953"
             ],
             [
              0.7777777777777778,
              "#fb9f3a"
             ],
             [
              0.8888888888888888,
              "#fdca26"
             ],
             [
              1,
              "#f0f921"
             ]
            ],
            "type": "heatmap"
           }
          ],
          "heatmapgl": [
           {
            "colorbar": {
             "outlinewidth": 0,
             "ticks": ""
            },
            "colorscale": [
             [
              0,
              "#0d0887"
             ],
             [
              0.1111111111111111,
              "#46039f"
             ],
             [
              0.2222222222222222,
              "#7201a8"
             ],
             [
              0.3333333333333333,
              "#9c179e"
             ],
             [
              0.4444444444444444,
              "#bd3786"
             ],
             [
              0.5555555555555556,
              "#d8576b"
             ],
             [
              0.6666666666666666,
              "#ed7953"
             ],
             [
              0.7777777777777778,
              "#fb9f3a"
             ],
             [
              0.8888888888888888,
              "#fdca26"
             ],
             [
              1,
              "#f0f921"
             ]
            ],
            "type": "heatmapgl"
           }
          ],
          "histogram": [
           {
            "marker": {
             "pattern": {
              "fillmode": "overlay",
              "size": 10,
              "solidity": 0.2
             }
            },
            "type": "histogram"
           }
          ],
          "histogram2d": [
           {
            "colorbar": {
             "outlinewidth": 0,
             "ticks": ""
            },
            "colorscale": [
             [
              0,
              "#0d0887"
             ],
             [
              0.1111111111111111,
              "#46039f"
             ],
             [
              0.2222222222222222,
              "#7201a8"
             ],
             [
              0.3333333333333333,
              "#9c179e"
             ],
             [
              0.4444444444444444,
              "#bd3786"
             ],
             [
              0.5555555555555556,
              "#d8576b"
             ],
             [
              0.6666666666666666,
              "#ed7953"
             ],
             [
              0.7777777777777778,
              "#fb9f3a"
             ],
             [
              0.8888888888888888,
              "#fdca26"
             ],
             [
              1,
              "#f0f921"
             ]
            ],
            "type": "histogram2d"
           }
          ],
          "histogram2dcontour": [
           {
            "colorbar": {
             "outlinewidth": 0,
             "ticks": ""
            },
            "colorscale": [
             [
              0,
              "#0d0887"
             ],
             [
              0.1111111111111111,
              "#46039f"
             ],
             [
              0.2222222222222222,
              "#7201a8"
             ],
             [
              0.3333333333333333,
              "#9c179e"
             ],
             [
              0.4444444444444444,
              "#bd3786"
             ],
             [
              0.5555555555555556,
              "#d8576b"
             ],
             [
              0.6666666666666666,
              "#ed7953"
             ],
             [
              0.7777777777777778,
              "#fb9f3a"
             ],
             [
              0.8888888888888888,
              "#fdca26"
             ],
             [
              1,
              "#f0f921"
             ]
            ],
            "type": "histogram2dcontour"
           }
          ],
          "mesh3d": [
           {
            "colorbar": {
             "outlinewidth": 0,
             "ticks": ""
            },
            "type": "mesh3d"
           }
          ],
          "parcoords": [
           {
            "line": {
             "colorbar": {
              "outlinewidth": 0,
              "ticks": ""
             }
            },
            "type": "parcoords"
           }
          ],
          "pie": [
           {
            "automargin": true,
            "type": "pie"
           }
          ],
          "scatter": [
           {
            "fillpattern": {
             "fillmode": "overlay",
             "size": 10,
             "solidity": 0.2
            },
            "type": "scatter"
           }
          ],
          "scatter3d": [
           {
            "line": {
             "colorbar": {
              "outlinewidth": 0,
              "ticks": ""
             }
            },
            "marker": {
             "colorbar": {
              "outlinewidth": 0,
              "ticks": ""
             }
            },
            "type": "scatter3d"
           }
          ],
          "scattercarpet": [
           {
            "marker": {
             "colorbar": {
              "outlinewidth": 0,
              "ticks": ""
             }
            },
            "type": "scattercarpet"
           }
          ],
          "scattergeo": [
           {
            "marker": {
             "colorbar": {
              "outlinewidth": 0,
              "ticks": ""
             }
            },
            "type": "scattergeo"
           }
          ],
          "scattergl": [
           {
            "marker": {
             "colorbar": {
              "outlinewidth": 0,
              "ticks": ""
             }
            },
            "type": "scattergl"
           }
          ],
          "scattermapbox": [
           {
            "marker": {
             "colorbar": {
              "outlinewidth": 0,
              "ticks": ""
             }
            },
            "type": "scattermapbox"
           }
          ],
          "scatterpolar": [
           {
            "marker": {
             "colorbar": {
              "outlinewidth": 0,
              "ticks": ""
             }
            },
            "type": "scatterpolar"
           }
          ],
          "scatterpolargl": [
           {
            "marker": {
             "colorbar": {
              "outlinewidth": 0,
              "ticks": ""
             }
            },
            "type": "scatterpolargl"
           }
          ],
          "scatterternary": [
           {
            "marker": {
             "colorbar": {
              "outlinewidth": 0,
              "ticks": ""
             }
            },
            "type": "scatterternary"
           }
          ],
          "surface": [
           {
            "colorbar": {
             "outlinewidth": 0,
             "ticks": ""
            },
            "colorscale": [
             [
              0,
              "#0d0887"
             ],
             [
              0.1111111111111111,
              "#46039f"
             ],
             [
              0.2222222222222222,
              "#7201a8"
             ],
             [
              0.3333333333333333,
              "#9c179e"
             ],
             [
              0.4444444444444444,
              "#bd3786"
             ],
             [
              0.5555555555555556,
              "#d8576b"
             ],
             [
              0.6666666666666666,
              "#ed7953"
             ],
             [
              0.7777777777777778,
              "#fb9f3a"
             ],
             [
              0.8888888888888888,
              "#fdca26"
             ],
             [
              1,
              "#f0f921"
             ]
            ],
            "type": "surface"
           }
          ],
          "table": [
           {
            "cells": {
             "fill": {
              "color": "#EBF0F8"
             },
             "line": {
              "color": "white"
             }
            },
            "header": {
             "fill": {
              "color": "#C8D4E3"
             },
             "line": {
              "color": "white"
             }
            },
            "type": "table"
           }
          ]
         },
         "layout": {
          "annotationdefaults": {
           "arrowcolor": "#2a3f5f",
           "arrowhead": 0,
           "arrowwidth": 1
          },
          "autotypenumbers": "strict",
          "coloraxis": {
           "colorbar": {
            "outlinewidth": 0,
            "ticks": ""
           }
          },
          "colorscale": {
           "diverging": [
            [
             0,
             "#8e0152"
            ],
            [
             0.1,
             "#c51b7d"
            ],
            [
             0.2,
             "#de77ae"
            ],
            [
             0.3,
             "#f1b6da"
            ],
            [
             0.4,
             "#fde0ef"
            ],
            [
             0.5,
             "#f7f7f7"
            ],
            [
             0.6,
             "#e6f5d0"
            ],
            [
             0.7,
             "#b8e186"
            ],
            [
             0.8,
             "#7fbc41"
            ],
            [
             0.9,
             "#4d9221"
            ],
            [
             1,
             "#276419"
            ]
           ],
           "sequential": [
            [
             0,
             "#0d0887"
            ],
            [
             0.1111111111111111,
             "#46039f"
            ],
            [
             0.2222222222222222,
             "#7201a8"
            ],
            [
             0.3333333333333333,
             "#9c179e"
            ],
            [
             0.4444444444444444,
             "#bd3786"
            ],
            [
             0.5555555555555556,
             "#d8576b"
            ],
            [
             0.6666666666666666,
             "#ed7953"
            ],
            [
             0.7777777777777778,
             "#fb9f3a"
            ],
            [
             0.8888888888888888,
             "#fdca26"
            ],
            [
             1,
             "#f0f921"
            ]
           ],
           "sequentialminus": [
            [
             0,
             "#0d0887"
            ],
            [
             0.1111111111111111,
             "#46039f"
            ],
            [
             0.2222222222222222,
             "#7201a8"
            ],
            [
             0.3333333333333333,
             "#9c179e"
            ],
            [
             0.4444444444444444,
             "#bd3786"
            ],
            [
             0.5555555555555556,
             "#d8576b"
            ],
            [
             0.6666666666666666,
             "#ed7953"
            ],
            [
             0.7777777777777778,
             "#fb9f3a"
            ],
            [
             0.8888888888888888,
             "#fdca26"
            ],
            [
             1,
             "#f0f921"
            ]
           ]
          },
          "colorway": [
           "#636efa",
           "#EF553B",
           "#00cc96",
           "#ab63fa",
           "#FFA15A",
           "#19d3f3",
           "#FF6692",
           "#B6E880",
           "#FF97FF",
           "#FECB52"
          ],
          "font": {
           "color": "#2a3f5f"
          },
          "geo": {
           "bgcolor": "white",
           "lakecolor": "white",
           "landcolor": "#E5ECF6",
           "showlakes": true,
           "showland": true,
           "subunitcolor": "white"
          },
          "hoverlabel": {
           "align": "left"
          },
          "hovermode": "closest",
          "mapbox": {
           "style": "light"
          },
          "paper_bgcolor": "white",
          "plot_bgcolor": "#E5ECF6",
          "polar": {
           "angularaxis": {
            "gridcolor": "white",
            "linecolor": "white",
            "ticks": ""
           },
           "bgcolor": "#E5ECF6",
           "radialaxis": {
            "gridcolor": "white",
            "linecolor": "white",
            "ticks": ""
           }
          },
          "scene": {
           "xaxis": {
            "backgroundcolor": "#E5ECF6",
            "gridcolor": "white",
            "gridwidth": 2,
            "linecolor": "white",
            "showbackground": true,
            "ticks": "",
            "zerolinecolor": "white"
           },
           "yaxis": {
            "backgroundcolor": "#E5ECF6",
            "gridcolor": "white",
            "gridwidth": 2,
            "linecolor": "white",
            "showbackground": true,
            "ticks": "",
            "zerolinecolor": "white"
           },
           "zaxis": {
            "backgroundcolor": "#E5ECF6",
            "gridcolor": "white",
            "gridwidth": 2,
            "linecolor": "white",
            "showbackground": true,
            "ticks": "",
            "zerolinecolor": "white"
           }
          },
          "shapedefaults": {
           "line": {
            "color": "#2a3f5f"
           }
          },
          "ternary": {
           "aaxis": {
            "gridcolor": "white",
            "linecolor": "white",
            "ticks": ""
           },
           "baxis": {
            "gridcolor": "white",
            "linecolor": "white",
            "ticks": ""
           },
           "bgcolor": "#E5ECF6",
           "caxis": {
            "gridcolor": "white",
            "linecolor": "white",
            "ticks": ""
           }
          },
          "title": {
           "x": 0.05
          },
          "xaxis": {
           "automargin": true,
           "gridcolor": "white",
           "linecolor": "white",
           "ticks": "",
           "title": {
            "standoff": 15
           },
           "zerolinecolor": "white",
           "zerolinewidth": 2
          },
          "yaxis": {
           "automargin": true,
           "gridcolor": "white",
           "linecolor": "white",
           "ticks": "",
           "title": {
            "standoff": 15
           },
           "zerolinecolor": "white",
           "zerolinewidth": 2
          }
         }
        },
        "xaxis": {
         "rangeslider": {
          "visible": false
         }
        }
       }
      }
     },
     "metadata": {},
     "output_type": "display_data"
    },
    {
     "name": "stdout",
     "output_type": "stream",
     "text": [
      "linea superior. X: [710. 719. 720. 735.] - y: [0.58649231 0.58517692 0.58503077 0.58283846]\n",
      "linea inferior. X: [708. 716. 731.] - y: [0.5764    0.5813    0.5904875]\n"
     ]
    }
   ],
   "source": [
    "md.dibuja_patrones_triangulos (data,726) "
   ]
  }
 ],
 "metadata": {
  "kernelspec": {
   "display_name": "Python 3 (ipykernel)",
   "language": "python",
   "name": "python3"
  },
  "language_info": {
   "codemirror_mode": {
    "name": "ipython",
    "version": 3
   },
   "file_extension": ".py",
   "mimetype": "text/x-python",
   "name": "python",
   "nbconvert_exporter": "python",
   "pygments_lexer": "ipython3",
   "version": "3.10.11"
  }
 },
 "nbformat": 4,
 "nbformat_minor": 5
}
