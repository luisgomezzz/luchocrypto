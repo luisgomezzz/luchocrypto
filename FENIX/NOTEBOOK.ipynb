{
 "cells": [
  {
   "cell_type": "code",
   "execution_count": 1,
   "id": "cd995f0a",
   "metadata": {},
   "outputs": [
    {
     "name": "stderr",
     "output_type": "stream",
     "text": [
      "C:\\Users\\Luis Gomez Freites\\AppData\\Local\\Packages\\PythonSoftwareFoundation.Python.3.10_qbz5n2kfra8p0\\LocalCache\\local-packages\\Python310\\site-packages\\tqdm\\auto.py:22: TqdmWarning: IProgress not found. Please update jupyter and ipywidgets. See https://ipywidgets.readthedocs.io/en/stable/user_install.html\n",
      "  from .autonotebook import tqdm as notebook_tqdm\n"
     ]
    },
    {
     "name": "stdout",
     "output_type": "stream",
     "text": [
      "EOSUSDT - retorno: 7.04% - trades: 9 - Profit Factor: 3.019326425427629\n",
      "XLMUSDT - retorno: 0.07% - trades: 3 - Profit Factor: 2.3752330599136346\n",
      "ADAUSDT - retorno: 0.52% - trades: 3 - Profit Factor: 22.261324239549523\n",
      "ONTUSDT - retorno: 1.4% - trades: 9 - Profit Factor: 3.0490280382006505\n",
      "BATUSDT - retorno: 0.21% - trades: 6 - Profit Factor: 2.312095713089259\n",
      "VETUSDT - retorno: 0.0% - trades: 4 - Profit Factor: 1.4390443699482742\n",
      "THETAUSDT - retorno: 5.72% - trades: 6 - Profit Factor: 18.156705779613535\n",
      "KNCUSDT - retorno: 0.33% - trades: 3 - Profit Factor: 4.842732323884824\n",
      "ZRXUSDT - retorno: 0.62% - trades: 8 - Profit Factor: 1.8353052294471581\n",
      "OMGUSDT - retorno: 8.8% - trades: 12 - Profit Factor: 3.38109959352942\n",
      "SXPUSDT - retorno: 2.04% - trades: 12 - Profit Factor: 1.6322992572603674\n",
      "KAVAUSDT - retorno: 4.0% - trades: 3 - Profit Factor: 10.888840858306583\n"
     ]
    },
    {
     "name": "stderr",
     "output_type": "stream",
     "text": [
      "c:\\LUCHO\\personal\\repopersonal\\luchocrypto\\FENIX\\modulos.py:313: UserWarning: Some prices are larger than initial cash value. Note that fractional trading is not supported. If you want to trade Bitcoin, increase initial cash, or trade μBTC or satoshis instead (GH-134).\n",
      "  bt = Backtest(data, Fenix, cash=1000)\n",
      "c:\\LUCHO\\personal\\repopersonal\\luchocrypto\\FENIX\\modulos.py:313: UserWarning: Some prices are larger than initial cash value. Note that fractional trading is not supported. If you want to trade Bitcoin, increase initial cash, or trade μBTC or satoshis instead (GH-134).\n",
      "  bt = Backtest(data, Fenix, cash=1000)\n"
     ]
    },
    {
     "name": "stdout",
     "output_type": "stream",
     "text": [
      "CRVUSDT - retorno: 2.79% - trades: 2 - Profit Factor: 21.42167182662497\n",
      "SUSHIUSDT - retorno: 2.26% - trades: 4 - Profit Factor: 7.121637183688029\n",
      "SRMUSDT - retorno: 2.15% - trades: 29 - Profit Factor: 1.2337344898005338\n",
      "ICXUSDT - retorno: 0.93% - trades: 7 - Profit Factor: 3.509649852791322\n",
      "STORJUSDT - retorno: 13.41% - trades: 23 - Profit Factor: 2.2304980741493874\n",
      "BLZUSDT - retorno: 0.13% - trades: 10 - Profit Factor: 1.658257532192405\n",
      "FLMUSDT - retorno: 0.44% - trades: 10 - Profit Factor: 2.8552210150021846\n",
      "TOMOUSDT - retorno: 13.4% - trades: 6 - Profit Factor: 7.799918675423329\n",
      "RENUSDT - retorno: 0.06% - trades: 5 - Profit Factor: 2.73467695661623\n",
      "MATICUSDT - retorno: 3.92% - trades: 5 - Profit Factor: nan\n",
      "BELUSDT - retorno: 2.31% - trades: 12 - Profit Factor: 1.3914755480001564\n",
      "ALPHAUSDT - retorno: 0.17% - trades: 3 - Profit Factor: 8.794467603748465\n",
      "SKLUSDT - retorno: 0.02% - trades: 7 - Profit Factor: 1.4624078668495544\n",
      "GRTUSDT - retorno: 1.32% - trades: 12 - Profit Factor: 1.9916790732424126\n",
      "SANDUSDT - retorno: 2.69% - trades: 5 - Profit Factor: nan\n",
      "LITUSDT - retorno: 1.99% - trades: 3 - Profit Factor: nan\n",
      "REEFUSDT - retorno: 0.0% - trades: 3 - Profit Factor: 1.6715861741859692\n",
      "COTIUSDT - retorno: 0.06% - trades: 4 - Profit Factor: 4.445410469524692\n",
      "CHRUSDT - retorno: 0.52% - trades: 3 - Profit Factor: 23.085433873164057\n",
      "MANAUSDT - retorno: 1.71% - trades: 6 - Profit Factor: 3.3642332782867346\n",
      "DENTUSDT - retorno: 0.0% - trades: 4 - Profit Factor: 7.838642067498773\n",
      "CELRUSDT - retorno: 0.01% - trades: 6 - Profit Factor: 4.627702870063464\n",
      "SCUSDT - retorno: 0.01% - trades: 15 - Profit Factor: 1.4811554303370988\n",
      "DGBUSDT - retorno: 0.07% - trades: 14 - Profit Factor: 1.6916696071125272\n",
      "IOTXUSDT - retorno: 0.08% - trades: 4 - Profit Factor: 6.200589619374557\n",
      "AUDIOUSDT - retorno: 1.48% - trades: 3 - Profit Factor: 412.6468739942942\n",
      "RAYUSDT - retorno: 2.43% - trades: 5 - Profit Factor: 8.148550576252156\n",
      "CTSIUSDT - retorno: 0.77% - trades: 7 - Profit Factor: 2.8653183221451637\n",
      "PEOPLEUSDT - retorno: 0.07% - trades: 5 - Profit Factor: 13.875766891327437\n",
      "FLOWUSDT - retorno: 8.43% - trades: 14 - Profit Factor: 1.9145449037553421\n",
      "WOOUSDT - retorno: 1.37% - trades: 12 - Profit Factor: 2.045469507909435\n",
      "DARUSDT - retorno: 0.84% - trades: 7 - Profit Factor: 3.9836925722734025\n",
      "STGUSDT - retorno: 2.0% - trades: 3 - Profit Factor: 2.533496073306726\n",
      "SPELLUSDT - retorno: 0.0% - trades: 6 - Profit Factor: 1.640401963370672\n",
      "MAGICUSDT - retorno: 1.99% - trades: 4 - Profit Factor: 4.123975105244968\n",
      "TUSDT - retorno: 0.04% - trades: 8 - Profit Factor: 1.7254685253448427\n",
      "PHBUSDT - retorno: 1.3% - trades: 9 - Profit Factor: 1.3977952949579795\n",
      "CFXUSDT - retorno: 0.83% - trades: 7 - Profit Factor: 3.005568330390752\n",
      "STXUSDT - retorno: 3.94% - trades: 5 - Profit Factor: 11.123502241596304\n",
      "ACHUSDT - retorno: 0.08% - trades: 5 - Profit Factor: 7.564828449242589\n",
      "CKBUSDT - retorno: 0.0% - trades: 2 - Profit Factor: 2.5185801393728333\n",
      "TRUUSDT - retorno: 0.29% - trades: 4 - Profit Factor: 520.2744574512128\n",
      "LQTYUSDT - retorno: 5.46% - trades: 3 - Profit Factor: 5.538667404213557\n",
      "AMBUSDT - retorno: 0.03% - trades: 9 - Profit Factor: 3.017990789312802\n",
      "RDNTUSDT - retorno: 0.24% - trades: 5 - Profit Factor: 3.245317739753529\n",
      "IDEXUSDT - retorno: 0.25% - trades: 5 - Profit Factor: 4.550143053969664\n",
      "SUIUSDT - retorno: 3.96% - trades: 5 - Profit Factor: 5.287665437399518\n",
      "KEYUSDT - retorno: 0.01% - trades: 2 - Profit Factor: 27.59791892217276\n",
      "COMBOUSDT - retorno: 9.36% - trades: 5 - Profit Factor: 443.931877876723\n",
      "MAVUSDT - retorno: 7.29% - trades: 17 - Profit Factor: 1.7217394310289047\n",
      "MDTUSDT - retorno: 0.51% - trades: 23 - Profit Factor: 1.1769780897958446\n"
     ]
    }
   ],
   "source": [
    "###################################### FILTRADO DE MONEDAS PARA ESTRATEGIA SANTAAAAAA\n",
    "###################################################################################################################\n",
    "import modulos as md\n",
    "import numpy as np\n",
    "lista=['XVGUSDT']\n",
    "lista=md.lista_de_monedas()\n",
    "for symbol in lista:\n",
    "    try:\n",
    "        data = md.estrategia_santa(symbol, tp_flag = False)\n",
    "        resultado = md.backtesting(data, plot_flag = False)\n",
    "        if resultado['Profit Factor']>1 or resultado[6] >= 1:\n",
    "        #if resultado[17]>0:\n",
    "            print(f\"{symbol} - retorno: {md.truncate(resultado[6],2)}% - trades: {resultado[17]} - Profit Factor: {resultado['Profit Factor']}\")\n",
    "    except Exception as falla:\n",
    "        pass"
   ]
  },
  {
   "cell_type": "code",
   "execution_count": 1,
   "id": "2d7ba37d",
   "metadata": {},
   "outputs": [
    {
     "name": "stderr",
     "output_type": "stream",
     "text": [
      "C:\\Users\\Luis Gomez Freites\\AppData\\Local\\Packages\\PythonSoftwareFoundation.Python.3.10_qbz5n2kfra8p0\\LocalCache\\local-packages\\Python310\\site-packages\\tqdm\\auto.py:22: TqdmWarning: IProgress not found. Please update jupyter and ipywidgets. See https://ipywidgets.readthedocs.io/en/stable/user_install.html\n",
      "  from .autonotebook import tqdm as notebook_tqdm\n"
     ]
    },
    {
     "name": "stdout",
     "output_type": "stream",
     "text": [
      "BATUSDT - retorno: 2.28% - trades: 7 - Profit Factor: 4.08\n"
     ]
    },
    {
     "name": "stderr",
     "output_type": "stream",
     "text": [
      "c:\\LUCHO\\personal\\repopersonal\\luchocrypto\\FENIX\\modulos.py:313: UserWarning: Some prices are larger than initial cash value. Note that fractional trading is not supported. If you want to trade Bitcoin, increase initial cash, or trade μBTC or satoshis instead (GH-134).\n",
      "  bt = Backtest(data, Fenix, cash=1000)\n",
      "c:\\LUCHO\\personal\\repopersonal\\luchocrypto\\FENIX\\modulos.py:313: UserWarning: Some prices are larger than initial cash value. Note that fractional trading is not supported. If you want to trade Bitcoin, increase initial cash, or trade μBTC or satoshis instead (GH-134).\n",
      "  bt = Backtest(data, Fenix, cash=1000)\n"
     ]
    },
    {
     "name": "stdout",
     "output_type": "stream",
     "text": [
      "RUNEUSDT - retorno: 4.84% - trades: 6 - Profit Factor: 2.86\n",
      "SRMUSDT - retorno: 2.68% - trades: 5 - Profit Factor: 1.9\n",
      "FTMUSDT - retorno: 4.89% - trades: 8 - Profit Factor: 3.6\n",
      "ENJUSDT - retorno: 3.57% - trades: 7 - Profit Factor: 5.46\n",
      "OCEANUSDT - retorno: 4.5% - trades: 11 - Profit Factor: 2.91\n",
      "BELUSDT - retorno: 4.65% - trades: 6 - Profit Factor: 2.74\n",
      "CTKUSDT - retorno: 5.21% - trades: 9 - Profit Factor: 3.09\n",
      "MINAUSDT - retorno: 8.56% - trades: 11 - Profit Factor: 4.12\n",
      "PHBUSDT - retorno: 3.14% - trades: 8 - Profit Factor: 1.61\n",
      "SUIUSDT - retorno: 4.35% - trades: 11 - Profit Factor: 1.64\n",
      "COMBOUSDT - retorno: 5.01% - trades: 8 - Profit Factor: 1.96\n"
     ]
    }
   ],
   "source": [
    "###################################### FILTRADO DE MONEDAS PARA ESTRATEGIA BB\n",
    "###################################################################################################################\n",
    "\n",
    "import modulos as md\n",
    "import numpy as np\n",
    "lista=['XTZUSDT']\n",
    "lista=md.lista_de_monedas()\n",
    "for symbol in lista:\n",
    "    try:\n",
    "        data = md.estrategia_bb(symbol, tp_flag = True)\n",
    "        resultado = md.backtesting(data, plot_flag = False)\n",
    "        if resultado['Profit Factor'] > 1 and resultado[6]/resultado[17] >=0.3:\n",
    "            print(f\"{symbol} - retorno: {md.truncate(resultado[6],2)}% - trades: {resultado[17]} - Profit Factor: {md.truncate(resultado['Profit Factor'],2)}\")\n",
    "    except Exception as falla:\n",
    "        pass"
   ]
  }
 ],
 "metadata": {
  "kernelspec": {
   "display_name": "Python 3 (ipykernel)",
   "language": "python",
   "name": "python3"
  },
  "language_info": {
   "codemirror_mode": {
    "name": "ipython",
    "version": 3
   },
   "file_extension": ".py",
   "mimetype": "text/x-python",
   "name": "python",
   "nbconvert_exporter": "python",
   "pygments_lexer": "ipython3",
   "version": "3.10.11"
  }
 },
 "nbformat": 4,
 "nbformat_minor": 5
}
