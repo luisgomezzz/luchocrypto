{
 "cells": [
  {
   "cell_type": "code",
   "execution_count": 1,
   "id": "b29811c3",
   "metadata": {
    "scrolled": false
   },
   "outputs": [
    {
     "name": "stderr",
     "output_type": "stream",
     "text": [
      "C:\\Users\\Luis Gomez Freites\\AppData\\Local\\Packages\\PythonSoftwareFoundation.Python.3.10_qbz5n2kfra8p0\\LocalCache\\local-packages\\Python310\\site-packages\\tqdm\\auto.py:22: TqdmWarning: IProgress not found. Please update jupyter and ipywidgets. See https://ipywidgets.readthedocs.io/en/stable/user_install.html\n",
      "  from .autonotebook import tqdm as notebook_tqdm\n"
     ]
    },
    {
     "name": "stdout",
     "output_type": "stream",
     "text": [
      "EOSUSDT - retorno: 4.13% - trades: 6\n",
      "XLMUSDT - retorno: 1.76% - trades: 5\n",
      "XTZUSDT - retorno: 2.32% - trades: 7\n",
      "THETAUSDT - retorno: 7.37% - trades: 7\n",
      "ZRXUSDT - retorno: 2.16% - trades: 5\n",
      "\n",
      "Error: APIError(code=-1121): Invalid symbol. - line: 230 - file: modulos.py - par: DEFIUSDT\n",
      "\n"
     ]
    },
    {
     "name": "stderr",
     "output_type": "stream",
     "text": [
      "c:\\LUCHO\\personal\\repopersonal\\luchocrypto\\FENIX\\modulos.py:304: UserWarning: Some prices are larger than initial cash value. Note that fractional trading is not supported. If you want to trade Bitcoin, increase initial cash, or trade μBTC or satoshis instead (GH-134).\n",
      "  bt = Backtest(data, Fenix, cash=1000)\n"
     ]
    },
    {
     "name": "stdout",
     "output_type": "stream",
     "text": [
      "RUNEUSDT - retorno: 13.52% - trades: 7\n",
      "SUSHIUSDT - retorno: 7.84% - trades: 7\n",
      "SRMUSDT - retorno: 2.25% - trades: 5\n",
      "STORJUSDT - retorno: 5.66% - trades: 6\n",
      "ENJUSDT - retorno: 4.02% - trades: 4\n",
      "CTKUSDT - retorno: 2.12% - trades: 5\n",
      "1INCHUSDT - retorno: 2.37% - trades: 8\n",
      "MANAUSDT - retorno: 1.91% - trades: 14\n",
      "ALICEUSDT - retorno: 2.43% - trades: 12\n",
      "\n",
      "Error: APIError(code=-1121): Invalid symbol. - line: 230 - file: modulos.py - par: 1000SHIBUSDT\n",
      "\n",
      "\n",
      "Error: APIError(code=-1121): Invalid symbol. - line: 230 - file: modulos.py - par: BTCDOMUSDT\n",
      "\n",
      "\n",
      "Error: APIError(code=-1121): Invalid symbol. - line: 230 - file: modulos.py - par: 1000XECUSDT\n",
      "\n",
      "CELOUSDT - retorno: 4.64% - trades: 5\n",
      "\n",
      "Error: APIError(code=-1121): Invalid symbol. - line: 230 - file: modulos.py - par: FOOTBALLUSDT\n",
      "\n",
      "\n",
      "Error: APIError(code=-1121): Invalid symbol. - line: 230 - file: modulos.py - par: 1000LUNCUSDT\n",
      "\n",
      "\n",
      "Error: APIError(code=-1121): Invalid symbol. - line: 230 - file: modulos.py - par: LUNA2USDT\n",
      "\n",
      "\n",
      "Error: APIError(code=-1121): Invalid symbol. - line: 230 - file: modulos.py - par: BLUEBIRDUSDT\n",
      "\n",
      "MINAUSDT - retorno: 4.15% - trades: 4\n",
      "BNXUSDT - retorno: 4.05% - trades: 4\n",
      "LQTYUSDT - retorno: 1.64% - trades: 7\n",
      "\n",
      "Error: APIError(code=-1121): Invalid symbol. - line: 230 - file: modulos.py - par: BLURUSDT\n",
      "\n",
      "SUIUSDT - retorno: 6.25% - trades: 5\n",
      "\n",
      "Error: APIError(code=-1121): Invalid symbol. - line: 230 - file: modulos.py - par: 1000PEPEUSDT\n",
      "\n",
      "\n",
      "Error: APIError(code=-1121): Invalid symbol. - line: 230 - file: modulos.py - par: 1000FLOKIUSDT\n",
      "\n",
      "COMBOUSDT - retorno: 11.44% - trades: 1\n"
     ]
    }
   ],
   "source": [
    "import modulos as md\n",
    "import sys\n",
    "import os\n",
    "import constantes as cons\n",
    "import numpy as np \n",
    "import pandas as pd\n",
    "symbol='STXUSDT'\n",
    "\n",
    "lista=md.lista_de_monedas()\n",
    "for symbol in lista:\n",
    "    try:\n",
    "        data = md.obtiene_historial(symbol)\n",
    "        data = md.estrategia_bb(data)\n",
    "        resultado = md.backtesting(data)\n",
    "        if resultado[6]>1.5:\n",
    "            print(f\"{symbol} - retorno: {md.truncate(resultado[6],2)}% - trades: {resultado[17]}\")\n",
    "    except Exception as falla:\n",
    "        pass  \n"
   ]
  },
  {
   "cell_type": "code",
   "execution_count": null,
   "id": "689b0434",
   "metadata": {},
   "outputs": [],
   "source": []
  }
 ],
 "metadata": {
  "kernelspec": {
   "display_name": "Python 3 (ipykernel)",
   "language": "python",
   "name": "python3"
  },
  "language_info": {
   "codemirror_mode": {
    "name": "ipython",
    "version": 3
   },
   "file_extension": ".py",
   "mimetype": "text/x-python",
   "name": "python",
   "nbconvert_exporter": "python",
   "pygments_lexer": "ipython3",
   "version": "3.10.11"
  }
 },
 "nbformat": 4,
 "nbformat_minor": 5
}
