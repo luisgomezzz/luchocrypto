{
 "cells": [
  {
   "cell_type": "code",
   "execution_count": 1,
   "id": "cd995f0a",
   "metadata": {},
   "outputs": [
    {
     "name": "stderr",
     "output_type": "stream",
     "text": [
      "C:\\Users\\Luis Gomez Freites\\AppData\\Local\\Packages\\PythonSoftwareFoundation.Python.3.10_qbz5n2kfra8p0\\LocalCache\\local-packages\\Python310\\site-packages\\tqdm\\auto.py:22: TqdmWarning: IProgress not found. Please update jupyter and ipywidgets. See https://ipywidgets.readthedocs.io/en/stable/user_install.html\n",
      "  from .autonotebook import tqdm as notebook_tqdm\n"
     ]
    },
    {
     "name": "stdout",
     "output_type": "stream",
     "text": [
      "XVGUSDT - retorno: 0.0% - trades: 4 - Profit Factor: 1.1762833492081521\n"
     ]
    }
   ],
   "source": [
    "import modulos as md\n",
    "import numpy as np\n",
    "lista=['XVGUSDT']\n",
    "#lista=md.lista_de_monedas()\n",
    "for symbol in lista:\n",
    "    try:\n",
    "        data = md.estrategia_santa(symbol, tp_flag = False)\n",
    "        resultado = md.backtesting(data, plot_flag = False)\n",
    "        if resultado['Profit Factor']>1 or resultado[6] > 0.01:# and resultado[6]/resultado[17] >=0.5:\n",
    "            print(f\"{symbol} - retorno: {md.truncate(resultado[6],2)}% - trades: {resultado[17]} - Profit Factor: {resultado['Profit Factor']}\")\n",
    "    except Exception as falla:\n",
    "        pass"
   ]
  },
  {
   "cell_type": "code",
   "execution_count": 10,
   "id": "2d7ba37d",
   "metadata": {},
   "outputs": [
    {
     "data": {
      "text/plain": [
       "Start                     2022-11-27 10:20:00\n",
       "End                       2022-11-28 02:59:00\n",
       "Duration                      0 days 16:39:00\n",
       "Exposure Time [%]                         0.9\n",
       "Equity Final [$]                    1010.1245\n",
       "Equity Peak [$]                    1011.09065\n",
       "Return [%]                            1.01245\n",
       "Buy & Hold Return [%]               -5.263566\n",
       "Return (Ann.) [%]                    9.532781\n",
       "Volatility (Ann.) [%]                     NaN\n",
       "Sharpe Ratio                              NaN\n",
       "Sortino Ratio                             inf\n",
       "Calmar Ratio                         61.41654\n",
       "Max. Drawdown [%]                   -0.155215\n",
       "Avg. Drawdown [%]                   -0.125385\n",
       "Max. Drawdown Duration        0 days 02:23:00\n",
       "Avg. Drawdown Duration        0 days 01:46:00\n",
       "# Trades                                    2\n",
       "Win Rate [%]                            100.0\n",
       "Best Trade [%]                       3.459421\n",
       "Worst Trade [%]                      0.210569\n",
       "Avg. Trade [%]                       1.822038\n",
       "Max. Trade Duration           0 days 00:05:00\n",
       "Avg. Trade Duration           0 days 00:04:00\n",
       "Profit Factor                             NaN\n",
       "Expectancy [%]                       1.834995\n",
       "SQN                                  1.110532\n",
       "_strategy                               Fenix\n",
       "_equity_curve                             ...\n",
       "_trades                      Size  EntryBa...\n",
       "dtype: object"
      ]
     },
     "execution_count": 10,
     "metadata": {},
     "output_type": "execute_result"
    }
   ],
   "source": [
    "resultado"
   ]
  }
 ],
 "metadata": {
  "kernelspec": {
   "display_name": "Python 3 (ipykernel)",
   "language": "python",
   "name": "python3"
  },
  "language_info": {
   "codemirror_mode": {
    "name": "ipython",
    "version": 3
   },
   "file_extension": ".py",
   "mimetype": "text/x-python",
   "name": "python",
   "nbconvert_exporter": "python",
   "pygments_lexer": "ipython3",
   "version": "3.10.11"
  }
 },
 "nbformat": 4,
 "nbformat_minor": 5
}
