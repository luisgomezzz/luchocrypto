{
 "cells": [
  {
   "cell_type": "code",
   "execution_count": 1,
   "id": "b29811c3",
   "metadata": {
    "scrolled": false
   },
   "outputs": [
    {
     "name": "stderr",
     "output_type": "stream",
     "text": [
      "C:\\Users\\Luis Gomez Freites\\AppData\\Local\\Packages\\PythonSoftwareFoundation.Python.3.10_qbz5n2kfra8p0\\LocalCache\\local-packages\\Python310\\site-packages\\tqdm\\auto.py:22: TqdmWarning: IProgress not found. Please update jupyter and ipywidgets. See https://ipywidgets.readthedocs.io/en/stable/user_install.html\n",
      "  from .autonotebook import tqdm as notebook_tqdm\n"
     ]
    },
    {
     "name": "stdout",
     "output_type": "stream",
     "text": [
      "              product                                                url  \\\n",
      "0  Light in teh Attic  https://books.toscrape.com/catalogue/a-light-i...   \n",
      "1  Tipping the Velvet  https://books.toscrape.com/catalogue/tipping-t...   \n",
      "2       Sharp Objects  https://books.toscrape.com/catalogue/sharp-obj...   \n",
      "\n",
      "   alert_price  \n",
      "0           52  \n",
      "1           49  \n",
      "2           39  \n"
     ]
    },
    {
     "ename": "gaierror",
     "evalue": "[Errno 11001] getaddrinfo failed",
     "output_type": "error",
     "traceback": [
      "\u001b[1;31m---------------------------------------------------------------------------\u001b[0m",
      "\u001b[1;31mgaierror\u001b[0m                                  Traceback (most recent call last)",
      "Cell \u001b[1;32mIn[1], line 81\u001b[0m\n\u001b[0;32m     78\u001b[0m     \u001b[39mif\u001b[39;00m SEND_MAIL:\n\u001b[0;32m     79\u001b[0m         send_mail(df_updated)\n\u001b[1;32m---> 81\u001b[0m main()\n",
      "Cell \u001b[1;32mIn[1], line 79\u001b[0m, in \u001b[0;36mmain\u001b[1;34m()\u001b[0m\n\u001b[0;32m     77\u001b[0m     df_updated\u001b[39m.\u001b[39mto_csv(PRICES_CSV, index\u001b[39m=\u001b[39m\u001b[39mFalse\u001b[39;00m, mode\u001b[39m=\u001b[39m\u001b[39m\"\u001b[39m\u001b[39ma\u001b[39m\u001b[39m\"\u001b[39m)\n\u001b[0;32m     78\u001b[0m \u001b[39mif\u001b[39;00m SEND_MAIL:\n\u001b[1;32m---> 79\u001b[0m     send_mail(df_updated)\n",
      "Cell \u001b[1;32mIn[1], line 66\u001b[0m, in \u001b[0;36msend_mail\u001b[1;34m(df)\u001b[0m\n\u001b[0;32m     64\u001b[0m \u001b[39mdef\u001b[39;00m \u001b[39msend_mail\u001b[39m(df):\n\u001b[0;32m     65\u001b[0m     message_text \u001b[39m=\u001b[39m get_mail(df)\n\u001b[1;32m---> 66\u001b[0m     \u001b[39mwith\u001b[39;00m smtplib\u001b[39m.\u001b[39;49mSMTP(\u001b[39m\"\u001b[39;49m\u001b[39msmtp.server.address\u001b[39;49m\u001b[39m\"\u001b[39;49m, \u001b[39m587\u001b[39;49m) \u001b[39mas\u001b[39;00m smtp:\n\u001b[0;32m     67\u001b[0m         smtp\u001b[39m.\u001b[39mstarttls()\n\u001b[0;32m     68\u001b[0m         md\u001b[39m.\u001b[39msound()\n",
      "File \u001b[1;32mC:\\Program Files\\WindowsApps\\PythonSoftwareFoundation.Python.3.10_3.10.3056.0_x64__qbz5n2kfra8p0\\lib\\smtplib.py:255\u001b[0m, in \u001b[0;36mSMTP.__init__\u001b[1;34m(self, host, port, local_hostname, timeout, source_address)\u001b[0m\n\u001b[0;32m    252\u001b[0m \u001b[39mself\u001b[39m\u001b[39m.\u001b[39m_auth_challenge_count \u001b[39m=\u001b[39m \u001b[39m0\u001b[39m\n\u001b[0;32m    254\u001b[0m \u001b[39mif\u001b[39;00m host:\n\u001b[1;32m--> 255\u001b[0m     (code, msg) \u001b[39m=\u001b[39m \u001b[39mself\u001b[39;49m\u001b[39m.\u001b[39;49mconnect(host, port)\n\u001b[0;32m    256\u001b[0m     \u001b[39mif\u001b[39;00m code \u001b[39m!=\u001b[39m \u001b[39m220\u001b[39m:\n\u001b[0;32m    257\u001b[0m         \u001b[39mself\u001b[39m\u001b[39m.\u001b[39mclose()\n",
      "File \u001b[1;32mC:\\Program Files\\WindowsApps\\PythonSoftwareFoundation.Python.3.10_3.10.3056.0_x64__qbz5n2kfra8p0\\lib\\smtplib.py:341\u001b[0m, in \u001b[0;36mSMTP.connect\u001b[1;34m(self, host, port, source_address)\u001b[0m\n\u001b[0;32m    339\u001b[0m     port \u001b[39m=\u001b[39m \u001b[39mself\u001b[39m\u001b[39m.\u001b[39mdefault_port\n\u001b[0;32m    340\u001b[0m sys\u001b[39m.\u001b[39maudit(\u001b[39m\"\u001b[39m\u001b[39msmtplib.connect\u001b[39m\u001b[39m\"\u001b[39m, \u001b[39mself\u001b[39m, host, port)\n\u001b[1;32m--> 341\u001b[0m \u001b[39mself\u001b[39m\u001b[39m.\u001b[39msock \u001b[39m=\u001b[39m \u001b[39mself\u001b[39;49m\u001b[39m.\u001b[39;49m_get_socket(host, port, \u001b[39mself\u001b[39;49m\u001b[39m.\u001b[39;49mtimeout)\n\u001b[0;32m    342\u001b[0m \u001b[39mself\u001b[39m\u001b[39m.\u001b[39mfile \u001b[39m=\u001b[39m \u001b[39mNone\u001b[39;00m\n\u001b[0;32m    343\u001b[0m (code, msg) \u001b[39m=\u001b[39m \u001b[39mself\u001b[39m\u001b[39m.\u001b[39mgetreply()\n",
      "File \u001b[1;32mC:\\Program Files\\WindowsApps\\PythonSoftwareFoundation.Python.3.10_3.10.3056.0_x64__qbz5n2kfra8p0\\lib\\smtplib.py:312\u001b[0m, in \u001b[0;36mSMTP._get_socket\u001b[1;34m(self, host, port, timeout)\u001b[0m\n\u001b[0;32m    310\u001b[0m \u001b[39mif\u001b[39;00m \u001b[39mself\u001b[39m\u001b[39m.\u001b[39mdebuglevel \u001b[39m>\u001b[39m \u001b[39m0\u001b[39m:\n\u001b[0;32m    311\u001b[0m     \u001b[39mself\u001b[39m\u001b[39m.\u001b[39m_print_debug(\u001b[39m'\u001b[39m\u001b[39mconnect: to\u001b[39m\u001b[39m'\u001b[39m, (host, port), \u001b[39mself\u001b[39m\u001b[39m.\u001b[39msource_address)\n\u001b[1;32m--> 312\u001b[0m \u001b[39mreturn\u001b[39;00m socket\u001b[39m.\u001b[39;49mcreate_connection((host, port), timeout,\n\u001b[0;32m    313\u001b[0m                                 \u001b[39mself\u001b[39;49m\u001b[39m.\u001b[39;49msource_address)\n",
      "File \u001b[1;32mC:\\Program Files\\WindowsApps\\PythonSoftwareFoundation.Python.3.10_3.10.3056.0_x64__qbz5n2kfra8p0\\lib\\socket.py:824\u001b[0m, in \u001b[0;36mcreate_connection\u001b[1;34m(address, timeout, source_address)\u001b[0m\n\u001b[0;32m    822\u001b[0m host, port \u001b[39m=\u001b[39m address\n\u001b[0;32m    823\u001b[0m err \u001b[39m=\u001b[39m \u001b[39mNone\u001b[39;00m\n\u001b[1;32m--> 824\u001b[0m \u001b[39mfor\u001b[39;00m res \u001b[39min\u001b[39;00m getaddrinfo(host, port, \u001b[39m0\u001b[39;49m, SOCK_STREAM):\n\u001b[0;32m    825\u001b[0m     af, socktype, proto, canonname, sa \u001b[39m=\u001b[39m res\n\u001b[0;32m    826\u001b[0m     sock \u001b[39m=\u001b[39m \u001b[39mNone\u001b[39;00m\n",
      "File \u001b[1;32mC:\\Program Files\\WindowsApps\\PythonSoftwareFoundation.Python.3.10_3.10.3056.0_x64__qbz5n2kfra8p0\\lib\\socket.py:955\u001b[0m, in \u001b[0;36mgetaddrinfo\u001b[1;34m(host, port, family, type, proto, flags)\u001b[0m\n\u001b[0;32m    952\u001b[0m \u001b[39m# We override this function since we want to translate the numeric family\u001b[39;00m\n\u001b[0;32m    953\u001b[0m \u001b[39m# and socket type values to enum constants.\u001b[39;00m\n\u001b[0;32m    954\u001b[0m addrlist \u001b[39m=\u001b[39m []\n\u001b[1;32m--> 955\u001b[0m \u001b[39mfor\u001b[39;00m res \u001b[39min\u001b[39;00m _socket\u001b[39m.\u001b[39;49mgetaddrinfo(host, port, family, \u001b[39mtype\u001b[39;49m, proto, flags):\n\u001b[0;32m    956\u001b[0m     af, socktype, proto, canonname, sa \u001b[39m=\u001b[39m res\n\u001b[0;32m    957\u001b[0m     addrlist\u001b[39m.\u001b[39mappend((_intenum_converter(af, AddressFamily),\n\u001b[0;32m    958\u001b[0m                      _intenum_converter(socktype, SocketKind),\n\u001b[0;32m    959\u001b[0m                      proto, canonname, sa))\n",
      "\u001b[1;31mgaierror\u001b[0m: [Errno 11001] getaddrinfo failed"
     ]
    }
   ],
   "source": [
    "import modulos as md\n",
    "import numpy as np\n",
    "import pandas as pd\n",
    "import pandas_ta as pta\n",
    "\n",
    "'''\n",
    "symbol='SUIUSDT'\n",
    "lista=md.lista_de_monedas ()\n",
    "\n",
    "for symbol in lista:\n",
    "    try:\n",
    "        data = md.obtiene_historial(symbol)\n",
    "        data = md.estrategia_bb(data)\n",
    "        resultado = md.backtesting(data)\n",
    "        if float(resultado[4]) > 1015:\n",
    "            print(f\"{symbol} - {resultado[4]}\")\n",
    "    except:\n",
    "        pass        \n",
    "'''\n",
    "\n",
    "import smtplib\n",
    "import pandas as pd\n",
    "import requests\n",
    "from bs4 import BeautifulSoup\n",
    "from price_parser import Price\n",
    "import modulos as md\n",
    "import constantes as cons\n",
    "\n",
    "\n",
    "PRODUCT_URL_CSV = cons.pathroot+\"products.csv\"\n",
    "SAVE_TO_CSV = True\n",
    "PRICES_CSV = \"prices.csv\"\n",
    "SEND_MAIL = True\n",
    "\n",
    "def get_urls(csv_file):\n",
    "    df = pd.read_csv(csv_file)\n",
    "    return df\n",
    "\n",
    "def get_response(url):\n",
    "    response = requests.get(url)\n",
    "    return response.text\n",
    "\n",
    "def get_price(html):\n",
    "    soup = BeautifulSoup(html, \"lxml\")\n",
    "    el = soup.select_one(\".price_color\")\n",
    "    price = Price.fromstring(el.text)\n",
    "    return price.amount_float\n",
    "\n",
    "def process_products(df):\n",
    "    updated_products = []\n",
    "    for product in df.to_dict(\"records\"):\n",
    "        html = get_response(product[\"url\"])\n",
    "        product[\"price\"] = get_price(html)\n",
    "        product[\"alert\"] = product[\"price\"] < product[\"alert_price\"]\n",
    "        updated_products.append(product)\n",
    "    return pd.DataFrame(updated_products)\n",
    "\n",
    "def get_mail(df):\n",
    "    subject = \"Price Drop Alert\"\n",
    "    body = df[df[\"alert\"]].to_string()\n",
    "    subject_and_message = f\"Subject:{subject}\\n\\n{body}\"\n",
    "    return subject_and_message\n",
    "\n",
    "def send_mail(df):\n",
    "    message_text = get_mail(df)\n",
    "    with smtplib.SMTP(\"smtp.server.address\", 587) as smtp:\n",
    "        smtp.starttls()\n",
    "        md.sound()\n",
    "        #smtp.login(mail_user, mail_pass)\n",
    "        #smtp.sendmail(mail_user, mail_to, message_text)\n",
    "\n",
    "def main():\n",
    "    df = get_urls(PRODUCT_URL_CSV)\n",
    "    print(df)\n",
    "    df_updated = process_products(df)\n",
    "    if SAVE_TO_CSV:\n",
    "        df_updated.to_csv(PRICES_CSV, index=False, mode=\"a\")\n",
    "    if SEND_MAIL:\n",
    "        send_mail(df_updated)\n",
    "\n",
    "main()\n"
   ]
  },
  {
   "cell_type": "code",
   "execution_count": null,
   "id": "fd499369",
   "metadata": {},
   "outputs": [],
   "source": []
  }
 ],
 "metadata": {
  "kernelspec": {
   "display_name": "Python 3 (ipykernel)",
   "language": "python",
   "name": "python3"
  },
  "language_info": {
   "codemirror_mode": {
    "name": "ipython",
    "version": 3
   },
   "file_extension": ".py",
   "mimetype": "text/x-python",
   "name": "python",
   "nbconvert_exporter": "python",
   "pygments_lexer": "ipython3",
   "version": "3.10.11"
  }
 },
 "nbformat": 4,
 "nbformat_minor": 5
}
