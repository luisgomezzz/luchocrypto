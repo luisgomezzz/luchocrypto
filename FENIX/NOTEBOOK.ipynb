{
 "cells": [
  {
   "cell_type": "code",
   "execution_count": 6,
   "id": "2d7ba37d",
   "metadata": {},
   "outputs": [],
   "source": [
    "###################################### ESTRATEGIA BB\n",
    "###################################################################################################################\n",
    "import modulos as md\n",
    "import numpy as np\n",
    "import constantes as cons\n",
    "\n",
    "lista=['EOSUSDT',\n",
    "'ADAUSDT',\n",
    "'IOTAUSDT',\n",
    "'KNCUSDT',\n",
    "'ZRXUSDT',\n",
    "'OMGUSDT',\n",
    "'SXPUSDT',\n",
    "'ICXUSDT',\n",
    "'MATICUSDT',\n",
    "'OCEANUSDT',\n",
    "'BELUSDT',\n",
    "'CTKUSDT',\n",
    "'SANDUSDT',\n",
    "'MANAUSDT',\n",
    "'IMXUSDT',\n",
    "'WOOUSDT',\n",
    "'MAGICUSDT',\n",
    "'MINAUSDT',\n",
    "'AGIXUSDT',\n",
    "'IDUSDT',\n",
    "'RDNTUSDT',\n",
    "'SUIUSDT',\n",
    "'COMBOUSDT'\n",
    "]\n",
    "lista_filtrada = []\n",
    "\n",
    "#lista=md.lista_de_monedas ()\n",
    "lista=['XTZUSDT']\n",
    "\n",
    "for symbol in lista:    \n",
    "    try:\n",
    "        #data = md.sigo_variacion_bitcoin(symbol)\n",
    "        #data = md.estrategia_bb(symbol)\n",
    "        data = md.estrategia_santa(symbol,tp_flag=True)\n",
    "        resultado = md.backtesting(data, plot_flag = False)\n",
    "        if (\n",
    "            (resultado['Profit Factor'] > 2 or np.isnan(resultado['Profit Factor']))\n",
    "            and (resultado['Return [%]']/resultado['# Trades']) >=0.33 \n",
    "            ):\n",
    "            lista_filtrada.append(symbol)\n",
    "        print(f\"{symbol} - Return [%]: {md.truncate(resultado['Return [%]'],2)}% - # Trades: {resultado['# Trades']} - Profit Factor: {md.truncate(resultado['Profit Factor'],2)} - Win Rate [%]: {resultado['Win Rate [%]']}\")        \n",
    "    except Exception as falla:\n",
    "        pass\n",
    "for symbol in lista_filtrada:\n",
    "    md.printandlog(cons.nombrelog,symbol,pal=1)"
   ]
  },
  {
   "cell_type": "code",
   "execution_count": 7,
   "id": "dfdcf27c",
   "metadata": {},
   "outputs": [
    {
     "data": {
      "text/plain": [
       "Start                     2023-07-15 03:45:00\n",
       "End                       2023-07-25 13:30:00\n",
       "Duration                     10 days 09:45:00\n",
       "Exposure Time [%]                         1.2\n",
       "Equity Final [$]                     1010.565\n",
       "Equity Peak [$]                       1017.24\n",
       "Return [%]                             1.0565\n",
       "Buy & Hold Return [%]                 -6.9874\n",
       "Return (Ann.) [%]                    41.72622\n",
       "Volatility (Ann.) [%]                8.741527\n",
       "Sharpe Ratio                         4.773333\n",
       "Sortino Ratio                             inf\n",
       "Calmar Ratio                        63.588885\n",
       "Max. Drawdown [%]                   -0.656187\n",
       "Avg. Drawdown [%]                   -0.611558\n",
       "Max. Drawdown Duration        4 days 02:45:00\n",
       "Avg. Drawdown Duration        2 days 14:45:00\n",
       "# Trades                                    2\n",
       "Win Rate [%]                            100.0\n",
       "Best Trade [%]                        1.12404\n",
       "Worst Trade [%]                      0.039442\n",
       "Avg. Trade [%]                       0.580279\n",
       "Max. Trade Duration           0 days 02:00:00\n",
       "Avg. Trade Duration           0 days 01:15:00\n",
       "Profit Factor                             NaN\n",
       "Expectancy [%]                       0.581741\n",
       "SQN                                  1.065557\n",
       "_strategy                               Fenix\n",
       "_equity_curve                             ...\n",
       "_trades                      Size  EntryBa...\n",
       "dtype: object"
      ]
     },
     "execution_count": 7,
     "metadata": {},
     "output_type": "execute_result"
    }
   ],
   "source": [
    "resultado"
   ]
  }
 ],
 "metadata": {
  "kernelspec": {
   "display_name": "Python 3 (ipykernel)",
   "language": "python",
   "name": "python3"
  },
  "language_info": {
   "codemirror_mode": {
    "name": "ipython",
    "version": 3
   },
   "file_extension": ".py",
   "mimetype": "text/x-python",
   "name": "python",
   "nbconvert_exporter": "python",
   "pygments_lexer": "ipython3",
   "version": "3.10.11"
  }
 },
 "nbformat": 4,
 "nbformat_minor": 5
}
