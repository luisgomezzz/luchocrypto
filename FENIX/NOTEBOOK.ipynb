{
 "cells": [
  {
   "cell_type": "code",
   "execution_count": 1,
   "id": "b29811c3",
   "metadata": {
    "scrolled": false
   },
   "outputs": [
    {
     "name": "stderr",
     "output_type": "stream",
     "text": [
      "C:\\Users\\Luis Gomez Freites\\AppData\\Local\\Packages\\PythonSoftwareFoundation.Python.3.10_qbz5n2kfra8p0\\LocalCache\\local-packages\\Python310\\site-packages\\tqdm\\auto.py:22: TqdmWarning: IProgress not found. Please update jupyter and ipywidgets. See https://ipywidgets.readthedocs.io/en/stable/user_install.html\n",
      "  from .autonotebook import tqdm as notebook_tqdm\n"
     ]
    },
    {
     "name": "stdout",
     "output_type": "stream",
     "text": [
      "EOSUSDT - retorno: 6.43% - trades: 6\n",
      "XLMUSDT - retorno: 1.76% - trades: 5\n",
      "XTZUSDT - retorno: 2.82% - trades: 7\n",
      "IOTAUSDT - retorno: 1.54% - trades: 9\n",
      "BATUSDT - retorno: 1.89% - trades: 6\n",
      "THETAUSDT - retorno: 7.57% - trades: 7\n",
      "ZRXUSDT - retorno: 2.83% - trades: 5\n",
      "Falla leyendo...\n",
      "Symbol: DEFIUSDT - Error: 'NoneType' object has no attribute 'ema20' - line: 13 - file: 2244024983.py\n",
      "\n"
     ]
    },
    {
     "name": "stderr",
     "output_type": "stream",
     "text": [
      "c:\\LUCHO\\personal\\repopersonal\\luchocrypto\\FENIX\\modulos.py:302: UserWarning: Some prices are larger than initial cash value. Note that fractional trading is not supported. If you want to trade Bitcoin, increase initial cash, or trade μBTC or satoshis instead (GH-134).\n",
      "  bt = Backtest(data, Fenix, cash=1000)\n"
     ]
    },
    {
     "name": "stdout",
     "output_type": "stream",
     "text": [
      "RUNEUSDT - retorno: 1.51% - trades: 9\n",
      "SUSHIUSDT - retorno: 6.73% - trades: 9\n",
      "SRMUSDT - retorno: 2.25% - trades: 5\n",
      "STORJUSDT - retorno: 3.86% - trades: 6\n",
      "FTMUSDT - retorno: 1.82% - trades: 7\n",
      "ENJUSDT - retorno: 3.87% - trades: 7\n",
      "CTKUSDT - retorno: 1.92% - trades: 5\n",
      "1INCHUSDT - retorno: 2.46% - trades: 10\n",
      "MANAUSDT - retorno: 2.52% - trades: 15\n",
      "ALICEUSDT - retorno: 2.43% - trades: 12\n",
      "Falla leyendo...\n",
      "Symbol: 1000SHIBUSDT - Error: 'NoneType' object has no attribute 'ema20' - line: 13 - file: 2244024983.py\n",
      "\n",
      "Falla leyendo...\n",
      "Symbol: BTCDOMUSDT - Error: 'NoneType' object has no attribute 'ema20' - line: 13 - file: 2244024983.py\n",
      "\n",
      "Falla leyendo...\n",
      "Symbol: 1000XECUSDT - Error: 'NoneType' object has no attribute 'ema20' - line: 13 - file: 2244024983.py\n",
      "\n",
      "CELOUSDT - retorno: 3.73% - trades: 7\n",
      "Falla leyendo...\n",
      "Symbol: FOOTBALLUSDT - Error: 'NoneType' object has no attribute 'ema20' - line: 13 - file: 2244024983.py\n",
      "\n",
      "Falla leyendo...\n",
      "Symbol: 1000LUNCUSDT - Error: 'NoneType' object has no attribute 'ema20' - line: 13 - file: 2244024983.py\n",
      "\n",
      "Falla leyendo...\n",
      "Symbol: LUNA2USDT - Error: 'NoneType' object has no attribute 'ema20' - line: 13 - file: 2244024983.py\n",
      "\n",
      "Falla leyendo...\n",
      "Symbol: BLUEBIRDUSDT - Error: 'NoneType' object has no attribute 'ema20' - line: 13 - file: 2244024983.py\n",
      "\n",
      "MINAUSDT - retorno: 3.9% - trades: 5\n",
      "BNXUSDT - retorno: 2.37% - trades: 5\n",
      "LQTYUSDT - retorno: 1.64% - trades: 7\n",
      "Falla leyendo...\n",
      "Symbol: BLURUSDT - Error: 'NoneType' object has no attribute 'ema20' - line: 13 - file: 2244024983.py\n",
      "\n",
      "SUIUSDT - retorno: 6.25% - trades: 5\n",
      "Falla leyendo...\n",
      "Symbol: 1000PEPEUSDT - Error: 'NoneType' object has no attribute 'ema20' - line: 13 - file: 2244024983.py\n",
      "\n",
      "Falla leyendo...\n",
      "Symbol: 1000FLOKIUSDT - Error: 'NoneType' object has no attribute 'ema20' - line: 13 - file: 2244024983.py\n",
      "\n",
      "COMBOUSDT - retorno: 9.61% - trades: 2\n",
      "Falla leyendo...\n",
      "Symbol: MAVUSDT - Error: 'NoneType' object has no attribute 'ema20' - line: 13 - file: 2244024983.py\n",
      "\n"
     ]
    }
   ],
   "source": [
    "import modulos as md\n",
    "import sys\n",
    "import os\n",
    "import constantes as cons\n",
    "import numpy as np \n",
    "import pandas as pd\n",
    "symbol='STXUSDT'\n",
    "\n",
    "lista=md.lista_de_monedas()\n",
    "for symbol in lista:\n",
    "    try:\n",
    "        data = md.obtiene_historial(symbol)\n",
    "        data = md.estrategia_bb(data)\n",
    "        resultado = md.backtesting(data)\n",
    "        if resultado[6]>1.5:\n",
    "            print(f\"{symbol} - retorno: {md.truncate(resultado[6],2)}% - trades: {resultado[17]}\")\n",
    "    except Exception as falla:\n",
    "        _, _, exc_tb = sys.exc_info()\n",
    "        fname = os.path.split(exc_tb.tb_frame.f_code.co_filename)[1]\n",
    "        print(f\"Symbol: {symbol} - Error: {str(falla)} - line: {str(exc_tb.tb_lineno)} - file: {str(fname)}\\n\")\n",
    "        pass  \n"
   ]
  },
  {
   "cell_type": "code",
   "execution_count": null,
   "id": "29ee552b",
   "metadata": {},
   "outputs": [],
   "source": []
  }
 ],
 "metadata": {
  "kernelspec": {
   "display_name": "Python 3 (ipykernel)",
   "language": "python",
   "name": "python3"
  },
  "language_info": {
   "codemirror_mode": {
    "name": "ipython",
    "version": 3
   },
   "file_extension": ".py",
   "mimetype": "text/x-python",
   "name": "python",
   "nbconvert_exporter": "python",
   "pygments_lexer": "ipython3",
   "version": "3.10.11"
  }
 },
 "nbformat": 4,
 "nbformat_minor": 5
}
