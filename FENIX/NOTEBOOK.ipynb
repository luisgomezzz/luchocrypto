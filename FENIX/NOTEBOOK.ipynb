{
 "cells": [
  {
   "cell_type": "code",
   "execution_count": 2,
   "id": "644b19e1",
   "metadata": {},
   "outputs": [
    {
     "name": "stdout",
     "output_type": "stream",
     "text": [
      "['BTCUSDT', 'ETHUSDT', 'BCHUSDT', 'XRPUSDT', 'LTCUSDT', 'LINKUSDT', 'ADAUSDT', 'BNBUSDT', 'ZRXUSDT', 'DOGEUSDT', 'MKRUSDT', 'DOTUSDT', 'TRBUSDT', 'RUNEUSDT', 'SOLUSDT', 'STORJUSDT', 'AVAXUSDT', 'ENJUSDT', 'FILUSDT', 'MATICUSDT', 'COTIUSDT', '1000SHIBUSDT', 'BAKEUSDT', 'DYDXUSDT', 'GALAUSDT', 'APEUSDT', 'OPUSDT', 'LQTYUSDT', 'ARBUSDT', 'LEVERUSDT', '1000PEPEUSDT', 'WLDUSDT', 'BNTUSDT', 'ARKUSDT']\n",
      "BTCUSDT - Return [%]: 3.31% - # Trades: 4 - Profit Factor: 3.587390728491255 - Win Rate [%]: 50.0\n",
      "ETHUSDT - Return [%]: -0.08% - # Trades: 7 - Profit Factor: 0.9924625063120522 - Win Rate [%]: 14.285714285714285\n",
      "BCHUSDT - Return [%]: -3.83% - # Trades: 10 - Profit Factor: 0.5253216166905105 - Win Rate [%]: 10.0\n",
      "XRPUSDT - Return [%]: 1.96% - # Trades: 11 - Profit Factor: 1.5174145372985617 - Win Rate [%]: 18.181818181818183\n",
      "LTCUSDT - Return [%]: -3.07% - # Trades: 4 - Profit Factor: 0.0 - Win Rate [%]: 0.0\n",
      "LINKUSDT - Return [%]: 5.9% - # Trades: 2 - Profit Factor: 8.76553909806113 - Win Rate [%]: 50.0\n",
      "ADAUSDT - Return [%]: 1.12% - # Trades: 4 - Profit Factor: 1.5612856534841142 - Win Rate [%]: 25.0\n",
      "BNBUSDT - Return [%]: 0.56% - # Trades: 2 - Profit Factor: 1.9305469765064565 - Win Rate [%]: 50.0\n",
      "ZRXUSDT - Return [%]: 14.46% - # Trades: 10 - Profit Factor: 1.9975197910593225 - Win Rate [%]: 30.0\n",
      "DOGEUSDT - Return [%]: -0.51% - # Trades: 6 - Profit Factor: 0.8621899058506667 - Win Rate [%]: 16.666666666666664\n",
      "MKRUSDT - Return [%]: -2.85% - # Trades: 4 - Profit Factor: 0.0 - Win Rate [%]: 0.0\n",
      "DOTUSDT - Return [%]: -0.65% - # Trades: 5 - Profit Factor: 0.8356521634720444 - Win Rate [%]: 20.0\n",
      "TRBUSDT - Return [%]: 5.73% - # Trades: 2 - Profit Factor: 3.221680898077046 - Win Rate [%]: 50.0\n",
      "RUNEUSDT - Return [%]: -6.52% - # Trades: 5 - Profit Factor: 0.0 - Win Rate [%]: 0.0\n",
      "SOLUSDT - Return [%]: 0.0% - # Trades: 0 - Profit Factor: nan - Win Rate [%]: nan\n",
      "STORJUSDT - Return [%]: 11.07% - # Trades: 11 - Profit Factor: 2.2448988657457507 - Win Rate [%]: 18.181818181818183\n",
      "AVAXUSDT - Return [%]: -5.78% - # Trades: 3 - Profit Factor: 0.0 - Win Rate [%]: 0.0\n",
      "ENJUSDT - Return [%]: -5.83% - # Trades: 7 - Profit Factor: 0.10921082960580851 - Win Rate [%]: 14.285714285714285\n",
      "FILUSDT - Return [%]: -1.99% - # Trades: 3 - Profit Factor: 0.0 - Win Rate [%]: 0.0\n",
      "MATICUSDT - Return [%]: 9.4% - # Trades: 5 - Profit Factor: 3.677456962721552 - Win Rate [%]: 40.0\n",
      "COTIUSDT - Return [%]: 8.76% - # Trades: 3 - Profit Factor: 18.200625930339957 - Win Rate [%]: 66.66666666666666\n",
      "1000SHIBUSDT - Return [%]: -5.09% - # Trades: 8 - Profit Factor: 0.0 - Win Rate [%]: 0.0\n",
      "BAKEUSDT - Return [%]: 14.9% - # Trades: 7 - Profit Factor: 3.3411903182817753 - Win Rate [%]: 28.57142857142857\n",
      "DYDXUSDT - Return [%]: 0.08% - # Trades: 5 - Profit Factor: 1.0213646712373394 - Win Rate [%]: 20.0\n",
      "GALAUSDT - Return [%]: -6.25% - # Trades: 5 - Profit Factor: 0.0 - Win Rate [%]: 0.0\n",
      "APEUSDT - Return [%]: 9.46% - # Trades: 4 - Profit Factor: 6.851490159698879 - Win Rate [%]: 25.0\n",
      "OPUSDT - Return [%]: 3.52% - # Trades: 10 - Profit Factor: 1.4348092561191261 - Win Rate [%]: 20.0\n",
      "LQTYUSDT - Return [%]: 38.27% - # Trades: 5 - Profit Factor: 7.855846505723576 - Win Rate [%]: 60.0\n",
      "ARBUSDT - Return [%]: -0.04% - # Trades: 6 - Profit Factor: 1.277285405928522 - Win Rate [%]: 16.666666666666664\n",
      "LEVERUSDT - Return [%]: 1.99% - # Trades: 2 - Profit Factor: 2.165263157894738 - Win Rate [%]: 50.0\n",
      "1000PEPEUSDT - Return [%]: -2.31% - # Trades: 1 - Profit Factor: 0.0 - Win Rate [%]: 0.0\n",
      "WLDUSDT - Return [%]: 4.15% - # Trades: 5 - Profit Factor: 4.801188410318558 - Win Rate [%]: 40.0\n",
      "BNTUSDT - Return [%]: 2.26% - # Trades: 4 - Profit Factor: 1.603417538778185 - Win Rate [%]: 50.0\n",
      "ARKUSDT - Return [%]: 1.34% - # Trades: 5 - Profit Factor: 3.3976712172596333 - Win Rate [%]: 20.0\n"
     ]
    }
   ],
   "source": [
    "import modulos as md\n",
    "import numpy as np\n",
    "import os\n",
    "import sys\n",
    "import constantes as cons\n",
    "lista_filtrada = []\n",
    "#lista=md.filtradodemonedas ()\n",
    "lista = ['BTCUSDT','ETHUSDT','BCHUSDT','XRPUSDT','LTCUSDT','LINKUSDT','ADAUSDT','BNBUSDT','ZRXUSDT','DOGEUSDT','MKRUSDT','DOTUSDT','TRBUSDT','RUNEUSDT','SOLUSDT','STORJUSDT','AVAXUSDT','ENJUSDT','FILUSDT','MATICUSDT','COTIUSDT','1000SHIBUSDT','BAKEUSDT','DYDXUSDT','GALAUSDT','APEUSDT','OPUSDT','LQTYUSDT','ARBUSDT','LEVERUSDT','1000PEPEUSDT','WLDUSDT','BNTUSDT','ARKUSDT']\n",
    "#lista = ['ETHUSDT','LTCUSDT','ADAUSDT','DOTUSDT','FILUSDT','COTIUSDT'] #ELEGIDOS\n",
    "#lista = ['LQTYUSDT']\n",
    "\n",
    "if len(lista)>1:\n",
    "    imprimo=False\n",
    "    debug=False\n",
    "else:\n",
    "    imprimo= True\n",
    "    debug=True\n",
    "print(lista)\n",
    "for symbol in lista:    \n",
    "    try:\n",
    "        #print(symbol)\n",
    "        data = md.estrategia_royal(symbol, debug = False, refinado = False, file_source = False, timeframe = '1h')\n",
    "        resultado=md.backtesting_royal(data, plot_flag=imprimo, symbol=symbol)\n",
    "        if resultado['Win Rate [%]'] >= 50:\n",
    "            lista_filtrada.append(symbol)\n",
    "        print(f\"{symbol} - Return [%]: {md.truncate(resultado['Return [%]'],2)}% - # Trades: {resultado['# Trades']} - Profit Factor: {resultado['Profit Factor']} - Win Rate [%]: {resultado['Win Rate [%]']}\")\n",
    "    except Exception as falla:\n",
    "        _, _, exc_tb = sys.exc_info()\n",
    "        fname = os.path.split(exc_tb.tb_frame.f_code.co_filename)[1]\n",
    "        print(\"\\nError: \"+str(falla)+\" - line: \"+str(exc_tb.tb_lineno)+\" - file: \"+str(fname)+\"\\n\")\n",
    "        pass\n",
    "for symbol in lista_filtrada:\n",
    "    md.printandlog(cons.nombrelog,symbol,pal=1)\n",
    "#(data.loc[data['Open Time'] == '2023-10-03 03:00:00'])\n"
   ]
  }
 ],
 "metadata": {
  "kernelspec": {
   "display_name": "Python 3 (ipykernel)",
   "language": "python",
   "name": "python3"
  },
  "language_info": {
   "codemirror_mode": {
    "name": "ipython",
    "version": 3
   },
   "file_extension": ".py",
   "mimetype": "text/x-python",
   "name": "python",
   "nbconvert_exporter": "python",
   "pygments_lexer": "ipython3",
   "version": "3.10.11"
  }
 },
 "nbformat": 4,
 "nbformat_minor": 5
}
