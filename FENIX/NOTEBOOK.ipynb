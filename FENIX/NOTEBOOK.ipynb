{
 "cells": [
  {
   "cell_type": "code",
   "execution_count": 1,
   "id": "2d7ba37d",
   "metadata": {},
   "outputs": [
    {
     "name": "stderr",
     "output_type": "stream",
     "text": [
      "C:\\Users\\Luis Gomez Freites\\AppData\\Local\\Packages\\PythonSoftwareFoundation.Python.3.10_qbz5n2kfra8p0\\LocalCache\\local-packages\\Python310\\site-packages\\tqdm\\auto.py:22: TqdmWarning: IProgress not found. Please update jupyter and ipywidgets. See https://ipywidgets.readthedocs.io/en/stable/user_install.html\n",
      "  from .autonotebook import tqdm as notebook_tqdm\n",
      "BokehDeprecationWarning: Passing lists of formats for DatetimeTickFormatter scales was deprecated in Bokeh 3.0. Configure a single string format for each scale\n",
      "C:\\Users\\Luis Gomez Freites\\AppData\\Local\\Packages\\PythonSoftwareFoundation.Python.3.10_qbz5n2kfra8p0\\LocalCache\\local-packages\\Python310\\site-packages\\backtesting\\_plotting.py:250: UserWarning: DatetimeFormatter scales now only accept a single format. Using the first provided: '%d %b'\n",
      "  formatter=DatetimeTickFormatter(days=['%d %b', '%a %d'],\n",
      "BokehDeprecationWarning: Passing lists of formats for DatetimeTickFormatter scales was deprecated in Bokeh 3.0. Configure a single string format for each scale\n",
      "C:\\Users\\Luis Gomez Freites\\AppData\\Local\\Packages\\PythonSoftwareFoundation.Python.3.10_qbz5n2kfra8p0\\LocalCache\\local-packages\\Python310\\site-packages\\backtesting\\_plotting.py:250: UserWarning: DatetimeFormatter scales now only accept a single format. Using the first provided: '%m/%Y'\n",
      "  formatter=DatetimeTickFormatter(days=['%d %b', '%a %d'],\n"
     ]
    },
    {
     "name": "stdout",
     "output_type": "stream",
     "text": [
      "BLZUSDT - Return [%]: -6.1% - # Trades: 27 - Profit Factor: 1.1507655753319603 - Win Rate [%]: 81.48148148148148\n"
     ]
    }
   ],
   "source": [
    "import modulos as md\n",
    "import numpy as np\n",
    "import constantes as cons\n",
    "import os\n",
    "import sys\n",
    "lista_filtrada = []\n",
    "\n",
    "#lista=md.lista_de_monedas()\n",
    "#lista=md.filtradodemonedas ()\n",
    "#lista=['LINKUSDT', 'LTCUSDT', 'BCHUSDT', 'WLDUSDT', 'IDUSDT', 'HBARUSDT', 'API3USDT', 'BNBUSDT', 'C98USDT', '1000SHIBUSDT', 'STXUSDT', 'LPTUSDT', 'XLMUSDT', 'CRVUSDT', 'MKRUSDT', 'ALGOUSDT', 'HIGHUSDT', 'COMPUSDT', 'DOGEUSDT', 'XRPUSDT', 'OPUSDT', 'ARBUSDT', 'AUDIOUSDT', '1000PEPEUSDT', 'MATICUSDT', 'APEUSDT', 'SOLUSDT', 'TOMOUSDT', 'EOSUSDT', 'ADAUSDT', 'SUIUSDT', 'YGGUSDT', 'DODOXUSDT']\n",
    "lista=['BLZUSDT']\n",
    "\n",
    "if len(lista)>1:\n",
    "    imprimo=False\n",
    "else:\n",
    "    imprimo= True\n",
    "for symbol in lista:    \n",
    "    try:\n",
    "        data,porcentajeentrada = md.estrategia_santa(symbol,tp_flag = True)\n",
    "        #data = md.estrategia_triangulos(symbol, tp_flag = False, print_lines_flag = imprimo)\n",
    "        #data,porcentajeentrada = md.estrategia_adrian(symbol,tp_flag = False)\n",
    "        #######################################################################\n",
    "        #resultado = md.backtesting(data, plot_flag = imprimo)\n",
    "        resultado = md.backtestingsanta(data, plot_flag = imprimo, debug = True)\n",
    "        if resultado['Return [%]'] < 0: # para santa3 mazmorra\n",
    "        #if resultado['Return [%]'] > 0:\n",
    "            #if ((resultado['Profit Factor'] > 2 or np.isnan(resultado['Profit Factor'])) and (resultado['Return [%]']/resultado['# Trades']) >=0.33):            \n",
    "                lista_filtrada.append(symbol)\n",
    "        print(f\"{symbol} - Return [%]: {md.truncate(resultado['Return [%]'],2)}% - # Trades: {resultado['# Trades']} - Profit Factor: {resultado['Profit Factor']} - Win Rate [%]: {resultado['Win Rate [%]']}\")\n",
    "    except Exception as falla:\n",
    "        _, _, exc_tb = sys.exc_info()\n",
    "        fname = os.path.split(exc_tb.tb_frame.f_code.co_filename)[1]\n",
    "        print(\"\\nError: \"+str(falla)+\" - line: \"+str(exc_tb.tb_lineno)+\" - file: \"+str(fname)+\"\\n\")\n",
    "for symbol in lista_filtrada:\n",
    "    md.printandlog(cons.nombrelog,symbol,pal=1)\n",
    "#md.dibuja_patrones_triangulos (data,998)    \n"
   ]
  },
  {
   "cell_type": "code",
   "execution_count": 1,
   "id": "d5c53298",
   "metadata": {},
   "outputs": [
    {
     "name": "stderr",
     "output_type": "stream",
     "text": [
      "C:\\Users\\Luis Gomez Freites\\AppData\\Local\\Packages\\PythonSoftwareFoundation.Python.3.10_qbz5n2kfra8p0\\LocalCache\\local-packages\\Python310\\site-packages\\tqdm\\auto.py:22: TqdmWarning: IProgress not found. Please update jupyter and ipywidgets. See https://ipywidgets.readthedocs.io/en/stable/user_install.html\n",
      "  from .autonotebook import tqdm as notebook_tqdm\n"
     ]
    }
   ],
   "source": [
    "import modulos as md\n",
    "lista=md.lista_de_monedas()"
   ]
  }
 ],
 "metadata": {
  "kernelspec": {
   "display_name": "Python 3 (ipykernel)",
   "language": "python",
   "name": "python3"
  },
  "language_info": {
   "codemirror_mode": {
    "name": "ipython",
    "version": 3
   },
   "file_extension": ".py",
   "mimetype": "text/x-python",
   "name": "python",
   "nbconvert_exporter": "python",
   "pygments_lexer": "ipython3",
   "version": "3.10.11"
  }
 },
 "nbformat": 4,
 "nbformat_minor": 5
}
