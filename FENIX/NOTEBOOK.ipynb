{
 "cells": [
  {
   "cell_type": "code",
   "execution_count": 1,
   "id": "2d7ba37d",
   "metadata": {},
   "outputs": [
    {
     "name": "stderr",
     "output_type": "stream",
     "text": [
      "C:\\Users\\Luis Gomez Freites\\AppData\\Local\\Packages\\PythonSoftwareFoundation.Python.3.10_qbz5n2kfra8p0\\LocalCache\\local-packages\\Python310\\site-packages\\tqdm\\auto.py:22: TqdmWarning: IProgress not found. Please update jupyter and ipywidgets. See https://ipywidgets.readthedocs.io/en/stable/user_install.html\n",
      "  from .autonotebook import tqdm as notebook_tqdm\n",
      "BokehDeprecationWarning: Passing lists of formats for DatetimeTickFormatter scales was deprecated in Bokeh 3.0. Configure a single string format for each scale\n",
      "C:\\Users\\Luis Gomez Freites\\AppData\\Local\\Packages\\PythonSoftwareFoundation.Python.3.10_qbz5n2kfra8p0\\LocalCache\\local-packages\\Python310\\site-packages\\backtesting\\_plotting.py:250: UserWarning: DatetimeFormatter scales now only accept a single format. Using the first provided: '%d %b'\n",
      "  formatter=DatetimeTickFormatter(days=['%d %b', '%a %d'],\n",
      "BokehDeprecationWarning: Passing lists of formats for DatetimeTickFormatter scales was deprecated in Bokeh 3.0. Configure a single string format for each scale\n",
      "C:\\Users\\Luis Gomez Freites\\AppData\\Local\\Packages\\PythonSoftwareFoundation.Python.3.10_qbz5n2kfra8p0\\LocalCache\\local-packages\\Python310\\site-packages\\backtesting\\_plotting.py:250: UserWarning: DatetimeFormatter scales now only accept a single format. Using the first provided: '%m/%Y'\n",
      "  formatter=DatetimeTickFormatter(days=['%d %b', '%a %d'],\n"
     ]
    },
    {
     "name": "stdout",
     "output_type": "stream",
     "text": [
      "LPTUSDT - Return [%]: 0.46% - # Trades: 3 - Profit Factor: nan - Win Rate [%]: 100.0\n"
     ]
    }
   ],
   "source": [
    "import modulos as md\n",
    "import numpy as np\n",
    "import constantes as cons\n",
    "import os\n",
    "import sys\n",
    "lista_filtrada = []\n",
    "\n",
    "#lista=md.lista_de_monedas()\n",
    "#lista=md.filtradodemonedas ()\n",
    "#lista=['LPTUSDT', 'ADAUSDT', 'BCHUSDT', 'DOGEUSDT', 'BLZUSDT', 'CFXUSDT', 'DYDXUSDT', '1000PEPEUSDT', 'XRPUSDT', 'BAKEUSDT', 'BTCUSDT', '1000SHIBUSDT', 'WLDUSDT', 'ARBUSDT', 'TOMOUSDT', 'OPUSDT', 'SOLUSDT', 'APEUSDT', 'UNFIUSDT', 'ETHUSDT', 'RUNEUSDT', 'SUIUSDT', 'MATICUSDT', 'LTCUSDT', 'SFPUSDT', 'BNBUSDT', 'LINKUSDT']\n",
    "lista=['LPTUSDT']\n",
    "\n",
    "if len(lista)>1:\n",
    "    imprimo=False\n",
    "    debug=False\n",
    "else:\n",
    "    imprimo= True\n",
    "    debug=True\n",
    "for symbol in lista:    \n",
    "    try:\n",
    "        data,porcentajeentrada = md.estrategia_santa(symbol,tp_flag = True)\n",
    "        #data,porcentajeentrada = md.estrategia_trampa(symbol,tp_flag = True)\n",
    "        #data,porcentajeentrada = md.estrategia_atrapes(symbol,tp_flag = True, debug=debug)\n",
    "        #######################################################################\n",
    "        #resultado = md.backtesting(data, plot_flag = imprimo)\n",
    "        resultado = md.backtestingsanta(data, plot_flag = imprimo, debug = True)\n",
    "        ########################################################################\n",
    "        #if resultado['Return [%]'] < 0: # para santa3 mazmorra\n",
    "        #if data.disparo.iloc[-2]!=0:\n",
    "        #        print(symbol)\n",
    "        if resultado['Return [%]'] > 0:\n",
    "            #if ((resultado['Profit Factor'] > 2 or np.isnan(resultado['Profit Factor'])) and (resultado['Return [%]']/resultado['# Trades']) >=0.33):            \n",
    "                lista_filtrada.append(symbol)\n",
    "        print(f\"{symbol} - Return [%]: {md.truncate(resultado['Return [%]'],2)}% - # Trades: {resultado['# Trades']} - Profit Factor: {resultado['Profit Factor']} - Win Rate [%]: {resultado['Win Rate [%]']}\")\n",
    "    except Exception as falla:\n",
    "        _, _, exc_tb = sys.exc_info()\n",
    "        fname = os.path.split(exc_tb.tb_frame.f_code.co_filename)[1]\n",
    "        #print(\"\\nError: \"+str(falla)+\" - line: \"+str(exc_tb.tb_lineno)+\" - file: \"+str(fname)+\"\\n\")\n",
    "        pass\n",
    "for symbol in lista_filtrada:\n",
    "    md.printandlog(cons.nombrelog,symbol,pal=1)\n",
    "#md.dibuja_patrones_triangulos (data,998)    \n"
   ]
  },
  {
   "cell_type": "code",
   "execution_count": 2,
   "id": "55d73c1c",
   "metadata": {},
   "outputs": [
    {
     "name": "stdout",
     "output_type": "stream",
     "text": [
      "-35.44\n"
     ]
    },
    {
     "ename": "TypeError",
     "evalue": "Cannot perform 'and_' with a dtyped [bool] array and scalar of type [bool]",
     "output_type": "error",
     "traceback": [
      "\u001b[1;31m---------------------------------------------------------------------------\u001b[0m",
      "\u001b[1;31mTypeError\u001b[0m                                 Traceback (most recent call last)",
      "File \u001b[1;32m~\\AppData\\Local\\Packages\\PythonSoftwareFoundation.Python.3.10_qbz5n2kfra8p0\\LocalCache\\local-packages\\Python310\\site-packages\\pandas\\core\\ops\\array_ops.py:305\u001b[0m, in \u001b[0;36mna_logical_op\u001b[1;34m(x, y, op)\u001b[0m\n\u001b[0;32m    296\u001b[0m \u001b[39mtry\u001b[39;00m:\n\u001b[0;32m    297\u001b[0m     \u001b[39m# For exposition, write:\u001b[39;00m\n\u001b[0;32m    298\u001b[0m     \u001b[39m#  yarr = isinstance(y, np.ndarray)\u001b[39;00m\n\u001b[1;32m   (...)\u001b[0m\n\u001b[0;32m    303\u001b[0m     \u001b[39m# Then Cases where this goes through without raising include:\u001b[39;00m\n\u001b[0;32m    304\u001b[0m     \u001b[39m#  (xint or xbool) and (yint or bool)\u001b[39;00m\n\u001b[1;32m--> 305\u001b[0m     result \u001b[39m=\u001b[39m op(x, y)\n\u001b[0;32m    306\u001b[0m \u001b[39mexcept\u001b[39;00m \u001b[39mTypeError\u001b[39;00m:\n",
      "\u001b[1;31mTypeError\u001b[0m: ufunc 'bitwise_and' not supported for the input types, and the inputs could not be safely coerced to any supported types according to the casting rule ''safe''",
      "\nDuring handling of the above exception, another exception occurred:\n",
      "\u001b[1;31mValueError\u001b[0m                                Traceback (most recent call last)",
      "File \u001b[1;32m~\\AppData\\Local\\Packages\\PythonSoftwareFoundation.Python.3.10_qbz5n2kfra8p0\\LocalCache\\local-packages\\Python310\\site-packages\\pandas\\core\\ops\\array_ops.py:319\u001b[0m, in \u001b[0;36mna_logical_op\u001b[1;34m(x, y, op)\u001b[0m\n\u001b[0;32m    318\u001b[0m \u001b[39mtry\u001b[39;00m:\n\u001b[1;32m--> 319\u001b[0m     result \u001b[39m=\u001b[39m libops\u001b[39m.\u001b[39;49mscalar_binop(x, y, op)\n\u001b[0;32m    320\u001b[0m \u001b[39mexcept\u001b[39;00m (\n\u001b[0;32m    321\u001b[0m     \u001b[39mTypeError\u001b[39;00m,\n\u001b[0;32m    322\u001b[0m     \u001b[39mValueError\u001b[39;00m,\n\u001b[1;32m   (...)\u001b[0m\n\u001b[0;32m    325\u001b[0m     \u001b[39mNotImplementedError\u001b[39;00m,\n\u001b[0;32m    326\u001b[0m ) \u001b[39mas\u001b[39;00m err:\n",
      "File \u001b[1;32m~\\AppData\\Local\\Packages\\PythonSoftwareFoundation.Python.3.10_qbz5n2kfra8p0\\LocalCache\\local-packages\\Python310\\site-packages\\pandas\\_libs\\ops.pyx:180\u001b[0m, in \u001b[0;36mpandas._libs.ops.scalar_binop\u001b[1;34m()\u001b[0m\n",
      "\u001b[1;31mValueError\u001b[0m: Buffer dtype mismatch, expected 'Python object' but got 'bool'",
      "\nThe above exception was the direct cause of the following exception:\n",
      "\u001b[1;31mTypeError\u001b[0m                                 Traceback (most recent call last)",
      "Cell \u001b[1;32mIn[2], line 1\u001b[0m\n\u001b[1;32m----> 1\u001b[0m data,porcentajeentrada \u001b[39m=\u001b[39m md\u001b[39m.\u001b[39;49mestrategia_santa(symbol,tp_flag \u001b[39m=\u001b[39;49m \u001b[39mTrue\u001b[39;49;00m)\n",
      "File \u001b[1;32mc:\\LUCHO\\personal\\repopersonal\\luchocrypto\\FENIX\\modulos.py:589\u001b[0m, in \u001b[0;36mestrategia_santa\u001b[1;34m(symbol, tp_flag)\u001b[0m\n\u001b[0;32m    586\u001b[0m trend\u001b[39m=\u001b[39mtendencia (symbol,\u001b[39m'\u001b[39m\u001b[39m1d\u001b[39m\u001b[39m'\u001b[39m)\n\u001b[0;32m    587\u001b[0m \u001b[39mprint\u001b[39m(trend)\n\u001b[0;32m    588\u001b[0m data[\u001b[39m'\u001b[39m\u001b[39msignal\u001b[39m\u001b[39m'\u001b[39m] \u001b[39m=\u001b[39m np\u001b[39m.\u001b[39mwhere(\n\u001b[1;32m--> 589\u001b[0m                         (data\u001b[39m.\u001b[39;49mClose\u001b[39m.\u001b[39;49mshift(\u001b[39m1\u001b[39;49m) \u001b[39m<\u001b[39;49m\u001b[39m=\u001b[39;49m data\u001b[39m.\u001b[39;49mminimo\u001b[39m.\u001b[39;49mshift(\u001b[39m2\u001b[39;49m)) \u001b[39m# para que solo sea reentrada\u001b[39;49;00m\n\u001b[0;32m    590\u001b[0m                         \u001b[39m&\u001b[39;49m(data\u001b[39m.\u001b[39;49mClose\u001b[39m.\u001b[39;49mshift(\u001b[39m1\u001b[39;49m) \u001b[39m<\u001b[39;49m\u001b[39m=\u001b[39;49m data\u001b[39m.\u001b[39;49mmaximo\u001b[39m.\u001b[39;49mshift(\u001b[39m2\u001b[39;49m)\u001b[39m*\u001b[39;49m(\u001b[39m1\u001b[39;49m\u001b[39m-\u001b[39;49mporc_bajo\u001b[39m/\u001b[39;49m\u001b[39m100\u001b[39;49m)) \u001b[39m# variacion desde\u001b[39;49;00m\n\u001b[0;32m    591\u001b[0m                         \u001b[39m&\u001b[39;49m(data\u001b[39m.\u001b[39;49mClose\u001b[39m.\u001b[39;49mshift(\u001b[39m1\u001b[39;49m) \u001b[39m>\u001b[39;49m\u001b[39m=\u001b[39;49m data\u001b[39m.\u001b[39;49mmaximo\u001b[39m.\u001b[39;49mshift(\u001b[39m2\u001b[39;49m)\u001b[39m*\u001b[39;49m(\u001b[39m1\u001b[39;49m\u001b[39m-\u001b[39;49mporc_alto\u001b[39m/\u001b[39;49m\u001b[39m100\u001b[39;49m)) \u001b[39m# variacion hasta\u001b[39;49;00m\n\u001b[0;32m    592\u001b[0m                         \u001b[39m&\u001b[39;49mtrend \u001b[39m>\u001b[39m\u001b[39m=\u001b[39m \u001b[39m-\u001b[39m\u001b[39m3\u001b[39m \u001b[39m#tendencia\u001b[39;00m\n\u001b[0;32m    593\u001b[0m                         ,\u001b[39m1\u001b[39m,\n\u001b[0;32m    594\u001b[0m                         np\u001b[39m.\u001b[39mwhere(\n\u001b[0;32m    595\u001b[0m                                 (data\u001b[39m.\u001b[39mClose\u001b[39m.\u001b[39mshift(\u001b[39m1\u001b[39m) \u001b[39m>\u001b[39m\u001b[39m=\u001b[39m data\u001b[39m.\u001b[39mmaximo\u001b[39m.\u001b[39mshift(\u001b[39m2\u001b[39m)) \n\u001b[0;32m    596\u001b[0m                                 \u001b[39m&\u001b[39m(data\u001b[39m.\u001b[39mClose\u001b[39m.\u001b[39mshift(\u001b[39m1\u001b[39m) \u001b[39m>\u001b[39m\u001b[39m=\u001b[39m data\u001b[39m.\u001b[39mminimo\u001b[39m.\u001b[39mshift(\u001b[39m2\u001b[39m)\u001b[39m*\u001b[39m(\u001b[39m1\u001b[39m\u001b[39m+\u001b[39mporc_bajo\u001b[39m/\u001b[39m\u001b[39m100\u001b[39m)) \n\u001b[0;32m    597\u001b[0m                                 \u001b[39m&\u001b[39m(data\u001b[39m.\u001b[39mClose\u001b[39m.\u001b[39mshift(\u001b[39m1\u001b[39m) \u001b[39m<\u001b[39m\u001b[39m=\u001b[39m data\u001b[39m.\u001b[39mminimo\u001b[39m.\u001b[39mshift(\u001b[39m2\u001b[39m)\u001b[39m*\u001b[39m(\u001b[39m1\u001b[39m\u001b[39m+\u001b[39mporc_alto\u001b[39m/\u001b[39m\u001b[39m100\u001b[39m)) \n\u001b[0;32m    598\u001b[0m                                 \u001b[39m&\u001b[39mtrend \u001b[39m<\u001b[39m\u001b[39m=\u001b[39m \u001b[39m3\u001b[39m\n\u001b[0;32m    599\u001b[0m                                 ,\u001b[39m-\u001b[39m\u001b[39m1\u001b[39m,\n\u001b[0;32m    600\u001b[0m                                 \u001b[39m0\u001b[39m\n\u001b[0;32m    601\u001b[0m                                 )\n\u001b[0;32m    602\u001b[0m                         )  \n\u001b[0;32m    603\u001b[0m data[\u001b[39m'\u001b[39m\u001b[39mtake_profit\u001b[39m\u001b[39m'\u001b[39m] \u001b[39m=\u001b[39m   np\u001b[39m.\u001b[39mwhere(\n\u001b[0;32m    604\u001b[0m                         tp_flag,np\u001b[39m.\u001b[39mwhere(\n\u001b[0;32m    605\u001b[0m                         data\u001b[39m.\u001b[39msignal \u001b[39m==\u001b[39m \u001b[39m1\u001b[39m,\n\u001b[1;32m   (...)\u001b[0m\n\u001b[0;32m    612\u001b[0m                         ),np\u001b[39m.\u001b[39mNaN\n\u001b[0;32m    613\u001b[0m                                 )\n\u001b[0;32m    614\u001b[0m data[\u001b[39m'\u001b[39m\u001b[39mstop_loss\u001b[39m\u001b[39m'\u001b[39m] \u001b[39m=\u001b[39m np\u001b[39m.\u001b[39mwhere(\n\u001b[0;32m    615\u001b[0m     data\u001b[39m.\u001b[39msignal \u001b[39m==\u001b[39m \u001b[39m1\u001b[39m,\n\u001b[0;32m    616\u001b[0m     data\u001b[39m.\u001b[39mClose\u001b[39m*\u001b[39m\u001b[39m0.87\u001b[39m,    \u001b[39m# stop con una varicion de 13% en contra\u001b[39;00m\n\u001b[1;32m   (...)\u001b[0m\n\u001b[0;32m    621\u001b[0m     )\n\u001b[0;32m    622\u001b[0m )\n",
      "File \u001b[1;32m~\\AppData\\Local\\Packages\\PythonSoftwareFoundation.Python.3.10_qbz5n2kfra8p0\\LocalCache\\local-packages\\Python310\\site-packages\\pandas\\core\\ops\\common.py:72\u001b[0m, in \u001b[0;36m_unpack_zerodim_and_defer.<locals>.new_method\u001b[1;34m(self, other)\u001b[0m\n\u001b[0;32m     68\u001b[0m             \u001b[39mreturn\u001b[39;00m \u001b[39mNotImplemented\u001b[39m\n\u001b[0;32m     70\u001b[0m other \u001b[39m=\u001b[39m item_from_zerodim(other)\n\u001b[1;32m---> 72\u001b[0m \u001b[39mreturn\u001b[39;00m method(\u001b[39mself\u001b[39;49m, other)\n",
      "File \u001b[1;32m~\\AppData\\Local\\Packages\\PythonSoftwareFoundation.Python.3.10_qbz5n2kfra8p0\\LocalCache\\local-packages\\Python310\\site-packages\\pandas\\core\\arraylike.py:72\u001b[0m, in \u001b[0;36mOpsMixin.__and__\u001b[1;34m(self, other)\u001b[0m\n\u001b[0;32m     70\u001b[0m \u001b[39m@unpack_zerodim_and_defer\u001b[39m(\u001b[39m\"\u001b[39m\u001b[39m__and__\u001b[39m\u001b[39m\"\u001b[39m)\n\u001b[0;32m     71\u001b[0m \u001b[39mdef\u001b[39;00m \u001b[39m__and__\u001b[39m(\u001b[39mself\u001b[39m, other):\n\u001b[1;32m---> 72\u001b[0m     \u001b[39mreturn\u001b[39;00m \u001b[39mself\u001b[39;49m\u001b[39m.\u001b[39;49m_logical_method(other, operator\u001b[39m.\u001b[39;49mand_)\n",
      "File \u001b[1;32m~\\AppData\\Local\\Packages\\PythonSoftwareFoundation.Python.3.10_qbz5n2kfra8p0\\LocalCache\\local-packages\\Python310\\site-packages\\pandas\\core\\series.py:6254\u001b[0m, in \u001b[0;36mSeries._logical_method\u001b[1;34m(self, other, op)\u001b[0m\n\u001b[0;32m   6251\u001b[0m lvalues \u001b[39m=\u001b[39m \u001b[39mself\u001b[39m\u001b[39m.\u001b[39m_values\n\u001b[0;32m   6252\u001b[0m rvalues \u001b[39m=\u001b[39m extract_array(other, extract_numpy\u001b[39m=\u001b[39m\u001b[39mTrue\u001b[39;00m, extract_range\u001b[39m=\u001b[39m\u001b[39mTrue\u001b[39;00m)\n\u001b[1;32m-> 6254\u001b[0m res_values \u001b[39m=\u001b[39m ops\u001b[39m.\u001b[39;49mlogical_op(lvalues, rvalues, op)\n\u001b[0;32m   6255\u001b[0m \u001b[39mreturn\u001b[39;00m \u001b[39mself\u001b[39m\u001b[39m.\u001b[39m_construct_result(res_values, name\u001b[39m=\u001b[39mres_name)\n",
      "File \u001b[1;32m~\\AppData\\Local\\Packages\\PythonSoftwareFoundation.Python.3.10_qbz5n2kfra8p0\\LocalCache\\local-packages\\Python310\\site-packages\\pandas\\core\\ops\\array_ops.py:395\u001b[0m, in \u001b[0;36mlogical_op\u001b[1;34m(left, right, op)\u001b[0m\n\u001b[0;32m    391\u001b[0m \u001b[39m# For int vs int `^`, `|`, `&` are bitwise operators and return\u001b[39;00m\n\u001b[0;32m    392\u001b[0m \u001b[39m#   integer dtypes.  Otherwise these are boolean ops\u001b[39;00m\n\u001b[0;32m    393\u001b[0m filler \u001b[39m=\u001b[39m fill_int \u001b[39mif\u001b[39;00m is_self_int_dtype \u001b[39mand\u001b[39;00m is_other_int_dtype \u001b[39melse\u001b[39;00m fill_bool\n\u001b[1;32m--> 395\u001b[0m res_values \u001b[39m=\u001b[39m na_logical_op(lvalues, rvalues, op)\n\u001b[0;32m    396\u001b[0m \u001b[39m# error: Cannot call function of unknown type\u001b[39;00m\n\u001b[0;32m    397\u001b[0m res_values \u001b[39m=\u001b[39m filler(res_values)  \u001b[39m# type: ignore[operator]\u001b[39;00m\n",
      "File \u001b[1;32m~\\AppData\\Local\\Packages\\PythonSoftwareFoundation.Python.3.10_qbz5n2kfra8p0\\LocalCache\\local-packages\\Python310\\site-packages\\pandas\\core\\ops\\array_ops.py:328\u001b[0m, in \u001b[0;36mna_logical_op\u001b[1;34m(x, y, op)\u001b[0m\n\u001b[0;32m    320\u001b[0m         \u001b[39mexcept\u001b[39;00m (\n\u001b[0;32m    321\u001b[0m             \u001b[39mTypeError\u001b[39;00m,\n\u001b[0;32m    322\u001b[0m             \u001b[39mValueError\u001b[39;00m,\n\u001b[1;32m   (...)\u001b[0m\n\u001b[0;32m    325\u001b[0m             \u001b[39mNotImplementedError\u001b[39;00m,\n\u001b[0;32m    326\u001b[0m         ) \u001b[39mas\u001b[39;00m err:\n\u001b[0;32m    327\u001b[0m             typ \u001b[39m=\u001b[39m \u001b[39mtype\u001b[39m(y)\u001b[39m.\u001b[39m\u001b[39m__name__\u001b[39m\n\u001b[1;32m--> 328\u001b[0m             \u001b[39mraise\u001b[39;00m \u001b[39mTypeError\u001b[39;00m(\n\u001b[0;32m    329\u001b[0m                 \u001b[39mf\u001b[39m\u001b[39m\"\u001b[39m\u001b[39mCannot perform \u001b[39m\u001b[39m'\u001b[39m\u001b[39m{\u001b[39;00mop\u001b[39m.\u001b[39m\u001b[39m__name__\u001b[39m\u001b[39m}\u001b[39;00m\u001b[39m'\u001b[39m\u001b[39m with a dtyped [\u001b[39m\u001b[39m{\u001b[39;00mx\u001b[39m.\u001b[39mdtype\u001b[39m}\u001b[39;00m\u001b[39m] array \u001b[39m\u001b[39m\"\u001b[39m\n\u001b[0;32m    330\u001b[0m                 \u001b[39mf\u001b[39m\u001b[39m\"\u001b[39m\u001b[39mand scalar of type [\u001b[39m\u001b[39m{\u001b[39;00mtyp\u001b[39m}\u001b[39;00m\u001b[39m]\u001b[39m\u001b[39m\"\u001b[39m\n\u001b[0;32m    331\u001b[0m             ) \u001b[39mfrom\u001b[39;00m \u001b[39merr\u001b[39;00m\n\u001b[0;32m    333\u001b[0m \u001b[39mreturn\u001b[39;00m result\u001b[39m.\u001b[39mreshape(x\u001b[39m.\u001b[39mshape)\n",
      "\u001b[1;31mTypeError\u001b[0m: Cannot perform 'and_' with a dtyped [bool] array and scalar of type [bool]"
     ]
    }
   ],
   "source": [
    "data,porcentajeentrada = md.estrategia_santa(symbol,tp_flag = True)"
   ]
  },
  {
   "cell_type": "code",
   "execution_count": 1,
   "id": "22820fb4",
   "metadata": {},
   "outputs": [
    {
     "name": "stdout",
     "output_type": "stream",
     "text": [
      "Archivo con datos de CoinMarketCap gruadado crypto_latests.csv\n"
     ]
    }
   ],
   "source": [
    "import requests\n",
    "import pandas as pd\n",
    "import json\n",
    "API_KEY = '4c9c0645-49c7-48c3-9a42-e7a2f94d448f'\n",
    "url = 'https://pro-api.coinmarketcap.com/v1/cryptocurrency/listings/latest'\n",
    "HEADERS = {'Accepts': 'application/json',\n",
    "           'X-CMC_PRO_API_KEY': API_KEY}\n",
    "PARAMS = {'convert': 'USD',\n",
    "          'limit': 1500}\n",
    "resp = requests.get(url, headers=HEADERS, params=PARAMS)\n",
    "def get_data(resp):\n",
    "    data = json.loads(resp.content)['data']\n",
    "    rows = list()\n",
    "    for item in data:\n",
    "        rows.append([\n",
    "                item['cmc_rank'],\n",
    "                item['id'],\n",
    "                item['name'],\n",
    "                item['symbol'],\n",
    "                item['slug'], \n",
    "                item['quote']['USD']['market_cap'],\n",
    "                item['quote']['USD']['volume_24h'],\n",
    "                item['date_added']])\n",
    "    df = pd.DataFrame(rows, columns=['cmc_rank','id','name','symbol','slug','market_cap','volume_24h','date_added'])\n",
    "    df.index.name = 'id'\n",
    "    return(df)\n",
    "if resp.status_code == 200:\n",
    "    df = get_data(resp)\n",
    "    if not df.empty:\n",
    "        df.to_csv('crypto_latests.csv')\n",
    "        print(\"Archivo con datos de CoinMarketCap gruadado crypto_latests.csv\")\n",
    "        df2 = pd.read_csv('crypto_latests.csv', index_col=0)\n",
    "    else:\n",
    "        print(\"df de CoinMarketCap vacío. No se actualizó crypto_latests.csv\")\n",
    "else:\n",
    "    print(resp.status_code)"
   ]
  },
  {
   "cell_type": "code",
   "execution_count": null,
   "id": "56ab2a87",
   "metadata": {},
   "outputs": [],
   "source": [
    "import modulos as md\n",
    "from numerize import numerize\n",
    "import pandas as pd\n",
    "\n",
    "df2 = pd.read_csv('crypto_latests.csv', index_col=0)\n",
    "symbol='CYBERUSDT'\n",
    "for index, row in df2.iterrows():\n",
    "    if row['symbol'] == (symbol[0:symbol.find('USDT')]).upper():       \n",
    "        print(f\"Symbol: {symbol} - Ranking: {row.cmc_rank} - Market cap: {numerize.numerize(row.market_cap)} - Vol24h: {numerize.numerize(row.volume_24h)} - date_added: {row.date_added}\")\n",
    "\n",
    "vo=md.volumeOf24h(symbol)\n",
    "print(f\"Vol24h: {numerize.numerize(vo)}\")   \n",
    "   "
   ]
  },
  {
   "cell_type": "code",
   "execution_count": 6,
   "id": "1395966a",
   "metadata": {},
   "outputs": [
    {
     "name": "stdout",
     "output_type": "stream",
     "text": [
      "130.14\n"
     ]
    }
   ],
   "source": [
    "import modulos as md\n",
    "symbol='TOMOUSDT'\n",
    "\n",
    "out=md.tendencia (symbol,'1d')\n",
    "print(out)"
   ]
  }
 ],
 "metadata": {
  "kernelspec": {
   "display_name": "Python 3 (ipykernel)",
   "language": "python",
   "name": "python3"
  },
  "language_info": {
   "codemirror_mode": {
    "name": "ipython",
    "version": 3
   },
   "file_extension": ".py",
   "mimetype": "text/x-python",
   "name": "python",
   "nbconvert_exporter": "python",
   "pygments_lexer": "ipython3",
   "version": "3.10.11"
  }
 },
 "nbformat": 4,
 "nbformat_minor": 5
}
