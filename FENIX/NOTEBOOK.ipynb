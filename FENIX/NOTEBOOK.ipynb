{
 "cells": [
  {
   "cell_type": "code",
   "execution_count": 2,
   "id": "41cfb424",
   "metadata": {},
   "outputs": [
    {
     "name": "stderr",
     "output_type": "stream",
     "text": [
      "C:\\Users\\Luis Gomez Freites\\AppData\\Local\\Packages\\PythonSoftwareFoundation.Python.3.10_qbz5n2kfra8p0\\LocalCache\\local-packages\\Python310\\site-packages\\tqdm\\auto.py:22: TqdmWarning: IProgress not found. Please update jupyter and ipywidgets. See https://ipywidgets.readthedocs.io/en/stable/user_install.html\n",
      "  from .autonotebook import tqdm as notebook_tqdm\n"
     ]
    }
   ],
   "source": [
    "import modulos as md\n",
    "\n",
    "lista = ['BCHUSDT', 'XRPUSDT', 'EOSUSDT', 'LTCUSDT', 'TRXUSDT', 'ETCUSDT', 'LINKUSDT', 'XLMUSDT', 'ADAUSDT', 'BNBUSDT', 'ATOMUSDT', 'ALGOUSDT', \n",
    "         'KNCUSDT', 'COMPUSDT', 'DOGEUSDT', 'KAVAUSDT', 'WAVESUSDT', 'MKRUSDT', 'SNXUSDT', 'DOTUSDT', 'CRVUSDT', 'SOLUSDT', 'STORJUSDT', 'UNIUSDT', \n",
    "         'AVAXUSDT', 'FTMUSDT', 'TOMOUSDT', 'NEARUSDT', 'AAVEUSDT', 'FILUSDT', 'MATICUSDT', 'AXSUSDT', 'SANDUSDT', 'XEMUSDT', 'MANAUSDT', 'LINAUSDT', \n",
    "         'MTLUSDT', '1000SHIBUSDT', 'MASKUSDT', 'DYDXUSDT', '1000XECUSDT', 'GALAUSDT', 'FLOWUSDT', 'GMTUSDT', 'APEUSDT', 'OPUSDT', 'INJUSDT', 'LDOUSDT', \n",
    "         'APTUSDT', 'FETUSDT', 'RNDRUSDT', 'AGIXUSDT', 'PHBUSDT', 'CFXUSDT', 'STXUSDT', 'LQTYUSDT', 'ARBUSDT', 'SUIUSDT', '1000PEPEUSDT', 'XVGUSDT']\n",
    "\n",
    "#lista=['SKLUSDT']"
   ]
  },
  {
   "cell_type": "code",
   "execution_count": 4,
   "id": "cd995f0a",
   "metadata": {},
   "outputs": [
    {
     "name": "stdout",
     "output_type": "stream",
     "text": [
      "ALGOUSDT - Return [%]: 0.22% - # Trades: 5 - Profit Factor: 1.93 - Win Rate [%]: 60.0\n"
     ]
    },
    {
     "name": "stderr",
     "output_type": "stream",
     "text": [
      "c:\\LUCHO\\personal\\repopersonal\\luchocrypto\\FENIX\\modulos.py:461: UserWarning: Some prices are larger than initial cash value. Note that fractional trading is not supported. If you want to trade Bitcoin, increase initial cash, or trade μBTC or satoshis instead (GH-134).\n",
      "  bt = Backtest(data, Fenix, cash=1000)\n"
     ]
    },
    {
     "name": "stdout",
     "output_type": "stream",
     "text": [
      "FTMUSDT - Return [%]: 0.31% - # Trades: 9 - Profit Factor: 1.33 - Win Rate [%]: 55.55\n",
      "MATICUSDT - Return [%]: 1.49% - # Trades: 8 - Profit Factor: 1.98 - Win Rate [%]: 62.5\n",
      "SANDUSDT - Return [%]: 0.29% - # Trades: 5 - Profit Factor: 1.34 - Win Rate [%]: 60.0\n",
      "XEMUSDT - Return [%]: 0.09% - # Trades: 11 - Profit Factor: 1.17 - Win Rate [%]: 54.54\n",
      "AGIXUSDT - Return [%]: 0.78% - # Trades: 8 - Profit Factor: 2.19 - Win Rate [%]: 62.5\n",
      "SUIUSDT - Return [%]: 0.31% - # Trades: 3 - Profit Factor: 1.35 - Win Rate [%]: 66.66\n",
      "XVGUSDT - Return [%]: 0.16% - # Trades: 44 - Profit Factor: 1.38 - Win Rate [%]: 59.09\n"
     ]
    }
   ],
   "source": [
    "###################################### FILTRADO DE MONEDAS PARA ESTRATEGIA SANTAAAAAA\n",
    "###################################################################################################################\n",
    "for symbol in lista:\n",
    "    try:\n",
    "        data = md.estrategia_santa(symbol, tp_flag = True)\n",
    "        resultado = md.backtesting(data, plot_flag = False)\n",
    "        #if (resultado['Profit Factor']>1 or resultado['Return [%]'] >0) and resultado['Win Rate [%]']>50:\n",
    "        #if resultado['Win Rate [%]']>50:\n",
    "        print(f\"{symbol} - Return [%]: {md.truncate(resultado['Return [%]'],2)}% - # Trades: {resultado['# Trades']} - Profit Factor: {md.truncate(resultado['Profit Factor'],2)} - Win Rate [%]: {md.truncate(resultado['Win Rate [%]'],2)}\")\n",
    "    except Exception as falla:\n",
    "        pass\n"
   ]
  },
  {
   "cell_type": "code",
   "execution_count": 3,
   "id": "2d7ba37d",
   "metadata": {},
   "outputs": [
    {
     "name": "stdout",
     "output_type": "stream",
     "text": [
      "XRPUSDT - Return [%]: -0.98% - # Trades: 6 - Profit Factor: 0.34\n",
      "EOSUSDT - Return [%]: -1.07% - # Trades: 11 - Profit Factor: 0.87\n",
      "TRXUSDT - Return [%]: -0.04% - # Trades: 5 - Profit Factor: 0.67\n",
      "XLMUSDT - Return [%]: 0.42% - # Trades: 5 - Profit Factor: 2.41\n",
      "ADAUSDT - Return [%]: -0.47% - # Trades: 9 - Profit Factor: 0.66\n",
      "ALGOUSDT - Return [%]: -0.18% - # Trades: 4 - Profit Factor: 0.51\n",
      "KNCUSDT - Return [%]: -1.73% - # Trades: 10 - Profit Factor: 0.6\n",
      "DOGEUSDT - Return [%]: -0.1% - # Trades: 7 - Profit Factor: 0.52\n",
      "KAVAUSDT - Return [%]: -6.74% - # Trades: 7 - Profit Factor: 0.12\n"
     ]
    },
    {
     "name": "stderr",
     "output_type": "stream",
     "text": [
      "c:\\LUCHO\\personal\\repopersonal\\luchocrypto\\FENIX\\modulos.py:461: UserWarning: Some prices are larger than initial cash value. Note that fractional trading is not supported. If you want to trade Bitcoin, increase initial cash, or trade μBTC or satoshis instead (GH-134).\n",
      "  bt = Backtest(data, Fenix, cash=1000)\n"
     ]
    },
    {
     "name": "stdout",
     "output_type": "stream",
     "text": [
      "CRVUSDT - Return [%]: -4.89% - # Trades: 12 - Profit Factor: 0.37\n",
      "STORJUSDT - Return [%]: -4.71% - # Trades: 5 - Profit Factor: 0.19\n",
      "FTMUSDT - Return [%]: -0.6% - # Trades: 8 - Profit Factor: 0.66\n",
      "TOMOUSDT - Return [%]: -1.93% - # Trades: 1 - Profit Factor: 0.0\n",
      "MATICUSDT - Return [%]: -0.69% - # Trades: 8 - Profit Factor: 0.81\n",
      "SANDUSDT - Return [%]: 1.02% - # Trades: 11 - Profit Factor: 1.34\n",
      "XEMUSDT - Return [%]: -0.05% - # Trades: 10 - Profit Factor: 0.73\n",
      "MANAUSDT - Return [%]: -1.96% - # Trades: 10 - Profit Factor: 0.29\n",
      "LINAUSDT - Return [%]: 0.05% - # Trades: 12 - Profit Factor: 1.3\n",
      "GALAUSDT - Return [%]: -0.11% - # Trades: 9 - Profit Factor: 0.46\n",
      "FLOWUSDT - Return [%]: -0.69% - # Trades: 10 - Profit Factor: 0.87\n",
      "GMTUSDT - Return [%]: 0.16% - # Trades: 8 - Profit Factor: 1.13\n",
      "FETUSDT - Return [%]: -1.08% - # Trades: 10 - Profit Factor: 0.58\n",
      "AGIXUSDT - Return [%]: -0.02% - # Trades: 7 - Profit Factor: 0.99\n",
      "PHBUSDT - Return [%]: -4.09% - # Trades: 8 - Profit Factor: 0.26\n",
      "CFXUSDT - Return [%]: 0.6% - # Trades: 9 - Profit Factor: 1.37\n",
      "STXUSDT - Return [%]: 1.76% - # Trades: 9 - Profit Factor: 1.31\n",
      "LQTYUSDT - Return [%]: -0.6% - # Trades: 6 - Profit Factor: 0.87\n",
      "SUIUSDT - Return [%]: -1.81% - # Trades: 9 - Profit Factor: 0.6\n",
      "XVGUSDT - Return [%]: 0.29% - # Trades: 6 - Profit Factor: 8.58\n"
     ]
    }
   ],
   "source": [
    "###################################### FILTRADO DE MONEDAS PARA ESTRATEGIA BB\n",
    "###################################################################################################################\n",
    "for symbol in lista:\n",
    "    try:\n",
    "        data = md.estrategia_bb(symbol, tp_flag = True)\n",
    "        resultado = md.backtesting(data, plot_flag = False)\n",
    "        #if resultado['Profit Factor'] > 1 and resultado[6]/resultado[17] >=0.3:\n",
    "        print(f\"{symbol} - Return [%]: {md.truncate(resultado['Return [%]'],2)}% - # Trades: {resultado['# Trades']} - Profit Factor: {md.truncate(resultado['Profit Factor'],2)}\")\n",
    "    except Exception as falla:\n",
    "        pass"
   ]
  },
  {
   "cell_type": "code",
   "execution_count": null,
   "id": "80e196e6",
   "metadata": {},
   "outputs": [],
   "source": []
  }
 ],
 "metadata": {
  "kernelspec": {
   "display_name": "Python 3 (ipykernel)",
   "language": "python",
   "name": "python3"
  },
  "language_info": {
   "codemirror_mode": {
    "name": "ipython",
    "version": 3
   },
   "file_extension": ".py",
   "mimetype": "text/x-python",
   "name": "python",
   "nbconvert_exporter": "python",
   "pygments_lexer": "ipython3",
   "version": "3.10.11"
  }
 },
 "nbformat": 4,
 "nbformat_minor": 5
}
