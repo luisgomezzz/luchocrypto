{
 "cells": [
  {
   "cell_type": "code",
   "execution_count": null,
   "id": "644b19e1",
   "metadata": {},
   "outputs": [],
   "source": [
    "import modulos as md\n",
    "import numpy as np\n",
    "import os\n",
    "import sys\n",
    "import constantes as cons\n",
    "lista_filtrada = []\n",
    "lista=md.filtradodemonedas ()\n",
    "#lista = ['BTCUSDT', 'ETHUSDT', 'BCHUSDT', 'XRPUSDT', 'EOSUSDT', 'LTCUSDT', 'ETCUSDT', 'LINKUSDT', 'ADAUSDT', 'BNBUSDT', 'ATOMUSDT', 'KNCUSDT', 'DOGEUSDT', 'WAVESUSDT', 'MKRUSDT', 'DOTUSDT', 'CRVUSDT', 'TRBUSDT', 'RUNEUSDT', 'SOLUSDT', 'STORJUSDT', 'BLZUSDT', 'UNIUSDT', 'AVAXUSDT', 'FTMUSDT', 'TOMOUSDT', 'NEARUSDT', 'AAVEUSDT', 'FILUSDT', 'MATICUSDT', 'UNFIUSDT', 'LINAUSDT', '1000SHIBUSDT', 'MASKUSDT', 'DYDXUSDT', 'GALAUSDT', 'APEUSDT', 'OPUSDT', 'INJUSDT', 'LDOUSDT', 'APTUSDT', 'FETUSDT', 'MINAUSDT', 'CFXUSDT', 'STXUSDT', 'ARBUSDT', 'BLURUSDT', 'SUIUSDT', '1000PEPEUSDT', 'WLDUSDT', 'AGLDUSDT', 'YGGUSDT', 'CYBERUSDT', 'STRAXUSDT', 'LOOMUSDT', 'BIGTIMEUSDT', 'ORBSUSDT', 'POLYXUSDT']\n",
    "#lista = ['INJUSDT']\n",
    "\n",
    "timeframe='15m'\n",
    "if len(lista)>1:\n",
    "    imprimo=False\n",
    "    debug=False\n",
    "else:\n",
    "    imprimo= True\n",
    "    debug=True\n",
    "print(lista)\n",
    "porcentajes_sumados=0\n",
    "win_rate_buenos = 0\n",
    "win_rate_malos = 0\n",
    "trades = 0\n",
    "for symbol in lista:    \n",
    "    try:\n",
    "        #print(symbol)\n",
    "        data = md.estrategia_smart(symbol, debug = False, refinado = False, file_source = False, timeframe = timeframe)\n",
    "        resultado=md.backtesting_smart(data, plot_flag=imprimo, symbol=symbol)\n",
    "        if resultado['Win Rate [%]'] >= 50:\n",
    "            lista_filtrada.append(symbol)\n",
    "        print(f\"{symbol} - Return [%]: {md.truncate(resultado['Return [%]'],2)}% - # Trades: {resultado['# Trades']} - Profit Factor: {resultado['Profit Factor']} - Win Rate [%]: {resultado['Win Rate [%]']}\")\n",
    "        porcentajes_sumados=porcentajes_sumados+resultado['Return [%]']\n",
    "        trades = trades + resultado['# Trades']\n",
    "        if resultado['Win Rate [%]'] >= 50:\n",
    "            win_rate_buenos = win_rate_buenos+1\n",
    "        else:\n",
    "            win_rate_malos = win_rate_malos+1\n",
    "    except Exception as falla:\n",
    "        _, _, exc_tb = sys.exc_info()\n",
    "        fname = os.path.split(exc_tb.tb_frame.f_code.co_filename)[1]\n",
    "        print(\"\\nError: \"+str(falla)+\" - line: \"+str(exc_tb.tb_lineno)+\" - file: \"+str(fname)+\"\\n\")\n",
    "        pass\n",
    "for symbol in lista_filtrada:\n",
    "    md.printandlog(cons.nombrelog,symbol,pal=1)\n",
    "print(f\"\\nTimeframe {timeframe} - porcentajes_sumados {md.truncate(porcentajes_sumados,2)} - trades {trades} - win_rate_buenos {win_rate_buenos} - win_rate_malos {win_rate_malos}\")\n",
    "#(data.loc[data['Open Time'] == '2023-10-03 03:00:00'])\n"
   ]
  }
 ],
 "metadata": {
  "kernelspec": {
   "display_name": "Python 3 (ipykernel)",
   "language": "python",
   "name": "python3"
  },
  "language_info": {
   "codemirror_mode": {
    "name": "ipython",
    "version": 3
   },
   "file_extension": ".py",
   "mimetype": "text/x-python",
   "name": "python",
   "nbconvert_exporter": "python",
   "pygments_lexer": "ipython3",
   "version": "3.10.11"
  }
 },
 "nbformat": 4,
 "nbformat_minor": 5
}
