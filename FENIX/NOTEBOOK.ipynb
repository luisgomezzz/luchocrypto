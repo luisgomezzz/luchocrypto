{
 "cells": [
  {
   "cell_type": "code",
   "execution_count": 2,
   "id": "b29811c3",
   "metadata": {
    "scrolled": false
   },
   "outputs": [
    {
     "name": "stdout",
     "output_type": "stream",
     "text": [
      "EOSUSDT - retorno: 6.15% - trades: 13\n",
      "XLMUSDT - retorno: 2.13% - trades: 9\n",
      "XTZUSDT - retorno: 4.03% - trades: 7\n",
      "ONTUSDT - retorno: 2.77% - trades: 6\n",
      "IOTAUSDT - retorno: 1.91% - trades: 9\n",
      "BATUSDT - retorno: 3.29% - trades: 6\n",
      "THETAUSDT - retorno: 9.33% - trades: 6\n",
      "KNCUSDT - retorno: 7.47% - trades: 6\n",
      "ZRXUSDT - retorno: 3.22% - trades: 9\n",
      "OMGUSDT - retorno: 11.38% - trades: 7\n",
      "SXPUSDT - retorno: 2.64% - trades: 8\n",
      "KAVAUSDT - retorno: 15.97% - trades: 8\n"
     ]
    },
    {
     "name": "stderr",
     "output_type": "stream",
     "text": [
      "c:\\LUCHO\\personal\\repopersonal\\luchocrypto\\FENIX\\modulos.py:313: UserWarning: Some prices are larger than initial cash value. Note that fractional trading is not supported. If you want to trade Bitcoin, increase initial cash, or trade μBTC or satoshis instead (GH-134).\n",
      "  bt = Backtest(data, Fenix, cash=1000)\n"
     ]
    },
    {
     "name": "stdout",
     "output_type": "stream",
     "text": [
      "\n",
      "Error: APIError(code=-1121): Invalid symbol. - line: 236 - file: modulos.py - par: DEFIUSDT\n",
      "\n"
     ]
    },
    {
     "name": "stderr",
     "output_type": "stream",
     "text": [
      "c:\\LUCHO\\personal\\repopersonal\\luchocrypto\\FENIX\\modulos.py:313: UserWarning: Some prices are larger than initial cash value. Note that fractional trading is not supported. If you want to trade Bitcoin, increase initial cash, or trade μBTC or satoshis instead (GH-134).\n",
      "  bt = Backtest(data, Fenix, cash=1000)\n"
     ]
    },
    {
     "name": "stdout",
     "output_type": "stream",
     "text": [
      "CRVUSDT - retorno: 17.03% - trades: 6\n",
      "RUNEUSDT - retorno: 21.17% - trades: 4\n",
      "SUSHIUSDT - retorno: 8.32% - trades: 6\n",
      "SRMUSDT - retorno: 22.43% - trades: 12\n",
      "ICXUSDT - retorno: 2.47% - trades: 8\n",
      "STORJUSDT - retorno: 24.28% - trades: 8\n",
      "FTMUSDT - retorno: 4.1% - trades: 7\n",
      "ENJUSDT - retorno: 4.73% - trades: 7\n",
      "FLMUSDT - retorno: 1.79% - trades: 12\n",
      "LRCUSDT - retorno: 2.19% - trades: 7\n",
      "MATICUSDT - retorno: 1.96% - trades: 11\n",
      "OCEANUSDT - retorno: 1.57% - trades: 6\n",
      "BELUSDT - retorno: 9.68% - trades: 6\n",
      "GRTUSDT - retorno: 2.23% - trades: 8\n",
      "1INCHUSDT - retorno: 4.96% - trades: 5\n",
      "SANDUSDT - retorno: 3.84% - trades: 7\n",
      "LITUSDT - retorno: 9.8% - trades: 9\n",
      "SFPUSDT - retorno: 11.81% - trades: 4\n",
      "MANAUSDT - retorno: 4.36% - trades: 7\n",
      "ALICEUSDT - retorno: 18.73% - trades: 5\n",
      "\n",
      "Error: APIError(code=-1121): Invalid symbol. - line: 236 - file: modulos.py - par: 1000SHIBUSDT\n",
      "\n",
      "BAKEUSDT - retorno: 1.67% - trades: 7\n",
      "GTCUSDT - retorno: 17.5% - trades: 6\n",
      "RAYUSDT - retorno: 2.4% - trades: 5\n",
      "C98USDT - retorno: 2.72% - trades: 4\n"
     ]
    }
   ],
   "source": [
    "import modulos as md\n",
    "lista=['THETAUSDT']\n",
    "lista=md.lista_de_monedas()\n",
    "\n",
    "for symbol in lista:\n",
    "    try:\n",
    "        data = md.obtiene_historial(symbol,'30m')\n",
    "        data = md.estrategia_santa(data)\n",
    "        resultado = md.backtesting(data,tp_flag=False,plot_flag=False)\n",
    "        if resultado[6]>1.5:\n",
    "            print(f\"{symbol} - retorno: {md.truncate(resultado[6],2)}% - trades: {resultado[17]}\")\n",
    "    except Exception as falla:\n",
    "        pass  \n"
   ]
  },
  {
   "cell_type": "code",
   "execution_count": 2,
   "id": "cd995f0a",
   "metadata": {},
   "outputs": [
    {
     "name": "stdout",
     "output_type": "stream",
     "text": [
      "COMBOUSDT - retorno: 10.4% - trades: 2\n"
     ]
    }
   ],
   "source": [
    "import modulos as md\n",
    "lista=['COMBOUSDT']\n",
    "#lista=md.lista_de_monedas()\n",
    "\n",
    "for symbol in lista:\n",
    "    try:\n",
    "        data = md.obtiene_historial(symbol,'1m')\n",
    "        data = md.estrategia_santa(data)\n",
    "        resultado = md.backtesting(data,tp_flag=False,plot_flag=False)\n",
    "        if resultado[6]>1.5:\n",
    "            print(f\"{symbol} - retorno: {md.truncate(resultado[6],2)}% - trades: {resultado[17]}\")\n",
    "    except Exception as falla:\n",
    "        pass  "
   ]
  }
 ],
 "metadata": {
  "kernelspec": {
   "display_name": "Python 3 (ipykernel)",
   "language": "python",
   "name": "python3"
  },
  "language_info": {
   "codemirror_mode": {
    "name": "ipython",
    "version": 3
   },
   "file_extension": ".py",
   "mimetype": "text/x-python",
   "name": "python",
   "nbconvert_exporter": "python",
   "pygments_lexer": "ipython3",
   "version": "3.10.11"
  }
 },
 "nbformat": 4,
 "nbformat_minor": 5
}
