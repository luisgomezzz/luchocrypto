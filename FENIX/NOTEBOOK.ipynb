{
 "cells": [
  {
   "cell_type": "code",
   "execution_count": 5,
   "id": "cd995f0a",
   "metadata": {},
   "outputs": [
    {
     "name": "stdout",
     "output_type": "stream",
     "text": [
      "EOSUSDT - retorno: 1.66% - trades: 7\n",
      "XLMUSDT - retorno: 2.29% - trades: 5\n",
      "XTZUSDT - retorno: 6.2% - trades: 7\n",
      "BATUSDT - retorno: 1.89% - trades: 7\n",
      "THETAUSDT - retorno: 8.94% - trades: 10\n",
      "ZRXUSDT - retorno: 2.11% - trades: 5\n"
     ]
    },
    {
     "name": "stderr",
     "output_type": "stream",
     "text": [
      "c:\\LUCHO\\personal\\repopersonal\\luchocrypto\\FENIX\\modulos.py:313: UserWarning: Some prices are larger than initial cash value. Note that fractional trading is not supported. If you want to trade Bitcoin, increase initial cash, or trade μBTC or satoshis instead (GH-134).\n",
      "  bt = Backtest(data, Fenix, cash=1000)\n"
     ]
    },
    {
     "name": "stdout",
     "output_type": "stream",
     "text": [
      "\n",
      "Error: APIError(code=-1121): Invalid symbol. - line: 236 - file: modulos.py - par: DEFIUSDT\n",
      "\n"
     ]
    },
    {
     "name": "stderr",
     "output_type": "stream",
     "text": [
      "c:\\LUCHO\\personal\\repopersonal\\luchocrypto\\FENIX\\modulos.py:313: UserWarning: Some prices are larger than initial cash value. Note that fractional trading is not supported. If you want to trade Bitcoin, increase initial cash, or trade μBTC or satoshis instead (GH-134).\n",
      "  bt = Backtest(data, Fenix, cash=1000)\n"
     ]
    },
    {
     "name": "stdout",
     "output_type": "stream",
     "text": [
      "RUNEUSDT - retorno: 4.21% - trades: 6\n",
      "SUSHIUSDT - retorno: 4.32% - trades: 8\n",
      "SRMUSDT - retorno: 2.25% - trades: 5\n",
      "STORJUSDT - retorno: 11.73% - trades: 4\n",
      "FTMUSDT - retorno: 3.9% - trades: 7\n",
      "ENJUSDT - retorno: 5.65% - trades: 5\n",
      "CTKUSDT - retorno: 4.2% - trades: 6\n",
      "ALICEUSDT - retorno: 4.21% - trades: 10\n",
      "\n",
      "Error: APIError(code=-1121): Invalid symbol. - line: 236 - file: modulos.py - par: 1000SHIBUSDT\n",
      "\n",
      "\n",
      "Error: APIError(code=-1121): Invalid symbol. - line: 236 - file: modulos.py - par: BTCDOMUSDT\n",
      "\n",
      "\n",
      "Error: APIError(code=-1121): Invalid symbol. - line: 236 - file: modulos.py - par: 1000XECUSDT\n",
      "\n",
      "CELOUSDT - retorno: 4.91% - trades: 7\n",
      "CTSIUSDT - retorno: 2.09% - trades: 8\n",
      "\n",
      "Error: APIError(code=-1121): Invalid symbol. - line: 236 - file: modulos.py - par: FOOTBALLUSDT\n",
      "\n",
      "\n",
      "Error: APIError(code=-1121): Invalid symbol. - line: 236 - file: modulos.py - par: 1000LUNCUSDT\n",
      "\n",
      "\n",
      "Error: APIError(code=-1121): Invalid symbol. - line: 236 - file: modulos.py - par: LUNA2USDT\n",
      "\n",
      "\n",
      "Error: APIError(code=-1121): Invalid symbol. - line: 236 - file: modulos.py - par: BLUEBIRDUSDT\n",
      "\n",
      "MINAUSDT - retorno: 7.35% - trades: 6\n",
      "PHBUSDT - retorno: 6.84% - trades: 9\n",
      "BNXUSDT - retorno: 3.23% - trades: 7\n",
      "LQTYUSDT - retorno: 5.09% - trades: 8\n",
      "RDNTUSDT - retorno: 2.15% - trades: 9\n",
      "\n",
      "Error: APIError(code=-1121): Invalid symbol. - line: 236 - file: modulos.py - par: BLURUSDT\n",
      "\n",
      "SUIUSDT - retorno: 6.68% - trades: 7\n",
      "\n",
      "Error: APIError(code=-1121): Invalid symbol. - line: 236 - file: modulos.py - par: 1000PEPEUSDT\n",
      "\n",
      "\n",
      "Error: APIError(code=-1121): Invalid symbol. - line: 236 - file: modulos.py - par: 1000FLOKIUSDT\n",
      "\n",
      "COMBOUSDT - retorno: 17.6% - trades: 3\n"
     ]
    }
   ],
   "source": [
    "import modulos as md\n",
    "lista=['XVGUSDT']\n",
    "\n",
    "lista=md.lista_de_monedas()\n",
    "\n",
    "for symbol in lista:\n",
    "    try:\n",
    "        data = md.obtiene_historial(symbol,'30m')\n",
    "        data = md.estrategia_bb(data)\n",
    "        resultado = md.backtesting(data,tp_flag=True,plot_flag=False)\n",
    "        if resultado[6]>1.5:\n",
    "            print(f\"{symbol} - retorno: {md.truncate(resultado[6],2)}% - trades: {resultado[17]}\")\n",
    "    except Exception as falla:\n",
    "        pass  "
   ]
  },
  {
   "cell_type": "code",
   "execution_count": null,
   "id": "fcd2e5db",
   "metadata": {},
   "outputs": [],
   "source": []
  }
 ],
 "metadata": {
  "kernelspec": {
   "display_name": "Python 3 (ipykernel)",
   "language": "python",
   "name": "python3"
  },
  "language_info": {
   "codemirror_mode": {
    "name": "ipython",
    "version": 3
   },
   "file_extension": ".py",
   "mimetype": "text/x-python",
   "name": "python",
   "nbconvert_exporter": "python",
   "pygments_lexer": "ipython3",
   "version": "3.10.11"
  }
 },
 "nbformat": 4,
 "nbformat_minor": 5
}
