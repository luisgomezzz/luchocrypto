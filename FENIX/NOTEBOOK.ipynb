{
 "cells": [
  {
   "cell_type": "code",
   "execution_count": 2,
   "id": "2d7ba37d",
   "metadata": {},
   "outputs": [
    {
     "name": "stderr",
     "output_type": "stream",
     "text": [
      "BokehDeprecationWarning: Passing lists of formats for DatetimeTickFormatter scales was deprecated in Bokeh 3.0. Configure a single string format for each scale\n",
      "C:\\Users\\Luis Gomez Freites\\AppData\\Local\\Packages\\PythonSoftwareFoundation.Python.3.10_qbz5n2kfra8p0\\LocalCache\\local-packages\\Python310\\site-packages\\backtesting\\_plotting.py:250: UserWarning: DatetimeFormatter scales now only accept a single format. Using the first provided: '%d %b'\n",
      "  formatter=DatetimeTickFormatter(days=['%d %b', '%a %d'],\n",
      "BokehDeprecationWarning: Passing lists of formats for DatetimeTickFormatter scales was deprecated in Bokeh 3.0. Configure a single string format for each scale\n",
      "C:\\Users\\Luis Gomez Freites\\AppData\\Local\\Packages\\PythonSoftwareFoundation.Python.3.10_qbz5n2kfra8p0\\LocalCache\\local-packages\\Python310\\site-packages\\backtesting\\_plotting.py:250: UserWarning: DatetimeFormatter scales now only accept a single format. Using the first provided: '%m/%Y'\n",
      "  formatter=DatetimeTickFormatter(days=['%d %b', '%a %d'],\n"
     ]
    },
    {
     "name": "stdout",
     "output_type": "stream",
     "text": [
      "OMGUSDT - Return [%]: 2.27% - # Trades: 4 - Profit Factor: 15.74 - Win Rate [%]: 75.0\n"
     ]
    }
   ],
   "source": [
    "###################################### ESTRATEGIA BB\n",
    "###################################################################################################################\n",
    "import modulos as md\n",
    "import numpy as np\n",
    "import constantes as cons\n",
    "\n",
    "lista=['EOSUSDT',\n",
    "'ADAUSDT',\n",
    "'IOTAUSDT',\n",
    "'KNCUSDT',\n",
    "'ZRXUSDT',\n",
    "'OMGUSDT',\n",
    "'SXPUSDT',\n",
    "'ICXUSDT',\n",
    "'MATICUSDT',\n",
    "'OCEANUSDT',\n",
    "'BELUSDT',\n",
    "'CTKUSDT',\n",
    "'SANDUSDT',\n",
    "'MANAUSDT',\n",
    "'IMXUSDT',\n",
    "'WOOUSDT',\n",
    "'MAGICUSDT',\n",
    "'MINAUSDT',\n",
    "'AGIXUSDT',\n",
    "'IDUSDT',\n",
    "'RDNTUSDT',\n",
    "'SUIUSDT',\n",
    "'COMBOUSDT'\n",
    "]\n",
    "lista_filtrada = []\n",
    "\n",
    "#lista=md.lista_de_monedas ()\n",
    "lista=['OMGUSDT']\n",
    "\n",
    "for symbol in lista:    \n",
    "    try:\n",
    "        data = md.sigo_variacion_bitcoin(symbol)\n",
    "        #data = md.estrategia_bb(symbol)\n",
    "        #data = md.estrategia_santa(symbol,tp_flag=True)\n",
    "        resultado = md.backtesting(data, plot_flag = True)\n",
    "        #if (\n",
    "        #    (resultado['Profit Factor'] > 2 or np.isnan(resultado['Profit Factor']))\n",
    "        #    and (resultado['Return [%]']/resultado['# Trades']) >=0.33 \n",
    "        #    ):\n",
    "        #    lista_filtrada.append(symbol)\n",
    "        print(f\"{symbol} - Return [%]: {md.truncate(resultado['Return [%]'],2)}% - # Trades: {resultado['# Trades']} - Profit Factor: {md.truncate(resultado['Profit Factor'],2)} - Win Rate [%]: {resultado['Win Rate [%]']}\")\n",
    "        \n",
    "    except Exception as falla:\n",
    "        pass\n",
    "#for symbol in lista_filtrada:\n",
    "#    md.printandlog(cons.nombrelog,symbol,pal=1)"
   ]
  }
 ],
 "metadata": {
  "kernelspec": {
   "display_name": "Python 3 (ipykernel)",
   "language": "python",
   "name": "python3"
  },
  "language_info": {
   "codemirror_mode": {
    "name": "ipython",
    "version": 3
   },
   "file_extension": ".py",
   "mimetype": "text/x-python",
   "name": "python",
   "nbconvert_exporter": "python",
   "pygments_lexer": "ipython3",
   "version": "3.10.11"
  }
 },
 "nbformat": 4,
 "nbformat_minor": 5
}
