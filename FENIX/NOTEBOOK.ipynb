{
 "cells": [
  {
   "cell_type": "code",
   "execution_count": 1,
   "id": "2d7ba37d",
   "metadata": {},
   "outputs": [
    {
     "name": "stderr",
     "output_type": "stream",
     "text": [
      "C:\\Users\\Luis Gomez Freites\\AppData\\Local\\Packages\\PythonSoftwareFoundation.Python.3.10_qbz5n2kfra8p0\\LocalCache\\local-packages\\Python310\\site-packages\\tqdm\\auto.py:22: TqdmWarning: IProgress not found. Please update jupyter and ipywidgets. See https://ipywidgets.readthedocs.io/en/stable/user_install.html\n",
      "  from .autonotebook import tqdm as notebook_tqdm\n"
     ]
    },
    {
     "name": "stdout",
     "output_type": "stream",
     "text": [
      "Candleid-1: 324 - linea superior 0.043890265486725664\n",
      "Candleid-1: 324 - linea inferior 0.04429999999999999\n",
      "Precio Close-1: 0.0443\n",
      "Candleid-1: 653 - linea superior 0.05425164835164838\n",
      "Candleid-1: 653 - linea inferior 0.05500701754385975\n",
      "Precio Close-1: 0.0529\n",
      "Candleid-1: 654 - linea superior 0.05414505494505496\n",
      "Candleid-1: 654 - linea inferior 0.055138596491228174\n",
      "Precio Close-1: 0.0522\n",
      "Candleid-1: 655 - linea superior 0.05403846153846156\n",
      "Candleid-1: 655 - linea inferior 0.0552701754385966\n",
      "Precio Close-1: 0.0521\n"
     ]
    },
    {
     "name": "stderr",
     "output_type": "stream",
     "text": [
      "BokehDeprecationWarning: Passing lists of formats for DatetimeTickFormatter scales was deprecated in Bokeh 3.0. Configure a single string format for each scale\n",
      "C:\\Users\\Luis Gomez Freites\\AppData\\Local\\Packages\\PythonSoftwareFoundation.Python.3.10_qbz5n2kfra8p0\\LocalCache\\local-packages\\Python310\\site-packages\\backtesting\\_plotting.py:250: UserWarning: DatetimeFormatter scales now only accept a single format. Using the first provided: '%d %b'\n",
      "  formatter=DatetimeTickFormatter(days=['%d %b', '%a %d'],\n",
      "BokehDeprecationWarning: Passing lists of formats for DatetimeTickFormatter scales was deprecated in Bokeh 3.0. Configure a single string format for each scale\n",
      "C:\\Users\\Luis Gomez Freites\\AppData\\Local\\Packages\\PythonSoftwareFoundation.Python.3.10_qbz5n2kfra8p0\\LocalCache\\local-packages\\Python310\\site-packages\\backtesting\\_plotting.py:250: UserWarning: DatetimeFormatter scales now only accept a single format. Using the first provided: '%m/%Y'\n",
      "  formatter=DatetimeTickFormatter(days=['%d %b', '%a %d'],\n"
     ]
    },
    {
     "name": "stdout",
     "output_type": "stream",
     "text": [
      "ASTRUSDT - Return [%]: -0.14% - # Trades: 2 - Profit Factor: 0.0 - Win Rate [%]: 0.0\n"
     ]
    }
   ],
   "source": [
    "import modulos as md\n",
    "import numpy as np\n",
    "import constantes as cons\n",
    "import os\n",
    "import sys\n",
    "lista_filtrada = []\n",
    "\n",
    "#lista=md.lista_de_monedas()\n",
    "#lista=md.filtradodemonedas ()\n",
    "#lista=['LINKUSDT', 'LTCUSDT', 'BCHUSDT', 'WLDUSDT', 'IDUSDT', 'HBARUSDT', 'API3USDT', 'BNBUSDT', 'C98USDT', '1000SHIBUSDT', 'STXUSDT', 'LPTUSDT', 'XLMUSDT', 'CRVUSDT', 'MKRUSDT', 'ALGOUSDT', 'HIGHUSDT', 'COMPUSDT', 'DOGEUSDT', 'XRPUSDT', 'OPUSDT', 'ARBUSDT', 'AUDIOUSDT', '1000PEPEUSDT', 'MATICUSDT', 'APEUSDT', 'SOLUSDT', 'TOMOUSDT', 'EOSUSDT', 'ADAUSDT', 'SUIUSDT', 'YGGUSDT', 'DODOXUSDT']\n",
    "lista=['ASTRUSDT']\n",
    "\n",
    "if len(lista)>1:\n",
    "    imprimo=False\n",
    "else:\n",
    "    imprimo= True\n",
    "for symbol in lista:    \n",
    "    try:\n",
    "        data,porcentajeentrada = md.estrategia_santa(symbol,tp_flag = True)\n",
    "        #data = md.estrategia_triangulos(symbol, tp_flag = False, print_lines_flag = imprimo)\n",
    "        #data,porcentajeentrada = md.estrategia_adrian(symbol,tp_flag = False)\n",
    "        #######################################################################\n",
    "        #resultado = md.backtesting(data, plot_flag = imprimo)\n",
    "        resultado = md.backtestingsanta(data, plot_flag = True,debug = True)\n",
    "        #if resultado['Return [%]'] < 0: # para santa3 mazmorra\n",
    "        if resultado['Return [%]'] > 0:\n",
    "            #if ((resultado['Profit Factor'] > 2 or np.isnan(resultado['Profit Factor'])) and (resultado['Return [%]']/resultado['# Trades']) >=0.33):            \n",
    "                lista_filtrada.append(symbol)\n",
    "        print(f\"{symbol} - Return [%]: {md.truncate(resultado['Return [%]'],2)}% - # Trades: {resultado['# Trades']} - Profit Factor: {resultado['Profit Factor']} - Win Rate [%]: {resultado['Win Rate [%]']}\")\n",
    "    except Exception as falla:\n",
    "        _, _, exc_tb = sys.exc_info()\n",
    "        fname = os.path.split(exc_tb.tb_frame.f_code.co_filename)[1]\n",
    "        print(\"\\nError: \"+str(falla)+\" - line: \"+str(exc_tb.tb_lineno)+\" - file: \"+str(fname)+\"\\n\")\n",
    "for symbol in lista_filtrada:\n",
    "    md.printandlog(cons.nombrelog,symbol,pal=1)\n",
    "#md.dibuja_patrones_triangulos (data,998)    \n"
   ]
  },
  {
   "cell_type": "code",
   "execution_count": 2,
   "id": "ebc2902d",
   "metadata": {},
   "outputs": [
    {
     "name": "stdout",
     "output_type": "stream",
     "text": [
      "0.9030381159725251 -0.8435944233915904\n"
     ]
    },
    {
     "data": {
      "application/vnd.plotly.v1+json": {
       "config": {
        "plotlyServerURL": "https://plot.ly"
       },
       "data": [
        {
         "close": [
          0.4736,
          0.4725,
          0.4728,
          0.4739,
          0.4749,
          0.476,
          0.4763,
          0.4753,
          0.4737,
          0.4744,
          0.4754,
          0.4754,
          0.4751,
          0.4763,
          0.4757,
          0.4754,
          0.4738,
          0.4739,
          0.4726,
          0.4738,
          0.4737,
          0.473,
          0.4733,
          0.471,
          0.4687,
          0.4706,
          0.472,
          0.4683,
          0.4691,
          0.4701,
          0.4711,
          0.471,
          0.4709,
          0.4712,
          0.4716,
          0.4721,
          0.4722,
          0.473,
          0.4703,
          0.4714,
          0.4726,
          0.4726,
          0.4739,
          0.4734,
          0.4729,
          0.4736,
          0.4735,
          0.5905,
          0.6122,
          0.745,
          0.7878,
          0.8214,
          0.8115,
          0.7918,
          0.8102,
          0.8153,
          0.7827,
          0.7565,
          0.7691,
          0.7833,
          0.79,
          0.7899,
          0.7867,
          0.7698,
          0.7853,
          0.778,
          0.7914,
          0.7984,
          0.7716,
          0.7785,
          0.7801,
          0.7777,
          0.749,
          0.7078,
          0.6837,
          0.6996,
          0.7111,
          0.7208,
          0.7184,
          0.7179,
          0.7045,
          0.7145,
          0.7081,
          0.7208,
          0.7227,
          0.7187,
          0.7241,
          0.7251,
          0.7212,
          0.7196,
          0.7216,
          0.7181,
          0.7238,
          0.7244,
          0.7219,
          0.7233,
          0.7067,
          0.713,
          0.725,
          0.7233,
          0.717,
          0.7172,
          0.714,
          0.7145,
          0.7204,
          0.7192,
          0.7203,
          0.7118,
          0.7118,
          0.7136,
          0.7156,
          0.715,
          0.718,
          0.7204,
          0.739,
          0.7496,
          0.7483,
          0.7466,
          0.7687,
          0.7712,
          0.7654,
          0.7737,
          0.7695,
          0.7421,
          0.7423,
          0.7566,
          0.7545,
          0.7468,
          0.7462,
          0.7548,
          0.7532,
          0.7571,
          0.7494,
          0.7463,
          0.7479,
          0.7495,
          0.745,
          0.7323,
          0.7398,
          0.7358
         ],
         "high": [
          0.4744,
          0.4736,
          0.4729,
          0.4739,
          0.4751,
          0.4763,
          0.4766,
          0.4768,
          0.4758,
          0.4753,
          0.476,
          0.4756,
          0.4755,
          0.4765,
          0.4765,
          0.4772,
          0.4755,
          0.4746,
          0.474,
          0.474,
          0.4762,
          0.4741,
          0.4739,
          0.4738,
          0.4712,
          0.4708,
          0.4721,
          0.4723,
          0.4697,
          0.4703,
          0.4712,
          0.4716,
          0.472,
          0.4715,
          0.4728,
          0.4723,
          0.4732,
          0.4731,
          0.4732,
          0.4719,
          0.4727,
          0.4729,
          0.4741,
          0.4742,
          0.474,
          0.4739,
          0.474,
          0.6472,
          0.62,
          0.758,
          0.938,
          0.8777,
          0.8318,
          0.8167,
          0.823,
          0.8249,
          0.8253,
          0.7845,
          0.7712,
          0.784,
          0.8197,
          0.7965,
          0.7995,
          0.7912,
          0.7869,
          0.7856,
          0.8006,
          0.8073,
          0.7998,
          0.7823,
          0.784,
          0.786,
          0.7827,
          0.749,
          0.7176,
          0.706,
          0.72,
          0.7258,
          0.7217,
          0.7257,
          0.723,
          0.7224,
          0.7164,
          0.7362,
          0.7334,
          0.7243,
          0.7308,
          0.7291,
          0.7258,
          0.7227,
          0.7292,
          0.727,
          0.7338,
          0.7269,
          0.726,
          0.7248,
          0.7238,
          0.7147,
          0.7315,
          0.7303,
          0.7236,
          0.718,
          0.7188,
          0.7146,
          0.7232,
          0.7271,
          0.7243,
          0.7209,
          0.713,
          0.7153,
          0.7194,
          0.718,
          0.7191,
          0.7228,
          0.7621,
          0.7547,
          0.7559,
          0.7501,
          0.7775,
          0.7794,
          0.7737,
          0.7785,
          0.79,
          0.7713,
          0.7481,
          0.7593,
          0.7617,
          0.7565,
          0.7521,
          0.759,
          0.7599,
          0.7583,
          0.7571,
          0.7532,
          0.7499,
          0.7547,
          0.7504,
          0.7474,
          0.7446,
          0.7435
         ],
         "low": [
          0.4723,
          0.4723,
          0.4709,
          0.4722,
          0.4735,
          0.4746,
          0.4755,
          0.475,
          0.4735,
          0.473,
          0.474,
          0.4741,
          0.4747,
          0.4747,
          0.4738,
          0.4753,
          0.4737,
          0.4729,
          0.4722,
          0.4725,
          0.4725,
          0.4693,
          0.4726,
          0.4701,
          0.4664,
          0.468,
          0.4705,
          0.4648,
          0.4678,
          0.4687,
          0.4698,
          0.4704,
          0.4707,
          0.4695,
          0.4711,
          0.4707,
          0.4716,
          0.4719,
          0.4703,
          0.4701,
          0.4706,
          0.4711,
          0.4722,
          0.4726,
          0.4725,
          0.4725,
          0.4718,
          0.4733,
          0.583,
          0.6107,
          0.7357,
          0.78,
          0.797,
          0.7702,
          0.7871,
          0.807,
          0.7705,
          0.7231,
          0.7381,
          0.7639,
          0.7813,
          0.7703,
          0.7846,
          0.7639,
          0.7688,
          0.767,
          0.7741,
          0.7854,
          0.7652,
          0.7659,
          0.7687,
          0.772,
          0.7336,
          0.7011,
          0.6686,
          0.6772,
          0.6852,
          0.71,
          0.713,
          0.7155,
          0.6955,
          0.6919,
          0.701,
          0.7066,
          0.7194,
          0.7134,
          0.7139,
          0.7203,
          0.7108,
          0.7154,
          0.719,
          0.7169,
          0.7177,
          0.7174,
          0.7191,
          0.7176,
          0.7011,
          0.7042,
          0.7105,
          0.7217,
          0.7153,
          0.7074,
          0.7114,
          0.7091,
          0.7114,
          0.7168,
          0.702,
          0.7104,
          0.7069,
          0.7102,
          0.7113,
          0.7143,
          0.7136,
          0.716,
          0.7196,
          0.7337,
          0.7416,
          0.7424,
          0.7464,
          0.7642,
          0.7601,
          0.7628,
          0.7637,
          0.735,
          0.7377,
          0.7415,
          0.7534,
          0.7405,
          0.7407,
          0.7449,
          0.7509,
          0.7515,
          0.7444,
          0.7448,
          0.745,
          0.7468,
          0.742,
          0.7275,
          0.72,
          0.7343
         ],
         "open": [
          0.4743,
          0.4736,
          0.4725,
          0.4727,
          0.4739,
          0.4749,
          0.4759,
          0.4763,
          0.4753,
          0.4737,
          0.4745,
          0.4755,
          0.4754,
          0.4751,
          0.4764,
          0.4757,
          0.4753,
          0.4737,
          0.4739,
          0.4727,
          0.4738,
          0.4737,
          0.4729,
          0.4732,
          0.471,
          0.4687,
          0.4707,
          0.472,
          0.4684,
          0.469,
          0.4701,
          0.4711,
          0.471,
          0.471,
          0.4712,
          0.4716,
          0.472,
          0.4722,
          0.4729,
          0.4704,
          0.4715,
          0.4726,
          0.4726,
          0.4739,
          0.4735,
          0.4728,
          0.4736,
          0.4735,
          0.5906,
          0.6123,
          0.7451,
          0.7875,
          0.8213,
          0.8116,
          0.7918,
          0.8103,
          0.8151,
          0.7827,
          0.7566,
          0.769,
          0.7832,
          0.79,
          0.7898,
          0.7866,
          0.7698,
          0.7852,
          0.7779,
          0.7913,
          0.7983,
          0.7716,
          0.7785,
          0.7801,
          0.7776,
          0.749,
          0.7078,
          0.6838,
          0.6996,
          0.711,
          0.7208,
          0.7184,
          0.7178,
          0.7044,
          0.7145,
          0.7082,
          0.7208,
          0.7226,
          0.7186,
          0.7243,
          0.7251,
          0.7212,
          0.7197,
          0.7216,
          0.7179,
          0.7238,
          0.7243,
          0.722,
          0.7233,
          0.7067,
          0.7131,
          0.7251,
          0.7233,
          0.717,
          0.7173,
          0.714,
          0.7144,
          0.7204,
          0.7191,
          0.7204,
          0.7118,
          0.7117,
          0.7137,
          0.7155,
          0.715,
          0.7179,
          0.7203,
          0.739,
          0.7496,
          0.7483,
          0.7465,
          0.7687,
          0.7712,
          0.7655,
          0.7737,
          0.7694,
          0.7421,
          0.7424,
          0.7565,
          0.7545,
          0.7468,
          0.7462,
          0.7548,
          0.7532,
          0.757,
          0.7493,
          0.7462,
          0.7479,
          0.7494,
          0.745,
          0.7323,
          0.7397
         ],
         "type": "candlestick",
         "x": [
          253,
          254,
          255,
          256,
          257,
          258,
          259,
          260,
          261,
          262,
          263,
          264,
          265,
          266,
          267,
          268,
          269,
          270,
          271,
          272,
          273,
          274,
          275,
          276,
          277,
          278,
          279,
          280,
          281,
          282,
          283,
          284,
          285,
          286,
          287,
          288,
          289,
          290,
          291,
          292,
          293,
          294,
          295,
          296,
          297,
          298,
          299,
          300,
          301,
          302,
          303,
          304,
          305,
          306,
          307,
          308,
          309,
          310,
          311,
          312,
          313,
          314,
          315,
          316,
          317,
          318,
          319,
          320,
          321,
          322,
          323,
          324,
          325,
          326,
          327,
          328,
          329,
          330,
          331,
          332,
          333,
          334,
          335,
          336,
          337,
          338,
          339,
          340,
          341,
          342,
          343,
          344,
          345,
          346,
          347,
          348,
          349,
          350,
          351,
          352,
          353,
          354,
          355,
          356,
          357,
          358,
          359,
          360,
          361,
          362,
          363,
          364,
          365,
          366,
          367,
          368,
          369,
          370,
          371,
          372,
          373,
          374,
          375,
          376,
          377,
          378,
          379,
          380,
          381,
          382,
          383,
          384,
          385,
          386,
          387,
          388,
          389,
          390,
          391,
          392
         ]
        },
        {
         "marker": {
          "color": "MediumPurple",
          "size": 4
         },
         "mode": "markers",
         "name": "pivot",
         "type": "scatter",
         "x": [
          253,
          254,
          255,
          256,
          257,
          258,
          259,
          260,
          261,
          262,
          263,
          264,
          265,
          266,
          267,
          268,
          269,
          270,
          271,
          272,
          273,
          274,
          275,
          276,
          277,
          278,
          279,
          280,
          281,
          282,
          283,
          284,
          285,
          286,
          287,
          288,
          289,
          290,
          291,
          292,
          293,
          294,
          295,
          296,
          297,
          298,
          299,
          300,
          301,
          302,
          303,
          304,
          305,
          306,
          307,
          308,
          309,
          310,
          311,
          312,
          313,
          314,
          315,
          316,
          317,
          318,
          319,
          320,
          321,
          322,
          323,
          324,
          325,
          326,
          327,
          328,
          329,
          330,
          331,
          332,
          333,
          334,
          335,
          336,
          337,
          338,
          339,
          340,
          341,
          342,
          343,
          344,
          345,
          346,
          347,
          348,
          349,
          350,
          351,
          352,
          353,
          354,
          355,
          356,
          357,
          358,
          359,
          360,
          361,
          362,
          363,
          364,
          365,
          366,
          367,
          368,
          369,
          370,
          371,
          372,
          373,
          374,
          375,
          376,
          377,
          378,
          379,
          380,
          381,
          382,
          383,
          384,
          385,
          386,
          387,
          388,
          389,
          390,
          391,
          392
         ],
         "y": [
          null,
          null,
          0.4699,
          null,
          null,
          null,
          null,
          0.4778,
          null,
          0.472,
          null,
          null,
          null,
          null,
          null,
          0.4782,
          null,
          null,
          null,
          null,
          0.4772,
          null,
          null,
          null,
          null,
          null,
          null,
          null,
          null,
          null,
          null,
          null,
          null,
          0.46849999999999997,
          null,
          null,
          0.4742,
          null,
          0.4742,
          0.4691,
          null,
          null,
          null,
          0.4752,
          null,
          null,
          0.4708,
          null,
          null,
          null,
          0.939,
          null,
          null,
          null,
          null,
          null,
          0.8263,
          0.7221,
          null,
          null,
          0.8207,
          null,
          null,
          0.7629,
          null,
          null,
          null,
          0.8083,
          0.7642,
          null,
          null,
          null,
          null,
          null,
          0.6676,
          null,
          null,
          0.7268,
          null,
          null,
          null,
          0.6909,
          null,
          0.7372,
          null,
          null,
          null,
          null,
          0.7098,
          null,
          null,
          null,
          0.7348,
          null,
          null,
          null,
          0.7001,
          null,
          0.7325,
          null,
          null,
          0.7064,
          null,
          null,
          null,
          0.7281,
          0.701,
          null,
          null,
          null,
          null,
          null,
          null,
          null,
          0.7631,
          null,
          null,
          null,
          null,
          null,
          null,
          null,
          0.791,
          0.734,
          null,
          null,
          null,
          null,
          null,
          null,
          0.7609,
          null,
          0.7434,
          null,
          null,
          null,
          null,
          null,
          0.719,
          null
         ]
        },
        {
         "mode": "lines",
         "name": "min slope",
         "type": "scatter",
         "x": [
          310,
          316,
          321,
          336
         ],
         "y": [
          0.7284901098901099,
          0.7520417582417581,
          0.7716681318681319,
          0.8305472527472527
         ]
        },
        {
         "mode": "lines",
         "name": "max slope",
         "type": "scatter",
         "x": [
          303,
          309,
          313,
          320,
          335
         ],
         "y": [
          0.9068278232405893,
          0.8637348608837971,
          0.8350062193126022,
          0.7847310965630117,
          0.6769986906710312
         ]
        }
       ],
       "layout": {
        "template": {
         "data": {
          "bar": [
           {
            "error_x": {
             "color": "#2a3f5f"
            },
            "error_y": {
             "color": "#2a3f5f"
            },
            "marker": {
             "line": {
              "color": "#E5ECF6",
              "width": 0.5
             },
             "pattern": {
              "fillmode": "overlay",
              "size": 10,
              "solidity": 0.2
             }
            },
            "type": "bar"
           }
          ],
          "barpolar": [
           {
            "marker": {
             "line": {
              "color": "#E5ECF6",
              "width": 0.5
             },
             "pattern": {
              "fillmode": "overlay",
              "size": 10,
              "solidity": 0.2
             }
            },
            "type": "barpolar"
           }
          ],
          "carpet": [
           {
            "aaxis": {
             "endlinecolor": "#2a3f5f",
             "gridcolor": "white",
             "linecolor": "white",
             "minorgridcolor": "white",
             "startlinecolor": "#2a3f5f"
            },
            "baxis": {
             "endlinecolor": "#2a3f5f",
             "gridcolor": "white",
             "linecolor": "white",
             "minorgridcolor": "white",
             "startlinecolor": "#2a3f5f"
            },
            "type": "carpet"
           }
          ],
          "choropleth": [
           {
            "colorbar": {
             "outlinewidth": 0,
             "ticks": ""
            },
            "type": "choropleth"
           }
          ],
          "contour": [
           {
            "colorbar": {
             "outlinewidth": 0,
             "ticks": ""
            },
            "colorscale": [
             [
              0,
              "#0d0887"
             ],
             [
              0.1111111111111111,
              "#46039f"
             ],
             [
              0.2222222222222222,
              "#7201a8"
             ],
             [
              0.3333333333333333,
              "#9c179e"
             ],
             [
              0.4444444444444444,
              "#bd3786"
             ],
             [
              0.5555555555555556,
              "#d8576b"
             ],
             [
              0.6666666666666666,
              "#ed7953"
             ],
             [
              0.7777777777777778,
              "#fb9f3a"
             ],
             [
              0.8888888888888888,
              "#fdca26"
             ],
             [
              1,
              "#f0f921"
             ]
            ],
            "type": "contour"
           }
          ],
          "contourcarpet": [
           {
            "colorbar": {
             "outlinewidth": 0,
             "ticks": ""
            },
            "type": "contourcarpet"
           }
          ],
          "heatmap": [
           {
            "colorbar": {
             "outlinewidth": 0,
             "ticks": ""
            },
            "colorscale": [
             [
              0,
              "#0d0887"
             ],
             [
              0.1111111111111111,
              "#46039f"
             ],
             [
              0.2222222222222222,
              "#7201a8"
             ],
             [
              0.3333333333333333,
              "#9c179e"
             ],
             [
              0.4444444444444444,
              "#bd3786"
             ],
             [
              0.5555555555555556,
              "#d8576b"
             ],
             [
              0.6666666666666666,
              "#ed7953"
             ],
             [
              0.7777777777777778,
              "#fb9f3a"
             ],
             [
              0.8888888888888888,
              "#fdca26"
             ],
             [
              1,
              "#f0f921"
             ]
            ],
            "type": "heatmap"
           }
          ],
          "heatmapgl": [
           {
            "colorbar": {
             "outlinewidth": 0,
             "ticks": ""
            },
            "colorscale": [
             [
              0,
              "#0d0887"
             ],
             [
              0.1111111111111111,
              "#46039f"
             ],
             [
              0.2222222222222222,
              "#7201a8"
             ],
             [
              0.3333333333333333,
              "#9c179e"
             ],
             [
              0.4444444444444444,
              "#bd3786"
             ],
             [
              0.5555555555555556,
              "#d8576b"
             ],
             [
              0.6666666666666666,
              "#ed7953"
             ],
             [
              0.7777777777777778,
              "#fb9f3a"
             ],
             [
              0.8888888888888888,
              "#fdca26"
             ],
             [
              1,
              "#f0f921"
             ]
            ],
            "type": "heatmapgl"
           }
          ],
          "histogram": [
           {
            "marker": {
             "pattern": {
              "fillmode": "overlay",
              "size": 10,
              "solidity": 0.2
             }
            },
            "type": "histogram"
           }
          ],
          "histogram2d": [
           {
            "colorbar": {
             "outlinewidth": 0,
             "ticks": ""
            },
            "colorscale": [
             [
              0,
              "#0d0887"
             ],
             [
              0.1111111111111111,
              "#46039f"
             ],
             [
              0.2222222222222222,
              "#7201a8"
             ],
             [
              0.3333333333333333,
              "#9c179e"
             ],
             [
              0.4444444444444444,
              "#bd3786"
             ],
             [
              0.5555555555555556,
              "#d8576b"
             ],
             [
              0.6666666666666666,
              "#ed7953"
             ],
             [
              0.7777777777777778,
              "#fb9f3a"
             ],
             [
              0.8888888888888888,
              "#fdca26"
             ],
             [
              1,
              "#f0f921"
             ]
            ],
            "type": "histogram2d"
           }
          ],
          "histogram2dcontour": [
           {
            "colorbar": {
             "outlinewidth": 0,
             "ticks": ""
            },
            "colorscale": [
             [
              0,
              "#0d0887"
             ],
             [
              0.1111111111111111,
              "#46039f"
             ],
             [
              0.2222222222222222,
              "#7201a8"
             ],
             [
              0.3333333333333333,
              "#9c179e"
             ],
             [
              0.4444444444444444,
              "#bd3786"
             ],
             [
              0.5555555555555556,
              "#d8576b"
             ],
             [
              0.6666666666666666,
              "#ed7953"
             ],
             [
              0.7777777777777778,
              "#fb9f3a"
             ],
             [
              0.8888888888888888,
              "#fdca26"
             ],
             [
              1,
              "#f0f921"
             ]
            ],
            "type": "histogram2dcontour"
           }
          ],
          "mesh3d": [
           {
            "colorbar": {
             "outlinewidth": 0,
             "ticks": ""
            },
            "type": "mesh3d"
           }
          ],
          "parcoords": [
           {
            "line": {
             "colorbar": {
              "outlinewidth": 0,
              "ticks": ""
             }
            },
            "type": "parcoords"
           }
          ],
          "pie": [
           {
            "automargin": true,
            "type": "pie"
           }
          ],
          "scatter": [
           {
            "fillpattern": {
             "fillmode": "overlay",
             "size": 10,
             "solidity": 0.2
            },
            "type": "scatter"
           }
          ],
          "scatter3d": [
           {
            "line": {
             "colorbar": {
              "outlinewidth": 0,
              "ticks": ""
             }
            },
            "marker": {
             "colorbar": {
              "outlinewidth": 0,
              "ticks": ""
             }
            },
            "type": "scatter3d"
           }
          ],
          "scattercarpet": [
           {
            "marker": {
             "colorbar": {
              "outlinewidth": 0,
              "ticks": ""
             }
            },
            "type": "scattercarpet"
           }
          ],
          "scattergeo": [
           {
            "marker": {
             "colorbar": {
              "outlinewidth": 0,
              "ticks": ""
             }
            },
            "type": "scattergeo"
           }
          ],
          "scattergl": [
           {
            "marker": {
             "colorbar": {
              "outlinewidth": 0,
              "ticks": ""
             }
            },
            "type": "scattergl"
           }
          ],
          "scattermapbox": [
           {
            "marker": {
             "colorbar": {
              "outlinewidth": 0,
              "ticks": ""
             }
            },
            "type": "scattermapbox"
           }
          ],
          "scatterpolar": [
           {
            "marker": {
             "colorbar": {
              "outlinewidth": 0,
              "ticks": ""
             }
            },
            "type": "scatterpolar"
           }
          ],
          "scatterpolargl": [
           {
            "marker": {
             "colorbar": {
              "outlinewidth": 0,
              "ticks": ""
             }
            },
            "type": "scatterpolargl"
           }
          ],
          "scatterternary": [
           {
            "marker": {
             "colorbar": {
              "outlinewidth": 0,
              "ticks": ""
             }
            },
            "type": "scatterternary"
           }
          ],
          "surface": [
           {
            "colorbar": {
             "outlinewidth": 0,
             "ticks": ""
            },
            "colorscale": [
             [
              0,
              "#0d0887"
             ],
             [
              0.1111111111111111,
              "#46039f"
             ],
             [
              0.2222222222222222,
              "#7201a8"
             ],
             [
              0.3333333333333333,
              "#9c179e"
             ],
             [
              0.4444444444444444,
              "#bd3786"
             ],
             [
              0.5555555555555556,
              "#d8576b"
             ],
             [
              0.6666666666666666,
              "#ed7953"
             ],
             [
              0.7777777777777778,
              "#fb9f3a"
             ],
             [
              0.8888888888888888,
              "#fdca26"
             ],
             [
              1,
              "#f0f921"
             ]
            ],
            "type": "surface"
           }
          ],
          "table": [
           {
            "cells": {
             "fill": {
              "color": "#EBF0F8"
             },
             "line": {
              "color": "white"
             }
            },
            "header": {
             "fill": {
              "color": "#C8D4E3"
             },
             "line": {
              "color": "white"
             }
            },
            "type": "table"
           }
          ]
         },
         "layout": {
          "annotationdefaults": {
           "arrowcolor": "#2a3f5f",
           "arrowhead": 0,
           "arrowwidth": 1
          },
          "autotypenumbers": "strict",
          "coloraxis": {
           "colorbar": {
            "outlinewidth": 0,
            "ticks": ""
           }
          },
          "colorscale": {
           "diverging": [
            [
             0,
             "#8e0152"
            ],
            [
             0.1,
             "#c51b7d"
            ],
            [
             0.2,
             "#de77ae"
            ],
            [
             0.3,
             "#f1b6da"
            ],
            [
             0.4,
             "#fde0ef"
            ],
            [
             0.5,
             "#f7f7f7"
            ],
            [
             0.6,
             "#e6f5d0"
            ],
            [
             0.7,
             "#b8e186"
            ],
            [
             0.8,
             "#7fbc41"
            ],
            [
             0.9,
             "#4d9221"
            ],
            [
             1,
             "#276419"
            ]
           ],
           "sequential": [
            [
             0,
             "#0d0887"
            ],
            [
             0.1111111111111111,
             "#46039f"
            ],
            [
             0.2222222222222222,
             "#7201a8"
            ],
            [
             0.3333333333333333,
             "#9c179e"
            ],
            [
             0.4444444444444444,
             "#bd3786"
            ],
            [
             0.5555555555555556,
             "#d8576b"
            ],
            [
             0.6666666666666666,
             "#ed7953"
            ],
            [
             0.7777777777777778,
             "#fb9f3a"
            ],
            [
             0.8888888888888888,
             "#fdca26"
            ],
            [
             1,
             "#f0f921"
            ]
           ],
           "sequentialminus": [
            [
             0,
             "#0d0887"
            ],
            [
             0.1111111111111111,
             "#46039f"
            ],
            [
             0.2222222222222222,
             "#7201a8"
            ],
            [
             0.3333333333333333,
             "#9c179e"
            ],
            [
             0.4444444444444444,
             "#bd3786"
            ],
            [
             0.5555555555555556,
             "#d8576b"
            ],
            [
             0.6666666666666666,
             "#ed7953"
            ],
            [
             0.7777777777777778,
             "#fb9f3a"
            ],
            [
             0.8888888888888888,
             "#fdca26"
            ],
            [
             1,
             "#f0f921"
            ]
           ]
          },
          "colorway": [
           "#636efa",
           "#EF553B",
           "#00cc96",
           "#ab63fa",
           "#FFA15A",
           "#19d3f3",
           "#FF6692",
           "#B6E880",
           "#FF97FF",
           "#FECB52"
          ],
          "font": {
           "color": "#2a3f5f"
          },
          "geo": {
           "bgcolor": "white",
           "lakecolor": "white",
           "landcolor": "#E5ECF6",
           "showlakes": true,
           "showland": true,
           "subunitcolor": "white"
          },
          "hoverlabel": {
           "align": "left"
          },
          "hovermode": "closest",
          "mapbox": {
           "style": "light"
          },
          "paper_bgcolor": "white",
          "plot_bgcolor": "#E5ECF6",
          "polar": {
           "angularaxis": {
            "gridcolor": "white",
            "linecolor": "white",
            "ticks": ""
           },
           "bgcolor": "#E5ECF6",
           "radialaxis": {
            "gridcolor": "white",
            "linecolor": "white",
            "ticks": ""
           }
          },
          "scene": {
           "xaxis": {
            "backgroundcolor": "#E5ECF6",
            "gridcolor": "white",
            "gridwidth": 2,
            "linecolor": "white",
            "showbackground": true,
            "ticks": "",
            "zerolinecolor": "white"
           },
           "yaxis": {
            "backgroundcolor": "#E5ECF6",
            "gridcolor": "white",
            "gridwidth": 2,
            "linecolor": "white",
            "showbackground": true,
            "ticks": "",
            "zerolinecolor": "white"
           },
           "zaxis": {
            "backgroundcolor": "#E5ECF6",
            "gridcolor": "white",
            "gridwidth": 2,
            "linecolor": "white",
            "showbackground": true,
            "ticks": "",
            "zerolinecolor": "white"
           }
          },
          "shapedefaults": {
           "line": {
            "color": "#2a3f5f"
           }
          },
          "ternary": {
           "aaxis": {
            "gridcolor": "white",
            "linecolor": "white",
            "ticks": ""
           },
           "baxis": {
            "gridcolor": "white",
            "linecolor": "white",
            "ticks": ""
           },
           "bgcolor": "#E5ECF6",
           "caxis": {
            "gridcolor": "white",
            "linecolor": "white",
            "ticks": ""
           }
          },
          "title": {
           "x": 0.05
          },
          "xaxis": {
           "automargin": true,
           "gridcolor": "white",
           "linecolor": "white",
           "ticks": "",
           "title": {
            "standoff": 15
           },
           "zerolinecolor": "white",
           "zerolinewidth": 2
          },
          "yaxis": {
           "automargin": true,
           "gridcolor": "white",
           "linecolor": "white",
           "ticks": "",
           "title": {
            "standoff": 15
           },
           "zerolinecolor": "white",
           "zerolinewidth": 2
          }
         }
        },
        "xaxis": {
         "rangeslider": {
          "visible": false
         }
        }
       }
      }
     },
     "metadata": {},
     "output_type": "display_data"
    },
    {
     "name": "stdout",
     "output_type": "stream",
     "text": [
      "linea superior. X: [303. 309. 313. 320. 335.] - y: [0.90682782 0.86373486 0.83500622 0.7847311  0.67699869]\n",
      "linea inferior. X: [310. 316. 321. 336.] - y: [0.72849011 0.75204176 0.77166813 0.83054725]\n"
     ]
    }
   ],
   "source": [
    "md.dibuja_patrones_triangulos (data,323) "
   ]
  }
 ],
 "metadata": {
  "kernelspec": {
   "display_name": "Python 3 (ipykernel)",
   "language": "python",
   "name": "python3"
  },
  "language_info": {
   "codemirror_mode": {
    "name": "ipython",
    "version": 3
   },
   "file_extension": ".py",
   "mimetype": "text/x-python",
   "name": "python",
   "nbconvert_exporter": "python",
   "pygments_lexer": "ipython3",
   "version": "3.10.11"
  }
 },
 "nbformat": 4,
 "nbformat_minor": 5
}
