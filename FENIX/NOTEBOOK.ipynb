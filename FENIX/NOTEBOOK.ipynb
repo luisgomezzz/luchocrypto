{
 "cells": [
  {
   "cell_type": "code",
   "execution_count": null,
   "id": "2d7ba37d",
   "metadata": {},
   "outputs": [],
   "source": [
    "import modulos as md\n",
    "import numpy as np\n",
    "import constantes as cons\n",
    "import os\n",
    "import sys\n",
    "lista_filtrada = []\n",
    "\n",
    "#lista=md.lista_de_monedas()\n",
    "#lista=md.filtradodemonedas ()\n",
    "#lista=['SPELLUSDT', 'AXSUSDT', 'ETHUSDT', 'BNBUSDT', 'OGNUSDT', 'CYBERUSDT', '1000PEPEUSDT', 'COMPUSDT', 'ADAUSDT', 'BCHUSDT', 'RUNEUSDT', 'MATICUSDT', 'BLZUSDT', 'HBARUSDT', 'TRBUSDT', 'WLDUSDT', 'MTLUSDT', 'BTCUSDT', 'XRPUSDT', 'OPUSDT', 'PERPUSDT', 'ARBUSDT', 'STMXUSDT', 'CFXUSDT', 'SOLUSDT', 'DOGEUSDT', 'APEUSDT', 'UNFIUSDT', 'LTCUSDT', 'STORJUSDT', 'CRVUSDT']\n",
    "lista=['STMXUSDT']\n",
    "\n",
    "if len(lista)>1:\n",
    "    imprimo=False\n",
    "    debug=False\n",
    "else:\n",
    "    imprimo= True\n",
    "    debug=True\n",
    "for symbol in lista:    \n",
    "    try:\n",
    "        #data,porcentajeentrada = md.estrategia_santa(symbol,tp_flag = True)\n",
    "        #data,porcentajeentrada = md.estrategia_trampa(symbol,tp_flag = True)\n",
    "        data = md.estrategia_haz(symbol, debug=debug)\n",
    "        #data,porcentajeentrada = md.estrategia_oro('XAU',tp_flag = True)\n",
    "        #######################################################################\n",
    "        resultado = md.backtesting(data, plot_flag = imprimo)\n",
    "        #resultado = md.backtestingsanta(data, plot_flag = imprimo, debug = True)\n",
    "        ########################################################################\n",
    "        #if resultado['Return [%]'] < 0: # para santa3 mazmorra\n",
    "        #if data.disparo.iloc[-1]!=0: # imprime las monedas que estan en posible haz martillo\n",
    "        #        print(symbol)\n",
    "        if resultado['Return [%]'] > 0:\n",
    "            #if ((resultado['Profit Factor'] > 2 or np.isnan(resultado['Profit Factor'])) and (resultado['Return [%]']/resultado['# Trades']) >=0.33):            \n",
    "                lista_filtrada.append(symbol)\n",
    "        print(f\"{symbol} - Return [%]: {md.truncate(resultado['Return [%]'],2)}% - # Trades: {resultado['# Trades']} - Profit Factor: {resultado['Profit Factor']} - Win Rate [%]: {resultado['Win Rate [%]']}\")\n",
    "    except Exception as falla:\n",
    "        _, _, exc_tb = sys.exc_info()\n",
    "        fname = os.path.split(exc_tb.tb_frame.f_code.co_filename)[1]\n",
    "        print(\"\\nError: \"+str(falla)+\" - line: \"+str(exc_tb.tb_lineno)+\" - file: \"+str(fname)+\"\\n\")\n",
    "        pass\n",
    "for symbol in lista_filtrada:\n",
    "    md.printandlog(cons.nombrelog,symbol,pal=1)\n",
    "#md.dibuja_patrones_triangulos (data,998)    \n"
   ]
  },
  {
   "cell_type": "code",
   "execution_count": 1,
   "id": "644b19e1",
   "metadata": {},
   "outputs": [
    {
     "name": "stdout",
     "output_type": "stream",
     "text": [
      "BTCUSDT - Return [%]: -2.8% - # Trades: 6 - Profit Factor: 0.0 - Win Rate [%]: 0.0\n",
      "ETHUSDT - Return [%]: 2.29% - # Trades: 2 - Profit Factor: 6.521001616730695 - Win Rate [%]: 50.0\n",
      "BCHUSDT - Return [%]: 1.85% - # Trades: 4 - Profit Factor: 1.5642576427419366 - Win Rate [%]: 50.0\n",
      "XRPUSDT - Return [%]: -0.04% - # Trades: 8 - Profit Factor: 1.004623161284745 - Win Rate [%]: 25.0\n",
      "LTCUSDT - Return [%]: 0.4% - # Trades: 5 - Profit Factor: 1.1687790739196342 - Win Rate [%]: 40.0\n",
      "LINKUSDT - Return [%]: 0.0% - # Trades: 0 - Profit Factor: nan - Win Rate [%]: nan\n",
      "ADAUSDT - Return [%]: 1.83% - # Trades: 1 - Profit Factor: nan - Win Rate [%]: 100.0\n",
      "BNBUSDT - Return [%]: 1.35% - # Trades: 11 - Profit Factor: 1.5247428530252836 - Win Rate [%]: 36.36363636363637\n",
      "ATOMUSDT - Return [%]: 0.72% - # Trades: 4 - Profit Factor: 1.8699460702221922 - Win Rate [%]: 25.0\n",
      "DOGEUSDT - Return [%]: -1.04% - # Trades: 2 - Profit Factor: 0.0 - Win Rate [%]: 0.0\n",
      "MKRUSDT - Return [%]: 0.0% - # Trades: 0 - Profit Factor: nan - Win Rate [%]: nan\n"
     ]
    },
    {
     "name": "stderr",
     "output_type": "stream",
     "text": [
      "C:\\Users\\Luis Gomez Freites\\AppData\\Local\\Packages\\PythonSoftwareFoundation.Python.3.10_qbz5n2kfra8p0\\LocalCache\\local-packages\\Python310\\site-packages\\backtesting\\_stats.py:122: RuntimeWarning: divide by zero encountered in double_scalars\n",
      "  s.loc['Sortino Ratio'] = np.clip((annualized_return - risk_free_rate) / (np.sqrt(np.mean(day_returns.clip(-np.inf, 0)**2)) * np.sqrt(annual_trading_days)), 0, np.inf)  # noqa: E501\n"
     ]
    },
    {
     "name": "stdout",
     "output_type": "stream",
     "text": [
      "TRBUSDT - Return [%]: 7.67% - # Trades: 2 - Profit Factor: nan - Win Rate [%]: 100.0\n",
      "SOLUSDT - Return [%]: -0.15% - # Trades: 4 - Profit Factor: 0.9773282770654963 - Win Rate [%]: 25.0\n",
      "STORJUSDT - Return [%]: -1.42% - # Trades: 1 - Profit Factor: 0.0 - Win Rate [%]: 0.0\n",
      "AVAXUSDT - Return [%]: -0.65% - # Trades: 2 - Profit Factor: 0.0 - Win Rate [%]: 0.0\n",
      "MATICUSDT - Return [%]: -2.11% - # Trades: 2 - Profit Factor: 0.0 - Win Rate [%]: 0.0\n",
      "UNFIUSDT - Return [%]: 2.82% - # Trades: 3 - Profit Factor: 2.3408511413067967 - Win Rate [%]: 33.33333333333333\n",
      "STMXUSDT - Return [%]: 0.02% - # Trades: 7 - Profit Factor: 1.241438267846776 - Win Rate [%]: 28.57142857142857\n",
      "OPUSDT - Return [%]: -0.99% - # Trades: 5 - Profit Factor: 0.7688083004340397 - Win Rate [%]: 20.0\n",
      "BNXUSDT - Return [%]: -3.2% - # Trades: 4 - Profit Factor: 0.0 - Win Rate [%]: 0.0\n",
      "LQTYUSDT - Return [%]: 1.22% - # Trades: 2 - Profit Factor: 1.9380473414791841 - Win Rate [%]: 50.0\n",
      "ARBUSDT - Return [%]: -0.67% - # Trades: 1 - Profit Factor: 0.0 - Win Rate [%]: 0.0\n",
      "WLDUSDT - Return [%]: -0.34% - # Trades: 4 - Profit Factor: 1.2681434408343035 - Win Rate [%]: 25.0\n",
      "BNTUSDT - Return [%]: 1.65% - # Trades: 7 - Profit Factor: 1.501044003118976 - Win Rate [%]: 28.57142857142857\n",
      "\n",
      "Error: unsupported operand type(s) for -: 'NoneType' and 'NoneType' - line: 1539 - file: modulos.py - symbol: LOOMUSDT\n",
      "\n",
      "\n",
      "Error: 'NoneType' object has no attribute 'tendencia' - line: 1555 - file: modulos.py - symbol: LOOMUSDT\n",
      "\n",
      "\n",
      "Error: `data` must be a pandas.DataFrame with columns - line: 22 - file: 1767249249.py\n",
      "\n"
     ]
    }
   ],
   "source": [
    "import modulos as md\n",
    "import numpy as np\n",
    "import os\n",
    "import sys\n",
    "import constantes as cons\n",
    "lista_filtrada = []\n",
    "#lista=md.filtradodemonedas ()\n",
    "lista=['BTCUSDT', 'ETHUSDT', 'BCHUSDT', 'XRPUSDT', 'LTCUSDT', 'LINKUSDT', 'ADAUSDT', 'BNBUSDT', 'ZRXUSDT', 'DOGEUSDT', 'MKRUSDT', 'DOTUSDT', 'TRBUSDT', 'RUNEUSDT', 'SOLUSDT', 'STORJUSDT', 'AVAXUSDT', 'ENJUSDT', 'FILUSDT', 'MATICUSDT', 'COTIUSDT', '1000SHIBUSDT', 'BAKEUSDT', 'DYDXUSDT', 'GALAUSDT', 'APEUSDT', 'OPUSDT', 'LQTYUSDT', 'ARBUSDT', 'LEVERUSDT', '1000PEPEUSDT', 'WLDUSDT', 'BNTUSDT', 'ARKUSDT']\n",
    "#lista=['ETHUSDT','BCHUSDT','ADAUSDT','ZRXUSDT','TRBUSDT','ENJUSDT','FILUSDT','COTIUSDT','DYDXUSDT','APEUSDT','OPUSDT','LEVERUSDT']## GANADORES\n",
    "#lista=['ZRXUSDT']\n",
    "\n",
    "if len(lista)>1:\n",
    "    imprimo=False\n",
    "    debug=False\n",
    "else:\n",
    "    imprimo= True\n",
    "    debug=True\n",
    "for symbol in lista:    \n",
    "    try:\n",
    "        #print(symbol)\n",
    "        data = md.estrategia_royal(symbol, debug = False, refinado = False, file_source = False, timeframe = '1h')\n",
    "        resultado=md.backtesting_royal(data, plot_flag=imprimo, symbol=symbol)\n",
    "        if resultado['Win Rate [%]'] >= 50:\n",
    "            lista_filtrada.append(symbol)\n",
    "        print(f\"{symbol} - Return [%]: {md.truncate(resultado['Return [%]'],2)}% - # Trades: {resultado['# Trades']} - Profit Factor: {resultado['Profit Factor']} - Win Rate [%]: {resultado['Win Rate [%]']}\")\n",
    "    except Exception as falla:\n",
    "        _, _, exc_tb = sys.exc_info()\n",
    "        fname = os.path.split(exc_tb.tb_frame.f_code.co_filename)[1]\n",
    "        print(\"\\nError: \"+str(falla)+\" - line: \"+str(exc_tb.tb_lineno)+\" - file: \"+str(fname)+\"\\n\")\n",
    "        pass\n",
    "for symbol in lista_filtrada:\n",
    "    md.printandlog(cons.nombrelog,symbol,pal=1)\n",
    "#(data.loc[data['Open Time'] == '2023-10-03 03:00:00'])    \n"
   ]
  },
  {
   "cell_type": "code",
   "execution_count": 2,
   "id": "b1f0b658",
   "metadata": {},
   "outputs": [
    {
     "data": {
      "text/plain": [
       "['BTCUSDT',\n",
       " 'ETHUSDT',\n",
       " 'BCHUSDT',\n",
       " 'XRPUSDT',\n",
       " 'LTCUSDT',\n",
       " 'LINKUSDT',\n",
       " 'ADAUSDT',\n",
       " 'BNBUSDT',\n",
       " 'ATOMUSDT',\n",
       " 'DOGEUSDT',\n",
       " 'MKRUSDT',\n",
       " 'TRBUSDT',\n",
       " 'SOLUSDT',\n",
       " 'STORJUSDT',\n",
       " 'AVAXUSDT',\n",
       " 'MATICUSDT',\n",
       " 'UNFIUSDT',\n",
       " 'STMXUSDT',\n",
       " 'OPUSDT',\n",
       " 'BNXUSDT',\n",
       " 'LQTYUSDT',\n",
       " 'ARBUSDT',\n",
       " 'WLDUSDT',\n",
       " 'BNTUSDT',\n",
       " 'LOOMUSDT']"
      ]
     },
     "execution_count": 2,
     "metadata": {},
     "output_type": "execute_result"
    }
   ],
   "source": [
    "lista"
   ]
  }
 ],
 "metadata": {
  "kernelspec": {
   "display_name": "Python 3 (ipykernel)",
   "language": "python",
   "name": "python3"
  },
  "language_info": {
   "codemirror_mode": {
    "name": "ipython",
    "version": 3
   },
   "file_extension": ".py",
   "mimetype": "text/x-python",
   "name": "python",
   "nbconvert_exporter": "python",
   "pygments_lexer": "ipython3",
   "version": "3.10.11"
  }
 },
 "nbformat": 4,
 "nbformat_minor": 5
}
