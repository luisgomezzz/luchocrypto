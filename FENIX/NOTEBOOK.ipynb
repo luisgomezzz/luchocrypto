{
 "cells": [
  {
   "cell_type": "code",
   "execution_count": 3,
   "id": "644b19e1",
   "metadata": {},
   "outputs": [
    {
     "name": "stdout",
     "output_type": "stream",
     "text": [
      "['LINKUSDT']\n"
     ]
    },
    {
     "name": "stderr",
     "output_type": "stream",
     "text": [
      "BokehDeprecationWarning: Passing lists of formats for DatetimeTickFormatter scales was deprecated in Bokeh 3.0. Configure a single string format for each scale\n",
      "C:\\Users\\Luis Gomez Freites\\AppData\\Local\\Packages\\PythonSoftwareFoundation.Python.3.10_qbz5n2kfra8p0\\LocalCache\\local-packages\\Python310\\site-packages\\backtesting\\_plotting.py:250: UserWarning: DatetimeFormatter scales now only accept a single format. Using the first provided: '%d %b'\n",
      "  formatter=DatetimeTickFormatter(days=['%d %b', '%a %d'],\n",
      "BokehDeprecationWarning: Passing lists of formats for DatetimeTickFormatter scales was deprecated in Bokeh 3.0. Configure a single string format for each scale\n",
      "C:\\Users\\Luis Gomez Freites\\AppData\\Local\\Packages\\PythonSoftwareFoundation.Python.3.10_qbz5n2kfra8p0\\LocalCache\\local-packages\\Python310\\site-packages\\backtesting\\_plotting.py:250: UserWarning: DatetimeFormatter scales now only accept a single format. Using the first provided: '%m/%Y'\n",
      "  formatter=DatetimeTickFormatter(days=['%d %b', '%a %d'],\n"
     ]
    },
    {
     "name": "stdout",
     "output_type": "stream",
     "text": [
      "LINKUSDT - Return [%]: 0.0% - # Trades: 0 - Profit Factor: nan - Win Rate [%]: nan\n",
      "\n",
      "Timeframe 15m - porcentajes_sumados 0.0 - trades 0 - win_rate_buenos 0 - win_rate_malos 0 - Ganancia por trade: 0.0%\n"
     ]
    }
   ],
   "source": [
    "import modulos as md\n",
    "import numpy as np\n",
    "import os\n",
    "import sys\n",
    "import constantes as cons\n",
    "np.seterr(divide='ignore')\n",
    "lista_filtrada = []\n",
    "#lista=md.filtradodemonedas ()\n",
    "lista = ['BTCUSDT', 'ETHUSDT', 'BCHUSDT', 'XRPUSDT', 'EOSUSDT', 'LTCUSDT', 'ETCUSDT', 'LINKUSDT', 'ADAUSDT', 'BNBUSDT', 'ATOMUSDT', \n",
    "         'ZRXUSDT', 'OMGUSDT', 'DOGEUSDT', 'WAVESUSDT', 'MKRUSDT', 'DOTUSDT', 'YFIUSDT', 'TRBUSDT', 'RUNEUSDT', 'SOLUSDT', 'UNIUSDT', \n",
    "         'AVAXUSDT', 'FTMUSDT', 'NEARUSDT', 'FILUSDT', 'MATICUSDT', 'DYDXUSDT', 'GALAUSDT', 'FLOWUSDT', 'GMTUSDT', 'APEUSDT', 'OPUSDT', \n",
    "         'INJUSDT', 'LDOUSDT', 'APTUSDT', 'ARBUSDT', 'SUIUSDT', 'WLDUSDT', 'ARKMUSDT', 'SEIUSDT', 'CYBERUSDT', 'ARKUSDT', 'GASUSDT', \n",
    "         'TIAUSDT', 'CAKEUSDT', 'MEMEUSDT', 'ORDIUSDT', 'NTRNUSDT']\n",
    "lista = ['LINKUSDT']\n",
    "\n",
    "timeframe = '15m'\n",
    "if len(lista) > 1:\n",
    "    imprimo = False\n",
    "    debug = False\n",
    "else:\n",
    "    imprimo = True\n",
    "    debug = True\n",
    "print(lista)\n",
    "porcentajes_sumados = 0\n",
    "win_rate_buenos = 0\n",
    "win_rate_malos = 0\n",
    "trades = 0\n",
    "balance = md.balancetotal()\n",
    "for symbol in lista:    \n",
    "    try:\n",
    "        #data = md.estrategia_smart(symbol, debug = False, refinado = False, file_source = False, timeframe = timeframe, balance = balance, largo = 1)\n",
    "        data = md.estrategia_alex(symbol, debug = False, refinado = False, file_source = False, timeframe = timeframe, balance = balance, largo = 1)\n",
    "        resultado = md.backtesting_smart(data, plot_flag=imprimo, symbol=symbol)\n",
    "        if resultado['Win Rate [%]'] >= 50:\n",
    "            lista_filtrada.append(symbol)\n",
    "        print(f\"{symbol} - Return [%]: {md.truncate(resultado['Return [%]'],2)}% - # Trades: {resultado['# Trades']} - Profit Factor: {resultado['Profit Factor']} - Win Rate [%]: {resultado['Win Rate [%]']}\")\n",
    "        porcentajes_sumados=porcentajes_sumados+resultado['Return [%]']\n",
    "        trades = trades + resultado['# Trades']\n",
    "        if not np.isnan(resultado['Win Rate [%]']):\n",
    "            if resultado['Win Rate [%]'] >= 50:\n",
    "                win_rate_buenos = win_rate_buenos+1\n",
    "            else:\n",
    "                win_rate_malos = win_rate_malos+1\n",
    "        # para smart\n",
    "        #if ((data.Close.iloc[-1] < (data.decisional_alcista_high.iloc[-2] + (data.atr.iloc[-1]*3)))\n",
    "        #    or \n",
    "        #    (data.Close.iloc[-1] > (data.decisional_bajista_low.iloc[-2] - (data.atr.iloc[-1]*3)))\n",
    "        #    ):\n",
    "        #    print(f\"posible entrada symbol: {symbol}\")\n",
    "        # para alex\n",
    "        if (    data.cruce_bos.iloc[-1] != -2\n",
    "            or  data.cruce_bos.iloc[-2] != -2  \n",
    "            or  data.cruce_bos.iloc[-3] != -2\n",
    "            or  data.cruce_bos.iloc[-4] != -2\n",
    "            or  data.cruce_bos.iloc[-5] != -2\n",
    "            ):\n",
    "            print(f\"posible entrada symbol: {symbol}\")\n",
    "    except Exception as falla:\n",
    "        _, _, exc_tb = sys.exc_info()\n",
    "        fname = os.path.split(exc_tb.tb_frame.f_code.co_filename)[1]\n",
    "        print(\"\\nError: \"+str(falla)+\" - line: \"+str(exc_tb.tb_lineno)+\" - file: \"+str(fname)+\"\\n\")\n",
    "        pass\n",
    "for symbol in lista_filtrada:\n",
    "    md.printandlog(cons.nombrelog,symbol,pal=1)\n",
    "print(f\"\\nTimeframe {timeframe} - porcentajes_sumados {md.truncate(porcentajes_sumados,2)} - trades {trades} - win_rate_buenos {win_rate_buenos} - win_rate_malos {win_rate_malos} - Ganancia por trade: {md.truncate((porcentajes_sumados/trades if trades !=0 else porcentajes_sumados),2)}%\")\n"
   ]
  },
  {
   "cell_type": "code",
   "execution_count": 12,
   "metadata": {},
   "outputs": [
    {
     "data": {
      "text/plain": [
       "3"
      ]
     },
     "execution_count": 12,
     "metadata": {},
     "output_type": "execute_result"
    }
   ],
   "source": [
    "data['Open Time'].dt.dayofweek.iloc[-1]"
   ]
  }
 ],
 "metadata": {
  "kernelspec": {
   "display_name": "Python 3 (ipykernel)",
   "language": "python",
   "name": "python3"
  },
  "language_info": {
   "codemirror_mode": {
    "name": "ipython",
    "version": 3
   },
   "file_extension": ".py",
   "mimetype": "text/x-python",
   "name": "python",
   "nbconvert_exporter": "python",
   "pygments_lexer": "ipython3",
   "version": "3.10.11"
  }
 },
 "nbformat": 4,
 "nbformat_minor": 5
}
