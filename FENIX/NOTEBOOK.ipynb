{
 "cells": [
  {
   "cell_type": "code",
   "execution_count": 4,
   "id": "2d7ba37d",
   "metadata": {},
   "outputs": [
    {
     "name": "stdout",
     "output_type": "stream",
     "text": [
      "IMXUSDT - Return [%]: -0.45% - # Trades: 1 - Profit Factor: 0.0 - Win Rate [%]: 0.0\n",
      "FLMUSDT - Return [%]: 0.07% - # Trades: 1 - Profit Factor: nan - Win Rate [%]: 100.0\n",
      "ENJUSDT - Return [%]: 0.02% - # Trades: 1 - Profit Factor: nan - Win Rate [%]: 100.0\n",
      "SFPUSDT - Return [%]: -0.16% - # Trades: 1 - Profit Factor: 0.0 - Win Rate [%]: 0.0\n"
     ]
    },
    {
     "name": "stderr",
     "output_type": "stream",
     "text": [
      "c:\\LUCHO\\personal\\repopersonal\\luchocrypto\\FENIX\\modulos.py:460: UserWarning: Some prices are larger than initial cash value. Note that fractional trading is not supported. If you want to trade Bitcoin, increase initial cash, or trade μBTC or satoshis instead (GH-134).\n",
      "  bt = Backtest(data, Fenix, cash=balance)\n"
     ]
    },
    {
     "name": "stdout",
     "output_type": "stream",
     "text": [
      "CFXUSDT - Return [%]: -0.12% - # Trades: 1 - Profit Factor: 0.0 - Win Rate [%]: 0.0\n",
      "OCEANUSDT - Return [%]: -0.02% - # Trades: 1 - Profit Factor: 0.0 - Win Rate [%]: 0.0\n"
     ]
    },
    {
     "name": "stderr",
     "output_type": "stream",
     "text": [
      "c:\\LUCHO\\personal\\repopersonal\\luchocrypto\\FENIX\\modulos.py:460: UserWarning: Some prices are larger than initial cash value. Note that fractional trading is not supported. If you want to trade Bitcoin, increase initial cash, or trade μBTC or satoshis instead (GH-134).\n",
      "  bt = Backtest(data, Fenix, cash=balance)\n"
     ]
    },
    {
     "name": "stdout",
     "output_type": "stream",
     "text": [
      "LRCUSDT - Return [%]: 0.0% - # Trades: 1 - Profit Factor: 0.0 - Win Rate [%]: 0.0\n",
      "XEMUSDT - Return [%]: 0.02% - # Trades: 1 - Profit Factor: nan - Win Rate [%]: 100.0\n",
      "IOTAUSDT - Return [%]: -0.08% - # Trades: 1 - Profit Factor: 0.0 - Win Rate [%]: 0.0\n",
      "STMXUSDT - Return [%]: 0.06% - # Trades: 1 - Profit Factor: nan - Win Rate [%]: 100.0\n",
      "BNXUSDT - Return [%]: -0.07% - # Trades: 1 - Profit Factor: 0.0 - Win Rate [%]: 0.0\n",
      "AUDIOUSDT - Return [%]: -0.11% - # Trades: 1 - Profit Factor: 0.0 - Win Rate [%]: 0.0\n",
      "JOEUSDT - Return [%]: 0.01% - # Trades: 1 - Profit Factor: nan - Win Rate [%]: 100.0\n",
      "C98USDT - Return [%]: -0.06% - # Trades: 1 - Profit Factor: 0.0 - Win Rate [%]: 0.0\n",
      "XLMUSDT - Return [%]: -0.04% - # Trades: 1 - Profit Factor: 0.0 - Win Rate [%]: 0.0\n",
      "RAYUSDT - Return [%]: -0.04% - # Trades: 1 - Profit Factor: 0.0 - Win Rate [%]: 0.0\n",
      "GMTUSDT - Return [%]: -0.08% - # Trades: 1 - Profit Factor: 0.0 - Win Rate [%]: 0.0\n",
      "ZRXUSDT - Return [%]: 0.0% - # Trades: 1 - Profit Factor: nan - Win Rate [%]: 100.0\n",
      "STORJUSDT - Return [%]: -0.09% - # Trades: 1 - Profit Factor: 0.0 - Win Rate [%]: 0.0\n",
      "SXPUSDT - Return [%]: -0.08% - # Trades: 1 - Profit Factor: 0.0 - Win Rate [%]: 0.0\n",
      "SRMUSDT - Return [%]: -0.46% - # Trades: 1 - Profit Factor: 0.0 - Win Rate [%]: 0.0\n"
     ]
    }
   ],
   "source": [
    "###################################### ESTRATEGIA BB\n",
    "###################################################################################################################\n",
    "import modulos as md\n",
    "import numpy as np\n",
    "import constantes as cons\n",
    "\n",
    "lista=['GTCUSDT',\n",
    " 'API3USDT',\n",
    " 'LTCUSDT',\n",
    " '1000SHIBUSDT',\n",
    " 'MKRUSDT',\n",
    " 'MATICUSDT',\n",
    " 'HIGHUSDT',\n",
    " '1000PEPEUSDT',\n",
    " 'STMXUSDT',\n",
    " 'APEUSDT',\n",
    " 'TOMOUSDT',\n",
    " 'BNBUSDT',\n",
    " 'SUIUSDT',\n",
    " 'CRVUSDT',\n",
    " 'LINKUSDT',\n",
    " 'GALAUSDT',\n",
    " 'WLDUSDT',\n",
    " 'HBARUSDT',\n",
    " 'SOLUSDT',\n",
    " 'XLMUSDT',\n",
    " 'OPUSDT',\n",
    " 'XRPUSDT',\n",
    " 'COMPUSDT',\n",
    " 'BCHUSDT',\n",
    " 'DOGEUSDT',\n",
    " 'YGGUSDT']\n",
    "lista_filtrada = []\n",
    "\n",
    "#lista=md.lista_de_monedas ()\n",
    "lista=['SRMUSDT']\n",
    "\n",
    "\n",
    "for symbol in lista:    \n",
    "    try:\n",
    "        #data,porcentajeentrada = md.estrategia_santa(symbol,tp_flag = True)\n",
    "        data = md.estrategia_triangulos(symbol, tp_flag = True, print_lines_flag = True)\n",
    "        #######################################################################\n",
    "        resultado = md.backtesting(data, plot_flag = True, porcentajeentrada=100)\n",
    "        if ((resultado['Profit Factor'] > 2 or np.isnan(resultado['Profit Factor'])) and (resultado['Return [%]']/resultado['# Trades']) >=0.33):\n",
    "            lista_filtrada.append(symbol)\n",
    "        print(f\"{symbol} - Return [%]: {md.truncate(resultado['Return [%]'],2)}% - # Trades: {resultado['# Trades']} - Profit Factor: {resultado['Profit Factor']} - Win Rate [%]: {resultado['Win Rate [%]']}\")\n",
    "    except Exception as falla:\n",
    "        pass\n",
    "for symbol in lista_filtrada:\n",
    "    md.printandlog(cons.nombrelog,symbol,pal=1)\n",
    "#md.dibuja_patrones_triangulos (data,998)    \n"
   ]
  },
  {
   "cell_type": "code",
   "execution_count": null,
   "id": "ebc2902d",
   "metadata": {},
   "outputs": [],
   "source": [
    "md.dibuja_patrones_triangulos (data,990) "
   ]
  }
 ],
 "metadata": {
  "kernelspec": {
   "display_name": "Python 3 (ipykernel)",
   "language": "python",
   "name": "python3"
  },
  "language_info": {
   "codemirror_mode": {
    "name": "ipython",
    "version": 3
   },
   "file_extension": ".py",
   "mimetype": "text/x-python",
   "name": "python",
   "nbconvert_exporter": "python",
   "pygments_lexer": "ipython3",
   "version": "3.10.11"
  }
 },
 "nbformat": 4,
 "nbformat_minor": 5
}
