{
 "cells": [
  {
   "cell_type": "code",
   "execution_count": 3,
   "id": "644b19e1",
   "metadata": {},
   "outputs": [
    {
     "name": "stdout",
     "output_type": "stream",
     "text": [
      "['YGGUSDT']\n"
     ]
    },
    {
     "name": "stderr",
     "output_type": "stream",
     "text": [
      "BokehDeprecationWarning: Passing lists of formats for DatetimeTickFormatter scales was deprecated in Bokeh 3.0. Configure a single string format for each scale\n",
      "C:\\Users\\Luis Gomez Freites\\AppData\\Local\\Packages\\PythonSoftwareFoundation.Python.3.10_qbz5n2kfra8p0\\LocalCache\\local-packages\\Python310\\site-packages\\backtesting\\_plotting.py:250: UserWarning: DatetimeFormatter scales now only accept a single format. Using the first provided: '%d %b'\n",
      "  formatter=DatetimeTickFormatter(days=['%d %b', '%a %d'],\n",
      "BokehDeprecationWarning: Passing lists of formats for DatetimeTickFormatter scales was deprecated in Bokeh 3.0. Configure a single string format for each scale\n",
      "C:\\Users\\Luis Gomez Freites\\AppData\\Local\\Packages\\PythonSoftwareFoundation.Python.3.10_qbz5n2kfra8p0\\LocalCache\\local-packages\\Python310\\site-packages\\backtesting\\_plotting.py:250: UserWarning: DatetimeFormatter scales now only accept a single format. Using the first provided: '%m/%Y'\n",
      "  formatter=DatetimeTickFormatter(days=['%d %b', '%a %d'],\n"
     ]
    },
    {
     "name": "stdout",
     "output_type": "stream",
     "text": [
      "YGGUSDT - Return [%]: 5.82% - # Trades: 2 - Profit Factor: 7.532392424550415 - Win Rate [%]: 50.0\n",
      "\n",
      "Timeframe 1h - porcentajes_sumados 5.82 - trades 2 - win_rate_buenos 1 - win_rate_malos 0 - Ganancia por trade: 2.91%\n"
     ]
    }
   ],
   "source": [
    "import modulos as md\n",
    "import numpy as np\n",
    "import os\n",
    "import sys\n",
    "import constantes as cons\n",
    "np.seterr(divide='ignore')\n",
    "lista_filtrada = []\n",
    "#lista=md.filtradodemonedas ()\n",
    "#lista = ['BTCUSDT', 'ETHUSDT', 'BCHUSDT', 'XRPUSDT', 'EOSUSDT', 'LTCUSDT', 'ETCUSDT', 'LINKUSDT', 'ADAUSDT', 'BNBUSDT', 'ATOMUSDT', 'NEOUSDT', 'DOGEUSDT', 'DOTUSDT', 'TRBUSDT', 'RUNEUSDT', 'SUSHIUSDT', 'SOLUSDT', 'STORJUSDT', 'UNIUSDT', 'AVAXUSDT', 'FTMUSDT', 'NEARUSDT', 'AAVEUSDT', 'FILUSDT', 'MATICUSDT', 'DYDXUSDT', 'GALAUSDT', 'GMTUSDT', 'APEUSDT', 'OPUSDT', 'INJUSDT', 'APTUSDT', 'MINAUSDT', 'CFXUSDT', 'ARBUSDT', 'SUIUSDT', 'YGGUSDT', 'BNTUSDT', 'HIFIUSDT', 'ARKUSDT', 'LOOMUSDT', 'GASUSDT', 'TIAUSDT', 'MEMEUSDT', 'ORDIUSDT', 'STEEMUSDT']\n",
    "lista = ['YGGUSDT']\n",
    "\n",
    "timeframe = '1h'\n",
    "if len(lista) > 1:\n",
    "    imprimo = False\n",
    "    debug = False\n",
    "else:\n",
    "    imprimo = True\n",
    "    debug = True\n",
    "print(lista)\n",
    "porcentajes_sumados=0\n",
    "win_rate_buenos = 0\n",
    "win_rate_malos = 0\n",
    "trades = 0\n",
    "balance = md.balancetotal()\n",
    "for symbol in lista:    \n",
    "    try:\n",
    "        data = md.estrategia_smart(symbol, debug = False, refinado = False, file_source = False, timeframe = timeframe, balance = balance)\n",
    "        resultado = md.backtesting_smart(data, plot_flag=imprimo, symbol=symbol)\n",
    "        if resultado['Win Rate [%]'] >= 50:\n",
    "            lista_filtrada.append(symbol)\n",
    "        print(f\"{symbol} - Return [%]: {md.truncate(resultado['Return [%]'],2)}% - # Trades: {resultado['# Trades']} - Profit Factor: {resultado['Profit Factor']} - Win Rate [%]: {resultado['Win Rate [%]']}\")\n",
    "        porcentajes_sumados=porcentajes_sumados+resultado['Return [%]']\n",
    "        trades = trades + resultado['# Trades']\n",
    "        if not np.isnan(resultado['Win Rate [%]']):\n",
    "            if resultado['Win Rate [%]'] >= 50:\n",
    "                win_rate_buenos = win_rate_buenos+1\n",
    "            else:\n",
    "                win_rate_malos = win_rate_malos+1\n",
    "        if ((data.Close.iloc[-1] < (data.decisional_alcista_high.iloc[-2] + (data.atr.iloc[-1]*3)))\n",
    "            or \n",
    "            (data.Close.iloc[-1] > (data.decisional_bajista_low.iloc[-2] - (data.atr.iloc[-1]*3)))\n",
    "            ):\n",
    "            print(f\"posible entrada symbol: {symbol}\")\n",
    "    except Exception as falla:\n",
    "        _, _, exc_tb = sys.exc_info()\n",
    "        fname = os.path.split(exc_tb.tb_frame.f_code.co_filename)[1]\n",
    "        print(\"\\nError: \"+str(falla)+\" - line: \"+str(exc_tb.tb_lineno)+\" - file: \"+str(fname)+\"\\n\")\n",
    "        pass\n",
    "for symbol in lista_filtrada:\n",
    "    md.printandlog(cons.nombrelog,symbol,pal=1)\n",
    "print(f\"\\nTimeframe {timeframe} - porcentajes_sumados {md.truncate(porcentajes_sumados,2)} - trades {trades} - win_rate_buenos {win_rate_buenos} - win_rate_malos {win_rate_malos} - Ganancia por trade: {md.truncate((porcentajes_sumados/trades if trades !=0 else porcentajes_sumados),2)}%\")\n"
   ]
  },
  {
   "cell_type": "code",
   "execution_count": 11,
   "metadata": {},
   "outputs": [
    {
     "name": "stdout",
     "output_type": "stream",
     "text": [
      "Hora del servidor de Binance (UTC): 14\n"
     ]
    }
   ],
   "source": [
    "import ccxt\n",
    "from datetime import datetime\n",
    "\n",
    "# Configura el intercambio\n",
    "exchange = ccxt.binance()\n",
    "\n",
    "# Obtiene la hora del servidor de Binance\n",
    "server_time = exchange.fetch_time()\n",
    "\n",
    "# Convierte la marca de tiempo a formato de fecha y hora\n",
    "hora_utc = datetime.utcfromtimestamp(server_time / 1000.0).strftime('%H')\n",
    "\n",
    "# Imprime la hora del servidor en formato UTC\n",
    "print(f\"Hora del servidor de Binance (UTC): {hora_utc}\")\n"
   ]
  }
 ],
 "metadata": {
  "kernelspec": {
   "display_name": "Python 3 (ipykernel)",
   "language": "python",
   "name": "python3"
  },
  "language_info": {
   "codemirror_mode": {
    "name": "ipython",
    "version": 3
   },
   "file_extension": ".py",
   "mimetype": "text/x-python",
   "name": "python",
   "nbconvert_exporter": "python",
   "pygments_lexer": "ipython3",
   "version": "3.10.11"
  }
 },
 "nbformat": 4,
 "nbformat_minor": 5
}
