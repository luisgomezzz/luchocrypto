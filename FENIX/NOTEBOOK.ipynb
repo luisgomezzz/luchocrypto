{
 "cells": [
  {
   "cell_type": "code",
   "execution_count": 1,
   "id": "2d7ba37d",
   "metadata": {},
   "outputs": [
    {
     "name": "stderr",
     "output_type": "stream",
     "text": [
      "C:\\Users\\Luis Gomez Freites\\AppData\\Local\\Packages\\PythonSoftwareFoundation.Python.3.10_qbz5n2kfra8p0\\LocalCache\\local-packages\\Python310\\site-packages\\tqdm\\auto.py:22: TqdmWarning: IProgress not found. Please update jupyter and ipywidgets. See https://ipywidgets.readthedocs.io/en/stable/user_install.html\n",
      "  from .autonotebook import tqdm as notebook_tqdm\n"
     ]
    },
    {
     "name": "stdout",
     "output_type": "stream",
     "text": [
      "SUIUSDT\n"
     ]
    },
    {
     "name": "stderr",
     "output_type": "stream",
     "text": [
      "c:\\LUCHO\\personal\\repopersonal\\luchocrypto\\FENIX\\modulos.py:468: UserWarning: Some prices are larger than initial cash value. Note that fractional trading is not supported. If you want to trade Bitcoin, increase initial cash, or trade μBTC or satoshis instead (GH-134).\n",
      "  bt = Backtest(data, Fenix, cash=balance)\n"
     ]
    },
    {
     "name": "stdout",
     "output_type": "stream",
     "text": [
      "\n",
      "Error: local variable 'data' referenced before assignment - line: 995 - file: modulos.py\n",
      "\n"
     ]
    },
    {
     "name": "stderr",
     "output_type": "stream",
     "text": [
      "c:\\LUCHO\\personal\\repopersonal\\luchocrypto\\FENIX\\modulos.py:468: UserWarning: Some prices are larger than initial cash value. Note that fractional trading is not supported. If you want to trade Bitcoin, increase initial cash, or trade μBTC or satoshis instead (GH-134).\n",
      "  bt = Backtest(data, Fenix, cash=balance)\n",
      "c:\\LUCHO\\personal\\repopersonal\\luchocrypto\\FENIX\\modulos.py:468: UserWarning: Some prices are larger than initial cash value. Note that fractional trading is not supported. If you want to trade Bitcoin, increase initial cash, or trade μBTC or satoshis instead (GH-134).\n",
      "  bt = Backtest(data, Fenix, cash=balance)\n"
     ]
    },
    {
     "name": "stdout",
     "output_type": "stream",
     "text": [
      "\n",
      "Error: local variable 'data' referenced before assignment - line: 995 - file: modulos.py\n",
      "\n"
     ]
    }
   ],
   "source": [
    "import modulos as md\n",
    "import numpy as np\n",
    "import constantes as cons\n",
    "import os\n",
    "import sys\n",
    "lista_filtrada = []\n",
    "\n",
    "#lista=md.lista_de_monedas()\n",
    "#lista=md.filtradodemonedas ()\n",
    "lista=['SFPUSDT', 'APEUSDT', 'ARBUSDT', 'SOLUSDT', 'BCHUSDT', 'BAKEUSDT', 'RUNEUSDT', 'TOMOUSDT', 'XRPUSDT', 'SUIUSDT', 'ADAUSDT', 'MKRUSDT', 'BNBUSDT', 'OPUSDT', 'LPTUSDT', '1000PEPEUSDT', 'ETHUSDT', 'BTCUSDT', 'DOGEUSDT', 'UNFIUSDT', '1000SHIBUSDT', 'LINKUSDT', 'LTCUSDT', 'DYDXUSDT', 'MATICUSDT', 'AGIXUSDT', 'YGGUSDT', 'WLDUSDT', 'LEVERUSDT', 'CFXUSDT', 'HBARUSDT', 'BLZUSDT']\n",
    "#lista=['BLZUSDT']\n",
    "\n",
    "if len(lista)>1:\n",
    "    imprimo=False\n",
    "    debug=False\n",
    "else:\n",
    "    imprimo= True\n",
    "    debug=True\n",
    "for symbol in lista:    \n",
    "    try:\n",
    "        #data,porcentajeentrada = md.estrategia_santa(symbol,tp_flag = True)\n",
    "        #data,porcentajeentrada = md.estrategia_trampa(symbol,tp_flag = True)\n",
    "        data,porcentajeentrada = md.estrategia_atrapes(symbol,tp_flag = True, debug=debug)\n",
    "        #######################################################################\n",
    "        resultado = md.backtesting(data, plot_flag = imprimo)\n",
    "        #resultado = md.backtestingsanta(data, plot_flag = imprimo, debug = True)\n",
    "        ########################################################################\n",
    "        #if resultado['Return [%]'] < 0: # para santa3 mazmorra\n",
    "        if data.disparo.iloc[-2]!=0:\n",
    "                print(symbol)\n",
    "        #if resultado['Return [%]'] > 0:\n",
    "            #if ((resultado['Profit Factor'] > 2 or np.isnan(resultado['Profit Factor'])) and (resultado['Return [%]']/resultado['# Trades']) >=0.33):            \n",
    "                lista_filtrada.append(symbol)\n",
    "        #print(f\"{symbol} - Return [%]: {md.truncate(resultado['Return [%]'],2)}% - # Trades: {resultado['# Trades']} - Profit Factor: {resultado['Profit Factor']} - Win Rate [%]: {resultado['Win Rate [%]']}\")\n",
    "    except Exception as falla:\n",
    "        _, _, exc_tb = sys.exc_info()\n",
    "        fname = os.path.split(exc_tb.tb_frame.f_code.co_filename)[1]\n",
    "        #print(\"\\nError: \"+str(falla)+\" - line: \"+str(exc_tb.tb_lineno)+\" - file: \"+str(fname)+\"\\n\")\n",
    "        pass\n",
    "for symbol in lista_filtrada:\n",
    "    md.printandlog(cons.nombrelog,symbol,pal=1)\n",
    "#md.dibuja_patrones_triangulos (data,998)    \n"
   ]
  },
  {
   "cell_type": "code",
   "execution_count": 1,
   "id": "22820fb4",
   "metadata": {},
   "outputs": [
    {
     "name": "stdout",
     "output_type": "stream",
     "text": [
      "Archivo con datos de CoinMarketCap gruadado crypto_latests.csv\n"
     ]
    }
   ],
   "source": [
    "import requests\n",
    "import pandas as pd\n",
    "import json\n",
    "API_KEY = '4c9c0645-49c7-48c3-9a42-e7a2f94d448f'\n",
    "url = 'https://pro-api.coinmarketcap.com/v1/cryptocurrency/listings/latest'\n",
    "HEADERS = {'Accepts': 'application/json',\n",
    "           'X-CMC_PRO_API_KEY': API_KEY}\n",
    "PARAMS = {'convert': 'USD',\n",
    "          'limit': 1500}\n",
    "resp = requests.get(url, headers=HEADERS, params=PARAMS)\n",
    "def get_data(resp):\n",
    "    data = json.loads(resp.content)['data']\n",
    "    rows = list()\n",
    "    for item in data:\n",
    "        rows.append([\n",
    "                item['cmc_rank'],\n",
    "                item['id'],\n",
    "                item['name'],\n",
    "                item['symbol'],\n",
    "                item['slug'], \n",
    "                item['quote']['USD']['market_cap'],\n",
    "                item['quote']['USD']['volume_24h'],\n",
    "                item['date_added']])\n",
    "    df = pd.DataFrame(rows, columns=['cmc_rank','id','name','symbol','slug','market_cap','volume_24h','date_added'])\n",
    "    df.index.name = 'id'\n",
    "    return(df)\n",
    "if resp.status_code == 200:\n",
    "    df = get_data(resp)\n",
    "    if not df.empty:\n",
    "        df.to_csv('crypto_latests.csv')\n",
    "        print(\"Archivo con datos de CoinMarketCap gruadado crypto_latests.csv\")\n",
    "        df2 = pd.read_csv('crypto_latests.csv', index_col=0)\n",
    "    else:\n",
    "        print(\"df de CoinMarketCap vacío. No se actualizó crypto_latests.csv\")\n",
    "else:\n",
    "    print(resp.status_code)"
   ]
  },
  {
   "cell_type": "code",
   "execution_count": null,
   "id": "56ab2a87",
   "metadata": {},
   "outputs": [],
   "source": [
    "import modulos as md\n",
    "from numerize import numerize\n",
    "import pandas as pd\n",
    "\n",
    "df2 = pd.read_csv('crypto_latests.csv', index_col=0)\n",
    "symbol='CYBERUSDT'\n",
    "for index, row in df2.iterrows():\n",
    "    if row['symbol'] == (symbol[0:symbol.find('USDT')]).upper():       \n",
    "        print(f\"Symbol: {symbol} - Ranking: {row.cmc_rank} - Market cap: {numerize.numerize(row.market_cap)} - Vol24h: {numerize.numerize(row.volume_24h)} - date_added: {row.date_added}\")\n",
    "\n",
    "vo=md.volumeOf24h(symbol)\n",
    "print(f\"Vol24h: {numerize.numerize(vo)}\")   \n",
    "   "
   ]
  },
  {
   "cell_type": "code",
   "execution_count": 13,
   "id": "1395966a",
   "metadata": {},
   "outputs": [
    {
     "name": "stdout",
     "output_type": "stream",
     "text": [
      "ema11\n",
      "timestamp\n",
      "2023-08-15         NaN\n",
      "2023-08-16    0.196850\n",
      "2023-08-17    0.180083\n",
      "2023-08-18    0.171494\n",
      "2023-08-19    0.163765\n",
      "2023-08-20    0.155722\n",
      "2023-08-21    0.151107\n",
      "2023-08-22    0.153236\n",
      "2023-08-23    0.152745\n",
      "2023-08-24    0.149515\n",
      "2023-08-25    0.142038\n",
      "Name: EMA_2, dtype: float64\n"
     ]
    }
   ],
   "source": [
    "import modulos as md\n",
    "import pandas_ta as ta\n",
    "data= md.obtiene_historial(\"SEIUSDT\",'1d')\n",
    "if len(data)>=200:\n",
    "    print(data.ema200.iloc[-200])\n",
    "else:\n",
    "    print(f\"ema{len(data)}\")\n",
    "    print(ta.ema(data.Close, length=2))"
   ]
  }
 ],
 "metadata": {
  "kernelspec": {
   "display_name": "Python 3 (ipykernel)",
   "language": "python",
   "name": "python3"
  },
  "language_info": {
   "codemirror_mode": {
    "name": "ipython",
    "version": 3
   },
   "file_extension": ".py",
   "mimetype": "text/x-python",
   "name": "python",
   "nbconvert_exporter": "python",
   "pygments_lexer": "ipython3",
   "version": "3.10.11"
  }
 },
 "nbformat": 4,
 "nbformat_minor": 5
}
