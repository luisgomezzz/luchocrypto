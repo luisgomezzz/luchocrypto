{
 "cells": [
  {
   "cell_type": "code",
   "execution_count": null,
   "id": "6cd9c678",
   "metadata": {},
   "outputs": [],
   "source": [
    "import modulos as md\n",
    "\n",
    "#lista=md.filtradodemonedas()\n",
    "\n",
    "lista = ['BCHUSDT', 'XRPUSDT', 'EOSUSDT', 'LTCUSDT', 'TRXUSDT', 'ETCUSDT', 'LINKUSDT', 'XLMUSDT', 'ADAUSDT', 'BNBUSDT', 'ATOMUSDT', 'ALGOUSDT', \n",
    "         'KNCUSDT', 'COMPUSDT', 'DOGEUSDT', 'KAVAUSDT', 'WAVESUSDT', 'MKRUSDT', 'SNXUSDT', 'DOTUSDT', 'CRVUSDT', 'SOLUSDT', 'STORJUSDT', 'UNIUSDT', \n",
    "         'AVAXUSDT', 'FTMUSDT', 'TOMOUSDT', 'NEARUSDT', 'AAVEUSDT', 'FILUSDT', 'MATICUSDT', 'AXSUSDT', 'SANDUSDT', 'XEMUSDT', 'MANAUSDT', 'LINAUSDT', \n",
    "         'MTLUSDT', '1000SHIBUSDT', 'MASKUSDT', 'DYDXUSDT', '1000XECUSDT', 'GALAUSDT', 'FLOWUSDT', 'GMTUSDT', 'APEUSDT', 'OPUSDT', 'INJUSDT', 'LDOUSDT', \n",
    "         'APTUSDT', 'FETUSDT', 'RNDRUSDT', 'AGIXUSDT', 'PHBUSDT', 'CFXUSDT', 'STXUSDT', 'LQTYUSDT', 'ARBUSDT', 'SUIUSDT', '1000PEPEUSDT', 'XVGUSDT']\n",
    "\n",
    "#lista=['SKLUSDT']"
   ]
  },
  {
   "cell_type": "code",
   "execution_count": null,
   "id": "cd995f0a",
   "metadata": {},
   "outputs": [],
   "source": [
    "###################################### FILTRADO DE MONEDAS PARA ESTRATEGIA SANTAAAAAA\n",
    "###################################################################################################################\n",
    "for symbol in lista:\n",
    "    try:\n",
    "        data = md.estrategia_santa(symbol, tp_flag = True)\n",
    "        resultado = md.backtesting(data, plot_flag = False)\n",
    "        #if (resultado['Profit Factor']>1 or resultado['Return [%]'] >0) and resultado['Win Rate [%]']>50:\n",
    "        print(f\"{symbol} - Return [%]: {md.truncate(resultado['Return [%]'],2)}% - # Trades: {resultado['# Trades']} - Profit Factor: {md.truncate(resultado['Profit Factor'],2)} - Win Rate [%]: {md.truncate(resultado['Win Rate [%]'],2)}\")\n",
    "    except Exception as falla:\n",
    "        pass"
   ]
  },
  {
   "cell_type": "code",
   "execution_count": null,
   "id": "2d7ba37d",
   "metadata": {},
   "outputs": [],
   "source": [
    "###################################### FILTRADO DE MONEDAS PARA ESTRATEGIA BB\n",
    "###################################################################################################################\n",
    "for symbol in lista:\n",
    "    try:\n",
    "        data = md.estrategia_bb(symbol, tp_flag = True)\n",
    "        resultado = md.backtesting(data, plot_flag = False)\n",
    "        #if resultado['Profit Factor'] > 1 and resultado[6]/resultado[17] >=0.3:\n",
    "        print(f\"{symbol} - Return [%]: {md.truncate(resultado['Return [%]'],2)}% - # Trades: {resultado['# Trades']} - Profit Factor: {md.truncate(resultado['Profit Factor'],2)}\")\n",
    "    except Exception as falla:\n",
    "        pass"
   ]
  },
  {
   "cell_type": "code",
   "execution_count": 1,
   "id": "80e196e6",
   "metadata": {},
   "outputs": [
    {
     "name": "stderr",
     "output_type": "stream",
     "text": [
      "C:\\Users\\Luis Gomez Freites\\AppData\\Local\\Packages\\PythonSoftwareFoundation.Python.3.10_qbz5n2kfra8p0\\LocalCache\\local-packages\\Python310\\site-packages\\tqdm\\auto.py:22: TqdmWarning: IProgress not found. Please update jupyter and ipywidgets. See https://ipywidgets.readthedocs.io/en/stable/user_install.html\n",
      "  from .autonotebook import tqdm as notebook_tqdm\n"
     ]
    },
    {
     "name": "stdout",
     "output_type": "stream",
     "text": [
      "XRPUSDT - Return [%]: 14.86% - # Trades: 15 - Profit Factor: 2.35\n",
      "EOSUSDT - Return [%]: 7.64% - # Trades: 20 - Profit Factor: 2.62\n"
     ]
    }
   ],
   "source": [
    "import modulos as md\n",
    "###################################### variacion btc\n",
    "###################################################################################################################\n",
    "lista = ['BCHUSDT', 'XRPUSDT', 'EOSUSDT', 'LTCUSDT', 'TRXUSDT', 'ETCUSDT', 'LINKUSDT', 'XLMUSDT', 'ADAUSDT', 'BNBUSDT', 'ATOMUSDT', 'ALGOUSDT', \n",
    "         'KNCUSDT', 'COMPUSDT', 'DOGEUSDT', 'KAVAUSDT', 'WAVESUSDT', 'MKRUSDT', 'SNXUSDT', 'DOTUSDT', 'CRVUSDT', 'SOLUSDT', 'STORJUSDT', 'UNIUSDT', \n",
    "         'AVAXUSDT', 'FTMUSDT', 'TOMOUSDT', 'NEARUSDT', 'AAVEUSDT', 'FILUSDT', 'MATICUSDT', 'AXSUSDT', 'SANDUSDT', 'XEMUSDT', 'MANAUSDT', 'LINAUSDT', \n",
    "         'MTLUSDT', '1000SHIBUSDT', 'MASKUSDT', 'DYDXUSDT', '1000XECUSDT', 'GALAUSDT', 'FLOWUSDT', 'GMTUSDT', 'APEUSDT', 'OPUSDT', 'INJUSDT', 'LDOUSDT', \n",
    "         'APTUSDT', 'FETUSDT', 'RNDRUSDT', 'AGIXUSDT', 'PHBUSDT', 'CFXUSDT', 'STXUSDT', 'LQTYUSDT', 'ARBUSDT', 'SUIUSDT', '1000PEPEUSDT', 'XVGUSDT']\n",
    "for symbol in lista:\n",
    "    try:\n",
    "        data = md.sigo_variacion_bitcoin(symbol,timeframe='15m',porc=0.8,ventana=2,tp_flag=True)\n",
    "        resultado = md.backtesting(data, plot_flag = False)\n",
    "        #if resultado['Profit Factor'] > 1 and resultado[6]/resultado[17] >=0.3:\n",
    "        print(f\"{symbol} - Return [%]: {md.truncate(resultado['Return [%]'],2)}% - # Trades: {resultado['# Trades']} - Profit Factor: {md.truncate(resultado['Profit Factor'],2)}\")\n",
    "    except Exception as falla:\n",
    "        pass"
   ]
  },
  {
   "cell_type": "code",
   "execution_count": 1,
   "id": "c542cba1",
   "metadata": {},
   "outputs": [
    {
     "name": "stderr",
     "output_type": "stream",
     "text": [
      "C:\\Users\\Luis Gomez Freites\\AppData\\Local\\Packages\\PythonSoftwareFoundation.Python.3.10_qbz5n2kfra8p0\\LocalCache\\local-packages\\Python310\\site-packages\\tqdm\\auto.py:22: TqdmWarning: IProgress not found. Please update jupyter and ipywidgets. See https://ipywidgets.readthedocs.io/en/stable/user_install.html\n",
      "  from .autonotebook import tqdm as notebook_tqdm\n"
     ]
    },
    {
     "ename": "ValueError",
     "evalue": "Short orders require: TP (nan) < LIMIT (0.4754) < SL (nan)",
     "output_type": "error",
     "traceback": [
      "\u001b[1;31m---------------------------------------------------------------------------\u001b[0m",
      "\u001b[1;31mValueError\u001b[0m                                Traceback (most recent call last)",
      "Cell \u001b[1;32mIn[1], line 5\u001b[0m\n\u001b[0;32m      3\u001b[0m symbol\u001b[39m=\u001b[39m\u001b[39m'\u001b[39m\u001b[39mXRPUSDT\u001b[39m\u001b[39m'\u001b[39m\n\u001b[0;32m      4\u001b[0m data \u001b[39m=\u001b[39m md\u001b[39m.\u001b[39msigo_variacion_bitcoin(symbol,timeframe\u001b[39m=\u001b[39m\u001b[39m'\u001b[39m\u001b[39m15m\u001b[39m\u001b[39m'\u001b[39m,porc\u001b[39m=\u001b[39m\u001b[39m0.8\u001b[39m,ventana\u001b[39m=\u001b[39m\u001b[39m2\u001b[39m,tp_flag\u001b[39m=\u001b[39m\u001b[39mTrue\u001b[39;00m)\n\u001b[1;32m----> 5\u001b[0m resultado \u001b[39m=\u001b[39m md\u001b[39m.\u001b[39;49mbacktesting(data, plot_flag \u001b[39m=\u001b[39;49m \u001b[39mFalse\u001b[39;49;00m)\n",
      "File \u001b[1;32mc:\\LUCHO\\personal\\repopersonal\\luchocrypto\\FENIX\\modulos.py:463\u001b[0m, in \u001b[0;36mbacktesting\u001b[1;34m(data, plot_flag)\u001b[0m\n\u001b[0;32m    461\u001b[0m                 \u001b[39mself\u001b[39m\u001b[39m.\u001b[39msell(size\u001b[39m=\u001b[39m\u001b[39m1000\u001b[39m,sl\u001b[39m=\u001b[39m\u001b[39mself\u001b[39m\u001b[39m.\u001b[39mdata\u001b[39m.\u001b[39mstop_loss[\u001b[39m-\u001b[39m\u001b[39m1\u001b[39m],tp\u001b[39m=\u001b[39mtp_value)\n\u001b[0;32m    462\u001b[0m bt \u001b[39m=\u001b[39m Backtest(data, Fenix, cash\u001b[39m=\u001b[39m\u001b[39m1000\u001b[39m)\n\u001b[1;32m--> 463\u001b[0m output \u001b[39m=\u001b[39m bt\u001b[39m.\u001b[39;49mrun()\n\u001b[0;32m    464\u001b[0m \u001b[39mif\u001b[39;00m plot_flag:\n\u001b[0;32m    465\u001b[0m     bt\u001b[39m.\u001b[39mplot()\n",
      "File \u001b[1;32m~\\AppData\\Local\\Packages\\PythonSoftwareFoundation.Python.3.10_qbz5n2kfra8p0\\LocalCache\\local-packages\\Python310\\site-packages\\backtesting\\backtesting.py:1170\u001b[0m, in \u001b[0;36mBacktest.run\u001b[1;34m(self, **kwargs)\u001b[0m\n\u001b[0;32m   1167\u001b[0m         \u001b[39mbreak\u001b[39;00m\n\u001b[0;32m   1169\u001b[0m     \u001b[39m# Next tick, a moment before bar close\u001b[39;00m\n\u001b[1;32m-> 1170\u001b[0m     strategy\u001b[39m.\u001b[39;49mnext()\n\u001b[0;32m   1171\u001b[0m \u001b[39melse\u001b[39;00m:\n\u001b[0;32m   1172\u001b[0m     \u001b[39m# Close any remaining open trades so they produce some stats\u001b[39;00m\n\u001b[0;32m   1173\u001b[0m     \u001b[39mfor\u001b[39;00m trade \u001b[39min\u001b[39;00m broker\u001b[39m.\u001b[39mtrades:\n",
      "File \u001b[1;32mc:\\LUCHO\\personal\\repopersonal\\luchocrypto\\FENIX\\modulos.py:461\u001b[0m, in \u001b[0;36mbacktesting.<locals>.Fenix.next\u001b[1;34m(self)\u001b[0m\n\u001b[0;32m    459\u001b[0m     \u001b[39mself\u001b[39m\u001b[39m.\u001b[39mbuy(size\u001b[39m=\u001b[39m\u001b[39m1000\u001b[39m,sl\u001b[39m=\u001b[39m\u001b[39mself\u001b[39m\u001b[39m.\u001b[39mdata\u001b[39m.\u001b[39mstop_loss[\u001b[39m-\u001b[39m\u001b[39m1\u001b[39m],tp\u001b[39m=\u001b[39mtp_value)\n\u001b[0;32m    460\u001b[0m \u001b[39melif\u001b[39;00m \u001b[39mself\u001b[39m\u001b[39m.\u001b[39mdata\u001b[39m.\u001b[39msignal[\u001b[39m-\u001b[39m\u001b[39m1\u001b[39m]\u001b[39m==\u001b[39m\u001b[39m-\u001b[39m\u001b[39m1\u001b[39m:\n\u001b[1;32m--> 461\u001b[0m     \u001b[39mself\u001b[39;49m\u001b[39m.\u001b[39;49msell(size\u001b[39m=\u001b[39;49m\u001b[39m1000\u001b[39;49m,sl\u001b[39m=\u001b[39;49m\u001b[39mself\u001b[39;49m\u001b[39m.\u001b[39;49mdata\u001b[39m.\u001b[39;49mstop_loss[\u001b[39m-\u001b[39;49m\u001b[39m1\u001b[39;49m],tp\u001b[39m=\u001b[39;49mtp_value)\n",
      "File \u001b[1;32m~\\AppData\\Local\\Packages\\PythonSoftwareFoundation.Python.3.10_qbz5n2kfra8p0\\LocalCache\\local-packages\\Python310\\site-packages\\backtesting\\backtesting.py:225\u001b[0m, in \u001b[0;36mStrategy.sell\u001b[1;34m(self, size, limit, stop, sl, tp)\u001b[0m\n\u001b[0;32m    218\u001b[0m \u001b[39m\"\"\"\u001b[39;00m\n\u001b[0;32m    219\u001b[0m \u001b[39mPlace a new short order. For explanation of parameters, see `Order` and its properties.\u001b[39;00m\n\u001b[0;32m    220\u001b[0m \n\u001b[0;32m    221\u001b[0m \u001b[39mSee also `Strategy.buy()`.\u001b[39;00m\n\u001b[0;32m    222\u001b[0m \u001b[39m\"\"\"\u001b[39;00m\n\u001b[0;32m    223\u001b[0m \u001b[39massert\u001b[39;00m \u001b[39m0\u001b[39m \u001b[39m<\u001b[39m size \u001b[39m<\u001b[39m \u001b[39m1\u001b[39m \u001b[39mor\u001b[39;00m \u001b[39mround\u001b[39m(size) \u001b[39m==\u001b[39m size, \\\n\u001b[0;32m    224\u001b[0m     \u001b[39m\"\u001b[39m\u001b[39msize must be a positive fraction of equity, or a positive whole number of units\u001b[39m\u001b[39m\"\u001b[39m\n\u001b[1;32m--> 225\u001b[0m \u001b[39mreturn\u001b[39;00m \u001b[39mself\u001b[39;49m\u001b[39m.\u001b[39;49m_broker\u001b[39m.\u001b[39;49mnew_order(\u001b[39m-\u001b[39;49msize, limit, stop, sl, tp)\n",
      "File \u001b[1;32m~\\AppData\\Local\\Packages\\PythonSoftwareFoundation.Python.3.10_qbz5n2kfra8p0\\LocalCache\\local-packages\\Python310\\site-packages\\backtesting\\backtesting.py:718\u001b[0m, in \u001b[0;36m_Broker.new_order\u001b[1;34m(self, size, limit, stop, sl, tp, trade)\u001b[0m\n\u001b[0;32m    716\u001b[0m \u001b[39melse\u001b[39;00m:\n\u001b[0;32m    717\u001b[0m     \u001b[39mif\u001b[39;00m \u001b[39mnot\u001b[39;00m (tp \u001b[39mor\u001b[39;00m \u001b[39m-\u001b[39mnp\u001b[39m.\u001b[39minf) \u001b[39m<\u001b[39m (limit \u001b[39mor\u001b[39;00m stop \u001b[39mor\u001b[39;00m adjusted_price) \u001b[39m<\u001b[39m (sl \u001b[39mor\u001b[39;00m np\u001b[39m.\u001b[39minf):\n\u001b[1;32m--> 718\u001b[0m         \u001b[39mraise\u001b[39;00m \u001b[39mValueError\u001b[39;00m(\n\u001b[0;32m    719\u001b[0m             \u001b[39m\"\u001b[39m\u001b[39mShort orders require: \u001b[39m\u001b[39m\"\u001b[39m\n\u001b[0;32m    720\u001b[0m             \u001b[39mf\u001b[39m\u001b[39m\"\u001b[39m\u001b[39mTP (\u001b[39m\u001b[39m{\u001b[39;00mtp\u001b[39m}\u001b[39;00m\u001b[39m) < LIMIT (\u001b[39m\u001b[39m{\u001b[39;00mlimit \u001b[39mor\u001b[39;00m stop \u001b[39mor\u001b[39;00m adjusted_price\u001b[39m}\u001b[39;00m\u001b[39m) < SL (\u001b[39m\u001b[39m{\u001b[39;00msl\u001b[39m}\u001b[39;00m\u001b[39m)\u001b[39m\u001b[39m\"\u001b[39m)\n\u001b[0;32m    722\u001b[0m order \u001b[39m=\u001b[39m Order(\u001b[39mself\u001b[39m, size, limit, stop, sl, tp, trade)\n\u001b[0;32m    723\u001b[0m \u001b[39m# Put the new order in the order queue,\u001b[39;00m\n\u001b[0;32m    724\u001b[0m \u001b[39m# inserting SL/TP/trade-closing orders in-front\u001b[39;00m\n",
      "\u001b[1;31mValueError\u001b[0m: Short orders require: TP (nan) < LIMIT (0.4754) < SL (nan)"
     ]
    }
   ],
   "source": [
    "import modulos as md\n",
    "import pandas_ta as ta\n",
    "symbol='XRPUSDT'\n",
    "data = md.sigo_variacion_bitcoin(symbol,timeframe='15m',porc=0.8,ventana=2,tp_flag=True)\n",
    "resultado = md.backtesting(data, plot_flag = False)"
   ]
  },
  {
   "cell_type": "code",
   "execution_count": 3,
   "id": "527c1460",
   "metadata": {},
   "outputs": [
    {
     "data": {
      "text/plain": [
       "Start                     2023-07-05 08:45:00\n",
       "End                       2023-07-15 18:30:00\n",
       "Duration                     10 days 09:45:00\n",
       "Exposure Time [%]                        16.2\n",
       "Equity Final [$]                  1148.654348\n",
       "Equity Peak [$]                   1196.893187\n",
       "Return [%]                          14.865435\n",
       "Buy & Hold Return [%]               48.547463\n",
       "Return (Ann.) [%]                10624.453341\n",
       "Volatility (Ann.) [%]            12329.333719\n",
       "Sharpe Ratio                         0.861722\n",
       "Sortino Ratio                     3109.306689\n",
       "Calmar Ratio                      2636.119795\n",
       "Max. Drawdown [%]                   -4.030338\n",
       "Avg. Drawdown [%]                   -1.581544\n",
       "Max. Drawdown Duration        7 days 01:15:00\n",
       "Avg. Drawdown Duration        1 days 16:53:00\n",
       "# Trades                                   15\n",
       "Win Rate [%]                        46.666667\n",
       "Best Trade [%]                       9.694789\n",
       "Worst Trade [%]                     -4.575481\n",
       "Avg. Trade [%]                       1.280279\n",
       "Max. Trade Duration           1 days 02:45:00\n",
       "Avg. Trade Duration           0 days 02:27:00\n",
       "Profit Factor                        2.354178\n",
       "Expectancy [%]                       1.371457\n",
       "SQN                                  1.192048\n",
       "_strategy                               Fenix\n",
       "_equity_curve                             ...\n",
       "_trades                       Size  EntryB...\n",
       "dtype: object"
      ]
     },
     "execution_count": 3,
     "metadata": {},
     "output_type": "execute_result"
    }
   ],
   "source": [
    "resultado"
   ]
  }
 ],
 "metadata": {
  "kernelspec": {
   "display_name": "Python 3 (ipykernel)",
   "language": "python",
   "name": "python3"
  },
  "language_info": {
   "codemirror_mode": {
    "name": "ipython",
    "version": 3
   },
   "file_extension": ".py",
   "mimetype": "text/x-python",
   "name": "python",
   "nbconvert_exporter": "python",
   "pygments_lexer": "ipython3",
   "version": "3.10.11"
  }
 },
 "nbformat": 4,
 "nbformat_minor": 5
}
