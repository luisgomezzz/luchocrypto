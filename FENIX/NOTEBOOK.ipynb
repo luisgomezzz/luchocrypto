{
 "cells": [
  {
   "cell_type": "code",
   "execution_count": 1,
   "id": "b29811c3",
   "metadata": {
    "scrolled": false
   },
   "outputs": [
    {
     "name": "stderr",
     "output_type": "stream",
     "text": [
      "C:\\Users\\Luis Gomez Freites\\AppData\\Local\\Packages\\PythonSoftwareFoundation.Python.3.10_qbz5n2kfra8p0\\LocalCache\\local-packages\\Python310\\site-packages\\tqdm\\auto.py:22: TqdmWarning: IProgress not found. Please update jupyter and ipywidgets. See https://ipywidgets.readthedocs.io/en/stable/user_install.html\n",
      "  from .autonotebook import tqdm as notebook_tqdm\n"
     ]
    },
    {
     "name": "stdout",
     "output_type": "stream",
     "text": [
      "EOSUSDT - 5.187310245764024\n",
      "ADAUSDT - 1.1295585718008851\n",
      "STORJUSDT - 4.514127433442127\n",
      "MATICUSDT - 0.17157481010326592\n",
      "ALPHAUSDT - 3.4612016261847884\n",
      "LINAUSDT - 0.5264804594127099\n",
      "CFXUSDT - 2.1522178780178365\n",
      "STXUSDT - 34.84600199356214\n",
      "SUIUSDT - 41.03080129422756\n"
     ]
    }
   ],
   "source": [
    "import modulos as md\n",
    "\n",
    "lista=['XRPUSDT',\n",
    "'EOSUSDT',\n",
    "'LTCUSDT',\n",
    "'ADAUSDT',\n",
    "'BNBUSDT',\n",
    "'DOGEUSDT',\n",
    "'KAVAUSDT',\n",
    "'RLCUSDT',\n",
    "'SOLUSDT',\n",
    "'STORJUSDT',\n",
    "'TOMOUSDT',\n",
    "'MATICUSDT',\n",
    "'ALPHAUSDT',\n",
    "'SANDUSDT',\n",
    "'LINAUSDT',\n",
    "'MTLUSDT',\n",
    "'MASKUSDT',\n",
    "'DYDXUSDT',\n",
    "'ARPAUSDT',\n",
    "'OPUSDT',\n",
    "'INJUSDT',\n",
    "'LDOUSDT',\n",
    "'APTUSDT',\n",
    "'RNDRUSDT',\n",
    "'CFXUSDT',\n",
    "'STXUSDT',\n",
    "'ARBUSDT',\n",
    "'SUIUSDT',\n",
    "'RADUSDT'\n",
    "]\n",
    "\n",
    "for symbol in lista:\n",
    "    data = md.obtiene_historial(symbol)\n",
    "    data = md.estrategia(data)\n",
    "    md.backtesting(data,symbol)"
   ]
  },
  {
   "cell_type": "code",
   "execution_count": null,
   "id": "2842240f",
   "metadata": {},
   "outputs": [],
   "source": []
  }
 ],
 "metadata": {
  "kernelspec": {
   "display_name": "Python 3 (ipykernel)",
   "language": "python",
   "name": "python3"
  },
  "language_info": {
   "codemirror_mode": {
    "name": "ipython",
    "version": 3
   },
   "file_extension": ".py",
   "mimetype": "text/x-python",
   "name": "python",
   "nbconvert_exporter": "python",
   "pygments_lexer": "ipython3",
   "version": "3.10.11"
  }
 },
 "nbformat": 4,
 "nbformat_minor": 5
}
