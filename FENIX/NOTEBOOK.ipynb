{
 "cells": [
  {
   "cell_type": "code",
   "execution_count": 6,
   "id": "2d7ba37d",
   "metadata": {},
   "outputs": [
    {
     "name": "stdout",
     "output_type": "stream",
     "text": [
      "XTZUSDT - Return [%]: 3.7% - # Trades: 5 - Profit Factor: 15.197598786164273 - Win Rate [%]: 80.0\n",
      "KNCUSDT - Return [%]: 4.34% - # Trades: 4 - Profit Factor: nan - Win Rate [%]: 100.0\n",
      "SRMUSDT - Return [%]: 4.47% - # Trades: 4 - Profit Factor: 6.775119620196517 - Win Rate [%]: 75.0\n",
      "FLOWUSDT - Return [%]: 0.11% - # Trades: 4 - Profit Factor: 1.3917146082317458 - Win Rate [%]: 25.0\n",
      "STGUSDT - Return [%]: -0.07% - # Trades: 1 - Profit Factor: 0.0 - Win Rate [%]: 0.0\n",
      "MAVUSDT - Return [%]: -0.17% - # Trades: 4 - Profit Factor: 0.21694539796571666 - Win Rate [%]: 25.0\n",
      "SUIUSDT - Return [%]: 0.28% - # Trades: 1 - Profit Factor: nan - Win Rate [%]: 100.0\n",
      "XLMUSDT - Return [%]: -0.51% - # Trades: 2 - Profit Factor: 0.0 - Win Rate [%]: 0.0\n",
      "XRPUSDT - Return [%]: 0.18% - # Trades: 2 - Profit Factor: nan - Win Rate [%]: 100.0\n",
      "1INCHUSDT - Return [%]: 0.98% - # Trades: 1 - Profit Factor: nan - Win Rate [%]: 100.0\n",
      "EDUUSDT - Return [%]: -0.5% - # Trades: 1 - Profit Factor: 0.0 - Win Rate [%]: 0.0\n"
     ]
    }
   ],
   "source": [
    "###################################### ESTRATEGIA BB\n",
    "###################################################################################################################\n",
    "import modulos as md\n",
    "import numpy as np\n",
    "import constantes as cons\n",
    "\n",
    "lista=['XTZUSDT',\n",
    "'KNCUSDT',\n",
    "'SRMUSDT',\n",
    "'FLOWUSDT',\n",
    "'STGUSDT',\n",
    "'MAVUSDT',\n",
    "'SUIUSDT',\n",
    "'XLMUSDT',\n",
    "'XRPUSDT',\n",
    "'1INCHUSDT',\n",
    "'EDUUSDT',\n",
    "'RAYUSDT'\n",
    "]\n",
    "lista_filtrada = []\n",
    "\n",
    "#lista=md.lista_de_monedas ()\n",
    "#lista=['EDUUSDT']\n",
    "\n",
    "for symbol in lista:    \n",
    "    try:\n",
    "        #data = md.estrategia_santa(symbol,tp_flag = True)\n",
    "        #data = md.sigo_variacion_bitcoin(symbol)\n",
    "        #data = md.estrategia_bb(symbol)        \n",
    "        data = md.estrategia_triangulos(symbol,tp_flag = True,print_lines_flag = False)\n",
    "        #######################################################################\n",
    "        resultado = md.backtesting(data, plot_flag = False)\n",
    "        if ((resultado['Profit Factor'] > 2 or np.isnan(resultado['Profit Factor'])) and (resultado['Return [%]']/resultado['# Trades']) >=0.33):\n",
    "            lista_filtrada.append(symbol)\n",
    "        print(f\"{symbol} - Return [%]: {md.truncate(resultado['Return [%]'],2)}% - # Trades: {resultado['# Trades']} - Profit Factor: {resultado['Profit Factor']} - Win Rate [%]: {resultado['Win Rate [%]']}\")\n",
    "    except Exception as falla:\n",
    "        pass\n",
    "for symbol in lista_filtrada:\n",
    "    md.printandlog(cons.nombrelog,symbol,pal=1)\n",
    "#md.dibuja_patrones_triangulos (data,147)    \n"
   ]
  },
  {
   "cell_type": "code",
   "execution_count": 4,
   "id": "ebc2902d",
   "metadata": {},
   "outputs": [
    {
     "name": "stdout",
     "output_type": "stream",
     "text": [
      "1.0 -0.9379181552816179\n"
     ]
    },
    {
     "data": {
      "application/vnd.plotly.v1+json": {
       "config": {
        "plotlyServerURL": "https://plot.ly"
       },
       "data": [
        {
         "close": [
          0.6304,
          0.62947,
          0.63,
          0.63066,
          0.62985,
          0.62689,
          0.62655,
          0.62562,
          0.62621,
          0.62778,
          0.63004,
          0.6298,
          0.63118,
          0.6344,
          0.6344,
          0.6307,
          0.62981,
          0.62444,
          0.62799,
          0.62687,
          0.6269,
          0.628,
          0.62798,
          0.6286,
          0.63034,
          0.62996,
          0.62876,
          0.62886,
          0.62938,
          0.63097,
          0.63046,
          0.63063,
          0.63124,
          0.63206,
          0.63098,
          0.62998,
          0.63005,
          0.63215,
          0.63295,
          0.63338,
          0.63597,
          0.63484,
          0.63544,
          0.63668,
          0.63451,
          0.63422,
          0.63277,
          0.63481,
          0.63565,
          0.63384,
          0.63617,
          0.63557,
          0.6348,
          0.63703,
          0.64018,
          0.63945,
          0.6378,
          0.63318,
          0.63281,
          0.63396,
          0.63478,
          0.63571,
          0.63415,
          0.63309,
          0.63524,
          0.63448,
          0.6348,
          0.635,
          0.63362,
          0.63418,
          0.63465,
          0.63473,
          0.63302,
          0.63237,
          0.63352,
          0.63209,
          0.63014,
          0.62829,
          0.629,
          0.63142,
          0.62957,
          0.62849,
          0.62789,
          0.62835,
          0.6283,
          0.62745,
          0.6288,
          0.62748,
          0.62671,
          0.62713,
          0.62819,
          0.62681,
          0.62653,
          0.6275,
          0.6269,
          0.62864,
          0.62958,
          0.62933,
          0.6296,
          0.62978,
          0.62976,
          0.62763,
          0.62749,
          0.62862,
          0.62942,
          0.62888,
          0.6294,
          0.62868,
          0.6282,
          0.62446,
          0.6227,
          0.62356,
          0.62305,
          0.62509,
          0.6248,
          0.62499,
          0.6256,
          0.62576,
          0.62782,
          0.63001,
          0.6293,
          0.63119,
          0.63175,
          0.6315,
          0.6307,
          0.63035,
          0.62909,
          0.63,
          0.62803,
          0.62478,
          0.60201,
          0.60459,
          0.6065,
          0.60554,
          0.60635,
          0.60346,
          0.60177,
          0.6021,
          0.60402,
          0.60807
         ],
         "high": [
          0.63063,
          0.63083,
          0.63041,
          0.63066,
          0.63118,
          0.62999,
          0.62774,
          0.62711,
          0.62637,
          0.62783,
          0.63016,
          0.63026,
          0.63129,
          0.63708,
          0.63503,
          0.63413,
          0.63115,
          0.62981,
          0.62799,
          0.62772,
          0.62817,
          0.628,
          0.62798,
          0.6286,
          0.63081,
          0.63016,
          0.63007,
          0.63037,
          0.6316,
          0.63122,
          0.63171,
          0.6318,
          0.63196,
          0.63228,
          0.63215,
          0.63098,
          0.63005,
          0.63215,
          0.6336,
          0.63389,
          0.63723,
          0.63651,
          0.63647,
          0.63668,
          0.63724,
          0.63486,
          0.63461,
          0.63566,
          0.63635,
          0.63649,
          0.63717,
          0.63745,
          0.63783,
          0.63717,
          0.64073,
          0.64234,
          0.63986,
          0.63791,
          0.63395,
          0.6343,
          0.63504,
          0.63629,
          0.63648,
          0.63427,
          0.63551,
          0.63496,
          0.635,
          0.63596,
          0.63568,
          0.63488,
          0.63489,
          0.63527,
          0.63506,
          0.63301,
          0.63365,
          0.63321,
          0.6323,
          0.63015,
          0.6297,
          0.6321,
          0.6312,
          0.63048,
          0.62871,
          0.62927,
          0.62957,
          0.62853,
          0.62887,
          0.62913,
          0.62799,
          0.62785,
          0.62861,
          0.62851,
          0.62757,
          0.62917,
          0.6296,
          0.62938,
          0.6299,
          0.63013,
          0.63024,
          0.62978,
          0.631,
          0.62917,
          0.62794,
          0.629,
          0.62942,
          0.62945,
          0.63014,
          0.63048,
          0.62942,
          0.62828,
          0.62798,
          0.62434,
          0.62404,
          0.62586,
          0.6255,
          0.62538,
          0.6267,
          0.62634,
          0.62821,
          0.63088,
          0.6311,
          0.6315,
          0.63181,
          0.6316,
          0.63163,
          0.63226,
          0.6304,
          0.63,
          0.62987,
          0.62834,
          0.62429,
          0.60459,
          0.60685,
          0.60828,
          0.60802,
          0.60652,
          0.60342,
          0.60416,
          0.60511,
          0.60846
         ],
         "low": [
          0.62734,
          0.62895,
          0.6292,
          0.62942,
          0.62985,
          0.62597,
          0.62549,
          0.625,
          0.62513,
          0.62549,
          0.62716,
          0.62875,
          0.62919,
          0.63149,
          0.63283,
          0.6307,
          0.62849,
          0.62342,
          0.6226,
          0.62603,
          0.62642,
          0.62598,
          0.62564,
          0.62746,
          0.6283,
          0.62882,
          0.6285,
          0.62845,
          0.62858,
          0.62938,
          0.63046,
          0.63039,
          0.63049,
          0.63123,
          0.62964,
          0.62811,
          0.6286,
          0.62805,
          0.6318,
          0.63282,
          0.63171,
          0.63413,
          0.63358,
          0.63476,
          0.6343,
          0.63117,
          0.63277,
          0.63277,
          0.635,
          0.63335,
          0.63373,
          0.63498,
          0.6348,
          0.63474,
          0.63682,
          0.63906,
          0.63664,
          0.63,
          0.63174,
          0.63212,
          0.63326,
          0.63464,
          0.63354,
          0.63257,
          0.63292,
          0.63247,
          0.6326,
          0.63341,
          0.63362,
          0.633,
          0.63366,
          0.63411,
          0.63285,
          0.63154,
          0.63237,
          0.63134,
          0.62806,
          0.6256,
          0.62762,
          0.6287,
          0.62946,
          0.62784,
          0.62707,
          0.6271,
          0.62817,
          0.62637,
          0.62621,
          0.62729,
          0.62567,
          0.62601,
          0.62655,
          0.62562,
          0.62639,
          0.62678,
          0.6269,
          0.62723,
          0.62806,
          0.62808,
          0.6285,
          0.6286,
          0.62808,
          0.627,
          0.62529,
          0.62745,
          0.62816,
          0.62827,
          0.6285,
          0.62765,
          0.62793,
          0.62436,
          0.62044,
          0.62171,
          0.62116,
          0.62271,
          0.6235,
          0.62322,
          0.62465,
          0.62536,
          0.62541,
          0.6275,
          0.62911,
          0.62886,
          0.62967,
          0.63005,
          0.62998,
          0.63033,
          0.62865,
          0.62858,
          0.62663,
          0.62426,
          0.59189,
          0.59611,
          0.60266,
          0.60357,
          0.60425,
          0.60258,
          0.59808,
          0.60147,
          0.60206,
          0.60325
         ],
         "open": [
          0.62734,
          0.63052,
          0.62927,
          0.62976,
          0.63054,
          0.62999,
          0.62674,
          0.62702,
          0.62592,
          0.6261,
          0.62747,
          0.63004,
          0.6298,
          0.63149,
          0.63438,
          0.63413,
          0.6307,
          0.62981,
          0.62432,
          0.62758,
          0.62718,
          0.62695,
          0.62781,
          0.62796,
          0.62867,
          0.62996,
          0.62995,
          0.62864,
          0.62871,
          0.62938,
          0.63097,
          0.63047,
          0.63126,
          0.63123,
          0.632,
          0.63098,
          0.6297,
          0.62972,
          0.63202,
          0.63319,
          0.63302,
          0.63591,
          0.63499,
          0.63547,
          0.63605,
          0.63418,
          0.63418,
          0.63277,
          0.63515,
          0.63579,
          0.63414,
          0.63612,
          0.63568,
          0.63507,
          0.63704,
          0.64004,
          0.63935,
          0.63791,
          0.63349,
          0.63213,
          0.63394,
          0.63464,
          0.63618,
          0.63415,
          0.63348,
          0.6348,
          0.63415,
          0.63513,
          0.63464,
          0.63425,
          0.63451,
          0.63428,
          0.6349,
          0.63301,
          0.63263,
          0.63321,
          0.6322,
          0.63015,
          0.6278,
          0.629,
          0.6312,
          0.62972,
          0.62843,
          0.62798,
          0.62829,
          0.6283,
          0.6273,
          0.62905,
          0.62799,
          0.6267,
          0.62688,
          0.62851,
          0.62721,
          0.62695,
          0.62735,
          0.62723,
          0.62851,
          0.62958,
          0.62946,
          0.6296,
          0.62978,
          0.62917,
          0.62744,
          0.62745,
          0.62902,
          0.62878,
          0.6285,
          0.62943,
          0.62867,
          0.62828,
          0.62449,
          0.6227,
          0.62345,
          0.62277,
          0.62507,
          0.6248,
          0.62465,
          0.6256,
          0.62586,
          0.62758,
          0.62974,
          0.62914,
          0.63148,
          0.6316,
          0.6315,
          0.63049,
          0.63036,
          0.62932,
          0.62987,
          0.62834,
          0.62429,
          0.60224,
          0.6046,
          0.60648,
          0.60597,
          0.60626,
          0.60342,
          0.60185,
          0.60269,
          0.60376
         ],
         "type": "candlestick",
         "x": [
          195,
          196,
          197,
          198,
          199,
          200,
          201,
          202,
          203,
          204,
          205,
          206,
          207,
          208,
          209,
          210,
          211,
          212,
          213,
          214,
          215,
          216,
          217,
          218,
          219,
          220,
          221,
          222,
          223,
          224,
          225,
          226,
          227,
          228,
          229,
          230,
          231,
          232,
          233,
          234,
          235,
          236,
          237,
          238,
          239,
          240,
          241,
          242,
          243,
          244,
          245,
          246,
          247,
          248,
          249,
          250,
          251,
          252,
          253,
          254,
          255,
          256,
          257,
          258,
          259,
          260,
          261,
          262,
          263,
          264,
          265,
          266,
          267,
          268,
          269,
          270,
          271,
          272,
          273,
          274,
          275,
          276,
          277,
          278,
          279,
          280,
          281,
          282,
          283,
          284,
          285,
          286,
          287,
          288,
          289,
          290,
          291,
          292,
          293,
          294,
          295,
          296,
          297,
          298,
          299,
          300,
          301,
          302,
          303,
          304,
          305,
          306,
          307,
          308,
          309,
          310,
          311,
          312,
          313,
          314,
          315,
          316,
          317,
          318,
          319,
          320,
          321,
          322,
          323,
          324,
          325,
          326,
          327,
          328,
          329,
          330,
          331,
          332,
          333,
          334
         ]
        },
        {
         "marker": {
          "color": "MediumPurple",
          "size": 4
         },
         "mode": "markers",
         "name": "pivot",
         "type": "scatter",
         "x": [
          195,
          196,
          197,
          198,
          199,
          200,
          201,
          202,
          203,
          204,
          205,
          206,
          207,
          208,
          209,
          210,
          211,
          212,
          213,
          214,
          215,
          216,
          217,
          218,
          219,
          220,
          221,
          222,
          223,
          224,
          225,
          226,
          227,
          228,
          229,
          230,
          231,
          232,
          233,
          234,
          235,
          236,
          237,
          238,
          239,
          240,
          241,
          242,
          243,
          244,
          245,
          246,
          247,
          248,
          249,
          250,
          251,
          252,
          253,
          254,
          255,
          256,
          257,
          258,
          259,
          260,
          261,
          262,
          263,
          264,
          265,
          266,
          267,
          268,
          269,
          270,
          271,
          272,
          273,
          274,
          275,
          276,
          277,
          278,
          279,
          280,
          281,
          282,
          283,
          284,
          285,
          286,
          287,
          288,
          289,
          290,
          291,
          292,
          293,
          294,
          295,
          296,
          297,
          298,
          299,
          300,
          301,
          302,
          303,
          304,
          305,
          306,
          307,
          308,
          309,
          310,
          311,
          312,
          313,
          314,
          315,
          316,
          317,
          318,
          319,
          320,
          321,
          322,
          323,
          324,
          325,
          326,
          327,
          328,
          329,
          330,
          331,
          332,
          333,
          334
         ],
         "y": [
          null,
          null,
          null,
          null,
          0.63218,
          null,
          null,
          0.624,
          null,
          null,
          null,
          null,
          null,
          0.63808,
          null,
          null,
          null,
          null,
          0.6216,
          null,
          null,
          null,
          0.62464,
          null,
          0.63181,
          null,
          null,
          null,
          null,
          null,
          null,
          null,
          null,
          0.63328,
          null,
          null,
          null,
          0.62705,
          null,
          null,
          0.63823,
          null,
          null,
          null,
          0.63824,
          0.63017,
          null,
          null,
          null,
          null,
          null,
          null,
          null,
          null,
          null,
          0.64334,
          null,
          0.629,
          null,
          null,
          null,
          null,
          0.63748,
          null,
          null,
          0.63147,
          null,
          0.63696,
          null,
          null,
          null,
          null,
          null,
          null,
          null,
          null,
          null,
          0.6246,
          null,
          null,
          null,
          null,
          null,
          null,
          null,
          null,
          null,
          null,
          null,
          null,
          null,
          0.62462,
          null,
          null,
          null,
          null,
          null,
          null,
          null,
          null,
          0.632,
          null,
          0.62429,
          null,
          null,
          null,
          null,
          0.63148,
          null,
          null,
          0.61944,
          null,
          null,
          null,
          null,
          null,
          null,
          null,
          null,
          null,
          null,
          null,
          null,
          null,
          null,
          0.63326,
          null,
          null,
          null,
          null,
          0.59089,
          null,
          null,
          null,
          null,
          null,
          0.5970799999999999,
          null,
          null,
          null
         ]
        },
        {
         "mode": "lines",
         "name": "min slope",
         "type": "scatter",
         "x": [
          252,
          260,
          275
         ],
         "y": [
          0.63,
          0.63247,
          0.63710125
         ]
        },
        {
         "mode": "lines",
         "name": "max slope",
         "type": "scatter",
         "x": [
          250,
          257,
          262,
          277
         ],
         "y": [
          0.6417514678899082,
          0.6378924770642201,
          0.6351360550458715,
          0.6268667889908255
         ]
        }
       ],
       "layout": {
        "template": {
         "data": {
          "bar": [
           {
            "error_x": {
             "color": "#2a3f5f"
            },
            "error_y": {
             "color": "#2a3f5f"
            },
            "marker": {
             "line": {
              "color": "#E5ECF6",
              "width": 0.5
             },
             "pattern": {
              "fillmode": "overlay",
              "size": 10,
              "solidity": 0.2
             }
            },
            "type": "bar"
           }
          ],
          "barpolar": [
           {
            "marker": {
             "line": {
              "color": "#E5ECF6",
              "width": 0.5
             },
             "pattern": {
              "fillmode": "overlay",
              "size": 10,
              "solidity": 0.2
             }
            },
            "type": "barpolar"
           }
          ],
          "carpet": [
           {
            "aaxis": {
             "endlinecolor": "#2a3f5f",
             "gridcolor": "white",
             "linecolor": "white",
             "minorgridcolor": "white",
             "startlinecolor": "#2a3f5f"
            },
            "baxis": {
             "endlinecolor": "#2a3f5f",
             "gridcolor": "white",
             "linecolor": "white",
             "minorgridcolor": "white",
             "startlinecolor": "#2a3f5f"
            },
            "type": "carpet"
           }
          ],
          "choropleth": [
           {
            "colorbar": {
             "outlinewidth": 0,
             "ticks": ""
            },
            "type": "choropleth"
           }
          ],
          "contour": [
           {
            "colorbar": {
             "outlinewidth": 0,
             "ticks": ""
            },
            "colorscale": [
             [
              0,
              "#0d0887"
             ],
             [
              0.1111111111111111,
              "#46039f"
             ],
             [
              0.2222222222222222,
              "#7201a8"
             ],
             [
              0.3333333333333333,
              "#9c179e"
             ],
             [
              0.4444444444444444,
              "#bd3786"
             ],
             [
              0.5555555555555556,
              "#d8576b"
             ],
             [
              0.6666666666666666,
              "#ed7953"
             ],
             [
              0.7777777777777778,
              "#fb9f3a"
             ],
             [
              0.8888888888888888,
              "#fdca26"
             ],
             [
              1,
              "#f0f921"
             ]
            ],
            "type": "contour"
           }
          ],
          "contourcarpet": [
           {
            "colorbar": {
             "outlinewidth": 0,
             "ticks": ""
            },
            "type": "contourcarpet"
           }
          ],
          "heatmap": [
           {
            "colorbar": {
             "outlinewidth": 0,
             "ticks": ""
            },
            "colorscale": [
             [
              0,
              "#0d0887"
             ],
             [
              0.1111111111111111,
              "#46039f"
             ],
             [
              0.2222222222222222,
              "#7201a8"
             ],
             [
              0.3333333333333333,
              "#9c179e"
             ],
             [
              0.4444444444444444,
              "#bd3786"
             ],
             [
              0.5555555555555556,
              "#d8576b"
             ],
             [
              0.6666666666666666,
              "#ed7953"
             ],
             [
              0.7777777777777778,
              "#fb9f3a"
             ],
             [
              0.8888888888888888,
              "#fdca26"
             ],
             [
              1,
              "#f0f921"
             ]
            ],
            "type": "heatmap"
           }
          ],
          "heatmapgl": [
           {
            "colorbar": {
             "outlinewidth": 0,
             "ticks": ""
            },
            "colorscale": [
             [
              0,
              "#0d0887"
             ],
             [
              0.1111111111111111,
              "#46039f"
             ],
             [
              0.2222222222222222,
              "#7201a8"
             ],
             [
              0.3333333333333333,
              "#9c179e"
             ],
             [
              0.4444444444444444,
              "#bd3786"
             ],
             [
              0.5555555555555556,
              "#d8576b"
             ],
             [
              0.6666666666666666,
              "#ed7953"
             ],
             [
              0.7777777777777778,
              "#fb9f3a"
             ],
             [
              0.8888888888888888,
              "#fdca26"
             ],
             [
              1,
              "#f0f921"
             ]
            ],
            "type": "heatmapgl"
           }
          ],
          "histogram": [
           {
            "marker": {
             "pattern": {
              "fillmode": "overlay",
              "size": 10,
              "solidity": 0.2
             }
            },
            "type": "histogram"
           }
          ],
          "histogram2d": [
           {
            "colorbar": {
             "outlinewidth": 0,
             "ticks": ""
            },
            "colorscale": [
             [
              0,
              "#0d0887"
             ],
             [
              0.1111111111111111,
              "#46039f"
             ],
             [
              0.2222222222222222,
              "#7201a8"
             ],
             [
              0.3333333333333333,
              "#9c179e"
             ],
             [
              0.4444444444444444,
              "#bd3786"
             ],
             [
              0.5555555555555556,
              "#d8576b"
             ],
             [
              0.6666666666666666,
              "#ed7953"
             ],
             [
              0.7777777777777778,
              "#fb9f3a"
             ],
             [
              0.8888888888888888,
              "#fdca26"
             ],
             [
              1,
              "#f0f921"
             ]
            ],
            "type": "histogram2d"
           }
          ],
          "histogram2dcontour": [
           {
            "colorbar": {
             "outlinewidth": 0,
             "ticks": ""
            },
            "colorscale": [
             [
              0,
              "#0d0887"
             ],
             [
              0.1111111111111111,
              "#46039f"
             ],
             [
              0.2222222222222222,
              "#7201a8"
             ],
             [
              0.3333333333333333,
              "#9c179e"
             ],
             [
              0.4444444444444444,
              "#bd3786"
             ],
             [
              0.5555555555555556,
              "#d8576b"
             ],
             [
              0.6666666666666666,
              "#ed7953"
             ],
             [
              0.7777777777777778,
              "#fb9f3a"
             ],
             [
              0.8888888888888888,
              "#fdca26"
             ],
             [
              1,
              "#f0f921"
             ]
            ],
            "type": "histogram2dcontour"
           }
          ],
          "mesh3d": [
           {
            "colorbar": {
             "outlinewidth": 0,
             "ticks": ""
            },
            "type": "mesh3d"
           }
          ],
          "parcoords": [
           {
            "line": {
             "colorbar": {
              "outlinewidth": 0,
              "ticks": ""
             }
            },
            "type": "parcoords"
           }
          ],
          "pie": [
           {
            "automargin": true,
            "type": "pie"
           }
          ],
          "scatter": [
           {
            "fillpattern": {
             "fillmode": "overlay",
             "size": 10,
             "solidity": 0.2
            },
            "type": "scatter"
           }
          ],
          "scatter3d": [
           {
            "line": {
             "colorbar": {
              "outlinewidth": 0,
              "ticks": ""
             }
            },
            "marker": {
             "colorbar": {
              "outlinewidth": 0,
              "ticks": ""
             }
            },
            "type": "scatter3d"
           }
          ],
          "scattercarpet": [
           {
            "marker": {
             "colorbar": {
              "outlinewidth": 0,
              "ticks": ""
             }
            },
            "type": "scattercarpet"
           }
          ],
          "scattergeo": [
           {
            "marker": {
             "colorbar": {
              "outlinewidth": 0,
              "ticks": ""
             }
            },
            "type": "scattergeo"
           }
          ],
          "scattergl": [
           {
            "marker": {
             "colorbar": {
              "outlinewidth": 0,
              "ticks": ""
             }
            },
            "type": "scattergl"
           }
          ],
          "scattermapbox": [
           {
            "marker": {
             "colorbar": {
              "outlinewidth": 0,
              "ticks": ""
             }
            },
            "type": "scattermapbox"
           }
          ],
          "scatterpolar": [
           {
            "marker": {
             "colorbar": {
              "outlinewidth": 0,
              "ticks": ""
             }
            },
            "type": "scatterpolar"
           }
          ],
          "scatterpolargl": [
           {
            "marker": {
             "colorbar": {
              "outlinewidth": 0,
              "ticks": ""
             }
            },
            "type": "scatterpolargl"
           }
          ],
          "scatterternary": [
           {
            "marker": {
             "colorbar": {
              "outlinewidth": 0,
              "ticks": ""
             }
            },
            "type": "scatterternary"
           }
          ],
          "surface": [
           {
            "colorbar": {
             "outlinewidth": 0,
             "ticks": ""
            },
            "colorscale": [
             [
              0,
              "#0d0887"
             ],
             [
              0.1111111111111111,
              "#46039f"
             ],
             [
              0.2222222222222222,
              "#7201a8"
             ],
             [
              0.3333333333333333,
              "#9c179e"
             ],
             [
              0.4444444444444444,
              "#bd3786"
             ],
             [
              0.5555555555555556,
              "#d8576b"
             ],
             [
              0.6666666666666666,
              "#ed7953"
             ],
             [
              0.7777777777777778,
              "#fb9f3a"
             ],
             [
              0.8888888888888888,
              "#fdca26"
             ],
             [
              1,
              "#f0f921"
             ]
            ],
            "type": "surface"
           }
          ],
          "table": [
           {
            "cells": {
             "fill": {
              "color": "#EBF0F8"
             },
             "line": {
              "color": "white"
             }
            },
            "header": {
             "fill": {
              "color": "#C8D4E3"
             },
             "line": {
              "color": "white"
             }
            },
            "type": "table"
           }
          ]
         },
         "layout": {
          "annotationdefaults": {
           "arrowcolor": "#2a3f5f",
           "arrowhead": 0,
           "arrowwidth": 1
          },
          "autotypenumbers": "strict",
          "coloraxis": {
           "colorbar": {
            "outlinewidth": 0,
            "ticks": ""
           }
          },
          "colorscale": {
           "diverging": [
            [
             0,
             "#8e0152"
            ],
            [
             0.1,
             "#c51b7d"
            ],
            [
             0.2,
             "#de77ae"
            ],
            [
             0.3,
             "#f1b6da"
            ],
            [
             0.4,
             "#fde0ef"
            ],
            [
             0.5,
             "#f7f7f7"
            ],
            [
             0.6,
             "#e6f5d0"
            ],
            [
             0.7,
             "#b8e186"
            ],
            [
             0.8,
             "#7fbc41"
            ],
            [
             0.9,
             "#4d9221"
            ],
            [
             1,
             "#276419"
            ]
           ],
           "sequential": [
            [
             0,
             "#0d0887"
            ],
            [
             0.1111111111111111,
             "#46039f"
            ],
            [
             0.2222222222222222,
             "#7201a8"
            ],
            [
             0.3333333333333333,
             "#9c179e"
            ],
            [
             0.4444444444444444,
             "#bd3786"
            ],
            [
             0.5555555555555556,
             "#d8576b"
            ],
            [
             0.6666666666666666,
             "#ed7953"
            ],
            [
             0.7777777777777778,
             "#fb9f3a"
            ],
            [
             0.8888888888888888,
             "#fdca26"
            ],
            [
             1,
             "#f0f921"
            ]
           ],
           "sequentialminus": [
            [
             0,
             "#0d0887"
            ],
            [
             0.1111111111111111,
             "#46039f"
            ],
            [
             0.2222222222222222,
             "#7201a8"
            ],
            [
             0.3333333333333333,
             "#9c179e"
            ],
            [
             0.4444444444444444,
             "#bd3786"
            ],
            [
             0.5555555555555556,
             "#d8576b"
            ],
            [
             0.6666666666666666,
             "#ed7953"
            ],
            [
             0.7777777777777778,
             "#fb9f3a"
            ],
            [
             0.8888888888888888,
             "#fdca26"
            ],
            [
             1,
             "#f0f921"
            ]
           ]
          },
          "colorway": [
           "#636efa",
           "#EF553B",
           "#00cc96",
           "#ab63fa",
           "#FFA15A",
           "#19d3f3",
           "#FF6692",
           "#B6E880",
           "#FF97FF",
           "#FECB52"
          ],
          "font": {
           "color": "#2a3f5f"
          },
          "geo": {
           "bgcolor": "white",
           "lakecolor": "white",
           "landcolor": "#E5ECF6",
           "showlakes": true,
           "showland": true,
           "subunitcolor": "white"
          },
          "hoverlabel": {
           "align": "left"
          },
          "hovermode": "closest",
          "mapbox": {
           "style": "light"
          },
          "paper_bgcolor": "white",
          "plot_bgcolor": "#E5ECF6",
          "polar": {
           "angularaxis": {
            "gridcolor": "white",
            "linecolor": "white",
            "ticks": ""
           },
           "bgcolor": "#E5ECF6",
           "radialaxis": {
            "gridcolor": "white",
            "linecolor": "white",
            "ticks": ""
           }
          },
          "scene": {
           "xaxis": {
            "backgroundcolor": "#E5ECF6",
            "gridcolor": "white",
            "gridwidth": 2,
            "linecolor": "white",
            "showbackground": true,
            "ticks": "",
            "zerolinecolor": "white"
           },
           "yaxis": {
            "backgroundcolor": "#E5ECF6",
            "gridcolor": "white",
            "gridwidth": 2,
            "linecolor": "white",
            "showbackground": true,
            "ticks": "",
            "zerolinecolor": "white"
           },
           "zaxis": {
            "backgroundcolor": "#E5ECF6",
            "gridcolor": "white",
            "gridwidth": 2,
            "linecolor": "white",
            "showbackground": true,
            "ticks": "",
            "zerolinecolor": "white"
           }
          },
          "shapedefaults": {
           "line": {
            "color": "#2a3f5f"
           }
          },
          "ternary": {
           "aaxis": {
            "gridcolor": "white",
            "linecolor": "white",
            "ticks": ""
           },
           "baxis": {
            "gridcolor": "white",
            "linecolor": "white",
            "ticks": ""
           },
           "bgcolor": "#E5ECF6",
           "caxis": {
            "gridcolor": "white",
            "linecolor": "white",
            "ticks": ""
           }
          },
          "title": {
           "x": 0.05
          },
          "xaxis": {
           "automargin": true,
           "gridcolor": "white",
           "linecolor": "white",
           "ticks": "",
           "title": {
            "standoff": 15
           },
           "zerolinecolor": "white",
           "zerolinewidth": 2
          },
          "yaxis": {
           "automargin": true,
           "gridcolor": "white",
           "linecolor": "white",
           "ticks": "",
           "title": {
            "standoff": 15
           },
           "zerolinecolor": "white",
           "zerolinewidth": 2
          }
         }
        },
        "xaxis": {
         "rangeslider": {
          "visible": false
         }
        }
       }
      }
     },
     "metadata": {},
     "output_type": "display_data"
    },
    {
     "name": "stdout",
     "output_type": "stream",
     "text": [
      "linea superior. X: [250. 257. 262. 277.] - y: [0.64175147 0.63789248 0.63513606 0.62686679]\n",
      "linea inferior. X: [252. 260. 275.] - y: [0.63       0.63247    0.63710125]\n"
     ]
    }
   ],
   "source": [
    "md.dibuja_patrones_triangulos (data,265) "
   ]
  }
 ],
 "metadata": {
  "kernelspec": {
   "display_name": "Python 3 (ipykernel)",
   "language": "python",
   "name": "python3"
  },
  "language_info": {
   "codemirror_mode": {
    "name": "ipython",
    "version": 3
   },
   "file_extension": ".py",
   "mimetype": "text/x-python",
   "name": "python",
   "nbconvert_exporter": "python",
   "pygments_lexer": "ipython3",
   "version": "3.10.11"
  }
 },
 "nbformat": 4,
 "nbformat_minor": 5
}
