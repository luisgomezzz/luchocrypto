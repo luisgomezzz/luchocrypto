{
 "cells": [
  {
   "cell_type": "code",
   "execution_count": 4,
   "id": "b29811c3",
   "metadata": {
    "scrolled": false
   },
   "outputs": [
    {
     "name": "stdout",
     "output_type": "stream",
     "text": [
      "Start                     2023-06-05 04:30:00\n",
      "End                       2023-06-26 00:00:00\n",
      "Duration                     20 days 19:30:00\n",
      "Exposure Time [%]                        42.3\n",
      "Equity Final [$]                   1042.68835\n",
      "Equity Peak [$]                   1061.831722\n",
      "Return [%]                           4.268835\n",
      "Buy & Hold Return [%]               13.341554\n",
      "Return (Ann.) [%]                   100.07831\n",
      "Volatility (Ann.) [%]               69.456878\n",
      "Sharpe Ratio                          1.44087\n",
      "Sortino Ratio                        5.876169\n",
      "Calmar Ratio                         12.24751\n",
      "Max. Drawdown [%]                   -8.171319\n",
      "Avg. Drawdown [%]                   -1.101683\n",
      "Max. Drawdown Duration        9 days 15:00:00\n",
      "Avg. Drawdown Duration        1 days 00:20:00\n",
      "# Trades                                   57\n",
      "Win Rate [%]                        31.578947\n",
      "Best Trade [%]                       5.233773\n",
      "Worst Trade [%]                     -2.071352\n",
      "Avg. Trade [%]                       0.088892\n",
      "Max. Trade Duration           1 days 01:00:00\n",
      "Avg. Trade Duration           0 days 03:14:00\n",
      "Profit Factor                        1.141094\n",
      "Expectancy [%]                       0.107404\n",
      "SQN                                  0.677823\n",
      "_strategy                               Fenix\n",
      "_equity_curve                             ...\n",
      "_trades                       Size  EntryB...\n",
      "dtype: object\n"
     ]
    }
   ],
   "source": [
    "import modulos as md\n",
    "import numpy as np\n",
    "symbol='SFPUSDT'\n",
    "\n",
    "'''\n",
    "lista=md.lista_de_monedas ()\n",
    "\n",
    "for symbol in lista:\n",
    "    try:\n",
    "        data = md.obtiene_historial(symbol)\n",
    "        data = md.estrategia_vwap(data)\n",
    "        resultado = md.backtesting(data)\n",
    "        if float(resultado[4]) > 1030:\n",
    "            print(f\"{symbol} - {resultado[4]}\")\n",
    "    except:\n",
    "        pass        \n",
    "'''\n",
    "data = md.obtiene_historial(symbol)\n",
    "data = md.estrategia_vwap(data)\n",
    "resultado = md.backtesting(data)\n",
    "print(resultado)"
   ]
  },
  {
   "cell_type": "code",
   "execution_count": null,
   "id": "b1fba767",
   "metadata": {},
   "outputs": [],
   "source": []
  }
 ],
 "metadata": {
  "kernelspec": {
   "display_name": "Python 3 (ipykernel)",
   "language": "python",
   "name": "python3"
  },
  "language_info": {
   "codemirror_mode": {
    "name": "ipython",
    "version": 3
   },
   "file_extension": ".py",
   "mimetype": "text/x-python",
   "name": "python",
   "nbconvert_exporter": "python",
   "pygments_lexer": "ipython3",
   "version": "3.10.11"
  }
 },
 "nbformat": 4,
 "nbformat_minor": 5
}
