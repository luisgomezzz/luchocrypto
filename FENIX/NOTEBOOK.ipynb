{
 "cells": [
  {
   "cell_type": "code",
   "execution_count": null,
   "id": "6cd9c678",
   "metadata": {},
   "outputs": [],
   "source": [
    "import modulos as md\n",
    "\n",
    "#lista=md.filtradodemonedas()\n",
    "\n",
    "lista = ['BCHUSDT', 'XRPUSDT', 'EOSUSDT', 'LTCUSDT', 'TRXUSDT', 'ETCUSDT', 'LINKUSDT', 'XLMUSDT', 'ADAUSDT', 'BNBUSDT', 'ATOMUSDT', 'ALGOUSDT', \n",
    "         'KNCUSDT', 'COMPUSDT', 'DOGEUSDT', 'KAVAUSDT', 'WAVESUSDT', 'MKRUSDT', 'SNXUSDT', 'DOTUSDT', 'CRVUSDT', 'SOLUSDT', 'STORJUSDT', 'UNIUSDT', \n",
    "         'AVAXUSDT', 'FTMUSDT', 'TOMOUSDT', 'NEARUSDT', 'AAVEUSDT', 'FILUSDT', 'MATICUSDT', 'AXSUSDT', 'SANDUSDT', 'XEMUSDT', 'MANAUSDT', 'LINAUSDT', \n",
    "         'MTLUSDT', '1000SHIBUSDT', 'MASKUSDT', 'DYDXUSDT', '1000XECUSDT', 'GALAUSDT', 'FLOWUSDT', 'GMTUSDT', 'APEUSDT', 'OPUSDT', 'INJUSDT', 'LDOUSDT', \n",
    "         'APTUSDT', 'FETUSDT', 'RNDRUSDT', 'AGIXUSDT', 'PHBUSDT', 'CFXUSDT', 'STXUSDT', 'LQTYUSDT', 'ARBUSDT', 'SUIUSDT', '1000PEPEUSDT', 'XVGUSDT']\n"
   ]
  },
  {
   "cell_type": "code",
   "execution_count": 3,
   "id": "2d7ba37d",
   "metadata": {},
   "outputs": [
    {
     "name": "stdout",
     "output_type": "stream",
     "text": [
      "XRPUSDT - Return [%]: 15.73% - # Trades: 8 - Profit Factor: 2.31 - Win Rate [%]: 50.0\n",
      "XTZUSDT - Return [%]: 4.39% - # Trades: 8 - Profit Factor: 2.01 - Win Rate [%]: 50.0\n",
      "OMGUSDT - Return [%]: 10.07% - # Trades: 6 - Profit Factor: 7.41 - Win Rate [%]: 66.66666666666666\n"
     ]
    },
    {
     "name": "stderr",
     "output_type": "stream",
     "text": [
      "c:\\LUCHO\\personal\\repopersonal\\luchocrypto\\FENIX\\modulos.py:462: UserWarning: Some prices are larger than initial cash value. Note that fractional trading is not supported. If you want to trade Bitcoin, increase initial cash, or trade μBTC or satoshis instead (GH-134).\n",
      "  bt = Backtest(data, Fenix, cash=1000)\n"
     ]
    },
    {
     "name": "stdout",
     "output_type": "stream",
     "text": [
      "\n",
      "Error: local variable 'data' referenced before assignment - line: 522 - file: modulos.py - par: DEFIUSDT\n",
      "\n"
     ]
    },
    {
     "name": "stderr",
     "output_type": "stream",
     "text": [
      "c:\\LUCHO\\personal\\repopersonal\\luchocrypto\\FENIX\\modulos.py:462: UserWarning: Some prices are larger than initial cash value. Note that fractional trading is not supported. If you want to trade Bitcoin, increase initial cash, or trade μBTC or satoshis instead (GH-134).\n",
      "  bt = Backtest(data, Fenix, cash=1000)\n"
     ]
    },
    {
     "name": "stdout",
     "output_type": "stream",
     "text": [
      "CRVUSDT - Return [%]: 6.81% - # Trades: 7 - Profit Factor: 3.03 - Win Rate [%]: 57.14285714285714\n",
      "1INCHUSDT - Return [%]: 3.28% - # Trades: 9 - Profit Factor: 2.29 - Win Rate [%]: 55.55555555555556\n",
      "MANAUSDT - Return [%]: 4.59% - # Trades: 8 - Profit Factor: 3.07 - Win Rate [%]: 62.5\n",
      "\n",
      "Error: local variable 'data' referenced before assignment - line: 522 - file: modulos.py - par: 1000SHIBUSDT\n",
      "\n",
      "\n",
      "Error: local variable 'data' referenced before assignment - line: 522 - file: modulos.py - par: BTCDOMUSDT\n",
      "\n",
      "\n",
      "Error: local variable 'data' referenced before assignment - line: 522 - file: modulos.py - par: 1000XECUSDT\n",
      "\n",
      "FLOWUSDT - Return [%]: 4.84% - # Trades: 9 - Profit Factor: 2.12 - Win Rate [%]: 55.55555555555556\n",
      "\n",
      "Error: local variable 'data' referenced before assignment - line: 522 - file: modulos.py - par: FOOTBALLUSDT\n",
      "\n",
      "\n",
      "Error: local variable 'data' referenced before assignment - line: 522 - file: modulos.py - par: 1000LUNCUSDT\n",
      "\n",
      "\n",
      "Error: local variable 'data' referenced before assignment - line: 522 - file: modulos.py - par: LUNA2USDT\n",
      "\n",
      "\n",
      "Error: local variable 'data' referenced before assignment - line: 522 - file: modulos.py - par: BLUEBIRDUSDT\n",
      "\n",
      "MAGICUSDT - Return [%]: 7.39% - # Trades: 9 - Profit Factor: 2.12 - Win Rate [%]: 55.55555555555556\n",
      "MINAUSDT - Return [%]: 5.9% - # Trades: 9 - Profit Factor: 2.87 - Win Rate [%]: 66.66666666666666\n",
      "PHBUSDT - Return [%]: 10.63% - # Trades: 9 - Profit Factor: 2.64 - Win Rate [%]: 55.55555555555556\n",
      "PERPUSDT - Return [%]: 6.12% - # Trades: 7 - Profit Factor: 4.57 - Win Rate [%]: 57.14285714285714\n",
      "IDUSDT - Return [%]: 5.6% - # Trades: 7 - Profit Factor: 21.19 - Win Rate [%]: 85.71428571428571\n",
      "JOEUSDT - Return [%]: 2.67% - # Trades: 8 - Profit Factor: 2.25 - Win Rate [%]: 50.0\n",
      "HFTUSDT - Return [%]: 4.74% - # Trades: 8 - Profit Factor: 3.97 - Win Rate [%]: 75.0\n",
      "\n",
      "Error: local variable 'data' referenced before assignment - line: 522 - file: modulos.py - par: BLURUSDT\n",
      "\n",
      "EDUUSDT - Return [%]: 7.79% - # Trades: 7 - Profit Factor: 3.66 - Win Rate [%]: 57.14285714285714\n",
      "SUIUSDT - Return [%]: 6.84% - # Trades: 9 - Profit Factor: 2.22 - Win Rate [%]: 55.55555555555556\n",
      "\n",
      "Error: local variable 'data' referenced before assignment - line: 522 - file: modulos.py - par: 1000PEPEUSDT\n",
      "\n",
      "\n",
      "Error: local variable 'data' referenced before assignment - line: 522 - file: modulos.py - par: 1000FLOKIUSDT\n",
      "\n",
      "COMBOUSDT - Return [%]: 9.13% - # Trades: 10 - Profit Factor: 2.59 - Win Rate [%]: 60.0\n",
      "MAVUSDT - Return [%]: 9.0% - # Trades: 8 - Profit Factor: 8.05 - Win Rate [%]: 75.0\n"
     ]
    }
   ],
   "source": [
    "###################################### ESTRATEGIA BB\n",
    "###################################################################################################################\n",
    "import modulos as md\n",
    "lista=['XRPUSDT',\t\n",
    "'XTZUSDT',\t\n",
    "'OMGUSDT',\t\n",
    "'CRVUSDT',\t\n",
    "'1INCHUSDT',\n",
    "'MANAUSDT',\n",
    "'FLOWUSDT',\n",
    "'MAGICUSDT',\n",
    "'MINAUSDT',\n",
    "'PHBUSDT',\t\n",
    "'PERPUSDT',\n",
    "'IDUSDT',\t\n",
    "'JOEUSDT',\t\n",
    "'HFTUSDT',\t\n",
    "'EDUUSDT',\t\n",
    "'SUIUSDT',\t\n",
    "'COMBOUSDT',\n",
    "'MAVUSDT'\t]\n",
    "\n",
    "#lista=md.lista_de_monedas ()\n",
    "\n",
    "#lista=['STXUSDT']\n",
    "\n",
    "import numpy as np\n",
    "\n",
    "for symbol in lista:    \n",
    "    try:\n",
    "        data = md.sigo_variacion_bitcoin(symbol)\n",
    "        #data = md.estrategia_bb(symbol)\n",
    "        resultado = md.backtesting(data, plot_flag = False)\n",
    "        if (\n",
    "            (resultado['Profit Factor'] > 2 or np.isnan(resultado['Profit Factor']))\n",
    "            and (resultado['Return [%]']/resultado['# Trades']) >=0.33 \n",
    "            ):\n",
    "            print(f\"{symbol} - Return [%]: {md.truncate(resultado['Return [%]'],2)}% - # Trades: {resultado['# Trades']} - Profit Factor: {md.truncate(resultado['Profit Factor'],2)} - Win Rate [%]: {resultado['Win Rate [%]']}\")\n",
    "    except Exception as falla:\n",
    "        pass"
   ]
  }
 ],
 "metadata": {
  "kernelspec": {
   "display_name": "Python 3 (ipykernel)",
   "language": "python",
   "name": "python3"
  },
  "language_info": {
   "codemirror_mode": {
    "name": "ipython",
    "version": 3
   },
   "file_extension": ".py",
   "mimetype": "text/x-python",
   "name": "python",
   "nbconvert_exporter": "python",
   "pygments_lexer": "ipython3",
   "version": "3.10.11"
  }
 },
 "nbformat": 4,
 "nbformat_minor": 5
}
