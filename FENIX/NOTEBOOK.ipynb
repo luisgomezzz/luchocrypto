{
 "cells": [
  {
   "cell_type": "code",
   "execution_count": 1,
   "id": "2d7ba37d",
   "metadata": {},
   "outputs": [
    {
     "name": "stderr",
     "output_type": "stream",
     "text": [
      "C:\\Users\\Luis Gomez Freites\\AppData\\Local\\Packages\\PythonSoftwareFoundation.Python.3.10_qbz5n2kfra8p0\\LocalCache\\local-packages\\Python310\\site-packages\\tqdm\\auto.py:22: TqdmWarning: IProgress not found. Please update jupyter and ipywidgets. See https://ipywidgets.readthedocs.io/en/stable/user_install.html\n",
      "  from .autonotebook import tqdm as notebook_tqdm\n"
     ]
    },
    {
     "name": "stdout",
     "output_type": "stream",
     "text": [
      "BNXUSDT - Return [%]: 0.23% - # Trades: 1 - Profit Factor: nan - Win Rate [%]: 100.0\n",
      "COMBOUSDT - Return [%]: 0.44% - # Trades: 2 - Profit Factor: 2.9425287356321386 - Win Rate [%]: 50.0\n",
      "AGLDUSDT - Return [%]: 1.89% - # Trades: 4 - Profit Factor: 8.206686592234066 - Win Rate [%]: 75.0\n",
      "CELOUSDT - Return [%]: 1.45% - # Trades: 3 - Profit Factor: nan - Win Rate [%]: 100.0\n",
      "BTSUSDT - Return [%]: 0.02% - # Trades: 3 - Profit Factor: nan - Win Rate [%]: 100.0\n",
      "HBARUSDT - Return [%]: 0.05% - # Trades: 1 - Profit Factor: nan - Win Rate [%]: 100.0\n",
      "API3USDT - Return [%]: 0.95% - # Trades: 1 - Profit Factor: nan - Win Rate [%]: 100.0\n",
      "CFXUSDT - Return [%]: 0.19% - # Trades: 1 - Profit Factor: nan - Win Rate [%]: 100.0\n",
      "GALAUSDT - Return [%]: 0.02% - # Trades: 1 - Profit Factor: nan - Win Rate [%]: 100.0\n",
      "IMXUSDT - Return [%]: 1.55% - # Trades: 2 - Profit Factor: nan - Win Rate [%]: 100.0\n",
      "XVGUSDT - Return [%]: 0.0% - # Trades: 1 - Profit Factor: nan - Win Rate [%]: 100.0\n",
      "SRMUSDT - Return [%]: 3.67% - # Trades: 14 - Profit Factor: nan - Win Rate [%]: 100.0\n"
     ]
    }
   ],
   "source": [
    "###################################### ESTRATEGIA BB\n",
    "###################################################################################################################\n",
    "import modulos as md\n",
    "import numpy as np\n",
    "import constantes as cons\n",
    "\n",
    "lista=['GTCUSDT',\n",
    " 'API3USDT',\n",
    " 'LTCUSDT',\n",
    " '1000SHIBUSDT',\n",
    " 'MKRUSDT',\n",
    " 'MATICUSDT',\n",
    " 'HIGHUSDT',\n",
    " '1000PEPEUSDT',\n",
    " 'STMXUSDT',\n",
    " 'APEUSDT',\n",
    " 'TOMOUSDT',\n",
    " 'BNBUSDT',\n",
    " 'SUIUSDT',\n",
    " 'CRVUSDT',\n",
    " 'LINKUSDT',\n",
    " 'GALAUSDT',\n",
    " 'WLDUSDT',\n",
    " 'HBARUSDT',\n",
    " 'SOLUSDT',\n",
    " 'XLMUSDT',\n",
    " 'OPUSDT',\n",
    " 'XRPUSDT',\n",
    " 'COMPUSDT',\n",
    " 'BCHUSDT',\n",
    " 'DOGEUSDT',\n",
    " 'YGGUSDT']\n",
    "lista_filtrada = []\n",
    "\n",
    "lista=md.lista_de_monedas ()\n",
    "#lista=['PENDLEUSDT']\n",
    "\n",
    "\n",
    "for symbol in lista:    \n",
    "    try:\n",
    "        data,porcentajeentrada = md.estrategia_santa(symbol,tp_flag = True)\n",
    "        #data = md.estrategia_triangulos(symbol, tp_flag = True, print_lines_flag = False)\n",
    "        #######################################################################\n",
    "        resultado = md.backtesting(data, plot_flag = False,porcentajeentrada=100)\n",
    "        if ((resultado['Profit Factor'] > 2 or np.isnan(resultado['Profit Factor'])) and (resultado['Return [%]']/resultado['# Trades']) >=0.33):\n",
    "            lista_filtrada.append(symbol)\n",
    "        print(f\"{symbol} - Return [%]: {md.truncate(resultado['Return [%]'],2)}% - # Trades: {resultado['# Trades']} - Profit Factor: {resultado['Profit Factor']} - Win Rate [%]: {resultado['Win Rate [%]']}\")\n",
    "    except Exception as falla:\n",
    "        pass\n",
    "for symbol in lista_filtrada:\n",
    "    md.printandlog(cons.nombrelog,symbol,pal=1)\n",
    "#md.dibuja_patrones_triangulos (data,998)    \n"
   ]
  },
  {
   "cell_type": "code",
   "execution_count": null,
   "id": "ebc2902d",
   "metadata": {},
   "outputs": [],
   "source": [
    "md.dibuja_patrones_triangulos (data,990) "
   ]
  },
  {
   "cell_type": "code",
   "execution_count": 7,
   "id": "e16658a4",
   "metadata": {},
   "outputs": [],
   "source": [
    "lista=md.volumeOf24h('API3USDT')"
   ]
  },
  {
   "cell_type": "code",
   "execution_count": 8,
   "id": "60d2fdfd",
   "metadata": {},
   "outputs": [
    {
     "data": {
      "text/plain": [
       "1068731597.54"
      ]
     },
     "execution_count": 8,
     "metadata": {},
     "output_type": "execute_result"
    }
   ],
   "source": [
    "lista"
   ]
  }
 ],
 "metadata": {
  "kernelspec": {
   "display_name": "Python 3 (ipykernel)",
   "language": "python",
   "name": "python3"
  },
  "language_info": {
   "codemirror_mode": {
    "name": "ipython",
    "version": 3
   },
   "file_extension": ".py",
   "mimetype": "text/x-python",
   "name": "python",
   "nbconvert_exporter": "python",
   "pygments_lexer": "ipython3",
   "version": "3.10.11"
  }
 },
 "nbformat": 4,
 "nbformat_minor": 5
}
