{
 "cells": [
  {
   "cell_type": "code",
   "execution_count": 6,
   "id": "cd995f0a",
   "metadata": {},
   "outputs": [
    {
     "name": "stderr",
     "output_type": "stream",
     "text": [
      "c:\\LUCHO\\personal\\repopersonal\\luchocrypto\\FENIX\\modulos.py:313: UserWarning: Some prices are larger than initial cash value. Note that fractional trading is not supported. If you want to trade Bitcoin, increase initial cash, or trade μBTC or satoshis instead (GH-134).\n",
      "  bt = Backtest(data, Fenix, cash=1000)\n",
      "c:\\LUCHO\\personal\\repopersonal\\luchocrypto\\FENIX\\modulos.py:313: UserWarning: Some prices are larger than initial cash value. Note that fractional trading is not supported. If you want to trade Bitcoin, increase initial cash, or trade μBTC or satoshis instead (GH-134).\n",
      "  bt = Backtest(data, Fenix, cash=1000)\n"
     ]
    },
    {
     "name": "stdout",
     "output_type": "stream",
     "text": [
      "XVGUSDT - retorno: 0.05% - trades: 13 - Profit Factor: 2.379931722093687\n"
     ]
    }
   ],
   "source": [
    "import modulos as md\n",
    "lista=['MKRUSDT']\n",
    "\n",
    "lista=md.lista_de_monedas()\n",
    "\n",
    "for symbol in lista:\n",
    "    try:\n",
    "        data = md.estrategia_santa(symbol,tp_flag = False)\n",
    "        resultado = md.backtesting(data,plot_flag=False)\n",
    "        if resultado['Profit Factor']>1:# and resultado[6]/resultado[17] >=0.5:\n",
    "            print(f\"{symbol} - retorno: {md.truncate(resultado[6],2)}% - trades: {resultado[17]} - Profit Factor: {resultado['Profit Factor']}\")\n",
    "    except Exception as falla:\n",
    "        pass  \n",
    "\n"
   ]
  }
 ],
 "metadata": {
  "kernelspec": {
   "display_name": "Python 3 (ipykernel)",
   "language": "python",
   "name": "python3"
  },
  "language_info": {
   "codemirror_mode": {
    "name": "ipython",
    "version": 3
   },
   "file_extension": ".py",
   "mimetype": "text/x-python",
   "name": "python",
   "nbconvert_exporter": "python",
   "pygments_lexer": "ipython3",
   "version": "3.10.11"
  }
 },
 "nbformat": 4,
 "nbformat_minor": 5
}
