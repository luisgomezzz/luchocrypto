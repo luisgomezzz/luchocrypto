{
 "cells": [
  {
   "cell_type": "code",
   "execution_count": 1,
   "id": "cd995f0a",
   "metadata": {},
   "outputs": [
    {
     "name": "stderr",
     "output_type": "stream",
     "text": [
      "C:\\Users\\Luis Gomez Freites\\AppData\\Local\\Packages\\PythonSoftwareFoundation.Python.3.10_qbz5n2kfra8p0\\LocalCache\\local-packages\\Python310\\site-packages\\tqdm\\auto.py:22: TqdmWarning: IProgress not found. Please update jupyter and ipywidgets. See https://ipywidgets.readthedocs.io/en/stable/user_install.html\n",
      "  from .autonotebook import tqdm as notebook_tqdm\n"
     ]
    },
    {
     "name": "stdout",
     "output_type": "stream",
     "text": [
      "EOSUSDT - Return [%]: 0.78% - # Trades: 3 - Profit Factor: 3.23 - Win Rate [%]: 66.66\n",
      "ONTUSDT - Return [%]: 0.34% - # Trades: 3 - Profit Factor: 2.76 - Win Rate [%]: 66.66\n",
      "THETAUSDT - Return [%]: 0.13% - # Trades: 5 - Profit Factor: 1.07 - Win Rate [%]: 60.0\n",
      "ZILUSDT - Return [%]: 0.0% - # Trades: 3 - Profit Factor: 1.33 - Win Rate [%]: 66.66\n"
     ]
    },
    {
     "name": "stderr",
     "output_type": "stream",
     "text": [
      "c:\\LUCHO\\personal\\repopersonal\\luchocrypto\\FENIX\\modulos.py:318: UserWarning: Some prices are larger than initial cash value. Note that fractional trading is not supported. If you want to trade Bitcoin, increase initial cash, or trade μBTC or satoshis instead (GH-134).\n",
      "  bt = Backtest(data, Fenix, cash=1000)\n",
      "c:\\LUCHO\\personal\\repopersonal\\luchocrypto\\FENIX\\modulos.py:318: UserWarning: Some prices are larger than initial cash value. Note that fractional trading is not supported. If you want to trade Bitcoin, increase initial cash, or trade μBTC or satoshis instead (GH-134).\n",
      "  bt = Backtest(data, Fenix, cash=1000)\n"
     ]
    },
    {
     "name": "stdout",
     "output_type": "stream",
     "text": [
      "SUSHIUSDT - Return [%]: 0.24% - # Trades: 5 - Profit Factor: 1.16 - Win Rate [%]: 60.0\n",
      "BLZUSDT - Return [%]: 0.12% - # Trades: 3 - Profit Factor: 5.6 - Win Rate [%]: 66.66\n",
      "MATICUSDT - Return [%]: 0.46% - # Trades: 10 - Profit Factor: 1.2 - Win Rate [%]: 60.0\n",
      "OCEANUSDT - Return [%]: 0.46% - # Trades: 8 - Profit Factor: 1.3 - Win Rate [%]: 62.5\n",
      "SKLUSDT - Return [%]: 0.04% - # Trades: 4 - Profit Factor: 4.51 - Win Rate [%]: 75.0\n",
      "GRTUSDT - Return [%]: 0.1% - # Trades: 8 - Profit Factor: 1.23 - Win Rate [%]: 62.5\n",
      "1INCHUSDT - Return [%]: 0.36% - # Trades: 5 - Profit Factor: 2.06 - Win Rate [%]: 60.0\n",
      "ANKRUSDT - Return [%]: 0.06% - # Trades: 7 - Profit Factor: 2.03 - Win Rate [%]: 57.14\n",
      "STMXUSDT - Return [%]: 0.02% - # Trades: 18 - Profit Factor: 1.55 - Win Rate [%]: 66.66\n",
      "NKNUSDT - Return [%]: 0.42% - # Trades: 11 - Profit Factor: 2.2 - Win Rate [%]: 72.72\n",
      "DGBUSDT - Return [%]: 0.07% - # Trades: 8 - Profit Factor: 4.59 - Win Rate [%]: 87.5\n",
      "BAKEUSDT - Return [%]: 0.06% - # Trades: 5 - Profit Factor: 1.24 - Win Rate [%]: 60.0\n",
      "RAYUSDT - Return [%]: 0.54% - # Trades: 6 - Profit Factor: 2.08 - Win Rate [%]: 66.66\n",
      "C98USDT - Return [%]: 0.26% - # Trades: 8 - Profit Factor: 1.41 - Win Rate [%]: 62.5\n",
      "ARPAUSDT - Return [%]: 0.06% - # Trades: 3 - Profit Factor: 5.39 - Win Rate [%]: 66.66\n",
      "DUSKUSDT - Return [%]: 0.08% - # Trades: 3 - Profit Factor: 2.08 - Win Rate [%]: 66.66\n",
      "FLOWUSDT - Return [%]: 0.12% - # Trades: 10 - Profit Factor: 1.06 - Win Rate [%]: 60.0\n",
      "WOOUSDT - Return [%]: 1.14% - # Trades: 12 - Profit Factor: 2.2 - Win Rate [%]: 75.0\n",
      "DARUSDT - Return [%]: 0.09% - # Trades: 5 - Profit Factor: 1.49 - Win Rate [%]: 60.0\n",
      "AGIXUSDT - Return [%]: 0.34% - # Trades: 7 - Profit Factor: 1.57 - Win Rate [%]: 57.14\n",
      "TRUUSDT - Return [%]: 0.04% - # Trades: 3 - Profit Factor: 2.59 - Win Rate [%]: 66.66\n",
      "AMBUSDT - Return [%]: 0.0% - # Trades: 19 - Profit Factor: 1.05 - Win Rate [%]: 52.63\n",
      "RDNTUSDT - Return [%]: 0.01% - # Trades: 3 - Profit Factor: 1.07 - Win Rate [%]: 66.66\n",
      "HFTUSDT - Return [%]: 0.43% - # Trades: 4 - Profit Factor: 2.1 - Win Rate [%]: 75.0\n",
      "EDUUSDT - Return [%]: 3.27% - # Trades: 12 - Profit Factor: 1.95 - Win Rate [%]: 66.66\n",
      "SUIUSDT - Return [%]: 0.57% - # Trades: 3 - Profit Factor: 1.87 - Win Rate [%]: 66.66\n",
      "KEYUSDT - Return [%]: 0.0% - # Trades: 5 - Profit Factor: 1.98 - Win Rate [%]: 60.0\n",
      "COMBOUSDT - Return [%]: 0.35% - # Trades: 5 - Profit Factor: 1.09 - Win Rate [%]: 60.0\n",
      "XVGUSDT - Return [%]: 0.26% - # Trades: 45 - Profit Factor: 1.61 - Win Rate [%]: 64.44\n"
     ]
    }
   ],
   "source": [
    "###################################### FILTRADO DE MONEDAS PARA ESTRATEGIA SANTAAAAAA\n",
    "###################################################################################################################\n",
    "import modulos as md\n",
    "import numpy as np\n",
    "lista=['SKLUSDT']\n",
    "lista=md.lista_de_monedas()\n",
    "for symbol in lista:\n",
    "    try:\n",
    "        data = md.estrategia_santa(symbol, tp_flag = True)\n",
    "        resultado = md.backtesting(data, plot_flag = False)\n",
    "        if (resultado['Profit Factor']>1 or resultado['Return [%]'] >0) and resultado['Win Rate [%]']>50:\n",
    "        #if resultado['Win Rate [%]']>50:\n",
    "            print(f\"{symbol} - Return [%]: {md.truncate(resultado['Return [%]'],2)}% - # Trades: {resultado['# Trades']} - Profit Factor: {md.truncate(resultado['Profit Factor'],2)} - Win Rate [%]: {md.truncate(resultado['Win Rate [%]'],2)}\")\n",
    "    except Exception as falla:\n",
    "        pass\n"
   ]
  },
  {
   "cell_type": "code",
   "execution_count": 5,
   "id": "2d7ba37d",
   "metadata": {},
   "outputs": [
    {
     "name": "stdout",
     "output_type": "stream",
     "text": [
      "THETAUSDT - Return [%]: 4.34% - # Trades: 7 - Profit Factor: 2.62\n"
     ]
    },
    {
     "name": "stderr",
     "output_type": "stream",
     "text": [
      "c:\\LUCHO\\personal\\repopersonal\\luchocrypto\\FENIX\\modulos.py:318: UserWarning: Some prices are larger than initial cash value. Note that fractional trading is not supported. If you want to trade Bitcoin, increase initial cash, or trade μBTC or satoshis instead (GH-134).\n",
      "  bt = Backtest(data, Fenix, cash=1000)\n",
      "c:\\LUCHO\\personal\\repopersonal\\luchocrypto\\FENIX\\modulos.py:318: UserWarning: Some prices are larger than initial cash value. Note that fractional trading is not supported. If you want to trade Bitcoin, increase initial cash, or trade μBTC or satoshis instead (GH-134).\n",
      "  bt = Backtest(data, Fenix, cash=1000)\n"
     ]
    },
    {
     "name": "stdout",
     "output_type": "stream",
     "text": [
      "BELUSDT - Return [%]: 3.44% - # Trades: 10 - Profit Factor: 1.77\n",
      "1INCHUSDT - Return [%]: 2.81% - # Trades: 7 - Profit Factor: 3.21\n",
      "CELOUSDT - Return [%]: 3.11% - # Trades: 7 - Profit Factor: 2.14\n",
      "RDNTUSDT - Return [%]: 2.65% - # Trades: 5 - Profit Factor: 4.4\n"
     ]
    }
   ],
   "source": [
    "###################################### FILTRADO DE MONEDAS PARA ESTRATEGIA BB\n",
    "###################################################################################################################\n",
    "\n",
    "import modulos as md\n",
    "import numpy as np\n",
    "#lista=['SRMUSDT']\n",
    "lista=md.lista_de_monedas()\n",
    "for symbol in lista:\n",
    "    try:\n",
    "        data = md.estrategia_bb(symbol, tp_flag = True)\n",
    "        resultado = md.backtesting(data, plot_flag = False)\n",
    "        if resultado['Profit Factor'] > 1 and resultado[6]/resultado[17] >=0.3:\n",
    "            print(f\"{symbol} - Return [%]: {md.truncate(resultado['Return [%]'],2)}% - # Trades: {resultado['# Trades']} - Profit Factor: {md.truncate(resultado['Profit Factor'],2)}\")\n",
    "    except Exception as falla:\n",
    "        pass"
   ]
  },
  {
   "cell_type": "code",
   "execution_count": 4,
   "id": "ac63aa94",
   "metadata": {},
   "outputs": [
    {
     "data": {
      "text/plain": [
       "timestamp\n",
       "2023-07-13 04:00:00    0.165579\n",
       "2023-07-13 04:15:00    0.177280\n",
       "2023-07-13 04:30:00    0.206159\n",
       "2023-07-13 04:45:00    0.116955\n",
       "2023-07-13 05:00:00    0.180060\n",
       "2023-07-13 05:15:00    0.216290\n",
       "2023-07-13 05:30:00    0.119252\n",
       "2023-07-13 05:45:00    0.126663\n",
       "2023-07-13 06:00:00    0.183193\n",
       "2023-07-13 06:15:00    0.220707\n",
       "2023-07-13 06:30:00    0.138389\n",
       "2023-07-13 06:45:00    0.215133\n",
       "2023-07-13 07:00:00    0.266625\n",
       "2023-07-13 07:15:00    0.142445\n",
       "2023-07-13 07:30:00    0.147818\n",
       "2023-07-13 07:45:00    0.194701\n",
       "2023-07-13 08:00:00    0.178217\n",
       "2023-07-13 08:15:00    0.263470\n",
       "2023-07-13 08:30:00    0.207991\n",
       "2023-07-13 08:45:00    0.107129\n",
       "2023-07-13 09:00:00    0.439637\n",
       "2023-07-13 09:15:00    0.411055\n",
       "2023-07-13 09:30:00    0.405657\n",
       "2023-07-13 09:45:00    0.374768\n",
       "2023-07-13 10:00:00    0.236359\n",
       "2023-07-13 10:15:00    0.189585\n",
       "2023-07-13 10:30:00    0.327292\n",
       "2023-07-13 10:45:00    0.251635\n",
       "2023-07-13 11:00:00    0.278739\n",
       "2023-07-13 11:15:00    0.154458\n",
       "2023-07-13 11:30:00    0.152529\n",
       "2023-07-13 11:45:00    0.146032\n",
       "2023-07-13 12:00:00    0.146032\n",
       "2023-07-13 12:15:00    0.170598\n",
       "2023-07-13 12:30:00    0.394256\n",
       "2023-07-13 12:45:00    0.456797\n",
       "2023-07-13 13:00:00    0.362925\n",
       "2023-07-13 13:15:00    0.185204\n",
       "2023-07-13 13:30:00    0.599504\n",
       "2023-07-13 13:45:00    0.589217\n",
       "2023-07-13 14:00:00    0.732943\n",
       "2023-07-13 14:15:00    0.732943\n",
       "2023-07-13 14:30:00    0.343453\n",
       "2023-07-13 14:45:00    0.237148\n",
       "2023-07-13 15:00:00    0.136048\n",
       "2023-07-13 15:15:00    0.862662\n",
       "2023-07-13 15:30:00    1.451875\n",
       "2023-07-13 15:45:00    1.361700\n",
       "2023-07-13 16:00:00    1.146325\n",
       "2023-07-13 16:15:00    0.513552\n",
       "2023-07-13 16:30:00    0.835757\n",
       "2023-07-13 16:45:00    0.627347\n",
       "2023-07-13 17:00:00    0.469397\n",
       "2023-07-13 17:15:00    0.422215\n",
       "2023-07-13 17:30:00    1.127762\n",
       "2023-07-13 17:45:00    1.083603\n",
       "2023-07-13 18:00:00    1.268415\n",
       "2023-07-13 18:15:00    1.364982\n",
       "2023-07-13 18:30:00    1.221768\n",
       "2023-07-13 18:45:00    0.643022\n",
       "Name: variacion, dtype: float64"
      ]
     },
     "execution_count": 4,
     "metadata": {},
     "output_type": "execute_result"
    }
   ],
   "source": [
    "import modulos as md\n",
    "\n",
    "data=md.estrategia_santa('EOSUSDT')\n",
    "data.variacion.tail(60)"
   ]
  }
 ],
 "metadata": {
  "kernelspec": {
   "display_name": "Python 3 (ipykernel)",
   "language": "python",
   "name": "python3"
  },
  "language_info": {
   "codemirror_mode": {
    "name": "ipython",
    "version": 3
   },
   "file_extension": ".py",
   "mimetype": "text/x-python",
   "name": "python",
   "nbconvert_exporter": "python",
   "pygments_lexer": "ipython3",
   "version": "3.10.11"
  }
 },
 "nbformat": 4,
 "nbformat_minor": 5
}
