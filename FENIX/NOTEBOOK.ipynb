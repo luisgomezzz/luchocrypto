{
 "cells": [
  {
   "cell_type": "code",
   "execution_count": 1,
   "id": "b29811c3",
   "metadata": {
    "scrolled": false
   },
   "outputs": [
    {
     "name": "stderr",
     "output_type": "stream",
     "text": [
      "C:\\Users\\Luis Gomez Freites\\AppData\\Local\\Packages\\PythonSoftwareFoundation.Python.3.10_qbz5n2kfra8p0\\LocalCache\\local-packages\\Python310\\site-packages\\tqdm\\auto.py:22: TqdmWarning: IProgress not found. Please update jupyter and ipywidgets. See https://ipywidgets.readthedocs.io/en/stable/user_install.html\n",
      "  from .autonotebook import tqdm as notebook_tqdm\n"
     ]
    },
    {
     "data": {
      "text/plain": [
       "Start                     2023-06-08 23:30:00\n",
       "End                       2023-06-29 19:00:00\n",
       "Duration                     20 days 19:30:00\n",
       "Exposure Time [%]                        30.0\n",
       "Equity Final [$]                  1190.074367\n",
       "Equity Peak [$]                   1207.074367\n",
       "Return [%]                          19.007437\n",
       "Buy & Hold Return [%]              -29.198966\n",
       "Return (Ann.) [%]                   1694.0851\n",
       "Volatility (Ann.) [%]             1123.498474\n",
       "Sharpe Ratio                         1.507866\n",
       "Sortino Ratio                      202.314874\n",
       "Calmar Ratio                       270.130538\n",
       "Max. Drawdown [%]                   -6.271357\n",
       "Avg. Drawdown [%]                   -1.322539\n",
       "Max. Drawdown Duration       12 days 13:30:00\n",
       "Avg. Drawdown Duration        1 days 00:32:00\n",
       "# Trades                                    3\n",
       "Win Rate [%]                        66.666667\n",
       "Best Trade [%]                      14.979339\n",
       "Worst Trade [%]                     -2.013806\n",
       "Avg. Trade [%]                       6.247463\n",
       "Max. Trade Duration           3 days 05:00:00\n",
       "Avg. Trade Duration           2 days 01:30:00\n",
       "Profit Factor                       10.644299\n",
       "Expectancy [%]                       6.473915\n",
       "SQN                                  1.343812\n",
       "_strategy                               Fenix\n",
       "_equity_curve                             ...\n",
       "_trades                      Size  EntryBa...\n",
       "dtype: object"
      ]
     },
     "execution_count": 1,
     "metadata": {},
     "output_type": "execute_result"
    }
   ],
   "source": [
    "import modulos as md\n",
    "\n",
    "symbol='COMBOUSDT'\n",
    "data = md.obtiene_historial(symbol)\n",
    "data = md.estrategia_bb(data)\n",
    "resultado = md.backtesting(data)\n",
    "resultado\n"
   ]
  },
  {
   "cell_type": "code",
   "execution_count": null,
   "id": "ccb7eaee",
   "metadata": {},
   "outputs": [],
   "source": []
  }
 ],
 "metadata": {
  "kernelspec": {
   "display_name": "Python 3 (ipykernel)",
   "language": "python",
   "name": "python3"
  },
  "language_info": {
   "codemirror_mode": {
    "name": "ipython",
    "version": 3
   },
   "file_extension": ".py",
   "mimetype": "text/x-python",
   "name": "python",
   "nbconvert_exporter": "python",
   "pygments_lexer": "ipython3",
   "version": "3.10.11"
  }
 },
 "nbformat": 4,
 "nbformat_minor": 5
}
