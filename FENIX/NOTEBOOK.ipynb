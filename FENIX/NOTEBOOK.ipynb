{
 "cells": [
  {
   "cell_type": "code",
   "execution_count": null,
   "id": "6cd9c678",
   "metadata": {},
   "outputs": [],
   "source": [
    "import modulos as md\n",
    "\n",
    "#lista=md.filtradodemonedas()\n",
    "\n",
    "lista = ['BCHUSDT', 'XRPUSDT', 'EOSUSDT', 'LTCUSDT', 'TRXUSDT', 'ETCUSDT', 'LINKUSDT', 'XLMUSDT', 'ADAUSDT', 'BNBUSDT', 'ATOMUSDT', 'ALGOUSDT', \n",
    "         'KNCUSDT', 'COMPUSDT', 'DOGEUSDT', 'KAVAUSDT', 'WAVESUSDT', 'MKRUSDT', 'SNXUSDT', 'DOTUSDT', 'CRVUSDT', 'SOLUSDT', 'STORJUSDT', 'UNIUSDT', \n",
    "         'AVAXUSDT', 'FTMUSDT', 'TOMOUSDT', 'NEARUSDT', 'AAVEUSDT', 'FILUSDT', 'MATICUSDT', 'AXSUSDT', 'SANDUSDT', 'XEMUSDT', 'MANAUSDT', 'LINAUSDT', \n",
    "         'MTLUSDT', '1000SHIBUSDT', 'MASKUSDT', 'DYDXUSDT', '1000XECUSDT', 'GALAUSDT', 'FLOWUSDT', 'GMTUSDT', 'APEUSDT', 'OPUSDT', 'INJUSDT', 'LDOUSDT', \n",
    "         'APTUSDT', 'FETUSDT', 'RNDRUSDT', 'AGIXUSDT', 'PHBUSDT', 'CFXUSDT', 'STXUSDT', 'LQTYUSDT', 'ARBUSDT', 'SUIUSDT', '1000PEPEUSDT', 'XVGUSDT']\n"
   ]
  },
  {
   "cell_type": "code",
   "execution_count": 2,
   "id": "2d7ba37d",
   "metadata": {},
   "outputs": [
    {
     "name": "stdout",
     "output_type": "stream",
     "text": [
      "XRPUSDT - Return [%]: 16.59% - # Trades: 7 - Profit Factor: 2.45\n",
      "EOSUSDT - Return [%]: 5.89% - # Trades: 7 - Profit Factor: 2.01\n",
      "XTZUSDT - Return [%]: 5.08% - # Trades: 7 - Profit Factor: 2.42\n",
      "OMGUSDT - Return [%]: 8.07% - # Trades: 6 - Profit Factor: 6.15\n",
      "CRVUSDT - Return [%]: 6.31% - # Trades: 7 - Profit Factor: 2.89\n",
      "SUSHIUSDT - Return [%]: 5.61% - # Trades: 7 - Profit Factor: 2.54\n",
      "ENJUSDT - Return [%]: 2.28% - # Trades: 7 - Profit Factor: 2.38\n",
      "CTKUSDT - Return [%]: 2.96% - # Trades: 7 - Profit Factor: 2.04\n",
      "1INCHUSDT - Return [%]: 4.49% - # Trades: 8 - Profit Factor: 3.72\n",
      "MANAUSDT - Return [%]: 3.85% - # Trades: 7 - Profit Factor: 2.73\n",
      "IMXUSDT - Return [%]: 4.64% - # Trades: 7 - Profit Factor: 2.15\n",
      "MINAUSDT - Return [%]: 6.32% - # Trades: 8 - Profit Factor: 3.33\n",
      "PERPUSDT - Return [%]: 5.82% - # Trades: 7 - Profit Factor: 4.39\n",
      "IDUSDT - Return [%]: 5.06% - # Trades: 6 - Profit Factor: 19.22\n",
      "HFTUSDT - Return [%]: 4.11% - # Trades: 7 - Profit Factor: 3.57\n",
      "COMBOUSDT - Return [%]: 8.01% - # Trades: 9 - Profit Factor: 2.38\n",
      "MAVUSDT - Return [%]: 8.27% - # Trades: 7 - Profit Factor: 7.46\n"
     ]
    }
   ],
   "source": [
    "###################################### ESTRATEGIA BB\n",
    "###################################################################################################################\n",
    "import modulos as md\n",
    "lista=['XRPUSDT',\t\n",
    "'EOSUSDT',\t\n",
    "'XTZUSDT',\t\n",
    "'OMGUSDT',\t\n",
    "'CRVUSDT',\t\n",
    "'SUSHIUSDT',\n",
    "'ENJUSDT',\t\n",
    "'CTKUSDT',\t\n",
    "'1INCHUSDT',\n",
    "'MANAUSDT',\t\n",
    "'IMXUSDT',\t\n",
    "'MINAUSDT',\t\n",
    "'PERPUSDT',\t\n",
    "'IDUSDT',\t\n",
    "'HFTUSDT',\t\n",
    "'COMBOUSDT',\n",
    "'MAVUSDT']\n",
    "\n",
    "#lista=md.lista_de_monedas ()\n",
    "\n",
    "for symbol in lista:    \n",
    "    try:\n",
    "        data = md.sigo_variacion_bitcoin(symbol,timeframe='15m',porc=0.8,ventana=2,tp_flag = True)\n",
    "        #data = md.estrategia_bb(symbol)\n",
    "        resultado = md.backtesting(data, plot_flag = False)\n",
    "        #if (resultado['Profit Factor'] > 1 \n",
    "        #    and resultado['Return [%]']/resultado['# Trades'] >=0.3 \n",
    "        #    and resultado['Win Rate [%]']>50):\n",
    "        print(f\"{symbol} - Return [%]: {md.truncate(resultado['Return [%]'],2)}% - # Trades: {resultado['# Trades']} - Profit Factor: {md.truncate(resultado['Profit Factor'],2)}\")\n",
    "    except Exception as falla:\n",
    "        pass"
   ]
  }
 ],
 "metadata": {
  "kernelspec": {
   "display_name": "Python 3 (ipykernel)",
   "language": "python",
   "name": "python3"
  },
  "language_info": {
   "codemirror_mode": {
    "name": "ipython",
    "version": 3
   },
   "file_extension": ".py",
   "mimetype": "text/x-python",
   "name": "python",
   "nbconvert_exporter": "python",
   "pygments_lexer": "ipython3",
   "version": "3.10.11"
  }
 },
 "nbformat": 4,
 "nbformat_minor": 5
}
