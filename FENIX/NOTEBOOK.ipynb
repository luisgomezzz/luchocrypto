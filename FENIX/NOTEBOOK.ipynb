{
 "cells": [
  {
   "cell_type": "code",
   "execution_count": 5,
   "id": "2d7ba37d",
   "metadata": {},
   "outputs": [
    {
     "name": "stdout",
     "output_type": "stream",
     "text": [
      "LPTUSDT - Return [%]: 0.0% - # Trades: 0 - Profit Factor: nan - Win Rate [%]: nan\n",
      "ADAUSDT - Return [%]: -0.05% - # Trades: 5 - Profit Factor: 0.7499999999999861 - Win Rate [%]: 20.0\n",
      "BCHUSDT - Return [%]: 0.0% - # Trades: 0 - Profit Factor: nan - Win Rate [%]: nan\n",
      "DOGEUSDT - Return [%]: 0.0% - # Trades: 3 - Profit Factor: 1.3521060414552357 - Win Rate [%]: 33.33333333333333\n",
      "BLZUSDT - Return [%]: 0.17% - # Trades: 48 - Profit Factor: 1.2273435216215662 - Win Rate [%]: 29.166666666666668\n",
      "CFXUSDT - Return [%]: 0.0% - # Trades: 8 - Profit Factor: 1.005209814320171 - Win Rate [%]: 25.0\n",
      "DYDXUSDT - Return [%]: 0.0% - # Trades: 0 - Profit Factor: nan - Win Rate [%]: nan\n",
      "\n",
      "Error: local variable 'data' referenced before assignment - line: 988 - file: modulos.py - symbol:1000PEPEUSDT\n",
      "\n",
      "XRPUSDT - Return [%]: 0.52% - # Trades: 3 - Profit Factor: 7.325482982313569 - Win Rate [%]: 66.66666666666666\n",
      "BAKEUSDT - Return [%]: -0.28% - # Trades: 34 - Profit Factor: 0.5243651425060357 - Win Rate [%]: 14.705882352941178\n"
     ]
    },
    {
     "name": "stderr",
     "output_type": "stream",
     "text": [
      "c:\\LUCHO\\personal\\repopersonal\\luchocrypto\\FENIX\\modulos.py:468: UserWarning: Some prices are larger than initial cash value. Note that fractional trading is not supported. If you want to trade Bitcoin, increase initial cash, or trade μBTC or satoshis instead (GH-134).\n",
      "  bt = Backtest(data, Fenix, cash=balance)\n"
     ]
    },
    {
     "name": "stdout",
     "output_type": "stream",
     "text": [
      "BTCUSDT - Return [%]: 0.0% - # Trades: 0 - Profit Factor: nan - Win Rate [%]: nan\n",
      "\n",
      "Error: local variable 'data' referenced before assignment - line: 988 - file: modulos.py - symbol:1000SHIBUSDT\n",
      "\n",
      "WLDUSDT - Return [%]: 0.0% - # Trades: 0 - Profit Factor: nan - Win Rate [%]: nan\n",
      "ARBUSDT - Return [%]: 0.78% - # Trades: 4 - Profit Factor: 3.255784340791355 - Win Rate [%]: 50.0\n",
      "TOMOUSDT - Return [%]: 1.34% - # Trades: 6 - Profit Factor: 3.744158392808535 - Win Rate [%]: 50.0\n",
      "OPUSDT - Return [%]: 0.0% - # Trades: 0 - Profit Factor: nan - Win Rate [%]: nan\n",
      "SOLUSDT - Return [%]: 0.0% - # Trades: 0 - Profit Factor: nan - Win Rate [%]: nan\n",
      "APEUSDT - Return [%]: 0.0% - # Trades: 0 - Profit Factor: nan - Win Rate [%]: nan\n",
      "UNFIUSDT - Return [%]: 0.0% - # Trades: 0 - Profit Factor: nan - Win Rate [%]: nan\n"
     ]
    },
    {
     "name": "stderr",
     "output_type": "stream",
     "text": [
      "c:\\LUCHO\\personal\\repopersonal\\luchocrypto\\FENIX\\modulos.py:468: UserWarning: Some prices are larger than initial cash value. Note that fractional trading is not supported. If you want to trade Bitcoin, increase initial cash, or trade μBTC or satoshis instead (GH-134).\n",
      "  bt = Backtest(data, Fenix, cash=balance)\n"
     ]
    },
    {
     "name": "stdout",
     "output_type": "stream",
     "text": [
      "ETHUSDT - Return [%]: 0.0% - # Trades: 0 - Profit Factor: nan - Win Rate [%]: nan\n",
      "RUNEUSDT - Return [%]: 0.0% - # Trades: 0 - Profit Factor: nan - Win Rate [%]: nan\n",
      "SUIUSDT - Return [%]: 0.96% - # Trades: 24 - Profit Factor: 1.5298533234660658 - Win Rate [%]: 33.33333333333333\n",
      "MATICUSDT - Return [%]: 0.39% - # Trades: 5 - Profit Factor: 2.36360369351632 - Win Rate [%]: 40.0\n",
      "LTCUSDT - Return [%]: 0.0% - # Trades: 0 - Profit Factor: nan - Win Rate [%]: nan\n",
      "SFPUSDT - Return [%]: -0.2% - # Trades: 36 - Profit Factor: 0.9428733117061919 - Win Rate [%]: 22.22222222222222\n",
      "BNBUSDT - Return [%]: 0.0% - # Trades: 0 - Profit Factor: nan - Win Rate [%]: nan\n",
      "LINKUSDT - Return [%]: 0.0% - # Trades: 0 - Profit Factor: nan - Win Rate [%]: nan\n"
     ]
    }
   ],
   "source": [
    "import modulos as md\n",
    "import numpy as np\n",
    "import constantes as cons\n",
    "import os\n",
    "import sys\n",
    "lista_filtrada = []\n",
    "\n",
    "#lista=md.lista_de_monedas()\n",
    "#lista=md.filtradodemonedas ()\n",
    "lista=['LPTUSDT', 'ADAUSDT', 'BCHUSDT', 'DOGEUSDT', 'BLZUSDT', 'CFXUSDT', 'DYDXUSDT', '1000PEPEUSDT', 'XRPUSDT', 'BAKEUSDT', 'BTCUSDT', '1000SHIBUSDT', 'WLDUSDT', 'ARBUSDT', 'TOMOUSDT', 'OPUSDT', 'SOLUSDT', 'APEUSDT', 'UNFIUSDT', 'ETHUSDT', 'RUNEUSDT', 'SUIUSDT', 'MATICUSDT', 'LTCUSDT', 'SFPUSDT', 'BNBUSDT', 'LINKUSDT']\n",
    "#lista=['RUNEUSDT']\n",
    "\n",
    "if len(lista)>1:\n",
    "    imprimo=False\n",
    "    debug=False\n",
    "else:\n",
    "    imprimo= True\n",
    "    debug=True\n",
    "for symbol in lista:    \n",
    "    try:\n",
    "        #data,porcentajeentrada = md.estrategia_santa(symbol,tp_flag = True)\n",
    "        #data,porcentajeentrada = md.estrategia_trampa(symbol,tp_flag = True)\n",
    "        data,porcentajeentrada = md.estrategia_atrapes(symbol,tp_flag = True, debug=debug)\n",
    "        #######################################################################\n",
    "        resultado = md.backtesting(data, plot_flag = imprimo)\n",
    "        #resultado = md.backtestingsanta(data, plot_flag = imprimo, debug = True)\n",
    "        ########################################################################\n",
    "        #if resultado['Return [%]'] < 0: # para santa3 mazmorra\n",
    "        if data.disparo.iloc[-1]!=0: # imprime las monedas que estan en posible haz martillo\n",
    "                print(symbol)\n",
    "        #if resultado['Return [%]'] > 0:\n",
    "            #if ((resultado['Profit Factor'] > 2 or np.isnan(resultado['Profit Factor'])) and (resultado['Return [%]']/resultado['# Trades']) >=0.33):            \n",
    "                lista_filtrada.append(symbol)\n",
    "        print(f\"{symbol} - Return [%]: {md.truncate(resultado['Return [%]'],2)}% - # Trades: {resultado['# Trades']} - Profit Factor: {resultado['Profit Factor']} - Win Rate [%]: {resultado['Win Rate [%]']}\")\n",
    "    except Exception as falla:\n",
    "        _, _, exc_tb = sys.exc_info()\n",
    "        fname = os.path.split(exc_tb.tb_frame.f_code.co_filename)[1]\n",
    "        #print(\"\\nError: \"+str(falla)+\" - line: \"+str(exc_tb.tb_lineno)+\" - file: \"+str(fname)+\"\\n\")\n",
    "        pass\n",
    "for symbol in lista_filtrada:\n",
    "    md.printandlog(cons.nombrelog,symbol,pal=1)\n",
    "#md.dibuja_patrones_triangulos (data,998)    \n"
   ]
  },
  {
   "cell_type": "code",
   "execution_count": null,
   "id": "22820fb4",
   "metadata": {},
   "outputs": [],
   "source": [
    "import requests\n",
    "import pandas as pd\n",
    "import json\n",
    "API_KEY = '4c9c0645-49c7-48c3-9a42-e7a2f94d448f'\n",
    "url = 'https://pro-api.coinmarketcap.com/v1/cryptocurrency/listings/latest'\n",
    "HEADERS = {'Accepts': 'application/json',\n",
    "           'X-CMC_PRO_API_KEY': API_KEY}\n",
    "PARAMS = {'convert': 'USD',\n",
    "          'limit': 1500}\n",
    "resp = requests.get(url, headers=HEADERS, params=PARAMS)\n",
    "def get_data(resp):\n",
    "    data = json.loads(resp.content)['data']\n",
    "    rows = list()\n",
    "    for item in data:\n",
    "        rows.append([\n",
    "                item['cmc_rank'],\n",
    "                item['id'],\n",
    "                item['name'],\n",
    "                item['symbol'],\n",
    "                item['slug'], \n",
    "                item['quote']['USD']['market_cap'],\n",
    "                item['quote']['USD']['volume_24h'],\n",
    "                item['date_added']])\n",
    "    df = pd.DataFrame(rows, columns=['cmc_rank','id','name','symbol','slug','market_cap','volume_24h','date_added'])\n",
    "    df.index.name = 'id'\n",
    "    return(df)\n",
    "if resp.status_code == 200:\n",
    "    df = get_data(resp)\n",
    "    if not df.empty:\n",
    "        df.to_csv('crypto_latests.csv')\n",
    "        print(\"Archivo con datos de CoinMarketCap gruadado crypto_latests.csv\")\n",
    "        df2 = pd.read_csv('crypto_latests.csv', index_col=0)\n",
    "    else:\n",
    "        print(\"df de CoinMarketCap vacío. No se actualizó crypto_latests.csv\")\n",
    "else:\n",
    "    print(resp.status_code)"
   ]
  },
  {
   "cell_type": "code",
   "execution_count": null,
   "id": "56ab2a87",
   "metadata": {},
   "outputs": [],
   "source": [
    "import modulos as md\n",
    "from numerize import numerize\n",
    "import pandas as pd\n",
    "\n",
    "df2 = pd.read_csv('crypto_latests.csv', index_col=0)\n",
    "symbol='CYBERUSDT'\n",
    "for index, row in df2.iterrows():\n",
    "    if row['symbol'] == (symbol[0:symbol.find('USDT')]).upper():       \n",
    "        print(f\"Symbol: {symbol} - Ranking: {row.cmc_rank} - Market cap: {numerize.numerize(row.market_cap)} - Vol24h: {numerize.numerize(row.volume_24h)} - date_added: {row.date_added}\")\n",
    "\n",
    "vo=md.volumeOf24h(symbol)\n",
    "print(f\"Vol24h: {numerize.numerize(vo)}\")   \n",
    "   "
   ]
  }
 ],
 "metadata": {
  "kernelspec": {
   "display_name": "Python 3 (ipykernel)",
   "language": "python",
   "name": "python3"
  },
  "language_info": {
   "codemirror_mode": {
    "name": "ipython",
    "version": 3
   },
   "file_extension": ".py",
   "mimetype": "text/x-python",
   "name": "python",
   "nbconvert_exporter": "python",
   "pygments_lexer": "ipython3",
   "version": "3.10.11"
  }
 },
 "nbformat": 4,
 "nbformat_minor": 5
}
