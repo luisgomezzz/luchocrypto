{
 "cells": [
  {
   "cell_type": "code",
   "execution_count": null,
   "id": "6cd9c678",
   "metadata": {},
   "outputs": [],
   "source": [
    "import modulos as md\n",
    "\n",
    "#lista=md.filtradodemonedas()\n",
    "\n",
    "lista = ['BCHUSDT', 'XRPUSDT', 'EOSUSDT', 'LTCUSDT', 'TRXUSDT', 'ETCUSDT', 'LINKUSDT', 'XLMUSDT', 'ADAUSDT', 'BNBUSDT', 'ATOMUSDT', 'ALGOUSDT', \n",
    "         'KNCUSDT', 'COMPUSDT', 'DOGEUSDT', 'KAVAUSDT', 'WAVESUSDT', 'MKRUSDT', 'SNXUSDT', 'DOTUSDT', 'CRVUSDT', 'SOLUSDT', 'STORJUSDT', 'UNIUSDT', \n",
    "         'AVAXUSDT', 'FTMUSDT', 'TOMOUSDT', 'NEARUSDT', 'AAVEUSDT', 'FILUSDT', 'MATICUSDT', 'AXSUSDT', 'SANDUSDT', 'XEMUSDT', 'MANAUSDT', 'LINAUSDT', \n",
    "         'MTLUSDT', '1000SHIBUSDT', 'MASKUSDT', 'DYDXUSDT', '1000XECUSDT', 'GALAUSDT', 'FLOWUSDT', 'GMTUSDT', 'APEUSDT', 'OPUSDT', 'INJUSDT', 'LDOUSDT', \n",
    "         'APTUSDT', 'FETUSDT', 'RNDRUSDT', 'AGIXUSDT', 'PHBUSDT', 'CFXUSDT', 'STXUSDT', 'LQTYUSDT', 'ARBUSDT', 'SUIUSDT', '1000PEPEUSDT', 'XVGUSDT']\n"
   ]
  },
  {
   "cell_type": "code",
   "execution_count": 1,
   "id": "2d7ba37d",
   "metadata": {},
   "outputs": [
    {
     "name": "stderr",
     "output_type": "stream",
     "text": [
      "C:\\Users\\Luis Gomez Freites\\AppData\\Local\\Packages\\PythonSoftwareFoundation.Python.3.10_qbz5n2kfra8p0\\LocalCache\\local-packages\\Python310\\site-packages\\tqdm\\auto.py:22: TqdmWarning: IProgress not found. Please update jupyter and ipywidgets. See https://ipywidgets.readthedocs.io/en/stable/user_install.html\n",
      "  from .autonotebook import tqdm as notebook_tqdm\n"
     ]
    },
    {
     "name": "stdout",
     "output_type": "stream",
     "text": [
      "XRPUSDT - Return [%]: 5.08% - # Trades: 5 - Profit Factor: 11.71\n",
      "EOSUSDT - Return [%]: -5.99% - # Trades: 9 - Profit Factor: 0.1\n",
      "XTZUSDT - Return [%]: 0.33% - # Trades: 8 - Profit Factor: 1.2\n",
      "OMGUSDT - Return [%]: -2.42% - # Trades: 5 - Profit Factor: 0.3\n",
      "CRVUSDT - Return [%]: 1.57% - # Trades: 8 - Profit Factor: 1.5\n",
      "SUSHIUSDT - Return [%]: 2.09% - # Trades: 7 - Profit Factor: 1.68\n",
      "ENJUSDT - Return [%]: -0.47% - # Trades: 7 - Profit Factor: 0.56\n",
      "CTKUSDT - Return [%]: -2.81% - # Trades: 7 - Profit Factor: 0.28\n",
      "1INCHUSDT - Return [%]: -0.82% - # Trades: 3 - Profit Factor: 0.0\n",
      "MANAUSDT - Return [%]: 0.86% - # Trades: 7 - Profit Factor: 1.86\n",
      "IMXUSDT - Return [%]: -4.97% - # Trades: 5 - Profit Factor: 0.0\n",
      "MINAUSDT - Return [%]: -2.38% - # Trades: 9 - Profit Factor: 0.38\n",
      "PERPUSDT - Return [%]: 1.18% - # Trades: 7 - Profit Factor: 2.61\n",
      "IDUSDT - Return [%]: -1.73% - # Trades: 9 - Profit Factor: 0.17\n",
      "HFTUSDT - Return [%]: -1.97% - # Trades: 11 - Profit Factor: 0.29\n",
      "COMBOUSDT - Return [%]: 0.99% - # Trades: 6 - Profit Factor: 1.79\n",
      "MAVUSDT - Return [%]: -0.08% - # Trades: 9 - Profit Factor: 0.93\n"
     ]
    }
   ],
   "source": [
    "###################################### ESTRATEGIA BB\n",
    "###################################################################################################################\n",
    "import modulos as md\n",
    "lista=['XRPUSDT',\t\n",
    "'EOSUSDT',\t\n",
    "'XTZUSDT',\t\n",
    "'OMGUSDT',\t\n",
    "'CRVUSDT',\t\n",
    "'SUSHIUSDT',\n",
    "'ENJUSDT',\t\n",
    "'CTKUSDT',\t\n",
    "'1INCHUSDT',\n",
    "'MANAUSDT',\t\n",
    "'IMXUSDT',\t\n",
    "'MINAUSDT',\t\n",
    "'PERPUSDT',\t\n",
    "'IDUSDT',\t\n",
    "'HFTUSDT',\t\n",
    "'COMBOUSDT',\n",
    "'MAVUSDT']\n",
    "\n",
    "#lista=md.lista_de_monedas ()\n",
    "\n",
    "for symbol in lista:    \n",
    "    try:\n",
    "        #data = md.sigo_variacion_bitcoin(symbol)\n",
    "        data = md.estrategia_bb(symbol)\n",
    "        resultado = md.backtesting(data, plot_flag = False)\n",
    "        #if (resultado['Profit Factor'] > 1 \n",
    "        #    and resultado['Return [%]']/resultado['# Trades'] >=0.3 \n",
    "        #    and resultado['Win Rate [%]']>50):\n",
    "        print(f\"{symbol} - Return [%]: {md.truncate(resultado['Return [%]'],2)}% - # Trades: {resultado['# Trades']} - Profit Factor: {md.truncate(resultado['Profit Factor'],2)}\")\n",
    "    except Exception as falla:\n",
    "        pass"
   ]
  }
 ],
 "metadata": {
  "kernelspec": {
   "display_name": "Python 3 (ipykernel)",
   "language": "python",
   "name": "python3"
  },
  "language_info": {
   "codemirror_mode": {
    "name": "ipython",
    "version": 3
   },
   "file_extension": ".py",
   "mimetype": "text/x-python",
   "name": "python",
   "nbconvert_exporter": "python",
   "pygments_lexer": "ipython3",
   "version": "3.10.11"
  }
 },
 "nbformat": 4,
 "nbformat_minor": 5
}
