{
 "cells": [
  {
   "cell_type": "code",
   "execution_count": 3,
   "id": "b29811c3",
   "metadata": {
    "scrolled": false
   },
   "outputs": [
    {
     "name": "stdout",
     "output_type": "stream",
     "text": [
      "Start                     2023-06-05 21:00:00\n",
      "End                       2023-06-26 16:30:00\n",
      "Duration                     20 days 19:30:00\n",
      "Exposure Time [%]                         3.9\n",
      "Equity Final [$]                  1048.096206\n",
      "Equity Peak [$]                   1049.042184\n",
      "Return [%]                           4.809621\n",
      "Buy & Hold Return [%]               34.804469\n",
      "Return (Ann.) [%]                   118.00859\n",
      "Volatility (Ann.) [%]               16.869605\n",
      "Sharpe Ratio                         6.995338\n",
      "Sortino Ratio                             inf\n",
      "Calmar Ratio                         90.97748\n",
      "Max. Drawdown [%]                   -1.297119\n",
      "Avg. Drawdown [%]                   -0.524532\n",
      "Max. Drawdown Duration        0 days 06:00:00\n",
      "Avg. Drawdown Duration        0 days 02:36:00\n",
      "# Trades                                    8\n",
      "Win Rate [%]                             87.5\n",
      "Best Trade [%]                       2.182956\n",
      "Worst Trade [%]                     -0.128291\n",
      "Avg. Trade [%]                       1.053965\n",
      "Max. Trade Duration           0 days 07:00:00\n",
      "Avg. Trade Duration           0 days 01:57:00\n",
      "Profit Factor                        66.90168\n",
      "Expectancy [%]                        1.05682\n",
      "SQN                                  3.548875\n",
      "_strategy                               Fenix\n",
      "_equity_curve                             ...\n",
      "_trades                      Size  EntryBa...\n",
      "dtype: object\n"
     ]
    },
    {
     "name": "stderr",
     "output_type": "stream",
     "text": [
      "C:\\Users\\Luis Gomez Freites\\AppData\\Local\\Packages\\PythonSoftwareFoundation.Python.3.10_qbz5n2kfra8p0\\LocalCache\\local-packages\\Python310\\site-packages\\backtesting\\_stats.py:122: RuntimeWarning: divide by zero encountered in double_scalars\n",
      "  s.loc['Sortino Ratio'] = np.clip((annualized_return - risk_free_rate) / (np.sqrt(np.mean(day_returns.clip(-np.inf, 0)**2)) * np.sqrt(annual_trading_days)), 0, np.inf)  # noqa: E501\n"
     ]
    }
   ],
   "source": [
    "import modulos as md\n",
    "import numpy as np\n",
    "symbol='STXUSDT'\n",
    "\n",
    "'''\n",
    "lista=md.lista_de_monedas ()\n",
    "\n",
    "for symbol in lista:\n",
    "    try:\n",
    "        data = md.obtiene_historial(symbol)\n",
    "        data = md.estrategia_vwap(data)\n",
    "        resultado = md.backtesting(data)\n",
    "        if float(resultado[4]) > 1030:\n",
    "            print(f\"{symbol} - {resultado[4]}\")\n",
    "    except:\n",
    "        pass        \n",
    "'''\n",
    "data = md.obtiene_historial(symbol)\n",
    "data = md.estrategia_bb(data)\n",
    "resultado = md.backtesting(data)\n",
    "print(resultado)"
   ]
  },
  {
   "cell_type": "code",
   "execution_count": null,
   "id": "b1fba767",
   "metadata": {},
   "outputs": [],
   "source": []
  }
 ],
 "metadata": {
  "kernelspec": {
   "display_name": "Python 3 (ipykernel)",
   "language": "python",
   "name": "python3"
  },
  "language_info": {
   "codemirror_mode": {
    "name": "ipython",
    "version": 3
   },
   "file_extension": ".py",
   "mimetype": "text/x-python",
   "name": "python",
   "nbconvert_exporter": "python",
   "pygments_lexer": "ipython3",
   "version": "3.10.11"
  }
 },
 "nbformat": 4,
 "nbformat_minor": 5
}
