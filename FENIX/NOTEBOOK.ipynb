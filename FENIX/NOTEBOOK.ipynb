{
 "cells": [
  {
   "cell_type": "code",
   "execution_count": 4,
   "id": "b29811c3",
   "metadata": {
    "scrolled": false
   },
   "outputs": [
    {
     "name": "stdout",
     "output_type": "stream",
     "text": [
      "Falla leyendo...\n"
     ]
    },
    {
     "name": "stderr",
     "output_type": "stream",
     "text": [
      "c:\\LUCHO\\personal\\repopersonal\\luchocrypto\\FENIX\\modulos.py:274: UserWarning: Some prices are larger than initial cash value. Note that fractional trading is not supported. If you want to trade Bitcoin, increase initial cash, or trade μBTC or satoshis instead (GH-134).\n",
      "  bt = Backtest(data, Fenix, cash=1000, commission=.002, exclusive_orders=True)\n"
     ]
    },
    {
     "name": "stdout",
     "output_type": "stream",
     "text": [
      "CRVUSDT - 1026.891655089706\n",
      "\n",
      "Salida solicitada. \n"
     ]
    }
   ],
   "source": [
    "import modulos as md\n",
    "import numpy as np\n",
    "import pandas as pd\n",
    "import pandas_ta as pta\n",
    "\n",
    "'''\n",
    "symbol='SUIUSDT'\n",
    "lista=md.lista_de_monedas ()\n",
    "\n",
    "for symbol in lista:\n",
    "    try:\n",
    "        data = md.obtiene_historial(symbol)\n",
    "        data = md.estrategia_bb(data)\n",
    "        resultado = md.backtesting(data)\n",
    "        if float(resultado[4]) > 1015:\n",
    "            print(f\"{symbol} - {resultado[4]}\")\n",
    "    except:\n",
    "        pass        \n",
    "'''\n",
    "\n",
    "import smtplib\n",
    "import pandas as pd\n",
    "import requests\n",
    "from bs4 import BeautifulSoup\n",
    "from price_parser import Price\n",
    "import modulos as md\n",
    "import constantes as cons\n",
    "\n",
    "\n",
    "PRODUCT_URL_CSV = cons.pathroot+\"products.csv\"\n",
    "SAVE_TO_CSV = True\n",
    "PRICES_CSV = \"prices.csv\"\n",
    "SEND_MAIL = True\n",
    "\n",
    "def get_urls(csv_file):\n",
    "    df = pd.read_csv(csv_file)\n",
    "    return df\n",
    "\n",
    "def get_response(url):\n",
    "    response = requests.get(url)\n",
    "    return response.text\n",
    "\n",
    "def get_price(html):\n",
    "    soup = BeautifulSoup(html, \"lxml\")\n",
    "    el = soup.select_one(\".price_color\")\n",
    "    price = Price.fromstring(el.text)\n",
    "    return price.amount_float\n",
    "\n",
    "def process_products(df):\n",
    "    updated_products = []\n",
    "    for product in df.to_dict(\"records\"):\n",
    "        html = get_response(product[\"url\"])\n",
    "        product[\"price\"] = get_price(html)\n",
    "        product[\"alert\"] = product[\"price\"] < product[\"alert_price\"]\n",
    "        updated_products.append(product)\n",
    "    return pd.DataFrame(updated_products)\n",
    "\n",
    "def get_mail(df):\n",
    "    subject = \"Price Drop Alert\"\n",
    "    body = df[df[\"alert\"]].to_string()\n",
    "    subject_and_message = f\"Subject:{subject}\\n\\n{body}\"\n",
    "    return subject_and_message\n",
    "\n",
    "def send_mail(df):\n",
    "    message_text = get_mail(df)\n",
    "    with smtplib.SMTP(\"smtp.server.address\", 587) as smtp:\n",
    "        smtp.starttls()\n",
    "        md.sound()\n",
    "        #smtp.login(mail_user, mail_pass)\n",
    "        #smtp.sendmail(mail_user, mail_to, message_text)\n",
    "\n",
    "def main():\n",
    "    df = get_urls(PRODUCT_URL_CSV)\n",
    "    print(df)\n",
    "    df_updated = process_products(df)\n",
    "    if SAVE_TO_CSV:\n",
    "        df_updated.to_csv(PRICES_CSV, index=False, mode=\"a\")\n",
    "    if SEND_MAIL:\n",
    "        send_mail(df_updated)\n",
    "\n",
    "main()\n"
   ]
  },
  {
   "cell_type": "code",
   "execution_count": null,
   "id": "fd499369",
   "metadata": {},
   "outputs": [],
   "source": []
  }
 ],
 "metadata": {
  "kernelspec": {
   "display_name": "Python 3 (ipykernel)",
   "language": "python",
   "name": "python3"
  },
  "language_info": {
   "codemirror_mode": {
    "name": "ipython",
    "version": 3
   },
   "file_extension": ".py",
   "mimetype": "text/x-python",
   "name": "python",
   "nbconvert_exporter": "python",
   "pygments_lexer": "ipython3",
   "version": "3.10.11"
  }
 },
 "nbformat": 4,
 "nbformat_minor": 5
}
