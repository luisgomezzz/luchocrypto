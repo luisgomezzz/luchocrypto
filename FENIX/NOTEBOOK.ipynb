{
 "cells": [
  {
   "cell_type": "code",
   "execution_count": 1,
   "id": "2d7ba37d",
   "metadata": {},
   "outputs": [
    {
     "name": "stderr",
     "output_type": "stream",
     "text": [
      "C:\\Users\\Luis Gomez Freites\\AppData\\Local\\Packages\\PythonSoftwareFoundation.Python.3.10_qbz5n2kfra8p0\\LocalCache\\local-packages\\Python310\\site-packages\\tqdm\\auto.py:22: TqdmWarning: IProgress not found. Please update jupyter and ipywidgets. See https://ipywidgets.readthedocs.io/en/stable/user_install.html\n",
      "  from .autonotebook import tqdm as notebook_tqdm\n"
     ]
    },
    {
     "name": "stdout",
     "output_type": "stream",
     "text": [
      "AGLDUSDT - Return [%]: 5.88% - # Trades: 3 - Profit Factor: nan - Win Rate [%]: 100.0\n",
      "PHBUSDT - Return [%]: 0.81% - # Trades: 1 - Profit Factor: nan - Win Rate [%]: 100.0\n",
      "FTMUSDT - Return [%]: 0.46% - # Trades: 1 - Profit Factor: nan - Win Rate [%]: 100.0\n",
      "SRMUSDT - Return [%]: 2.66% - # Trades: 4 - Profit Factor: 6.568791989559629 - Win Rate [%]: 75.0\n",
      "KAVAUSDT - Return [%]: 2.57% - # Trades: 2 - Profit Factor: nan - Win Rate [%]: 100.0\n",
      "EDUUSDT - Return [%]: 1.35% - # Trades: 2 - Profit Factor: nan - Win Rate [%]: 100.0\n",
      "CRVUSDT - Return [%]: 3.35% - # Trades: 5 - Profit Factor: 7.581679300006442 - Win Rate [%]: 60.0\n"
     ]
    },
    {
     "name": "stderr",
     "output_type": "stream",
     "text": [
      "c:\\LUCHO\\personal\\repopersonal\\luchocrypto\\FENIX\\modulos.py:458: UserWarning: Some prices are larger than initial cash value. Note that fractional trading is not supported. If you want to trade Bitcoin, increase initial cash, or trade μBTC or satoshis instead (GH-134).\n",
      "  bt = Backtest(data, Fenix, cash=1000)\n"
     ]
    },
    {
     "name": "stdout",
     "output_type": "stream",
     "text": [
      "XRPUSDT - Return [%]: 1.63% - # Trades: 4 - Profit Factor: 5.209454571260935 - Win Rate [%]: 50.0\n",
      "XTZUSDT - Return [%]: 2.24% - # Trades: 4 - Profit Factor: nan - Win Rate [%]: 100.0\n",
      "PENDLEUSDT - Return [%]: 2.06% - # Trades: 1 - Profit Factor: nan - Win Rate [%]: 100.0\n",
      "BELUSDT - Return [%]: 0.79% - # Trades: 2 - Profit Factor: 3.347177154756673 - Win Rate [%]: 50.0\n",
      "ARKMUSDT - Return [%]: 1.21% - # Trades: 3 - Profit Factor: 2.259966757134572 - Win Rate [%]: 33.33333333333333\n",
      "RDNTUSDT - Return [%]: 1.29% - # Trades: 3 - Profit Factor: 37.370607749019 - Win Rate [%]: 66.66666666666666\n",
      "KNCUSDT - Return [%]: 5.73% - # Trades: 6 - Profit Factor: 10.758278387190346 - Win Rate [%]: 83.33333333333334\n",
      "PERPUSDT - Return [%]: 0.62% - # Trades: 1 - Profit Factor: nan - Win Rate [%]: 100.0\n"
     ]
    },
    {
     "name": "stderr",
     "output_type": "stream",
     "text": [
      "c:\\LUCHO\\personal\\repopersonal\\luchocrypto\\FENIX\\modulos.py:458: UserWarning: Some prices are larger than initial cash value. Note that fractional trading is not supported. If you want to trade Bitcoin, increase initial cash, or trade μBTC or satoshis instead (GH-134).\n",
      "  bt = Backtest(data, Fenix, cash=1000)\n"
     ]
    },
    {
     "name": "stdout",
     "output_type": "stream",
     "text": [
      "RUNEUSDT - Return [%]: 0.71% - # Trades: 2 - Profit Factor: 17.90009266867358 - Win Rate [%]: 50.0\n",
      "EOSUSDT - Return [%]: 1.82% - # Trades: 5 - Profit Factor: 4.481374402498992 - Win Rate [%]: 80.0\n"
     ]
    }
   ],
   "source": [
    "###################################### ESTRATEGIA BB\n",
    "###################################################################################################################\n",
    "import modulos as md\n",
    "import numpy as np\n",
    "import constantes as cons\n",
    "\n",
    "lista=['XTZUSDT',\n",
    "'KNCUSDT',\n",
    "'SRMUSDT',\n",
    "'FLOWUSDT',\n",
    "'STGUSDT',\n",
    "'MAVUSDT',\n",
    "'SUIUSDT',\n",
    "'XLMUSDT',\n",
    "'XRPUSDT',\n",
    "'1INCHUSDT',\n",
    "'EDUUSDT',\n",
    "'RAYUSDT',\n",
    "'EOSUSDT'\n",
    "]\n",
    "lista_filtrada = []\n",
    "\n",
    "lista=md.lista_de_monedas ()\n",
    "#lista=['HOOKUSDT']\n",
    "\n",
    "for symbol in lista:    \n",
    "    try:\n",
    "        #data = md.estrategia_santa(symbol,tp_flag = True)\n",
    "        data = md.estrategia_triangulos(symbol, tp_flag = True, print_lines_flag = False)\n",
    "        #######################################################################\n",
    "        resultado = md.backtesting(data, plot_flag = False)\n",
    "        if ((resultado['Profit Factor'] > 2 or np.isnan(resultado['Profit Factor'])) and (resultado['Return [%]']/resultado['# Trades']) >=0.33):\n",
    "            lista_filtrada.append(symbol)\n",
    "            print(f\"{symbol} - Return [%]: {md.truncate(resultado['Return [%]'],2)}% - # Trades: {resultado['# Trades']} - Profit Factor: {resultado['Profit Factor']} - Win Rate [%]: {resultado['Win Rate [%]']}\")\n",
    "    except Exception as falla:\n",
    "        pass\n",
    "for symbol in lista_filtrada:\n",
    "    md.printandlog(cons.nombrelog,symbol,pal=1)\n",
    "#md.dibuja_patrones_triangulos (data,147)    \n"
   ]
  },
  {
   "cell_type": "code",
   "execution_count": 7,
   "id": "ebc2902d",
   "metadata": {},
   "outputs": [
    {
     "name": "stdout",
     "output_type": "stream",
     "text": [
      "1.0 -0.9964249554205334\n"
     ]
    },
    {
     "data": {
      "application/vnd.plotly.v1+json": {
       "config": {
        "plotlyServerURL": "https://plot.ly"
       },
       "data": [
        {
         "close": [
          0.9238,
          0.9263,
          0.9276,
          0.9267,
          0.9275,
          0.9288,
          0.9279,
          0.9282,
          0.9313,
          0.933,
          0.9348,
          0.9338,
          0.9318,
          0.9337,
          0.9319,
          0.9333,
          0.9349,
          0.937,
          0.9368,
          0.9381,
          0.9371,
          0.9357,
          0.9354,
          0.9349,
          0.9328,
          0.9395,
          0.9377,
          0.9365,
          0.937,
          0.9372,
          0.9365,
          0.9327,
          0.9339,
          0.9329,
          0.932,
          0.9308,
          0.93,
          0.9355,
          0.9387,
          0.9419,
          0.9387,
          0.9355,
          0.9359,
          0.9367,
          0.9392,
          0.9374,
          0.9374,
          0.9385,
          0.9411,
          0.9424,
          0.946,
          0.946,
          0.9455,
          0.9442,
          0.9459,
          0.9425,
          0.9411,
          0.9394,
          0.9422,
          0.9438,
          0.945,
          0.9423,
          0.943,
          0.9418,
          0.9421,
          0.9424,
          0.9422,
          0.9478,
          0.9493,
          0.9525,
          0.9554,
          0.9567
         ],
         "high": [
          0.924,
          0.9291,
          0.9284,
          0.929,
          0.9278,
          0.9297,
          0.9291,
          0.9298,
          0.9327,
          0.9335,
          0.9348,
          0.9354,
          0.9341,
          0.9353,
          0.9341,
          0.9335,
          0.9364,
          0.9381,
          0.938,
          0.9392,
          0.939,
          0.9371,
          0.9388,
          0.938,
          0.9364,
          0.9399,
          0.94,
          0.938,
          0.939,
          0.9384,
          0.939,
          0.939,
          0.9371,
          0.9363,
          0.9341,
          0.9331,
          0.9315,
          0.9369,
          0.9399,
          0.9432,
          0.9424,
          0.9384,
          0.9364,
          0.9385,
          0.9408,
          0.9386,
          0.9391,
          0.9394,
          0.9434,
          0.944,
          0.946,
          0.9484,
          0.9458,
          0.9468,
          0.9463,
          0.9475,
          0.9427,
          0.9411,
          0.943,
          0.944,
          0.945,
          0.9465,
          0.9434,
          0.9427,
          0.9439,
          0.9428,
          0.9435,
          0.948,
          0.9501,
          0.9535,
          0.9566,
          0.9575
         ],
         "low": [
          0.9206,
          0.9233,
          0.9253,
          0.9252,
          0.9252,
          0.9271,
          0.9268,
          0.9263,
          0.9278,
          0.9312,
          0.9318,
          0.9332,
          0.9311,
          0.9318,
          0.9317,
          0.9313,
          0.9326,
          0.9352,
          0.9363,
          0.9365,
          0.9371,
          0.9339,
          0.9352,
          0.9349,
          0.9319,
          0.931,
          0.9357,
          0.9363,
          0.9359,
          0.9344,
          0.9361,
          0.9325,
          0.932,
          0.9301,
          0.9295,
          0.9294,
          0.9282,
          0.9217,
          0.9345,
          0.9383,
          0.9373,
          0.9339,
          0.9343,
          0.9362,
          0.9367,
          0.9368,
          0.9373,
          0.9378,
          0.9385,
          0.9416,
          0.9428,
          0.9447,
          0.9442,
          0.9436,
          0.9445,
          0.9424,
          0.9404,
          0.9389,
          0.9395,
          0.9421,
          0.943,
          0.9423,
          0.9419,
          0.9414,
          0.9415,
          0.9406,
          0.9422,
          0.9428,
          0.9474,
          0.9499,
          0.9508,
          0.9534
         ],
         "open": [
          0.9239,
          0.9238,
          0.9263,
          0.9276,
          0.9268,
          0.9271,
          0.929,
          0.9272,
          0.9287,
          0.9312,
          0.9326,
          0.9348,
          0.9338,
          0.9318,
          0.9339,
          0.9322,
          0.9335,
          0.9352,
          0.9374,
          0.9367,
          0.9381,
          0.9371,
          0.9352,
          0.9359,
          0.9347,
          0.9328,
          0.9397,
          0.9375,
          0.9371,
          0.9372,
          0.9375,
          0.9364,
          0.9324,
          0.9343,
          0.9334,
          0.9318,
          0.9306,
          0.9294,
          0.9359,
          0.9395,
          0.9424,
          0.9384,
          0.9361,
          0.9366,
          0.9367,
          0.9386,
          0.938,
          0.9378,
          0.9385,
          0.9418,
          0.9436,
          0.9461,
          0.9453,
          0.9451,
          0.9445,
          0.9471,
          0.9426,
          0.9405,
          0.9395,
          0.9427,
          0.9439,
          0.9453,
          0.9423,
          0.9427,
          0.942,
          0.9428,
          0.9424,
          0.9428,
          0.9475,
          0.9499,
          0.9525,
          0.9556
         ],
         "type": "candlestick",
         "x": [
          928,
          929,
          930,
          931,
          932,
          933,
          934,
          935,
          936,
          937,
          938,
          939,
          940,
          941,
          942,
          943,
          944,
          945,
          946,
          947,
          948,
          949,
          950,
          951,
          952,
          953,
          954,
          955,
          956,
          957,
          958,
          959,
          960,
          961,
          962,
          963,
          964,
          965,
          966,
          967,
          968,
          969,
          970,
          971,
          972,
          973,
          974,
          975,
          976,
          977,
          978,
          979,
          980,
          981,
          982,
          983,
          984,
          985,
          986,
          987,
          988,
          989,
          990,
          991,
          992,
          993,
          994,
          995,
          996,
          997,
          998,
          999
         ]
        },
        {
         "marker": {
          "color": "MediumPurple",
          "size": 4
         },
         "mode": "markers",
         "name": "pivot",
         "type": "scatter",
         "x": [
          928,
          929,
          930,
          931,
          932,
          933,
          934,
          935,
          936,
          937,
          938,
          939,
          940,
          941,
          942,
          943,
          944,
          945,
          946,
          947,
          948,
          949,
          950,
          951,
          952,
          953,
          954,
          955,
          956,
          957,
          958,
          959,
          960,
          961,
          962,
          963,
          964,
          965,
          966,
          967,
          968,
          969,
          970,
          971,
          972,
          973,
          974,
          975,
          976,
          977,
          978,
          979,
          980,
          981,
          982,
          983,
          984,
          985,
          986,
          987,
          988,
          989,
          990,
          991,
          992,
          993,
          994,
          995,
          996,
          997,
          998,
          999
         ],
         "y": [
          null,
          0.9301,
          null,
          null,
          null,
          null,
          null,
          null,
          null,
          null,
          null,
          0.9364,
          0.9301,
          null,
          null,
          null,
          null,
          null,
          null,
          0.9402,
          null,
          null,
          null,
          null,
          null,
          0.93,
          0.941,
          null,
          null,
          null,
          0.94,
          0.94,
          null,
          null,
          null,
          null,
          null,
          0.9207,
          null,
          0.9442,
          null,
          0.9329,
          null,
          null,
          0.9418,
          null,
          null,
          null,
          null,
          null,
          null,
          0.9494,
          null,
          null,
          null,
          0.9485,
          null,
          0.9379,
          null,
          null,
          null,
          0.9475,
          null,
          null,
          null,
          0.9396,
          null,
          null,
          null,
          null,
          null,
          null
         ]
        },
        {
         "mode": "lines",
         "name": "min slope",
         "type": "scatter",
         "x": [
          985,
          993,
          1008
         ],
         "y": [
          0.9388999999999998,
          0.9405999999999999,
          0.9437875
         ]
        },
        {
         "mode": "lines",
         "name": "max slope",
         "type": "scatter",
         "x": [
          979,
          983,
          989,
          1004
         ],
         "y": [
          0.9483447368421053,
          0.947592105263158,
          0.9464631578947369,
          0.9436407894736842
         ]
        }
       ],
       "layout": {
        "template": {
         "data": {
          "bar": [
           {
            "error_x": {
             "color": "#2a3f5f"
            },
            "error_y": {
             "color": "#2a3f5f"
            },
            "marker": {
             "line": {
              "color": "#E5ECF6",
              "width": 0.5
             },
             "pattern": {
              "fillmode": "overlay",
              "size": 10,
              "solidity": 0.2
             }
            },
            "type": "bar"
           }
          ],
          "barpolar": [
           {
            "marker": {
             "line": {
              "color": "#E5ECF6",
              "width": 0.5
             },
             "pattern": {
              "fillmode": "overlay",
              "size": 10,
              "solidity": 0.2
             }
            },
            "type": "barpolar"
           }
          ],
          "carpet": [
           {
            "aaxis": {
             "endlinecolor": "#2a3f5f",
             "gridcolor": "white",
             "linecolor": "white",
             "minorgridcolor": "white",
             "startlinecolor": "#2a3f5f"
            },
            "baxis": {
             "endlinecolor": "#2a3f5f",
             "gridcolor": "white",
             "linecolor": "white",
             "minorgridcolor": "white",
             "startlinecolor": "#2a3f5f"
            },
            "type": "carpet"
           }
          ],
          "choropleth": [
           {
            "colorbar": {
             "outlinewidth": 0,
             "ticks": ""
            },
            "type": "choropleth"
           }
          ],
          "contour": [
           {
            "colorbar": {
             "outlinewidth": 0,
             "ticks": ""
            },
            "colorscale": [
             [
              0,
              "#0d0887"
             ],
             [
              0.1111111111111111,
              "#46039f"
             ],
             [
              0.2222222222222222,
              "#7201a8"
             ],
             [
              0.3333333333333333,
              "#9c179e"
             ],
             [
              0.4444444444444444,
              "#bd3786"
             ],
             [
              0.5555555555555556,
              "#d8576b"
             ],
             [
              0.6666666666666666,
              "#ed7953"
             ],
             [
              0.7777777777777778,
              "#fb9f3a"
             ],
             [
              0.8888888888888888,
              "#fdca26"
             ],
             [
              1,
              "#f0f921"
             ]
            ],
            "type": "contour"
           }
          ],
          "contourcarpet": [
           {
            "colorbar": {
             "outlinewidth": 0,
             "ticks": ""
            },
            "type": "contourcarpet"
           }
          ],
          "heatmap": [
           {
            "colorbar": {
             "outlinewidth": 0,
             "ticks": ""
            },
            "colorscale": [
             [
              0,
              "#0d0887"
             ],
             [
              0.1111111111111111,
              "#46039f"
             ],
             [
              0.2222222222222222,
              "#7201a8"
             ],
             [
              0.3333333333333333,
              "#9c179e"
             ],
             [
              0.4444444444444444,
              "#bd3786"
             ],
             [
              0.5555555555555556,
              "#d8576b"
             ],
             [
              0.6666666666666666,
              "#ed7953"
             ],
             [
              0.7777777777777778,
              "#fb9f3a"
             ],
             [
              0.8888888888888888,
              "#fdca26"
             ],
             [
              1,
              "#f0f921"
             ]
            ],
            "type": "heatmap"
           }
          ],
          "heatmapgl": [
           {
            "colorbar": {
             "outlinewidth": 0,
             "ticks": ""
            },
            "colorscale": [
             [
              0,
              "#0d0887"
             ],
             [
              0.1111111111111111,
              "#46039f"
             ],
             [
              0.2222222222222222,
              "#7201a8"
             ],
             [
              0.3333333333333333,
              "#9c179e"
             ],
             [
              0.4444444444444444,
              "#bd3786"
             ],
             [
              0.5555555555555556,
              "#d8576b"
             ],
             [
              0.6666666666666666,
              "#ed7953"
             ],
             [
              0.7777777777777778,
              "#fb9f3a"
             ],
             [
              0.8888888888888888,
              "#fdca26"
             ],
             [
              1,
              "#f0f921"
             ]
            ],
            "type": "heatmapgl"
           }
          ],
          "histogram": [
           {
            "marker": {
             "pattern": {
              "fillmode": "overlay",
              "size": 10,
              "solidity": 0.2
             }
            },
            "type": "histogram"
           }
          ],
          "histogram2d": [
           {
            "colorbar": {
             "outlinewidth": 0,
             "ticks": ""
            },
            "colorscale": [
             [
              0,
              "#0d0887"
             ],
             [
              0.1111111111111111,
              "#46039f"
             ],
             [
              0.2222222222222222,
              "#7201a8"
             ],
             [
              0.3333333333333333,
              "#9c179e"
             ],
             [
              0.4444444444444444,
              "#bd3786"
             ],
             [
              0.5555555555555556,
              "#d8576b"
             ],
             [
              0.6666666666666666,
              "#ed7953"
             ],
             [
              0.7777777777777778,
              "#fb9f3a"
             ],
             [
              0.8888888888888888,
              "#fdca26"
             ],
             [
              1,
              "#f0f921"
             ]
            ],
            "type": "histogram2d"
           }
          ],
          "histogram2dcontour": [
           {
            "colorbar": {
             "outlinewidth": 0,
             "ticks": ""
            },
            "colorscale": [
             [
              0,
              "#0d0887"
             ],
             [
              0.1111111111111111,
              "#46039f"
             ],
             [
              0.2222222222222222,
              "#7201a8"
             ],
             [
              0.3333333333333333,
              "#9c179e"
             ],
             [
              0.4444444444444444,
              "#bd3786"
             ],
             [
              0.5555555555555556,
              "#d8576b"
             ],
             [
              0.6666666666666666,
              "#ed7953"
             ],
             [
              0.7777777777777778,
              "#fb9f3a"
             ],
             [
              0.8888888888888888,
              "#fdca26"
             ],
             [
              1,
              "#f0f921"
             ]
            ],
            "type": "histogram2dcontour"
           }
          ],
          "mesh3d": [
           {
            "colorbar": {
             "outlinewidth": 0,
             "ticks": ""
            },
            "type": "mesh3d"
           }
          ],
          "parcoords": [
           {
            "line": {
             "colorbar": {
              "outlinewidth": 0,
              "ticks": ""
             }
            },
            "type": "parcoords"
           }
          ],
          "pie": [
           {
            "automargin": true,
            "type": "pie"
           }
          ],
          "scatter": [
           {
            "fillpattern": {
             "fillmode": "overlay",
             "size": 10,
             "solidity": 0.2
            },
            "type": "scatter"
           }
          ],
          "scatter3d": [
           {
            "line": {
             "colorbar": {
              "outlinewidth": 0,
              "ticks": ""
             }
            },
            "marker": {
             "colorbar": {
              "outlinewidth": 0,
              "ticks": ""
             }
            },
            "type": "scatter3d"
           }
          ],
          "scattercarpet": [
           {
            "marker": {
             "colorbar": {
              "outlinewidth": 0,
              "ticks": ""
             }
            },
            "type": "scattercarpet"
           }
          ],
          "scattergeo": [
           {
            "marker": {
             "colorbar": {
              "outlinewidth": 0,
              "ticks": ""
             }
            },
            "type": "scattergeo"
           }
          ],
          "scattergl": [
           {
            "marker": {
             "colorbar": {
              "outlinewidth": 0,
              "ticks": ""
             }
            },
            "type": "scattergl"
           }
          ],
          "scattermapbox": [
           {
            "marker": {
             "colorbar": {
              "outlinewidth": 0,
              "ticks": ""
             }
            },
            "type": "scattermapbox"
           }
          ],
          "scatterpolar": [
           {
            "marker": {
             "colorbar": {
              "outlinewidth": 0,
              "ticks": ""
             }
            },
            "type": "scatterpolar"
           }
          ],
          "scatterpolargl": [
           {
            "marker": {
             "colorbar": {
              "outlinewidth": 0,
              "ticks": ""
             }
            },
            "type": "scatterpolargl"
           }
          ],
          "scatterternary": [
           {
            "marker": {
             "colorbar": {
              "outlinewidth": 0,
              "ticks": ""
             }
            },
            "type": "scatterternary"
           }
          ],
          "surface": [
           {
            "colorbar": {
             "outlinewidth": 0,
             "ticks": ""
            },
            "colorscale": [
             [
              0,
              "#0d0887"
             ],
             [
              0.1111111111111111,
              "#46039f"
             ],
             [
              0.2222222222222222,
              "#7201a8"
             ],
             [
              0.3333333333333333,
              "#9c179e"
             ],
             [
              0.4444444444444444,
              "#bd3786"
             ],
             [
              0.5555555555555556,
              "#d8576b"
             ],
             [
              0.6666666666666666,
              "#ed7953"
             ],
             [
              0.7777777777777778,
              "#fb9f3a"
             ],
             [
              0.8888888888888888,
              "#fdca26"
             ],
             [
              1,
              "#f0f921"
             ]
            ],
            "type": "surface"
           }
          ],
          "table": [
           {
            "cells": {
             "fill": {
              "color": "#EBF0F8"
             },
             "line": {
              "color": "white"
             }
            },
            "header": {
             "fill": {
              "color": "#C8D4E3"
             },
             "line": {
              "color": "white"
             }
            },
            "type": "table"
           }
          ]
         },
         "layout": {
          "annotationdefaults": {
           "arrowcolor": "#2a3f5f",
           "arrowhead": 0,
           "arrowwidth": 1
          },
          "autotypenumbers": "strict",
          "coloraxis": {
           "colorbar": {
            "outlinewidth": 0,
            "ticks": ""
           }
          },
          "colorscale": {
           "diverging": [
            [
             0,
             "#8e0152"
            ],
            [
             0.1,
             "#c51b7d"
            ],
            [
             0.2,
             "#de77ae"
            ],
            [
             0.3,
             "#f1b6da"
            ],
            [
             0.4,
             "#fde0ef"
            ],
            [
             0.5,
             "#f7f7f7"
            ],
            [
             0.6,
             "#e6f5d0"
            ],
            [
             0.7,
             "#b8e186"
            ],
            [
             0.8,
             "#7fbc41"
            ],
            [
             0.9,
             "#4d9221"
            ],
            [
             1,
             "#276419"
            ]
           ],
           "sequential": [
            [
             0,
             "#0d0887"
            ],
            [
             0.1111111111111111,
             "#46039f"
            ],
            [
             0.2222222222222222,
             "#7201a8"
            ],
            [
             0.3333333333333333,
             "#9c179e"
            ],
            [
             0.4444444444444444,
             "#bd3786"
            ],
            [
             0.5555555555555556,
             "#d8576b"
            ],
            [
             0.6666666666666666,
             "#ed7953"
            ],
            [
             0.7777777777777778,
             "#fb9f3a"
            ],
            [
             0.8888888888888888,
             "#fdca26"
            ],
            [
             1,
             "#f0f921"
            ]
           ],
           "sequentialminus": [
            [
             0,
             "#0d0887"
            ],
            [
             0.1111111111111111,
             "#46039f"
            ],
            [
             0.2222222222222222,
             "#7201a8"
            ],
            [
             0.3333333333333333,
             "#9c179e"
            ],
            [
             0.4444444444444444,
             "#bd3786"
            ],
            [
             0.5555555555555556,
             "#d8576b"
            ],
            [
             0.6666666666666666,
             "#ed7953"
            ],
            [
             0.7777777777777778,
             "#fb9f3a"
            ],
            [
             0.8888888888888888,
             "#fdca26"
            ],
            [
             1,
             "#f0f921"
            ]
           ]
          },
          "colorway": [
           "#636efa",
           "#EF553B",
           "#00cc96",
           "#ab63fa",
           "#FFA15A",
           "#19d3f3",
           "#FF6692",
           "#B6E880",
           "#FF97FF",
           "#FECB52"
          ],
          "font": {
           "color": "#2a3f5f"
          },
          "geo": {
           "bgcolor": "white",
           "lakecolor": "white",
           "landcolor": "#E5ECF6",
           "showlakes": true,
           "showland": true,
           "subunitcolor": "white"
          },
          "hoverlabel": {
           "align": "left"
          },
          "hovermode": "closest",
          "mapbox": {
           "style": "light"
          },
          "paper_bgcolor": "white",
          "plot_bgcolor": "#E5ECF6",
          "polar": {
           "angularaxis": {
            "gridcolor": "white",
            "linecolor": "white",
            "ticks": ""
           },
           "bgcolor": "#E5ECF6",
           "radialaxis": {
            "gridcolor": "white",
            "linecolor": "white",
            "ticks": ""
           }
          },
          "scene": {
           "xaxis": {
            "backgroundcolor": "#E5ECF6",
            "gridcolor": "white",
            "gridwidth": 2,
            "linecolor": "white",
            "showbackground": true,
            "ticks": "",
            "zerolinecolor": "white"
           },
           "yaxis": {
            "backgroundcolor": "#E5ECF6",
            "gridcolor": "white",
            "gridwidth": 2,
            "linecolor": "white",
            "showbackground": true,
            "ticks": "",
            "zerolinecolor": "white"
           },
           "zaxis": {
            "backgroundcolor": "#E5ECF6",
            "gridcolor": "white",
            "gridwidth": 2,
            "linecolor": "white",
            "showbackground": true,
            "ticks": "",
            "zerolinecolor": "white"
           }
          },
          "shapedefaults": {
           "line": {
            "color": "#2a3f5f"
           }
          },
          "ternary": {
           "aaxis": {
            "gridcolor": "white",
            "linecolor": "white",
            "ticks": ""
           },
           "baxis": {
            "gridcolor": "white",
            "linecolor": "white",
            "ticks": ""
           },
           "bgcolor": "#E5ECF6",
           "caxis": {
            "gridcolor": "white",
            "linecolor": "white",
            "ticks": ""
           }
          },
          "title": {
           "x": 0.05
          },
          "xaxis": {
           "automargin": true,
           "gridcolor": "white",
           "linecolor": "white",
           "ticks": "",
           "title": {
            "standoff": 15
           },
           "zerolinecolor": "white",
           "zerolinewidth": 2
          },
          "yaxis": {
           "automargin": true,
           "gridcolor": "white",
           "linecolor": "white",
           "ticks": "",
           "title": {
            "standoff": 15
           },
           "zerolinecolor": "white",
           "zerolinewidth": 2
          }
         }
        },
        "xaxis": {
         "rangeslider": {
          "visible": false
         }
        }
       }
      }
     },
     "metadata": {},
     "output_type": "display_data"
    },
    {
     "name": "stdout",
     "output_type": "stream",
     "text": [
      "linea superior. X: [ 979.  983.  989. 1004.] - y: [0.94834474 0.94759211 0.94646316 0.94364079]\n",
      "linea inferior. X: [ 985.  993. 1008.] - y: [0.9389    0.9406    0.9437875]\n"
     ]
    }
   ],
   "source": [
    "md.dibuja_patrones_triangulos (data,998) "
   ]
  }
 ],
 "metadata": {
  "kernelspec": {
   "display_name": "Python 3 (ipykernel)",
   "language": "python",
   "name": "python3"
  },
  "language_info": {
   "codemirror_mode": {
    "name": "ipython",
    "version": 3
   },
   "file_extension": ".py",
   "mimetype": "text/x-python",
   "name": "python",
   "nbconvert_exporter": "python",
   "pygments_lexer": "ipython3",
   "version": "3.10.11"
  }
 },
 "nbformat": 4,
 "nbformat_minor": 5
}
