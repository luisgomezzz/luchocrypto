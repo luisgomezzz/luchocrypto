{
 "cells": [
  {
   "cell_type": "code",
   "execution_count": 1,
   "id": "cd995f0a",
   "metadata": {},
   "outputs": [
    {
     "name": "stderr",
     "output_type": "stream",
     "text": [
      "C:\\Users\\Luis Gomez Freites\\AppData\\Local\\Packages\\PythonSoftwareFoundation.Python.3.10_qbz5n2kfra8p0\\LocalCache\\local-packages\\Python310\\site-packages\\tqdm\\auto.py:22: TqdmWarning: IProgress not found. Please update jupyter and ipywidgets. See https://ipywidgets.readthedocs.io/en/stable/user_install.html\n",
      "  from .autonotebook import tqdm as notebook_tqdm\n",
      "BokehDeprecationWarning: Passing lists of formats for DatetimeTickFormatter scales was deprecated in Bokeh 3.0. Configure a single string format for each scale\n",
      "C:\\Users\\Luis Gomez Freites\\AppData\\Local\\Packages\\PythonSoftwareFoundation.Python.3.10_qbz5n2kfra8p0\\LocalCache\\local-packages\\Python310\\site-packages\\backtesting\\_plotting.py:250: UserWarning: DatetimeFormatter scales now only accept a single format. Using the first provided: '%d %b'\n",
      "  formatter=DatetimeTickFormatter(days=['%d %b', '%a %d'],\n",
      "BokehDeprecationWarning: Passing lists of formats for DatetimeTickFormatter scales was deprecated in Bokeh 3.0. Configure a single string format for each scale\n",
      "C:\\Users\\Luis Gomez Freites\\AppData\\Local\\Packages\\PythonSoftwareFoundation.Python.3.10_qbz5n2kfra8p0\\LocalCache\\local-packages\\Python310\\site-packages\\backtesting\\_plotting.py:250: UserWarning: DatetimeFormatter scales now only accept a single format. Using the first provided: '%m/%Y'\n",
      "  formatter=DatetimeTickFormatter(days=['%d %b', '%a %d'],\n"
     ]
    },
    {
     "name": "stdout",
     "output_type": "stream",
     "text": [
      "XVGUSDT - retorno: 0.15% - trades: 11 - Profit Factor: 41.90159822968496\n"
     ]
    }
   ],
   "source": [
    "import modulos as md\n",
    "lista=['XVGUSDT']\n",
    "\n",
    "#lista=md.lista_de_monedas()\n",
    "\n",
    "for symbol in lista:\n",
    "    try:\n",
    "        data = md.obtiene_historial(symbol,'1m')\n",
    "        data = md.estrategia_santa(data,tp_flag = False)\n",
    "        resultado = md.backtesting(data,plot_flag=True)\n",
    "        if resultado['Profit Factor']>1:\n",
    "            print(f\"{symbol} - retorno: {md.truncate(resultado[6],2)}% - trades: {resultado[17]} - Profit Factor: {resultado['Profit Factor']}\")\n",
    "    except Exception as falla:\n",
    "        pass  \n",
    "\n"
   ]
  },
  {
   "cell_type": "code",
   "execution_count": 2,
   "id": "5d6d8a73",
   "metadata": {},
   "outputs": [
    {
     "data": {
      "text/plain": [
       "Start                     2023-07-06 08:30:00\n",
       "End                       2023-07-07 01:09:00\n",
       "Duration                      0 days 16:39:00\n",
       "Exposure Time [%]                        10.2\n",
       "Equity Final [$]                  1001.579775\n",
       "Equity Peak [$]                    1001.66739\n",
       "Return [%]                           0.157978\n",
       "Buy & Hold Return [%]                0.435395\n",
       "Return (Ann.) [%]                    2.559299\n",
       "Volatility (Ann.) [%]                     NaN\n",
       "Sharpe Ratio                              NaN\n",
       "Sortino Ratio                             inf\n",
       "Calmar Ratio                       134.771153\n",
       "Max. Drawdown [%]                    -0.01899\n",
       "Avg. Drawdown [%]                   -0.007598\n",
       "Max. Drawdown Duration        0 days 08:06:00\n",
       "Avg. Drawdown Duration        0 days 00:49:00\n",
       "# Trades                                   11\n",
       "Win Rate [%]                        90.909091\n",
       "Best Trade [%]                       5.275908\n",
       "Worst Trade [%]                     -0.479753\n",
       "Avg. Trade [%]                       1.772785\n",
       "Max. Trade Duration           0 days 00:19:00\n",
       "Avg. Trade Duration           0 days 00:09:00\n",
       "Profit Factor                       41.901598\n",
       "Expectancy [%]                        1.78388\n",
       "SQN                                  3.862548\n",
       "_strategy                               Fenix\n",
       "_equity_curve                             ...\n",
       "_trades                       Size  EntryB...\n",
       "dtype: object"
      ]
     },
     "execution_count": 2,
     "metadata": {},
     "output_type": "execute_result"
    }
   ],
   "source": [
    "resultado"
   ]
  }
 ],
 "metadata": {
  "kernelspec": {
   "display_name": "Python 3 (ipykernel)",
   "language": "python",
   "name": "python3"
  },
  "language_info": {
   "codemirror_mode": {
    "name": "ipython",
    "version": 3
   },
   "file_extension": ".py",
   "mimetype": "text/x-python",
   "name": "python",
   "nbconvert_exporter": "python",
   "pygments_lexer": "ipython3",
   "version": "3.10.11"
  }
 },
 "nbformat": 4,
 "nbformat_minor": 5
}
