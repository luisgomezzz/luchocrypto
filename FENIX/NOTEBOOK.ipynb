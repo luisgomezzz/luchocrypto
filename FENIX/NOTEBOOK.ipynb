{
 "cells": [
  {
   "cell_type": "code",
   "execution_count": 1,
   "id": "2d7ba37d",
   "metadata": {},
   "outputs": [
    {
     "name": "stderr",
     "output_type": "stream",
     "text": [
      "C:\\Users\\Luis Gomez Freites\\AppData\\Local\\Packages\\PythonSoftwareFoundation.Python.3.10_qbz5n2kfra8p0\\LocalCache\\local-packages\\Python310\\site-packages\\tqdm\\auto.py:22: TqdmWarning: IProgress not found. Please update jupyter and ipywidgets. See https://ipywidgets.readthedocs.io/en/stable/user_install.html\n",
      "  from .autonotebook import tqdm as notebook_tqdm\n"
     ]
    },
    {
     "name": "stdout",
     "output_type": "stream",
     "text": [
      "KNCUSDT - Return [%]: 6.04% - # Trades: 6 - Profit Factor: 11.085006629281377 - Win Rate [%]: 83.33333333333334\n",
      "ARKMUSDT - Return [%]: 1.31% - # Trades: 2 - Profit Factor: 2.428774105661098 - Win Rate [%]: 50.0\n",
      "BELUSDT - Return [%]: 0.68% - # Trades: 2 - Profit Factor: 3.0170962455050416 - Win Rate [%]: 50.0\n",
      "AGLDUSDT - Return [%]: 2.15% - # Trades: 2 - Profit Factor: 6.955240737600756 - Win Rate [%]: 50.0\n",
      "STXUSDT - Return [%]: 2.36% - # Trades: 2 - Profit Factor: nan - Win Rate [%]: 100.0\n",
      "FTMUSDT - Return [%]: 0.44% - # Trades: 1 - Profit Factor: nan - Win Rate [%]: 100.0\n"
     ]
    },
    {
     "name": "stderr",
     "output_type": "stream",
     "text": [
      "c:\\LUCHO\\personal\\repopersonal\\luchocrypto\\FENIX\\modulos.py:458: UserWarning: Some prices are larger than initial cash value. Note that fractional trading is not supported. If you want to trade Bitcoin, increase initial cash, or trade μBTC or satoshis instead (GH-134).\n",
      "  bt = Backtest(data, Fenix, cash=1000)\n"
     ]
    },
    {
     "name": "stdout",
     "output_type": "stream",
     "text": [
      "XRPUSDT - Return [%]: 1.59% - # Trades: 4 - Profit Factor: 5.109757415146956 - Win Rate [%]: 50.0\n",
      "SRMUSDT - Return [%]: 3.8% - # Trades: 3 - Profit Factor: nan - Win Rate [%]: 100.0\n",
      "SUSHIUSDT - Return [%]: 1.83% - # Trades: 5 - Profit Factor: 4.729369832014142 - Win Rate [%]: 60.0\n",
      "SXPUSDT - Return [%]: 0.4% - # Trades: 1 - Profit Factor: nan - Win Rate [%]: 100.0\n",
      "ALICEUSDT - Return [%]: 3.72% - # Trades: 8 - Profit Factor: 4.830722865773053 - Win Rate [%]: 62.5\n",
      "PENDLEUSDT - Return [%]: 2.06% - # Trades: 1 - Profit Factor: nan - Win Rate [%]: 100.0\n",
      "MATICUSDT - Return [%]: 2.51% - # Trades: 4 - Profit Factor: nan - Win Rate [%]: 100.0\n",
      "EOSUSDT - Return [%]: 1.51% - # Trades: 3 - Profit Factor: nan - Win Rate [%]: 100.0\n",
      "CRVUSDT - Return [%]: 3.52% - # Trades: 6 - Profit Factor: 3.1661379777481313 - Win Rate [%]: 50.0\n",
      "OMGUSDT - Return [%]: 1.2% - # Trades: 3 - Profit Factor: 8.711336166832321 - Win Rate [%]: 66.66666666666666\n"
     ]
    },
    {
     "name": "stderr",
     "output_type": "stream",
     "text": [
      "c:\\LUCHO\\personal\\repopersonal\\luchocrypto\\FENIX\\modulos.py:458: UserWarning: Some prices are larger than initial cash value. Note that fractional trading is not supported. If you want to trade Bitcoin, increase initial cash, or trade μBTC or satoshis instead (GH-134).\n",
      "  bt = Backtest(data, Fenix, cash=1000)\n"
     ]
    },
    {
     "name": "stdout",
     "output_type": "stream",
     "text": [
      "EDUUSDT - Return [%]: 1.35% - # Trades: 2 - Profit Factor: nan - Win Rate [%]: 100.0\n"
     ]
    }
   ],
   "source": [
    "###################################### ESTRATEGIA BB\n",
    "###################################################################################################################\n",
    "import modulos as md\n",
    "import numpy as np\n",
    "import constantes as cons\n",
    "\n",
    "lista=[\n",
    "'AGLDUSDT',\n",
    "'PHBUSDT',\n",
    "'FTMUSDT',\n",
    "'SRMUSDT',\n",
    "'KAVAUSDT',\n",
    "'EDUUSDT',\n",
    "'CRVUSDT',\n",
    "'XRPUSDT',\n",
    "'XTZUSDT',\n",
    "'PENDLEUSDT',\n",
    "'BELUSDT',\n",
    "'ARKMUSDT',\n",
    "'RDNTUSDT',\n",
    "'KNCUSDT',\n",
    "'PERPUSDT',\n",
    "'RUNEUSDT',\n",
    "'EOSUSDT'\n",
    "]\n",
    "lista_filtrada = []\n",
    "\n",
    "lista=md.lista_de_monedas ()\n",
    "#lista=['PHBUSDT']\n",
    "\n",
    "for symbol in lista:    \n",
    "    try:\n",
    "        #data = md.estrategia_santa(symbol,tp_flag = True)\n",
    "        data = md.estrategia_triangulos(symbol, tp_flag = True, print_lines_flag = False)\n",
    "        #######################################################################\n",
    "        resultado = md.backtesting(data, plot_flag = False)\n",
    "        if ((resultado['Profit Factor'] > 2 or np.isnan(resultado['Profit Factor'])) and (resultado['Return [%]']/resultado['# Trades']) >=0.33):\n",
    "            lista_filtrada.append(symbol)\n",
    "            print(f\"{symbol} - Return [%]: {md.truncate(resultado['Return [%]'],2)}% - # Trades: {resultado['# Trades']} - Profit Factor: {resultado['Profit Factor']} - Win Rate [%]: {resultado['Win Rate [%]']}\")\n",
    "    except Exception as falla:\n",
    "        pass\n",
    "for symbol in lista_filtrada:\n",
    "    md.printandlog(cons.nombrelog,symbol,pal=1)\n",
    "#md.dibuja_patrones_triangulos (data,998)    \n"
   ]
  },
  {
   "cell_type": "code",
   "execution_count": 4,
   "id": "ebc2902d",
   "metadata": {},
   "outputs": [
    {
     "name": "stdout",
     "output_type": "stream",
     "text": [
      "0.9625689680241795 -1.0\n"
     ]
    },
    {
     "data": {
      "application/vnd.plotly.v1+json": {
       "config": {
        "plotlyServerURL": "https://plot.ly"
       },
       "data": [
        {
         "close": [
          0.5998,
          0.5992,
          0.598,
          0.5955,
          0.5968,
          0.5963,
          0.5952,
          0.5936,
          0.592,
          0.5924,
          0.5926,
          0.5926,
          0.5914,
          0.5909,
          0.5888,
          0.5905,
          0.5903,
          0.5891,
          0.5873,
          0.5861,
          0.5856,
          0.587,
          0.5865,
          0.5859,
          0.5858,
          0.5851,
          0.5851,
          0.5863,
          0.5867,
          0.5867,
          0.5873,
          0.5868,
          0.5867,
          0.5873,
          0.5877,
          0.5859,
          0.5845,
          0.5829,
          0.5825,
          0.5818,
          0.5829,
          0.5816,
          0.5802,
          0.5815,
          0.5781,
          0.5739,
          0.5722,
          0.5736,
          0.5749,
          0.5767,
          0.5777,
          0.5781,
          0.5769,
          0.579,
          0.5714,
          0.5745,
          0.5746,
          0.5753,
          0.5758,
          0.5763,
          0.5761,
          0.5752,
          0.5736,
          0.5748,
          0.5762,
          0.5771,
          0.5757,
          0.5752,
          0.5749,
          0.5751,
          0.5742,
          0.5729,
          0.573,
          0.5744,
          0.5743,
          0.5761,
          0.5753,
          0.5751,
          0.5737,
          0.5734,
          0.5728,
          0.5723,
          0.573,
          0.5729,
          0.5769,
          0.577,
          0.5768,
          0.5772,
          0.5781,
          0.579,
          0.58,
          0.5787,
          0.5761,
          0.5746,
          0.576,
          0.5746,
          0.5754,
          0.5757,
          0.5751,
          0.5746,
          0.5735,
          0.5735,
          0.5725,
          0.5715,
          0.5707,
          0.573,
          0.574,
          0.5726,
          0.5723,
          0.572,
          0.5701,
          0.5716,
          0.5683,
          0.5707,
          0.57,
          0.5712,
          0.5703,
          0.5704,
          0.5715,
          0.5722,
          0.5729,
          0.5734,
          0.5744,
          0.5747,
          0.5743,
          0.5759,
          0.5759,
          0.5749,
          0.5747,
          0.5766,
          0.5775,
          0.5763,
          0.5755,
          0.5754,
          0.5756,
          0.5757
         ],
         "high": [
          0.6006,
          0.5997,
          0.5988,
          0.5972,
          0.5968,
          0.5977,
          0.5957,
          0.5949,
          0.594,
          0.5927,
          0.5927,
          0.5933,
          0.5926,
          0.5914,
          0.5907,
          0.5905,
          0.5915,
          0.5903,
          0.5891,
          0.5872,
          0.5862,
          0.5881,
          0.587,
          0.5871,
          0.5859,
          0.5858,
          0.5854,
          0.5863,
          0.5871,
          0.5872,
          0.5874,
          0.5881,
          0.5871,
          0.5877,
          0.5879,
          0.5875,
          0.5855,
          0.5847,
          0.5835,
          0.5827,
          0.5835,
          0.5827,
          0.5815,
          0.5825,
          0.5809,
          0.5783,
          0.5755,
          0.5749,
          0.5749,
          0.5788,
          0.5784,
          0.5794,
          0.5786,
          0.5798,
          0.5791,
          0.5756,
          0.5757,
          0.5776,
          0.5758,
          0.5768,
          0.577,
          0.5761,
          0.5753,
          0.5751,
          0.5763,
          0.5771,
          0.5777,
          0.5758,
          0.5751,
          0.5751,
          0.5752,
          0.5748,
          0.573,
          0.5745,
          0.5755,
          0.5762,
          0.5762,
          0.5755,
          0.5747,
          0.5734,
          0.5734,
          0.5728,
          0.5731,
          0.5732,
          0.5776,
          0.5796,
          0.5774,
          0.5772,
          0.5784,
          0.5791,
          0.5817,
          0.5802,
          0.5788,
          0.5757,
          0.576,
          0.576,
          0.5756,
          0.5758,
          0.5753,
          0.5758,
          0.5749,
          0.5735,
          0.5734,
          0.5725,
          0.5715,
          0.573,
          0.5742,
          0.573,
          0.5725,
          0.5729,
          0.5728,
          0.5716,
          0.5713,
          0.5709,
          0.5709,
          0.5715,
          0.5712,
          0.5715,
          0.5715,
          0.5722,
          0.5737,
          0.5735,
          0.5745,
          0.5748,
          0.5747,
          0.5764,
          0.5766,
          0.5757,
          0.5754,
          0.5767,
          0.5781,
          0.5775,
          0.5757,
          0.5757,
          0.5757,
          0.5766
         ],
         "low": [
          0.5995,
          0.598,
          0.5976,
          0.5955,
          0.5955,
          0.5956,
          0.5952,
          0.5935,
          0.5912,
          0.5922,
          0.5919,
          0.5923,
          0.5914,
          0.5908,
          0.5883,
          0.5889,
          0.5901,
          0.5886,
          0.5868,
          0.5851,
          0.5843,
          0.5858,
          0.5863,
          0.5859,
          0.5856,
          0.5851,
          0.5851,
          0.585,
          0.5861,
          0.5861,
          0.5865,
          0.5866,
          0.5866,
          0.5867,
          0.5867,
          0.5859,
          0.5843,
          0.5822,
          0.5821,
          0.5812,
          0.5819,
          0.5807,
          0.5786,
          0.5781,
          0.578,
          0.5739,
          0.5722,
          0.5715,
          0.5716,
          0.5751,
          0.576,
          0.5781,
          0.5769,
          0.5767,
          0.567,
          0.5697,
          0.5734,
          0.5739,
          0.574,
          0.5758,
          0.5758,
          0.5747,
          0.5732,
          0.5743,
          0.5751,
          0.5758,
          0.5754,
          0.5741,
          0.5744,
          0.5743,
          0.5742,
          0.5729,
          0.5718,
          0.5733,
          0.5742,
          0.574,
          0.5753,
          0.5747,
          0.5737,
          0.5732,
          0.572,
          0.5719,
          0.5723,
          0.5723,
          0.573,
          0.5765,
          0.5768,
          0.5762,
          0.5774,
          0.578,
          0.5797,
          0.5787,
          0.5761,
          0.5746,
          0.5752,
          0.5744,
          0.5748,
          0.5757,
          0.5751,
          0.5746,
          0.5735,
          0.5724,
          0.5724,
          0.5715,
          0.5701,
          0.571,
          0.5733,
          0.5726,
          0.5723,
          0.572,
          0.569,
          0.5698,
          0.5683,
          0.5695,
          0.57,
          0.5694,
          0.567,
          0.5698,
          0.5696,
          0.571,
          0.5721,
          0.5728,
          0.5729,
          0.5744,
          0.5739,
          0.5748,
          0.5754,
          0.5749,
          0.5747,
          0.5752,
          0.5768,
          0.5759,
          0.575,
          0.5746,
          0.5738,
          0.5755
         ],
         "open": [
          0.6006,
          0.5996,
          0.5988,
          0.5972,
          0.5955,
          0.5963,
          0.5956,
          0.5949,
          0.5939,
          0.5925,
          0.5925,
          0.5923,
          0.5926,
          0.5909,
          0.5907,
          0.5889,
          0.5906,
          0.5903,
          0.5891,
          0.587,
          0.5854,
          0.5858,
          0.5869,
          0.5871,
          0.5857,
          0.5858,
          0.5852,
          0.5851,
          0.5866,
          0.5866,
          0.587,
          0.5878,
          0.5868,
          0.5867,
          0.5871,
          0.5875,
          0.5855,
          0.5847,
          0.5827,
          0.5826,
          0.582,
          0.5824,
          0.5815,
          0.5797,
          0.5806,
          0.5783,
          0.5742,
          0.5722,
          0.5733,
          0.5751,
          0.5764,
          0.5785,
          0.5785,
          0.5767,
          0.5791,
          0.5706,
          0.5741,
          0.5745,
          0.5749,
          0.5758,
          0.5768,
          0.5761,
          0.5753,
          0.5743,
          0.5751,
          0.576,
          0.5772,
          0.5757,
          0.5748,
          0.5749,
          0.5752,
          0.5746,
          0.5729,
          0.5733,
          0.5742,
          0.5744,
          0.5762,
          0.5755,
          0.5747,
          0.5732,
          0.573,
          0.5727,
          0.5726,
          0.5728,
          0.573,
          0.5765,
          0.5774,
          0.5762,
          0.5775,
          0.578,
          0.5797,
          0.5802,
          0.5788,
          0.5757,
          0.5752,
          0.576,
          0.5748,
          0.5758,
          0.5753,
          0.5753,
          0.5749,
          0.5735,
          0.5733,
          0.5725,
          0.5715,
          0.5714,
          0.5733,
          0.573,
          0.5725,
          0.5726,
          0.5722,
          0.5698,
          0.5713,
          0.5695,
          0.5707,
          0.5699,
          0.5712,
          0.5704,
          0.5704,
          0.5715,
          0.5721,
          0.5728,
          0.5734,
          0.5745,
          0.5745,
          0.575,
          0.5759,
          0.5754,
          0.5754,
          0.5752,
          0.5768,
          0.5775,
          0.5756,
          0.5756,
          0.5745,
          0.5759
         ],
         "type": "candlestick",
         "x": [
          863,
          864,
          865,
          866,
          867,
          868,
          869,
          870,
          871,
          872,
          873,
          874,
          875,
          876,
          877,
          878,
          879,
          880,
          881,
          882,
          883,
          884,
          885,
          886,
          887,
          888,
          889,
          890,
          891,
          892,
          893,
          894,
          895,
          896,
          897,
          898,
          899,
          900,
          901,
          902,
          903,
          904,
          905,
          906,
          907,
          908,
          909,
          910,
          911,
          912,
          913,
          914,
          915,
          916,
          917,
          918,
          919,
          920,
          921,
          922,
          923,
          924,
          925,
          926,
          927,
          928,
          929,
          930,
          931,
          932,
          933,
          934,
          935,
          936,
          937,
          938,
          939,
          940,
          941,
          942,
          943,
          944,
          945,
          946,
          947,
          948,
          949,
          950,
          951,
          952,
          953,
          954,
          955,
          956,
          957,
          958,
          959,
          960,
          961,
          962,
          963,
          964,
          965,
          966,
          967,
          968,
          969,
          970,
          971,
          972,
          973,
          974,
          975,
          976,
          977,
          978,
          979,
          980,
          981,
          982,
          983,
          984,
          985,
          986,
          987,
          988,
          989,
          990,
          991,
          992,
          993,
          994,
          995,
          996,
          997,
          998
         ]
        },
        {
         "marker": {
          "color": "MediumPurple",
          "size": 4
         },
         "mode": "markers",
         "name": "pivot",
         "type": "scatter",
         "x": [
          863,
          864,
          865,
          866,
          867,
          868,
          869,
          870,
          871,
          872,
          873,
          874,
          875,
          876,
          877,
          878,
          879,
          880,
          881,
          882,
          883,
          884,
          885,
          886,
          887,
          888,
          889,
          890,
          891,
          892,
          893,
          894,
          895,
          896,
          897,
          898,
          899,
          900,
          901,
          902,
          903,
          904,
          905,
          906,
          907,
          908,
          909,
          910,
          911,
          912,
          913,
          914,
          915,
          916,
          917,
          918,
          919,
          920,
          921,
          922,
          923,
          924,
          925,
          926,
          927,
          928,
          929,
          930,
          931,
          932,
          933,
          934,
          935,
          936,
          937,
          938,
          939,
          940,
          941,
          942,
          943,
          944,
          945,
          946,
          947,
          948,
          949,
          950,
          951,
          952,
          953,
          954,
          955,
          956,
          957,
          958,
          959,
          960,
          961,
          962,
          963,
          964,
          965,
          966,
          967,
          968,
          969,
          970,
          971,
          972,
          973,
          974,
          975,
          976,
          977,
          978,
          979,
          980,
          981,
          982,
          983,
          984,
          985,
          986,
          987,
          988,
          989,
          990,
          991,
          992,
          993,
          994,
          995,
          996,
          997,
          998
         ],
         "y": [
          null,
          null,
          null,
          null,
          null,
          null,
          null,
          null,
          0.5902,
          null,
          null,
          null,
          null,
          null,
          0.5873,
          null,
          0.5925,
          null,
          null,
          null,
          0.5833,
          null,
          null,
          null,
          null,
          null,
          null,
          0.584,
          null,
          null,
          null,
          0.5891,
          null,
          null,
          null,
          null,
          null,
          null,
          null,
          null,
          null,
          null,
          null,
          null,
          null,
          null,
          null,
          0.5705,
          null,
          null,
          null,
          null,
          null,
          0.5808,
          0.566,
          null,
          null,
          null,
          null,
          null,
          null,
          null,
          0.5722,
          null,
          null,
          null,
          0.5787,
          0.5731,
          null,
          null,
          null,
          null,
          0.5708,
          null,
          null,
          0.5772,
          0.5772,
          null,
          null,
          null,
          null,
          0.5709,
          null,
          null,
          null,
          0.5806,
          null,
          null,
          null,
          null,
          0.5827,
          null,
          null,
          null,
          null,
          0.5734,
          null,
          null,
          null,
          0.5768,
          null,
          null,
          null,
          null,
          0.5691,
          null,
          0.5752,
          null,
          null,
          null,
          null,
          null,
          0.5673,
          null,
          null,
          0.5725,
          0.566,
          null,
          null,
          null,
          null,
          null,
          null,
          null,
          null,
          null,
          null,
          null,
          0.5737,
          null,
          0.5791,
          null,
          null,
          null,
          null,
          null
         ]
        },
        {
         "mode": "lines",
         "name": "min slope",
         "type": "scatter",
         "x": [
          917,
          925,
          930,
          945
         ],
         "y": [
          0.5674612403100774,
          0.5720007751937984,
          0.5748379844961241,
          0.5833496124031009
         ]
        },
        {
         "mode": "lines",
         "name": "max slope",
         "type": "scatter",
         "x": [
          916,
          929,
          944
         ],
         "y": [
          0.5798,
          0.5777,
          0.575276923076923
         ]
        }
       ],
       "layout": {
        "template": {
         "data": {
          "bar": [
           {
            "error_x": {
             "color": "#2a3f5f"
            },
            "error_y": {
             "color": "#2a3f5f"
            },
            "marker": {
             "line": {
              "color": "#E5ECF6",
              "width": 0.5
             },
             "pattern": {
              "fillmode": "overlay",
              "size": 10,
              "solidity": 0.2
             }
            },
            "type": "bar"
           }
          ],
          "barpolar": [
           {
            "marker": {
             "line": {
              "color": "#E5ECF6",
              "width": 0.5
             },
             "pattern": {
              "fillmode": "overlay",
              "size": 10,
              "solidity": 0.2
             }
            },
            "type": "barpolar"
           }
          ],
          "carpet": [
           {
            "aaxis": {
             "endlinecolor": "#2a3f5f",
             "gridcolor": "white",
             "linecolor": "white",
             "minorgridcolor": "white",
             "startlinecolor": "#2a3f5f"
            },
            "baxis": {
             "endlinecolor": "#2a3f5f",
             "gridcolor": "white",
             "linecolor": "white",
             "minorgridcolor": "white",
             "startlinecolor": "#2a3f5f"
            },
            "type": "carpet"
           }
          ],
          "choropleth": [
           {
            "colorbar": {
             "outlinewidth": 0,
             "ticks": ""
            },
            "type": "choropleth"
           }
          ],
          "contour": [
           {
            "colorbar": {
             "outlinewidth": 0,
             "ticks": ""
            },
            "colorscale": [
             [
              0,
              "#0d0887"
             ],
             [
              0.1111111111111111,
              "#46039f"
             ],
             [
              0.2222222222222222,
              "#7201a8"
             ],
             [
              0.3333333333333333,
              "#9c179e"
             ],
             [
              0.4444444444444444,
              "#bd3786"
             ],
             [
              0.5555555555555556,
              "#d8576b"
             ],
             [
              0.6666666666666666,
              "#ed7953"
             ],
             [
              0.7777777777777778,
              "#fb9f3a"
             ],
             [
              0.8888888888888888,
              "#fdca26"
             ],
             [
              1,
              "#f0f921"
             ]
            ],
            "type": "contour"
           }
          ],
          "contourcarpet": [
           {
            "colorbar": {
             "outlinewidth": 0,
             "ticks": ""
            },
            "type": "contourcarpet"
           }
          ],
          "heatmap": [
           {
            "colorbar": {
             "outlinewidth": 0,
             "ticks": ""
            },
            "colorscale": [
             [
              0,
              "#0d0887"
             ],
             [
              0.1111111111111111,
              "#46039f"
             ],
             [
              0.2222222222222222,
              "#7201a8"
             ],
             [
              0.3333333333333333,
              "#9c179e"
             ],
             [
              0.4444444444444444,
              "#bd3786"
             ],
             [
              0.5555555555555556,
              "#d8576b"
             ],
             [
              0.6666666666666666,
              "#ed7953"
             ],
             [
              0.7777777777777778,
              "#fb9f3a"
             ],
             [
              0.8888888888888888,
              "#fdca26"
             ],
             [
              1,
              "#f0f921"
             ]
            ],
            "type": "heatmap"
           }
          ],
          "heatmapgl": [
           {
            "colorbar": {
             "outlinewidth": 0,
             "ticks": ""
            },
            "colorscale": [
             [
              0,
              "#0d0887"
             ],
             [
              0.1111111111111111,
              "#46039f"
             ],
             [
              0.2222222222222222,
              "#7201a8"
             ],
             [
              0.3333333333333333,
              "#9c179e"
             ],
             [
              0.4444444444444444,
              "#bd3786"
             ],
             [
              0.5555555555555556,
              "#d8576b"
             ],
             [
              0.6666666666666666,
              "#ed7953"
             ],
             [
              0.7777777777777778,
              "#fb9f3a"
             ],
             [
              0.8888888888888888,
              "#fdca26"
             ],
             [
              1,
              "#f0f921"
             ]
            ],
            "type": "heatmapgl"
           }
          ],
          "histogram": [
           {
            "marker": {
             "pattern": {
              "fillmode": "overlay",
              "size": 10,
              "solidity": 0.2
             }
            },
            "type": "histogram"
           }
          ],
          "histogram2d": [
           {
            "colorbar": {
             "outlinewidth": 0,
             "ticks": ""
            },
            "colorscale": [
             [
              0,
              "#0d0887"
             ],
             [
              0.1111111111111111,
              "#46039f"
             ],
             [
              0.2222222222222222,
              "#7201a8"
             ],
             [
              0.3333333333333333,
              "#9c179e"
             ],
             [
              0.4444444444444444,
              "#bd3786"
             ],
             [
              0.5555555555555556,
              "#d8576b"
             ],
             [
              0.6666666666666666,
              "#ed7953"
             ],
             [
              0.7777777777777778,
              "#fb9f3a"
             ],
             [
              0.8888888888888888,
              "#fdca26"
             ],
             [
              1,
              "#f0f921"
             ]
            ],
            "type": "histogram2d"
           }
          ],
          "histogram2dcontour": [
           {
            "colorbar": {
             "outlinewidth": 0,
             "ticks": ""
            },
            "colorscale": [
             [
              0,
              "#0d0887"
             ],
             [
              0.1111111111111111,
              "#46039f"
             ],
             [
              0.2222222222222222,
              "#7201a8"
             ],
             [
              0.3333333333333333,
              "#9c179e"
             ],
             [
              0.4444444444444444,
              "#bd3786"
             ],
             [
              0.5555555555555556,
              "#d8576b"
             ],
             [
              0.6666666666666666,
              "#ed7953"
             ],
             [
              0.7777777777777778,
              "#fb9f3a"
             ],
             [
              0.8888888888888888,
              "#fdca26"
             ],
             [
              1,
              "#f0f921"
             ]
            ],
            "type": "histogram2dcontour"
           }
          ],
          "mesh3d": [
           {
            "colorbar": {
             "outlinewidth": 0,
             "ticks": ""
            },
            "type": "mesh3d"
           }
          ],
          "parcoords": [
           {
            "line": {
             "colorbar": {
              "outlinewidth": 0,
              "ticks": ""
             }
            },
            "type": "parcoords"
           }
          ],
          "pie": [
           {
            "automargin": true,
            "type": "pie"
           }
          ],
          "scatter": [
           {
            "fillpattern": {
             "fillmode": "overlay",
             "size": 10,
             "solidity": 0.2
            },
            "type": "scatter"
           }
          ],
          "scatter3d": [
           {
            "line": {
             "colorbar": {
              "outlinewidth": 0,
              "ticks": ""
             }
            },
            "marker": {
             "colorbar": {
              "outlinewidth": 0,
              "ticks": ""
             }
            },
            "type": "scatter3d"
           }
          ],
          "scattercarpet": [
           {
            "marker": {
             "colorbar": {
              "outlinewidth": 0,
              "ticks": ""
             }
            },
            "type": "scattercarpet"
           }
          ],
          "scattergeo": [
           {
            "marker": {
             "colorbar": {
              "outlinewidth": 0,
              "ticks": ""
             }
            },
            "type": "scattergeo"
           }
          ],
          "scattergl": [
           {
            "marker": {
             "colorbar": {
              "outlinewidth": 0,
              "ticks": ""
             }
            },
            "type": "scattergl"
           }
          ],
          "scattermapbox": [
           {
            "marker": {
             "colorbar": {
              "outlinewidth": 0,
              "ticks": ""
             }
            },
            "type": "scattermapbox"
           }
          ],
          "scatterpolar": [
           {
            "marker": {
             "colorbar": {
              "outlinewidth": 0,
              "ticks": ""
             }
            },
            "type": "scatterpolar"
           }
          ],
          "scatterpolargl": [
           {
            "marker": {
             "colorbar": {
              "outlinewidth": 0,
              "ticks": ""
             }
            },
            "type": "scatterpolargl"
           }
          ],
          "scatterternary": [
           {
            "marker": {
             "colorbar": {
              "outlinewidth": 0,
              "ticks": ""
             }
            },
            "type": "scatterternary"
           }
          ],
          "surface": [
           {
            "colorbar": {
             "outlinewidth": 0,
             "ticks": ""
            },
            "colorscale": [
             [
              0,
              "#0d0887"
             ],
             [
              0.1111111111111111,
              "#46039f"
             ],
             [
              0.2222222222222222,
              "#7201a8"
             ],
             [
              0.3333333333333333,
              "#9c179e"
             ],
             [
              0.4444444444444444,
              "#bd3786"
             ],
             [
              0.5555555555555556,
              "#d8576b"
             ],
             [
              0.6666666666666666,
              "#ed7953"
             ],
             [
              0.7777777777777778,
              "#fb9f3a"
             ],
             [
              0.8888888888888888,
              "#fdca26"
             ],
             [
              1,
              "#f0f921"
             ]
            ],
            "type": "surface"
           }
          ],
          "table": [
           {
            "cells": {
             "fill": {
              "color": "#EBF0F8"
             },
             "line": {
              "color": "white"
             }
            },
            "header": {
             "fill": {
              "color": "#C8D4E3"
             },
             "line": {
              "color": "white"
             }
            },
            "type": "table"
           }
          ]
         },
         "layout": {
          "annotationdefaults": {
           "arrowcolor": "#2a3f5f",
           "arrowhead": 0,
           "arrowwidth": 1
          },
          "autotypenumbers": "strict",
          "coloraxis": {
           "colorbar": {
            "outlinewidth": 0,
            "ticks": ""
           }
          },
          "colorscale": {
           "diverging": [
            [
             0,
             "#8e0152"
            ],
            [
             0.1,
             "#c51b7d"
            ],
            [
             0.2,
             "#de77ae"
            ],
            [
             0.3,
             "#f1b6da"
            ],
            [
             0.4,
             "#fde0ef"
            ],
            [
             0.5,
             "#f7f7f7"
            ],
            [
             0.6,
             "#e6f5d0"
            ],
            [
             0.7,
             "#b8e186"
            ],
            [
             0.8,
             "#7fbc41"
            ],
            [
             0.9,
             "#4d9221"
            ],
            [
             1,
             "#276419"
            ]
           ],
           "sequential": [
            [
             0,
             "#0d0887"
            ],
            [
             0.1111111111111111,
             "#46039f"
            ],
            [
             0.2222222222222222,
             "#7201a8"
            ],
            [
             0.3333333333333333,
             "#9c179e"
            ],
            [
             0.4444444444444444,
             "#bd3786"
            ],
            [
             0.5555555555555556,
             "#d8576b"
            ],
            [
             0.6666666666666666,
             "#ed7953"
            ],
            [
             0.7777777777777778,
             "#fb9f3a"
            ],
            [
             0.8888888888888888,
             "#fdca26"
            ],
            [
             1,
             "#f0f921"
            ]
           ],
           "sequentialminus": [
            [
             0,
             "#0d0887"
            ],
            [
             0.1111111111111111,
             "#46039f"
            ],
            [
             0.2222222222222222,
             "#7201a8"
            ],
            [
             0.3333333333333333,
             "#9c179e"
            ],
            [
             0.4444444444444444,
             "#bd3786"
            ],
            [
             0.5555555555555556,
             "#d8576b"
            ],
            [
             0.6666666666666666,
             "#ed7953"
            ],
            [
             0.7777777777777778,
             "#fb9f3a"
            ],
            [
             0.8888888888888888,
             "#fdca26"
            ],
            [
             1,
             "#f0f921"
            ]
           ]
          },
          "colorway": [
           "#636efa",
           "#EF553B",
           "#00cc96",
           "#ab63fa",
           "#FFA15A",
           "#19d3f3",
           "#FF6692",
           "#B6E880",
           "#FF97FF",
           "#FECB52"
          ],
          "font": {
           "color": "#2a3f5f"
          },
          "geo": {
           "bgcolor": "white",
           "lakecolor": "white",
           "landcolor": "#E5ECF6",
           "showlakes": true,
           "showland": true,
           "subunitcolor": "white"
          },
          "hoverlabel": {
           "align": "left"
          },
          "hovermode": "closest",
          "mapbox": {
           "style": "light"
          },
          "paper_bgcolor": "white",
          "plot_bgcolor": "#E5ECF6",
          "polar": {
           "angularaxis": {
            "gridcolor": "white",
            "linecolor": "white",
            "ticks": ""
           },
           "bgcolor": "#E5ECF6",
           "radialaxis": {
            "gridcolor": "white",
            "linecolor": "white",
            "ticks": ""
           }
          },
          "scene": {
           "xaxis": {
            "backgroundcolor": "#E5ECF6",
            "gridcolor": "white",
            "gridwidth": 2,
            "linecolor": "white",
            "showbackground": true,
            "ticks": "",
            "zerolinecolor": "white"
           },
           "yaxis": {
            "backgroundcolor": "#E5ECF6",
            "gridcolor": "white",
            "gridwidth": 2,
            "linecolor": "white",
            "showbackground": true,
            "ticks": "",
            "zerolinecolor": "white"
           },
           "zaxis": {
            "backgroundcolor": "#E5ECF6",
            "gridcolor": "white",
            "gridwidth": 2,
            "linecolor": "white",
            "showbackground": true,
            "ticks": "",
            "zerolinecolor": "white"
           }
          },
          "shapedefaults": {
           "line": {
            "color": "#2a3f5f"
           }
          },
          "ternary": {
           "aaxis": {
            "gridcolor": "white",
            "linecolor": "white",
            "ticks": ""
           },
           "baxis": {
            "gridcolor": "white",
            "linecolor": "white",
            "ticks": ""
           },
           "bgcolor": "#E5ECF6",
           "caxis": {
            "gridcolor": "white",
            "linecolor": "white",
            "ticks": ""
           }
          },
          "title": {
           "x": 0.05
          },
          "xaxis": {
           "automargin": true,
           "gridcolor": "white",
           "linecolor": "white",
           "ticks": "",
           "title": {
            "standoff": 15
           },
           "zerolinecolor": "white",
           "zerolinewidth": 2
          },
          "yaxis": {
           "automargin": true,
           "gridcolor": "white",
           "linecolor": "white",
           "ticks": "",
           "title": {
            "standoff": 15
           },
           "zerolinecolor": "white",
           "zerolinewidth": 2
          }
         }
        },
        "xaxis": {
         "rangeslider": {
          "visible": false
         }
        }
       }
      }
     },
     "metadata": {},
     "output_type": "display_data"
    },
    {
     "name": "stdout",
     "output_type": "stream",
     "text": [
      "linea superior. X: [916. 929. 944.] - y: [0.5798     0.5777     0.57527692]\n",
      "linea inferior. X: [917. 925. 930. 945.] - y: [0.56746124 0.57200078 0.57483798 0.58334961]\n"
     ]
    }
   ],
   "source": [
    "md.dibuja_patrones_triangulos (data,933) "
   ]
  }
 ],
 "metadata": {
  "kernelspec": {
   "display_name": "Python 3 (ipykernel)",
   "language": "python",
   "name": "python3"
  },
  "language_info": {
   "codemirror_mode": {
    "name": "ipython",
    "version": 3
   },
   "file_extension": ".py",
   "mimetype": "text/x-python",
   "name": "python",
   "nbconvert_exporter": "python",
   "pygments_lexer": "ipython3",
   "version": "3.10.11"
  }
 },
 "nbformat": 4,
 "nbformat_minor": 5
}
