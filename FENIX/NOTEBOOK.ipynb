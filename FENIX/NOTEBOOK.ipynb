{
 "cells": [
  {
   "cell_type": "code",
   "execution_count": 2,
   "id": "644b19e1",
   "metadata": {},
   "outputs": [
    {
     "name": "stdout",
     "output_type": "stream",
     "text": [
      "['BTCUSDT', 'ETHUSDT', 'BCHUSDT', 'XRPUSDT', 'EOSUSDT', 'LTCUSDT', 'ETCUSDT', 'LINKUSDT', 'ADAUSDT', 'BNBUSDT', 'NEOUSDT', 'DOGEUSDT', 'DOTUSDT', 'TRBUSDT', 'RUNEUSDT', 'SOLUSDT', 'AVAXUSDT', 'FTMUSDT', 'NEARUSDT', 'FILUSDT', 'MATICUSDT', 'MASKUSDT', 'DYDXUSDT', 'GALAUSDT', 'APEUSDT', 'OPUSDT', 'INJUSDT', 'APTUSDT', 'MINAUSDT', 'CFXUSDT', 'LQTYUSDT', 'ARBUSDT', 'SUIUSDT', 'WLDUSDT', 'AGLDUSDT', 'CYBERUSDT', 'HIFIUSDT', 'ARKUSDT', 'LOOMUSDT', 'BONDUSDT', 'WAXPUSDT', 'POLYXUSDT', 'GASUSDT']\n",
      "BTCUSDT - Return [%]: 5.51% - # Trades: 3 - Profit Factor: 13.10947854350091 - Win Rate [%]: 66.66666666666666\n",
      "ETHUSDT - Return [%]: 2.49% - # Trades: 4 - Profit Factor: 2.966378265507386 - Win Rate [%]: 25.0\n",
      "BCHUSDT - Return [%]: 2.18% - # Trades: 7 - Profit Factor: 1.3715217627457184 - Win Rate [%]: 14.285714285714285\n",
      "XRPUSDT - Return [%]: 6.54% - # Trades: 7 - Profit Factor: 2.5965382773078596 - Win Rate [%]: 42.857142857142854\n",
      "EOSUSDT - Return [%]: -0.66% - # Trades: 1 - Profit Factor: 0.0 - Win Rate [%]: 0.0\n",
      "LTCUSDT - Return [%]: 6.4% - # Trades: 8 - Profit Factor: 3.0241640951316895 - Win Rate [%]: 25.0\n",
      "ETCUSDT - Return [%]: 11.95% - # Trades: 7 - Profit Factor: 6.826960896817786 - Win Rate [%]: 42.857142857142854\n",
      "LINKUSDT - Return [%]: 0.67% - # Trades: 6 - Profit Factor: 0.9248840500957956 - Win Rate [%]: 16.666666666666664\n",
      "ADAUSDT - Return [%]: 6.97% - # Trades: 6 - Profit Factor: 3.9594757573697583 - Win Rate [%]: 33.33333333333333\n",
      "BNBUSDT - Return [%]: 0.44% - # Trades: 7 - Profit Factor: 1.1820585500349206 - Win Rate [%]: 28.57142857142857\n",
      "NEOUSDT - Return [%]: -2.33% - # Trades: 6 - Profit Factor: 0.6624313728682705 - Win Rate [%]: 16.666666666666664\n",
      "DOGEUSDT - Return [%]: 4.17% - # Trades: 8 - Profit Factor: 2.16799955468222 - Win Rate [%]: 37.5\n",
      "DOTUSDT - Return [%]: 8.0% - # Trades: 8 - Profit Factor: 2.803149483601251 - Win Rate [%]: 37.5\n",
      "TRBUSDT - Return [%]: -10.62% - # Trades: 7 - Profit Factor: 0.011577055419161222 - Win Rate [%]: 14.285714285714285\n",
      "RUNEUSDT - Return [%]: 1.78% - # Trades: 5 - Profit Factor: 1.635642141214645 - Win Rate [%]: 20.0\n",
      "SOLUSDT - Return [%]: 39.31% - # Trades: 8 - Profit Factor: 11.967045420406226 - Win Rate [%]: 62.5\n",
      "AVAXUSDT - Return [%]: 3.8% - # Trades: 6 - Profit Factor: 1.8923569667388818 - Win Rate [%]: 16.666666666666664\n",
      "FTMUSDT - Return [%]: 14.92% - # Trades: 7 - Profit Factor: 6.91456103725626 - Win Rate [%]: 42.857142857142854\n"
     ]
    },
    {
     "name": "stderr",
     "output_type": "stream",
     "text": [
      "C:\\Users\\Luis Gomez Freites\\AppData\\Local\\Packages\\PythonSoftwareFoundation.Python.3.10_qbz5n2kfra8p0\\LocalCache\\local-packages\\Python310\\site-packages\\backtesting\\_stats.py:122: RuntimeWarning: divide by zero encountered in double_scalars\n",
      "  s.loc['Sortino Ratio'] = np.clip((annualized_return - risk_free_rate) / (np.sqrt(np.mean(day_returns.clip(-np.inf, 0)**2)) * np.sqrt(annual_trading_days)), 0, np.inf)  # noqa: E501\n"
     ]
    },
    {
     "name": "stdout",
     "output_type": "stream",
     "text": [
      "NEARUSDT - Return [%]: 21.37% - # Trades: 7 - Profit Factor: 5.400567779749979 - Win Rate [%]: 57.14285714285714\n",
      "FILUSDT - Return [%]: -2.52% - # Trades: 4 - Profit Factor: 0.0 - Win Rate [%]: 0.0\n",
      "MATICUSDT - Return [%]: -1.78% - # Trades: 7 - Profit Factor: 0.6690260112608412 - Win Rate [%]: 14.285714285714285\n",
      "MASKUSDT - Return [%]: 11.84% - # Trades: 6 - Profit Factor: 9.350051264865463 - Win Rate [%]: 50.0\n",
      "DYDXUSDT - Return [%]: 13.32% - # Trades: 8 - Profit Factor: 8.294309925930257 - Win Rate [%]: 50.0\n",
      "GALAUSDT - Return [%]: -3.58% - # Trades: 6 - Profit Factor: 0.24586432803566236 - Win Rate [%]: 16.666666666666664\n",
      "APEUSDT - Return [%]: 1.44% - # Trades: 6 - Profit Factor: 1.3957736040589392 - Win Rate [%]: 33.33333333333333\n",
      "OPUSDT - Return [%]: 15.45% - # Trades: 6 - Profit Factor: 6.778731666000038 - Win Rate [%]: 50.0\n",
      "INJUSDT - Return [%]: 17.73% - # Trades: 7 - Profit Factor: 13.415090020969828 - Win Rate [%]: 42.857142857142854\n",
      "APTUSDT - Return [%]: 18.42% - # Trades: 7 - Profit Factor: 9.460465239976529 - Win Rate [%]: 42.857142857142854\n",
      "MINAUSDT - Return [%]: -2.84% - # Trades: 7 - Profit Factor: 0.5122608489930893 - Win Rate [%]: 14.285714285714285\n",
      "CFXUSDT - Return [%]: 16.9% - # Trades: 5 - Profit Factor: 9.573197938127226 - Win Rate [%]: 60.0\n",
      "LQTYUSDT - Return [%]: 2.68% - # Trades: 7 - Profit Factor: 1.3393255662803056 - Win Rate [%]: 14.285714285714285\n",
      "ARBUSDT - Return [%]: 4.86% - # Trades: 7 - Profit Factor: 1.851671689109118 - Win Rate [%]: 28.57142857142857\n",
      "SUIUSDT - Return [%]: 5.79% - # Trades: 8 - Profit Factor: 1.8216977433065702 - Win Rate [%]: 25.0\n",
      "WLDUSDT - Return [%]: 2.61% - # Trades: 6 - Profit Factor: 1.4148143014065948 - Win Rate [%]: 16.666666666666664\n",
      "AGLDUSDT - Return [%]: 11.58% - # Trades: 8 - Profit Factor: 3.9306410505630036 - Win Rate [%]: 37.5\n",
      "CYBERUSDT - Return [%]: 0.98% - # Trades: 6 - Profit Factor: 1.1445961618472913 - Win Rate [%]: 16.666666666666664\n",
      "HIFIUSDT - Return [%]: 2.41% - # Trades: 4 - Profit Factor: 2.138524687946798 - Win Rate [%]: 25.0\n",
      "ARKUSDT - Return [%]: 5.13% - # Trades: 9 - Profit Factor: 1.917057626833363 - Win Rate [%]: 11.11111111111111\n",
      "LOOMUSDT - Return [%]: 16.89% - # Trades: 3 - Profit Factor: 5.056131275493265 - Win Rate [%]: 66.66666666666666\n",
      "BONDUSDT - Return [%]: -2.84% - # Trades: 6 - Profit Factor: 0.14567192829561848 - Win Rate [%]: 16.666666666666664\n",
      "WAXPUSDT - Return [%]: -1.43% - # Trades: 2 - Profit Factor: 0.0 - Win Rate [%]: 0.0\n",
      "POLYXUSDT - Return [%]: 0.0% - # Trades: 0 - Profit Factor: nan - Win Rate [%]: nan\n",
      "GASUSDT - Return [%]: -1.99% - # Trades: 1 - Profit Factor: 0.0 - Win Rate [%]: 0.0\n",
      "\n",
      "Timeframe 15m - porcentajes_sumados 254.03 - trades 254 - win_rate_buenos 8 - win_rate_malos 35\n"
     ]
    }
   ],
   "source": [
    "import modulos as md\n",
    "import numpy as np\n",
    "import os\n",
    "import sys\n",
    "import constantes as cons\n",
    "lista_filtrada = []\n",
    "#lista=md.filtradodemonedas ()\n",
    "#lista = ['BTCUSDT', 'ETHUSDT', 'BCHUSDT', 'XRPUSDT', 'EOSUSDT', 'LTCUSDT', 'ETCUSDT', 'LINKUSDT', 'ADAUSDT', 'BNBUSDT', 'NEOUSDT', 'DOGEUSDT', 'DOTUSDT', 'TRBUSDT', 'RUNEUSDT', 'SOLUSDT', 'AVAXUSDT', 'FTMUSDT', 'NEARUSDT', 'FILUSDT', 'MATICUSDT', 'MASKUSDT', 'DYDXUSDT', 'GALAUSDT', 'APEUSDT', 'OPUSDT', 'INJUSDT', 'APTUSDT', 'MINAUSDT', 'CFXUSDT', 'LQTYUSDT', 'ARBUSDT', 'SUIUSDT', 'WLDUSDT', 'AGLDUSDT', 'CYBERUSDT', 'HIFIUSDT', 'ARKUSDT', 'LOOMUSDT', 'BONDUSDT', 'WAXPUSDT', 'POLYXUSDT', 'GASUSDT']\n",
    "lista = ['SOLUSDT']\n",
    "\n",
    "timeframe='15m'\n",
    "if len(lista)>1:\n",
    "    imprimo=False\n",
    "    debug=False\n",
    "else:\n",
    "    imprimo= True\n",
    "    debug=True\n",
    "print(lista)\n",
    "porcentajes_sumados=0\n",
    "win_rate_buenos = 0\n",
    "win_rate_malos = 0\n",
    "trades = 0\n",
    "for symbol in lista:    \n",
    "    try:\n",
    "        #print(symbol)\n",
    "        data = md.estrategia_smart(symbol, debug = False, refinado = False, file_source = False, timeframe = timeframe)\n",
    "        resultado=md.backtesting_smart(data, plot_flag=imprimo, symbol=symbol)\n",
    "        if resultado['Win Rate [%]'] >= 50:\n",
    "            lista_filtrada.append(symbol)\n",
    "        print(f\"{symbol} - Return [%]: {md.truncate(resultado['Return [%]'],2)}% - # Trades: {resultado['# Trades']} - Profit Factor: {resultado['Profit Factor']} - Win Rate [%]: {resultado['Win Rate [%]']}\")\n",
    "        porcentajes_sumados=porcentajes_sumados+resultado['Return [%]']\n",
    "        trades = trades + resultado['# Trades']\n",
    "        if resultado['Win Rate [%]'] >= 50:\n",
    "            win_rate_buenos = win_rate_buenos+1\n",
    "        else:\n",
    "            win_rate_malos = win_rate_malos+1\n",
    "    except Exception as falla:\n",
    "        _, _, exc_tb = sys.exc_info()\n",
    "        fname = os.path.split(exc_tb.tb_frame.f_code.co_filename)[1]\n",
    "        print(\"\\nError: \"+str(falla)+\" - line: \"+str(exc_tb.tb_lineno)+\" - file: \"+str(fname)+\"\\n\")\n",
    "        pass\n",
    "for symbol in lista_filtrada:\n",
    "    md.printandlog(cons.nombrelog,symbol,pal=1)\n",
    "print(f\"\\nTimeframe {timeframe} - porcentajes_sumados {md.truncate(porcentajes_sumados,2)} - trades {trades} - win_rate_buenos {win_rate_buenos} - win_rate_malos {win_rate_malos}\")\n",
    "#(data.loc[data['Open Time'] == '2023-10-03 03:00:00'])\n"
   ]
  },
  {
   "cell_type": "code",
   "execution_count": 4,
   "id": "e788fe24",
   "metadata": {},
   "outputs": [
    {
     "name": "stdout",
     "output_type": "stream",
     "text": [
      "48.92M\n"
     ]
    }
   ],
   "source": [
    "\n",
    "import modulos as md\n",
    "from numerize import numerize\n",
    "symbol='POLYXUSDT'\n",
    "print(numerize.numerize(md.obtiene_capitalizacion(symbol)))\n"
   ]
  }
 ],
 "metadata": {
  "kernelspec": {
   "display_name": "Python 3 (ipykernel)",
   "language": "python",
   "name": "python3"
  },
  "language_info": {
   "codemirror_mode": {
    "name": "ipython",
    "version": 3
   },
   "file_extension": ".py",
   "mimetype": "text/x-python",
   "name": "python",
   "nbconvert_exporter": "python",
   "pygments_lexer": "ipython3",
   "version": "3.10.11"
  }
 },
 "nbformat": 4,
 "nbformat_minor": 5
}
