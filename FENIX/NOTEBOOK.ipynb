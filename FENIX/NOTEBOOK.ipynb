{
 "cells": [
  {
   "cell_type": "code",
   "execution_count": 8,
   "id": "cd995f0a",
   "metadata": {},
   "outputs": [],
   "source": [
    "###################################### FILTRADO DE MONEDAS PARA ESTRATEGIA SANTAAAAAA\n",
    "###################################################################################################################\n",
    "import modulos as md\n",
    "import numpy as np\n",
    "#lista=['CELOUSDT']\n",
    "lista=md.lista_de_monedas()\n",
    "for symbol in lista:\n",
    "    try:\n",
    "        data = md.estrategia_santa(symbol, tp_flag = True)\n",
    "        resultado = md.backtesting(data, plot_flag = False)\n",
    "        if (resultado['Profit Factor']>1 or resultado['Return [%]'] >0) and resultado['Win Rate [%]']>50:\n",
    "        #if resultado['Win Rate [%]']>50:\n",
    "            print(f\"{symbol} - Return [%]: {md.truncate(resultado['Return [%]'],2)}% - # Trades: {resultado['# Trades']} - Profit Factor: {md.truncate(resultado['Profit Factor'],2)} - Win Rate [%]: {md.truncate(resultado['Win Rate [%]'],2)}\")\n",
    "    except Exception as falla:\n",
    "        pass\n"
   ]
  },
  {
   "cell_type": "code",
   "execution_count": 2,
   "id": "c031504d",
   "metadata": {},
   "outputs": [
    {
     "data": {
      "text/plain": [
       "Start                     2023-07-02 04:00:00\n",
       "End                       2023-07-12 13:45:00\n",
       "Duration                     10 days 09:45:00\n",
       "Exposure Time [%]                         5.0\n",
       "Equity Final [$]                    1013.2904\n",
       "Equity Peak [$]                   1046.799271\n",
       "Return [%]                            1.32904\n",
       "Buy & Hold Return [%]                3.773585\n",
       "Return (Ann.) [%]                    0.433157\n",
       "Volatility (Ann.) [%]               14.791067\n",
       "Sharpe Ratio                         0.029285\n",
       "Sortino Ratio                        0.044774\n",
       "Calmar Ratio                         0.111205\n",
       "Max. Drawdown [%]                   -3.895107\n",
       "Avg. Drawdown [%]                   -2.378819\n",
       "Max. Drawdown Duration        8 days 05:15:00\n",
       "Avg. Drawdown Duration        4 days 03:15:00\n",
       "# Trades                                   11\n",
       "Win Rate [%]                        54.545455\n",
       "Best Trade [%]                       2.370886\n",
       "Worst Trade [%]                     -1.665551\n",
       "Avg. Trade [%]                       0.148726\n",
       "Max. Trade Duration           0 days 03:15:00\n",
       "Avg. Trade Duration           0 days 00:54:00\n",
       "Profit Factor                        1.239337\n",
       "Expectancy [%]                       0.161123\n",
       "SQN                                  0.417008\n",
       "_strategy                               Fenix\n",
       "_equity_curve                             ...\n",
       "_trades                       Size  EntryB...\n",
       "dtype: object"
      ]
     },
     "execution_count": 2,
     "metadata": {},
     "output_type": "execute_result"
    }
   ],
   "source": [
    "resultado"
   ]
  },
  {
   "cell_type": "code",
   "execution_count": 1,
   "id": "2d7ba37d",
   "metadata": {},
   "outputs": [
    {
     "name": "stderr",
     "output_type": "stream",
     "text": [
      "C:\\Users\\Luis Gomez Freites\\AppData\\Local\\Packages\\PythonSoftwareFoundation.Python.3.10_qbz5n2kfra8p0\\LocalCache\\local-packages\\Python310\\site-packages\\tqdm\\auto.py:22: TqdmWarning: IProgress not found. Please update jupyter and ipywidgets. See https://ipywidgets.readthedocs.io/en/stable/user_install.html\n",
      "  from .autonotebook import tqdm as notebook_tqdm\n"
     ]
    },
    {
     "name": "stdout",
     "output_type": "stream",
     "text": [
      "BATUSDT - Return [%]: 2.52% - # Trades: 6 - Profit Factor: 7.92\n",
      "THETAUSDT - Return [%]: 3.99% - # Trades: 6 - Profit Factor: 2.48\n"
     ]
    },
    {
     "name": "stderr",
     "output_type": "stream",
     "text": [
      "c:\\LUCHO\\personal\\repopersonal\\luchocrypto\\FENIX\\modulos.py:313: UserWarning: Some prices are larger than initial cash value. Note that fractional trading is not supported. If you want to trade Bitcoin, increase initial cash, or trade μBTC or satoshis instead (GH-134).\n",
      "  bt = Backtest(data, Fenix, cash=1000)\n",
      "c:\\LUCHO\\personal\\repopersonal\\luchocrypto\\FENIX\\modulos.py:313: UserWarning: Some prices are larger than initial cash value. Note that fractional trading is not supported. If you want to trade Bitcoin, increase initial cash, or trade μBTC or satoshis instead (GH-134).\n",
      "  bt = Backtest(data, Fenix, cash=1000)\n"
     ]
    },
    {
     "name": "stdout",
     "output_type": "stream",
     "text": [
      "ENJUSDT - Return [%]: 3.77% - # Trades: 9 - Profit Factor: 4.04\n"
     ]
    },
    {
     "name": "stderr",
     "output_type": "stream",
     "text": [
      "C:\\Users\\Luis Gomez Freites\\AppData\\Local\\Packages\\PythonSoftwareFoundation.Python.3.10_qbz5n2kfra8p0\\LocalCache\\local-packages\\Python310\\site-packages\\backtesting\\_stats.py:122: RuntimeWarning: divide by zero encountered in double_scalars\n",
      "  s.loc['Sortino Ratio'] = np.clip((annualized_return - risk_free_rate) / (np.sqrt(np.mean(day_returns.clip(-np.inf, 0)**2)) * np.sqrt(annual_trading_days)), 0, np.inf)  # noqa: E501\n"
     ]
    },
    {
     "name": "stdout",
     "output_type": "stream",
     "text": [
      "OCEANUSDT - Return [%]: 2.92% - # Trades: 5 - Profit Factor: 6.91\n",
      "BELUSDT - Return [%]: 4.09% - # Trades: 10 - Profit Factor: 1.83\n",
      "1INCHUSDT - Return [%]: 3.93% - # Trades: 9 - Profit Factor: 3.19\n",
      "JOEUSDT - Return [%]: 3.9% - # Trades: 8 - Profit Factor: 3.15\n",
      "RDNTUSDT - Return [%]: 2.32% - # Trades: 7 - Profit Factor: 2.98\n",
      "SUIUSDT - Return [%]: 7.11% - # Trades: 9 - Profit Factor: 2.92\n",
      "COMBOUSDT - Return [%]: 5.66% - # Trades: 10 - Profit Factor: 1.93\n"
     ]
    }
   ],
   "source": [
    "###################################### FILTRADO DE MONEDAS PARA ESTRATEGIA BB\n",
    "###################################################################################################################\n",
    "\n",
    "import modulos as md\n",
    "import numpy as np\n",
    "#lista=['SRMUSDT']\n",
    "lista=md.lista_de_monedas()\n",
    "for symbol in lista:\n",
    "    try:\n",
    "        data = md.estrategia_bb(symbol, tp_flag = True)\n",
    "        resultado = md.backtesting(data, plot_flag = False)\n",
    "        if resultado['Profit Factor'] > 1 and resultado[6]/resultado[17] >=0.3:\n",
    "            print(f\"{symbol} - Return [%]: {md.truncate(resultado['Return [%]'],2)}% - # Trades: {resultado['# Trades']} - Profit Factor: {md.truncate(resultado['Profit Factor'],2)}\")\n",
    "    except Exception as falla:\n",
    "        pass"
   ]
  }
 ],
 "metadata": {
  "kernelspec": {
   "display_name": "Python 3 (ipykernel)",
   "language": "python",
   "name": "python3"
  },
  "language_info": {
   "codemirror_mode": {
    "name": "ipython",
    "version": 3
   },
   "file_extension": ".py",
   "mimetype": "text/x-python",
   "name": "python",
   "nbconvert_exporter": "python",
   "pygments_lexer": "ipython3",
   "version": "3.10.11"
  }
 },
 "nbformat": 4,
 "nbformat_minor": 5
}
