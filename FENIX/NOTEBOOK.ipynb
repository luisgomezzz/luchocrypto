{
 "cells": [
  {
   "cell_type": "code",
   "execution_count": 8,
   "id": "cd995f0a",
   "metadata": {},
   "outputs": [
    {
     "name": "stdout",
     "output_type": "stream",
     "text": [
      "EOSUSDT - Return [%]: 0.5% - # Trades: 3 - Profit Factor: 1.89 - Win Rate [%]: 66.66\n",
      "ONTUSDT - Return [%]: 0.53% - # Trades: 4 - Profit Factor: 3.22 - Win Rate [%]: 75.0\n",
      "BATUSDT - Return [%]: 0.04% - # Trades: 3 - Profit Factor: 1.18 - Win Rate [%]: 66.66\n",
      "ALGOUSDT - Return [%]: 0.16% - # Trades: 3 - Profit Factor: 5.83 - Win Rate [%]: 66.66\n",
      "OMGUSDT - Return [%]: 0.79% - # Trades: 5 - Profit Factor: 1.82 - Win Rate [%]: 60.0\n"
     ]
    },
    {
     "name": "stderr",
     "output_type": "stream",
     "text": [
      "c:\\LUCHO\\personal\\repopersonal\\luchocrypto\\FENIX\\modulos.py:313: UserWarning: Some prices are larger than initial cash value. Note that fractional trading is not supported. If you want to trade Bitcoin, increase initial cash, or trade μBTC or satoshis instead (GH-134).\n",
      "  bt = Backtest(data, Fenix, cash=1000)\n",
      "c:\\LUCHO\\personal\\repopersonal\\luchocrypto\\FENIX\\modulos.py:313: UserWarning: Some prices are larger than initial cash value. Note that fractional trading is not supported. If you want to trade Bitcoin, increase initial cash, or trade μBTC or satoshis instead (GH-134).\n",
      "  bt = Backtest(data, Fenix, cash=1000)\n"
     ]
    },
    {
     "name": "stdout",
     "output_type": "stream",
     "text": [
      "SUSHIUSDT - Return [%]: 0.5% - # Trades: 7 - Profit Factor: 1.23 - Win Rate [%]: 57.14\n",
      "SRMUSDT - Return [%]: 1.78% - # Trades: 20 - Profit Factor: 1.52 - Win Rate [%]: 75.0\n",
      "FLMUSDT - Return [%]: 0.11% - # Trades: 3 - Profit Factor: 2.34 - Win Rate [%]: 66.66\n",
      "MATICUSDT - Return [%]: 0.81% - # Trades: 7 - Profit Factor: 1.49 - Win Rate [%]: 57.14\n",
      "OCEANUSDT - Return [%]: 0.31% - # Trades: 5 - Profit Factor: 1.38 - Win Rate [%]: 60.0\n",
      "CVCUSDT - Return [%]: 0.38% - # Trades: 5 - Profit Factor: 5.82 - Win Rate [%]: 80.0\n",
      "RVNUSDT - Return [%]: 0.03% - # Trades: 4 - Profit Factor: 2.08 - Win Rate [%]: 75.0\n",
      "NKNUSDT - Return [%]: 0.11% - # Trades: 8 - Profit Factor: 1.34 - Win Rate [%]: 62.5\n",
      "SCUSDT - Return [%]: 0.01% - # Trades: 8 - Profit Factor: 2.04 - Win Rate [%]: 62.5\n",
      "BAKEUSDT - Return [%]: 0.09% - # Trades: 6 - Profit Factor: 1.39 - Win Rate [%]: 66.66\n",
      "CELOUSDT - Return [%]: 1.32% - # Trades: 11 - Profit Factor: 1.23 - Win Rate [%]: 54.54\n",
      "FLOWUSDT - Return [%]: -0.01% - # Trades: 9 - Profit Factor: 1.06 - Win Rate [%]: 55.55\n",
      "MAGICUSDT - Return [%]: 0.43% - # Trades: 3 - Profit Factor: 1.4 - Win Rate [%]: 66.66\n",
      "AGIXUSDT - Return [%]: 0.27% - # Trades: 6 - Profit Factor: 1.33 - Win Rate [%]: 66.66\n",
      "ACHUSDT - Return [%]: 0.0% - # Trades: 3 - Profit Factor: 1.41 - Win Rate [%]: 66.66\n",
      "TRUUSDT - Return [%]: 0.06% - # Trades: 4 - Profit Factor: 2.07 - Win Rate [%]: 75.0\n",
      "RDNTUSDT - Return [%]: 0.25% - # Trades: 6 - Profit Factor: 1.35 - Win Rate [%]: 66.66\n",
      "EDUUSDT - Return [%]: 1.08% - # Trades: 8 - Profit Factor: 1.37 - Win Rate [%]: 62.5\n",
      "SUIUSDT - Return [%]: 0.42% - # Trades: 3 - Profit Factor: 1.44 - Win Rate [%]: 66.66\n",
      "XVGUSDT - Return [%]: 0.14% - # Trades: 27 - Profit Factor: 1.49 - Win Rate [%]: 62.96\n"
     ]
    }
   ],
   "source": [
    "###################################### FILTRADO DE MONEDAS PARA ESTRATEGIA SANTAAAAAA\n",
    "###################################################################################################################\n",
    "import modulos as md\n",
    "import numpy as np\n",
    "#lista=['CELOUSDT']\n",
    "lista=md.lista_de_monedas()\n",
    "for symbol in lista:\n",
    "    try:\n",
    "        data = md.estrategia_santa(symbol, tp_flag = True)\n",
    "        resultado = md.backtesting(data, plot_flag = False)\n",
    "        if (resultado['Profit Factor']>1 or resultado['Return [%]'] >0) and resultado['Win Rate [%]']>50:\n",
    "        #if resultado['Win Rate [%]']>50:\n",
    "            print(f\"{symbol} - Return [%]: {md.truncate(resultado['Return [%]'],2)}% - # Trades: {resultado['# Trades']} - Profit Factor: {md.truncate(resultado['Profit Factor'],2)} - Win Rate [%]: {md.truncate(resultado['Win Rate [%]'],2)}\")\n",
    "    except Exception as falla:\n",
    "        pass\n"
   ]
  },
  {
   "cell_type": "code",
   "execution_count": null,
   "id": "2d7ba37d",
   "metadata": {},
   "outputs": [],
   "source": [
    "###################################### FILTRADO DE MONEDAS PARA ESTRATEGIA BB\n",
    "###################################################################################################################\n",
    "\n",
    "import modulos as md\n",
    "import numpy as np\n",
    "#lista=['SRMUSDT']\n",
    "lista=md.lista_de_monedas()\n",
    "for symbol in lista:\n",
    "    try:\n",
    "        data = md.estrategia_bb(symbol, tp_flag = True)\n",
    "        resultado = md.backtesting(data, plot_flag = False)\n",
    "        if resultado['Profit Factor'] > 1 and resultado[6]/resultado[17] >=0.3:\n",
    "            print(f\"{symbol} - Return [%]: {md.truncate(resultado['Return [%]'],2)}% - # Trades: {resultado['# Trades']} - Profit Factor: {md.truncate(resultado['Profit Factor'],2)}\")\n",
    "    except Exception as falla:\n",
    "        pass"
   ]
  }
 ],
 "metadata": {
  "kernelspec": {
   "display_name": "Python 3 (ipykernel)",
   "language": "python",
   "name": "python3"
  },
  "language_info": {
   "codemirror_mode": {
    "name": "ipython",
    "version": 3
   },
   "file_extension": ".py",
   "mimetype": "text/x-python",
   "name": "python",
   "nbconvert_exporter": "python",
   "pygments_lexer": "ipython3",
   "version": "3.10.11"
  }
 },
 "nbformat": 4,
 "nbformat_minor": 5
}
