{
 "cells": [
  {
   "cell_type": "code",
   "execution_count": 1,
   "id": "964219a4",
   "metadata": {},
   "outputs": [
    {
     "name": "stderr",
     "output_type": "stream",
     "text": [
      "C:\\Users\\Luis Gomez Freites\\AppData\\Local\\Packages\\PythonSoftwareFoundation.Python.3.10_qbz5n2kfra8p0\\LocalCache\\local-packages\\Python310\\site-packages\\tqdm\\auto.py:22: TqdmWarning: IProgress not found. Please update jupyter and ipywidgets. See https://ipywidgets.readthedocs.io/en/stable/user_install.html\n",
      "  from .autonotebook import tqdm as notebook_tqdm\n"
     ]
    },
    {
     "name": "stdout",
     "output_type": "stream",
     "text": [
      "XLMUSDT - 41 - triangulo comun\n",
      "linea superior 0.12970000000000007\n",
      "linea inferior 0.12730000000000002\n",
      "XLMUSDT - 42 - triangulo comun\n",
      "linea superior 0.12957142857142864\n",
      "linea inferior 0.1274058823529412\n",
      "XLMUSDT - 43 - triangulo comun\n",
      "linea superior 0.12944285714285722\n",
      "linea inferior 0.12751176470588238\n",
      "XLMUSDT - 44 - triangulo comun\n",
      "linea superior 0.1293142857142858\n",
      "linea inferior 0.12761764705882356\n",
      "XLMUSDT - 82 - triangulo desc\n",
      "linea superior 0.14024999999999999\n",
      "linea inferior 0.13719166666666663\n",
      "XLMUSDT - 83 - triangulo desc\n",
      "linea superior 0.13999999999999999\n",
      "linea inferior 0.1371833333333333\n",
      "XLMUSDT - 84 - triangulo desc\n",
      "linea superior 0.13974999999999999\n",
      "linea inferior 0.13717499999999996\n",
      "XLMUSDT - 85 - triangulo desc\n",
      "linea superior 0.13949999999999999\n",
      "linea inferior 0.13716666666666663\n",
      "XLMUSDT - 201 - triangulo comun\n",
      "linea superior 0.16815000000000002\n",
      "linea inferior 0.16569909909909888\n",
      "XLMUSDT - 202 - triangulo comun\n",
      "linea superior 0.16747500000000004\n",
      "linea inferior 0.16600180180180157\n",
      "XLMUSDT - 203 - triangulo comun\n",
      "linea superior 0.16680000000000003\n",
      "linea inferior 0.16630450450450426\n",
      "XLMUSDT - 204 - triangulo comun\n",
      "linea superior 0.16612500000000002\n",
      "linea inferior 0.16660720720720695\n",
      "XLMUSDT - 205 - triangulo comun\n",
      "linea superior 0.16545000000000004\n",
      "linea inferior 0.16690990990990964\n",
      "XLMUSDT - 386 - triangulo comun\n",
      "linea superior 0.1654\n",
      "linea inferior 0.16368098159509198\n",
      "XLMUSDT - 387 - triangulo comun\n",
      "linea superior 0.16507\n",
      "linea inferior 0.16395705521472387\n",
      "XLMUSDT - 389 - triangulo comun\n",
      "linea superior 0.16441\n",
      "linea inferior 0.16329157509157508\n",
      "XLMUSDT - 390 - triangulo comun\n",
      "linea superior 0.16408\n",
      "linea inferior 0.16350915750915748\n",
      "XLMUSDT - 520 - triangulo comun\n",
      "linea superior 0.1582116279069768\n",
      "linea inferior 0.15786666666666668\n",
      "XLMUSDT - 521 - triangulo comun\n",
      "linea superior 0.15806903225806448\n",
      "linea inferior 0.15803333333333336\n",
      "XLMUSDT - 522 - triangulo comun\n",
      "linea superior 0.15770322580645157\n",
      "linea inferior 0.1582\n",
      "XLMUSDT - 523 - triangulo comun\n",
      "linea superior 0.1573374193548387\n",
      "linea inferior 0.15836666666666668\n",
      "XLMUSDT - 931 - triangulo comun\n",
      "linea superior 0.16190000000000004\n",
      "linea inferior 0.16169315068493154\n",
      "XLMUSDT - 932 - triangulo comun\n",
      "linea superior 0.16102500000000008\n",
      "linea inferior 0.16193767123287672\n"
     ]
    }
   ],
   "source": [
    "#                                                  SE HACE SIEMPRE\n",
    "import modulos as md\n",
    "import numpy as np\n",
    "from scipy.stats import linregress\n",
    "import plotly.graph_objects as go\n",
    "\n",
    "symbol='XLMUSDT'\n",
    "df=md.estrategia_triangulos(symbol,tp_flag = False)\n"
   ]
  },
  {
   "cell_type": "code",
   "execution_count": 2,
   "id": "ba7fa861",
   "metadata": {},
   "outputs": [
    {
     "name": "stdout",
     "output_type": "stream",
     "text": [
      "0.9948497511671097 -1.0\n"
     ]
    },
    {
     "data": {
      "application/vnd.plotly.v1+json": {
       "config": {
        "plotlyServerURL": "https://plot.ly"
       },
       "data": [
        {
         "close": [
          0.1581,
          0.1573,
          0.157,
          0.1568,
          0.1579,
          0.1579,
          0.1592,
          0.1588,
          0.1593,
          0.1599,
          0.16,
          0.1596,
          0.1592,
          0.16,
          0.1594,
          0.1593,
          0.1593,
          0.1597,
          0.1663,
          0.1665,
          0.1643,
          0.1634,
          0.163,
          0.164,
          0.1624,
          0.1608,
          0.161,
          0.1616,
          0.161,
          0.1613,
          0.1613,
          0.161,
          0.1599,
          0.16,
          0.1601,
          0.16,
          0.1596,
          0.1592,
          0.1583,
          0.1587,
          0.1591,
          0.1583,
          0.1587,
          0.1587,
          0.159,
          0.1593,
          0.1591,
          0.1583,
          0.1587,
          0.1584,
          0.1585,
          0.1583,
          0.1586,
          0.1585,
          0.1581,
          0.1594,
          0.1595,
          0.1593,
          0.1607,
          0.1626
         ],
         "high": [
          0.1592,
          0.1581,
          0.1577,
          0.1576,
          0.158,
          0.1581,
          0.1592,
          0.1591,
          0.1596,
          0.1605,
          0.1604,
          0.1602,
          0.1597,
          0.1601,
          0.16,
          0.1595,
          0.1603,
          0.1599,
          0.1724,
          0.167,
          0.1669,
          0.1646,
          0.1639,
          0.1642,
          0.164,
          0.1627,
          0.1614,
          0.1618,
          0.1619,
          0.1614,
          0.1619,
          0.1615,
          0.1611,
          0.1604,
          0.1606,
          0.1602,
          0.1601,
          0.1597,
          0.1597,
          0.1591,
          0.1595,
          0.1595,
          0.1589,
          0.159,
          0.1593,
          0.1596,
          0.1597,
          0.1592,
          0.1588,
          0.1588,
          0.1586,
          0.1586,
          0.1586,
          0.1587,
          0.1589,
          0.1595,
          0.1598,
          0.1598,
          0.1615,
          0.1636
         ],
         "low": [
          0.158,
          0.1564,
          0.1568,
          0.1567,
          0.1568,
          0.1575,
          0.1577,
          0.1585,
          0.1586,
          0.159,
          0.1592,
          0.1592,
          0.1589,
          0.1592,
          0.1587,
          0.1588,
          0.1586,
          0.1585,
          0.1595,
          0.165,
          0.164,
          0.1624,
          0.1629,
          0.1628,
          0.1622,
          0.1606,
          0.1606,
          0.1608,
          0.161,
          0.1608,
          0.1611,
          0.1607,
          0.1593,
          0.1597,
          0.1601,
          0.1597,
          0.1593,
          0.1588,
          0.1581,
          0.158,
          0.1585,
          0.1583,
          0.1578,
          0.1583,
          0.1586,
          0.159,
          0.1589,
          0.1581,
          0.1577,
          0.1581,
          0.158,
          0.158,
          0.1581,
          0.1583,
          0.1579,
          0.1581,
          0.1591,
          0.1592,
          0.1592,
          0.1607
         ],
         "open": [
          0.1585,
          0.158,
          0.1573,
          0.1569,
          0.1568,
          0.1578,
          0.1579,
          0.1591,
          0.1587,
          0.1593,
          0.16,
          0.16,
          0.1595,
          0.1592,
          0.16,
          0.1594,
          0.1593,
          0.1592,
          0.1597,
          0.1662,
          0.1665,
          0.1643,
          0.1634,
          0.163,
          0.164,
          0.1624,
          0.1608,
          0.1609,
          0.1616,
          0.1611,
          0.1613,
          0.1612,
          0.1611,
          0.1599,
          0.1601,
          0.1602,
          0.16,
          0.1596,
          0.1592,
          0.1584,
          0.1587,
          0.1591,
          0.1583,
          0.1587,
          0.1586,
          0.159,
          0.1593,
          0.1592,
          0.1583,
          0.1587,
          0.1583,
          0.1585,
          0.1584,
          0.1585,
          0.1585,
          0.1581,
          0.1594,
          0.1594,
          0.1593,
          0.1607
         ],
         "type": "candlestick",
         "x": [
          901,
          902,
          903,
          904,
          905,
          906,
          907,
          908,
          909,
          910,
          911,
          912,
          913,
          914,
          915,
          916,
          917,
          918,
          919,
          920,
          921,
          922,
          923,
          924,
          925,
          926,
          927,
          928,
          929,
          930,
          931,
          932,
          933,
          934,
          935,
          936,
          937,
          938,
          939,
          940,
          941,
          942,
          943,
          944,
          945,
          946,
          947,
          948,
          949,
          950,
          951,
          952,
          953,
          954,
          955,
          956,
          957,
          958,
          959,
          960
         ]
        },
        {
         "marker": {
          "color": "MediumPurple",
          "size": 4
         },
         "mode": "markers",
         "name": "pivot",
         "type": "scatter",
         "x": [
          901,
          902,
          903,
          904,
          905,
          906,
          907,
          908,
          909,
          910,
          911,
          912,
          913,
          914,
          915,
          916,
          917,
          918,
          919,
          920,
          921,
          922,
          923,
          924,
          925,
          926,
          927,
          928,
          929,
          930,
          931,
          932,
          933,
          934,
          935,
          936,
          937,
          938,
          939,
          940,
          941,
          942,
          943,
          944,
          945,
          946,
          947,
          948,
          949,
          950,
          951,
          952,
          953,
          954,
          955,
          956,
          957,
          958,
          959,
          960
         ],
         "y": [
          null,
          0.1554,
          null,
          null,
          null,
          null,
          null,
          null,
          null,
          0.1615,
          null,
          null,
          null,
          null,
          null,
          null,
          null,
          0.1575,
          0.1734,
          null,
          null,
          null,
          null,
          null,
          null,
          0.1596,
          0.1596,
          null,
          null,
          null,
          0.1629,
          null,
          0.1583,
          null,
          null,
          null,
          null,
          null,
          null,
          null,
          null,
          null,
          0.1568,
          null,
          null,
          null,
          0.1607,
          null,
          0.1567,
          null,
          null,
          null,
          null,
          null,
          0.1569,
          null,
          null,
          null,
          null,
          null
         ]
        },
        {
         "mode": "lines",
         "name": "min slope",
         "type": "scatter",
         "x": [
          918,
          926,
          927,
          942
         ],
         "y": [
          0.15851438356164388,
          0.16047054794520552,
          0.1607150684931507,
          0.1643828767123288
         ]
        },
        {
         "mode": "lines",
         "name": "max slope",
         "type": "scatter",
         "x": [
          919,
          931,
          946
         ],
         "y": [
          0.1724,
          0.16190000000000004,
          0.148775
         ]
        }
       ],
       "layout": {
        "template": {
         "data": {
          "bar": [
           {
            "error_x": {
             "color": "#2a3f5f"
            },
            "error_y": {
             "color": "#2a3f5f"
            },
            "marker": {
             "line": {
              "color": "#E5ECF6",
              "width": 0.5
             },
             "pattern": {
              "fillmode": "overlay",
              "size": 10,
              "solidity": 0.2
             }
            },
            "type": "bar"
           }
          ],
          "barpolar": [
           {
            "marker": {
             "line": {
              "color": "#E5ECF6",
              "width": 0.5
             },
             "pattern": {
              "fillmode": "overlay",
              "size": 10,
              "solidity": 0.2
             }
            },
            "type": "barpolar"
           }
          ],
          "carpet": [
           {
            "aaxis": {
             "endlinecolor": "#2a3f5f",
             "gridcolor": "white",
             "linecolor": "white",
             "minorgridcolor": "white",
             "startlinecolor": "#2a3f5f"
            },
            "baxis": {
             "endlinecolor": "#2a3f5f",
             "gridcolor": "white",
             "linecolor": "white",
             "minorgridcolor": "white",
             "startlinecolor": "#2a3f5f"
            },
            "type": "carpet"
           }
          ],
          "choropleth": [
           {
            "colorbar": {
             "outlinewidth": 0,
             "ticks": ""
            },
            "type": "choropleth"
           }
          ],
          "contour": [
           {
            "colorbar": {
             "outlinewidth": 0,
             "ticks": ""
            },
            "colorscale": [
             [
              0,
              "#0d0887"
             ],
             [
              0.1111111111111111,
              "#46039f"
             ],
             [
              0.2222222222222222,
              "#7201a8"
             ],
             [
              0.3333333333333333,
              "#9c179e"
             ],
             [
              0.4444444444444444,
              "#bd3786"
             ],
             [
              0.5555555555555556,
              "#d8576b"
             ],
             [
              0.6666666666666666,
              "#ed7953"
             ],
             [
              0.7777777777777778,
              "#fb9f3a"
             ],
             [
              0.8888888888888888,
              "#fdca26"
             ],
             [
              1,
              "#f0f921"
             ]
            ],
            "type": "contour"
           }
          ],
          "contourcarpet": [
           {
            "colorbar": {
             "outlinewidth": 0,
             "ticks": ""
            },
            "type": "contourcarpet"
           }
          ],
          "heatmap": [
           {
            "colorbar": {
             "outlinewidth": 0,
             "ticks": ""
            },
            "colorscale": [
             [
              0,
              "#0d0887"
             ],
             [
              0.1111111111111111,
              "#46039f"
             ],
             [
              0.2222222222222222,
              "#7201a8"
             ],
             [
              0.3333333333333333,
              "#9c179e"
             ],
             [
              0.4444444444444444,
              "#bd3786"
             ],
             [
              0.5555555555555556,
              "#d8576b"
             ],
             [
              0.6666666666666666,
              "#ed7953"
             ],
             [
              0.7777777777777778,
              "#fb9f3a"
             ],
             [
              0.8888888888888888,
              "#fdca26"
             ],
             [
              1,
              "#f0f921"
             ]
            ],
            "type": "heatmap"
           }
          ],
          "heatmapgl": [
           {
            "colorbar": {
             "outlinewidth": 0,
             "ticks": ""
            },
            "colorscale": [
             [
              0,
              "#0d0887"
             ],
             [
              0.1111111111111111,
              "#46039f"
             ],
             [
              0.2222222222222222,
              "#7201a8"
             ],
             [
              0.3333333333333333,
              "#9c179e"
             ],
             [
              0.4444444444444444,
              "#bd3786"
             ],
             [
              0.5555555555555556,
              "#d8576b"
             ],
             [
              0.6666666666666666,
              "#ed7953"
             ],
             [
              0.7777777777777778,
              "#fb9f3a"
             ],
             [
              0.8888888888888888,
              "#fdca26"
             ],
             [
              1,
              "#f0f921"
             ]
            ],
            "type": "heatmapgl"
           }
          ],
          "histogram": [
           {
            "marker": {
             "pattern": {
              "fillmode": "overlay",
              "size": 10,
              "solidity": 0.2
             }
            },
            "type": "histogram"
           }
          ],
          "histogram2d": [
           {
            "colorbar": {
             "outlinewidth": 0,
             "ticks": ""
            },
            "colorscale": [
             [
              0,
              "#0d0887"
             ],
             [
              0.1111111111111111,
              "#46039f"
             ],
             [
              0.2222222222222222,
              "#7201a8"
             ],
             [
              0.3333333333333333,
              "#9c179e"
             ],
             [
              0.4444444444444444,
              "#bd3786"
             ],
             [
              0.5555555555555556,
              "#d8576b"
             ],
             [
              0.6666666666666666,
              "#ed7953"
             ],
             [
              0.7777777777777778,
              "#fb9f3a"
             ],
             [
              0.8888888888888888,
              "#fdca26"
             ],
             [
              1,
              "#f0f921"
             ]
            ],
            "type": "histogram2d"
           }
          ],
          "histogram2dcontour": [
           {
            "colorbar": {
             "outlinewidth": 0,
             "ticks": ""
            },
            "colorscale": [
             [
              0,
              "#0d0887"
             ],
             [
              0.1111111111111111,
              "#46039f"
             ],
             [
              0.2222222222222222,
              "#7201a8"
             ],
             [
              0.3333333333333333,
              "#9c179e"
             ],
             [
              0.4444444444444444,
              "#bd3786"
             ],
             [
              0.5555555555555556,
              "#d8576b"
             ],
             [
              0.6666666666666666,
              "#ed7953"
             ],
             [
              0.7777777777777778,
              "#fb9f3a"
             ],
             [
              0.8888888888888888,
              "#fdca26"
             ],
             [
              1,
              "#f0f921"
             ]
            ],
            "type": "histogram2dcontour"
           }
          ],
          "mesh3d": [
           {
            "colorbar": {
             "outlinewidth": 0,
             "ticks": ""
            },
            "type": "mesh3d"
           }
          ],
          "parcoords": [
           {
            "line": {
             "colorbar": {
              "outlinewidth": 0,
              "ticks": ""
             }
            },
            "type": "parcoords"
           }
          ],
          "pie": [
           {
            "automargin": true,
            "type": "pie"
           }
          ],
          "scatter": [
           {
            "fillpattern": {
             "fillmode": "overlay",
             "size": 10,
             "solidity": 0.2
            },
            "type": "scatter"
           }
          ],
          "scatter3d": [
           {
            "line": {
             "colorbar": {
              "outlinewidth": 0,
              "ticks": ""
             }
            },
            "marker": {
             "colorbar": {
              "outlinewidth": 0,
              "ticks": ""
             }
            },
            "type": "scatter3d"
           }
          ],
          "scattercarpet": [
           {
            "marker": {
             "colorbar": {
              "outlinewidth": 0,
              "ticks": ""
             }
            },
            "type": "scattercarpet"
           }
          ],
          "scattergeo": [
           {
            "marker": {
             "colorbar": {
              "outlinewidth": 0,
              "ticks": ""
             }
            },
            "type": "scattergeo"
           }
          ],
          "scattergl": [
           {
            "marker": {
             "colorbar": {
              "outlinewidth": 0,
              "ticks": ""
             }
            },
            "type": "scattergl"
           }
          ],
          "scattermapbox": [
           {
            "marker": {
             "colorbar": {
              "outlinewidth": 0,
              "ticks": ""
             }
            },
            "type": "scattermapbox"
           }
          ],
          "scatterpolar": [
           {
            "marker": {
             "colorbar": {
              "outlinewidth": 0,
              "ticks": ""
             }
            },
            "type": "scatterpolar"
           }
          ],
          "scatterpolargl": [
           {
            "marker": {
             "colorbar": {
              "outlinewidth": 0,
              "ticks": ""
             }
            },
            "type": "scatterpolargl"
           }
          ],
          "scatterternary": [
           {
            "marker": {
             "colorbar": {
              "outlinewidth": 0,
              "ticks": ""
             }
            },
            "type": "scatterternary"
           }
          ],
          "surface": [
           {
            "colorbar": {
             "outlinewidth": 0,
             "ticks": ""
            },
            "colorscale": [
             [
              0,
              "#0d0887"
             ],
             [
              0.1111111111111111,
              "#46039f"
             ],
             [
              0.2222222222222222,
              "#7201a8"
             ],
             [
              0.3333333333333333,
              "#9c179e"
             ],
             [
              0.4444444444444444,
              "#bd3786"
             ],
             [
              0.5555555555555556,
              "#d8576b"
             ],
             [
              0.6666666666666666,
              "#ed7953"
             ],
             [
              0.7777777777777778,
              "#fb9f3a"
             ],
             [
              0.8888888888888888,
              "#fdca26"
             ],
             [
              1,
              "#f0f921"
             ]
            ],
            "type": "surface"
           }
          ],
          "table": [
           {
            "cells": {
             "fill": {
              "color": "#EBF0F8"
             },
             "line": {
              "color": "white"
             }
            },
            "header": {
             "fill": {
              "color": "#C8D4E3"
             },
             "line": {
              "color": "white"
             }
            },
            "type": "table"
           }
          ]
         },
         "layout": {
          "annotationdefaults": {
           "arrowcolor": "#2a3f5f",
           "arrowhead": 0,
           "arrowwidth": 1
          },
          "autotypenumbers": "strict",
          "coloraxis": {
           "colorbar": {
            "outlinewidth": 0,
            "ticks": ""
           }
          },
          "colorscale": {
           "diverging": [
            [
             0,
             "#8e0152"
            ],
            [
             0.1,
             "#c51b7d"
            ],
            [
             0.2,
             "#de77ae"
            ],
            [
             0.3,
             "#f1b6da"
            ],
            [
             0.4,
             "#fde0ef"
            ],
            [
             0.5,
             "#f7f7f7"
            ],
            [
             0.6,
             "#e6f5d0"
            ],
            [
             0.7,
             "#b8e186"
            ],
            [
             0.8,
             "#7fbc41"
            ],
            [
             0.9,
             "#4d9221"
            ],
            [
             1,
             "#276419"
            ]
           ],
           "sequential": [
            [
             0,
             "#0d0887"
            ],
            [
             0.1111111111111111,
             "#46039f"
            ],
            [
             0.2222222222222222,
             "#7201a8"
            ],
            [
             0.3333333333333333,
             "#9c179e"
            ],
            [
             0.4444444444444444,
             "#bd3786"
            ],
            [
             0.5555555555555556,
             "#d8576b"
            ],
            [
             0.6666666666666666,
             "#ed7953"
            ],
            [
             0.7777777777777778,
             "#fb9f3a"
            ],
            [
             0.8888888888888888,
             "#fdca26"
            ],
            [
             1,
             "#f0f921"
            ]
           ],
           "sequentialminus": [
            [
             0,
             "#0d0887"
            ],
            [
             0.1111111111111111,
             "#46039f"
            ],
            [
             0.2222222222222222,
             "#7201a8"
            ],
            [
             0.3333333333333333,
             "#9c179e"
            ],
            [
             0.4444444444444444,
             "#bd3786"
            ],
            [
             0.5555555555555556,
             "#d8576b"
            ],
            [
             0.6666666666666666,
             "#ed7953"
            ],
            [
             0.7777777777777778,
             "#fb9f3a"
            ],
            [
             0.8888888888888888,
             "#fdca26"
            ],
            [
             1,
             "#f0f921"
            ]
           ]
          },
          "colorway": [
           "#636efa",
           "#EF553B",
           "#00cc96",
           "#ab63fa",
           "#FFA15A",
           "#19d3f3",
           "#FF6692",
           "#B6E880",
           "#FF97FF",
           "#FECB52"
          ],
          "font": {
           "color": "#2a3f5f"
          },
          "geo": {
           "bgcolor": "white",
           "lakecolor": "white",
           "landcolor": "#E5ECF6",
           "showlakes": true,
           "showland": true,
           "subunitcolor": "white"
          },
          "hoverlabel": {
           "align": "left"
          },
          "hovermode": "closest",
          "mapbox": {
           "style": "light"
          },
          "paper_bgcolor": "white",
          "plot_bgcolor": "#E5ECF6",
          "polar": {
           "angularaxis": {
            "gridcolor": "white",
            "linecolor": "white",
            "ticks": ""
           },
           "bgcolor": "#E5ECF6",
           "radialaxis": {
            "gridcolor": "white",
            "linecolor": "white",
            "ticks": ""
           }
          },
          "scene": {
           "xaxis": {
            "backgroundcolor": "#E5ECF6",
            "gridcolor": "white",
            "gridwidth": 2,
            "linecolor": "white",
            "showbackground": true,
            "ticks": "",
            "zerolinecolor": "white"
           },
           "yaxis": {
            "backgroundcolor": "#E5ECF6",
            "gridcolor": "white",
            "gridwidth": 2,
            "linecolor": "white",
            "showbackground": true,
            "ticks": "",
            "zerolinecolor": "white"
           },
           "zaxis": {
            "backgroundcolor": "#E5ECF6",
            "gridcolor": "white",
            "gridwidth": 2,
            "linecolor": "white",
            "showbackground": true,
            "ticks": "",
            "zerolinecolor": "white"
           }
          },
          "shapedefaults": {
           "line": {
            "color": "#2a3f5f"
           }
          },
          "ternary": {
           "aaxis": {
            "gridcolor": "white",
            "linecolor": "white",
            "ticks": ""
           },
           "baxis": {
            "gridcolor": "white",
            "linecolor": "white",
            "ticks": ""
           },
           "bgcolor": "#E5ECF6",
           "caxis": {
            "gridcolor": "white",
            "linecolor": "white",
            "ticks": ""
           }
          },
          "title": {
           "x": 0.05
          },
          "xaxis": {
           "automargin": true,
           "gridcolor": "white",
           "linecolor": "white",
           "ticks": "",
           "title": {
            "standoff": 15
           },
           "zerolinecolor": "white",
           "zerolinewidth": 2
          },
          "yaxis": {
           "automargin": true,
           "gridcolor": "white",
           "linecolor": "white",
           "ticks": "",
           "title": {
            "standoff": 15
           },
           "zerolinecolor": "white",
           "zerolinewidth": 2
          }
         }
        },
        "xaxis": {
         "rangeslider": {
          "visible": false
         }
        }
       }
      }
     },
     "metadata": {},
     "output_type": "display_data"
    },
    {
     "name": "stdout",
     "output_type": "stream",
     "text": [
      "linea superior. X: [919. 931. 946.] - y: [0.1724   0.1619   0.148775]\n",
      "linea inferior. X: [918. 926. 927. 942.] - y: [0.15851438 0.16047055 0.16071507 0.16438288]\n"
     ]
    }
   ],
   "source": [
    "#dibuja\n",
    "candleid = 931\n",
    "dfpl = df[0:1000]\n",
    "fig = go.Figure(data=[go.Candlestick(x=dfpl.index,\n",
    "                open=dfpl['Open'],\n",
    "                high=dfpl['High'],\n",
    "                low=dfpl['Low'],\n",
    "                close=dfpl['Close'])])\n",
    "\n",
    "fig.add_scatter(x=dfpl.index, y=dfpl['pointpos'], mode=\"markers\",\n",
    "                marker=dict(size=5, color=\"MediumPurple\"),\n",
    "                name=\"pivot\")\n",
    "\n",
    "backcandles = 20\n",
    "maxim = np.array([])\n",
    "minim = np.array([])\n",
    "xxmin = np.array([])\n",
    "xxmax = np.array([])\n",
    "\n",
    "for i in range(candleid-backcandles, candleid+1):\n",
    "    if df.iloc[i].pivot == 1:\n",
    "        minim = np.append(minim, df.iloc[i].Low)\n",
    "        xxmin = np.append(xxmin, i) #could be i instead df.iloc[i].name\n",
    "    if df.iloc[i].pivot == 2:\n",
    "        maxim = np.append(maxim, df.iloc[i].High)\n",
    "        xxmax = np.append(xxmax, i) # df.iloc[i].name\n",
    "        \n",
    "slmin, intercmin, rmin, pmin, semin = linregress(xxmin, minim)\n",
    "slmax, intercmax, rmax, pmax, semax = linregress(xxmax, maxim)\n",
    "\n",
    "print(rmin, rmax)\n",
    "\n",
    "dfpl = df[candleid-backcandles-10:candleid+backcandles+10]\n",
    "\n",
    "fig = go.Figure(data=[go.Candlestick(x=dfpl.index,\n",
    "                open=dfpl['Open'],\n",
    "                high=dfpl['High'],\n",
    "                low=dfpl['Low'],\n",
    "                close=dfpl['Close'])])\n",
    "\n",
    "fig.add_scatter(x=dfpl.index, y=dfpl['pointpos'], mode=\"markers\",\n",
    "                marker=dict(size=4, color=\"MediumPurple\"),\n",
    "                name=\"pivot\")\n",
    "\n",
    "xxmin = np.append(xxmin, xxmin[-1]+15)\n",
    "xxmax = np.append(xxmax, xxmax[-1]+15)\n",
    "\n",
    "fig.add_trace(go.Scatter(x=xxmin, y=slmin*xxmin + intercmin, mode='lines', name='min slope'))\n",
    "fig.add_trace(go.Scatter(x=xxmax, y=slmax*xxmax + intercmax, mode='lines', name='max slope'))\n",
    "fig.update_layout(xaxis_rangeslider_visible=False)\n",
    "fig.show()\n",
    "print(f\"linea superior. X: {xxmax} - y: {slmax*xxmax + intercmax}\")\n",
    "print(f\"linea inferior. X: {xxmin} - y: {slmin*xxmin + intercmin}\")\n"
   ]
  },
  {
   "cell_type": "code",
   "execution_count": null,
   "id": "cfed7fc6",
   "metadata": {},
   "outputs": [],
   "source": [
    "df.tail(60)"
   ]
  }
 ],
 "metadata": {
  "kernelspec": {
   "display_name": "Python 3 (ipykernel)",
   "language": "python",
   "name": "python3"
  },
  "language_info": {
   "codemirror_mode": {
    "name": "ipython",
    "version": 3
   },
   "file_extension": ".py",
   "mimetype": "text/x-python",
   "name": "python",
   "nbconvert_exporter": "python",
   "pygments_lexer": "ipython3",
   "version": "3.10.11"
  }
 },
 "nbformat": 4,
 "nbformat_minor": 5
}
