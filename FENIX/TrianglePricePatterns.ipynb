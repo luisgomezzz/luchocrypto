{
 "cells": [
  {
   "cell_type": "code",
   "execution_count": 18,
   "id": "964219a4",
   "metadata": {},
   "outputs": [
    {
     "name": "stderr",
     "output_type": "stream",
     "text": [
      "C:\\Users\\Luis Gomez Freites\\AppData\\Local\\Packages\\PythonSoftwareFoundation.Python.3.10_qbz5n2kfra8p0\\LocalCache\\local-packages\\Python310\\site-packages\\scipy\\stats\\_stats_mstats_common.py:182: RuntimeWarning:\n",
      "\n",
      "invalid value encountered in double_scalars\n",
      "\n",
      "C:\\Users\\Luis Gomez Freites\\AppData\\Local\\Packages\\PythonSoftwareFoundation.Python.3.10_qbz5n2kfra8p0\\LocalCache\\local-packages\\Python310\\site-packages\\scipy\\stats\\_stats_mstats_common.py:196: RuntimeWarning:\n",
      "\n",
      "invalid value encountered in sqrt\n",
      "\n",
      "C:\\Users\\Luis Gomez Freites\\AppData\\Local\\Packages\\PythonSoftwareFoundation.Python.3.10_qbz5n2kfra8p0\\LocalCache\\local-packages\\Python310\\site-packages\\scipy\\stats\\_stats_mstats_common.py:199: RuntimeWarning:\n",
      "\n",
      "invalid value encountered in double_scalars\n",
      "\n"
     ]
    },
    {
     "name": "stdout",
     "output_type": "stream",
     "text": [
      "XLMUSDT - 423 - triangulo comun\n",
      "XLMUSDT - 424 - triangulo comun\n",
      "XLMUSDT - 425 - triangulo comun\n",
      "XLMUSDT - 426 - triangulo comun\n",
      "XLMUSDT - 427 - triangulo comun\n",
      "XLMUSDT - 428 - triangulo comun\n",
      "XLMUSDT - 429 - triangulo comun\n"
     ]
    },
    {
     "name": "stderr",
     "output_type": "stream",
     "text": [
      "C:\\Users\\Luis Gomez Freites\\AppData\\Local\\Packages\\PythonSoftwareFoundation.Python.3.10_qbz5n2kfra8p0\\LocalCache\\local-packages\\Python310\\site-packages\\scipy\\stats\\_stats_mstats_common.py:182: RuntimeWarning:\n",
      "\n",
      "invalid value encountered in double_scalars\n",
      "\n",
      "C:\\Users\\Luis Gomez Freites\\AppData\\Local\\Packages\\PythonSoftwareFoundation.Python.3.10_qbz5n2kfra8p0\\LocalCache\\local-packages\\Python310\\site-packages\\scipy\\stats\\_stats_mstats_common.py:196: RuntimeWarning:\n",
      "\n",
      "invalid value encountered in sqrt\n",
      "\n",
      "C:\\Users\\Luis Gomez Freites\\AppData\\Local\\Packages\\PythonSoftwareFoundation.Python.3.10_qbz5n2kfra8p0\\LocalCache\\local-packages\\Python310\\site-packages\\scipy\\stats\\_stats_mstats_common.py:199: RuntimeWarning:\n",
      "\n",
      "invalid value encountered in double_scalars\n",
      "\n"
     ]
    },
    {
     "name": "stdout",
     "output_type": "stream",
     "text": [
      "XLMUSDT - 831 - triangulo comun\n",
      "XLMUSDT - 832 - triangulo comun\n",
      "XLMUSDT - 833 - triangulo comun\n",
      "XLMUSDT - 834 - triangulo comun\n",
      "XLMUSDT - 872 - triangulo desc\n",
      "XLMUSDT - 873 - triangulo desc\n",
      "XLMUSDT - 874 - triangulo desc\n",
      "XLMUSDT - 875 - triangulo desc\n"
     ]
    },
    {
     "name": "stderr",
     "output_type": "stream",
     "text": [
      "C:\\Users\\Luis Gomez Freites\\AppData\\Local\\Packages\\PythonSoftwareFoundation.Python.3.10_qbz5n2kfra8p0\\LocalCache\\local-packages\\Python310\\site-packages\\scipy\\stats\\_stats_mstats_common.py:182: RuntimeWarning:\n",
      "\n",
      "invalid value encountered in double_scalars\n",
      "\n",
      "C:\\Users\\Luis Gomez Freites\\AppData\\Local\\Packages\\PythonSoftwareFoundation.Python.3.10_qbz5n2kfra8p0\\LocalCache\\local-packages\\Python310\\site-packages\\scipy\\stats\\_stats_mstats_common.py:196: RuntimeWarning:\n",
      "\n",
      "invalid value encountered in sqrt\n",
      "\n",
      "C:\\Users\\Luis Gomez Freites\\AppData\\Local\\Packages\\PythonSoftwareFoundation.Python.3.10_qbz5n2kfra8p0\\LocalCache\\local-packages\\Python310\\site-packages\\scipy\\stats\\_stats_mstats_common.py:199: RuntimeWarning:\n",
      "\n",
      "invalid value encountered in double_scalars\n",
      "\n",
      "C:\\Users\\Luis Gomez Freites\\AppData\\Local\\Packages\\PythonSoftwareFoundation.Python.3.10_qbz5n2kfra8p0\\LocalCache\\local-packages\\Python310\\site-packages\\scipy\\stats\\_stats_mstats_common.py:182: RuntimeWarning:\n",
      "\n",
      "invalid value encountered in double_scalars\n",
      "\n",
      "C:\\Users\\Luis Gomez Freites\\AppData\\Local\\Packages\\PythonSoftwareFoundation.Python.3.10_qbz5n2kfra8p0\\LocalCache\\local-packages\\Python310\\site-packages\\scipy\\stats\\_stats_mstats_common.py:196: RuntimeWarning:\n",
      "\n",
      "invalid value encountered in sqrt\n",
      "\n",
      "C:\\Users\\Luis Gomez Freites\\AppData\\Local\\Packages\\PythonSoftwareFoundation.Python.3.10_qbz5n2kfra8p0\\LocalCache\\local-packages\\Python310\\site-packages\\scipy\\stats\\_stats_mstats_common.py:199: RuntimeWarning:\n",
      "\n",
      "invalid value encountered in double_scalars\n",
      "\n"
     ]
    },
    {
     "name": "stdout",
     "output_type": "stream",
     "text": [
      "XLMUSDT - 991 - triangulo comun\n",
      "XLMUSDT - 992 - triangulo comun\n",
      "XLMUSDT - 993 - triangulo comun\n",
      "XLMUSDT - 994 - triangulo comun\n",
      "XLMUSDT - 995 - triangulo comun\n"
     ]
    }
   ],
   "source": [
    "#                                                  SE HACE SIEMPRE\n",
    "import modulos as md\n",
    "import numpy as np\n",
    "from scipy.stats import linregress\n",
    "import plotly.graph_objects as go\n",
    "\n",
    "symbol='XLMUSDT'\n",
    "\n",
    "def pivotid(df1, l, n1, n2): #n1 n2 before and after candle l\n",
    "    if l-n1 < 0 or l+n2 >= len(df1):\n",
    "        return 0    \n",
    "    pividlow=1\n",
    "    pividhigh=1\n",
    "    for i in range(l-n1, l+n2+1):\n",
    "        if(df1.Low[l]>df1.Low[i]):\n",
    "            pividlow=0\n",
    "        if(df1.High[l]<df1.High[i]):\n",
    "            pividhigh=0\n",
    "    if pividlow and pividhigh:\n",
    "        return 3\n",
    "    elif pividlow:\n",
    "        return 1\n",
    "    elif pividhigh:\n",
    "        return 2\n",
    "    else:\n",
    "        return 0    \n",
    "\n",
    "def pointpos(x):\n",
    "    if x['pivot']==1:\n",
    "        return x['Low']-1e-3\n",
    "    elif x['pivot']==2:\n",
    "        return x['High']+1e-3\n",
    "    else:\n",
    "        return np.nan    \n",
    "    \n",
    "df = md.obtiene_historial(symbol,'15m')\n",
    "#Check if NA values are in data\n",
    "df=df[df['Volume']!=0]\n",
    "df.reset_index(drop=True, inplace=True)\n",
    "df.isna().sum()\n",
    "df['pivot'] = df.apply(lambda x: pivotid(df, x.name,3,3), axis=1)\n",
    "df['pointpos'] = df.apply(lambda row: pointpos(row), axis=1)\n",
    "df['signal']=0\n",
    "### detecta la vela donde hay un triangulo a partir de la posicion que se elija en el rango\n",
    "backcandles= 20\n",
    "for candleid in range(0, len(df)):\n",
    "    maxim = np.array([])\n",
    "    minim = np.array([])\n",
    "    xxmin = np.array([])\n",
    "    xxmax = np.array([])\n",
    "    for i in range(candleid-backcandles, candleid+1):\n",
    "        if df.iloc[i].pivot == 1:\n",
    "            minim = np.append(minim, df.iloc[i].Low)\n",
    "            xxmin = np.append(xxmin, i) #could be i instead df.iloc[i].name\n",
    "        if df.iloc[i].pivot == 2:\n",
    "            maxim = np.append(maxim, df.iloc[i].High)\n",
    "            xxmax = np.append(xxmax, i) # df.iloc[i].name\n",
    "    \n",
    "    if (xxmax.size <3 and xxmin.size <3) or xxmax.size==0 or xxmin.size==0:\n",
    "        continue\n",
    "    \n",
    "    slmin, intercmin, rmin, pmin, semin = linregress(xxmin, minim)\n",
    "    slmax, intercmax, rmax, pmax, semax = linregress(xxmax, maxim)\n",
    "        \n",
    "    if abs(rmax)>=0.7 and abs(rmin)>=0.7 and abs(slmin)<=0.00001 and slmax<-0.0001:\n",
    "        print(f\"{symbol} - {candleid} - triangulo desc\")\n",
    "        #df.iloc[candleid].signal=2\n",
    "        df.loc[[candleid],'signal'] = 2\n",
    "        #break\n",
    "    if abs(rmax)>=0.7 and abs(rmin)>=0.7 and slmin>=0.0001 and abs(slmax)<=0.00001:\n",
    "        print(f\"{symbol} - {candleid} - triangulo asc\")\n",
    "        #df.iloc[candleid].signal=3\n",
    "        df.loc[[candleid],'signal'] = 3\n",
    "        #break\n",
    "    if abs(rmax)>=0.9 and abs(rmin)>=0.9 and slmin>=0.0001 and slmax<=-0.0001:\n",
    "        print(f\"{symbol} - {candleid} - triangulo comun\")\n",
    "        #df.iloc[candleid].signal=4\n",
    "        df.loc[[candleid],'signal'] = 4\n",
    "        #break  \n",
    "        \n",
    "    if candleid % 1000 == 0:\n",
    "        print(candleid)"
   ]
  },
  {
   "cell_type": "code",
   "execution_count": 19,
   "id": "ba7fa861",
   "metadata": {},
   "outputs": [
    {
     "name": "stdout",
     "output_type": "stream",
     "text": [
      "0.996615895540124 -1.0\n"
     ]
    },
    {
     "data": {
      "application/vnd.plotly.v1+json": {
       "config": {
        "plotlyServerURL": "https://plot.ly"
       },
       "data": [
        {
         "close": [
          0.169,
          0.1666,
          0.1653,
          0.1672,
          0.1678,
          0.1674,
          0.169,
          0.1692,
          0.1685,
          0.1649,
          0.1621,
          0.1619,
          0.1622,
          0.163,
          0.1628,
          0.1626,
          0.17,
          0.1668,
          0.168,
          0.168,
          0.1653,
          0.165,
          0.1665,
          0.1673,
          0.168,
          0.1668,
          0.166,
          0.1666,
          0.1645,
          0.1643,
          0.1621,
          0.1631,
          0.1597,
          0.1615,
          0.1619
         ],
         "high": [
          0.174,
          0.1691,
          0.1675,
          0.1685,
          0.1682,
          0.1702,
          0.1694,
          0.1694,
          0.1696,
          0.169,
          0.1653,
          0.1631,
          0.163,
          0.1635,
          0.1646,
          0.1638,
          0.1749,
          0.1713,
          0.1686,
          0.1689,
          0.1686,
          0.1658,
          0.1673,
          0.1677,
          0.1695,
          0.1685,
          0.1675,
          0.1669,
          0.1669,
          0.1653,
          0.165,
          0.1635,
          0.1635,
          0.1621,
          0.1626
         ],
         "low": [
          0.1676,
          0.1653,
          0.1645,
          0.1651,
          0.1662,
          0.1671,
          0.1667,
          0.1676,
          0.1676,
          0.1648,
          0.161,
          0.161,
          0.1618,
          0.1615,
          0.1618,
          0.1626,
          0.1627,
          0.1659,
          0.1658,
          0.167,
          0.1651,
          0.1642,
          0.1649,
          0.166,
          0.167,
          0.1667,
          0.1658,
          0.1656,
          0.1645,
          0.1628,
          0.162,
          0.162,
          0.1591,
          0.1594,
          0.1609
         ],
         "open": [
          0.1736,
          0.1691,
          0.1666,
          0.1653,
          0.1672,
          0.1678,
          0.1674,
          0.169,
          0.1693,
          0.1684,
          0.1649,
          0.1621,
          0.1619,
          0.1622,
          0.1629,
          0.1628,
          0.1627,
          0.1699,
          0.1668,
          0.168,
          0.168,
          0.1653,
          0.1649,
          0.1665,
          0.1672,
          0.1681,
          0.1669,
          0.1661,
          0.1666,
          0.1646,
          0.1642,
          0.1621,
          0.1631,
          0.1596,
          0.1615
         ],
         "type": "candlestick",
         "x": [
          965,
          966,
          967,
          968,
          969,
          970,
          971,
          972,
          973,
          974,
          975,
          976,
          977,
          978,
          979,
          980,
          981,
          982,
          983,
          984,
          985,
          986,
          987,
          988,
          989,
          990,
          991,
          992,
          993,
          994,
          995,
          996,
          997,
          998,
          999
         ]
        },
        {
         "marker": {
          "color": "MediumPurple",
          "size": 4
         },
         "mode": "markers",
         "name": "pivot",
         "type": "scatter",
         "x": [
          965,
          966,
          967,
          968,
          969,
          970,
          971,
          972,
          973,
          974,
          975,
          976,
          977,
          978,
          979,
          980,
          981,
          982,
          983,
          984,
          985,
          986,
          987,
          988,
          989,
          990,
          991,
          992,
          993,
          994,
          995,
          996,
          997,
          998,
          999
         ],
         "y": [
          null,
          null,
          0.1635,
          null,
          null,
          0.1712,
          null,
          null,
          null,
          null,
          0.16,
          0.16,
          null,
          null,
          null,
          null,
          0.1759,
          null,
          null,
          null,
          null,
          0.1632,
          null,
          null,
          0.1705,
          null,
          null,
          null,
          null,
          null,
          null,
          null,
          null,
          null,
          null
         ]
        },
        {
         "mode": "lines",
         "name": "min slope",
         "type": "scatter",
         "x": [
          975,
          976,
          986,
          1001
         ],
         "y": [
          0.16085585585585585,
          0.16115855855855857,
          0.16418558558558563,
          0.16872612612612617
         ]
        },
        {
         "mode": "lines",
         "name": "max slope",
         "type": "scatter",
         "x": [
          981,
          989,
          1004
         ],
         "y": [
          0.17490000000000006,
          0.16949999999999998,
          0.15937500000000004
         ]
        }
       ],
       "layout": {
        "template": {
         "data": {
          "bar": [
           {
            "error_x": {
             "color": "#2a3f5f"
            },
            "error_y": {
             "color": "#2a3f5f"
            },
            "marker": {
             "line": {
              "color": "#E5ECF6",
              "width": 0.5
             },
             "pattern": {
              "fillmode": "overlay",
              "size": 10,
              "solidity": 0.2
             }
            },
            "type": "bar"
           }
          ],
          "barpolar": [
           {
            "marker": {
             "line": {
              "color": "#E5ECF6",
              "width": 0.5
             },
             "pattern": {
              "fillmode": "overlay",
              "size": 10,
              "solidity": 0.2
             }
            },
            "type": "barpolar"
           }
          ],
          "carpet": [
           {
            "aaxis": {
             "endlinecolor": "#2a3f5f",
             "gridcolor": "white",
             "linecolor": "white",
             "minorgridcolor": "white",
             "startlinecolor": "#2a3f5f"
            },
            "baxis": {
             "endlinecolor": "#2a3f5f",
             "gridcolor": "white",
             "linecolor": "white",
             "minorgridcolor": "white",
             "startlinecolor": "#2a3f5f"
            },
            "type": "carpet"
           }
          ],
          "choropleth": [
           {
            "colorbar": {
             "outlinewidth": 0,
             "ticks": ""
            },
            "type": "choropleth"
           }
          ],
          "contour": [
           {
            "colorbar": {
             "outlinewidth": 0,
             "ticks": ""
            },
            "colorscale": [
             [
              0,
              "#0d0887"
             ],
             [
              0.1111111111111111,
              "#46039f"
             ],
             [
              0.2222222222222222,
              "#7201a8"
             ],
             [
              0.3333333333333333,
              "#9c179e"
             ],
             [
              0.4444444444444444,
              "#bd3786"
             ],
             [
              0.5555555555555556,
              "#d8576b"
             ],
             [
              0.6666666666666666,
              "#ed7953"
             ],
             [
              0.7777777777777778,
              "#fb9f3a"
             ],
             [
              0.8888888888888888,
              "#fdca26"
             ],
             [
              1,
              "#f0f921"
             ]
            ],
            "type": "contour"
           }
          ],
          "contourcarpet": [
           {
            "colorbar": {
             "outlinewidth": 0,
             "ticks": ""
            },
            "type": "contourcarpet"
           }
          ],
          "heatmap": [
           {
            "colorbar": {
             "outlinewidth": 0,
             "ticks": ""
            },
            "colorscale": [
             [
              0,
              "#0d0887"
             ],
             [
              0.1111111111111111,
              "#46039f"
             ],
             [
              0.2222222222222222,
              "#7201a8"
             ],
             [
              0.3333333333333333,
              "#9c179e"
             ],
             [
              0.4444444444444444,
              "#bd3786"
             ],
             [
              0.5555555555555556,
              "#d8576b"
             ],
             [
              0.6666666666666666,
              "#ed7953"
             ],
             [
              0.7777777777777778,
              "#fb9f3a"
             ],
             [
              0.8888888888888888,
              "#fdca26"
             ],
             [
              1,
              "#f0f921"
             ]
            ],
            "type": "heatmap"
           }
          ],
          "heatmapgl": [
           {
            "colorbar": {
             "outlinewidth": 0,
             "ticks": ""
            },
            "colorscale": [
             [
              0,
              "#0d0887"
             ],
             [
              0.1111111111111111,
              "#46039f"
             ],
             [
              0.2222222222222222,
              "#7201a8"
             ],
             [
              0.3333333333333333,
              "#9c179e"
             ],
             [
              0.4444444444444444,
              "#bd3786"
             ],
             [
              0.5555555555555556,
              "#d8576b"
             ],
             [
              0.6666666666666666,
              "#ed7953"
             ],
             [
              0.7777777777777778,
              "#fb9f3a"
             ],
             [
              0.8888888888888888,
              "#fdca26"
             ],
             [
              1,
              "#f0f921"
             ]
            ],
            "type": "heatmapgl"
           }
          ],
          "histogram": [
           {
            "marker": {
             "pattern": {
              "fillmode": "overlay",
              "size": 10,
              "solidity": 0.2
             }
            },
            "type": "histogram"
           }
          ],
          "histogram2d": [
           {
            "colorbar": {
             "outlinewidth": 0,
             "ticks": ""
            },
            "colorscale": [
             [
              0,
              "#0d0887"
             ],
             [
              0.1111111111111111,
              "#46039f"
             ],
             [
              0.2222222222222222,
              "#7201a8"
             ],
             [
              0.3333333333333333,
              "#9c179e"
             ],
             [
              0.4444444444444444,
              "#bd3786"
             ],
             [
              0.5555555555555556,
              "#d8576b"
             ],
             [
              0.6666666666666666,
              "#ed7953"
             ],
             [
              0.7777777777777778,
              "#fb9f3a"
             ],
             [
              0.8888888888888888,
              "#fdca26"
             ],
             [
              1,
              "#f0f921"
             ]
            ],
            "type": "histogram2d"
           }
          ],
          "histogram2dcontour": [
           {
            "colorbar": {
             "outlinewidth": 0,
             "ticks": ""
            },
            "colorscale": [
             [
              0,
              "#0d0887"
             ],
             [
              0.1111111111111111,
              "#46039f"
             ],
             [
              0.2222222222222222,
              "#7201a8"
             ],
             [
              0.3333333333333333,
              "#9c179e"
             ],
             [
              0.4444444444444444,
              "#bd3786"
             ],
             [
              0.5555555555555556,
              "#d8576b"
             ],
             [
              0.6666666666666666,
              "#ed7953"
             ],
             [
              0.7777777777777778,
              "#fb9f3a"
             ],
             [
              0.8888888888888888,
              "#fdca26"
             ],
             [
              1,
              "#f0f921"
             ]
            ],
            "type": "histogram2dcontour"
           }
          ],
          "mesh3d": [
           {
            "colorbar": {
             "outlinewidth": 0,
             "ticks": ""
            },
            "type": "mesh3d"
           }
          ],
          "parcoords": [
           {
            "line": {
             "colorbar": {
              "outlinewidth": 0,
              "ticks": ""
             }
            },
            "type": "parcoords"
           }
          ],
          "pie": [
           {
            "automargin": true,
            "type": "pie"
           }
          ],
          "scatter": [
           {
            "fillpattern": {
             "fillmode": "overlay",
             "size": 10,
             "solidity": 0.2
            },
            "type": "scatter"
           }
          ],
          "scatter3d": [
           {
            "line": {
             "colorbar": {
              "outlinewidth": 0,
              "ticks": ""
             }
            },
            "marker": {
             "colorbar": {
              "outlinewidth": 0,
              "ticks": ""
             }
            },
            "type": "scatter3d"
           }
          ],
          "scattercarpet": [
           {
            "marker": {
             "colorbar": {
              "outlinewidth": 0,
              "ticks": ""
             }
            },
            "type": "scattercarpet"
           }
          ],
          "scattergeo": [
           {
            "marker": {
             "colorbar": {
              "outlinewidth": 0,
              "ticks": ""
             }
            },
            "type": "scattergeo"
           }
          ],
          "scattergl": [
           {
            "marker": {
             "colorbar": {
              "outlinewidth": 0,
              "ticks": ""
             }
            },
            "type": "scattergl"
           }
          ],
          "scattermapbox": [
           {
            "marker": {
             "colorbar": {
              "outlinewidth": 0,
              "ticks": ""
             }
            },
            "type": "scattermapbox"
           }
          ],
          "scatterpolar": [
           {
            "marker": {
             "colorbar": {
              "outlinewidth": 0,
              "ticks": ""
             }
            },
            "type": "scatterpolar"
           }
          ],
          "scatterpolargl": [
           {
            "marker": {
             "colorbar": {
              "outlinewidth": 0,
              "ticks": ""
             }
            },
            "type": "scatterpolargl"
           }
          ],
          "scatterternary": [
           {
            "marker": {
             "colorbar": {
              "outlinewidth": 0,
              "ticks": ""
             }
            },
            "type": "scatterternary"
           }
          ],
          "surface": [
           {
            "colorbar": {
             "outlinewidth": 0,
             "ticks": ""
            },
            "colorscale": [
             [
              0,
              "#0d0887"
             ],
             [
              0.1111111111111111,
              "#46039f"
             ],
             [
              0.2222222222222222,
              "#7201a8"
             ],
             [
              0.3333333333333333,
              "#9c179e"
             ],
             [
              0.4444444444444444,
              "#bd3786"
             ],
             [
              0.5555555555555556,
              "#d8576b"
             ],
             [
              0.6666666666666666,
              "#ed7953"
             ],
             [
              0.7777777777777778,
              "#fb9f3a"
             ],
             [
              0.8888888888888888,
              "#fdca26"
             ],
             [
              1,
              "#f0f921"
             ]
            ],
            "type": "surface"
           }
          ],
          "table": [
           {
            "cells": {
             "fill": {
              "color": "#EBF0F8"
             },
             "line": {
              "color": "white"
             }
            },
            "header": {
             "fill": {
              "color": "#C8D4E3"
             },
             "line": {
              "color": "white"
             }
            },
            "type": "table"
           }
          ]
         },
         "layout": {
          "annotationdefaults": {
           "arrowcolor": "#2a3f5f",
           "arrowhead": 0,
           "arrowwidth": 1
          },
          "autotypenumbers": "strict",
          "coloraxis": {
           "colorbar": {
            "outlinewidth": 0,
            "ticks": ""
           }
          },
          "colorscale": {
           "diverging": [
            [
             0,
             "#8e0152"
            ],
            [
             0.1,
             "#c51b7d"
            ],
            [
             0.2,
             "#de77ae"
            ],
            [
             0.3,
             "#f1b6da"
            ],
            [
             0.4,
             "#fde0ef"
            ],
            [
             0.5,
             "#f7f7f7"
            ],
            [
             0.6,
             "#e6f5d0"
            ],
            [
             0.7,
             "#b8e186"
            ],
            [
             0.8,
             "#7fbc41"
            ],
            [
             0.9,
             "#4d9221"
            ],
            [
             1,
             "#276419"
            ]
           ],
           "sequential": [
            [
             0,
             "#0d0887"
            ],
            [
             0.1111111111111111,
             "#46039f"
            ],
            [
             0.2222222222222222,
             "#7201a8"
            ],
            [
             0.3333333333333333,
             "#9c179e"
            ],
            [
             0.4444444444444444,
             "#bd3786"
            ],
            [
             0.5555555555555556,
             "#d8576b"
            ],
            [
             0.6666666666666666,
             "#ed7953"
            ],
            [
             0.7777777777777778,
             "#fb9f3a"
            ],
            [
             0.8888888888888888,
             "#fdca26"
            ],
            [
             1,
             "#f0f921"
            ]
           ],
           "sequentialminus": [
            [
             0,
             "#0d0887"
            ],
            [
             0.1111111111111111,
             "#46039f"
            ],
            [
             0.2222222222222222,
             "#7201a8"
            ],
            [
             0.3333333333333333,
             "#9c179e"
            ],
            [
             0.4444444444444444,
             "#bd3786"
            ],
            [
             0.5555555555555556,
             "#d8576b"
            ],
            [
             0.6666666666666666,
             "#ed7953"
            ],
            [
             0.7777777777777778,
             "#fb9f3a"
            ],
            [
             0.8888888888888888,
             "#fdca26"
            ],
            [
             1,
             "#f0f921"
            ]
           ]
          },
          "colorway": [
           "#636efa",
           "#EF553B",
           "#00cc96",
           "#ab63fa",
           "#FFA15A",
           "#19d3f3",
           "#FF6692",
           "#B6E880",
           "#FF97FF",
           "#FECB52"
          ],
          "font": {
           "color": "#2a3f5f"
          },
          "geo": {
           "bgcolor": "white",
           "lakecolor": "white",
           "landcolor": "#E5ECF6",
           "showlakes": true,
           "showland": true,
           "subunitcolor": "white"
          },
          "hoverlabel": {
           "align": "left"
          },
          "hovermode": "closest",
          "mapbox": {
           "style": "light"
          },
          "paper_bgcolor": "white",
          "plot_bgcolor": "#E5ECF6",
          "polar": {
           "angularaxis": {
            "gridcolor": "white",
            "linecolor": "white",
            "ticks": ""
           },
           "bgcolor": "#E5ECF6",
           "radialaxis": {
            "gridcolor": "white",
            "linecolor": "white",
            "ticks": ""
           }
          },
          "scene": {
           "xaxis": {
            "backgroundcolor": "#E5ECF6",
            "gridcolor": "white",
            "gridwidth": 2,
            "linecolor": "white",
            "showbackground": true,
            "ticks": "",
            "zerolinecolor": "white"
           },
           "yaxis": {
            "backgroundcolor": "#E5ECF6",
            "gridcolor": "white",
            "gridwidth": 2,
            "linecolor": "white",
            "showbackground": true,
            "ticks": "",
            "zerolinecolor": "white"
           },
           "zaxis": {
            "backgroundcolor": "#E5ECF6",
            "gridcolor": "white",
            "gridwidth": 2,
            "linecolor": "white",
            "showbackground": true,
            "ticks": "",
            "zerolinecolor": "white"
           }
          },
          "shapedefaults": {
           "line": {
            "color": "#2a3f5f"
           }
          },
          "ternary": {
           "aaxis": {
            "gridcolor": "white",
            "linecolor": "white",
            "ticks": ""
           },
           "baxis": {
            "gridcolor": "white",
            "linecolor": "white",
            "ticks": ""
           },
           "bgcolor": "#E5ECF6",
           "caxis": {
            "gridcolor": "white",
            "linecolor": "white",
            "ticks": ""
           }
          },
          "title": {
           "x": 0.05
          },
          "xaxis": {
           "automargin": true,
           "gridcolor": "white",
           "linecolor": "white",
           "ticks": "",
           "title": {
            "standoff": 15
           },
           "zerolinecolor": "white",
           "zerolinewidth": 2
          },
          "yaxis": {
           "automargin": true,
           "gridcolor": "white",
           "linecolor": "white",
           "ticks": "",
           "title": {
            "standoff": 15
           },
           "zerolinecolor": "white",
           "zerolinewidth": 2
          }
         }
        },
        "xaxis": {
         "rangeslider": {
          "visible": false
         }
        }
       }
      }
     },
     "metadata": {},
     "output_type": "display_data"
    },
    {
     "name": "stdout",
     "output_type": "stream",
     "text": [
      "linea superior. X: [ 981.  989. 1004.] - y: [0.1749   0.1695   0.159375]\n",
      "linea inferior. X: [ 975.  976.  986. 1001.] - y: [0.16085586 0.16115856 0.16418559 0.16872613]\n"
     ]
    }
   ],
   "source": [
    "#dibuja\n",
    "candleid = 995\n",
    "dfpl = df[0:1000]\n",
    "fig = go.Figure(data=[go.Candlestick(x=dfpl.index,\n",
    "                open=dfpl['Open'],\n",
    "                high=dfpl['High'],\n",
    "                low=dfpl['Low'],\n",
    "                close=dfpl['Close'])])\n",
    "\n",
    "fig.add_scatter(x=dfpl.index, y=dfpl['pointpos'], mode=\"markers\",\n",
    "                marker=dict(size=5, color=\"MediumPurple\"),\n",
    "                name=\"pivot\")\n",
    "\n",
    "backcandles = 20\n",
    "maxim = np.array([])\n",
    "minim = np.array([])\n",
    "xxmin = np.array([])\n",
    "xxmax = np.array([])\n",
    "\n",
    "for i in range(candleid-backcandles, candleid+1):\n",
    "    if df.iloc[i].pivot == 1:\n",
    "        minim = np.append(minim, df.iloc[i].Low)\n",
    "        xxmin = np.append(xxmin, i) #could be i instead df.iloc[i].name\n",
    "    if df.iloc[i].pivot == 2:\n",
    "        maxim = np.append(maxim, df.iloc[i].High)\n",
    "        xxmax = np.append(xxmax, i) # df.iloc[i].name\n",
    "        \n",
    "slmin, intercmin, rmin, pmin, semin = linregress(xxmin, minim)\n",
    "slmax, intercmax, rmax, pmax, semax = linregress(xxmax, maxim)\n",
    "\n",
    "print(rmin, rmax)\n",
    "\n",
    "dfpl = df[candleid-backcandles-10:candleid+backcandles+10]\n",
    "\n",
    "fig = go.Figure(data=[go.Candlestick(x=dfpl.index,\n",
    "                open=dfpl['Open'],\n",
    "                high=dfpl['High'],\n",
    "                low=dfpl['Low'],\n",
    "                close=dfpl['Close'])])\n",
    "\n",
    "fig.add_scatter(x=dfpl.index, y=dfpl['pointpos'], mode=\"markers\",\n",
    "                marker=dict(size=4, color=\"MediumPurple\"),\n",
    "                name=\"pivot\")\n",
    "\n",
    "xxmin = np.append(xxmin, xxmin[-1]+15)\n",
    "xxmax = np.append(xxmax, xxmax[-1]+15)\n",
    "\n",
    "fig.add_trace(go.Scatter(x=xxmin, y=slmin*xxmin + intercmin, mode='lines', name='min slope'))\n",
    "fig.add_trace(go.Scatter(x=xxmax, y=slmax*xxmax + intercmax, mode='lines', name='max slope'))\n",
    "fig.update_layout(xaxis_rangeslider_visible=False)\n",
    "fig.show()\n",
    "print(f\"linea superior. X: {xxmax} - y: {slmax*xxmax + intercmax}\")\n",
    "print(f\"linea inferior. X: {xxmin} - y: {slmin*xxmin + intercmin}\")\n"
   ]
  },
  {
   "cell_type": "code",
   "execution_count": 14,
   "id": "8ccfd213",
   "metadata": {},
   "outputs": [
    {
     "data": {
      "text/html": [
       "<div>\n",
       "<style scoped>\n",
       "    .dataframe tbody tr th:only-of-type {\n",
       "        vertical-align: middle;\n",
       "    }\n",
       "\n",
       "    .dataframe tbody tr th {\n",
       "        vertical-align: top;\n",
       "    }\n",
       "\n",
       "    .dataframe thead th {\n",
       "        text-align: right;\n",
       "    }\n",
       "</style>\n",
       "<table border=\"1\" class=\"dataframe\">\n",
       "  <thead>\n",
       "    <tr style=\"text-align: right;\">\n",
       "      <th></th>\n",
       "      <th>Open Time</th>\n",
       "      <th>Open</th>\n",
       "      <th>High</th>\n",
       "      <th>Low</th>\n",
       "      <th>Close</th>\n",
       "      <th>Volume</th>\n",
       "      <th>ema20</th>\n",
       "      <th>ema50</th>\n",
       "      <th>ema200</th>\n",
       "      <th>atr</th>\n",
       "      <th>n_atr</th>\n",
       "      <th>pivot</th>\n",
       "      <th>pointpos</th>\n",
       "      <th>signal</th>\n",
       "    </tr>\n",
       "  </thead>\n",
       "  <tbody>\n",
       "    <tr>\n",
       "      <th>940</th>\n",
       "      <td>2023-07-20 00:15:00</td>\n",
       "      <td>0.1572</td>\n",
       "      <td>0.1582</td>\n",
       "      <td>0.1562</td>\n",
       "      <td>0.1568</td>\n",
       "      <td>5302028.0</td>\n",
       "      <td>0.156956</td>\n",
       "      <td>0.152679</td>\n",
       "      <td>0.140309</td>\n",
       "      <td>0.003116</td>\n",
       "      <td>50</td>\n",
       "      <td>0</td>\n",
       "      <td>NaN</td>\n",
       "      <td>0</td>\n",
       "    </tr>\n",
       "    <tr>\n",
       "      <th>941</th>\n",
       "      <td>2023-07-20 00:30:00</td>\n",
       "      <td>0.1569</td>\n",
       "      <td>0.1588</td>\n",
       "      <td>0.1558</td>\n",
       "      <td>0.1583</td>\n",
       "      <td>4114310.0</td>\n",
       "      <td>0.157084</td>\n",
       "      <td>0.152900</td>\n",
       "      <td>0.140489</td>\n",
       "      <td>0.003108</td>\n",
       "      <td>50</td>\n",
       "      <td>0</td>\n",
       "      <td>NaN</td>\n",
       "      <td>0</td>\n",
       "    </tr>\n",
       "    <tr>\n",
       "      <th>942</th>\n",
       "      <td>2023-07-20 00:45:00</td>\n",
       "      <td>0.1583</td>\n",
       "      <td>0.1605</td>\n",
       "      <td>0.1578</td>\n",
       "      <td>0.1585</td>\n",
       "      <td>9249086.0</td>\n",
       "      <td>0.157219</td>\n",
       "      <td>0.153120</td>\n",
       "      <td>0.140668</td>\n",
       "      <td>0.003079</td>\n",
       "      <td>50</td>\n",
       "      <td>0</td>\n",
       "      <td>NaN</td>\n",
       "      <td>0</td>\n",
       "    </tr>\n",
       "    <tr>\n",
       "      <th>943</th>\n",
       "      <td>2023-07-20 01:00:00</td>\n",
       "      <td>0.1584</td>\n",
       "      <td>0.1595</td>\n",
       "      <td>0.1580</td>\n",
       "      <td>0.1585</td>\n",
       "      <td>4734677.0</td>\n",
       "      <td>0.157341</td>\n",
       "      <td>0.153331</td>\n",
       "      <td>0.140845</td>\n",
       "      <td>0.002966</td>\n",
       "      <td>50</td>\n",
       "      <td>0</td>\n",
       "      <td>NaN</td>\n",
       "      <td>0</td>\n",
       "    </tr>\n",
       "    <tr>\n",
       "      <th>944</th>\n",
       "      <td>2023-07-20 01:15:00</td>\n",
       "      <td>0.1584</td>\n",
       "      <td>0.1590</td>\n",
       "      <td>0.1570</td>\n",
       "      <td>0.1587</td>\n",
       "      <td>4136631.0</td>\n",
       "      <td>0.157470</td>\n",
       "      <td>0.153541</td>\n",
       "      <td>0.141023</td>\n",
       "      <td>0.002897</td>\n",
       "      <td>50</td>\n",
       "      <td>0</td>\n",
       "      <td>NaN</td>\n",
       "      <td>0</td>\n",
       "    </tr>\n",
       "    <tr>\n",
       "      <th>945</th>\n",
       "      <td>2023-07-20 01:30:00</td>\n",
       "      <td>0.1587</td>\n",
       "      <td>0.1607</td>\n",
       "      <td>0.1585</td>\n",
       "      <td>0.1605</td>\n",
       "      <td>7249223.0</td>\n",
       "      <td>0.157759</td>\n",
       "      <td>0.153814</td>\n",
       "      <td>0.141217</td>\n",
       "      <td>0.002847</td>\n",
       "      <td>50</td>\n",
       "      <td>0</td>\n",
       "      <td>NaN</td>\n",
       "      <td>0</td>\n",
       "    </tr>\n",
       "    <tr>\n",
       "      <th>946</th>\n",
       "      <td>2023-07-20 01:45:00</td>\n",
       "      <td>0.1606</td>\n",
       "      <td>0.1625</td>\n",
       "      <td>0.1599</td>\n",
       "      <td>0.1617</td>\n",
       "      <td>8767301.0</td>\n",
       "      <td>0.158134</td>\n",
       "      <td>0.154123</td>\n",
       "      <td>0.141420</td>\n",
       "      <td>0.002830</td>\n",
       "      <td>50</td>\n",
       "      <td>0</td>\n",
       "      <td>NaN</td>\n",
       "      <td>0</td>\n",
       "    </tr>\n",
       "    <tr>\n",
       "      <th>947</th>\n",
       "      <td>2023-07-20 02:00:00</td>\n",
       "      <td>0.1617</td>\n",
       "      <td>0.1670</td>\n",
       "      <td>0.1610</td>\n",
       "      <td>0.1641</td>\n",
       "      <td>16197944.0</td>\n",
       "      <td>0.158702</td>\n",
       "      <td>0.154514</td>\n",
       "      <td>0.141646</td>\n",
       "      <td>0.003056</td>\n",
       "      <td>50</td>\n",
       "      <td>0</td>\n",
       "      <td>NaN</td>\n",
       "      <td>0</td>\n",
       "    </tr>\n",
       "    <tr>\n",
       "      <th>948</th>\n",
       "      <td>2023-07-20 02:15:00</td>\n",
       "      <td>0.1641</td>\n",
       "      <td>0.1699</td>\n",
       "      <td>0.1638</td>\n",
       "      <td>0.1692</td>\n",
       "      <td>20086442.0</td>\n",
       "      <td>0.159702</td>\n",
       "      <td>0.155090</td>\n",
       "      <td>0.141920</td>\n",
       "      <td>0.003274</td>\n",
       "      <td>50</td>\n",
       "      <td>0</td>\n",
       "      <td>NaN</td>\n",
       "      <td>0</td>\n",
       "    </tr>\n",
       "    <tr>\n",
       "      <th>949</th>\n",
       "      <td>2023-07-20 02:30:00</td>\n",
       "      <td>0.1691</td>\n",
       "      <td>0.1770</td>\n",
       "      <td>0.1684</td>\n",
       "      <td>0.1734</td>\n",
       "      <td>36871799.0</td>\n",
       "      <td>0.161007</td>\n",
       "      <td>0.155808</td>\n",
       "      <td>0.142234</td>\n",
       "      <td>0.003654</td>\n",
       "      <td>50</td>\n",
       "      <td>0</td>\n",
       "      <td>NaN</td>\n",
       "      <td>0</td>\n",
       "    </tr>\n",
       "    <tr>\n",
       "      <th>950</th>\n",
       "      <td>2023-07-20 02:45:00</td>\n",
       "      <td>0.1734</td>\n",
       "      <td>0.1785</td>\n",
       "      <td>0.1729</td>\n",
       "      <td>0.1740</td>\n",
       "      <td>31379986.0</td>\n",
       "      <td>0.162244</td>\n",
       "      <td>0.156522</td>\n",
       "      <td>0.142550</td>\n",
       "      <td>0.003793</td>\n",
       "      <td>50</td>\n",
       "      <td>2</td>\n",
       "      <td>0.1795</td>\n",
       "      <td>0</td>\n",
       "    </tr>\n",
       "    <tr>\n",
       "      <th>951</th>\n",
       "      <td>2023-07-20 03:00:00</td>\n",
       "      <td>0.1740</td>\n",
       "      <td>0.1768</td>\n",
       "      <td>0.1727</td>\n",
       "      <td>0.1749</td>\n",
       "      <td>16209128.0</td>\n",
       "      <td>0.163449</td>\n",
       "      <td>0.157243</td>\n",
       "      <td>0.142871</td>\n",
       "      <td>0.003815</td>\n",
       "      <td>50</td>\n",
       "      <td>0</td>\n",
       "      <td>NaN</td>\n",
       "      <td>0</td>\n",
       "    </tr>\n",
       "    <tr>\n",
       "      <th>952</th>\n",
       "      <td>2023-07-20 03:15:00</td>\n",
       "      <td>0.1749</td>\n",
       "      <td>0.1766</td>\n",
       "      <td>0.1706</td>\n",
       "      <td>0.1712</td>\n",
       "      <td>16673678.0</td>\n",
       "      <td>0.164188</td>\n",
       "      <td>0.157790</td>\n",
       "      <td>0.143153</td>\n",
       "      <td>0.003971</td>\n",
       "      <td>50</td>\n",
       "      <td>0</td>\n",
       "      <td>NaN</td>\n",
       "      <td>0</td>\n",
       "    </tr>\n",
       "    <tr>\n",
       "      <th>953</th>\n",
       "      <td>2023-07-20 03:30:00</td>\n",
       "      <td>0.1712</td>\n",
       "      <td>0.1744</td>\n",
       "      <td>0.1702</td>\n",
       "      <td>0.1730</td>\n",
       "      <td>11589098.0</td>\n",
       "      <td>0.165027</td>\n",
       "      <td>0.158386</td>\n",
       "      <td>0.143450</td>\n",
       "      <td>0.003987</td>\n",
       "      <td>50</td>\n",
       "      <td>1</td>\n",
       "      <td>0.1692</td>\n",
       "      <td>0</td>\n",
       "    </tr>\n",
       "    <tr>\n",
       "      <th>954</th>\n",
       "      <td>2023-07-20 03:45:00</td>\n",
       "      <td>0.1730</td>\n",
       "      <td>0.1742</td>\n",
       "      <td>0.1720</td>\n",
       "      <td>0.1726</td>\n",
       "      <td>8041243.0</td>\n",
       "      <td>0.165748</td>\n",
       "      <td>0.158944</td>\n",
       "      <td>0.143740</td>\n",
       "      <td>0.003860</td>\n",
       "      <td>50</td>\n",
       "      <td>0</td>\n",
       "      <td>NaN</td>\n",
       "      <td>0</td>\n",
       "    </tr>\n",
       "    <tr>\n",
       "      <th>955</th>\n",
       "      <td>2023-07-20 04:00:00</td>\n",
       "      <td>0.1727</td>\n",
       "      <td>0.1760</td>\n",
       "      <td>0.1710</td>\n",
       "      <td>0.1750</td>\n",
       "      <td>14332425.0</td>\n",
       "      <td>0.166629</td>\n",
       "      <td>0.159573</td>\n",
       "      <td>0.144051</td>\n",
       "      <td>0.003941</td>\n",
       "      <td>50</td>\n",
       "      <td>0</td>\n",
       "      <td>NaN</td>\n",
       "      <td>0</td>\n",
       "    </tr>\n",
       "    <tr>\n",
       "      <th>956</th>\n",
       "      <td>2023-07-20 04:15:00</td>\n",
       "      <td>0.1750</td>\n",
       "      <td>0.1755</td>\n",
       "      <td>0.1725</td>\n",
       "      <td>0.1730</td>\n",
       "      <td>7634735.0</td>\n",
       "      <td>0.167236</td>\n",
       "      <td>0.160100</td>\n",
       "      <td>0.144339</td>\n",
       "      <td>0.003874</td>\n",
       "      <td>50</td>\n",
       "      <td>0</td>\n",
       "      <td>NaN</td>\n",
       "      <td>0</td>\n",
       "    </tr>\n",
       "    <tr>\n",
       "      <th>957</th>\n",
       "      <td>2023-07-20 04:30:00</td>\n",
       "      <td>0.1729</td>\n",
       "      <td>0.1741</td>\n",
       "      <td>0.1709</td>\n",
       "      <td>0.1740</td>\n",
       "      <td>9331792.0</td>\n",
       "      <td>0.167880</td>\n",
       "      <td>0.160645</td>\n",
       "      <td>0.144635</td>\n",
       "      <td>0.003826</td>\n",
       "      <td>50</td>\n",
       "      <td>1</td>\n",
       "      <td>0.1699</td>\n",
       "      <td>0</td>\n",
       "    </tr>\n",
       "    <tr>\n",
       "      <th>958</th>\n",
       "      <td>2023-07-20 04:45:00</td>\n",
       "      <td>0.1740</td>\n",
       "      <td>0.1745</td>\n",
       "      <td>0.1724</td>\n",
       "      <td>0.1725</td>\n",
       "      <td>7861866.0</td>\n",
       "      <td>0.168320</td>\n",
       "      <td>0.161110</td>\n",
       "      <td>0.144912</td>\n",
       "      <td>0.003703</td>\n",
       "      <td>50</td>\n",
       "      <td>0</td>\n",
       "      <td>NaN</td>\n",
       "      <td>0</td>\n",
       "    </tr>\n",
       "    <tr>\n",
       "      <th>959</th>\n",
       "      <td>2023-07-20 05:00:00</td>\n",
       "      <td>0.1726</td>\n",
       "      <td>0.1745</td>\n",
       "      <td>0.1720</td>\n",
       "      <td>0.1743</td>\n",
       "      <td>7079877.0</td>\n",
       "      <td>0.168890</td>\n",
       "      <td>0.161627</td>\n",
       "      <td>0.145204</td>\n",
       "      <td>0.003617</td>\n",
       "      <td>50</td>\n",
       "      <td>0</td>\n",
       "      <td>NaN</td>\n",
       "      <td>0</td>\n",
       "    </tr>\n",
       "    <tr>\n",
       "      <th>960</th>\n",
       "      <td>2023-07-20 05:15:00</td>\n",
       "      <td>0.1743</td>\n",
       "      <td>0.1753</td>\n",
       "      <td>0.1738</td>\n",
       "      <td>0.1738</td>\n",
       "      <td>10055069.0</td>\n",
       "      <td>0.169357</td>\n",
       "      <td>0.162105</td>\n",
       "      <td>0.145489</td>\n",
       "      <td>0.003465</td>\n",
       "      <td>50</td>\n",
       "      <td>0</td>\n",
       "      <td>NaN</td>\n",
       "      <td>0</td>\n",
       "    </tr>\n",
       "    <tr>\n",
       "      <th>961</th>\n",
       "      <td>2023-07-20 05:30:00</td>\n",
       "      <td>0.1738</td>\n",
       "      <td>0.1776</td>\n",
       "      <td>0.1736</td>\n",
       "      <td>0.1766</td>\n",
       "      <td>15748352.0</td>\n",
       "      <td>0.170047</td>\n",
       "      <td>0.162673</td>\n",
       "      <td>0.145798</td>\n",
       "      <td>0.003504</td>\n",
       "      <td>50</td>\n",
       "      <td>0</td>\n",
       "      <td>NaN</td>\n",
       "      <td>0</td>\n",
       "    </tr>\n",
       "    <tr>\n",
       "      <th>962</th>\n",
       "      <td>2023-07-20 05:45:00</td>\n",
       "      <td>0.1766</td>\n",
       "      <td>0.1809</td>\n",
       "      <td>0.1761</td>\n",
       "      <td>0.1774</td>\n",
       "      <td>27854602.0</td>\n",
       "      <td>0.170747</td>\n",
       "      <td>0.163251</td>\n",
       "      <td>0.146113</td>\n",
       "      <td>0.003596</td>\n",
       "      <td>50</td>\n",
       "      <td>2</td>\n",
       "      <td>0.1819</td>\n",
       "      <td>0</td>\n",
       "    </tr>\n",
       "    <tr>\n",
       "      <th>963</th>\n",
       "      <td>2023-07-20 06:00:00</td>\n",
       "      <td>0.1774</td>\n",
       "      <td>0.1777</td>\n",
       "      <td>0.1719</td>\n",
       "      <td>0.1722</td>\n",
       "      <td>19513245.0</td>\n",
       "      <td>0.170886</td>\n",
       "      <td>0.163601</td>\n",
       "      <td>0.146372</td>\n",
       "      <td>0.003754</td>\n",
       "      <td>50</td>\n",
       "      <td>0</td>\n",
       "      <td>NaN</td>\n",
       "      <td>0</td>\n",
       "    </tr>\n",
       "    <tr>\n",
       "      <th>964</th>\n",
       "      <td>2023-07-20 06:15:00</td>\n",
       "      <td>0.1722</td>\n",
       "      <td>0.1749</td>\n",
       "      <td>0.1718</td>\n",
       "      <td>0.1737</td>\n",
       "      <td>8857364.0</td>\n",
       "      <td>0.171154</td>\n",
       "      <td>0.163998</td>\n",
       "      <td>0.146644</td>\n",
       "      <td>0.003707</td>\n",
       "      <td>50</td>\n",
       "      <td>0</td>\n",
       "      <td>NaN</td>\n",
       "      <td>0</td>\n",
       "    </tr>\n",
       "    <tr>\n",
       "      <th>965</th>\n",
       "      <td>2023-07-20 06:30:00</td>\n",
       "      <td>0.1736</td>\n",
       "      <td>0.1740</td>\n",
       "      <td>0.1676</td>\n",
       "      <td>0.1690</td>\n",
       "      <td>16244541.0</td>\n",
       "      <td>0.170949</td>\n",
       "      <td>0.164194</td>\n",
       "      <td>0.146867</td>\n",
       "      <td>0.003899</td>\n",
       "      <td>50</td>\n",
       "      <td>0</td>\n",
       "      <td>NaN</td>\n",
       "      <td>0</td>\n",
       "    </tr>\n",
       "    <tr>\n",
       "      <th>966</th>\n",
       "      <td>2023-07-20 06:45:00</td>\n",
       "      <td>0.1691</td>\n",
       "      <td>0.1691</td>\n",
       "      <td>0.1653</td>\n",
       "      <td>0.1666</td>\n",
       "      <td>13364489.0</td>\n",
       "      <td>0.170534</td>\n",
       "      <td>0.164288</td>\n",
       "      <td>0.147063</td>\n",
       "      <td>0.003892</td>\n",
       "      <td>50</td>\n",
       "      <td>0</td>\n",
       "      <td>NaN</td>\n",
       "      <td>0</td>\n",
       "    </tr>\n",
       "    <tr>\n",
       "      <th>967</th>\n",
       "      <td>2023-07-20 07:00:00</td>\n",
       "      <td>0.1666</td>\n",
       "      <td>0.1675</td>\n",
       "      <td>0.1645</td>\n",
       "      <td>0.1653</td>\n",
       "      <td>11084632.0</td>\n",
       "      <td>0.170036</td>\n",
       "      <td>0.164328</td>\n",
       "      <td>0.147245</td>\n",
       "      <td>0.003828</td>\n",
       "      <td>50</td>\n",
       "      <td>1</td>\n",
       "      <td>0.1635</td>\n",
       "      <td>0</td>\n",
       "    </tr>\n",
       "    <tr>\n",
       "      <th>968</th>\n",
       "      <td>2023-07-20 07:15:00</td>\n",
       "      <td>0.1653</td>\n",
       "      <td>0.1685</td>\n",
       "      <td>0.1651</td>\n",
       "      <td>0.1672</td>\n",
       "      <td>8908457.0</td>\n",
       "      <td>0.169766</td>\n",
       "      <td>0.164440</td>\n",
       "      <td>0.147443</td>\n",
       "      <td>0.003798</td>\n",
       "      <td>50</td>\n",
       "      <td>0</td>\n",
       "      <td>NaN</td>\n",
       "      <td>0</td>\n",
       "    </tr>\n",
       "    <tr>\n",
       "      <th>969</th>\n",
       "      <td>2023-07-20 07:30:00</td>\n",
       "      <td>0.1672</td>\n",
       "      <td>0.1682</td>\n",
       "      <td>0.1662</td>\n",
       "      <td>0.1678</td>\n",
       "      <td>6191673.0</td>\n",
       "      <td>0.169579</td>\n",
       "      <td>0.164572</td>\n",
       "      <td>0.147646</td>\n",
       "      <td>0.003669</td>\n",
       "      <td>50</td>\n",
       "      <td>0</td>\n",
       "      <td>NaN</td>\n",
       "      <td>0</td>\n",
       "    </tr>\n",
       "    <tr>\n",
       "      <th>970</th>\n",
       "      <td>2023-07-20 07:45:00</td>\n",
       "      <td>0.1678</td>\n",
       "      <td>0.1702</td>\n",
       "      <td>0.1671</td>\n",
       "      <td>0.1674</td>\n",
       "      <td>9910425.0</td>\n",
       "      <td>0.169371</td>\n",
       "      <td>0.164683</td>\n",
       "      <td>0.147842</td>\n",
       "      <td>0.003629</td>\n",
       "      <td>50</td>\n",
       "      <td>2</td>\n",
       "      <td>0.1712</td>\n",
       "      <td>0</td>\n",
       "    </tr>\n",
       "    <tr>\n",
       "      <th>971</th>\n",
       "      <td>2023-07-20 08:00:00</td>\n",
       "      <td>0.1674</td>\n",
       "      <td>0.1694</td>\n",
       "      <td>0.1667</td>\n",
       "      <td>0.1690</td>\n",
       "      <td>8494326.0</td>\n",
       "      <td>0.169336</td>\n",
       "      <td>0.164852</td>\n",
       "      <td>0.148053</td>\n",
       "      <td>0.003562</td>\n",
       "      <td>50</td>\n",
       "      <td>0</td>\n",
       "      <td>NaN</td>\n",
       "      <td>0</td>\n",
       "    </tr>\n",
       "    <tr>\n",
       "      <th>972</th>\n",
       "      <td>2023-07-20 08:15:00</td>\n",
       "      <td>0.1690</td>\n",
       "      <td>0.1694</td>\n",
       "      <td>0.1676</td>\n",
       "      <td>0.1692</td>\n",
       "      <td>6130143.0</td>\n",
       "      <td>0.169323</td>\n",
       "      <td>0.165023</td>\n",
       "      <td>0.148263</td>\n",
       "      <td>0.003437</td>\n",
       "      <td>50</td>\n",
       "      <td>0</td>\n",
       "      <td>NaN</td>\n",
       "      <td>0</td>\n",
       "    </tr>\n",
       "    <tr>\n",
       "      <th>973</th>\n",
       "      <td>2023-07-20 08:30:00</td>\n",
       "      <td>0.1693</td>\n",
       "      <td>0.1696</td>\n",
       "      <td>0.1676</td>\n",
       "      <td>0.1685</td>\n",
       "      <td>4748175.0</td>\n",
       "      <td>0.169244</td>\n",
       "      <td>0.165159</td>\n",
       "      <td>0.148465</td>\n",
       "      <td>0.003334</td>\n",
       "      <td>50</td>\n",
       "      <td>0</td>\n",
       "      <td>NaN</td>\n",
       "      <td>0</td>\n",
       "    </tr>\n",
       "    <tr>\n",
       "      <th>974</th>\n",
       "      <td>2023-07-20 08:45:00</td>\n",
       "      <td>0.1684</td>\n",
       "      <td>0.1690</td>\n",
       "      <td>0.1648</td>\n",
       "      <td>0.1649</td>\n",
       "      <td>9401042.0</td>\n",
       "      <td>0.168831</td>\n",
       "      <td>0.165149</td>\n",
       "      <td>0.148628</td>\n",
       "      <td>0.003396</td>\n",
       "      <td>50</td>\n",
       "      <td>0</td>\n",
       "      <td>NaN</td>\n",
       "      <td>0</td>\n",
       "    </tr>\n",
       "    <tr>\n",
       "      <th>975</th>\n",
       "      <td>2023-07-20 09:00:00</td>\n",
       "      <td>0.1649</td>\n",
       "      <td>0.1653</td>\n",
       "      <td>0.1610</td>\n",
       "      <td>0.1621</td>\n",
       "      <td>15077102.0</td>\n",
       "      <td>0.168190</td>\n",
       "      <td>0.165029</td>\n",
       "      <td>0.148762</td>\n",
       "      <td>0.003460</td>\n",
       "      <td>50</td>\n",
       "      <td>1</td>\n",
       "      <td>0.1600</td>\n",
       "      <td>0</td>\n",
       "    </tr>\n",
       "    <tr>\n",
       "      <th>976</th>\n",
       "      <td>2023-07-20 09:15:00</td>\n",
       "      <td>0.1621</td>\n",
       "      <td>0.1631</td>\n",
       "      <td>0.1610</td>\n",
       "      <td>0.1619</td>\n",
       "      <td>7480474.0</td>\n",
       "      <td>0.167591</td>\n",
       "      <td>0.164907</td>\n",
       "      <td>0.148893</td>\n",
       "      <td>0.003363</td>\n",
       "      <td>50</td>\n",
       "      <td>1</td>\n",
       "      <td>0.1600</td>\n",
       "      <td>0</td>\n",
       "    </tr>\n",
       "    <tr>\n",
       "      <th>977</th>\n",
       "      <td>2023-07-20 09:30:00</td>\n",
       "      <td>0.1619</td>\n",
       "      <td>0.1630</td>\n",
       "      <td>0.1618</td>\n",
       "      <td>0.1622</td>\n",
       "      <td>6527550.0</td>\n",
       "      <td>0.167077</td>\n",
       "      <td>0.164801</td>\n",
       "      <td>0.149025</td>\n",
       "      <td>0.003209</td>\n",
       "      <td>50</td>\n",
       "      <td>0</td>\n",
       "      <td>NaN</td>\n",
       "      <td>0</td>\n",
       "    </tr>\n",
       "    <tr>\n",
       "      <th>978</th>\n",
       "      <td>2023-07-20 09:45:00</td>\n",
       "      <td>0.1622</td>\n",
       "      <td>0.1635</td>\n",
       "      <td>0.1615</td>\n",
       "      <td>0.1630</td>\n",
       "      <td>6489829.0</td>\n",
       "      <td>0.166689</td>\n",
       "      <td>0.164730</td>\n",
       "      <td>0.149164</td>\n",
       "      <td>0.003122</td>\n",
       "      <td>50</td>\n",
       "      <td>0</td>\n",
       "      <td>NaN</td>\n",
       "      <td>0</td>\n",
       "    </tr>\n",
       "    <tr>\n",
       "      <th>979</th>\n",
       "      <td>2023-07-20 10:00:00</td>\n",
       "      <td>0.1629</td>\n",
       "      <td>0.1646</td>\n",
       "      <td>0.1618</td>\n",
       "      <td>0.1628</td>\n",
       "      <td>7783759.0</td>\n",
       "      <td>0.166319</td>\n",
       "      <td>0.164654</td>\n",
       "      <td>0.149300</td>\n",
       "      <td>0.003099</td>\n",
       "      <td>50</td>\n",
       "      <td>0</td>\n",
       "      <td>NaN</td>\n",
       "      <td>0</td>\n",
       "    </tr>\n",
       "    <tr>\n",
       "      <th>980</th>\n",
       "      <td>2023-07-20 10:15:00</td>\n",
       "      <td>0.1628</td>\n",
       "      <td>0.1638</td>\n",
       "      <td>0.1626</td>\n",
       "      <td>0.1626</td>\n",
       "      <td>4323593.0</td>\n",
       "      <td>0.165964</td>\n",
       "      <td>0.164574</td>\n",
       "      <td>0.149432</td>\n",
       "      <td>0.002964</td>\n",
       "      <td>50</td>\n",
       "      <td>0</td>\n",
       "      <td>NaN</td>\n",
       "      <td>0</td>\n",
       "    </tr>\n",
       "    <tr>\n",
       "      <th>981</th>\n",
       "      <td>2023-07-20 10:30:00</td>\n",
       "      <td>0.1627</td>\n",
       "      <td>0.1749</td>\n",
       "      <td>0.1627</td>\n",
       "      <td>0.1700</td>\n",
       "      <td>31403836.0</td>\n",
       "      <td>0.166349</td>\n",
       "      <td>0.164787</td>\n",
       "      <td>0.149637</td>\n",
       "      <td>0.003631</td>\n",
       "      <td>50</td>\n",
       "      <td>2</td>\n",
       "      <td>0.1759</td>\n",
       "      <td>0</td>\n",
       "    </tr>\n",
       "    <tr>\n",
       "      <th>982</th>\n",
       "      <td>2023-07-20 10:45:00</td>\n",
       "      <td>0.1699</td>\n",
       "      <td>0.1713</td>\n",
       "      <td>0.1659</td>\n",
       "      <td>0.1668</td>\n",
       "      <td>14865972.0</td>\n",
       "      <td>0.166392</td>\n",
       "      <td>0.164865</td>\n",
       "      <td>0.149808</td>\n",
       "      <td>0.003757</td>\n",
       "      <td>50</td>\n",
       "      <td>0</td>\n",
       "      <td>NaN</td>\n",
       "      <td>0</td>\n",
       "    </tr>\n",
       "    <tr>\n",
       "      <th>983</th>\n",
       "      <td>2023-07-20 11:00:00</td>\n",
       "      <td>0.1668</td>\n",
       "      <td>0.1686</td>\n",
       "      <td>0.1658</td>\n",
       "      <td>0.1680</td>\n",
       "      <td>8631847.0</td>\n",
       "      <td>0.166545</td>\n",
       "      <td>0.164988</td>\n",
       "      <td>0.149989</td>\n",
       "      <td>0.003689</td>\n",
       "      <td>50</td>\n",
       "      <td>0</td>\n",
       "      <td>NaN</td>\n",
       "      <td>0</td>\n",
       "    </tr>\n",
       "    <tr>\n",
       "      <th>984</th>\n",
       "      <td>2023-07-20 11:15:00</td>\n",
       "      <td>0.1680</td>\n",
       "      <td>0.1689</td>\n",
       "      <td>0.1670</td>\n",
       "      <td>0.1680</td>\n",
       "      <td>5608937.0</td>\n",
       "      <td>0.166684</td>\n",
       "      <td>0.165106</td>\n",
       "      <td>0.150168</td>\n",
       "      <td>0.003561</td>\n",
       "      <td>50</td>\n",
       "      <td>0</td>\n",
       "      <td>NaN</td>\n",
       "      <td>0</td>\n",
       "    </tr>\n",
       "    <tr>\n",
       "      <th>985</th>\n",
       "      <td>2023-07-20 11:30:00</td>\n",
       "      <td>0.1680</td>\n",
       "      <td>0.1686</td>\n",
       "      <td>0.1651</td>\n",
       "      <td>0.1653</td>\n",
       "      <td>5774905.0</td>\n",
       "      <td>0.166552</td>\n",
       "      <td>0.165114</td>\n",
       "      <td>0.150319</td>\n",
       "      <td>0.003556</td>\n",
       "      <td>50</td>\n",
       "      <td>0</td>\n",
       "      <td>NaN</td>\n",
       "      <td>0</td>\n",
       "    </tr>\n",
       "    <tr>\n",
       "      <th>986</th>\n",
       "      <td>2023-07-20 11:45:00</td>\n",
       "      <td>0.1653</td>\n",
       "      <td>0.1658</td>\n",
       "      <td>0.1642</td>\n",
       "      <td>0.1650</td>\n",
       "      <td>5367957.0</td>\n",
       "      <td>0.166404</td>\n",
       "      <td>0.165110</td>\n",
       "      <td>0.150465</td>\n",
       "      <td>0.003417</td>\n",
       "      <td>50</td>\n",
       "      <td>1</td>\n",
       "      <td>0.1632</td>\n",
       "      <td>0</td>\n",
       "    </tr>\n",
       "    <tr>\n",
       "      <th>987</th>\n",
       "      <td>2023-07-20 12:00:00</td>\n",
       "      <td>0.1649</td>\n",
       "      <td>0.1673</td>\n",
       "      <td>0.1649</td>\n",
       "      <td>0.1665</td>\n",
       "      <td>6042626.0</td>\n",
       "      <td>0.166413</td>\n",
       "      <td>0.165164</td>\n",
       "      <td>0.150624</td>\n",
       "      <td>0.003344</td>\n",
       "      <td>50</td>\n",
       "      <td>0</td>\n",
       "      <td>NaN</td>\n",
       "      <td>0</td>\n",
       "    </tr>\n",
       "    <tr>\n",
       "      <th>988</th>\n",
       "      <td>2023-07-20 12:15:00</td>\n",
       "      <td>0.1665</td>\n",
       "      <td>0.1677</td>\n",
       "      <td>0.1660</td>\n",
       "      <td>0.1673</td>\n",
       "      <td>3601166.0</td>\n",
       "      <td>0.166498</td>\n",
       "      <td>0.165248</td>\n",
       "      <td>0.150790</td>\n",
       "      <td>0.003227</td>\n",
       "      <td>50</td>\n",
       "      <td>0</td>\n",
       "      <td>NaN</td>\n",
       "      <td>0</td>\n",
       "    </tr>\n",
       "    <tr>\n",
       "      <th>989</th>\n",
       "      <td>2023-07-20 12:30:00</td>\n",
       "      <td>0.1672</td>\n",
       "      <td>0.1695</td>\n",
       "      <td>0.1670</td>\n",
       "      <td>0.1680</td>\n",
       "      <td>7836367.0</td>\n",
       "      <td>0.166641</td>\n",
       "      <td>0.165356</td>\n",
       "      <td>0.150961</td>\n",
       "      <td>0.003175</td>\n",
       "      <td>50</td>\n",
       "      <td>2</td>\n",
       "      <td>0.1705</td>\n",
       "      <td>0</td>\n",
       "    </tr>\n",
       "    <tr>\n",
       "      <th>990</th>\n",
       "      <td>2023-07-20 12:45:00</td>\n",
       "      <td>0.1681</td>\n",
       "      <td>0.1685</td>\n",
       "      <td>0.1667</td>\n",
       "      <td>0.1668</td>\n",
       "      <td>5023673.0</td>\n",
       "      <td>0.166656</td>\n",
       "      <td>0.165412</td>\n",
       "      <td>0.151119</td>\n",
       "      <td>0.003077</td>\n",
       "      <td>50</td>\n",
       "      <td>0</td>\n",
       "      <td>NaN</td>\n",
       "      <td>0</td>\n",
       "    </tr>\n",
       "    <tr>\n",
       "      <th>991</th>\n",
       "      <td>2023-07-20 13:00:00</td>\n",
       "      <td>0.1669</td>\n",
       "      <td>0.1675</td>\n",
       "      <td>0.1658</td>\n",
       "      <td>0.1660</td>\n",
       "      <td>3555750.0</td>\n",
       "      <td>0.166593</td>\n",
       "      <td>0.165435</td>\n",
       "      <td>0.151267</td>\n",
       "      <td>0.002978</td>\n",
       "      <td>50</td>\n",
       "      <td>0</td>\n",
       "      <td>NaN</td>\n",
       "      <td>4</td>\n",
       "    </tr>\n",
       "    <tr>\n",
       "      <th>992</th>\n",
       "      <td>2023-07-20 13:15:00</td>\n",
       "      <td>0.1661</td>\n",
       "      <td>0.1669</td>\n",
       "      <td>0.1656</td>\n",
       "      <td>0.1666</td>\n",
       "      <td>3723465.0</td>\n",
       "      <td>0.166594</td>\n",
       "      <td>0.165481</td>\n",
       "      <td>0.151420</td>\n",
       "      <td>0.002858</td>\n",
       "      <td>50</td>\n",
       "      <td>0</td>\n",
       "      <td>NaN</td>\n",
       "      <td>4</td>\n",
       "    </tr>\n",
       "    <tr>\n",
       "      <th>993</th>\n",
       "      <td>2023-07-20 13:30:00</td>\n",
       "      <td>0.1666</td>\n",
       "      <td>0.1669</td>\n",
       "      <td>0.1645</td>\n",
       "      <td>0.1645</td>\n",
       "      <td>4449400.0</td>\n",
       "      <td>0.166395</td>\n",
       "      <td>0.165443</td>\n",
       "      <td>0.151550</td>\n",
       "      <td>0.002826</td>\n",
       "      <td>50</td>\n",
       "      <td>0</td>\n",
       "      <td>NaN</td>\n",
       "      <td>4</td>\n",
       "    </tr>\n",
       "    <tr>\n",
       "      <th>994</th>\n",
       "      <td>2023-07-20 13:45:00</td>\n",
       "      <td>0.1646</td>\n",
       "      <td>0.1653</td>\n",
       "      <td>0.1628</td>\n",
       "      <td>0.1643</td>\n",
       "      <td>9448662.0</td>\n",
       "      <td>0.166195</td>\n",
       "      <td>0.165398</td>\n",
       "      <td>0.151677</td>\n",
       "      <td>0.002802</td>\n",
       "      <td>50</td>\n",
       "      <td>0</td>\n",
       "      <td>NaN</td>\n",
       "      <td>4</td>\n",
       "    </tr>\n",
       "    <tr>\n",
       "      <th>995</th>\n",
       "      <td>2023-07-20 14:00:00</td>\n",
       "      <td>0.1642</td>\n",
       "      <td>0.1650</td>\n",
       "      <td>0.1620</td>\n",
       "      <td>0.1621</td>\n",
       "      <td>5756883.0</td>\n",
       "      <td>0.165805</td>\n",
       "      <td>0.165269</td>\n",
       "      <td>0.151780</td>\n",
       "      <td>0.002816</td>\n",
       "      <td>50</td>\n",
       "      <td>0</td>\n",
       "      <td>NaN</td>\n",
       "      <td>4</td>\n",
       "    </tr>\n",
       "    <tr>\n",
       "      <th>996</th>\n",
       "      <td>2023-07-20 14:15:00</td>\n",
       "      <td>0.1621</td>\n",
       "      <td>0.1635</td>\n",
       "      <td>0.1620</td>\n",
       "      <td>0.1631</td>\n",
       "      <td>5732832.0</td>\n",
       "      <td>0.165547</td>\n",
       "      <td>0.165184</td>\n",
       "      <td>0.151893</td>\n",
       "      <td>0.002722</td>\n",
       "      <td>50</td>\n",
       "      <td>0</td>\n",
       "      <td>NaN</td>\n",
       "      <td>0</td>\n",
       "    </tr>\n",
       "    <tr>\n",
       "      <th>997</th>\n",
       "      <td>2023-07-20 14:30:00</td>\n",
       "      <td>0.1631</td>\n",
       "      <td>0.1635</td>\n",
       "      <td>0.1591</td>\n",
       "      <td>0.1597</td>\n",
       "      <td>12183733.0</td>\n",
       "      <td>0.164991</td>\n",
       "      <td>0.164968</td>\n",
       "      <td>0.151971</td>\n",
       "      <td>0.002842</td>\n",
       "      <td>50</td>\n",
       "      <td>0</td>\n",
       "      <td>NaN</td>\n",
       "      <td>0</td>\n",
       "    </tr>\n",
       "    <tr>\n",
       "      <th>998</th>\n",
       "      <td>2023-07-20 14:45:00</td>\n",
       "      <td>0.1596</td>\n",
       "      <td>0.1621</td>\n",
       "      <td>0.1594</td>\n",
       "      <td>0.1615</td>\n",
       "      <td>9925590.0</td>\n",
       "      <td>0.164658</td>\n",
       "      <td>0.164832</td>\n",
       "      <td>0.152065</td>\n",
       "      <td>0.002832</td>\n",
       "      <td>50</td>\n",
       "      <td>0</td>\n",
       "      <td>NaN</td>\n",
       "      <td>0</td>\n",
       "    </tr>\n",
       "    <tr>\n",
       "      <th>999</th>\n",
       "      <td>2023-07-20 15:00:00</td>\n",
       "      <td>0.1615</td>\n",
       "      <td>0.1616</td>\n",
       "      <td>0.1609</td>\n",
       "      <td>0.1611</td>\n",
       "      <td>1007907.0</td>\n",
       "      <td>0.164319</td>\n",
       "      <td>0.164686</td>\n",
       "      <td>0.152155</td>\n",
       "      <td>0.002680</td>\n",
       "      <td>50</td>\n",
       "      <td>0</td>\n",
       "      <td>NaN</td>\n",
       "      <td>0</td>\n",
       "    </tr>\n",
       "  </tbody>\n",
       "</table>\n",
       "</div>"
      ],
      "text/plain": [
       "              Open Time    Open    High     Low   Close      Volume     ema20  \\\n",
       "940 2023-07-20 00:15:00  0.1572  0.1582  0.1562  0.1568   5302028.0  0.156956   \n",
       "941 2023-07-20 00:30:00  0.1569  0.1588  0.1558  0.1583   4114310.0  0.157084   \n",
       "942 2023-07-20 00:45:00  0.1583  0.1605  0.1578  0.1585   9249086.0  0.157219   \n",
       "943 2023-07-20 01:00:00  0.1584  0.1595  0.1580  0.1585   4734677.0  0.157341   \n",
       "944 2023-07-20 01:15:00  0.1584  0.1590  0.1570  0.1587   4136631.0  0.157470   \n",
       "945 2023-07-20 01:30:00  0.1587  0.1607  0.1585  0.1605   7249223.0  0.157759   \n",
       "946 2023-07-20 01:45:00  0.1606  0.1625  0.1599  0.1617   8767301.0  0.158134   \n",
       "947 2023-07-20 02:00:00  0.1617  0.1670  0.1610  0.1641  16197944.0  0.158702   \n",
       "948 2023-07-20 02:15:00  0.1641  0.1699  0.1638  0.1692  20086442.0  0.159702   \n",
       "949 2023-07-20 02:30:00  0.1691  0.1770  0.1684  0.1734  36871799.0  0.161007   \n",
       "950 2023-07-20 02:45:00  0.1734  0.1785  0.1729  0.1740  31379986.0  0.162244   \n",
       "951 2023-07-20 03:00:00  0.1740  0.1768  0.1727  0.1749  16209128.0  0.163449   \n",
       "952 2023-07-20 03:15:00  0.1749  0.1766  0.1706  0.1712  16673678.0  0.164188   \n",
       "953 2023-07-20 03:30:00  0.1712  0.1744  0.1702  0.1730  11589098.0  0.165027   \n",
       "954 2023-07-20 03:45:00  0.1730  0.1742  0.1720  0.1726   8041243.0  0.165748   \n",
       "955 2023-07-20 04:00:00  0.1727  0.1760  0.1710  0.1750  14332425.0  0.166629   \n",
       "956 2023-07-20 04:15:00  0.1750  0.1755  0.1725  0.1730   7634735.0  0.167236   \n",
       "957 2023-07-20 04:30:00  0.1729  0.1741  0.1709  0.1740   9331792.0  0.167880   \n",
       "958 2023-07-20 04:45:00  0.1740  0.1745  0.1724  0.1725   7861866.0  0.168320   \n",
       "959 2023-07-20 05:00:00  0.1726  0.1745  0.1720  0.1743   7079877.0  0.168890   \n",
       "960 2023-07-20 05:15:00  0.1743  0.1753  0.1738  0.1738  10055069.0  0.169357   \n",
       "961 2023-07-20 05:30:00  0.1738  0.1776  0.1736  0.1766  15748352.0  0.170047   \n",
       "962 2023-07-20 05:45:00  0.1766  0.1809  0.1761  0.1774  27854602.0  0.170747   \n",
       "963 2023-07-20 06:00:00  0.1774  0.1777  0.1719  0.1722  19513245.0  0.170886   \n",
       "964 2023-07-20 06:15:00  0.1722  0.1749  0.1718  0.1737   8857364.0  0.171154   \n",
       "965 2023-07-20 06:30:00  0.1736  0.1740  0.1676  0.1690  16244541.0  0.170949   \n",
       "966 2023-07-20 06:45:00  0.1691  0.1691  0.1653  0.1666  13364489.0  0.170534   \n",
       "967 2023-07-20 07:00:00  0.1666  0.1675  0.1645  0.1653  11084632.0  0.170036   \n",
       "968 2023-07-20 07:15:00  0.1653  0.1685  0.1651  0.1672   8908457.0  0.169766   \n",
       "969 2023-07-20 07:30:00  0.1672  0.1682  0.1662  0.1678   6191673.0  0.169579   \n",
       "970 2023-07-20 07:45:00  0.1678  0.1702  0.1671  0.1674   9910425.0  0.169371   \n",
       "971 2023-07-20 08:00:00  0.1674  0.1694  0.1667  0.1690   8494326.0  0.169336   \n",
       "972 2023-07-20 08:15:00  0.1690  0.1694  0.1676  0.1692   6130143.0  0.169323   \n",
       "973 2023-07-20 08:30:00  0.1693  0.1696  0.1676  0.1685   4748175.0  0.169244   \n",
       "974 2023-07-20 08:45:00  0.1684  0.1690  0.1648  0.1649   9401042.0  0.168831   \n",
       "975 2023-07-20 09:00:00  0.1649  0.1653  0.1610  0.1621  15077102.0  0.168190   \n",
       "976 2023-07-20 09:15:00  0.1621  0.1631  0.1610  0.1619   7480474.0  0.167591   \n",
       "977 2023-07-20 09:30:00  0.1619  0.1630  0.1618  0.1622   6527550.0  0.167077   \n",
       "978 2023-07-20 09:45:00  0.1622  0.1635  0.1615  0.1630   6489829.0  0.166689   \n",
       "979 2023-07-20 10:00:00  0.1629  0.1646  0.1618  0.1628   7783759.0  0.166319   \n",
       "980 2023-07-20 10:15:00  0.1628  0.1638  0.1626  0.1626   4323593.0  0.165964   \n",
       "981 2023-07-20 10:30:00  0.1627  0.1749  0.1627  0.1700  31403836.0  0.166349   \n",
       "982 2023-07-20 10:45:00  0.1699  0.1713  0.1659  0.1668  14865972.0  0.166392   \n",
       "983 2023-07-20 11:00:00  0.1668  0.1686  0.1658  0.1680   8631847.0  0.166545   \n",
       "984 2023-07-20 11:15:00  0.1680  0.1689  0.1670  0.1680   5608937.0  0.166684   \n",
       "985 2023-07-20 11:30:00  0.1680  0.1686  0.1651  0.1653   5774905.0  0.166552   \n",
       "986 2023-07-20 11:45:00  0.1653  0.1658  0.1642  0.1650   5367957.0  0.166404   \n",
       "987 2023-07-20 12:00:00  0.1649  0.1673  0.1649  0.1665   6042626.0  0.166413   \n",
       "988 2023-07-20 12:15:00  0.1665  0.1677  0.1660  0.1673   3601166.0  0.166498   \n",
       "989 2023-07-20 12:30:00  0.1672  0.1695  0.1670  0.1680   7836367.0  0.166641   \n",
       "990 2023-07-20 12:45:00  0.1681  0.1685  0.1667  0.1668   5023673.0  0.166656   \n",
       "991 2023-07-20 13:00:00  0.1669  0.1675  0.1658  0.1660   3555750.0  0.166593   \n",
       "992 2023-07-20 13:15:00  0.1661  0.1669  0.1656  0.1666   3723465.0  0.166594   \n",
       "993 2023-07-20 13:30:00  0.1666  0.1669  0.1645  0.1645   4449400.0  0.166395   \n",
       "994 2023-07-20 13:45:00  0.1646  0.1653  0.1628  0.1643   9448662.0  0.166195   \n",
       "995 2023-07-20 14:00:00  0.1642  0.1650  0.1620  0.1621   5756883.0  0.165805   \n",
       "996 2023-07-20 14:15:00  0.1621  0.1635  0.1620  0.1631   5732832.0  0.165547   \n",
       "997 2023-07-20 14:30:00  0.1631  0.1635  0.1591  0.1597  12183733.0  0.164991   \n",
       "998 2023-07-20 14:45:00  0.1596  0.1621  0.1594  0.1615   9925590.0  0.164658   \n",
       "999 2023-07-20 15:00:00  0.1615  0.1616  0.1609  0.1611   1007907.0  0.164319   \n",
       "\n",
       "        ema50    ema200       atr  n_atr  pivot  pointpos  signal  \n",
       "940  0.152679  0.140309  0.003116     50      0       NaN       0  \n",
       "941  0.152900  0.140489  0.003108     50      0       NaN       0  \n",
       "942  0.153120  0.140668  0.003079     50      0       NaN       0  \n",
       "943  0.153331  0.140845  0.002966     50      0       NaN       0  \n",
       "944  0.153541  0.141023  0.002897     50      0       NaN       0  \n",
       "945  0.153814  0.141217  0.002847     50      0       NaN       0  \n",
       "946  0.154123  0.141420  0.002830     50      0       NaN       0  \n",
       "947  0.154514  0.141646  0.003056     50      0       NaN       0  \n",
       "948  0.155090  0.141920  0.003274     50      0       NaN       0  \n",
       "949  0.155808  0.142234  0.003654     50      0       NaN       0  \n",
       "950  0.156522  0.142550  0.003793     50      2    0.1795       0  \n",
       "951  0.157243  0.142871  0.003815     50      0       NaN       0  \n",
       "952  0.157790  0.143153  0.003971     50      0       NaN       0  \n",
       "953  0.158386  0.143450  0.003987     50      1    0.1692       0  \n",
       "954  0.158944  0.143740  0.003860     50      0       NaN       0  \n",
       "955  0.159573  0.144051  0.003941     50      0       NaN       0  \n",
       "956  0.160100  0.144339  0.003874     50      0       NaN       0  \n",
       "957  0.160645  0.144635  0.003826     50      1    0.1699       0  \n",
       "958  0.161110  0.144912  0.003703     50      0       NaN       0  \n",
       "959  0.161627  0.145204  0.003617     50      0       NaN       0  \n",
       "960  0.162105  0.145489  0.003465     50      0       NaN       0  \n",
       "961  0.162673  0.145798  0.003504     50      0       NaN       0  \n",
       "962  0.163251  0.146113  0.003596     50      2    0.1819       0  \n",
       "963  0.163601  0.146372  0.003754     50      0       NaN       0  \n",
       "964  0.163998  0.146644  0.003707     50      0       NaN       0  \n",
       "965  0.164194  0.146867  0.003899     50      0       NaN       0  \n",
       "966  0.164288  0.147063  0.003892     50      0       NaN       0  \n",
       "967  0.164328  0.147245  0.003828     50      1    0.1635       0  \n",
       "968  0.164440  0.147443  0.003798     50      0       NaN       0  \n",
       "969  0.164572  0.147646  0.003669     50      0       NaN       0  \n",
       "970  0.164683  0.147842  0.003629     50      2    0.1712       0  \n",
       "971  0.164852  0.148053  0.003562     50      0       NaN       0  \n",
       "972  0.165023  0.148263  0.003437     50      0       NaN       0  \n",
       "973  0.165159  0.148465  0.003334     50      0       NaN       0  \n",
       "974  0.165149  0.148628  0.003396     50      0       NaN       0  \n",
       "975  0.165029  0.148762  0.003460     50      1    0.1600       0  \n",
       "976  0.164907  0.148893  0.003363     50      1    0.1600       0  \n",
       "977  0.164801  0.149025  0.003209     50      0       NaN       0  \n",
       "978  0.164730  0.149164  0.003122     50      0       NaN       0  \n",
       "979  0.164654  0.149300  0.003099     50      0       NaN       0  \n",
       "980  0.164574  0.149432  0.002964     50      0       NaN       0  \n",
       "981  0.164787  0.149637  0.003631     50      2    0.1759       0  \n",
       "982  0.164865  0.149808  0.003757     50      0       NaN       0  \n",
       "983  0.164988  0.149989  0.003689     50      0       NaN       0  \n",
       "984  0.165106  0.150168  0.003561     50      0       NaN       0  \n",
       "985  0.165114  0.150319  0.003556     50      0       NaN       0  \n",
       "986  0.165110  0.150465  0.003417     50      1    0.1632       0  \n",
       "987  0.165164  0.150624  0.003344     50      0       NaN       0  \n",
       "988  0.165248  0.150790  0.003227     50      0       NaN       0  \n",
       "989  0.165356  0.150961  0.003175     50      2    0.1705       0  \n",
       "990  0.165412  0.151119  0.003077     50      0       NaN       0  \n",
       "991  0.165435  0.151267  0.002978     50      0       NaN       4  \n",
       "992  0.165481  0.151420  0.002858     50      0       NaN       4  \n",
       "993  0.165443  0.151550  0.002826     50      0       NaN       4  \n",
       "994  0.165398  0.151677  0.002802     50      0       NaN       4  \n",
       "995  0.165269  0.151780  0.002816     50      0       NaN       4  \n",
       "996  0.165184  0.151893  0.002722     50      0       NaN       0  \n",
       "997  0.164968  0.151971  0.002842     50      0       NaN       0  \n",
       "998  0.164832  0.152065  0.002832     50      0       NaN       0  \n",
       "999  0.164686  0.152155  0.002680     50      0       NaN       0  "
      ]
     },
     "execution_count": 14,
     "metadata": {},
     "output_type": "execute_result"
    }
   ],
   "source": [
    "df.tail(60)"
   ]
  }
 ],
 "metadata": {
  "kernelspec": {
   "display_name": "Python 3 (ipykernel)",
   "language": "python",
   "name": "python3"
  },
  "language_info": {
   "codemirror_mode": {
    "name": "ipython",
    "version": 3
   },
   "file_extension": ".py",
   "mimetype": "text/x-python",
   "name": "python",
   "nbconvert_exporter": "python",
   "pygments_lexer": "ipython3",
   "version": "3.10.11"
  }
 },
 "nbformat": 4,
 "nbformat_minor": 5
}
