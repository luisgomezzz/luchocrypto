{
 "cells": [
  {
   "cell_type": "code",
   "execution_count": 2,
   "id": "ccfccee5",
   "metadata": {},
   "outputs": [
    {
     "name": "stdout",
     "output_type": "stream",
     "text": [
      "Symbol: XRPUSDT - Return [%]: -21.64\n"
     ]
    },
    {
     "data": {
      "text/plain": [
       "-21.641597399999952"
      ]
     },
     "execution_count": 2,
     "metadata": {},
     "output_type": "execute_result"
    }
   ],
   "source": [
    "import util\n",
    "from backtesting import Backtest\n",
    "import pandas_ta as ta\n",
    "import numpy as np\n",
    "\n",
    "lista = ['BTCUSDT', 'ETHUSDT', 'BCHUSDT', 'XRPUSDT', 'LTCUSDT', 'ETCUSDT', 'LINKUSDT', 'ADAUSDT', 'BNBUSDT', 'DOGEUSDT', 'DOTUSDT', \n",
    "         'SOLUSDT', 'AVAXUSDT', 'NEARUSDT', 'FILUSDT', 'MATICUSDT', 'OPUSDT', 'FETUSDT', 'AGIXUSDT', 'ARBUSDT',  \n",
    "         'SLPUSDT', 'MEMEUSDT',  '1000SATSUSDT', 'PIXELUSDT']\n",
    "lista=['XRPUSDT']\n",
    "timeframe='1h'\n",
    "suma=0.0\n",
    "for symbol in lista:\n",
    "    data=util.obtiene_historial(symbol,timeframe)\n",
    "    data['ema100']=ta.ema(data.Close, length=100)\n",
    "    data['ema200']=ta.ema(data.Close, length=200)\n",
    "    data['trade'] = np.where(util.crossover_dataframe(data.ema100, data.ema200),1,np.where(util.crossover_dataframe(data.ema200, data.ema100),-1,0))\n",
    "    bt = Backtest(data,util.backtesting_config,cash=100000,exclusive_orders=True)\n",
    "    output = bt.run()\n",
    "    if len(lista)==1:\n",
    "        bt.plot(filename=\"graficos/\"+symbol)\n",
    "    print(f\"Symbol: {symbol} - Return [%]: {round(output['Return [%]'],2)}\")\n",
    "    suma=suma+output['Return [%]']\n",
    "suma"
   ]
  }
 ],
 "metadata": {
  "kernelspec": {
   "display_name": "Python 3 (ipykernel)",
   "language": "python",
   "name": "python3"
  },
  "language_info": {
   "codemirror_mode": {
    "name": "ipython",
    "version": 3
   },
   "file_extension": ".py",
   "mimetype": "text/x-python",
   "name": "python",
   "nbconvert_exporter": "python",
   "pygments_lexer": "ipython3",
   "version": "3.10.11"
  }
 },
 "nbformat": 4,
 "nbformat_minor": 5
}
