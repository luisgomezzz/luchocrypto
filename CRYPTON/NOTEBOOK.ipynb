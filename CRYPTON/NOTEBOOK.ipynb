{
 "cells": [
  {
   "cell_type": "code",
   "execution_count": 6,
   "id": "ccfccee5",
   "metadata": {},
   "outputs": [
    {
     "name": "stdout",
     "output_type": "stream",
     "text": [
      "Symbol: ETHUSDT - Return [%]: -7.43\n"
     ]
    },
    {
     "data": {
      "text/plain": [
       "-7.428397459176588"
      ]
     },
     "execution_count": 6,
     "metadata": {},
     "output_type": "execute_result"
    }
   ],
   "source": [
    "import util\n",
    "from backtesting import Backtest\n",
    "import pandas_ta as ta\n",
    "import numpy as np\n",
    "\n",
    "lista = ['BTCUSDT', 'ETHUSDT', 'BCHUSDT', 'XRPUSDT', 'LTCUSDT', 'ETCUSDT', 'LINKUSDT', 'ADAUSDT', 'BNBUSDT', 'DOGEUSDT', 'DOTUSDT', \n",
    "         'SOLUSDT', 'AVAXUSDT', 'NEARUSDT', 'FILUSDT', 'MATICUSDT', 'OPUSDT', 'FETUSDT', 'AGIXUSDT', 'ARBUSDT',  \n",
    "         'SLPUSDT', 'MEMEUSDT',  '1000SATSUSDT', 'PIXELUSDT']\n",
    "lista=['ETHUSDT']\n",
    "\n",
    "suma=0.0\n",
    "\n",
    "for symbol in lista:\n",
    "    data=util.obtiene_historial(symbol,'1h')\n",
    "    distancia= abs(data.Close - data.ema200)\n",
    "    data['ema100']=ta.ema(data.Close, length=100)\n",
    "    ##    \n",
    "    data['trade'] = np.where(util.crossover_dataframe(data.ema100, data.ema200),1,np.where(util.crossover_dataframe(data.ema200, data.ema100),-1,0))\n",
    "    data['stop_loss'] = np.where(data.trade==1,data.Close-distancia,np.where(data.trade==-1,data.Close+distancia,0))\n",
    "    data['take_profit'] = np.where(data.trade==1,data.Close+distancia*3,np.where(data.trade==-1,data.Close-distancia*3,0))   \n",
    "    ##\n",
    "    bt = Backtest(data,util.backtesting_config,cash=100000,exclusive_orders=True)\n",
    "    output = bt.run()\n",
    "    if len(lista)==1:\n",
    "        bt.plot(filename=\"graficos/\"+symbol)\n",
    "    print(f\"Symbol: {symbol} - Return [%]: {round(output['Return [%]'],2)}\")\n",
    "    suma=suma+output['Return [%]']\n",
    "\n",
    "suma"
   ]
  }
 ],
 "metadata": {
  "kernelspec": {
   "display_name": "Python 3 (ipykernel)",
   "language": "python",
   "name": "python3"
  },
  "language_info": {
   "codemirror_mode": {
    "name": "ipython",
    "version": 3
   },
   "file_extension": ".py",
   "mimetype": "text/x-python",
   "name": "python",
   "nbconvert_exporter": "python",
   "pygments_lexer": "ipython3",
   "version": "3.10.11"
  }
 },
 "nbformat": 4,
 "nbformat_minor": 5
}
