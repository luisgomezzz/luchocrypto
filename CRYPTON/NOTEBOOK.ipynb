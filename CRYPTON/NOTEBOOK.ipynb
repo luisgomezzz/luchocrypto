{
 "cells": [
  {
   "cell_type": "code",
   "execution_count": 36,
   "id": "ccfccee5",
   "metadata": {},
   "outputs": [
    {
     "name": "stderr",
     "output_type": "stream",
     "text": [
      "C:\\Users\\Luis Gomez Freites\\AppData\\Local\\Packages\\PythonSoftwareFoundation.Python.3.10_qbz5n2kfra8p0\\LocalCache\\local-packages\\Python310\\site-packages\\backtesting\\_stats.py:122: RuntimeWarning: divide by zero encountered in double_scalars\n",
      "  s.loc['Sortino Ratio'] = np.clip((annualized_return - risk_free_rate) / (np.sqrt(np.mean(day_returns.clip(-np.inf, 0)**2)) * np.sqrt(annual_trading_days)), 0, np.inf)  # noqa: E501\n"
     ]
    },
    {
     "data": {
      "text/plain": [
       "Start                     2024-08-17 08:23:00\n",
       "End                       2024-08-18 01:02:00\n",
       "Duration                      0 days 16:39:00\n",
       "Exposure Time [%]                        70.7\n",
       "Equity Final [$]                      99998.7\n",
       "Equity Peak [$]                      100380.7\n",
       "Return [%]                            -0.0013\n",
       "Buy & Hold Return [%]                0.714208\n",
       "Return (Ann.) [%]                   33.746402\n",
       "Volatility (Ann.) [%]                     NaN\n",
       "Sharpe Ratio                              NaN\n",
       "Sortino Ratio                             inf\n",
       "Calmar Ratio                        53.388297\n",
       "Max. Drawdown [%]                   -0.632094\n",
       "Avg. Drawdown [%]                    -0.15587\n",
       "Max. Drawdown Duration        0 days 07:58:00\n",
       "Avg. Drawdown Duration        0 days 01:19:00\n",
       "# Trades                                    5\n",
       "Win Rate [%]                             40.0\n",
       "Best Trade [%]                       0.370322\n",
       "Worst Trade [%]                     -0.225199\n",
       "Avg. Trade [%]                      -0.000662\n",
       "Max. Trade Duration           0 days 05:23:00\n",
       "Avg. Trade Duration           0 days 02:22:00\n",
       "Profit Factor                        0.996024\n",
       "Expectancy [%]                      -0.000409\n",
       "SQN                                  -0.00389\n",
       "_strategy                            SmaCross\n",
       "_equity_curve                             ...\n",
       "_trades                      Size  EntryBa...\n",
       "dtype: object"
      ]
     },
     "execution_count": 36,
     "metadata": {},
     "output_type": "execute_result"
    }
   ],
   "source": [
    "import util\n",
    "import pandas as pd\n",
    "from backtesting import Backtest, Strategy\n",
    "from backtesting.lib import crossover\n",
    "import pandas_ta as ta\n",
    "\n",
    "#['BTCUSDT', 'ETHUSDT', 'BCHUSDT', 'XRPUSDT', 'LTCUSDT', 'ETCUSDT', 'LINKUSDT', 'ADAUSDT', 'BNBUSDT', 'DOGEUSDT', 'DOTUSDT', 'SOLUSDT',\n",
    "# 'AVAXUSDT', 'NEARUSDT', 'FILUSDT', 'MATICUSDT', 'OPUSDT', 'FETUSDT', 'AGIXUSDT', 'ARBUSDT', 'WLDUSDT', 'ARKMUSDT', 'SLPUSDT', 'MEMEUSDT', \n",
    "# 'ORDIUSDT', '1000SATSUSDT', 'PIXELUSDT', 'GLMUSDT']\n",
    "\n",
    "symbol='BTCUSDT'\n",
    "timeframe='1m'\n",
    "data=util.obtiene_historial(symbol,timeframe)\n",
    "\n",
    "def indicador(df_campo):\n",
    "    indi=pd.Series(df_campo)\n",
    "    return indi.to_numpy()\n",
    "\n",
    "class SmaCross(Strategy):\n",
    "    def init(self):\n",
    "        data['columna1'] = ta.ema(data.Close, length=100)\n",
    "        data['columna2'] = ta.ema(data.Close, length=200)\n",
    "        self.columna1 = self.I(indicador, data.columna1,name=\"columna1\", color=\"red\")\n",
    "        self.columna2 = self.I(indicador, data.columna2,name=\"columna2\", color=\"blue\")\n",
    "    def next(self):\n",
    "        if crossover(self.columna1, self.columna2):\n",
    "                self.buy()\n",
    "        elif crossover(self.columna2, self.columna1):\n",
    "                self.sell()\n",
    "\n",
    "bt = Backtest(data, SmaCross,\n",
    "              cash=100000, \n",
    "              exclusive_orders=True)\n",
    "\n",
    "output = bt.run()\n",
    "bt.plot()\n",
    "output"
   ]
  }
 ],
 "metadata": {
  "kernelspec": {
   "display_name": "Python 3 (ipykernel)",
   "language": "python",
   "name": "python3"
  },
  "language_info": {
   "codemirror_mode": {
    "name": "ipython",
    "version": 3
   },
   "file_extension": ".py",
   "mimetype": "text/x-python",
   "name": "python",
   "nbconvert_exporter": "python",
   "pygments_lexer": "ipython3",
   "version": "3.10.11"
  }
 },
 "nbformat": 4,
 "nbformat_minor": 5
}
