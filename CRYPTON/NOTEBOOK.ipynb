{
 "cells": [
  {
   "cell_type": "code",
   "execution_count": 1,
   "id": "ccfccee5",
   "metadata": {},
   "outputs": [
    {
     "name": "stdout",
     "output_type": "stream",
     "text": [
      "timeframe: 1h - limit: 1000\n",
      "Symbol: BTCUSDT - Return [%]: -0.52 - # Trades: 4 - Win Rate [%]: 25.0\n",
      "Suma total: -0.5237692224117927 - Trades total: 4\n"
     ]
    }
   ],
   "source": [
    "import util\n",
    "from backtesting import Backtest\n",
    "import pandas_ta as ta\n",
    "import numpy as np\n",
    "\n",
    "lista = ['BTCUSDT', 'ETHUSDT', 'BCHUSDT', 'XRPUSDT', 'LTCUSDT', 'ETCUSDT', 'LINKUSDT', 'ADAUSDT', 'BNBUSDT', 'DOGEUSDT', 'DOTUSDT', \n",
    "         'SOLUSDT', 'AVAXUSDT', 'NEARUSDT', 'FILUSDT', 'MATICUSDT', 'OPUSDT', 'FETUSDT', 'AGIXUSDT', 'ARBUSDT',  \n",
    "         'SLPUSDT', 'MEMEUSDT',  '1000SATSUSDT', 'PIXELUSDT']\n",
    "lista=['BTCUSDT']\n",
    "\n",
    "suma=0.0\n",
    "trades = 0\n",
    "timeframe='1h'\n",
    "limit= 1000\n",
    "\n",
    "print(f\"timeframe: {timeframe} - limit: {limit}\")\n",
    "for symbol in lista:\n",
    "    try:\n",
    "        data=util.obtiene_historial(symbol=symbol,timeframe=timeframe,limit=limit)    \n",
    "        data['ema100']=ta.ema(data.Close, length=100)\n",
    "        data['ema200']=ta.ema(data.Close, length=200)\n",
    "        porcentaje_perdida = 1\n",
    "        ##    obligatorios   --->>>  trade, stop_loss, take_profit, porcentajeentrada\n",
    "        data['trade'] = np.where(util.crossover_dataframe(data.ema100, data.ema200),1,np.where(util.crossover_dataframe(data.ema200, data.ema100),-1,0))\n",
    "        data['stop_loss'] = np.where(data.trade==1,data.ema200,np.where(data.trade==-1,data.ema200,0))\n",
    "        variacion_hasta_stop_loss = abs(((data.stop_loss/data.Close)-1)*100)\n",
    "        data['take_profit'] = np.where(data.trade==1,data.Close+(data.Close-data.ema200)*3,np.where(data.trade==-1,data.Close-(data.ema200-data.Close)*3,0))           \n",
    "        data['porcentajeentrada'] = np.where(((porcentaje_perdida/variacion_hasta_stop_loss))>=1,0.99,((porcentaje_perdida/variacion_hasta_stop_loss)))        ##\n",
    "        ###\n",
    "        bt = Backtest(data,util.backtesting_config,cash=1000000,exclusive_orders=True)\n",
    "        output = bt.run()\n",
    "        if len(lista)==1:\n",
    "            bt.plot(filename=\"graficos/\"+symbol)\n",
    "        print(f\"Symbol: {symbol} - Return [%]: {round(output['Return [%]'],2)} - # Trades: {output['# Trades']} - Win Rate [%]: {output['Win Rate [%]']}\")\n",
    "        suma=suma+output['Return [%]']\n",
    "        trades=trades+output['# Trades']\n",
    "    except Exception as e:\n",
    "        print(f\"Error en {symbol}: {e}\")\n",
    "print(f\"Suma total: {suma} - Trades total: {trades}\")"
   ]
  },
  {
   "cell_type": "code",
   "execution_count": 3,
   "id": "29d75dce",
   "metadata": {},
   "outputs": [
    {
     "name": "stdout",
     "output_type": "stream",
     "text": [
      "timeframe: 1h - limit: 1000\n",
      "Symbol: BTCUSDT - Return [%]: -6.75 - # Trades: 11 - Win Rate [%]: 0.0\n",
      "Symbol: ETHUSDT - Return [%]: -8.19 - # Trades: 18 - Win Rate [%]: 0.0\n",
      "Symbol: BCHUSDT - Return [%]: -6.36 - # Trades: 15 - Win Rate [%]: 13.333333333333334\n",
      "Symbol: XRPUSDT - Return [%]: -2.37 - # Trades: 4 - Win Rate [%]: 25.0\n",
      "Symbol: LTCUSDT - Return [%]: -4.93 - # Trades: 11 - Win Rate [%]: 9.090909090909092\n",
      "Symbol: ETCUSDT - Return [%]: -10.3 - # Trades: 16 - Win Rate [%]: 6.25\n",
      "Symbol: LINKUSDT - Return [%]: -9.63 - # Trades: 19 - Win Rate [%]: 5.263157894736842\n",
      "Symbol: ADAUSDT - Return [%]: -11.63 - # Trades: 19 - Win Rate [%]: 5.263157894736842\n",
      "Symbol: BNBUSDT - Return [%]: -2.69 - # Trades: 6 - Win Rate [%]: 16.666666666666664\n",
      "Symbol: DOGEUSDT - Return [%]: -6.08 - # Trades: 9 - Win Rate [%]: 11.11111111111111\n",
      "Symbol: DOTUSDT - Return [%]: -7.18 - # Trades: 12 - Win Rate [%]: 8.333333333333332\n",
      "Symbol: SOLUSDT - Return [%]: -8.18 - # Trades: 13 - Win Rate [%]: 0.0\n",
      "Symbol: AVAXUSDT - Return [%]: -5.13 - # Trades: 12 - Win Rate [%]: 8.333333333333332\n",
      "Symbol: NEARUSDT - Return [%]: 0.33 - # Trades: 6 - Win Rate [%]: 33.33333333333333\n",
      "Symbol: FILUSDT - Return [%]: -4.08 - # Trades: 12 - Win Rate [%]: 16.666666666666664\n"
     ]
    }
   ],
   "source": [
    "import util\n",
    "from backtesting import Backtest\n",
    "import pandas_ta as ta\n",
    "import numpy as np\n",
    "\n",
    "lista = ['BTCUSDT', 'ETHUSDT', 'BCHUSDT', 'XRPUSDT', 'LTCUSDT', 'ETCUSDT', 'LINKUSDT', 'ADAUSDT', 'BNBUSDT', 'DOGEUSDT', 'DOTUSDT', \n",
    "         'SOLUSDT', 'AVAXUSDT', 'NEARUSDT', 'FILUSDT', 'MATICUSDT', 'OPUSDT', 'FETUSDT', 'AGIXUSDT', 'ARBUSDT',  \n",
    "         'SLPUSDT', 'MEMEUSDT',  '1000SATSUSDT', 'PIXELUSDT']\n",
    "#lista=['BTCUSDT']\n",
    "\n",
    "suma=0.0\n",
    "trades = 0\n",
    "timeframe='1h'\n",
    "limit= 1000\n",
    "\n",
    "print(f\"timeframe: {timeframe} - limit: {limit}\")\n",
    "for symbol in lista:\n",
    "    try:\n",
    "        data=util.obtiene_historial(symbol=symbol,timeframe=timeframe,limit=limit)    \n",
    "        data['sma200']=ta.sma(data.Close, length=200)\n",
    "        porcentaje_perdida = 1\n",
    "        ##    obligatorios   --->>>  trade, stop_loss, take_profit, porcentajeentrada\n",
    "        data['trade'] = np.where((data.Close.shift(-1) < data.Open.shift(-1))\n",
    "                                 & (data.Close.shift(-2) < data.Open.shift(-2))\n",
    "                                 & (data.Close.shift(-3) < data.Open.shift(-3))\n",
    "                                 & (data.Close > data.sma200)\n",
    "                                 ,1,0)\n",
    "        data['stop_loss'] = data.sma200\n",
    "        variacion_hasta_stop_loss = abs(((data.stop_loss/data.Close)-1)*100)\n",
    "        data['take_profit'] = np.where(data.trade==1,data.Close+(data.Close-data.sma200)*3,np.where(data.trade==-1,data.Close-(data.sma200-data.Close)*3,0))           \n",
    "        data['porcentajeentrada'] = np.where(((porcentaje_perdida/variacion_hasta_stop_loss))>=1,0.99,((porcentaje_perdida/variacion_hasta_stop_loss)))        ##\n",
    "        ###\n",
    "        bt = Backtest(data,util.backtesting_config,cash=1000000,exclusive_orders=True)\n",
    "        output = bt.run()\n",
    "        if len(lista)==1:\n",
    "            bt.plot(filename=\"graficos/\"+symbol)\n",
    "        print(f\"Symbol: {symbol} - Return [%]: {round(output['Return [%]'],2)} - # Trades: {output['# Trades']} - Win Rate [%]: {output['Win Rate [%]']}\")\n",
    "        suma=suma+output['Return [%]']\n",
    "        trades=trades+output['# Trades']\n",
    "    except Exception as e:\n",
    "        print(f\"Error en {symbol}: {e}\")\n",
    "print(f\"Suma total: {suma} - Trades total: {trades}\")"
   ]
  }
 ],
 "metadata": {
  "kernelspec": {
   "display_name": "Python 3 (ipykernel)",
   "language": "python",
   "name": "python3"
  },
  "language_info": {
   "codemirror_mode": {
    "name": "ipython",
    "version": 3
   },
   "file_extension": ".py",
   "mimetype": "text/x-python",
   "name": "python",
   "nbconvert_exporter": "python",
   "pygments_lexer": "ipython3",
   "version": "3.10.11"
  }
 },
 "nbformat": 4,
 "nbformat_minor": 5
}
