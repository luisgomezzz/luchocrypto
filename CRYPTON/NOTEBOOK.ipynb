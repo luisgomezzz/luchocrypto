{
 "cells": [
  {
   "cell_type": "code",
   "execution_count": 1,
   "id": "ccfccee5",
   "metadata": {},
   "outputs": [
    {
     "data": {
      "text/plain": [
       "Start                     2021-11-23 00:00:00\n",
       "End                       2024-08-18 00:00:00\n",
       "Duration                    999 days 00:00:00\n",
       "Exposure Time [%]                        85.9\n",
       "Equity Final [$]                     62218.25\n",
       "Equity Peak [$]                     137441.85\n",
       "Return [%]                          -37.78175\n",
       "Buy & Hold Return [%]                3.299862\n",
       "Return (Ann.) [%]                  -15.903099\n",
       "Volatility (Ann.) [%]               36.277857\n",
       "Sharpe Ratio                              0.0\n",
       "Sortino Ratio                             0.0\n",
       "Calmar Ratio                              0.0\n",
       "Max. Drawdown [%]                  -71.132046\n",
       "Avg. Drawdown [%]                  -15.633073\n",
       "Max. Drawdown Duration      736 days 00:00:00\n",
       "Avg. Drawdown Duration      120 days 00:00:00\n",
       "# Trades                                   48\n",
       "Win Rate [%]                        33.333333\n",
       "Best Trade [%]                      47.807188\n",
       "Worst Trade [%]                    -22.562526\n",
       "Avg. Trade [%]                        -1.6364\n",
       "Max. Trade Duration          64 days 00:00:00\n",
       "Avg. Trade Duration          18 days 00:00:00\n",
       "Profit Factor                        0.857914\n",
       "Expectancy [%]                      -0.742195\n",
       "SQN                                 -0.654407\n",
       "_strategy                            SmaCross\n",
       "_equity_curve                            E...\n",
       "_trades                       Size  EntryB...\n",
       "dtype: object"
      ]
     },
     "execution_count": 1,
     "metadata": {},
     "output_type": "execute_result"
    }
   ],
   "source": [
    "import util\n",
    "import pandas as pd\n",
    "\n",
    "symbol='BTCUSDT'\n",
    "timeframe='1d'\n",
    "data=util.obtiene_historial(symbol,timeframe)\n",
    "from backtesting import Backtest, Strategy\n",
    "from backtesting.lib import crossover\n",
    "import pandas_ta as ta\n",
    "\n",
    "def indicador(df_campo):\n",
    "    indi=pd.Series(df_campo)\n",
    "    return indi.to_numpy()\n",
    "\n",
    "class SmaCross(Strategy):\n",
    "    def init(self):\n",
    "        data['sma10'] = ta.sma(data.Close, length=10)\n",
    "        data['sma20'] = ta.sma(data.Close, length=20)\n",
    "        self.sma1 = self.I(indicador, data.sma10,name=\"sma10\", color=\"red\")\n",
    "        self.sma2 = self.I(indicador, data.sma20,name=\"sma20\", color=\"blue\")\n",
    "\n",
    "    def next(self):\n",
    "        if crossover(self.sma1, self.sma2):\n",
    "            self.buy()\n",
    "        elif crossover(self.sma2, self.sma1):\n",
    "            self.sell()\n",
    "\n",
    "bt = Backtest(data, SmaCross,\n",
    "              cash=100000, \n",
    "              exclusive_orders=True)\n",
    "\n",
    "output = bt.run()\n",
    "bt.plot()\n",
    "output"
   ]
  }
 ],
 "metadata": {
  "kernelspec": {
   "display_name": "Python 3 (ipykernel)",
   "language": "python",
   "name": "python3"
  },
  "language_info": {
   "codemirror_mode": {
    "name": "ipython",
    "version": 3
   },
   "file_extension": ".py",
   "mimetype": "text/x-python",
   "name": "python",
   "nbconvert_exporter": "python",
   "pygments_lexer": "ipython3",
   "version": "3.10.11"
  }
 },
 "nbformat": 4,
 "nbformat_minor": 5
}
