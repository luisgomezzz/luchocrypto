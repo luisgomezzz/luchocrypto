{
 "cells": [
  {
   "cell_type": "code",
   "execution_count": 1,
   "id": "9956db25",
   "metadata": {},
   "outputs": [
    {
     "name": "stdout",
     "output_type": "stream",
     "text": [
      "Symbol: ETHUSDT - Return [%]: 19.02 - # Trades: 9 - Win Rate [%]: 77.77777777777779\n",
      "Symbol: BCHUSDT - Return [%]: -3.05 - # Trades: 8 - Win Rate [%]: 12.5\n",
      "Symbol: XRPUSDT - Return [%]: -5.96 - # Trades: 11 - Win Rate [%]: 9.090909090909092\n",
      "Symbol: ADAUSDT - Return [%]: 7.99 - # Trades: 9 - Win Rate [%]: 44.44444444444444\n",
      "Symbol: FILUSDT - Return [%]: 8.08 - # Trades: 7 - Win Rate [%]: 57.14285714285714\n",
      "Symbol: MATICUSDT - Return [%]: 10.6 - # Trades: 6 - Win Rate [%]: 66.66666666666666\n",
      "Symbol: OPUSDT - Return [%]: 10.08 - # Trades: 11 - Win Rate [%]: 36.36363636363637\n",
      "Symbol: FETUSDT - Return [%]: 3.8 - # Trades: 11 - Win Rate [%]: 27.27272727272727\n",
      "Symbol: BTCUSDT - Return [%]: 12.91 - # Trades: 8 - Win Rate [%]: 62.5\n",
      "Suma total: 63.479551981207074 - Trades total: 80\n",
      "razon_max: 0.7934943997650884\n",
      "razon_max: 0.7934943997650884\n"
     ]
    }
   ],
   "source": [
    "#divergencias\n",
    "import util\n",
    "from backtesting import Backtest\n",
    "import estrategias as est\n",
    "\n",
    "lista = ['ETHUSDT','BCHUSDT','XRPUSDT','ADAUSDT','FILUSDT','MATICUSDT','OPUSDT','FETUSDT','BTCUSDT'] # lista acotada\n",
    "\n",
    "#lista=['XRPUSDT']\n",
    "\n",
    "timeframe = '1h'\n",
    "\n",
    "###\n",
    "razon_max = 0.0\n",
    "razon = 0.0\n",
    "suma = 0.0\n",
    "trades = 0\n",
    "for largo in [1]:\n",
    "    try:\n",
    "        suma = 0.0\n",
    "        trades = 0\n",
    "        razon = 0.0\n",
    "        for symbol in lista:\n",
    "            try:    \n",
    "                #data = est.estrategia_lucho (symbol,timeframe)\n",
    "                data = est.estrategia_adx (symbol,timeframe)\n",
    "                bt = Backtest(data,util.backtesting_config,cash=1000000,exclusive_orders=True)\n",
    "                output = bt.run()\n",
    "                if len(lista)==1:\n",
    "                    bt.plot(filename=\"graficos/\"+symbol)\n",
    "                print(f\"Symbol: {symbol} - Return [%]: {round(output['Return [%]'],2)} - # Trades: {output['# Trades']} - Win Rate [%]: {output['Win Rate [%]']}\")\n",
    "                suma=suma+output['Return [%]']\n",
    "                trades=trades+output['# Trades']\n",
    "            except Exception as e:\n",
    "                print(f\"Error en {symbol}: {e}\")\n",
    "        razon = suma/trades\n",
    "        if razon > razon_max:\n",
    "            razon_max = razon\n",
    "        print(f\"Suma total: {suma} - Trades total: {trades}\")\n",
    "        print(f\"razon_max: {razon_max}\")\n",
    "    except Exception as e:\n",
    "        print(f\"Error en {symbol}: {e}\")\n",
    "        print(f\"Suma total: {suma} - Trades total: {trades}\")\n",
    "        print(f\"razon_max: {razon_max}\")\n",
    "print(f\"razon_max: {razon_max}\")"
   ]
  }
 ],
 "metadata": {
  "kernelspec": {
   "display_name": "Python 3 (ipykernel)",
   "language": "python",
   "name": "python3"
  },
  "language_info": {
   "codemirror_mode": {
    "name": "ipython",
    "version": 3
   },
   "file_extension": ".py",
   "mimetype": "text/x-python",
   "name": "python",
   "nbconvert_exporter": "python",
   "pygments_lexer": "ipython3",
   "version": "3.10.11"
  }
 },
 "nbformat": 4,
 "nbformat_minor": 5
}
