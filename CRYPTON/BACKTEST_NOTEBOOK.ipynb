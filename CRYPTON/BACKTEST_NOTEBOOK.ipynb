{
 "cells": [
  {
   "cell_type": "code",
   "execution_count": 1,
   "id": "9956db25",
   "metadata": {},
   "outputs": [
    {
     "name": "stdout",
     "output_type": "stream",
     "text": [
      "length_sma: 50\n",
      "order: 550\n",
      "length_adx: 90\n",
      "Symbol: ETHUSDT - Return [%]: 4.63 - # Trades: 11 - Win Rate [%]: 36.36363636363637\n",
      "Symbol: BCHUSDT - Return [%]: 5.94 - # Trades: 10 - Win Rate [%]: 40.0\n",
      "Symbol: XRPUSDT - Return [%]: 6.58 - # Trades: 11 - Win Rate [%]: 45.45454545454545\n",
      "Symbol: ADAUSDT - Return [%]: 9.02 - # Trades: 10 - Win Rate [%]: 70.0\n",
      "Symbol: FILUSDT - Return [%]: 2.48 - # Trades: 7 - Win Rate [%]: 71.42857142857143\n",
      "Symbol: MATICUSDT - Return [%]: 9.64 - # Trades: 11 - Win Rate [%]: 54.54545454545454\n",
      "Symbol: OPUSDT - Return [%]: 11.56 - # Trades: 17 - Win Rate [%]: 52.94117647058824\n",
      "Symbol: FETUSDT - Return [%]: 8.67 - # Trades: 4 - Win Rate [%]: 75.0\n",
      "Symbol: BTCUSDT - Return [%]: 16.81 - # Trades: 14 - Win Rate [%]: 42.857142857142854\n",
      "Suma total: 75.32935936200118 - Trades total: 95 - razón: 0.7929406248631704 - order: 550 - length_adx: 90\n",
      "razon_max: 0.7929406248631704 - length_sma_max: 50 - order_max: 550 - length_adx_max: 90\n",
      "razon_max: 0.7929406248631704 - length_sma_max: 50 - order_max: 550 - length_adx_max: 90\n"
     ]
    }
   ],
   "source": [
    "#divergencias\n",
    "import util\n",
    "from backtesting import Backtest\n",
    "import estrategias as est\n",
    "\n",
    "lista = ['ETHUSDT','BCHUSDT','XRPUSDT','ADAUSDT','FILUSDT','MATICUSDT','OPUSDT','FETUSDT','BTCUSDT'] # lista acotada\n",
    "\n",
    "#lista=['BTCUSDT']\n",
    "\n",
    "timeframe = '1h'\n",
    "\n",
    "###\n",
    "razon_max = 0.0\n",
    "razon = 0.0\n",
    "suma = 0.0\n",
    "trades = 0\n",
    "length_sma_max = 0\n",
    "order_max = 0\n",
    "length_adx_max = 0\n",
    "for length_sma in [50]: #range(10,300,20):\n",
    "    print(f'length_sma: {length_sma}')    \n",
    "    for order in [550]: #range(200,3000,50):\n",
    "        print(f'order: {order}')    \n",
    "        for length_adx in [90]: #range(270,300,10):\n",
    "            print(f'length_adx: {length_adx}')   \n",
    "            try:\n",
    "                suma = 0.0\n",
    "                trades = 0\n",
    "                razon = 0.0\n",
    "                for symbol in lista:\n",
    "                    try:                \n",
    "                        #data = est.estrategia_lucho (symbol,timeframe)\n",
    "                        data = est.estrategia_adx (symbol,timeframe,length_sma,order,length_adx)\n",
    "                        bt = Backtest(data,util.backtesting_config,cash=1000000,exclusive_orders=True)\n",
    "                        output = bt.run()\n",
    "                        if len(lista)==1:\n",
    "                            bt.plot(filename=\"graficos/\"+symbol)\n",
    "                        print(f\"Symbol: {symbol} - Return [%]: {round(output['Return [%]'],2)} - # Trades: {output['# Trades']} - Win Rate [%]: {output['Win Rate [%]']}\")\n",
    "                        suma=suma+output['Return [%]']\n",
    "                        trades=trades+output['# Trades']\n",
    "                    except Exception as e:\n",
    "                        print(f\"Error en {symbol}: {e}\")\n",
    "                razon = suma/trades\n",
    "                if razon > razon_max:\n",
    "                    razon_max = razon\n",
    "                    length_sma_max = length_sma\n",
    "                    order_max = order\n",
    "                    length_adx_max = length_adx\n",
    "                print(f\"Suma total: {suma} - Trades total: {trades} - razón: {razon} - order: {order} - length_adx: {length_adx}\")\n",
    "                print(f\"razon_max: {razon_max} - length_sma_max: {length_sma_max} - order_max: {order_max} - length_adx_max: {length_adx_max}\")\n",
    "            except Exception as e:\n",
    "                print(f\"Error en {symbol}: {e}\")\n",
    "                print(f\"Suma total: {suma} - Trades total: {trades} - razón: {razon} - order: {order} - length_adx: {length_adx}\")\n",
    "                print(f\"razon_max: {razon_max} - length_max: {length_sma_max} - order_max: {order_max} - length_adx_max: {length_adx_max}\")\n",
    "print(f\"razon_max: {razon_max} - length_sma_max: {length_sma_max} - order_max: {order_max} - length_adx_max: {length_adx_max}\")"
   ]
  }
 ],
 "metadata": {
  "kernelspec": {
   "display_name": "Python 3 (ipykernel)",
   "language": "python",
   "name": "python3"
  },
  "language_info": {
   "codemirror_mode": {
    "name": "ipython",
    "version": 3
   },
   "file_extension": ".py",
   "mimetype": "text/x-python",
   "name": "python",
   "nbconvert_exporter": "python",
   "pygments_lexer": "ipython3",
   "version": "3.10.11"
  }
 },
 "nbformat": 4,
 "nbformat_minor": 5
}
