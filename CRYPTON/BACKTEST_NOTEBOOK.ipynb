{
 "cells": [
  {
   "cell_type": "code",
   "execution_count": 1,
   "id": "9956db25",
   "metadata": {},
   "outputs": [
    {
     "name": "stdout",
     "output_type": "stream",
     "text": [
      "timeframe: 1h - limit: 1000 - sma_length: 50 - sma_macd_length: 80\n",
      "Symbol: ETHUSDT - Return [%]: 5.64 - # Trades: 5 - Win Rate [%]: 40.0\n",
      "Symbol: BCHUSDT - Return [%]: 13.01 - # Trades: 3 - Win Rate [%]: 100.0\n",
      "Symbol: XRPUSDT - Return [%]: 0.68 - # Trades: 2 - Win Rate [%]: 50.0\n",
      "Symbol: LTCUSDT - Return [%]: 7.41 - # Trades: 3 - Win Rate [%]: 66.66666666666666\n",
      "Symbol: ETCUSDT - Return [%]: 6.64 - # Trades: 3 - Win Rate [%]: 66.66666666666666\n",
      "Symbol: LINKUSDT - Return [%]: 1.32 - # Trades: 1 - Win Rate [%]: 100.0\n",
      "Symbol: ADAUSDT - Return [%]: 0.73 - # Trades: 3 - Win Rate [%]: 66.66666666666666\n",
      "Symbol: BNBUSDT - Return [%]: 5.78 - # Trades: 2 - Win Rate [%]: 100.0\n",
      "Symbol: DOGEUSDT - Return [%]: -0.73 - # Trades: 2 - Win Rate [%]: 50.0\n",
      "Symbol: DOTUSDT - Return [%]: -0.42 - # Trades: 1 - Win Rate [%]: 0.0\n",
      "Symbol: SOLUSDT - Return [%]: 0.09 - # Trades: 1 - Win Rate [%]: 100.0\n",
      "Symbol: AVAXUSDT - Return [%]: 4.99 - # Trades: 2 - Win Rate [%]: 100.0\n",
      "Symbol: NEARUSDT - Return [%]: 2.02 - # Trades: 1 - Win Rate [%]: 100.0\n",
      "Symbol: FILUSDT - Return [%]: 3.6 - # Trades: 2 - Win Rate [%]: 100.0\n",
      "Symbol: MATICUSDT - Return [%]: 4.36 - # Trades: 2 - Win Rate [%]: 50.0\n",
      "Symbol: OPUSDT - Return [%]: 0.88 - # Trades: 3 - Win Rate [%]: 33.33333333333333\n",
      "Symbol: FETUSDT - Return [%]: 6.53 - # Trades: 2 - Win Rate [%]: 100.0\n",
      "Symbol: AGIXUSDT - Return [%]: 0.0 - # Trades: 0 - Win Rate [%]: nan\n",
      "Symbol: ARBUSDT - Return [%]: 0.39 - # Trades: 1 - Win Rate [%]: 100.0\n",
      "Symbol: SLPUSDT - Return [%]: 0.0 - # Trades: 0 - Win Rate [%]: nan\n",
      "Symbol: MEMEUSDT - Return [%]: -0.25 - # Trades: 1 - Win Rate [%]: 0.0\n",
      "Symbol: 1000SATSUSDT - Return [%]: 11.02 - # Trades: 5 - Win Rate [%]: 60.0\n",
      "Symbol: PIXELUSDT - Return [%]: 7.96 - # Trades: 3 - Win Rate [%]: 66.66666666666666\n",
      "Suma total: 81.65366933290686 - Trades total: 48\n",
      "razon_max: 1.7011181111022262 - sma_length_max: 50 - sma_macd_length_max: 80\n",
      "razon_max: 1.7011181111022262 - sma_length_max: 50 - sma_macd_length_max: 80\n"
     ]
    }
   ],
   "source": [
    "#divergencias\n",
    "import util\n",
    "from backtesting import Backtest\n",
    "import estrategias as est\n",
    "\n",
    "lista = ['ETHUSDT', 'BCHUSDT', 'XRPUSDT', 'LTCUSDT', 'ETCUSDT', 'LINKUSDT', 'ADAUSDT', 'BNBUSDT', 'DOGEUSDT', 'DOTUSDT', \n",
    "         'SOLUSDT', 'AVAXUSDT', 'NEARUSDT', 'FILUSDT', 'MATICUSDT', 'OPUSDT', 'FETUSDT', 'AGIXUSDT', 'ARBUSDT',  \n",
    "         'SLPUSDT', 'MEMEUSDT',  '1000SATSUSDT', 'PIXELUSDT']\n",
    "#lista=['ADAUSDT']\n",
    "\n",
    "suma = 0.0\n",
    "trades = 0\n",
    "timeframe = '1h'\n",
    "limit= 1000\n",
    "sma_length = 0\n",
    "sma_macd_length = 0\n",
    "###\n",
    "razon_max = 0.0\n",
    "sma_length_max = 0.0\n",
    "sma_macd_length_max = 0.0\n",
    "razon = 0.0\n",
    "for sma_length in [50]: #range(10,201,10): #\n",
    "    for sma_macd_length in [80]: #range(10,201,10): # \n",
    "        print(f\"timeframe: {timeframe} - limit: {limit} - sma_length: {sma_length} - sma_macd_length: {sma_macd_length}\")\n",
    "        suma = 0.0\n",
    "        trades = 0\n",
    "        razon = 0.0\n",
    "        for symbol in lista:\n",
    "            try:                \n",
    "                data=est.estrategia_divergencias (symbol,timeframe,limit,sma_length,sma_macd_length)\n",
    "                ###\n",
    "                bt = Backtest(data,util.backtesting_config,cash=1000000,exclusive_orders=True)\n",
    "                output = bt.run()\n",
    "                if len(lista)==1:\n",
    "                    bt.plot(filename=\"graficos/\"+symbol)\n",
    "                print(f\"Symbol: {symbol} - Return [%]: {round(output['Return [%]'],2)} - # Trades: {output['# Trades']} - Win Rate [%]: {output['Win Rate [%]']}\")\n",
    "                suma=suma+output['Return [%]']\n",
    "                trades=trades+output['# Trades']\n",
    "            except Exception as e:\n",
    "                print(f\"Error en {symbol}: {e}\")\n",
    "        razon = suma/trades\n",
    "        if razon > razon_max:\n",
    "            razon_max = razon\n",
    "            sma_length_max = sma_length\n",
    "            sma_macd_length_max = sma_macd_length\n",
    "        print(f\"Suma total: {suma} - Trades total: {trades}\")\n",
    "        print(f\"razon_max: {razon_max} - sma_length_max: {sma_length_max} - sma_macd_length_max: {sma_macd_length_max}\")\n",
    "print(f\"razon_max: {razon_max} - sma_length_max: {sma_length_max} - sma_macd_length_max: {sma_macd_length_max}\")"
   ]
  }
 ],
 "metadata": {
  "kernelspec": {
   "display_name": "Python 3 (ipykernel)",
   "language": "python",
   "name": "python3"
  },
  "language_info": {
   "codemirror_mode": {
    "name": "ipython",
    "version": 3
   },
   "file_extension": ".py",
   "mimetype": "text/x-python",
   "name": "python",
   "nbconvert_exporter": "python",
   "pygments_lexer": "ipython3",
   "version": "3.10.11"
  }
 },
 "nbformat": 4,
 "nbformat_minor": 5
}
