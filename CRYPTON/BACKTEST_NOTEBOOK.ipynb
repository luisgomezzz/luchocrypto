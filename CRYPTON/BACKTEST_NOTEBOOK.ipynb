{
 "cells": [
  {
   "cell_type": "code",
   "execution_count": 1,
   "id": "9956db25",
   "metadata": {},
   "outputs": [
    {
     "name": "stdout",
     "output_type": "stream",
     "text": [
      "timeframe: 1h - limit: 1000 - sma_length: 50 - sma_macd_length: 80\n",
      "Symbol: XRPUSDT - Return [%]: -0.32 - # Trades: 4 - Win Rate [%]: 25.0\n",
      "Suma total: -0.3238371349818772 - Trades total: 4\n",
      "razon_max: 0.0 - sma_length_max: 0.0 - sma_macd_length_max: 0.0\n",
      "razon_max: 0.0 - sma_length_max: 0.0 - sma_macd_length_max: 0.0\n"
     ]
    }
   ],
   "source": [
    "#divergencias\n",
    "import util\n",
    "from backtesting import Backtest\n",
    "import estrategias as est\n",
    "\n",
    "lista = ['ETHUSDT', 'BCHUSDT', 'XRPUSDT', 'LTCUSDT', 'ETCUSDT', 'LINKUSDT', 'ADAUSDT', 'BNBUSDT', 'DOGEUSDT', 'DOTUSDT', \n",
    "         'SOLUSDT', 'AVAXUSDT', 'NEARUSDT', 'FILUSDT', 'MATICUSDT', 'OPUSDT', 'FETUSDT', 'AGIXUSDT', 'ARBUSDT',  \n",
    "         'SLPUSDT', 'MEMEUSDT',  '1000SATSUSDT', 'PIXELUSDT'\n",
    "         ,'BNBUSDT' #no alcanza para crear la posicion\n",
    "         ,'BTCUSDT' #no alcanza para crear la posicion\n",
    "         ]\n",
    "lista=['XRPUSDT']\n",
    "\n",
    "suma = 0.0\n",
    "trades = 0\n",
    "timeframe = '1h'\n",
    "limit= 1000\n",
    "sma_length = 0\n",
    "sma_macd_length = 0\n",
    "###\n",
    "razon_max = 0.0\n",
    "sma_length_max = 0.0\n",
    "sma_macd_length_max = 0.0\n",
    "razon = 0.0\n",
    "for sma_length in [50]: #range(10,201,10): #\n",
    "    for sma_macd_length in [80]: #range(10,201,10): # \n",
    "        print(f\"timeframe: {timeframe} - limit: {limit} - sma_length: {sma_length} - sma_macd_length: {sma_macd_length}\")\n",
    "        suma = 0.0\n",
    "        trades = 0\n",
    "        razon = 0.0\n",
    "        for symbol in lista:\n",
    "            try:                \n",
    "                data=est.estrategia_divergencias (symbol,timeframe,limit,sma_length,sma_macd_length)\n",
    "                ###\n",
    "                bt = Backtest(data,util.backtesting_config,cash=1000000,exclusive_orders=True)\n",
    "                output = bt.run()\n",
    "                if len(lista)==1:\n",
    "                    bt.plot(filename=\"graficos/\"+symbol)\n",
    "                print(f\"Symbol: {symbol} - Return [%]: {round(output['Return [%]'],2)} - # Trades: {output['# Trades']} - Win Rate [%]: {output['Win Rate [%]']}\")\n",
    "                suma=suma+output['Return [%]']\n",
    "                trades=trades+output['# Trades']\n",
    "            except Exception as e:\n",
    "                print(f\"Error en {symbol}: {e}\")\n",
    "        razon = suma/trades\n",
    "        if razon > razon_max:\n",
    "            razon_max = razon\n",
    "            sma_length_max = sma_length\n",
    "            sma_macd_length_max = sma_macd_length\n",
    "        print(f\"Suma total: {suma} - Trades total: {trades}\")\n",
    "        print(f\"razon_max: {razon_max} - sma_length_max: {sma_length_max} - sma_macd_length_max: {sma_macd_length_max}\")\n",
    "print(f\"razon_max: {razon_max} - sma_length_max: {sma_length_max} - sma_macd_length_max: {sma_macd_length_max}\")"
   ]
  }
 ],
 "metadata": {
  "kernelspec": {
   "display_name": "Python 3 (ipykernel)",
   "language": "python",
   "name": "python3"
  },
  "language_info": {
   "codemirror_mode": {
    "name": "ipython",
    "version": 3
   },
   "file_extension": ".py",
   "mimetype": "text/x-python",
   "name": "python",
   "nbconvert_exporter": "python",
   "pygments_lexer": "ipython3",
   "version": "3.10.11"
  }
 },
 "nbformat": 4,
 "nbformat_minor": 5
}
