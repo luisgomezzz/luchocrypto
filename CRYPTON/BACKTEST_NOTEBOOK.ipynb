{
 "cells": [
  {
   "cell_type": "code",
   "execution_count": 5,
   "id": "9956db25",
   "metadata": {},
   "outputs": [
    {
     "name": "stdout",
     "output_type": "stream",
     "text": [
      "length_sma: 50\n",
      "order: 550\n",
      "length_adx: 90\n",
      "Error: 403 - <html>\n",
      "<head><title>403 Forbidden</title></head>\n",
      "<body>\n",
      "<center><h1>403 Forbidden</h1></center>\n",
      "</body>\n",
      "</html>\n",
      "\n",
      "Error en BTCUSDT: 'Volume'\n",
      "Error en BTCUSDT: OHLC `data` is empty\n",
      "Suma total: 0.0 - Trades total: 0 - razón: 0.0 - order: 550 - length_adx: 90\n",
      "razon_max: 0.0 - length_sma_max: 0 - order_max: 0 - length_adx_max: 0\n",
      "razon_max: 0.0 - length_sma_max: 0 - order_max: 0 - length_adx_max: 0\n"
     ]
    }
   ],
   "source": [
    "#divergencias\n",
    "import util\n",
    "from backtesting import Backtest\n",
    "import estrategias as est\n",
    "\n",
    "#lista = lista= util.lista_de_monedas ()\n",
    "\n",
    "lista = ['ETHUSDT','BCHUSDT','XRPUSDT','ADAUSDT','FILUSDT','MATICUSDT','OPUSDT','FETUSDT','BTCUSDT'] # lista acotada\n",
    "\n",
    "lista=['BTCUSDT']\n",
    "\n",
    "timeframe = '1h'\n",
    "\n",
    "###\n",
    "razon_max = 0.0\n",
    "razon = 0.0\n",
    "suma = 0.0\n",
    "trades = 0\n",
    "length_sma_max = 0\n",
    "order_max = 0\n",
    "length_adx_max = 0\n",
    "for length_sma in [50]: #range(10,300,20):\n",
    "    print(f'length_sma: {length_sma}')    \n",
    "    for order in [550]: #range(200,3000,50):\n",
    "        print(f'order: {order}')    \n",
    "        for length_adx in [90]: #range(270,300,10):\n",
    "            print(f'length_adx: {length_adx}')   \n",
    "            try:\n",
    "                suma = 0.0\n",
    "                trades = 0\n",
    "                razon = 0.0\n",
    "                for symbol in lista:\n",
    "                    try:                \n",
    "                        #data = est.estrategia_adx (symbol,timeframe,length_sma,order,length_adx,start_date='2023-09-01')\n",
    "                        data = est.estrategia_martillo (symbol,timeframe='15m',start_date='2024-10-01')\n",
    "                        bt = Backtest(data,util.backtesting_config,cash=1000000,exclusive_orders=True)\n",
    "                        output = bt.run()\n",
    "                        if len(lista)==1:\n",
    "                            bt.plot(filename=\"graficos/\"+symbol)\n",
    "                        print(f\"Symbol: {symbol} - Return [%]: {round(output['Return [%]'],2)} - # Trades: {output['# Trades']} - Win Rate [%]: {output['Win Rate [%]']}\")\n",
    "                        suma=suma+output['Return [%]']\n",
    "                        trades=trades+output['# Trades']\n",
    "                    except Exception as e:\n",
    "                        print(f\"Error en {symbol}: {e}\")\n",
    "                if trades>0:\n",
    "                    razon = suma/trades\n",
    "                if razon > razon_max:\n",
    "                    razon_max = razon\n",
    "                    length_sma_max = length_sma\n",
    "                    order_max = order\n",
    "                    length_adx_max = length_adx\n",
    "                print(f\"Suma total: {suma} - Trades total: {trades} - razón: {razon} - order: {order} - length_adx: {length_adx}\")\n",
    "                print(f\"razon_max: {razon_max} - length_sma_max: {length_sma_max} - order_max: {order_max} - length_adx_max: {length_adx_max}\")\n",
    "            except Exception as e:\n",
    "                print(f\"Error en {symbol}: {e}\")\n",
    "                print(f\"Suma total: {suma} - Trades total: {trades} - razón: {razon} - order: {order} - length_adx: {length_adx}\")\n",
    "                print(f\"razon_max: {razon_max} - length_max: {length_sma_max} - order_max: {order_max} - length_adx_max: {length_adx_max}\")\n",
    "print(f\"razon_max: {razon_max} - length_sma_max: {length_sma_max} - order_max: {order_max} - length_adx_max: {length_adx_max}\")"
   ]
  }
 ],
 "metadata": {
  "kernelspec": {
   "display_name": "Python 3",
   "language": "python",
   "name": "python3"
  },
  "language_info": {
   "codemirror_mode": {
    "name": "ipython",
    "version": 3
   },
   "file_extension": ".py",
   "mimetype": "text/x-python",
   "name": "python",
   "nbconvert_exporter": "python",
   "pygments_lexer": "ipython3",
   "version": "3.10.11"
  }
 },
 "nbformat": 4,
 "nbformat_minor": 5
}
