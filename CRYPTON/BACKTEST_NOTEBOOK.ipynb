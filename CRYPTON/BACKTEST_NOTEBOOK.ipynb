{
 "cells": [
  {
   "cell_type": "code",
   "execution_count": 1,
   "id": "9956db25",
   "metadata": {},
   "outputs": [
    {
     "name": "stdout",
     "output_type": "stream",
     "text": [
      "Symbol: ETHUSDT - Return [%]: 23.7 - # Trades: 34 - Win Rate [%]: 58.82352941176471\n",
      "Symbol: BCHUSDT - Return [%]: 16.41 - # Trades: 31 - Win Rate [%]: 51.61290322580645\n",
      "Symbol: XRPUSDT - Return [%]: 17.02 - # Trades: 32 - Win Rate [%]: 53.125\n",
      "Symbol: ADAUSDT - Return [%]: 19.1 - # Trades: 31 - Win Rate [%]: 58.06451612903226\n",
      "Symbol: FILUSDT - Return [%]: 15.94 - # Trades: 32 - Win Rate [%]: 53.125\n",
      "Symbol: MATICUSDT - Return [%]: 16.12 - # Trades: 34 - Win Rate [%]: 50.0\n",
      "Symbol: OPUSDT - Return [%]: 19.73 - # Trades: 31 - Win Rate [%]: 58.06451612903226\n",
      "Symbol: FETUSDT - Return [%]: 20.92 - # Trades: 28 - Win Rate [%]: 60.71428571428571\n",
      "Symbol: BTCUSDT - Return [%]: 17.89 - # Trades: 33 - Win Rate [%]: 54.54545454545454\n",
      "Suma total: 166.83533120393423 - Trades total: 286\n",
      "razon_max: 0.5833403188948749\n",
      "razon_max: 0.5833403188948749\n"
     ]
    }
   ],
   "source": [
    "#divergencias\n",
    "import util\n",
    "from backtesting import Backtest\n",
    "import estrategias as est\n",
    "\n",
    "lista = ['ETHUSDT','BCHUSDT','XRPUSDT','ADAUSDT','FILUSDT','MATICUSDT','OPUSDT','FETUSDT','BTCUSDT'] # lista acotada\n",
    "\n",
    "#lista=['XRPUSDT']\n",
    "\n",
    "timeframe = '1h'\n",
    "\n",
    "###\n",
    "razon_max = 0.0\n",
    "razon = 0.0\n",
    "suma = 0.0\n",
    "trades = 0\n",
    "for largo in [1]:\n",
    "    try:\n",
    "        suma = 0.0\n",
    "        trades = 0\n",
    "        razon = 0.0\n",
    "        for symbol in lista:\n",
    "            try:    \n",
    "                data = est.estrategia_lucho (symbol,timeframe)\n",
    "                bt = Backtest(data,util.backtesting_config,cash=1000000,exclusive_orders=True)\n",
    "                output = bt.run()\n",
    "                if len(lista)==1:\n",
    "                    bt.plot(filename=\"graficos/\"+symbol)\n",
    "                print(f\"Symbol: {symbol} - Return [%]: {round(output['Return [%]'],2)} - # Trades: {output['# Trades']} - Win Rate [%]: {output['Win Rate [%]']}\")\n",
    "                suma=suma+output['Return [%]']\n",
    "                trades=trades+output['# Trades']\n",
    "            except Exception as e:\n",
    "                print(f\"Error en {symbol}: {e}\")\n",
    "        razon = suma/trades\n",
    "        if razon > razon_max:\n",
    "            razon_max = razon\n",
    "        print(f\"Suma total: {suma} - Trades total: {trades}\")\n",
    "        print(f\"razon_max: {razon_max}\")\n",
    "    except Exception as e:\n",
    "        print(f\"Error en {symbol}: {e}\")\n",
    "        print(f\"Suma total: {suma} - Trades total: {trades}\")\n",
    "        print(f\"razon_max: {razon_max}\")\n",
    "print(f\"razon_max: {razon_max}\")"
   ]
  }
 ],
 "metadata": {
  "kernelspec": {
   "display_name": "Python 3 (ipykernel)",
   "language": "python",
   "name": "python3"
  },
  "language_info": {
   "codemirror_mode": {
    "name": "ipython",
    "version": 3
   },
   "file_extension": ".py",
   "mimetype": "text/x-python",
   "name": "python",
   "nbconvert_exporter": "python",
   "pygments_lexer": "ipython3",
   "version": "3.10.11"
  }
 },
 "nbformat": 4,
 "nbformat_minor": 5
}
