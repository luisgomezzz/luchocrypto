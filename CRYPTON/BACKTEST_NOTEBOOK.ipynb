{
 "cells": [
  {
   "cell_type": "code",
   "execution_count": 1,
   "id": "9956db25",
   "metadata": {},
   "outputs": [
    {
     "name": "stdout",
     "output_type": "stream",
     "text": [
      "timeframe: 1h - limit: 1000 - sma_length: 50 - sma_macd_length: 80\n",
      "Symbol: ETHUSDT - Return [%]: -1.0 - # Trades: 1 - Win Rate [%]: 0.0\n",
      "Symbol: BCHUSDT - Return [%]: -1.0 - # Trades: 1 - Win Rate [%]: 0.0\n",
      "Symbol: XRPUSDT - Return [%]: 1.01 - # Trades: 5 - Win Rate [%]: 40.0\n",
      "Symbol: LTCUSDT - Return [%]: 0.83 - # Trades: 7 - Win Rate [%]: 42.857142857142854\n",
      "Symbol: ETCUSDT - Return [%]: 1.67 - # Trades: 3 - Win Rate [%]: 66.66666666666666\n",
      "Symbol: LINKUSDT - Return [%]: 0.95 - # Trades: 3 - Win Rate [%]: 33.33333333333333\n",
      "Symbol: ADAUSDT - Return [%]: 4.66 - # Trades: 3 - Win Rate [%]: 66.66666666666666\n",
      "Symbol: BNBUSDT - Return [%]: 0.86 - # Trades: 3 - Win Rate [%]: 33.33333333333333\n",
      "Symbol: DOGEUSDT - Return [%]: 0.61 - # Trades: 1 - Win Rate [%]: 100.0\n",
      "Symbol: DOTUSDT - Return [%]: -1.62 - # Trades: 3 - Win Rate [%]: 33.33333333333333\n",
      "Symbol: SOLUSDT - Return [%]: 5.55 - # Trades: 5 - Win Rate [%]: 60.0\n",
      "Symbol: AVAXUSDT - Return [%]: 1.64 - # Trades: 3 - Win Rate [%]: 33.33333333333333\n",
      "Symbol: NEARUSDT - Return [%]: 6.44 - # Trades: 3 - Win Rate [%]: 66.66666666666666\n",
      "Symbol: FILUSDT - Return [%]: 5.37 - # Trades: 3 - Win Rate [%]: 66.66666666666666\n",
      "Symbol: MATICUSDT - Return [%]: 3.54 - # Trades: 3 - Win Rate [%]: 33.33333333333333\n",
      "Symbol: OPUSDT - Return [%]: 4.35 - # Trades: 5 - Win Rate [%]: 60.0\n",
      "Symbol: FETUSDT - Return [%]: 9.21 - # Trades: 4 - Win Rate [%]: 100.0\n",
      "Symbol: AGIXUSDT - Return [%]: 0.0 - # Trades: 0 - Win Rate [%]: nan\n",
      "Symbol: ARBUSDT - Return [%]: -0.22 - # Trades: 3 - Win Rate [%]: 33.33333333333333\n",
      "Symbol: SLPUSDT - Return [%]: 0.0 - # Trades: 0 - Win Rate [%]: nan\n",
      "Symbol: MEMEUSDT - Return [%]: 2.48 - # Trades: 3 - Win Rate [%]: 66.66666666666666\n",
      "Symbol: 1000SATSUSDT - Return [%]: 6.76 - # Trades: 7 - Win Rate [%]: 42.857142857142854\n",
      "Symbol: PIXELUSDT - Return [%]: 3.58 - # Trades: 3 - Win Rate [%]: 66.66666666666666\n",
      "Symbol: BNBUSDT - Return [%]: 0.86 - # Trades: 3 - Win Rate [%]: 33.33333333333333\n",
      "Symbol: BTCUSDT - Return [%]: 0.21 - # Trades: 3 - Win Rate [%]: 33.33333333333333\n",
      "Suma total: 56.74236852490606 - Trades total: 78\n",
      "razon_max: 0.7274662631398213 - sma_length_max: 50 - sma_macd_length_max: 80\n",
      "razon_max: 0.7274662631398213 - sma_length_max: 50 - sma_macd_length_max: 80\n"
     ]
    }
   ],
   "source": [
    "#divergencias\n",
    "import util\n",
    "from backtesting import Backtest\n",
    "import estrategias as est\n",
    "\n",
    "lista = ['ETHUSDT', 'BCHUSDT', 'XRPUSDT', 'LTCUSDT', 'ETCUSDT', 'LINKUSDT', 'ADAUSDT', 'BNBUSDT', 'DOGEUSDT', 'DOTUSDT', \n",
    "         'SOLUSDT', 'AVAXUSDT', 'NEARUSDT', 'FILUSDT', 'MATICUSDT', 'OPUSDT', 'FETUSDT', 'AGIXUSDT', 'ARBUSDT',  \n",
    "         'SLPUSDT', 'MEMEUSDT',  '1000SATSUSDT', 'PIXELUSDT'\n",
    "         ,'BNBUSDT' #no alcanza para crear la posicion\n",
    "         ,'BTCUSDT' #no alcanza para crear la posicion\n",
    "         ]\n",
    "#lista=['XRPUSDT']\n",
    "\n",
    "suma = 0.0\n",
    "trades = 0\n",
    "timeframe = '1h'\n",
    "limit= 1000\n",
    "sma_length = 0\n",
    "sma_macd_length = 0\n",
    "###\n",
    "razon_max = 0.0\n",
    "sma_length_max = 0.0\n",
    "sma_macd_length_max = 0.0\n",
    "razon = 0.0\n",
    "for sma_length in [50]: #range(10,201,10): #\n",
    "    for sma_macd_length in [80]: #range(10,201,10): # \n",
    "        print(f\"timeframe: {timeframe} - limit: {limit} - sma_length: {sma_length} - sma_macd_length: {sma_macd_length}\")\n",
    "        suma = 0.0\n",
    "        trades = 0\n",
    "        razon = 0.0\n",
    "        for symbol in lista:\n",
    "            try:                \n",
    "                data=est.estrategia_divergencias (symbol,timeframe,limit,sma_length,sma_macd_length)\n",
    "                ###\n",
    "                bt = Backtest(data,util.backtesting_config,cash=1000000,exclusive_orders=True)\n",
    "                output = bt.run()\n",
    "                if len(lista)==1:\n",
    "                    bt.plot(filename=\"graficos/\"+symbol)\n",
    "                print(f\"Symbol: {symbol} - Return [%]: {round(output['Return [%]'],2)} - # Trades: {output['# Trades']} - Win Rate [%]: {output['Win Rate [%]']}\")\n",
    "                suma=suma+output['Return [%]']\n",
    "                trades=trades+output['# Trades']\n",
    "            except Exception as e:\n",
    "                print(f\"Error en {symbol}: {e}\")\n",
    "        razon = suma/trades\n",
    "        if razon > razon_max:\n",
    "            razon_max = razon\n",
    "            sma_length_max = sma_length\n",
    "            sma_macd_length_max = sma_macd_length\n",
    "        print(f\"Suma total: {suma} - Trades total: {trades}\")\n",
    "        print(f\"razon_max: {razon_max} - sma_length_max: {sma_length_max} - sma_macd_length_max: {sma_macd_length_max}\")\n",
    "print(f\"razon_max: {razon_max} - sma_length_max: {sma_length_max} - sma_macd_length_max: {sma_macd_length_max}\")"
   ]
  },
  {
   "cell_type": "code",
   "execution_count": 3,
   "id": "47070da7",
   "metadata": {},
   "outputs": [
    {
     "name": "stdout",
     "output_type": "stream",
     "text": [
      "2024-09-10 17:02:38.940845\n"
     ]
    }
   ],
   "source": [
    "from datetime import datetime\n",
    "fecha_hora_actual = datetime.now()\n",
    "\n",
    "print(fecha_hora_actual)"
   ]
  }
 ],
 "metadata": {
  "kernelspec": {
   "display_name": "Python 3 (ipykernel)",
   "language": "python",
   "name": "python3"
  },
  "language_info": {
   "codemirror_mode": {
    "name": "ipython",
    "version": 3
   },
   "file_extension": ".py",
   "mimetype": "text/x-python",
   "name": "python",
   "nbconvert_exporter": "python",
   "pygments_lexer": "ipython3",
   "version": "3.10.11"
  }
 },
 "nbformat": 4,
 "nbformat_minor": 5
}
