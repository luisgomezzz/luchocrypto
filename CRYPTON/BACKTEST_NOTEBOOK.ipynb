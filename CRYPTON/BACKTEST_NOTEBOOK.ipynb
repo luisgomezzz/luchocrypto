{
 "cells": [
  {
   "cell_type": "code",
   "execution_count": 6,
   "id": "9956db25",
   "metadata": {},
   "outputs": [
    {
     "name": "stdout",
     "output_type": "stream",
     "text": [
      "timeframe: 1h - limit: 1000 - umbral: 20 - largo: 40\n",
      "Symbol: BTCUSDT - Return [%]: 5.42 - # Trades: 5 - Win Rate [%]: 60.0\n",
      "Suma total: 5.415004084962979 - Trades total: 5\n",
      "razon_max: 1.0830008169925958 - umbral_max: 20 - largo_max: 40\n",
      "razon_max: 1.0830008169925958 - umbral_max: 20 - largo_max: 40\n"
     ]
    }
   ],
   "source": [
    "#divergencias\n",
    "import util\n",
    "from backtesting import Backtest\n",
    "import estrategias as est\n",
    "\n",
    "lista = ['ETHUSDT', 'BCHUSDT', 'XRPUSDT', 'LTCUSDT', 'ETCUSDT', 'LINKUSDT', 'ADAUSDT', 'DOGEUSDT', 'DOTUSDT', \n",
    "         'SOLUSDT', 'AVAXUSDT', 'NEARUSDT', 'FILUSDT', 'MATICUSDT', 'OPUSDT', 'FETUSDT', 'AGIXUSDT', 'ARBUSDT',  \n",
    "         'SLPUSDT', 'MEMEUSDT',  '1000SATSUSDT', 'PIXELUSDT'\n",
    "         ,'BNBUSDT' \n",
    "         ,'BTCUSDT' \n",
    "         ]\n",
    "lista=['BTCUSDT']\n",
    "\n",
    "suma = 0.0\n",
    "trades = 0\n",
    "timeframe = '1h'\n",
    "limit= 1000\n",
    "umbral = 0\n",
    "largo = 0\n",
    "###\n",
    "razon_max = 0.0\n",
    "umbral_max = 0.0\n",
    "largo_max = 0.0\n",
    "razon = 0.0\n",
    "for umbral in [20]: #range(50,201,10): #\n",
    "    for largo in [40]: #range(10,201,10): # \n",
    "        try:\n",
    "            print(f\"timeframe: {timeframe} - limit: {limit} - umbral: {umbral} - largo: {largo}\")\n",
    "            suma = 0.0\n",
    "            trades = 0\n",
    "            razon = 0.0\n",
    "            for symbol in lista:\n",
    "                try:                \n",
    "                    data=est.estrategia_divergencias (symbol,timeframe,limit,50,80,umbral,largo)\n",
    "                    ###\n",
    "                    bt = Backtest(data,util.backtesting_config,cash=1000000,exclusive_orders=True)\n",
    "                    output = bt.run()\n",
    "                    if len(lista)==1:\n",
    "                        bt.plot(filename=\"graficos/\"+symbol)\n",
    "                    print(f\"Symbol: {symbol} - Return [%]: {round(output['Return [%]'],2)} - # Trades: {output['# Trades']} - Win Rate [%]: {output['Win Rate [%]']}\")\n",
    "                    suma=suma+output['Return [%]']\n",
    "                    trades=trades+output['# Trades']\n",
    "                except Exception as e:\n",
    "                    print(f\"Error en {symbol}: {e}\")\n",
    "            razon = suma/trades\n",
    "            if razon > razon_max:\n",
    "                razon_max = razon\n",
    "                umbral_max = umbral\n",
    "                largo_max = largo\n",
    "            print(f\"Suma total: {suma} - Trades total: {trades}\")\n",
    "            print(f\"razon_max: {razon_max} - umbral_max: {umbral_max} - largo_max: {largo_max}\")\n",
    "        except Exception as e:\n",
    "            print(f\"Error en {symbol}: {e}\")\n",
    "            print(f\"Suma total: {suma} - Trades total: {trades}\")\n",
    "            print(f\"razon_max: {razon_max} - umbral_max: {umbral_max} - largo_max: {largo_max}\")\n",
    "print(f\"razon_max: {razon_max} - umbral_max: {umbral_max} - largo_max: {largo_max}\")"
   ]
  }
 ],
 "metadata": {
  "kernelspec": {
   "display_name": "Python 3 (ipykernel)",
   "language": "python",
   "name": "python3"
  },
  "language_info": {
   "codemirror_mode": {
    "name": "ipython",
    "version": 3
   },
   "file_extension": ".py",
   "mimetype": "text/x-python",
   "name": "python",
   "nbconvert_exporter": "python",
   "pygments_lexer": "ipython3",
   "version": "3.10.11"
  }
 },
 "nbformat": 4,
 "nbformat_minor": 5
}
