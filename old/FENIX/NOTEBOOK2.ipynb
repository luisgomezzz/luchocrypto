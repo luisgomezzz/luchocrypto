{
 "cells": [
  {
   "cell_type": "code",
   "execution_count": 2,
   "metadata": {},
   "outputs": [
    {
     "name": "stdout",
     "output_type": "stream",
     "text": [
      "BTCUSDT\n",
      "ETHUSDT\n",
      "BCHUSDT\n",
      "XRPUSDT\n",
      "LTCUSDT\n",
      "ETCUSDT\n",
      "LINKUSDT\n",
      "ADAUSDT\n",
      "BNBUSDT\n",
      "DOGEUSDT\n",
      "DOTUSDT\n",
      "SOLUSDT\n",
      "AVAXUSDT\n",
      "NEARUSDT\n",
      "FILUSDT\n",
      "MATICUSDT\n",
      "OPUSDT\n",
      "FETUSDT\n",
      "AGIXUSDT\n",
      "ARBUSDT\n",
      "WLDUSDT\n",
      "ARKMUSDT\n",
      "SLPUSDT\n",
      "MEMEUSDT\n",
      "ORDIUSDT\n",
      "1000SATSUSDT\n",
      "PIXELUSDT\n",
      "GLMUSDT\n"
     ]
    }
   ],
   "source": [
    "import pandas as pd\n",
    "import modulos as md\n",
    "import os\n",
    "\n",
    "# Lista de criptomonedas\n",
    "lista = ['BTCUSDT', 'ETHUSDT', 'BCHUSDT', 'XRPUSDT', 'LTCUSDT', 'ETCUSDT', 'LINKUSDT', 'ADAUSDT', 'BNBUSDT', 'DOGEUSDT', 'DOTUSDT', 'SOLUSDT', 'AVAXUSDT', 'NEARUSDT', 'FILUSDT', 'MATICUSDT', 'OPUSDT', 'FETUSDT', 'AGIXUSDT', 'ARBUSDT', 'WLDUSDT', 'ARKMUSDT', 'SLPUSDT', 'MEMEUSDT', 'ORDIUSDT', '1000SATSUSDT', 'PIXELUSDT', 'GLMUSDT']\n",
    "\n",
    "# Para cada criptomoneda en la lista, obtener su historial y escribirlo en una hoja de cálculo separada\n",
    "for cripto in lista:\n",
    "    # Obtener historial de la criptomoneda\n",
    "    print(cripto)\n",
    "    \n"
   ]
  }
 ],
 "metadata": {
  "kernelspec": {
   "display_name": "Python 3",
   "language": "python",
   "name": "python3"
  },
  "language_info": {
   "codemirror_mode": {
    "name": "ipython",
    "version": 3
   },
   "file_extension": ".py",
   "mimetype": "text/x-python",
   "name": "python",
   "nbconvert_exporter": "python",
   "pygments_lexer": "ipython3",
   "version": "3.10.11"
  }
 },
 "nbformat": 4,
 "nbformat_minor": 2
}
