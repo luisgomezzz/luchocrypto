{
 "cells": [
  {
   "cell_type": "code",
   "execution_count": 3,
   "id": "b29811c3",
   "metadata": {
    "scrolled": false
   },
   "outputs": [
    {
     "name": "stderr",
     "output_type": "stream",
     "text": [
      "BokehDeprecationWarning: Passing lists of formats for DatetimeTickFormatter scales was deprecated in Bokeh 3.0. Configure a single string format for each scale\n",
      "C:\\Users\\Luis Gomez Freites\\AppData\\Local\\Packages\\PythonSoftwareFoundation.Python.3.10_qbz5n2kfra8p0\\LocalCache\\local-packages\\Python310\\site-packages\\backtesting\\_plotting.py:250: UserWarning: DatetimeFormatter scales now only accept a single format. Using the first provided: '%d %b'\n",
      "  formatter=DatetimeTickFormatter(days=['%d %b', '%a %d'],\n",
      "BokehDeprecationWarning: Passing lists of formats for DatetimeTickFormatter scales was deprecated in Bokeh 3.0. Configure a single string format for each scale\n",
      "C:\\Users\\Luis Gomez Freites\\AppData\\Local\\Packages\\PythonSoftwareFoundation.Python.3.10_qbz5n2kfra8p0\\LocalCache\\local-packages\\Python310\\site-packages\\backtesting\\_plotting.py:250: UserWarning: DatetimeFormatter scales now only accept a single format. Using the first provided: '%m/%Y'\n",
      "  formatter=DatetimeTickFormatter(days=['%d %b', '%a %d'],\n"
     ]
    },
    {
     "data": {
      "text/plain": [
       "Start                     2023-06-04 08:30:00\n",
       "End                       2023-06-08 12:00:00\n",
       "Duration                      4 days 03:30:00\n",
       "Exposure Time [%]                        89.5\n",
       "Equity Final [$]                  1001.768694\n",
       "Equity Peak [$]                   1002.608694\n",
       "Return [%]                           0.176869\n",
       "Buy & Hold Return [%]              -16.214233\n",
       "Return (Ann.) [%]                    6.462517\n",
       "Volatility (Ann.) [%]                2.188807\n",
       "Sharpe Ratio                         2.952529\n",
       "Sortino Ratio                        5.511691\n",
       "Calmar Ratio                        24.176776\n",
       "Max. Drawdown [%]                   -0.267303\n",
       "Avg. Drawdown [%]                   -0.045338\n",
       "Max. Drawdown Duration        2 days 15:00:00\n",
       "Avg. Drawdown Duration        0 days 09:17:00\n",
       "# Trades                                   12\n",
       "Win Rate [%]                        91.666667\n",
       "Best Trade [%]                       2.333982\n",
       "Worst Trade [%]                     -3.219028\n",
       "Avg. Trade [%]                       0.550618\n",
       "Max. Trade Duration           2 days 17:00:00\n",
       "Avg. Trade Duration           0 days 06:58:00\n",
       "Profit Factor                        3.082604\n",
       "Expectancy [%]                       0.558663\n",
       "SQN                                  1.714907\n",
       "_strategy                          Predictor2\n",
       "_equity_curve                             ...\n",
       "_trades                       Size  EntryB...\n",
       "dtype: object"
      ]
     },
     "execution_count": 3,
     "metadata": {},
     "output_type": "execute_result"
    }
   ],
   "source": [
    "import util as ut\n",
    "import constantes as cons\n",
    "from backtesting import Backtest, Strategy\n",
    "import numpy as np\n",
    "symbol =  str.upper('cfx'+'USDT')\n",
    "\n",
    "data = ut.estrategia(symbol,path='modelos/lstm')\n",
    "\n",
    "## BACKTESTING\n",
    "class Predictor2(Strategy):\n",
    "    def init(self):\n",
    "        pass\n",
    "   \n",
    "    def next(self):\n",
    "        if not self.position:\n",
    "            if self.data.signal[-1] ==1:\n",
    "                self.buy(size=100, sl=self.data.stop_loss[-1] , tp=self.data.take_profit[-1])\n",
    "            elif self.data.signal[-1] ==-1:\n",
    "                self.sell(size=100, sl=self.data.stop_loss[-1] , tp=self.data.take_profit[-1])\n",
    "        else:\n",
    "            pass\n",
    "\n",
    "bt = Backtest(data, Predictor2, cash=1000, commission=.002, exclusive_orders=True)\n",
    "\n",
    "output = bt.run()\n",
    "bt.plot()\n",
    "output\n",
    "\n"
   ]
  },
  {
   "cell_type": "code",
   "execution_count": null,
   "id": "552fd173",
   "metadata": {},
   "outputs": [],
   "source": []
  }
 ],
 "metadata": {
  "kernelspec": {
   "display_name": "Python 3 (ipykernel)",
   "language": "python",
   "name": "python3"
  },
  "language_info": {
   "codemirror_mode": {
    "name": "ipython",
    "version": 3
   },
   "file_extension": ".py",
   "mimetype": "text/x-python",
   "name": "python",
   "nbconvert_exporter": "python",
   "pygments_lexer": "ipython3",
   "version": "3.10.11"
  }
 },
 "nbformat": 4,
 "nbformat_minor": 5
}
